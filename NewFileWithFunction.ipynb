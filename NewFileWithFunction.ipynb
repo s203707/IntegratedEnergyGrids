{
 "cells": [
  {
   "cell_type": "code",
   "execution_count": 129,
   "metadata": {},
   "outputs": [],
   "source": [
    "import pandas as pd\n",
    "import pypsa\n",
    "import urllib3\n",
    "import plotly.graph_objects as go\n",
    "urllib3.disable_warnings()"
   ]
  },
  {
   "cell_type": "code",
   "execution_count": 130,
   "metadata": {},
   "outputs": [],
   "source": [
    "# Load Technology data\n",
    "year = 2025\n",
    "url = f\"https://raw.githubusercontent.com/PyPSA/technology-data/master/outputs/costs_{year}.csv\"\n",
    "costs = pd.read_csv(url, index_col=[0, 1])\n",
    "\n",
    "costs.loc[costs.unit.str.contains(\"/kW\"), \"value\"] *= 1e3\n",
    "costs.unit = costs.unit.str.replace(\"/kW\", \"/MW\")\n",
    "\n",
    "defaults = {\n",
    "    \"FOM\": 0,\n",
    "    \"VOM\": 0,\n",
    "    \"efficiency\": 1,\n",
    "    \"fuel\": 0,\n",
    "    \"investment\": 0,\n",
    "    \"lifetime\": 25,\n",
    "    \"CO2 intensity\": 0,\n",
    "    \"discount rate\": 0.07,\n",
    "}\n",
    "costs = costs.value.unstack().fillna(defaults)\n",
    "\n",
    "costs.at[\"OCGT\", \"fuel\"] = costs.at[\"gas\", \"fuel\"]\n",
    "costs.at[\"OCGT\", \"CO2 intensity\"] = costs.at[\"gas\", \"CO2 intensity\"]\n",
    "\n",
    "costs[\"marginal_cost\"] = costs[\"VOM\"] + costs[\"fuel\"] / costs[\"efficiency\"]\n"
   ]
  },
  {
   "cell_type": "code",
   "execution_count": 131,
   "metadata": {},
   "outputs": [],
   "source": [
    "def annuity(n,r):\n",
    "    \"\"\" Calculate the annuity factor for an asset with lifetime n years and\n",
    "    discount rate  r \"\"\"\n",
    "\n",
    "    if r > 0:\n",
    "        return r/(1. - 1./(1.+r)**n)\n",
    "    else:\n",
    "        return 1/n\n"
   ]
  },
  {
   "cell_type": "code",
   "execution_count": 132,
   "metadata": {},
   "outputs": [],
   "source": [
    "annuity = costs.apply(lambda x: annuity(x[\"discount rate\"], x[\"lifetime\"]), axis=1)\n",
    "costs[\"capital_cost\"] = (annuity + costs[\"FOM\"] / 100) * costs[\"investment\"]"
   ]
  },
  {
   "cell_type": "code",
   "execution_count": 133,
   "metadata": {},
   "outputs": [],
   "source": [
    "network = pypsa.Network()"
   ]
  },
  {
   "cell_type": "code",
   "execution_count": null,
   "metadata": {},
   "outputs": [],
   "source": [
    "def optimizer(year):\n",
    "    hours_in_year = pd.date_range(f'{year}-01-01 00:00Z',\n",
    "                                f'{year}-12-31 23:00Z',\n",
    "                                freq='h')\n",
    "\n",
    "    network.set_snapshots(hours_in_year.values)\n",
    "\n",
    "    network.add(\"Bus\",\n",
    "                \"electricity bus\")\n",
    "\n",
    "    # load electricity demand data\n",
    "    df_elec = pd.read_csv('data/electricity_demand.csv', sep=';', index_col=0) # in MWh\n",
    "    df_elec.index = pd.to_datetime(df_elec.index) #change index to datatime\n",
    "    country='IRL'\n",
    "    print(df_elec[country].head())\n",
    "\n",
    "    # add load to the bus\n",
    "    network.add(\"Load\",\n",
    "        \"load\",\n",
    "        bus=\"electricity bus\",\n",
    "        p_set=df_elec[country].values)\n",
    "    \n",
    "\n",
    "    # add the different carriers, only gas emits CO2\n",
    "    network.add(\"Carrier\", \"gas\", co2_emissions= costs.at[\"gas\", \"CO2 intensity\"]) # in t_CO2/MWh_th\n",
    "    network.add(\"Carrier\", \"onshorewind\")\n",
    "    network.add(\"Carrier\", \"solar\")\n",
    "    network.add(\"Carrier\", \"coal\", co2_emissions = costs.at[\"coal\", \"CO2 intensity\"]) # in t_CO2/MWh_th\n",
    "    network.add(\"Carrier\", \"biomass\", co2_emissions = costs.at[\"biomass\", \"CO2 intensity\"]) # in t_CO2/MWh_th\n",
    "    network.add(\"Carrier\", \"oil\", co2_emissions = costs.at[\"oil\", \"CO2 intensity\"]) # in t_CO2/MWh_th\n",
    "    network.add(\"Carrier\", \"offshorewind\")\n",
    "\n",
    "    # add onshore wind generator\n",
    "    df_onshorewind = pd.read_csv('data/onshore_wind_1979-2017.csv', sep=';', index_col=0)\n",
    "    df_onshorewind.index = pd.to_datetime(df_onshorewind.index)\n",
    "    CF_wind = df_onshorewind[country][[hour.strftime(\"%Y-%m-%dT%H:%M:%SZ\") for hour in network.snapshots]]\n",
    "    network.add(\"Generator\",\n",
    "                \"onshorewind\",\n",
    "                bus=\"electricity bus\",\n",
    "                p_nom_extendable=True,\n",
    "                carrier=\"onshorewind\",\n",
    "                p_nom_max=4810-25.2, # maximum capacity can be limited due to environmental constraints. Based on electricity maps - minus the off shore wind capacity\n",
    "                capital_cost = costs.at[\"onwind\", \"capital_cost\"], # in €/MW\n",
    "                marginal_cost = 0,\n",
    "                p_max_pu = CF_wind.values,\n",
    "                overwrite=True)\n",
    "\n",
    "    # add solar PV generator\n",
    "    df_solar = pd.read_csv('data/pv_optimal.csv', sep=';', index_col=0)\n",
    "    df_solar.index = pd.to_datetime(df_solar.index)\n",
    "    CF_solar = df_solar[country][[hour.strftime(\"%Y-%m-%dT%H:%M:%SZ\") for hour in network.snapshots]]\n",
    "    network.add(\"Generator\",\n",
    "                \"solar\",\n",
    "                bus=\"electricity bus\",\n",
    "                p_nom_extendable=True,\n",
    "                carrier=\"solar\",\n",
    "                p_nom_max = 740, # maximum capacity can be limited due to environmental constraints Based on electricity maps\n",
    "                capital_cost = costs.at[\"solar\", \"capital_cost\"], # in €/MW\n",
    "                marginal_cost = 0,\n",
    "                p_max_pu = CF_solar.values,\n",
    "                overwrite=True)\n",
    "\n",
    "    # add OCGT (Open Cycle Gas Turbine) generator\n",
    "    network.add(\"Generator\",\n",
    "                \"OCGT\",\n",
    "                bus=\"electricity bus\",\n",
    "                p_nom_extendable=True,\n",
    "                carrier=\"gas\",\n",
    "                p_nom_max=4270, #based on electricity maps\n",
    "                capital_cost = costs.at[\"OCGT\", \"capital_cost\"], #in €/MW\n",
    "                marginal_cost = costs.at[\"OCGT\", \"marginal_cost\"],\n",
    "                overwrite=True)\n",
    "\n",
    "    # add Coal generator\n",
    "    network.add(\"Generator\",\n",
    "                \"Coal\",\n",
    "                bus=\"electricity bus\",\n",
    "                p_nom_extendable=True,\n",
    "                carrier=\"coal\",\n",
    "                p_nom_max=920, #based on electricity maps\n",
    "                capital_cost = costs.at[\"coal\", \"capital_cost\"], #in €/MW\n",
    "                marginal_cost = costs.at[\"coal\", \"marginal_cost\"],\n",
    "                overwrite=True)\n",
    "\n",
    "    # add biomass generator\n",
    "    network.add(\"Generator\",\n",
    "                \"Biomass\",\n",
    "                bus=\"electricity bus\",\n",
    "                p_nom_extendable=True,\n",
    "                carrier=\"biomass\",\n",
    "                p_nom_max=70, #based on electricity maps \n",
    "                capital_cost = costs.at[\"biomass\", \"capital_cost\"], #in €/MW\n",
    "                marginal_cost = costs.at[\"biomass\", \"marginal_cost\"],\n",
    "                overwrite=True)\n",
    "\n",
    "    # add oil generator\n",
    "    network.add(\"Generator\",\n",
    "                \"Oil\",\n",
    "                bus=\"electricity bus\",\n",
    "                p_nom_extendable=True,\n",
    "                carrier=\"oil\",\n",
    "                p_nom_max=830, #based on electricity maps\n",
    "                capital_cost = costs.at[\"oil\", \"capital_cost\"], #in €/MW\n",
    "                marginal_cost = costs.at[\"oil\", \"marginal_cost\"],\n",
    "                overwrite=True)\n",
    "\n",
    "    # add offshore wind generator\n",
    "    df_offshorewind = pd.read_csv('data/offshore_wind_1979-2017.csv', sep=';', index_col=0)\n",
    "    df_offshorewind.index = pd.to_datetime(df_offshorewind.index)\n",
    "    CF_offshorewind = df_offshorewind[country][[hour.strftime(\"%Y-%m-%dT%H:%M:%SZ\") for hour in network.snapshots]]\n",
    "    network.add(\"Generator\",\n",
    "                \"offshorewind\",\n",
    "                bus=\"electricity bus\",\n",
    "                p_nom_extendable=True,\n",
    "                carrier=\"offshorewind\",\n",
    "                p_nom_max=25.2, # maximum capacity can be limited due to environmental constraints. #Ireland doesnt have offshore wind today, but are proposing to install 5GW soon\n",
    "                capital_cost = costs.at[\"offwind\", \"capital_cost\"], # in €/MW\n",
    "                marginal_cost = 0,\n",
    "                p_max_pu = CF_offshorewind.values,\n",
    "                overwrite=True)\n",
    "    \n",
    "\n",
    "    #Optimization\n",
    "    network.optimize(solver_name='gurobi', solver_options={'OutputFlag': 0})\n",
    "\n",
    "\n",
    "    objective = network.objective\n",
    "    capacities = network.generators.p_nom_opt #in MW\n",
    "    loadConsumption = network.loads_t.p\n",
    "    generation = network.generators_t.p\n",
    "    snapshots = network.snapshots\n",
    "    \n",
    "    \n",
    "    \n",
    "\n",
    "    return objective, capacities, loadConsumption, generation, snapshots, status\n",
    "\n",
    "\n"
   ]
  },
  {
   "cell_type": "code",
   "execution_count": 135,
   "metadata": {},
   "outputs": [
    {
     "name": "stdout",
     "output_type": "stream",
     "text": [
      "utc_time\n",
      "2015-01-01 00:00:00+00:00    2651.0\n",
      "2015-01-01 01:00:00+00:00    2412.0\n",
      "2015-01-01 02:00:00+00:00    2256.0\n",
      "2015-01-01 03:00:00+00:00    2170.0\n",
      "2015-01-01 04:00:00+00:00    2136.0\n",
      "Name: IRL, dtype: float64\n"
     ]
    },
    {
     "name": "stderr",
     "output_type": "stream",
     "text": [
      "WARNING:pypsa.consistency:The following buses have carriers which are not defined:\n",
      "Index(['electricity bus'], dtype='object', name='Bus')\n",
      "INFO:linopy.model: Solve problem using Gurobi solver\n",
      "INFO:linopy.model:Solver options:\n",
      " - OutputFlag: 0\n",
      "INFO:linopy.io:Writing objective.\n",
      "Writing constraints.: 100%|\u001b[38;2;128;191;255m██████████\u001b[0m| 5/5 [00:00<00:00, 24.25it/s]\n",
      "Writing continuous variables.: 100%|\u001b[38;2;128;191;255m██████████\u001b[0m| 2/2 [00:00<00:00, 53.26it/s]\n",
      "INFO:linopy.io: Writing time: 0.27s\n"
     ]
    },
    {
     "name": "stdout",
     "output_type": "stream",
     "text": [
      "Set parameter Username\n"
     ]
    },
    {
     "name": "stderr",
     "output_type": "stream",
     "text": [
      "INFO:gurobipy:Set parameter Username\n"
     ]
    },
    {
     "name": "stdout",
     "output_type": "stream",
     "text": [
      "Academic license - for non-commercial use only - expires 2025-10-16\n"
     ]
    },
    {
     "name": "stderr",
     "output_type": "stream",
     "text": [
      "INFO:gurobipy:Academic license - for non-commercial use only - expires 2025-10-16\n"
     ]
    },
    {
     "name": "stdout",
     "output_type": "stream",
     "text": [
      "Read LP format model from file /private/var/folders/j2/tx7xgp1d11n3lnbvkls0cjsw0000gn/T/linopy-problem-36ei3qvv.lp\n"
     ]
    },
    {
     "name": "stderr",
     "output_type": "stream",
     "text": [
      "INFO:gurobipy:Read LP format model from file /private/var/folders/j2/tx7xgp1d11n3lnbvkls0cjsw0000gn/T/linopy-problem-36ei3qvv.lp\n"
     ]
    },
    {
     "name": "stdout",
     "output_type": "stream",
     "text": [
      "Reading time = 0.15 seconds\n"
     ]
    },
    {
     "name": "stderr",
     "output_type": "stream",
     "text": [
      "INFO:gurobipy:Reading time = 0.15 seconds\n"
     ]
    },
    {
     "name": "stdout",
     "output_type": "stream",
     "text": [
      "obj: 131414 rows, 61327 columns, 240914 nonzeros\n"
     ]
    },
    {
     "name": "stderr",
     "output_type": "stream",
     "text": [
      "INFO:gurobipy:obj: 131414 rows, 61327 columns, 240914 nonzeros\n",
      "INFO:linopy.constants: Optimization successful: \n",
      "Status: ok\n",
      "Termination condition: optimal\n",
      "Solution: 61327 primals, 131414 duals\n",
      "Objective: 2.60e+11\n",
      "Solver model: available\n",
      "Solver message: 2\n",
      "\n",
      "INFO:pypsa.optimization.optimize:The shadow-prices of the constraints Generator-ext-p-lower, Generator-ext-p-upper were not assigned to the network.\n"
     ]
    },
    {
     "ename": "AttributeError",
     "evalue": "'Network' object has no attribute 'lopf_status'",
     "output_type": "error",
     "traceback": [
      "\u001b[0;31m---------------------------------------------------------------------------\u001b[0m",
      "\u001b[0;31mAttributeError\u001b[0m                            Traceback (most recent call last)",
      "Cell \u001b[0;32mIn[135], line 1\u001b[0m\n\u001b[0;32m----> 1\u001b[0m objective, capacities, loadConsumption, generation, snapshot, status \u001b[38;5;241m=\u001b[39m \u001b[43moptimizer\u001b[49m\u001b[43m(\u001b[49m\u001b[38;5;241;43m2015\u001b[39;49m\u001b[43m)\u001b[49m\n",
      "Cell \u001b[0;32mIn[134], line 134\u001b[0m, in \u001b[0;36moptimizer\u001b[0;34m(year)\u001b[0m\n\u001b[1;32m    131\u001b[0m snapshots \u001b[38;5;241m=\u001b[39m network\u001b[38;5;241m.\u001b[39msnapshots\n\u001b[1;32m    133\u001b[0m \u001b[38;5;66;03m#print whether the optimization was successful\u001b[39;00m\n\u001b[0;32m--> 134\u001b[0m status \u001b[38;5;241m=\u001b[39m \u001b[43mnetwork\u001b[49m\u001b[38;5;241;43m.\u001b[39;49m\u001b[43mlopf_status\u001b[49m\n\u001b[1;32m    137\u001b[0m \u001b[38;5;28;01mreturn\u001b[39;00m objective, capacities, loadConsumption, generation, snapshots, status\n",
      "\u001b[0;31mAttributeError\u001b[0m: 'Network' object has no attribute 'lopf_status'"
     ]
    }
   ],
   "source": [
    "objective, capacities, loadConsumption, generation, snapshot, status = optimizer(2015)"
   ]
  },
  {
   "cell_type": "code",
   "execution_count": null,
   "metadata": {},
   "outputs": [],
   "source": [
    "status"
   ]
  },
  {
   "cell_type": "code",
   "execution_count": null,
   "metadata": {},
   "outputs": [],
   "source": [
    "def plot_dispatch_winter():\n",
    "    fig = go.Figure()\n",
    "\n",
    "    fig.add_trace(go.Scatter(x=snapshot[:96], y=loadConsumption['load'][:96], mode='lines', name='demand', line=dict(color='black')))\n",
    "    fig.add_trace(go.Scatter(x=snapshot[:96], y=generation['onshorewind'][:96], mode='lines', name='onshore wind', line=dict(color='blue')))\n",
    "    fig.add_trace(go.Scatter(x=snapshot[:96], y=generation['solar'][:96], mode='lines', name='solar', line=dict(color='orange')))\n",
    "    fig.add_trace(go.Scatter(x=snapshot[:96], y=generation['OCGT'][:96], mode='lines', name='gas (OCGT)', line=dict(color='brown')))\n",
    "    fig.add_trace(go.Scatter(x=snapshot[:96], y=generation['Coal'][:96], mode='lines', name='coal', line=dict(color='grey')))\n",
    "    fig.add_trace(go.Scatter(x=snapshot[:96], y=generation['Biomass'][:96], mode='lines', name='biomass', line=dict(color='green')))\n",
    "    fig.add_trace(go.Scatter(x=snapshot[:96], y=generation['Oil'][:96], mode='lines', name='oil', line=dict(color='black')))\n",
    "    fig.add_trace(go.Scatter(x=snapshot[:96], y=generation['offshorewind'][:96], mode='lines', name='offshore wind', line=dict(color='purple')))\n",
    "\n",
    "    fig.update_layout(title='Electricity Dispatch Week 1 2015',\n",
    "                    xaxis_title='Time',\n",
    "                    yaxis_title='Power (MW)',\n",
    "                    legend=dict(x=0, y=1, traceorder='normal'))\n",
    "\n",
    "    fig.show()"
   ]
  },
  {
   "cell_type": "code",
   "execution_count": null,
   "metadata": {},
   "outputs": [
    {
     "data": {
      "application/vnd.plotly.v1+json": {
       "config": {
        "plotlyServerURL": "https://plot.ly"
       },
       "data": [
        {
         "line": {
          "color": "black"
         },
         "mode": "lines",
         "name": "demand",
         "type": "scatter",
         "x": [
          "2015-01-01T00:00:00.000000000",
          "2015-01-01T01:00:00.000000000",
          "2015-01-01T02:00:00.000000000",
          "2015-01-01T03:00:00.000000000",
          "2015-01-01T04:00:00.000000000",
          "2015-01-01T05:00:00.000000000",
          "2015-01-01T06:00:00.000000000",
          "2015-01-01T07:00:00.000000000",
          "2015-01-01T08:00:00.000000000",
          "2015-01-01T09:00:00.000000000",
          "2015-01-01T10:00:00.000000000",
          "2015-01-01T11:00:00.000000000",
          "2015-01-01T12:00:00.000000000",
          "2015-01-01T13:00:00.000000000",
          "2015-01-01T14:00:00.000000000",
          "2015-01-01T15:00:00.000000000",
          "2015-01-01T16:00:00.000000000",
          "2015-01-01T17:00:00.000000000",
          "2015-01-01T18:00:00.000000000",
          "2015-01-01T19:00:00.000000000",
          "2015-01-01T20:00:00.000000000",
          "2015-01-01T21:00:00.000000000",
          "2015-01-01T22:00:00.000000000",
          "2015-01-01T23:00:00.000000000",
          "2015-01-02T00:00:00.000000000",
          "2015-01-02T01:00:00.000000000",
          "2015-01-02T02:00:00.000000000",
          "2015-01-02T03:00:00.000000000",
          "2015-01-02T04:00:00.000000000",
          "2015-01-02T05:00:00.000000000",
          "2015-01-02T06:00:00.000000000",
          "2015-01-02T07:00:00.000000000",
          "2015-01-02T08:00:00.000000000",
          "2015-01-02T09:00:00.000000000",
          "2015-01-02T10:00:00.000000000",
          "2015-01-02T11:00:00.000000000",
          "2015-01-02T12:00:00.000000000",
          "2015-01-02T13:00:00.000000000",
          "2015-01-02T14:00:00.000000000",
          "2015-01-02T15:00:00.000000000",
          "2015-01-02T16:00:00.000000000",
          "2015-01-02T17:00:00.000000000",
          "2015-01-02T18:00:00.000000000",
          "2015-01-02T19:00:00.000000000",
          "2015-01-02T20:00:00.000000000",
          "2015-01-02T21:00:00.000000000",
          "2015-01-02T22:00:00.000000000",
          "2015-01-02T23:00:00.000000000",
          "2015-01-03T00:00:00.000000000",
          "2015-01-03T01:00:00.000000000",
          "2015-01-03T02:00:00.000000000",
          "2015-01-03T03:00:00.000000000",
          "2015-01-03T04:00:00.000000000",
          "2015-01-03T05:00:00.000000000",
          "2015-01-03T06:00:00.000000000",
          "2015-01-03T07:00:00.000000000",
          "2015-01-03T08:00:00.000000000",
          "2015-01-03T09:00:00.000000000",
          "2015-01-03T10:00:00.000000000",
          "2015-01-03T11:00:00.000000000",
          "2015-01-03T12:00:00.000000000",
          "2015-01-03T13:00:00.000000000",
          "2015-01-03T14:00:00.000000000",
          "2015-01-03T15:00:00.000000000",
          "2015-01-03T16:00:00.000000000",
          "2015-01-03T17:00:00.000000000",
          "2015-01-03T18:00:00.000000000",
          "2015-01-03T19:00:00.000000000",
          "2015-01-03T20:00:00.000000000",
          "2015-01-03T21:00:00.000000000",
          "2015-01-03T22:00:00.000000000",
          "2015-01-03T23:00:00.000000000",
          "2015-01-04T00:00:00.000000000",
          "2015-01-04T01:00:00.000000000",
          "2015-01-04T02:00:00.000000000",
          "2015-01-04T03:00:00.000000000",
          "2015-01-04T04:00:00.000000000",
          "2015-01-04T05:00:00.000000000",
          "2015-01-04T06:00:00.000000000",
          "2015-01-04T07:00:00.000000000",
          "2015-01-04T08:00:00.000000000",
          "2015-01-04T09:00:00.000000000",
          "2015-01-04T10:00:00.000000000",
          "2015-01-04T11:00:00.000000000",
          "2015-01-04T12:00:00.000000000",
          "2015-01-04T13:00:00.000000000",
          "2015-01-04T14:00:00.000000000",
          "2015-01-04T15:00:00.000000000",
          "2015-01-04T16:00:00.000000000",
          "2015-01-04T17:00:00.000000000",
          "2015-01-04T18:00:00.000000000",
          "2015-01-04T19:00:00.000000000",
          "2015-01-04T20:00:00.000000000",
          "2015-01-04T21:00:00.000000000",
          "2015-01-04T22:00:00.000000000",
          "2015-01-04T23:00:00.000000000"
         ],
         "y": {
          "bdata": "AAAAAAC2pEAAAAAAANiiQAAAAAAAoKFAAAAAAAD0oEAAAAAAALCgQAAAAAAA8qBAAAAAAABeoUAAAAAAAHShQAAAAAAATqJAAAAAAAB+pEAAAAAAAKqmQAAAAAAAlKhAAAAAAABEqUAAAAAAAJSoQAAAAAAAZKhAAAAAAACAqUAAAAAAAFKrQAAAAAAAEKtAAAAAAAAyqkAAAAAAAAapQAAAAAAA/KdAAAAAAACqpkAAAAAAAJamQAAAAAAAKKVAAAAAAAAoo0AAAAAAALShQAAAAAAA7qBAAAAAAACMoEAAAAAAALSgQAAAAAAAqKFAAAAAAABWo0AAAAAAAAilQAAAAAAA8qZAAAAAAADuqEAAAAAAABiqQAAAAAAAdqpAAAAAAABYqkAAAAAAAMipQAAAAAAAyqlAAAAAAADMq0AAAAAAAFyvQAAAAAAARq9AAAAAAADIrUAAAAAAAPirQAAAAAAAbKpAAAAAAACKqEAAAAAAACCoQAAAAAAAJqZAAAAAAAAqpEAAAAAAALyiQAAAAAAAtKFAAAAAAAAWoUAAAAAAAOagQAAAAAAAjqFAAAAAAACqokAAAAAAAMajQAAAAAAAsqVAAAAAAADCp0AAAAAAAPqoQAAAAAAAoKlAAAAAAACYqUAAAAAAABSpQAAAAAAAAKlAAAAAAACuqkAAAAAAAIKuQAAAAAAAkq5AAAAAAAAgrUAAAAAAAIarQAAAAAAA2KlAAAAAAAAYqEAAAAAAAPKnQAAAAAAAhKZAAAAAAACQpEAAAAAAAPSiQAAAAAAA4qFAAAAAAABYoUAAAAAAAPqgQAAAAAAAQKFAAAAAAAC+oUAAAAAAAByiQAAAAAAAdqNAAAAAAACypUAAAAAAAISnQAAAAAAAGKlAAAAAAAC0qUAAAAAAAEqpQAAAAAAA4qhAAAAAAAAIqkAAAAAAAHCtQAAAAAAA4q1AAAAAAAC8rEAAAAAAAHqrQAAAAAAA1qlAAAAAAACKp0AAAAAAAKSmQAAAAAAA3qRA",
          "dtype": "f8"
         }
        },
        {
         "line": {
          "color": "blue"
         },
         "mode": "lines",
         "name": "onshore wind",
         "type": "scatter",
         "x": [
          "2015-01-01T00:00:00.000000000",
          "2015-01-01T01:00:00.000000000",
          "2015-01-01T02:00:00.000000000",
          "2015-01-01T03:00:00.000000000",
          "2015-01-01T04:00:00.000000000",
          "2015-01-01T05:00:00.000000000",
          "2015-01-01T06:00:00.000000000",
          "2015-01-01T07:00:00.000000000",
          "2015-01-01T08:00:00.000000000",
          "2015-01-01T09:00:00.000000000",
          "2015-01-01T10:00:00.000000000",
          "2015-01-01T11:00:00.000000000",
          "2015-01-01T12:00:00.000000000",
          "2015-01-01T13:00:00.000000000",
          "2015-01-01T14:00:00.000000000",
          "2015-01-01T15:00:00.000000000",
          "2015-01-01T16:00:00.000000000",
          "2015-01-01T17:00:00.000000000",
          "2015-01-01T18:00:00.000000000",
          "2015-01-01T19:00:00.000000000",
          "2015-01-01T20:00:00.000000000",
          "2015-01-01T21:00:00.000000000",
          "2015-01-01T22:00:00.000000000",
          "2015-01-01T23:00:00.000000000",
          "2015-01-02T00:00:00.000000000",
          "2015-01-02T01:00:00.000000000",
          "2015-01-02T02:00:00.000000000",
          "2015-01-02T03:00:00.000000000",
          "2015-01-02T04:00:00.000000000",
          "2015-01-02T05:00:00.000000000",
          "2015-01-02T06:00:00.000000000",
          "2015-01-02T07:00:00.000000000",
          "2015-01-02T08:00:00.000000000",
          "2015-01-02T09:00:00.000000000",
          "2015-01-02T10:00:00.000000000",
          "2015-01-02T11:00:00.000000000",
          "2015-01-02T12:00:00.000000000",
          "2015-01-02T13:00:00.000000000",
          "2015-01-02T14:00:00.000000000",
          "2015-01-02T15:00:00.000000000",
          "2015-01-02T16:00:00.000000000",
          "2015-01-02T17:00:00.000000000",
          "2015-01-02T18:00:00.000000000",
          "2015-01-02T19:00:00.000000000",
          "2015-01-02T20:00:00.000000000",
          "2015-01-02T21:00:00.000000000",
          "2015-01-02T22:00:00.000000000",
          "2015-01-02T23:00:00.000000000",
          "2015-01-03T00:00:00.000000000",
          "2015-01-03T01:00:00.000000000",
          "2015-01-03T02:00:00.000000000",
          "2015-01-03T03:00:00.000000000",
          "2015-01-03T04:00:00.000000000",
          "2015-01-03T05:00:00.000000000",
          "2015-01-03T06:00:00.000000000",
          "2015-01-03T07:00:00.000000000",
          "2015-01-03T08:00:00.000000000",
          "2015-01-03T09:00:00.000000000",
          "2015-01-03T10:00:00.000000000",
          "2015-01-03T11:00:00.000000000",
          "2015-01-03T12:00:00.000000000",
          "2015-01-03T13:00:00.000000000",
          "2015-01-03T14:00:00.000000000",
          "2015-01-03T15:00:00.000000000",
          "2015-01-03T16:00:00.000000000",
          "2015-01-03T17:00:00.000000000",
          "2015-01-03T18:00:00.000000000",
          "2015-01-03T19:00:00.000000000",
          "2015-01-03T20:00:00.000000000",
          "2015-01-03T21:00:00.000000000",
          "2015-01-03T22:00:00.000000000",
          "2015-01-03T23:00:00.000000000",
          "2015-01-04T00:00:00.000000000",
          "2015-01-04T01:00:00.000000000",
          "2015-01-04T02:00:00.000000000",
          "2015-01-04T03:00:00.000000000",
          "2015-01-04T04:00:00.000000000",
          "2015-01-04T05:00:00.000000000",
          "2015-01-04T06:00:00.000000000",
          "2015-01-04T07:00:00.000000000",
          "2015-01-04T08:00:00.000000000",
          "2015-01-04T09:00:00.000000000",
          "2015-01-04T10:00:00.000000000",
          "2015-01-04T11:00:00.000000000",
          "2015-01-04T12:00:00.000000000",
          "2015-01-04T13:00:00.000000000",
          "2015-01-04T14:00:00.000000000",
          "2015-01-04T15:00:00.000000000",
          "2015-01-04T16:00:00.000000000",
          "2015-01-04T17:00:00.000000000",
          "2015-01-04T18:00:00.000000000",
          "2015-01-04T19:00:00.000000000",
          "2015-01-04T20:00:00.000000000",
          "2015-01-04T21:00:00.000000000",
          "2015-01-04T22:00:00.000000000",
          "2015-01-04T23:00:00.000000000"
         ],
         "y": {
          "bdata": "AAAAAAAAAAAAAAAAAAAAAAAAAAAAAAAAAAAAAAAAAAAAAAAAAAAAAAAAAAAAAAAAAAAAAAAAAAAAAAAAAAAAAAAAAAAAAAAAAAAAAAAAAAAAAAAAAAAAAAAAAAAAAAAAAAAAAAAAAAAAAAAAAAAAAAAAAAAAAAAAAAAAAAAAAAAAAAAAAAAAAAAAAAAAAAAAAAAAAAAAAAAAAAAAAAAAAAAAAAAAAAAAAAAAAAAAAAAAAAAAAAAAAAAAAAAAAAAAAAAAAAAAAAAAAAAAAAAAAAAAAAAAAAAAAAAAAAAAAAAAAAAAAAAAAAAAAAAAAAAAAAAAAAAAAAAAAAAAAAAAAAAAAAAAAAAAAAAAAAAAAAAAAAAAAAAAAAAAAAAAAAAAAAAAAAAAAAAAAAAAAAAAAAAAAAAAAAAAAAAAAAAAAAAAAAAAAAAAAAAAAAAAAAAAAAAAAAAAAAAAAAAAAAAAAAAAAAAAAAAAAAAAAAAAAAAAAAAAAAAAAAAAAAAAAAAAAAAAAAAAAAAAAAAAAAAAAAAAAAAAAAAAAAAAAAAAAAAAAAAAAAAAAAAAAAAAAAAAAAAAAAAAAAAAAAAAAAAAAAAAAAAAAAAAAAAAAAAAAAAAAAAAAAAAAAAAAAAAAAAAAAAAAAAAAAAAAAAAAAAAAAAAAAAAAAAAAAAAAAAAAAAAAAAAAAAAAAAAAAAAAAAAAAAAAAAAAAAAAAAAAAAAAAAAAAAAAAAAAAAAAAAAAAAAAAAAAAAAAAAAAAAAAAAAAAAAAAAAAAAAAAAAAAAAAAAAAAAAAAAAAAAAAAAAAAAAAAAAAAAAAAAAAAAAAAAAAAAAAAAAAAAAAAAAAAAAAAAAAAAAAAAAAAAAAAAAAAAAAAAAAAAAAAAAAAAAAAAAAAAAAAAAAAAAAAAAAAAAAAAAAAAAAAAAAAAAAAAAAAAAAAAAAAAAAAAAAAAAAAAAAAAAAAAAAAAAAAAAAAAAAAAAAAAAAAAAAAAAAAAAAAAAAAAAAAAAAAAAAAAAAAAA",
          "dtype": "f8"
         }
        },
        {
         "line": {
          "color": "orange"
         },
         "mode": "lines",
         "name": "solar",
         "type": "scatter",
         "x": [
          "2015-01-01T00:00:00.000000000",
          "2015-01-01T01:00:00.000000000",
          "2015-01-01T02:00:00.000000000",
          "2015-01-01T03:00:00.000000000",
          "2015-01-01T04:00:00.000000000",
          "2015-01-01T05:00:00.000000000",
          "2015-01-01T06:00:00.000000000",
          "2015-01-01T07:00:00.000000000",
          "2015-01-01T08:00:00.000000000",
          "2015-01-01T09:00:00.000000000",
          "2015-01-01T10:00:00.000000000",
          "2015-01-01T11:00:00.000000000",
          "2015-01-01T12:00:00.000000000",
          "2015-01-01T13:00:00.000000000",
          "2015-01-01T14:00:00.000000000",
          "2015-01-01T15:00:00.000000000",
          "2015-01-01T16:00:00.000000000",
          "2015-01-01T17:00:00.000000000",
          "2015-01-01T18:00:00.000000000",
          "2015-01-01T19:00:00.000000000",
          "2015-01-01T20:00:00.000000000",
          "2015-01-01T21:00:00.000000000",
          "2015-01-01T22:00:00.000000000",
          "2015-01-01T23:00:00.000000000",
          "2015-01-02T00:00:00.000000000",
          "2015-01-02T01:00:00.000000000",
          "2015-01-02T02:00:00.000000000",
          "2015-01-02T03:00:00.000000000",
          "2015-01-02T04:00:00.000000000",
          "2015-01-02T05:00:00.000000000",
          "2015-01-02T06:00:00.000000000",
          "2015-01-02T07:00:00.000000000",
          "2015-01-02T08:00:00.000000000",
          "2015-01-02T09:00:00.000000000",
          "2015-01-02T10:00:00.000000000",
          "2015-01-02T11:00:00.000000000",
          "2015-01-02T12:00:00.000000000",
          "2015-01-02T13:00:00.000000000",
          "2015-01-02T14:00:00.000000000",
          "2015-01-02T15:00:00.000000000",
          "2015-01-02T16:00:00.000000000",
          "2015-01-02T17:00:00.000000000",
          "2015-01-02T18:00:00.000000000",
          "2015-01-02T19:00:00.000000000",
          "2015-01-02T20:00:00.000000000",
          "2015-01-02T21:00:00.000000000",
          "2015-01-02T22:00:00.000000000",
          "2015-01-02T23:00:00.000000000",
          "2015-01-03T00:00:00.000000000",
          "2015-01-03T01:00:00.000000000",
          "2015-01-03T02:00:00.000000000",
          "2015-01-03T03:00:00.000000000",
          "2015-01-03T04:00:00.000000000",
          "2015-01-03T05:00:00.000000000",
          "2015-01-03T06:00:00.000000000",
          "2015-01-03T07:00:00.000000000",
          "2015-01-03T08:00:00.000000000",
          "2015-01-03T09:00:00.000000000",
          "2015-01-03T10:00:00.000000000",
          "2015-01-03T11:00:00.000000000",
          "2015-01-03T12:00:00.000000000",
          "2015-01-03T13:00:00.000000000",
          "2015-01-03T14:00:00.000000000",
          "2015-01-03T15:00:00.000000000",
          "2015-01-03T16:00:00.000000000",
          "2015-01-03T17:00:00.000000000",
          "2015-01-03T18:00:00.000000000",
          "2015-01-03T19:00:00.000000000",
          "2015-01-03T20:00:00.000000000",
          "2015-01-03T21:00:00.000000000",
          "2015-01-03T22:00:00.000000000",
          "2015-01-03T23:00:00.000000000",
          "2015-01-04T00:00:00.000000000",
          "2015-01-04T01:00:00.000000000",
          "2015-01-04T02:00:00.000000000",
          "2015-01-04T03:00:00.000000000",
          "2015-01-04T04:00:00.000000000",
          "2015-01-04T05:00:00.000000000",
          "2015-01-04T06:00:00.000000000",
          "2015-01-04T07:00:00.000000000",
          "2015-01-04T08:00:00.000000000",
          "2015-01-04T09:00:00.000000000",
          "2015-01-04T10:00:00.000000000",
          "2015-01-04T11:00:00.000000000",
          "2015-01-04T12:00:00.000000000",
          "2015-01-04T13:00:00.000000000",
          "2015-01-04T14:00:00.000000000",
          "2015-01-04T15:00:00.000000000",
          "2015-01-04T16:00:00.000000000",
          "2015-01-04T17:00:00.000000000",
          "2015-01-04T18:00:00.000000000",
          "2015-01-04T19:00:00.000000000",
          "2015-01-04T20:00:00.000000000",
          "2015-01-04T21:00:00.000000000",
          "2015-01-04T22:00:00.000000000",
          "2015-01-04T23:00:00.000000000"
         ],
         "y": {
          "bdata": "AAAAAAAAAAAAAAAAAAAAAAAAAAAAAAAAAAAAAAAAAAAAAAAAAAAAAAAAAAAAAAAAAAAAAAAAAAAAAAAAAAAAAAAAAAAAAAAAAAAAAAAAAAAAAAAAAAAAAAAAAAAAAAAAAAAAAAAAAAAAAAAAAAAAAAAAAAAAAAAAAAAAAAAAAAAAAAAAAAAAAAAAAAAAAAAAAAAAAAAAAAAAAAAAAAAAAAAAAAAAAAAAAAAAAAAAAAAAAAAAAAAAAAAAAAAAAAAAAAAAAAAAAAAAAAAAAAAAAAAAAAAAAAAAAAAAAAAAAAAAAAAAAAAAAAAAAAAAAAAAAAAAAAAAAAAAAAAAAAAAAAAAAAAAAAAAAAAAAAAAAAAAAAAAAAAAAAAAAAAAAAAAAAAAAAAAAAAAAAAAAAAAAAAAAAAAAAAAAAAAAAAAAAAAAAAAAAAAAAAAAAAAAAAAAAAAAAAAAAAAAAAAAAAAAAAAAAAAAAAAAAAAAAAAAAAAAAAAAAAAAAAAAAAAAAAAAAAAAAAAAAAAAAAAAAAAAAAAAAAAAAAAAAAAAAAAAAAAAAAAAAAAAAAAAAAAAAAAAAAAAAAAAAAAAAAAAAAAAAAAAAAAAAAAAAAAAAAAAAAAAAAAAAAAAAAAAAAAAAAAAAAAAAAAAAAAAAAAAAAAAAAAAAAAAAAAAAAAAAAAAAAAAAAAAAAAAAAAAAAAAAAAAAAAAAAAAAAAAAAAAAAAAAAAAAAAAAAAAAAAAAAAAAAAAAAAAAAAAAAAAAAAAAAAAAAAAAAAAAAAAAAAAAAAAAAAAAAAAAAAAAAAAAAAAAAAAAAAAAAAAAAAAAAAAAAAAAAAAAAAAAAAAAAAAAAAAAAAAAAAAAAAAAAAAAAAAAAAAAAAAAAAAAAAAAAAAAAAAAAAAAAAAAAAAAAAAAAAAAAAAAAAAAAAAAAAAAAAAAAAAAAAAAAAAAAAAAAAAAAAAAAAAAAAAAAAAAAAAAAAAAAAAAAAAAAAAAAAAAAAAAAAAAAAAAAAAAAAAAAAAAAA",
          "dtype": "f8"
         }
        },
        {
         "line": {
          "color": "brown"
         },
         "mode": "lines",
         "name": "gas (OCGT)",
         "type": "scatter",
         "x": [
          "2015-01-01T00:00:00.000000000",
          "2015-01-01T01:00:00.000000000",
          "2015-01-01T02:00:00.000000000",
          "2015-01-01T03:00:00.000000000",
          "2015-01-01T04:00:00.000000000",
          "2015-01-01T05:00:00.000000000",
          "2015-01-01T06:00:00.000000000",
          "2015-01-01T07:00:00.000000000",
          "2015-01-01T08:00:00.000000000",
          "2015-01-01T09:00:00.000000000",
          "2015-01-01T10:00:00.000000000",
          "2015-01-01T11:00:00.000000000",
          "2015-01-01T12:00:00.000000000",
          "2015-01-01T13:00:00.000000000",
          "2015-01-01T14:00:00.000000000",
          "2015-01-01T15:00:00.000000000",
          "2015-01-01T16:00:00.000000000",
          "2015-01-01T17:00:00.000000000",
          "2015-01-01T18:00:00.000000000",
          "2015-01-01T19:00:00.000000000",
          "2015-01-01T20:00:00.000000000",
          "2015-01-01T21:00:00.000000000",
          "2015-01-01T22:00:00.000000000",
          "2015-01-01T23:00:00.000000000",
          "2015-01-02T00:00:00.000000000",
          "2015-01-02T01:00:00.000000000",
          "2015-01-02T02:00:00.000000000",
          "2015-01-02T03:00:00.000000000",
          "2015-01-02T04:00:00.000000000",
          "2015-01-02T05:00:00.000000000",
          "2015-01-02T06:00:00.000000000",
          "2015-01-02T07:00:00.000000000",
          "2015-01-02T08:00:00.000000000",
          "2015-01-02T09:00:00.000000000",
          "2015-01-02T10:00:00.000000000",
          "2015-01-02T11:00:00.000000000",
          "2015-01-02T12:00:00.000000000",
          "2015-01-02T13:00:00.000000000",
          "2015-01-02T14:00:00.000000000",
          "2015-01-02T15:00:00.000000000",
          "2015-01-02T16:00:00.000000000",
          "2015-01-02T17:00:00.000000000",
          "2015-01-02T18:00:00.000000000",
          "2015-01-02T19:00:00.000000000",
          "2015-01-02T20:00:00.000000000",
          "2015-01-02T21:00:00.000000000",
          "2015-01-02T22:00:00.000000000",
          "2015-01-02T23:00:00.000000000",
          "2015-01-03T00:00:00.000000000",
          "2015-01-03T01:00:00.000000000",
          "2015-01-03T02:00:00.000000000",
          "2015-01-03T03:00:00.000000000",
          "2015-01-03T04:00:00.000000000",
          "2015-01-03T05:00:00.000000000",
          "2015-01-03T06:00:00.000000000",
          "2015-01-03T07:00:00.000000000",
          "2015-01-03T08:00:00.000000000",
          "2015-01-03T09:00:00.000000000",
          "2015-01-03T10:00:00.000000000",
          "2015-01-03T11:00:00.000000000",
          "2015-01-03T12:00:00.000000000",
          "2015-01-03T13:00:00.000000000",
          "2015-01-03T14:00:00.000000000",
          "2015-01-03T15:00:00.000000000",
          "2015-01-03T16:00:00.000000000",
          "2015-01-03T17:00:00.000000000",
          "2015-01-03T18:00:00.000000000",
          "2015-01-03T19:00:00.000000000",
          "2015-01-03T20:00:00.000000000",
          "2015-01-03T21:00:00.000000000",
          "2015-01-03T22:00:00.000000000",
          "2015-01-03T23:00:00.000000000",
          "2015-01-04T00:00:00.000000000",
          "2015-01-04T01:00:00.000000000",
          "2015-01-04T02:00:00.000000000",
          "2015-01-04T03:00:00.000000000",
          "2015-01-04T04:00:00.000000000",
          "2015-01-04T05:00:00.000000000",
          "2015-01-04T06:00:00.000000000",
          "2015-01-04T07:00:00.000000000",
          "2015-01-04T08:00:00.000000000",
          "2015-01-04T09:00:00.000000000",
          "2015-01-04T10:00:00.000000000",
          "2015-01-04T11:00:00.000000000",
          "2015-01-04T12:00:00.000000000",
          "2015-01-04T13:00:00.000000000",
          "2015-01-04T14:00:00.000000000",
          "2015-01-04T15:00:00.000000000",
          "2015-01-04T16:00:00.000000000",
          "2015-01-04T17:00:00.000000000",
          "2015-01-04T18:00:00.000000000",
          "2015-01-04T19:00:00.000000000",
          "2015-01-04T20:00:00.000000000",
          "2015-01-04T21:00:00.000000000",
          "2015-01-04T22:00:00.000000000",
          "2015-01-04T23:00:00.000000000"
         ],
         "y": {
          "bdata": "AAAAAAC2pEAAAAAAANiiQAAAAAAAoKFAAAAAAAD0oEAAAAAAALCgQAAAAAAA8qBAAAAAAABeoUAAAAAAAHShQAAAAAAATqJAAAAAAAB+pEAAAAAAAKqmQAAAAAAAlKhAAAAAAABEqUAAAAAAAJSoQAAAAAAAZKhAAAAAAACAqUAAAAAAAFKrQAAAAAAAEKtAAAAAAAAyqkAAAAAAAAapQAAAAAAA/KdAAAAAAACqpkAAAAAAAJamQAAAAAAAKKVAAAAAAAAoo0AAAAAAALShQAAAAAAA7qBAAAAAAACMoEAAAAAAALSgQAAAAAAAqKFAAAAAAABWo0AAAAAAAAilQAAAAAAA8qZAAAAAAADuqEAAAAAAABiqQAAAAAAAdqpAAAAAAABYqkAAAAAAAMipQAAAAAAAyqlAAAAAAADMq0AAAAAAAPCtQAAAAAAA8K1AAAAAAADIrUAAAAAAAPirQAAAAAAAbKpAAAAAAACKqEAAAAAAACCoQAAAAAAAJqZAAAAAAAAqpEAAAAAAALyiQAAAAAAAtKFAAAAAAAAWoUAAAAAAAOagQAAAAAAAjqFAAAAAAACqokAAAAAAAMajQAAAAAAAsqVAAAAAAADCp0AAAAAAAPqoQAAAAAAAoKlAAAAAAACYqUAAAAAAABSpQAAAAAAAAKlAAAAAAACuqkAAAAAAAPCtQAAAAAAA8K1AAAAAAAAgrUAAAAAAAIarQAAAAAAA2KlAAAAAAAAYqEAAAAAAAPKnQAAAAAAAhKZAAAAAAACQpEAAAAAAAPSiQAAAAAAA4qFAAAAAAABYoUAAAAAAAPqgQAAAAAAAQKFAAAAAAAC+oUAAAAAAAByiQAAAAAAAdqNAAAAAAACypUAAAAAAAISnQAAAAAAAGKlAAAAAAAC0qUAAAAAAAEqpQAAAAAAA4qhAAAAAAAAIqkAAAAAAAHCtQAAAAAAA4q1AAAAAAAC8rEAAAAAAAHqrQAAAAAAA1qlAAAAAAACKp0AAAAAAAKSmQAAAAAAA3qRA",
          "dtype": "f8"
         }
        },
        {
         "line": {
          "color": "grey"
         },
         "mode": "lines",
         "name": "coal",
         "type": "scatter",
         "x": [
          "2015-01-01T00:00:00.000000000",
          "2015-01-01T01:00:00.000000000",
          "2015-01-01T02:00:00.000000000",
          "2015-01-01T03:00:00.000000000",
          "2015-01-01T04:00:00.000000000",
          "2015-01-01T05:00:00.000000000",
          "2015-01-01T06:00:00.000000000",
          "2015-01-01T07:00:00.000000000",
          "2015-01-01T08:00:00.000000000",
          "2015-01-01T09:00:00.000000000",
          "2015-01-01T10:00:00.000000000",
          "2015-01-01T11:00:00.000000000",
          "2015-01-01T12:00:00.000000000",
          "2015-01-01T13:00:00.000000000",
          "2015-01-01T14:00:00.000000000",
          "2015-01-01T15:00:00.000000000",
          "2015-01-01T16:00:00.000000000",
          "2015-01-01T17:00:00.000000000",
          "2015-01-01T18:00:00.000000000",
          "2015-01-01T19:00:00.000000000",
          "2015-01-01T20:00:00.000000000",
          "2015-01-01T21:00:00.000000000",
          "2015-01-01T22:00:00.000000000",
          "2015-01-01T23:00:00.000000000",
          "2015-01-02T00:00:00.000000000",
          "2015-01-02T01:00:00.000000000",
          "2015-01-02T02:00:00.000000000",
          "2015-01-02T03:00:00.000000000",
          "2015-01-02T04:00:00.000000000",
          "2015-01-02T05:00:00.000000000",
          "2015-01-02T06:00:00.000000000",
          "2015-01-02T07:00:00.000000000",
          "2015-01-02T08:00:00.000000000",
          "2015-01-02T09:00:00.000000000",
          "2015-01-02T10:00:00.000000000",
          "2015-01-02T11:00:00.000000000",
          "2015-01-02T12:00:00.000000000",
          "2015-01-02T13:00:00.000000000",
          "2015-01-02T14:00:00.000000000",
          "2015-01-02T15:00:00.000000000",
          "2015-01-02T16:00:00.000000000",
          "2015-01-02T17:00:00.000000000",
          "2015-01-02T18:00:00.000000000",
          "2015-01-02T19:00:00.000000000",
          "2015-01-02T20:00:00.000000000",
          "2015-01-02T21:00:00.000000000",
          "2015-01-02T22:00:00.000000000",
          "2015-01-02T23:00:00.000000000",
          "2015-01-03T00:00:00.000000000",
          "2015-01-03T01:00:00.000000000",
          "2015-01-03T02:00:00.000000000",
          "2015-01-03T03:00:00.000000000",
          "2015-01-03T04:00:00.000000000",
          "2015-01-03T05:00:00.000000000",
          "2015-01-03T06:00:00.000000000",
          "2015-01-03T07:00:00.000000000",
          "2015-01-03T08:00:00.000000000",
          "2015-01-03T09:00:00.000000000",
          "2015-01-03T10:00:00.000000000",
          "2015-01-03T11:00:00.000000000",
          "2015-01-03T12:00:00.000000000",
          "2015-01-03T13:00:00.000000000",
          "2015-01-03T14:00:00.000000000",
          "2015-01-03T15:00:00.000000000",
          "2015-01-03T16:00:00.000000000",
          "2015-01-03T17:00:00.000000000",
          "2015-01-03T18:00:00.000000000",
          "2015-01-03T19:00:00.000000000",
          "2015-01-03T20:00:00.000000000",
          "2015-01-03T21:00:00.000000000",
          "2015-01-03T22:00:00.000000000",
          "2015-01-03T23:00:00.000000000",
          "2015-01-04T00:00:00.000000000",
          "2015-01-04T01:00:00.000000000",
          "2015-01-04T02:00:00.000000000",
          "2015-01-04T03:00:00.000000000",
          "2015-01-04T04:00:00.000000000",
          "2015-01-04T05:00:00.000000000",
          "2015-01-04T06:00:00.000000000",
          "2015-01-04T07:00:00.000000000",
          "2015-01-04T08:00:00.000000000",
          "2015-01-04T09:00:00.000000000",
          "2015-01-04T10:00:00.000000000",
          "2015-01-04T11:00:00.000000000",
          "2015-01-04T12:00:00.000000000",
          "2015-01-04T13:00:00.000000000",
          "2015-01-04T14:00:00.000000000",
          "2015-01-04T15:00:00.000000000",
          "2015-01-04T16:00:00.000000000",
          "2015-01-04T17:00:00.000000000",
          "2015-01-04T18:00:00.000000000",
          "2015-01-04T19:00:00.000000000",
          "2015-01-04T20:00:00.000000000",
          "2015-01-04T21:00:00.000000000",
          "2015-01-04T22:00:00.000000000",
          "2015-01-04T23:00:00.000000000"
         ],
         "y": {
          "bdata": "AAAAAAAAAAAAAAAAAAAAAAAAAAAAAAAAAAAAAAAAAAAAAAAAAAAAAAAAAAAAAAAAAAAAAAAAAAAAAAAAAAAAAAAAAAAAAAAAAAAAAAAAAAAAAAAAAAAAAAAAAAAAAAAAAAAAAAAAAAAAAAAAAAAAAAAAAAAAAAAAAAAAAAAAAAAAAAAAAAAAAAAAAAAAAAAAAAAAAAAAAAAAAAAAAAAAAAAAAAAAAAAAAAAAAAAAAAAAAAAAAAAAAAAAAAAAAAAAAAAAAAAAAAAAAAAAAAAAAAAAAAAAAAAAAAAAAAAAAAAAAAAAAAAAAAAAAAAAAAAAAAAAAAAAAAAAAAAAAAAAAAAAAAAAAAAAAAAAAAAAAAAAAAAAAAAAAAAAAAAAAAAAAAAAAAAAAAAAAAAAAAAAAAAAAAAAAAAAAAAAAAAAAAAAAAAAAAAAAAAAAAAAAAAAAAAAAAAAAAAAAAAAAAAAAAAAAAAAAAAAAAAAAAAAAAAAAAAAAAAAAAAAAAAAAAAAAAAAAAAAAAAAAAAAAAAAAAAAAAAAAAAAAAAAAAAAAAAAAAAAAAAAAAAAAAAAAAAAAAAAAAAAAAAAAAAAAAAAAAAAAAAAAAAAAAAAAAAAAAAAAAAAAAAAAAAAAAAAAAAAAAAAAAAAAAAAAAAAAAAAAAAAAAAAAAAAAAAAAAAAAAAAAAAAAAAAAAAAAAAAAAAAAAAAAAAAAAAAAAAAAAAAAAAAAAAAAAAAAAAAAAAAAAAAAAAAAAAAAAAAAAAAAAAAAAAAAAAAAAAAAAAAAAAAAAAAAAAAAAAAAAAAAAAAAAAAAAAAAAAAAAAAAAAAAAAAAAAAAAAAAAAAAAAAAAAAAAAAAAAAAAAAAAAAAAAAAAAAAAAAAAAAAAAAAAAAAAAAAAAAAAAAAAAAAAAAAAAAAAAAAAAAAAAAAAAAAAAAAAAAAAAAAAAAAAAAAAAAAAAAAAAAAAAAAAAAAAAAAAAAAAAAAAAAAAAAAAAAAAAAAAAAAAAAAAAAAAAAAAAAAAAA",
          "dtype": "f8"
         }
        },
        {
         "line": {
          "color": "green"
         },
         "mode": "lines",
         "name": "biomass",
         "type": "scatter",
         "x": [
          "2015-01-01T00:00:00.000000000",
          "2015-01-01T01:00:00.000000000",
          "2015-01-01T02:00:00.000000000",
          "2015-01-01T03:00:00.000000000",
          "2015-01-01T04:00:00.000000000",
          "2015-01-01T05:00:00.000000000",
          "2015-01-01T06:00:00.000000000",
          "2015-01-01T07:00:00.000000000",
          "2015-01-01T08:00:00.000000000",
          "2015-01-01T09:00:00.000000000",
          "2015-01-01T10:00:00.000000000",
          "2015-01-01T11:00:00.000000000",
          "2015-01-01T12:00:00.000000000",
          "2015-01-01T13:00:00.000000000",
          "2015-01-01T14:00:00.000000000",
          "2015-01-01T15:00:00.000000000",
          "2015-01-01T16:00:00.000000000",
          "2015-01-01T17:00:00.000000000",
          "2015-01-01T18:00:00.000000000",
          "2015-01-01T19:00:00.000000000",
          "2015-01-01T20:00:00.000000000",
          "2015-01-01T21:00:00.000000000",
          "2015-01-01T22:00:00.000000000",
          "2015-01-01T23:00:00.000000000",
          "2015-01-02T00:00:00.000000000",
          "2015-01-02T01:00:00.000000000",
          "2015-01-02T02:00:00.000000000",
          "2015-01-02T03:00:00.000000000",
          "2015-01-02T04:00:00.000000000",
          "2015-01-02T05:00:00.000000000",
          "2015-01-02T06:00:00.000000000",
          "2015-01-02T07:00:00.000000000",
          "2015-01-02T08:00:00.000000000",
          "2015-01-02T09:00:00.000000000",
          "2015-01-02T10:00:00.000000000",
          "2015-01-02T11:00:00.000000000",
          "2015-01-02T12:00:00.000000000",
          "2015-01-02T13:00:00.000000000",
          "2015-01-02T14:00:00.000000000",
          "2015-01-02T15:00:00.000000000",
          "2015-01-02T16:00:00.000000000",
          "2015-01-02T17:00:00.000000000",
          "2015-01-02T18:00:00.000000000",
          "2015-01-02T19:00:00.000000000",
          "2015-01-02T20:00:00.000000000",
          "2015-01-02T21:00:00.000000000",
          "2015-01-02T22:00:00.000000000",
          "2015-01-02T23:00:00.000000000",
          "2015-01-03T00:00:00.000000000",
          "2015-01-03T01:00:00.000000000",
          "2015-01-03T02:00:00.000000000",
          "2015-01-03T03:00:00.000000000",
          "2015-01-03T04:00:00.000000000",
          "2015-01-03T05:00:00.000000000",
          "2015-01-03T06:00:00.000000000",
          "2015-01-03T07:00:00.000000000",
          "2015-01-03T08:00:00.000000000",
          "2015-01-03T09:00:00.000000000",
          "2015-01-03T10:00:00.000000000",
          "2015-01-03T11:00:00.000000000",
          "2015-01-03T12:00:00.000000000",
          "2015-01-03T13:00:00.000000000",
          "2015-01-03T14:00:00.000000000",
          "2015-01-03T15:00:00.000000000",
          "2015-01-03T16:00:00.000000000",
          "2015-01-03T17:00:00.000000000",
          "2015-01-03T18:00:00.000000000",
          "2015-01-03T19:00:00.000000000",
          "2015-01-03T20:00:00.000000000",
          "2015-01-03T21:00:00.000000000",
          "2015-01-03T22:00:00.000000000",
          "2015-01-03T23:00:00.000000000",
          "2015-01-04T00:00:00.000000000",
          "2015-01-04T01:00:00.000000000",
          "2015-01-04T02:00:00.000000000",
          "2015-01-04T03:00:00.000000000",
          "2015-01-04T04:00:00.000000000",
          "2015-01-04T05:00:00.000000000",
          "2015-01-04T06:00:00.000000000",
          "2015-01-04T07:00:00.000000000",
          "2015-01-04T08:00:00.000000000",
          "2015-01-04T09:00:00.000000000",
          "2015-01-04T10:00:00.000000000",
          "2015-01-04T11:00:00.000000000",
          "2015-01-04T12:00:00.000000000",
          "2015-01-04T13:00:00.000000000",
          "2015-01-04T14:00:00.000000000",
          "2015-01-04T15:00:00.000000000",
          "2015-01-04T16:00:00.000000000",
          "2015-01-04T17:00:00.000000000",
          "2015-01-04T18:00:00.000000000",
          "2015-01-04T19:00:00.000000000",
          "2015-01-04T20:00:00.000000000",
          "2015-01-04T21:00:00.000000000",
          "2015-01-04T22:00:00.000000000",
          "2015-01-04T23:00:00.000000000"
         ],
         "y": {
          "bdata": "AAAAAAAAAAAAAAAAAAAAAAAAAAAAAAAAAAAAAAAAAAAAAAAAAAAAAAAAAAAAAAAAAAAAAAAAAAAAAAAAAAAAAAAAAAAAAAAAAAAAAAAAAAAAAAAAAAAAAAAAAAAAAAAAAAAAAAAAAAAAAAAAAAAAAAAAAAAAAAAAAAAAAAAAAAAAAAAAAAAAAAAAAAAAAAAAAAAAAAAAAAAAAAAAAAAAAAAAAAAAAAAAAAAAAAAAAAAAAAAAAAAAAAAAAAAAAAAAAAAAAAAAAAAAAAAAAAAAAAAAAAAAAAAAAAAAAAAAAAAAAAAAAAAAAAAAAAAAAAAAAAAAAAAAAAAAAAAAAAAAAAAAAAAAAAAAAAAAAAAAAAAAAAAAAAAAAAAAAAAAAAAAAAAAAAAAAAAAAAAAAAAAAAAAAAAAAAAAAAAAAAAAAAAAAAAAAAAAAAAAAAAAAAAAAAAAAAAAAAAAAAAAAAAAAAAAAAAAAAAAAAAAAAAAAAAAAAAAAAAAAAAAAAAAAAAAAAAAAAAAAAAAAAAAAAAAAAAAAAAAAAAAAAAAAAAAAAAAAAAAAAAAAAAAAAAAAAAAAAAAAAAAAAAAAAAAAAAAAAAAAAAAAAAAAAAAAAAAAAAAAAAAAAAAAAAAAAAAAAAAAAAAAAAAAAAAAAAAAAAAAAAAAAAAAAAAAAAAAAAAAAAAAAAAAAAAAAAAAAAAAAAAAAAAAAAAAAAAAAAAAAAAAAAAAAAAAAAAAAAAAAAAAAAAAAAAAAAAAAAAAAAAAAAAAAAAAAAAAAAAAAAAAAAAAAAAAAAAAAAAAAAAAAAAAAAAAAAAAAAAAAAAAAAAAAAAAAAAAAAAAAAAAAAAAAAAAAAAAAAAAAAAAAAAAAAAAAAAAAAAAAAAAAAAAAAAAAAAAAAAAAAAAAAAAAAAAAAAAAAAAAAAAAAAAAAAAAAAAAAAAAAAAAAAAAAAAAAAAAAAAAAAAAAAAAAAAAAAAAAAAAAAAAAAAAAAAAAAAAAAAAAAAAAAAAAAAAAAAAAAAAAA",
          "dtype": "f8"
         }
        },
        {
         "line": {
          "color": "black"
         },
         "mode": "lines",
         "name": "oil",
         "type": "scatter",
         "x": [
          "2015-01-01T00:00:00.000000000",
          "2015-01-01T01:00:00.000000000",
          "2015-01-01T02:00:00.000000000",
          "2015-01-01T03:00:00.000000000",
          "2015-01-01T04:00:00.000000000",
          "2015-01-01T05:00:00.000000000",
          "2015-01-01T06:00:00.000000000",
          "2015-01-01T07:00:00.000000000",
          "2015-01-01T08:00:00.000000000",
          "2015-01-01T09:00:00.000000000",
          "2015-01-01T10:00:00.000000000",
          "2015-01-01T11:00:00.000000000",
          "2015-01-01T12:00:00.000000000",
          "2015-01-01T13:00:00.000000000",
          "2015-01-01T14:00:00.000000000",
          "2015-01-01T15:00:00.000000000",
          "2015-01-01T16:00:00.000000000",
          "2015-01-01T17:00:00.000000000",
          "2015-01-01T18:00:00.000000000",
          "2015-01-01T19:00:00.000000000",
          "2015-01-01T20:00:00.000000000",
          "2015-01-01T21:00:00.000000000",
          "2015-01-01T22:00:00.000000000",
          "2015-01-01T23:00:00.000000000",
          "2015-01-02T00:00:00.000000000",
          "2015-01-02T01:00:00.000000000",
          "2015-01-02T02:00:00.000000000",
          "2015-01-02T03:00:00.000000000",
          "2015-01-02T04:00:00.000000000",
          "2015-01-02T05:00:00.000000000",
          "2015-01-02T06:00:00.000000000",
          "2015-01-02T07:00:00.000000000",
          "2015-01-02T08:00:00.000000000",
          "2015-01-02T09:00:00.000000000",
          "2015-01-02T10:00:00.000000000",
          "2015-01-02T11:00:00.000000000",
          "2015-01-02T12:00:00.000000000",
          "2015-01-02T13:00:00.000000000",
          "2015-01-02T14:00:00.000000000",
          "2015-01-02T15:00:00.000000000",
          "2015-01-02T16:00:00.000000000",
          "2015-01-02T17:00:00.000000000",
          "2015-01-02T18:00:00.000000000",
          "2015-01-02T19:00:00.000000000",
          "2015-01-02T20:00:00.000000000",
          "2015-01-02T21:00:00.000000000",
          "2015-01-02T22:00:00.000000000",
          "2015-01-02T23:00:00.000000000",
          "2015-01-03T00:00:00.000000000",
          "2015-01-03T01:00:00.000000000",
          "2015-01-03T02:00:00.000000000",
          "2015-01-03T03:00:00.000000000",
          "2015-01-03T04:00:00.000000000",
          "2015-01-03T05:00:00.000000000",
          "2015-01-03T06:00:00.000000000",
          "2015-01-03T07:00:00.000000000",
          "2015-01-03T08:00:00.000000000",
          "2015-01-03T09:00:00.000000000",
          "2015-01-03T10:00:00.000000000",
          "2015-01-03T11:00:00.000000000",
          "2015-01-03T12:00:00.000000000",
          "2015-01-03T13:00:00.000000000",
          "2015-01-03T14:00:00.000000000",
          "2015-01-03T15:00:00.000000000",
          "2015-01-03T16:00:00.000000000",
          "2015-01-03T17:00:00.000000000",
          "2015-01-03T18:00:00.000000000",
          "2015-01-03T19:00:00.000000000",
          "2015-01-03T20:00:00.000000000",
          "2015-01-03T21:00:00.000000000",
          "2015-01-03T22:00:00.000000000",
          "2015-01-03T23:00:00.000000000",
          "2015-01-04T00:00:00.000000000",
          "2015-01-04T01:00:00.000000000",
          "2015-01-04T02:00:00.000000000",
          "2015-01-04T03:00:00.000000000",
          "2015-01-04T04:00:00.000000000",
          "2015-01-04T05:00:00.000000000",
          "2015-01-04T06:00:00.000000000",
          "2015-01-04T07:00:00.000000000",
          "2015-01-04T08:00:00.000000000",
          "2015-01-04T09:00:00.000000000",
          "2015-01-04T10:00:00.000000000",
          "2015-01-04T11:00:00.000000000",
          "2015-01-04T12:00:00.000000000",
          "2015-01-04T13:00:00.000000000",
          "2015-01-04T14:00:00.000000000",
          "2015-01-04T15:00:00.000000000",
          "2015-01-04T16:00:00.000000000",
          "2015-01-04T17:00:00.000000000",
          "2015-01-04T18:00:00.000000000",
          "2015-01-04T19:00:00.000000000",
          "2015-01-04T20:00:00.000000000",
          "2015-01-04T21:00:00.000000000",
          "2015-01-04T22:00:00.000000000",
          "2015-01-04T23:00:00.000000000"
         ],
         "y": {
          "bdata": "AAAAAAAAAAAAAAAAAAAAAAAAAAAAAAAAAAAAAAAAAAAAAAAAAAAAAAAAAAAAAAAAAAAAAAAAAAAAAAAAAAAAAAAAAAAAAAAAAAAAAAAAAAAAAAAAAAAAAAAAAAAAAAAAAAAAAAAAAAAAAAAAAAAAAAAAAAAAAAAAAAAAAAAAAAAAAAAAAAAAAAAAAAAAAAAAAAAAAAAAAAAAAAAAAAAAAAAAAAAAAAAAAAAAAAAAAAAAAAAAAAAAAAAAAAAAAAAAAAAAAAAAAAAAAAAAAAAAAAAAAAAAAAAAAAAAAAAAAAAAAAAAAAAAAAAAAAAAAAAAAAAAAAAAAAAAAAAAAAAAAAAAAAAAAAAAAAAAAAAAAAAAAAAAAAAAAAAAAAAAAAAAAAAAAAAAAAAAAAAAAAAAAAAAAAAAAAAAAAAAAAAAAAAAAAAAAMBmQAAAAAAAYGVAAAAAAAAAAAAAAAAAAAAAAAAAAAAAAAAAAAAAAAAAAAAAAAAAAAAAAAAAAAAAAAAAAAAAAAAAAAAAAAAAAAAAAAAAAAAAAAAAAAAAAAAAAAAAAAAAAAAAAAAAAAAAAAAAAAAAAAAAAAAAAAAAAAAAAAAAAAAAAAAAAAAAAAAAAAAAAAAAAAAAAAAAAAAAAAAAAAAAAAAAAAAAAAAAAAAAAAAAAAAAAAAAAAAAAAAAAAAAAAAAAEBSQAAAAAAAQFRAAAAAAAAAAAAAAAAAAAAAAAAAAAAAAAAAAAAAAAAAAAAAAAAAAAAAAAAAAAAAAAAAAAAAAAAAAAAAAAAAAAAAAAAAAAAAAAAAAAAAAAAAAAAAAAAAAAAAAAAAAAAAAAAAAAAAAAAAAAAAAAAAAAAAAAAAAAAAAAAAAAAAAAAAAAAAAAAAAAAAAAAAAAAAAAAAAAAAAAAAAAAAAAAAAAAAAAAAAAAAAAAAAAAAAAAAAAAAAAAAAAAAAAAAAAAAAAAAAAAAAAAAAAAAAAAAAAAAAAAAAAAAAAAAAAAAAAAAAAAAAAAAAAAAAAAAAAAAAAAA",
          "dtype": "f8"
         }
        },
        {
         "line": {
          "color": "purple"
         },
         "mode": "lines",
         "name": "offshore wind",
         "type": "scatter",
         "x": [
          "2015-01-01T00:00:00.000000000",
          "2015-01-01T01:00:00.000000000",
          "2015-01-01T02:00:00.000000000",
          "2015-01-01T03:00:00.000000000",
          "2015-01-01T04:00:00.000000000",
          "2015-01-01T05:00:00.000000000",
          "2015-01-01T06:00:00.000000000",
          "2015-01-01T07:00:00.000000000",
          "2015-01-01T08:00:00.000000000",
          "2015-01-01T09:00:00.000000000",
          "2015-01-01T10:00:00.000000000",
          "2015-01-01T11:00:00.000000000",
          "2015-01-01T12:00:00.000000000",
          "2015-01-01T13:00:00.000000000",
          "2015-01-01T14:00:00.000000000",
          "2015-01-01T15:00:00.000000000",
          "2015-01-01T16:00:00.000000000",
          "2015-01-01T17:00:00.000000000",
          "2015-01-01T18:00:00.000000000",
          "2015-01-01T19:00:00.000000000",
          "2015-01-01T20:00:00.000000000",
          "2015-01-01T21:00:00.000000000",
          "2015-01-01T22:00:00.000000000",
          "2015-01-01T23:00:00.000000000",
          "2015-01-02T00:00:00.000000000",
          "2015-01-02T01:00:00.000000000",
          "2015-01-02T02:00:00.000000000",
          "2015-01-02T03:00:00.000000000",
          "2015-01-02T04:00:00.000000000",
          "2015-01-02T05:00:00.000000000",
          "2015-01-02T06:00:00.000000000",
          "2015-01-02T07:00:00.000000000",
          "2015-01-02T08:00:00.000000000",
          "2015-01-02T09:00:00.000000000",
          "2015-01-02T10:00:00.000000000",
          "2015-01-02T11:00:00.000000000",
          "2015-01-02T12:00:00.000000000",
          "2015-01-02T13:00:00.000000000",
          "2015-01-02T14:00:00.000000000",
          "2015-01-02T15:00:00.000000000",
          "2015-01-02T16:00:00.000000000",
          "2015-01-02T17:00:00.000000000",
          "2015-01-02T18:00:00.000000000",
          "2015-01-02T19:00:00.000000000",
          "2015-01-02T20:00:00.000000000",
          "2015-01-02T21:00:00.000000000",
          "2015-01-02T22:00:00.000000000",
          "2015-01-02T23:00:00.000000000",
          "2015-01-03T00:00:00.000000000",
          "2015-01-03T01:00:00.000000000",
          "2015-01-03T02:00:00.000000000",
          "2015-01-03T03:00:00.000000000",
          "2015-01-03T04:00:00.000000000",
          "2015-01-03T05:00:00.000000000",
          "2015-01-03T06:00:00.000000000",
          "2015-01-03T07:00:00.000000000",
          "2015-01-03T08:00:00.000000000",
          "2015-01-03T09:00:00.000000000",
          "2015-01-03T10:00:00.000000000",
          "2015-01-03T11:00:00.000000000",
          "2015-01-03T12:00:00.000000000",
          "2015-01-03T13:00:00.000000000",
          "2015-01-03T14:00:00.000000000",
          "2015-01-03T15:00:00.000000000",
          "2015-01-03T16:00:00.000000000",
          "2015-01-03T17:00:00.000000000",
          "2015-01-03T18:00:00.000000000",
          "2015-01-03T19:00:00.000000000",
          "2015-01-03T20:00:00.000000000",
          "2015-01-03T21:00:00.000000000",
          "2015-01-03T22:00:00.000000000",
          "2015-01-03T23:00:00.000000000",
          "2015-01-04T00:00:00.000000000",
          "2015-01-04T01:00:00.000000000",
          "2015-01-04T02:00:00.000000000",
          "2015-01-04T03:00:00.000000000",
          "2015-01-04T04:00:00.000000000",
          "2015-01-04T05:00:00.000000000",
          "2015-01-04T06:00:00.000000000",
          "2015-01-04T07:00:00.000000000",
          "2015-01-04T08:00:00.000000000",
          "2015-01-04T09:00:00.000000000",
          "2015-01-04T10:00:00.000000000",
          "2015-01-04T11:00:00.000000000",
          "2015-01-04T12:00:00.000000000",
          "2015-01-04T13:00:00.000000000",
          "2015-01-04T14:00:00.000000000",
          "2015-01-04T15:00:00.000000000",
          "2015-01-04T16:00:00.000000000",
          "2015-01-04T17:00:00.000000000",
          "2015-01-04T18:00:00.000000000",
          "2015-01-04T19:00:00.000000000",
          "2015-01-04T20:00:00.000000000",
          "2015-01-04T21:00:00.000000000",
          "2015-01-04T22:00:00.000000000",
          "2015-01-04T23:00:00.000000000"
         ],
         "y": {
          "bdata": "AAAAAAAAAAAAAAAAAAAAAAAAAAAAAAAAAAAAAAAAAAAAAAAAAAAAAAAAAAAAAAAAAAAAAAAAAAAAAAAAAAAAAAAAAAAAAAAAAAAAAAAAAAAAAAAAAAAAAAAAAAAAAAAAAAAAAAAAAAAAAAAAAAAAAAAAAAAAAAAAAAAAAAAAAAAAAAAAAAAAAAAAAAAAAAAAAAAAAAAAAAAAAAAAAAAAAAAAAAAAAAAAAAAAAAAAAAAAAAAAAAAAAAAAAAAAAAAAAAAAAAAAAAAAAAAAAAAAAAAAAAAAAAAAAAAAAAAAAAAAAAAAAAAAAAAAAAAAAAAAAAAAAAAAAAAAAAAAAAAAAAAAAAAAAAAAAAAAAAAAAAAAAAAAAAAAAAAAAAAAAAAAAAAAAAAAAAAAAAAAAAAAAAAAAAAAAAAAAAAAAAAAAAAAAAAAAAAAAAAAAAAAAAAAAAAAAAAAAAAAAAAAAAAAAAAAAAAAAAAAAAAAAAAAAAAAAAAAAAAAAAAAAAAAAAAAAAAAAAAAAAAAAAAAAAAAAAAAAAAAAAAAAAAAAAAAAAAAAAAAAAAAAAAAAAAAAAAAAAAAAAAAAAAAAAAAAAAAAAAAAAAAAAAAAAAAAAAAAAAAAAAAAAAAAAAAAAAAAAAAAAAAAAAAAAAAAAAAAAAAAAAAAAAAAAAAAAAAAAAAAAAAAAAAAAAAAAAAAAAAAAAAAAAAAAAAAAAAAAAAAAAAAAAAAAAAAAAAAAAAAAAAAAAAAAAAAAAAAAAAAAAAAAAAAAAAAAAAAAAAAAAAAAAAAAAAAAAAAAAAAAAAAAAAAAAAAAAAAAAAAAAAAAAAAAAAAAAAAAAAAAAAAAAAAAAAAAAAAAAAAAAAAAAAAAAAAAAAAAAAAAAAAAAAAAAAAAAAAAAAAAAAAAAAAAAAAAAAAAAAAAAAAAAAAAAAAAAAAAAAAAAAAAAAAAAAAAAAAAAAAAAAAAAAAAAAAAAAAAAAAAAAAAAAAAAAAAAAAAAAAAAAAAAAAAAAAAAAAAAAAAAA",
          "dtype": "f8"
         }
        }
       ],
       "layout": {
        "legend": {
         "traceorder": "normal",
         "x": 0,
         "y": 1
        },
        "template": {
         "data": {
          "bar": [
           {
            "error_x": {
             "color": "#2a3f5f"
            },
            "error_y": {
             "color": "#2a3f5f"
            },
            "marker": {
             "line": {
              "color": "#E5ECF6",
              "width": 0.5
             },
             "pattern": {
              "fillmode": "overlay",
              "size": 10,
              "solidity": 0.2
             }
            },
            "type": "bar"
           }
          ],
          "barpolar": [
           {
            "marker": {
             "line": {
              "color": "#E5ECF6",
              "width": 0.5
             },
             "pattern": {
              "fillmode": "overlay",
              "size": 10,
              "solidity": 0.2
             }
            },
            "type": "barpolar"
           }
          ],
          "carpet": [
           {
            "aaxis": {
             "endlinecolor": "#2a3f5f",
             "gridcolor": "white",
             "linecolor": "white",
             "minorgridcolor": "white",
             "startlinecolor": "#2a3f5f"
            },
            "baxis": {
             "endlinecolor": "#2a3f5f",
             "gridcolor": "white",
             "linecolor": "white",
             "minorgridcolor": "white",
             "startlinecolor": "#2a3f5f"
            },
            "type": "carpet"
           }
          ],
          "choropleth": [
           {
            "colorbar": {
             "outlinewidth": 0,
             "ticks": ""
            },
            "type": "choropleth"
           }
          ],
          "contour": [
           {
            "colorbar": {
             "outlinewidth": 0,
             "ticks": ""
            },
            "colorscale": [
             [
              0,
              "#0d0887"
             ],
             [
              0.1111111111111111,
              "#46039f"
             ],
             [
              0.2222222222222222,
              "#7201a8"
             ],
             [
              0.3333333333333333,
              "#9c179e"
             ],
             [
              0.4444444444444444,
              "#bd3786"
             ],
             [
              0.5555555555555556,
              "#d8576b"
             ],
             [
              0.6666666666666666,
              "#ed7953"
             ],
             [
              0.7777777777777778,
              "#fb9f3a"
             ],
             [
              0.8888888888888888,
              "#fdca26"
             ],
             [
              1,
              "#f0f921"
             ]
            ],
            "type": "contour"
           }
          ],
          "contourcarpet": [
           {
            "colorbar": {
             "outlinewidth": 0,
             "ticks": ""
            },
            "type": "contourcarpet"
           }
          ],
          "heatmap": [
           {
            "colorbar": {
             "outlinewidth": 0,
             "ticks": ""
            },
            "colorscale": [
             [
              0,
              "#0d0887"
             ],
             [
              0.1111111111111111,
              "#46039f"
             ],
             [
              0.2222222222222222,
              "#7201a8"
             ],
             [
              0.3333333333333333,
              "#9c179e"
             ],
             [
              0.4444444444444444,
              "#bd3786"
             ],
             [
              0.5555555555555556,
              "#d8576b"
             ],
             [
              0.6666666666666666,
              "#ed7953"
             ],
             [
              0.7777777777777778,
              "#fb9f3a"
             ],
             [
              0.8888888888888888,
              "#fdca26"
             ],
             [
              1,
              "#f0f921"
             ]
            ],
            "type": "heatmap"
           }
          ],
          "histogram": [
           {
            "marker": {
             "pattern": {
              "fillmode": "overlay",
              "size": 10,
              "solidity": 0.2
             }
            },
            "type": "histogram"
           }
          ],
          "histogram2d": [
           {
            "colorbar": {
             "outlinewidth": 0,
             "ticks": ""
            },
            "colorscale": [
             [
              0,
              "#0d0887"
             ],
             [
              0.1111111111111111,
              "#46039f"
             ],
             [
              0.2222222222222222,
              "#7201a8"
             ],
             [
              0.3333333333333333,
              "#9c179e"
             ],
             [
              0.4444444444444444,
              "#bd3786"
             ],
             [
              0.5555555555555556,
              "#d8576b"
             ],
             [
              0.6666666666666666,
              "#ed7953"
             ],
             [
              0.7777777777777778,
              "#fb9f3a"
             ],
             [
              0.8888888888888888,
              "#fdca26"
             ],
             [
              1,
              "#f0f921"
             ]
            ],
            "type": "histogram2d"
           }
          ],
          "histogram2dcontour": [
           {
            "colorbar": {
             "outlinewidth": 0,
             "ticks": ""
            },
            "colorscale": [
             [
              0,
              "#0d0887"
             ],
             [
              0.1111111111111111,
              "#46039f"
             ],
             [
              0.2222222222222222,
              "#7201a8"
             ],
             [
              0.3333333333333333,
              "#9c179e"
             ],
             [
              0.4444444444444444,
              "#bd3786"
             ],
             [
              0.5555555555555556,
              "#d8576b"
             ],
             [
              0.6666666666666666,
              "#ed7953"
             ],
             [
              0.7777777777777778,
              "#fb9f3a"
             ],
             [
              0.8888888888888888,
              "#fdca26"
             ],
             [
              1,
              "#f0f921"
             ]
            ],
            "type": "histogram2dcontour"
           }
          ],
          "mesh3d": [
           {
            "colorbar": {
             "outlinewidth": 0,
             "ticks": ""
            },
            "type": "mesh3d"
           }
          ],
          "parcoords": [
           {
            "line": {
             "colorbar": {
              "outlinewidth": 0,
              "ticks": ""
             }
            },
            "type": "parcoords"
           }
          ],
          "pie": [
           {
            "automargin": true,
            "type": "pie"
           }
          ],
          "scatter": [
           {
            "fillpattern": {
             "fillmode": "overlay",
             "size": 10,
             "solidity": 0.2
            },
            "type": "scatter"
           }
          ],
          "scatter3d": [
           {
            "line": {
             "colorbar": {
              "outlinewidth": 0,
              "ticks": ""
             }
            },
            "marker": {
             "colorbar": {
              "outlinewidth": 0,
              "ticks": ""
             }
            },
            "type": "scatter3d"
           }
          ],
          "scattercarpet": [
           {
            "marker": {
             "colorbar": {
              "outlinewidth": 0,
              "ticks": ""
             }
            },
            "type": "scattercarpet"
           }
          ],
          "scattergeo": [
           {
            "marker": {
             "colorbar": {
              "outlinewidth": 0,
              "ticks": ""
             }
            },
            "type": "scattergeo"
           }
          ],
          "scattergl": [
           {
            "marker": {
             "colorbar": {
              "outlinewidth": 0,
              "ticks": ""
             }
            },
            "type": "scattergl"
           }
          ],
          "scattermap": [
           {
            "marker": {
             "colorbar": {
              "outlinewidth": 0,
              "ticks": ""
             }
            },
            "type": "scattermap"
           }
          ],
          "scattermapbox": [
           {
            "marker": {
             "colorbar": {
              "outlinewidth": 0,
              "ticks": ""
             }
            },
            "type": "scattermapbox"
           }
          ],
          "scatterpolar": [
           {
            "marker": {
             "colorbar": {
              "outlinewidth": 0,
              "ticks": ""
             }
            },
            "type": "scatterpolar"
           }
          ],
          "scatterpolargl": [
           {
            "marker": {
             "colorbar": {
              "outlinewidth": 0,
              "ticks": ""
             }
            },
            "type": "scatterpolargl"
           }
          ],
          "scatterternary": [
           {
            "marker": {
             "colorbar": {
              "outlinewidth": 0,
              "ticks": ""
             }
            },
            "type": "scatterternary"
           }
          ],
          "surface": [
           {
            "colorbar": {
             "outlinewidth": 0,
             "ticks": ""
            },
            "colorscale": [
             [
              0,
              "#0d0887"
             ],
             [
              0.1111111111111111,
              "#46039f"
             ],
             [
              0.2222222222222222,
              "#7201a8"
             ],
             [
              0.3333333333333333,
              "#9c179e"
             ],
             [
              0.4444444444444444,
              "#bd3786"
             ],
             [
              0.5555555555555556,
              "#d8576b"
             ],
             [
              0.6666666666666666,
              "#ed7953"
             ],
             [
              0.7777777777777778,
              "#fb9f3a"
             ],
             [
              0.8888888888888888,
              "#fdca26"
             ],
             [
              1,
              "#f0f921"
             ]
            ],
            "type": "surface"
           }
          ],
          "table": [
           {
            "cells": {
             "fill": {
              "color": "#EBF0F8"
             },
             "line": {
              "color": "white"
             }
            },
            "header": {
             "fill": {
              "color": "#C8D4E3"
             },
             "line": {
              "color": "white"
             }
            },
            "type": "table"
           }
          ]
         },
         "layout": {
          "annotationdefaults": {
           "arrowcolor": "#2a3f5f",
           "arrowhead": 0,
           "arrowwidth": 1
          },
          "autotypenumbers": "strict",
          "coloraxis": {
           "colorbar": {
            "outlinewidth": 0,
            "ticks": ""
           }
          },
          "colorscale": {
           "diverging": [
            [
             0,
             "#8e0152"
            ],
            [
             0.1,
             "#c51b7d"
            ],
            [
             0.2,
             "#de77ae"
            ],
            [
             0.3,
             "#f1b6da"
            ],
            [
             0.4,
             "#fde0ef"
            ],
            [
             0.5,
             "#f7f7f7"
            ],
            [
             0.6,
             "#e6f5d0"
            ],
            [
             0.7,
             "#b8e186"
            ],
            [
             0.8,
             "#7fbc41"
            ],
            [
             0.9,
             "#4d9221"
            ],
            [
             1,
             "#276419"
            ]
           ],
           "sequential": [
            [
             0,
             "#0d0887"
            ],
            [
             0.1111111111111111,
             "#46039f"
            ],
            [
             0.2222222222222222,
             "#7201a8"
            ],
            [
             0.3333333333333333,
             "#9c179e"
            ],
            [
             0.4444444444444444,
             "#bd3786"
            ],
            [
             0.5555555555555556,
             "#d8576b"
            ],
            [
             0.6666666666666666,
             "#ed7953"
            ],
            [
             0.7777777777777778,
             "#fb9f3a"
            ],
            [
             0.8888888888888888,
             "#fdca26"
            ],
            [
             1,
             "#f0f921"
            ]
           ],
           "sequentialminus": [
            [
             0,
             "#0d0887"
            ],
            [
             0.1111111111111111,
             "#46039f"
            ],
            [
             0.2222222222222222,
             "#7201a8"
            ],
            [
             0.3333333333333333,
             "#9c179e"
            ],
            [
             0.4444444444444444,
             "#bd3786"
            ],
            [
             0.5555555555555556,
             "#d8576b"
            ],
            [
             0.6666666666666666,
             "#ed7953"
            ],
            [
             0.7777777777777778,
             "#fb9f3a"
            ],
            [
             0.8888888888888888,
             "#fdca26"
            ],
            [
             1,
             "#f0f921"
            ]
           ]
          },
          "colorway": [
           "#636efa",
           "#EF553B",
           "#00cc96",
           "#ab63fa",
           "#FFA15A",
           "#19d3f3",
           "#FF6692",
           "#B6E880",
           "#FF97FF",
           "#FECB52"
          ],
          "font": {
           "color": "#2a3f5f"
          },
          "geo": {
           "bgcolor": "white",
           "lakecolor": "white",
           "landcolor": "#E5ECF6",
           "showlakes": true,
           "showland": true,
           "subunitcolor": "white"
          },
          "hoverlabel": {
           "align": "left"
          },
          "hovermode": "closest",
          "mapbox": {
           "style": "light"
          },
          "paper_bgcolor": "white",
          "plot_bgcolor": "#E5ECF6",
          "polar": {
           "angularaxis": {
            "gridcolor": "white",
            "linecolor": "white",
            "ticks": ""
           },
           "bgcolor": "#E5ECF6",
           "radialaxis": {
            "gridcolor": "white",
            "linecolor": "white",
            "ticks": ""
           }
          },
          "scene": {
           "xaxis": {
            "backgroundcolor": "#E5ECF6",
            "gridcolor": "white",
            "gridwidth": 2,
            "linecolor": "white",
            "showbackground": true,
            "ticks": "",
            "zerolinecolor": "white"
           },
           "yaxis": {
            "backgroundcolor": "#E5ECF6",
            "gridcolor": "white",
            "gridwidth": 2,
            "linecolor": "white",
            "showbackground": true,
            "ticks": "",
            "zerolinecolor": "white"
           },
           "zaxis": {
            "backgroundcolor": "#E5ECF6",
            "gridcolor": "white",
            "gridwidth": 2,
            "linecolor": "white",
            "showbackground": true,
            "ticks": "",
            "zerolinecolor": "white"
           }
          },
          "shapedefaults": {
           "line": {
            "color": "#2a3f5f"
           }
          },
          "ternary": {
           "aaxis": {
            "gridcolor": "white",
            "linecolor": "white",
            "ticks": ""
           },
           "baxis": {
            "gridcolor": "white",
            "linecolor": "white",
            "ticks": ""
           },
           "bgcolor": "#E5ECF6",
           "caxis": {
            "gridcolor": "white",
            "linecolor": "white",
            "ticks": ""
           }
          },
          "title": {
           "x": 0.05
          },
          "xaxis": {
           "automargin": true,
           "gridcolor": "white",
           "linecolor": "white",
           "ticks": "",
           "title": {
            "standoff": 15
           },
           "zerolinecolor": "white",
           "zerolinewidth": 2
          },
          "yaxis": {
           "automargin": true,
           "gridcolor": "white",
           "linecolor": "white",
           "ticks": "",
           "title": {
            "standoff": 15
           },
           "zerolinecolor": "white",
           "zerolinewidth": 2
          }
         }
        },
        "title": {
         "text": "Electricity Dispatch Week 1 2015"
        },
        "xaxis": {
         "title": {
          "text": "Time"
         }
        },
        "yaxis": {
         "title": {
          "text": "Power (MW)"
         }
        }
       }
      }
     },
     "metadata": {},
     "output_type": "display_data"
    }
   ],
   "source": [
    "plot_dispatch_winter()"
   ]
  },
  {
   "cell_type": "markdown",
   "metadata": {},
   "source": [
    "# B)"
   ]
  },
  {
   "cell_type": "code",
   "execution_count": null,
   "metadata": {},
   "outputs": [
    {
     "data": {
      "text/plain": [
       "Index(['co2_limit'], dtype='object')"
      ]
     },
     "execution_count": 56,
     "metadata": {},
     "output_type": "execute_result"
    }
   ],
   "source": [
    "# Add the CO2 constraint to the copied network\n",
    "co2_limit = 3000000  # tonCO2\n",
    "network.add(\"GlobalConstraint\",\n",
    "                 \"co2_limit\",\n",
    "                 type=\"primary_energy\",\n",
    "                 carrier_attribute=\"co2_emissions\",\n",
    "                 sense=\"<=\",\n",
    "                 constant=co2_limit,\n",
    "                 overwrite=True)"
   ]
  },
  {
   "cell_type": "code",
   "execution_count": null,
   "metadata": {},
   "outputs": [
    {
     "name": "stderr",
     "output_type": "stream",
     "text": [
      "WARNING:pypsa.io:The following buses are already defined and will be skipped (use overwrite=True to overwrite): electricity bus\n",
      "WARNING:pypsa.io:The following loads are already defined and will be skipped (use overwrite=True to overwrite): load\n",
      "WARNING:pypsa.io:The following carriers are already defined and will be skipped (use overwrite=True to overwrite): gas\n",
      "WARNING:pypsa.io:The following carriers are already defined and will be skipped (use overwrite=True to overwrite): onshorewind\n",
      "WARNING:pypsa.io:The following carriers are already defined and will be skipped (use overwrite=True to overwrite): solar\n",
      "WARNING:pypsa.io:The following carriers are already defined and will be skipped (use overwrite=True to overwrite): coal\n",
      "WARNING:pypsa.io:The following carriers are already defined and will be skipped (use overwrite=True to overwrite): biomass\n",
      "WARNING:pypsa.io:The following carriers are already defined and will be skipped (use overwrite=True to overwrite): oil\n",
      "WARNING:pypsa.io:The following carriers are already defined and will be skipped (use overwrite=True to overwrite): offshorewind\n"
     ]
    },
    {
     "name": "stdout",
     "output_type": "stream",
     "text": [
      "utc_time\n",
      "2015-01-01 00:00:00+00:00    2651.0\n",
      "2015-01-01 01:00:00+00:00    2412.0\n",
      "2015-01-01 02:00:00+00:00    2256.0\n",
      "2015-01-01 03:00:00+00:00    2170.0\n",
      "2015-01-01 04:00:00+00:00    2136.0\n",
      "Name: IRL, dtype: float64\n"
     ]
    },
    {
     "name": "stderr",
     "output_type": "stream",
     "text": [
      "WARNING:pypsa.consistency:The following buses have carriers which are not defined:\n",
      "Index(['electricity bus'], dtype='object', name='Bus')\n",
      "INFO:linopy.model: Solve problem using Gurobi solver\n",
      "INFO:linopy.io:Writing objective.\n",
      "Writing constraints.: 100%|\u001b[38;2;128;191;255m██████████\u001b[0m| 6/6 [00:00<00:00, 21.16it/s]\n",
      "Writing continuous variables.: 100%|\u001b[38;2;128;191;255m██████████\u001b[0m| 2/2 [00:00<00:00, 48.99it/s]\n",
      "INFO:linopy.io: Writing time: 0.35s\n"
     ]
    },
    {
     "name": "stdout",
     "output_type": "stream",
     "text": [
      "Set parameter Username\n"
     ]
    },
    {
     "name": "stderr",
     "output_type": "stream",
     "text": [
      "INFO:gurobipy:Set parameter Username\n"
     ]
    },
    {
     "name": "stdout",
     "output_type": "stream",
     "text": [
      "Academic license - for non-commercial use only - expires 2025-10-16\n"
     ]
    },
    {
     "name": "stderr",
     "output_type": "stream",
     "text": [
      "INFO:gurobipy:Academic license - for non-commercial use only - expires 2025-10-16\n"
     ]
    },
    {
     "name": "stdout",
     "output_type": "stream",
     "text": [
      "Read LP format model from file /private/var/folders/j2/tx7xgp1d11n3lnbvkls0cjsw0000gn/T/linopy-problem-r9cid_fg.lp\n"
     ]
    },
    {
     "name": "stderr",
     "output_type": "stream",
     "text": [
      "INFO:gurobipy:Read LP format model from file /private/var/folders/j2/tx7xgp1d11n3lnbvkls0cjsw0000gn/T/linopy-problem-r9cid_fg.lp\n"
     ]
    },
    {
     "name": "stdout",
     "output_type": "stream",
     "text": [
      "Reading time = 0.13 seconds\n"
     ]
    },
    {
     "name": "stderr",
     "output_type": "stream",
     "text": [
      "INFO:gurobipy:Reading time = 0.13 seconds\n"
     ]
    },
    {
     "name": "stdout",
     "output_type": "stream",
     "text": [
      "obj: 131415 rows, 61327 columns, 267194 nonzeros\n"
     ]
    },
    {
     "name": "stderr",
     "output_type": "stream",
     "text": [
      "INFO:gurobipy:obj: 131415 rows, 61327 columns, 267194 nonzeros\n"
     ]
    },
    {
     "name": "stdout",
     "output_type": "stream",
     "text": [
      "Gurobi Optimizer version 11.0.0 build v11.0.0rc2 (mac64[arm] - Darwin 23.2.0 23C64)\n"
     ]
    },
    {
     "name": "stderr",
     "output_type": "stream",
     "text": [
      "INFO:gurobipy:Gurobi Optimizer version 11.0.0 build v11.0.0rc2 (mac64[arm] - Darwin 23.2.0 23C64)\n"
     ]
    },
    {
     "name": "stdout",
     "output_type": "stream",
     "text": [
      "\n"
     ]
    },
    {
     "name": "stderr",
     "output_type": "stream",
     "text": [
      "INFO:gurobipy:\n"
     ]
    },
    {
     "name": "stdout",
     "output_type": "stream",
     "text": [
      "CPU model: Apple M3 Pro\n"
     ]
    },
    {
     "name": "stderr",
     "output_type": "stream",
     "text": [
      "INFO:gurobipy:CPU model: Apple M3 Pro\n"
     ]
    },
    {
     "name": "stdout",
     "output_type": "stream",
     "text": [
      "Thread count: 11 physical cores, 11 logical processors, using up to 11 threads\n"
     ]
    },
    {
     "name": "stderr",
     "output_type": "stream",
     "text": [
      "INFO:gurobipy:Thread count: 11 physical cores, 11 logical processors, using up to 11 threads\n"
     ]
    },
    {
     "name": "stdout",
     "output_type": "stream",
     "text": [
      "\n"
     ]
    },
    {
     "name": "stderr",
     "output_type": "stream",
     "text": [
      "INFO:gurobipy:\n"
     ]
    },
    {
     "name": "stdout",
     "output_type": "stream",
     "text": [
      "Optimize a model with 131415 rows, 61327 columns and 267194 nonzeros\n"
     ]
    },
    {
     "name": "stderr",
     "output_type": "stream",
     "text": [
      "INFO:gurobipy:Optimize a model with 131415 rows, 61327 columns and 267194 nonzeros\n"
     ]
    },
    {
     "name": "stdout",
     "output_type": "stream",
     "text": [
      "Model fingerprint: 0x3442b865\n"
     ]
    },
    {
     "name": "stderr",
     "output_type": "stream",
     "text": [
      "INFO:gurobipy:Model fingerprint: 0x3442b865\n"
     ]
    },
    {
     "name": "stdout",
     "output_type": "stream",
     "text": [
      "Coefficient statistics:\n"
     ]
    },
    {
     "name": "stderr",
     "output_type": "stream",
     "text": [
      "INFO:gurobipy:Coefficient statistics:\n"
     ]
    },
    {
     "name": "stdout",
     "output_type": "stream",
     "text": [
      "  Matrix range     [1e-03, 1e+00]\n"
     ]
    },
    {
     "name": "stderr",
     "output_type": "stream",
     "text": [
      "INFO:gurobipy:  Matrix range     [1e-03, 1e+00]\n"
     ]
    },
    {
     "name": "stdout",
     "output_type": "stream",
     "text": [
      "  Objective range  [2e+01, 7e+08]\n"
     ]
    },
    {
     "name": "stderr",
     "output_type": "stream",
     "text": [
      "INFO:gurobipy:  Objective range  [2e+01, 7e+08]\n"
     ]
    },
    {
     "name": "stdout",
     "output_type": "stream",
     "text": [
      "  Bounds range     [0e+00, 0e+00]\n"
     ]
    },
    {
     "name": "stderr",
     "output_type": "stream",
     "text": [
      "INFO:gurobipy:  Bounds range     [0e+00, 0e+00]\n"
     ]
    },
    {
     "name": "stdout",
     "output_type": "stream",
     "text": [
      "  RHS range        [3e+01, 3e+06]\n"
     ]
    },
    {
     "name": "stderr",
     "output_type": "stream",
     "text": [
      "INFO:gurobipy:  RHS range        [3e+01, 3e+06]\n"
     ]
    },
    {
     "name": "stdout",
     "output_type": "stream",
     "text": [
      "Presolve removed 69860 rows and 8526 columns\n"
     ]
    },
    {
     "name": "stderr",
     "output_type": "stream",
     "text": [
      "INFO:gurobipy:Presolve removed 69860 rows and 8526 columns\n"
     ]
    },
    {
     "name": "stdout",
     "output_type": "stream",
     "text": [
      "Presolve time: 0.13s\n"
     ]
    },
    {
     "name": "stderr",
     "output_type": "stream",
     "text": [
      "INFO:gurobipy:Presolve time: 0.13s\n"
     ]
    },
    {
     "name": "stdout",
     "output_type": "stream",
     "text": [
      "Presolved: 61555 rows, 52801 columns, 199328 nonzeros\n"
     ]
    },
    {
     "name": "stderr",
     "output_type": "stream",
     "text": [
      "INFO:gurobipy:Presolved: 61555 rows, 52801 columns, 199328 nonzeros\n"
     ]
    },
    {
     "name": "stdout",
     "output_type": "stream",
     "text": [
      "\n"
     ]
    },
    {
     "name": "stderr",
     "output_type": "stream",
     "text": [
      "INFO:gurobipy:\n"
     ]
    },
    {
     "name": "stdout",
     "output_type": "stream",
     "text": [
      "Concurrent LP optimizer: primal simplex, dual simplex, and barrier\n"
     ]
    },
    {
     "name": "stderr",
     "output_type": "stream",
     "text": [
      "INFO:gurobipy:Concurrent LP optimizer: primal simplex, dual simplex, and barrier\n"
     ]
    },
    {
     "name": "stdout",
     "output_type": "stream",
     "text": [
      "Showing barrier log only...\n"
     ]
    },
    {
     "name": "stderr",
     "output_type": "stream",
     "text": [
      "INFO:gurobipy:Showing barrier log only...\n"
     ]
    },
    {
     "name": "stdout",
     "output_type": "stream",
     "text": [
      "\n"
     ]
    },
    {
     "name": "stderr",
     "output_type": "stream",
     "text": [
      "INFO:gurobipy:\n"
     ]
    },
    {
     "name": "stdout",
     "output_type": "stream",
     "text": [
      "Ordering time: 0.01s\n"
     ]
    },
    {
     "name": "stderr",
     "output_type": "stream",
     "text": [
      "INFO:gurobipy:Ordering time: 0.01s\n"
     ]
    },
    {
     "name": "stdout",
     "output_type": "stream",
     "text": [
      "\n"
     ]
    },
    {
     "name": "stderr",
     "output_type": "stream",
     "text": [
      "INFO:gurobipy:\n"
     ]
    },
    {
     "name": "stdout",
     "output_type": "stream",
     "text": [
      "Barrier statistics:\n"
     ]
    },
    {
     "name": "stderr",
     "output_type": "stream",
     "text": [
      "INFO:gurobipy:Barrier statistics:\n"
     ]
    },
    {
     "name": "stdout",
     "output_type": "stream",
     "text": [
      " Dense cols : 7\n"
     ]
    },
    {
     "name": "stderr",
     "output_type": "stream",
     "text": [
      "INFO:gurobipy: Dense cols : 7\n"
     ]
    },
    {
     "name": "stdout",
     "output_type": "stream",
     "text": [
      " AA' NZ     : 1.553e+05\n"
     ]
    },
    {
     "name": "stderr",
     "output_type": "stream",
     "text": [
      "INFO:gurobipy: AA' NZ     : 1.553e+05\n"
     ]
    },
    {
     "name": "stdout",
     "output_type": "stream",
     "text": [
      " Factor NZ  : 7.128e+05 (roughly 50 MB of memory)\n"
     ]
    },
    {
     "name": "stderr",
     "output_type": "stream",
     "text": [
      "INFO:gurobipy: Factor NZ  : 7.128e+05 (roughly 50 MB of memory)\n"
     ]
    },
    {
     "name": "stdout",
     "output_type": "stream",
     "text": [
      " Factor Ops : 8.546e+06 (less than 1 second per iteration)\n"
     ]
    },
    {
     "name": "stderr",
     "output_type": "stream",
     "text": [
      "INFO:gurobipy: Factor Ops : 8.546e+06 (less than 1 second per iteration)\n"
     ]
    },
    {
     "name": "stdout",
     "output_type": "stream",
     "text": [
      " Threads    : 9\n"
     ]
    },
    {
     "name": "stderr",
     "output_type": "stream",
     "text": [
      "INFO:gurobipy: Threads    : 9\n"
     ]
    },
    {
     "name": "stdout",
     "output_type": "stream",
     "text": [
      "\n"
     ]
    },
    {
     "name": "stderr",
     "output_type": "stream",
     "text": [
      "INFO:gurobipy:\n"
     ]
    },
    {
     "name": "stdout",
     "output_type": "stream",
     "text": [
      "                  Objective                Residual\n"
     ]
    },
    {
     "name": "stderr",
     "output_type": "stream",
     "text": [
      "INFO:gurobipy:                  Objective                Residual\n"
     ]
    },
    {
     "name": "stdout",
     "output_type": "stream",
     "text": [
      "Iter       Primal          Dual         Primal    Dual     Compl     Time\n"
     ]
    },
    {
     "name": "stderr",
     "output_type": "stream",
     "text": [
      "INFO:gurobipy:Iter       Primal          Dual         Primal    Dual     Compl     Time\n"
     ]
    },
    {
     "name": "stdout",
     "output_type": "stream",
     "text": [
      "   0   2.97797883e+14  1.69781426e+11  4.43e+08 4.43e+04  1.07e+12     0s\n"
     ]
    },
    {
     "name": "stderr",
     "output_type": "stream",
     "text": [
      "INFO:gurobipy:   0   2.97797883e+14  1.69781426e+11  4.43e+08 4.43e+04  1.07e+12     0s\n"
     ]
    },
    {
     "name": "stdout",
     "output_type": "stream",
     "text": [
      "   1   2.91536284e+14 -1.92924343e+14  3.12e+08 3.17e+06  5.38e+11     0s\n"
     ]
    },
    {
     "name": "stderr",
     "output_type": "stream",
     "text": [
      "INFO:gurobipy:   1   2.91536284e+14 -1.92924343e+14  3.12e+08 3.17e+06  5.38e+11     0s\n"
     ]
    },
    {
     "name": "stdout",
     "output_type": "stream",
     "text": [
      "   2   2.63442640e+14 -2.34061823e+14  3.00e+08 2.34e+06  4.52e+11     0s\n"
     ]
    },
    {
     "name": "stderr",
     "output_type": "stream",
     "text": [
      "INFO:gurobipy:   2   2.63442640e+14 -2.34061823e+14  3.00e+08 2.34e+06  4.52e+11     0s\n"
     ]
    },
    {
     "name": "stdout",
     "output_type": "stream",
     "text": [
      "   3   2.76849155e+14 -2.37284947e+14  1.02e+07 1.94e+06  3.18e+11     0s\n"
     ]
    },
    {
     "name": "stderr",
     "output_type": "stream",
     "text": [
      "INFO:gurobipy:   3   2.76849155e+14 -2.37284947e+14  1.02e+07 1.94e+06  3.18e+11     0s\n"
     ]
    },
    {
     "name": "stdout",
     "output_type": "stream",
     "text": [
      "   4   2.34065822e+14 -3.49740796e+14  2.77e+05 2.68e+05  2.04e+11     0s\n"
     ]
    },
    {
     "name": "stderr",
     "output_type": "stream",
     "text": [
      "INFO:gurobipy:   4   2.34065822e+14 -3.49740796e+14  2.77e+05 2.68e+05  2.04e+11     0s\n"
     ]
    },
    {
     "name": "stdout",
     "output_type": "stream",
     "text": [
      "   5   6.86434240e+13 -3.72123107e+14  5.63e+07 2.00e-01  6.33e+10     0s\n"
     ]
    },
    {
     "name": "stderr",
     "output_type": "stream",
     "text": [
      "INFO:gurobipy:   5   6.86434240e+13 -3.72123107e+14  5.63e+07 2.00e-01  6.33e+10     0s\n"
     ]
    },
    {
     "name": "stdout",
     "output_type": "stream",
     "text": [
      "   6   8.72734403e+12 -3.26233749e+14  5.20e+06 1.45e-03  7.98e+09     0s\n"
     ]
    },
    {
     "name": "stderr",
     "output_type": "stream",
     "text": [
      "INFO:gurobipy:   6   8.72734403e+12 -3.26233749e+14  5.20e+06 1.45e-03  7.98e+09     0s\n"
     ]
    },
    {
     "name": "stdout",
     "output_type": "stream",
     "text": [
      "   7   4.12790740e+12 -1.34135212e+14  4.76e+05 6.14e+02  2.35e+09     0s\n"
     ]
    },
    {
     "name": "stderr",
     "output_type": "stream",
     "text": [
      "INFO:gurobipy:   7   4.12790740e+12 -1.34135212e+14  4.76e+05 6.14e+02  2.35e+09     0s\n"
     ]
    },
    {
     "name": "stdout",
     "output_type": "stream",
     "text": [
      "   8   2.49819947e+12 -5.85902625e+13  6.88e+04 1.68e+02  7.96e+08     0s\n"
     ]
    },
    {
     "name": "stderr",
     "output_type": "stream",
     "text": [
      "INFO:gurobipy:   8   2.49819947e+12 -5.85902625e+13  6.88e+04 1.68e+02  7.96e+08     0s\n"
     ]
    },
    {
     "name": "stdout",
     "output_type": "stream",
     "text": [
      "   9   2.11078076e+12 -2.41296458e+13  4.09e+02 1.80e+02  3.42e+08     1s\n"
     ]
    },
    {
     "name": "stderr",
     "output_type": "stream",
     "text": [
      "INFO:gurobipy:   9   2.11078076e+12 -2.41296458e+13  4.09e+02 1.80e+02  3.42e+08     1s\n"
     ]
    },
    {
     "name": "stdout",
     "output_type": "stream",
     "text": [
      "  10   1.86425745e+12 -7.75942336e+12  1.50e+02 4.35e+02  1.14e+08     1s\n"
     ]
    },
    {
     "name": "stderr",
     "output_type": "stream",
     "text": [
      "INFO:gurobipy:  10   1.86425745e+12 -7.75942336e+12  1.50e+02 4.35e+02  1.14e+08     1s\n"
     ]
    },
    {
     "name": "stdout",
     "output_type": "stream",
     "text": [
      "  11   1.73352477e+12 -3.43961777e+12  3.72e+01 1.43e+02  4.47e+07     1s\n"
     ]
    },
    {
     "name": "stderr",
     "output_type": "stream",
     "text": [
      "INFO:gurobipy:  11   1.73352477e+12 -3.43961777e+12  3.72e+01 1.43e+02  4.47e+07     1s\n"
     ]
    },
    {
     "name": "stdout",
     "output_type": "stream",
     "text": [
      "  12   1.19601370e+12 -1.62379500e+12  1.56e+00 1.00e+02  1.93e+07     1s\n"
     ]
    },
    {
     "name": "stderr",
     "output_type": "stream",
     "text": [
      "INFO:gurobipy:  12   1.19601370e+12 -1.62379500e+12  1.56e+00 1.00e+02  1.93e+07     1s\n"
     ]
    },
    {
     "name": "stdout",
     "output_type": "stream",
     "text": [
      "  13   1.16579512e+12 -1.11931712e+12  1.18e+00 8.11e+01  1.56e+07     1s\n"
     ]
    },
    {
     "name": "stderr",
     "output_type": "stream",
     "text": [
      "INFO:gurobipy:  13   1.16579512e+12 -1.11931712e+12  1.18e+00 8.11e+01  1.56e+07     1s\n"
     ]
    },
    {
     "name": "stdout",
     "output_type": "stream",
     "text": [
      "  14   1.15701313e+12 -5.25549639e+11  1.05e+00 6.00e+01  1.15e+07     1s\n"
     ]
    },
    {
     "name": "stderr",
     "output_type": "stream",
     "text": [
      "INFO:gurobipy:  14   1.15701313e+12 -5.25549639e+11  1.05e+00 6.00e+01  1.15e+07     1s\n"
     ]
    },
    {
     "name": "stdout",
     "output_type": "stream",
     "text": [
      "  15   1.15538552e+12 -7.76447920e+10  7.34e-01 4.35e+01  8.40e+06     1s\n"
     ]
    },
    {
     "name": "stderr",
     "output_type": "stream",
     "text": [
      "INFO:gurobipy:  15   1.15538552e+12 -7.76447920e+10  7.34e-01 4.35e+01  8.40e+06     1s\n"
     ]
    },
    {
     "name": "stdout",
     "output_type": "stream",
     "text": [
      "  16   1.12274019e+12  5.73837757e+11  5.14e-10 1.92e+01  3.71e+06     1s\n"
     ]
    },
    {
     "name": "stderr",
     "output_type": "stream",
     "text": [
      "INFO:gurobipy:  16   1.12274019e+12  5.73837757e+11  5.14e-10 1.92e+01  3.71e+06     1s\n"
     ]
    },
    {
     "name": "stdout",
     "output_type": "stream",
     "text": [
      "  17   1.07539319e+12  7.22347179e+11  3.76e-10 1.26e+01  2.39e+06     1s\n"
     ]
    },
    {
     "name": "stderr",
     "output_type": "stream",
     "text": [
      "INFO:gurobipy:  17   1.07539319e+12  7.22347179e+11  3.76e-10 1.26e+01  2.39e+06     1s\n"
     ]
    },
    {
     "name": "stdout",
     "output_type": "stream",
     "text": [
      "  18   1.06132745e+12  7.52980477e+11  3.15e-10 1.00e+01  2.09e+06     1s\n"
     ]
    },
    {
     "name": "stderr",
     "output_type": "stream",
     "text": [
      "INFO:gurobipy:  18   1.06132745e+12  7.52980477e+11  3.15e-10 1.00e+01  2.09e+06     1s\n"
     ]
    },
    {
     "name": "stdout",
     "output_type": "stream",
     "text": [
      "  19   1.03521950e+12  8.38664847e+11  2.83e-10 6.47e+00  1.33e+06     1s\n"
     ]
    },
    {
     "name": "stderr",
     "output_type": "stream",
     "text": [
      "INFO:gurobipy:  19   1.03521950e+12  8.38664847e+11  2.83e-10 6.47e+00  1.33e+06     1s\n"
     ]
    },
    {
     "name": "stdout",
     "output_type": "stream",
     "text": [
      "  20   9.93763041e+11  8.72799098e+11  3.00e-10 4.45e+00  8.18e+05     1s\n"
     ]
    },
    {
     "name": "stderr",
     "output_type": "stream",
     "text": [
      "INFO:gurobipy:  20   9.93763041e+11  8.72799098e+11  3.00e-10 4.45e+00  8.18e+05     1s\n"
     ]
    },
    {
     "name": "stdout",
     "output_type": "stream",
     "text": [
      "  21   9.73304128e+11  9.02062887e+11  3.99e-10 2.86e+00  4.82e+05     1s\n"
     ]
    },
    {
     "name": "stderr",
     "output_type": "stream",
     "text": [
      "INFO:gurobipy:  21   9.73304128e+11  9.02062887e+11  3.99e-10 2.86e+00  4.82e+05     1s\n"
     ]
    },
    {
     "name": "stdout",
     "output_type": "stream",
     "text": [
      "  22   9.64252782e+11  9.29249193e+11  2.74e-10 1.35e+00  2.37e+05     1s\n"
     ]
    },
    {
     "name": "stderr",
     "output_type": "stream",
     "text": [
      "INFO:gurobipy:  22   9.64252782e+11  9.29249193e+11  2.74e-10 1.35e+00  2.37e+05     1s\n"
     ]
    },
    {
     "name": "stdout",
     "output_type": "stream",
     "text": [
      "  23   9.57881553e+11  9.35582107e+11  3.16e-10 9.66e-01  1.51e+05     1s\n"
     ]
    },
    {
     "name": "stderr",
     "output_type": "stream",
     "text": [
      "INFO:gurobipy:  23   9.57881553e+11  9.35582107e+11  3.16e-10 9.66e-01  1.51e+05     1s\n"
     ]
    },
    {
     "name": "stdout",
     "output_type": "stream",
     "text": [
      "  24   9.55347916e+11  9.39945933e+11  3.28e-10 6.64e-01  1.04e+05     1s\n"
     ]
    },
    {
     "name": "stderr",
     "output_type": "stream",
     "text": [
      "INFO:gurobipy:  24   9.55347916e+11  9.39945933e+11  3.28e-10 6.64e-01  1.04e+05     1s\n"
     ]
    },
    {
     "name": "stdout",
     "output_type": "stream",
     "text": [
      "  25   9.53080365e+11  9.44822667e+11  5.79e-10 3.29e-01  5.58e+04     1s\n"
     ]
    },
    {
     "name": "stderr",
     "output_type": "stream",
     "text": [
      "INFO:gurobipy:  25   9.53080365e+11  9.44822667e+11  5.79e-10 3.29e-01  5.58e+04     1s\n"
     ]
    },
    {
     "name": "stdout",
     "output_type": "stream",
     "text": [
      "  26   9.50198386e+11  9.47964134e+11  1.31e-09 1.12e-01  1.51e+04     1s\n"
     ]
    },
    {
     "name": "stderr",
     "output_type": "stream",
     "text": [
      "INFO:gurobipy:  26   9.50198386e+11  9.47964134e+11  1.31e-09 1.12e-01  1.51e+04     1s\n"
     ]
    },
    {
     "name": "stdout",
     "output_type": "stream",
     "text": [
      "  27   9.49838280e+11  9.49440823e+11  3.40e-09 1.34e-02  2.69e+03     1s\n"
     ]
    },
    {
     "name": "stderr",
     "output_type": "stream",
     "text": [
      "INFO:gurobipy:  27   9.49838280e+11  9.49440823e+11  3.40e-09 1.34e-02  2.69e+03     1s\n"
     ]
    },
    {
     "name": "stdout",
     "output_type": "stream",
     "text": [
      "  28   9.49664189e+11  9.49633480e+11  2.62e-09 1.23e-03  2.08e+02     1s\n"
     ]
    },
    {
     "name": "stderr",
     "output_type": "stream",
     "text": [
      "INFO:gurobipy:  28   9.49664189e+11  9.49633480e+11  2.62e-09 1.23e-03  2.08e+02     1s\n"
     ]
    },
    {
     "name": "stdout",
     "output_type": "stream",
     "text": [
      "  29   9.49655643e+11  9.49650497e+11  1.82e-12 2.75e-04  3.48e+01     1s\n"
     ]
    },
    {
     "name": "stderr",
     "output_type": "stream",
     "text": [
      "INFO:gurobipy:  29   9.49655643e+11  9.49650497e+11  1.82e-12 2.75e-04  3.48e+01     1s\n"
     ]
    },
    {
     "name": "stdout",
     "output_type": "stream",
     "text": [
      "  30   9.49655471e+11  9.49655020e+11  6.23e-11 2.33e-05  3.05e+00     1s\n"
     ]
    },
    {
     "name": "stderr",
     "output_type": "stream",
     "text": [
      "INFO:gurobipy:  30   9.49655471e+11  9.49655020e+11  6.23e-11 2.33e-05  3.05e+00     1s\n"
     ]
    },
    {
     "name": "stdout",
     "output_type": "stream",
     "text": [
      "  31   9.49655408e+11  9.49655346e+11  1.87e-09 1.07e-06  4.19e-01     1s\n"
     ]
    },
    {
     "name": "stderr",
     "output_type": "stream",
     "text": [
      "INFO:gurobipy:  31   9.49655408e+11  9.49655346e+11  1.87e-09 1.07e-06  4.19e-01     1s\n"
     ]
    },
    {
     "name": "stdout",
     "output_type": "stream",
     "text": [
      "  32   9.49655390e+11  9.49655388e+11  2.01e-10 1.55e-06  1.64e-02     1s\n"
     ]
    },
    {
     "name": "stderr",
     "output_type": "stream",
     "text": [
      "INFO:gurobipy:  32   9.49655390e+11  9.49655388e+11  2.01e-10 1.55e-06  1.64e-02     1s\n"
     ]
    },
    {
     "name": "stdout",
     "output_type": "stream",
     "text": [
      "  33   9.49655388e+11  9.49655388e+11  8.95e-11 9.81e-06  2.43e-04     1s\n"
     ]
    },
    {
     "name": "stderr",
     "output_type": "stream",
     "text": [
      "INFO:gurobipy:  33   9.49655388e+11  9.49655388e+11  8.95e-11 9.81e-06  2.43e-04     1s\n"
     ]
    },
    {
     "name": "stdout",
     "output_type": "stream",
     "text": [
      "  34   9.49655388e+11  9.49655388e+11  1.02e-06 3.30e-05  2.45e-07     1s\n"
     ]
    },
    {
     "name": "stderr",
     "output_type": "stream",
     "text": [
      "INFO:gurobipy:  34   9.49655388e+11  9.49655388e+11  1.02e-06 3.30e-05  2.45e-07     1s\n"
     ]
    },
    {
     "name": "stdout",
     "output_type": "stream",
     "text": [
      "  35   9.49655388e+11  9.49655388e+11  1.76e-07 2.87e-05  2.45e-13     1s\n"
     ]
    },
    {
     "name": "stderr",
     "output_type": "stream",
     "text": [
      "INFO:gurobipy:  35   9.49655388e+11  9.49655388e+11  1.76e-07 2.87e-05  2.45e-13     1s\n"
     ]
    },
    {
     "name": "stdout",
     "output_type": "stream",
     "text": [
      "\n"
     ]
    },
    {
     "name": "stderr",
     "output_type": "stream",
     "text": [
      "INFO:gurobipy:\n"
     ]
    },
    {
     "name": "stdout",
     "output_type": "stream",
     "text": [
      "Barrier solved model in 35 iterations and 1.37 seconds (0.94 work units)\n"
     ]
    },
    {
     "name": "stderr",
     "output_type": "stream",
     "text": [
      "INFO:gurobipy:Barrier solved model in 35 iterations and 1.37 seconds (0.94 work units)\n"
     ]
    },
    {
     "name": "stdout",
     "output_type": "stream",
     "text": [
      "Optimal objective 9.49655388e+11\n"
     ]
    },
    {
     "name": "stderr",
     "output_type": "stream",
     "text": [
      "INFO:gurobipy:Optimal objective 9.49655388e+11\n"
     ]
    },
    {
     "name": "stdout",
     "output_type": "stream",
     "text": [
      "\n"
     ]
    },
    {
     "name": "stderr",
     "output_type": "stream",
     "text": [
      "INFO:gurobipy:\n"
     ]
    },
    {
     "name": "stdout",
     "output_type": "stream",
     "text": [
      "Crossover log...\n"
     ]
    },
    {
     "name": "stderr",
     "output_type": "stream",
     "text": [
      "INFO:gurobipy:Crossover log...\n"
     ]
    },
    {
     "name": "stdout",
     "output_type": "stream",
     "text": [
      "\n"
     ]
    },
    {
     "name": "stderr",
     "output_type": "stream",
     "text": [
      "INFO:gurobipy:\n"
     ]
    },
    {
     "name": "stdout",
     "output_type": "stream",
     "text": [
      "   21902 DPushes remaining with DInf 0.0000000e+00                 1s\n"
     ]
    },
    {
     "name": "stderr",
     "output_type": "stream",
     "text": [
      "INFO:gurobipy:   21902 DPushes remaining with DInf 0.0000000e+00                 1s\n"
     ]
    },
    {
     "name": "stdout",
     "output_type": "stream",
     "text": [
      "       0 DPushes remaining with DInf 0.0000000e+00                 2s\n"
     ]
    },
    {
     "name": "stderr",
     "output_type": "stream",
     "text": [
      "INFO:gurobipy:       0 DPushes remaining with DInf 0.0000000e+00                 2s\n"
     ]
    },
    {
     "name": "stdout",
     "output_type": "stream",
     "text": [
      "Warning: Markowitz tolerance tightened to 0.5\n"
     ]
    },
    {
     "name": "stderr",
     "output_type": "stream",
     "text": [
      "INFO:gurobipy:Warning: Markowitz tolerance tightened to 0.5\n"
     ]
    },
    {
     "name": "stdout",
     "output_type": "stream",
     "text": [
      "\n"
     ]
    },
    {
     "name": "stderr",
     "output_type": "stream",
     "text": [
      "INFO:gurobipy:\n"
     ]
    },
    {
     "name": "stdout",
     "output_type": "stream",
     "text": [
      "       0 PPushes remaining with PInf 0.0000000e+00                 2s\n"
     ]
    },
    {
     "name": "stderr",
     "output_type": "stream",
     "text": [
      "INFO:gurobipy:       0 PPushes remaining with PInf 0.0000000e+00                 2s\n"
     ]
    },
    {
     "name": "stdout",
     "output_type": "stream",
     "text": [
      "\n"
     ]
    },
    {
     "name": "stderr",
     "output_type": "stream",
     "text": [
      "INFO:gurobipy:\n"
     ]
    },
    {
     "name": "stdout",
     "output_type": "stream",
     "text": [
      "  Push phase complete: Pinf 0.0000000e+00, Dinf 5.3845361e-06      2s\n"
     ]
    },
    {
     "name": "stderr",
     "output_type": "stream",
     "text": [
      "INFO:gurobipy:  Push phase complete: Pinf 0.0000000e+00, Dinf 5.3845361e-06      2s\n"
     ]
    },
    {
     "name": "stdout",
     "output_type": "stream",
     "text": [
      "\n"
     ]
    },
    {
     "name": "stderr",
     "output_type": "stream",
     "text": [
      "INFO:gurobipy:\n"
     ]
    },
    {
     "name": "stdout",
     "output_type": "stream",
     "text": [
      "Iteration    Objective       Primal Inf.    Dual Inf.      Time\n"
     ]
    },
    {
     "name": "stderr",
     "output_type": "stream",
     "text": [
      "INFO:gurobipy:Iteration    Objective       Primal Inf.    Dual Inf.      Time\n"
     ]
    },
    {
     "name": "stdout",
     "output_type": "stream",
     "text": [
      "   12588    9.4965539e+11   0.000000e+00   0.000000e+00      2s\n"
     ]
    },
    {
     "name": "stderr",
     "output_type": "stream",
     "text": [
      "INFO:gurobipy:   12588    9.4965539e+11   0.000000e+00   0.000000e+00      2s\n"
     ]
    },
    {
     "name": "stdout",
     "output_type": "stream",
     "text": [
      "\n"
     ]
    },
    {
     "name": "stderr",
     "output_type": "stream",
     "text": [
      "INFO:gurobipy:\n"
     ]
    },
    {
     "name": "stdout",
     "output_type": "stream",
     "text": [
      "Solved with barrier\n"
     ]
    },
    {
     "name": "stderr",
     "output_type": "stream",
     "text": [
      "INFO:gurobipy:Solved with barrier\n"
     ]
    },
    {
     "name": "stdout",
     "output_type": "stream",
     "text": [
      "   12588    9.4965539e+11   0.000000e+00   0.000000e+00      2s\n"
     ]
    },
    {
     "name": "stderr",
     "output_type": "stream",
     "text": [
      "INFO:gurobipy:   12588    9.4965539e+11   0.000000e+00   0.000000e+00      2s\n"
     ]
    },
    {
     "name": "stdout",
     "output_type": "stream",
     "text": [
      "\n"
     ]
    },
    {
     "name": "stderr",
     "output_type": "stream",
     "text": [
      "INFO:gurobipy:\n"
     ]
    },
    {
     "name": "stdout",
     "output_type": "stream",
     "text": [
      "Solved in 12588 iterations and 2.11 seconds (3.90 work units)\n"
     ]
    },
    {
     "name": "stderr",
     "output_type": "stream",
     "text": [
      "INFO:gurobipy:Solved in 12588 iterations and 2.11 seconds (3.90 work units)\n"
     ]
    },
    {
     "name": "stdout",
     "output_type": "stream",
     "text": [
      "Optimal objective  9.496553880e+11\n"
     ]
    },
    {
     "name": "stderr",
     "output_type": "stream",
     "text": [
      "INFO:gurobipy:Optimal objective  9.496553880e+11\n",
      "INFO:linopy.constants: Optimization successful: \n",
      "Status: ok\n",
      "Termination condition: optimal\n",
      "Solution: 61327 primals, 131415 duals\n",
      "Objective: 9.50e+11\n",
      "Solver model: available\n",
      "Solver message: 2\n",
      "\n",
      "INFO:pypsa.optimization.optimize:The shadow-prices of the constraints Generator-ext-p-lower, Generator-ext-p-upper were not assigned to the network.\n"
     ]
    },
    {
     "data": {
      "application/vnd.plotly.v1+json": {
       "config": {
        "plotlyServerURL": "https://plot.ly"
       },
       "data": [
        {
         "line": {
          "color": "black"
         },
         "mode": "lines",
         "name": "demand",
         "type": "scatter",
         "x": [
          "2015-01-01T00:00:00.000000000",
          "2015-01-01T01:00:00.000000000",
          "2015-01-01T02:00:00.000000000",
          "2015-01-01T03:00:00.000000000",
          "2015-01-01T04:00:00.000000000",
          "2015-01-01T05:00:00.000000000",
          "2015-01-01T06:00:00.000000000",
          "2015-01-01T07:00:00.000000000",
          "2015-01-01T08:00:00.000000000",
          "2015-01-01T09:00:00.000000000",
          "2015-01-01T10:00:00.000000000",
          "2015-01-01T11:00:00.000000000",
          "2015-01-01T12:00:00.000000000",
          "2015-01-01T13:00:00.000000000",
          "2015-01-01T14:00:00.000000000",
          "2015-01-01T15:00:00.000000000",
          "2015-01-01T16:00:00.000000000",
          "2015-01-01T17:00:00.000000000",
          "2015-01-01T18:00:00.000000000",
          "2015-01-01T19:00:00.000000000",
          "2015-01-01T20:00:00.000000000",
          "2015-01-01T21:00:00.000000000",
          "2015-01-01T22:00:00.000000000",
          "2015-01-01T23:00:00.000000000",
          "2015-01-02T00:00:00.000000000",
          "2015-01-02T01:00:00.000000000",
          "2015-01-02T02:00:00.000000000",
          "2015-01-02T03:00:00.000000000",
          "2015-01-02T04:00:00.000000000",
          "2015-01-02T05:00:00.000000000",
          "2015-01-02T06:00:00.000000000",
          "2015-01-02T07:00:00.000000000",
          "2015-01-02T08:00:00.000000000",
          "2015-01-02T09:00:00.000000000",
          "2015-01-02T10:00:00.000000000",
          "2015-01-02T11:00:00.000000000",
          "2015-01-02T12:00:00.000000000",
          "2015-01-02T13:00:00.000000000",
          "2015-01-02T14:00:00.000000000",
          "2015-01-02T15:00:00.000000000",
          "2015-01-02T16:00:00.000000000",
          "2015-01-02T17:00:00.000000000",
          "2015-01-02T18:00:00.000000000",
          "2015-01-02T19:00:00.000000000",
          "2015-01-02T20:00:00.000000000",
          "2015-01-02T21:00:00.000000000",
          "2015-01-02T22:00:00.000000000",
          "2015-01-02T23:00:00.000000000",
          "2015-01-03T00:00:00.000000000",
          "2015-01-03T01:00:00.000000000",
          "2015-01-03T02:00:00.000000000",
          "2015-01-03T03:00:00.000000000",
          "2015-01-03T04:00:00.000000000",
          "2015-01-03T05:00:00.000000000",
          "2015-01-03T06:00:00.000000000",
          "2015-01-03T07:00:00.000000000",
          "2015-01-03T08:00:00.000000000",
          "2015-01-03T09:00:00.000000000",
          "2015-01-03T10:00:00.000000000",
          "2015-01-03T11:00:00.000000000",
          "2015-01-03T12:00:00.000000000",
          "2015-01-03T13:00:00.000000000",
          "2015-01-03T14:00:00.000000000",
          "2015-01-03T15:00:00.000000000",
          "2015-01-03T16:00:00.000000000",
          "2015-01-03T17:00:00.000000000",
          "2015-01-03T18:00:00.000000000",
          "2015-01-03T19:00:00.000000000",
          "2015-01-03T20:00:00.000000000",
          "2015-01-03T21:00:00.000000000",
          "2015-01-03T22:00:00.000000000",
          "2015-01-03T23:00:00.000000000",
          "2015-01-04T00:00:00.000000000",
          "2015-01-04T01:00:00.000000000",
          "2015-01-04T02:00:00.000000000",
          "2015-01-04T03:00:00.000000000",
          "2015-01-04T04:00:00.000000000",
          "2015-01-04T05:00:00.000000000",
          "2015-01-04T06:00:00.000000000",
          "2015-01-04T07:00:00.000000000",
          "2015-01-04T08:00:00.000000000",
          "2015-01-04T09:00:00.000000000",
          "2015-01-04T10:00:00.000000000",
          "2015-01-04T11:00:00.000000000",
          "2015-01-04T12:00:00.000000000",
          "2015-01-04T13:00:00.000000000",
          "2015-01-04T14:00:00.000000000",
          "2015-01-04T15:00:00.000000000",
          "2015-01-04T16:00:00.000000000",
          "2015-01-04T17:00:00.000000000",
          "2015-01-04T18:00:00.000000000",
          "2015-01-04T19:00:00.000000000",
          "2015-01-04T20:00:00.000000000",
          "2015-01-04T21:00:00.000000000",
          "2015-01-04T22:00:00.000000000",
          "2015-01-04T23:00:00.000000000"
         ],
         "y": {
          "bdata": "AAAAAAC2pEAAAAAAANiiQAAAAAAAoKFAAAAAAAD0oEAAAAAAALCgQAAAAAAA8qBAAAAAAABeoUAAAAAAAHShQAAAAAAATqJAAAAAAAB+pEAAAAAAAKqmQAAAAAAAlKhAAAAAAABEqUAAAAAAAJSoQAAAAAAAZKhAAAAAAACAqUAAAAAAAFKrQAAAAAAAEKtAAAAAAAAyqkAAAAAAAAapQAAAAAAA/KdAAAAAAACqpkAAAAAAAJamQAAAAAAAKKVAAAAAAAAoo0AAAAAAALShQAAAAAAA7qBAAAAAAACMoEAAAAAAALSgQAAAAAAAqKFAAAAAAABWo0AAAAAAAAilQAAAAAAA8qZAAAAAAADuqEAAAAAAABiqQAAAAAAAdqpAAAAAAABYqkAAAAAAAMipQAAAAAAAyqlAAAAAAADMq0AAAAAAAFyvQAAAAAAARq9AAAAAAADIrUAAAAAAAPirQAAAAAAAbKpAAAAAAACKqEAAAAAAACCoQAAAAAAAJqZAAAAAAAAqpEAAAAAAALyiQAAAAAAAtKFAAAAAAAAWoUAAAAAAAOagQAAAAAAAjqFAAAAAAACqokAAAAAAAMajQAAAAAAAsqVAAAAAAADCp0AAAAAAAPqoQAAAAAAAoKlAAAAAAACYqUAAAAAAABSpQAAAAAAAAKlAAAAAAACuqkAAAAAAAIKuQAAAAAAAkq5AAAAAAAAgrUAAAAAAAIarQAAAAAAA2KlAAAAAAAAYqEAAAAAAAPKnQAAAAAAAhKZAAAAAAACQpEAAAAAAAPSiQAAAAAAA4qFAAAAAAABYoUAAAAAAAPqgQAAAAAAAQKFAAAAAAAC+oUAAAAAAAByiQAAAAAAAdqNAAAAAAACypUAAAAAAAISnQAAAAAAAGKlAAAAAAAC0qUAAAAAAAEqpQAAAAAAA4qhAAAAAAAAIqkAAAAAAAHCtQAAAAAAA4q1AAAAAAAC8rEAAAAAAAHqrQAAAAAAA1qlAAAAAAACKp0AAAAAAAKSmQAAAAAAA3qRA",
          "dtype": "f8"
         }
        },
        {
         "line": {
          "color": "blue"
         },
         "mode": "lines",
         "name": "onshore wind",
         "type": "scatter",
         "x": [
          "2015-01-01T00:00:00.000000000",
          "2015-01-01T01:00:00.000000000",
          "2015-01-01T02:00:00.000000000",
          "2015-01-01T03:00:00.000000000",
          "2015-01-01T04:00:00.000000000",
          "2015-01-01T05:00:00.000000000",
          "2015-01-01T06:00:00.000000000",
          "2015-01-01T07:00:00.000000000",
          "2015-01-01T08:00:00.000000000",
          "2015-01-01T09:00:00.000000000",
          "2015-01-01T10:00:00.000000000",
          "2015-01-01T11:00:00.000000000",
          "2015-01-01T12:00:00.000000000",
          "2015-01-01T13:00:00.000000000",
          "2015-01-01T14:00:00.000000000",
          "2015-01-01T15:00:00.000000000",
          "2015-01-01T16:00:00.000000000",
          "2015-01-01T17:00:00.000000000",
          "2015-01-01T18:00:00.000000000",
          "2015-01-01T19:00:00.000000000",
          "2015-01-01T20:00:00.000000000",
          "2015-01-01T21:00:00.000000000",
          "2015-01-01T22:00:00.000000000",
          "2015-01-01T23:00:00.000000000",
          "2015-01-02T00:00:00.000000000",
          "2015-01-02T01:00:00.000000000",
          "2015-01-02T02:00:00.000000000",
          "2015-01-02T03:00:00.000000000",
          "2015-01-02T04:00:00.000000000",
          "2015-01-02T05:00:00.000000000",
          "2015-01-02T06:00:00.000000000",
          "2015-01-02T07:00:00.000000000",
          "2015-01-02T08:00:00.000000000",
          "2015-01-02T09:00:00.000000000",
          "2015-01-02T10:00:00.000000000",
          "2015-01-02T11:00:00.000000000",
          "2015-01-02T12:00:00.000000000",
          "2015-01-02T13:00:00.000000000",
          "2015-01-02T14:00:00.000000000",
          "2015-01-02T15:00:00.000000000",
          "2015-01-02T16:00:00.000000000",
          "2015-01-02T17:00:00.000000000",
          "2015-01-02T18:00:00.000000000",
          "2015-01-02T19:00:00.000000000",
          "2015-01-02T20:00:00.000000000",
          "2015-01-02T21:00:00.000000000",
          "2015-01-02T22:00:00.000000000",
          "2015-01-02T23:00:00.000000000",
          "2015-01-03T00:00:00.000000000",
          "2015-01-03T01:00:00.000000000",
          "2015-01-03T02:00:00.000000000",
          "2015-01-03T03:00:00.000000000",
          "2015-01-03T04:00:00.000000000",
          "2015-01-03T05:00:00.000000000",
          "2015-01-03T06:00:00.000000000",
          "2015-01-03T07:00:00.000000000",
          "2015-01-03T08:00:00.000000000",
          "2015-01-03T09:00:00.000000000",
          "2015-01-03T10:00:00.000000000",
          "2015-01-03T11:00:00.000000000",
          "2015-01-03T12:00:00.000000000",
          "2015-01-03T13:00:00.000000000",
          "2015-01-03T14:00:00.000000000",
          "2015-01-03T15:00:00.000000000",
          "2015-01-03T16:00:00.000000000",
          "2015-01-03T17:00:00.000000000",
          "2015-01-03T18:00:00.000000000",
          "2015-01-03T19:00:00.000000000",
          "2015-01-03T20:00:00.000000000",
          "2015-01-03T21:00:00.000000000",
          "2015-01-03T22:00:00.000000000",
          "2015-01-03T23:00:00.000000000",
          "2015-01-04T00:00:00.000000000",
          "2015-01-04T01:00:00.000000000",
          "2015-01-04T02:00:00.000000000",
          "2015-01-04T03:00:00.000000000",
          "2015-01-04T04:00:00.000000000",
          "2015-01-04T05:00:00.000000000",
          "2015-01-04T06:00:00.000000000",
          "2015-01-04T07:00:00.000000000",
          "2015-01-04T08:00:00.000000000",
          "2015-01-04T09:00:00.000000000",
          "2015-01-04T10:00:00.000000000",
          "2015-01-04T11:00:00.000000000",
          "2015-01-04T12:00:00.000000000",
          "2015-01-04T13:00:00.000000000",
          "2015-01-04T14:00:00.000000000",
          "2015-01-04T15:00:00.000000000",
          "2015-01-04T16:00:00.000000000",
          "2015-01-04T17:00:00.000000000",
          "2015-01-04T18:00:00.000000000",
          "2015-01-04T19:00:00.000000000",
          "2015-01-04T20:00:00.000000000",
          "2015-01-04T21:00:00.000000000",
          "2015-01-04T22:00:00.000000000",
          "2015-01-04T23:00:00.000000000"
         ],
         "y": {
          "bdata": "+q1U/StioEBC+41nyDKeQAplPvKWK59AAAAAAAD0oEAAAAAAALCgQAAAAAAA8qBAAAAAAABeoUAAAAAAAHShQAAAAAAATqJAAAAAAAB+pEAAAAAAAKqmQAAAAAAAlKhAerXDbFjaqEAAAAAAAJSoQAAAAAAAZKhA2zlXQakPqUD8ZYjdbiGpQL9ur4YQjKlA4JrgItadqUAAAAAAAAapQAAAAAAA/KdAAAAAAACqpkAAAAAAAJamQAAAAAAAKKVAAAAAAAAoo0AAAAAAALShQAAAAAAA7qBAAAAAAACMoEAAAAAAALSgQGvp0cbnYJ9AmSnBKNssoECoBJGtpJaaQG6SJ8jRL5dAlaRRt0/+k0ByF5c5XV6TQBdVFihmRZRAYye/A45EnkCfQn7qSnqZQHnZqfy2epRAqq3mro5lkkCKgbUSyVOSQIqBtRLJU5JAnmZkeqkalUBUTO9+xNqTQP4O3t5Y8JBAef2PjBUbkEBs6dHG52CPQC7y+G+Jy49AwG6vhhCMiUDkH1CUYcyFQAwyeoPfmoJAKNk7rhl+dkAQkwNlDClzQKgodz0DN3ZAulXyxKA+gECSQ8jVInCDQCYw5qwvr45AlPv7tWUvjEDgvsayND6FQGeISOW60n5A/w7e3ljwcEC3rJzDtm9oQK/qiQBdU2dAv26vhhCMaUDEzzhoPRpqQK/qiQBdU2dAef2PjBUbYEB5/Y+MFRtgQKcodz0DN2ZAsIkAHzDFZkDwOA1W0RlvQBD0jEY5t3NAqIkAHzDFdkAgFynrv2F1QJgF25h8jHRApMftW9aodUCw6okAXVN3QESA/dhTYXpAlKRRt0/+c0DEzzhoPRp6QFxlrEA0KH1AyHiOaSfpgUB087Cp/r2HQBzahZnxc5BAulXyxKA+kEAknJhcS5CRQMIXBYj6WpFAvrZ7ps3MkEC+tnumzcyQQIYgLDGcxZFAvrZ7ps3MkEAsXqsfpaySQLoxDDVCnpRAhvxFoT0llkARbx3VrYiXQNN3RH5P85dA",
          "dtype": "f8"
         }
        },
        {
         "line": {
          "color": "orange"
         },
         "mode": "lines",
         "name": "solar",
         "type": "scatter",
         "x": [
          "2015-01-01T00:00:00.000000000",
          "2015-01-01T01:00:00.000000000",
          "2015-01-01T02:00:00.000000000",
          "2015-01-01T03:00:00.000000000",
          "2015-01-01T04:00:00.000000000",
          "2015-01-01T05:00:00.000000000",
          "2015-01-01T06:00:00.000000000",
          "2015-01-01T07:00:00.000000000",
          "2015-01-01T08:00:00.000000000",
          "2015-01-01T09:00:00.000000000",
          "2015-01-01T10:00:00.000000000",
          "2015-01-01T11:00:00.000000000",
          "2015-01-01T12:00:00.000000000",
          "2015-01-01T13:00:00.000000000",
          "2015-01-01T14:00:00.000000000",
          "2015-01-01T15:00:00.000000000",
          "2015-01-01T16:00:00.000000000",
          "2015-01-01T17:00:00.000000000",
          "2015-01-01T18:00:00.000000000",
          "2015-01-01T19:00:00.000000000",
          "2015-01-01T20:00:00.000000000",
          "2015-01-01T21:00:00.000000000",
          "2015-01-01T22:00:00.000000000",
          "2015-01-01T23:00:00.000000000",
          "2015-01-02T00:00:00.000000000",
          "2015-01-02T01:00:00.000000000",
          "2015-01-02T02:00:00.000000000",
          "2015-01-02T03:00:00.000000000",
          "2015-01-02T04:00:00.000000000",
          "2015-01-02T05:00:00.000000000",
          "2015-01-02T06:00:00.000000000",
          "2015-01-02T07:00:00.000000000",
          "2015-01-02T08:00:00.000000000",
          "2015-01-02T09:00:00.000000000",
          "2015-01-02T10:00:00.000000000",
          "2015-01-02T11:00:00.000000000",
          "2015-01-02T12:00:00.000000000",
          "2015-01-02T13:00:00.000000000",
          "2015-01-02T14:00:00.000000000",
          "2015-01-02T15:00:00.000000000",
          "2015-01-02T16:00:00.000000000",
          "2015-01-02T17:00:00.000000000",
          "2015-01-02T18:00:00.000000000",
          "2015-01-02T19:00:00.000000000",
          "2015-01-02T20:00:00.000000000",
          "2015-01-02T21:00:00.000000000",
          "2015-01-02T22:00:00.000000000",
          "2015-01-02T23:00:00.000000000",
          "2015-01-03T00:00:00.000000000",
          "2015-01-03T01:00:00.000000000",
          "2015-01-03T02:00:00.000000000",
          "2015-01-03T03:00:00.000000000",
          "2015-01-03T04:00:00.000000000",
          "2015-01-03T05:00:00.000000000",
          "2015-01-03T06:00:00.000000000",
          "2015-01-03T07:00:00.000000000",
          "2015-01-03T08:00:00.000000000",
          "2015-01-03T09:00:00.000000000",
          "2015-01-03T10:00:00.000000000",
          "2015-01-03T11:00:00.000000000",
          "2015-01-03T12:00:00.000000000",
          "2015-01-03T13:00:00.000000000",
          "2015-01-03T14:00:00.000000000",
          "2015-01-03T15:00:00.000000000",
          "2015-01-03T16:00:00.000000000",
          "2015-01-03T17:00:00.000000000",
          "2015-01-03T18:00:00.000000000",
          "2015-01-03T19:00:00.000000000",
          "2015-01-03T20:00:00.000000000",
          "2015-01-03T21:00:00.000000000",
          "2015-01-03T22:00:00.000000000",
          "2015-01-03T23:00:00.000000000",
          "2015-01-04T00:00:00.000000000",
          "2015-01-04T01:00:00.000000000",
          "2015-01-04T02:00:00.000000000",
          "2015-01-04T03:00:00.000000000",
          "2015-01-04T04:00:00.000000000",
          "2015-01-04T05:00:00.000000000",
          "2015-01-04T06:00:00.000000000",
          "2015-01-04T07:00:00.000000000",
          "2015-01-04T08:00:00.000000000",
          "2015-01-04T09:00:00.000000000",
          "2015-01-04T10:00:00.000000000",
          "2015-01-04T11:00:00.000000000",
          "2015-01-04T12:00:00.000000000",
          "2015-01-04T13:00:00.000000000",
          "2015-01-04T14:00:00.000000000",
          "2015-01-04T15:00:00.000000000",
          "2015-01-04T16:00:00.000000000",
          "2015-01-04T17:00:00.000000000",
          "2015-01-04T18:00:00.000000000",
          "2015-01-04T19:00:00.000000000",
          "2015-01-04T20:00:00.000000000",
          "2015-01-04T21:00:00.000000000",
          "2015-01-04T22:00:00.000000000",
          "2015-01-04T23:00:00.000000000"
         ],
         "y": {
          "bdata": "AAAAAAAAAAAAAAAAAAAAAAAAAAAAAAAAAAAAAAAAAAAAAAAAAAAAAAAAAAAAAAAAAAAAAAAAAAAAAAAAAAAAAAAAAAAAAAAAAAAAAAAAAAAAAAAAAAAAAAAAAAAAAAAAAAAAAAAAAAAAAAAAAAAAAAAAAAAAAAAAAAAAAAAAAAAAAAAAAAAAAAAAAAAAAAAAAAAAAAAAAAAAAAAAAAAAAAAAAAAAAAAAAAAAAAAAAAAAAAAAAAAAAAAAAAAAAAAAAAAAAAAAAAAAAAAAAAAAAAAAAAAAAAAAAAAAAAAAAAAAAAAAAAAAAAAAAAAAAAAAAAAAAAAAAAAAAAAAAAAAAAAAAAAAAAAAAAAAAAAAAAAAAAAAAAAAAAAAAAAAAAAAAAAAAAAAAAAAAAAAAAAAAAAAAAAAAAAAAAAAAAAAAAAAAAAAAAAAAAAAAAAAAAAAAAAAAAAAAAAAAAAAAAAAAAAAAAAAAAAAAAAAAAAAAAAAAAAAAAAAAAAAAAAAAAAAAAAAAAAAAAAAAAAAAAAAAAAAAAAAAAAAAAAAAAAAAAAAAAAAAAAAAAAAAAAAAAAAAAAAAAAAAAAAAAAAAAAAAAAAAAAAAAAAAAAAAAAAAAAAAAAAAAAAAAAAAAAAAAAAAAAAAAAAAAAAAAAAAAAAAAAAAAAAAAAAAAAAAAAAAAAAAAAAAAAAAAAAAAAAAAAAAAAAAAAAAAAAAAAAAAAAAAAAAAAAAAAAAAAAAAAAAAAAAAAAAAAAAAAAAAAAAAAAAAAAAAAAAAAAAAAAAAAAAAAAAAAAAAAAAAAAAAAAAAAAAAAAAAAAAAAAAAAAAAAAAAAAAAAAAAAAAAAAAAAAAAAAAAAAAAAAAAAAAAAAAAAAAAAAAAAAAAAAAAAAAAAAAAAAAAAAAAAAAAAAAAAAAAAAAAAAAAAAAAAAAAAAAAAAAAAAAAAAAAAAAAAAAAAAAAAAAAAAAAAAAAAAAAAAAAAAAAAAAAAAAAAAAAAAAAAAAAAAAAAAAAAAAAAAAAAA",
          "dtype": "f8"
         }
        },
        {
         "line": {
          "color": "brown"
         },
         "mode": "lines",
         "name": "gas (OCGT)",
         "type": "scatter",
         "x": [
          "2015-01-01T00:00:00.000000000",
          "2015-01-01T01:00:00.000000000",
          "2015-01-01T02:00:00.000000000",
          "2015-01-01T03:00:00.000000000",
          "2015-01-01T04:00:00.000000000",
          "2015-01-01T05:00:00.000000000",
          "2015-01-01T06:00:00.000000000",
          "2015-01-01T07:00:00.000000000",
          "2015-01-01T08:00:00.000000000",
          "2015-01-01T09:00:00.000000000",
          "2015-01-01T10:00:00.000000000",
          "2015-01-01T11:00:00.000000000",
          "2015-01-01T12:00:00.000000000",
          "2015-01-01T13:00:00.000000000",
          "2015-01-01T14:00:00.000000000",
          "2015-01-01T15:00:00.000000000",
          "2015-01-01T16:00:00.000000000",
          "2015-01-01T17:00:00.000000000",
          "2015-01-01T18:00:00.000000000",
          "2015-01-01T19:00:00.000000000",
          "2015-01-01T20:00:00.000000000",
          "2015-01-01T21:00:00.000000000",
          "2015-01-01T22:00:00.000000000",
          "2015-01-01T23:00:00.000000000",
          "2015-01-02T00:00:00.000000000",
          "2015-01-02T01:00:00.000000000",
          "2015-01-02T02:00:00.000000000",
          "2015-01-02T03:00:00.000000000",
          "2015-01-02T04:00:00.000000000",
          "2015-01-02T05:00:00.000000000",
          "2015-01-02T06:00:00.000000000",
          "2015-01-02T07:00:00.000000000",
          "2015-01-02T08:00:00.000000000",
          "2015-01-02T09:00:00.000000000",
          "2015-01-02T10:00:00.000000000",
          "2015-01-02T11:00:00.000000000",
          "2015-01-02T12:00:00.000000000",
          "2015-01-02T13:00:00.000000000",
          "2015-01-02T14:00:00.000000000",
          "2015-01-02T15:00:00.000000000",
          "2015-01-02T16:00:00.000000000",
          "2015-01-02T17:00:00.000000000",
          "2015-01-02T18:00:00.000000000",
          "2015-01-02T19:00:00.000000000",
          "2015-01-02T20:00:00.000000000",
          "2015-01-02T21:00:00.000000000",
          "2015-01-02T22:00:00.000000000",
          "2015-01-02T23:00:00.000000000",
          "2015-01-03T00:00:00.000000000",
          "2015-01-03T01:00:00.000000000",
          "2015-01-03T02:00:00.000000000",
          "2015-01-03T03:00:00.000000000",
          "2015-01-03T04:00:00.000000000",
          "2015-01-03T05:00:00.000000000",
          "2015-01-03T06:00:00.000000000",
          "2015-01-03T07:00:00.000000000",
          "2015-01-03T08:00:00.000000000",
          "2015-01-03T09:00:00.000000000",
          "2015-01-03T10:00:00.000000000",
          "2015-01-03T11:00:00.000000000",
          "2015-01-03T12:00:00.000000000",
          "2015-01-03T13:00:00.000000000",
          "2015-01-03T14:00:00.000000000",
          "2015-01-03T15:00:00.000000000",
          "2015-01-03T16:00:00.000000000",
          "2015-01-03T17:00:00.000000000",
          "2015-01-03T18:00:00.000000000",
          "2015-01-03T19:00:00.000000000",
          "2015-01-03T20:00:00.000000000",
          "2015-01-03T21:00:00.000000000",
          "2015-01-03T22:00:00.000000000",
          "2015-01-03T23:00:00.000000000",
          "2015-01-04T00:00:00.000000000",
          "2015-01-04T01:00:00.000000000",
          "2015-01-04T02:00:00.000000000",
          "2015-01-04T03:00:00.000000000",
          "2015-01-04T04:00:00.000000000",
          "2015-01-04T05:00:00.000000000",
          "2015-01-04T06:00:00.000000000",
          "2015-01-04T07:00:00.000000000",
          "2015-01-04T08:00:00.000000000",
          "2015-01-04T09:00:00.000000000",
          "2015-01-04T10:00:00.000000000",
          "2015-01-04T11:00:00.000000000",
          "2015-01-04T12:00:00.000000000",
          "2015-01-04T13:00:00.000000000",
          "2015-01-04T14:00:00.000000000",
          "2015-01-04T15:00:00.000000000",
          "2015-01-04T16:00:00.000000000",
          "2015-01-04T17:00:00.000000000",
          "2015-01-04T18:00:00.000000000",
          "2015-01-04T19:00:00.000000000",
          "2015-01-04T20:00:00.000000000",
          "2015-01-04T21:00:00.000000000",
          "2015-01-04T22:00:00.000000000",
          "2015-01-04T23:00:00.000000000"
         ],
         "y": {
          "bdata": "LJBaFaA+fkD3Eshh3pR5QLPXDG5I42dAAAAAAAAAAAAAAAAAAAAAAAAAAAAAAAAAAAAAAAAAAAAAAAAAAAAAAAAAAAAAAAAAAAAAAAAAAAAAAAAAAAAAAAAAAAAAAAAAAAAAAAAAAAAAAAAAAAAAAAAAAAAAAAAAAAAAAAAAAABAoHknEklqQBgoEirv/V5Ac0DKPrpTEEAAAAAAAAAAAAAAAAAAAAAAAAAAAAAAAAAAAAAAAAAAAAAAAAAAAAAAAAAAAAAAAAAAAAAAAAAAAAAAAAAAAAAAAAAAAAAAAAAAAAAAAAAAAKa0cMnBuGZANbP2uSbpdECx9t2ktsKMQJJt2DcunJVAa1uuSLDFnECO6GjGormfQOmq6deZjp9AndhA/HFTlUBhvYEVtf2YQIcmVgNJAZ5AK6mMqDgNokA7P6V2G6alQDs/pXYbkKVAsczNQquuokDWWYjAnX6hQIH4kJDTZ6FAhwJwc+rgn0BKC5ccjHefQOmGA0g7TptAoEiovPd1mkAO8Nc1z3mZQPrmQj6QAplAtglxlHl0m0A8G7/mvOmbQNY1ojA/dpxAI9WGna8cnEA33huV7rucQO3njClo9JpAGwGBkiYqoEBIUE7Tch6jQPPuVqOoOaVAID4k5PTtpkA1NcaTBAGnQFVh9y/K/qZAFAmV9z6JqEAtYcCIe66rQC1hwIh7rqtAKAA3p06Sq0AoADenTvipQHaNKMyP6KdAZfcP/qwfpkBxLJ/qYnSlQH5hLtcYgaNAy+4f/FkroUA4ujUFkHefQJo+ydngiJ1AF44EacotnEBUhd2/KAebQO+fwAmrz5pA25YrEmxknUAPzPGlcJmcQKnm1O/yiZ5AzmGcJbaroEAjw5NVgAihQPISPTMHUqBAI9WGna8IoUDcY2ejtOufQD7o+ncFUZ9AoSTCLJkVoUChJMIsmX2kQL3vaecxc6RAoSTCLJnJo0DqUCpwrZehQEbO88q99Z1AegO6XsLWl0DvkOIqUqeUQC2Iu4GwsJBA",
          "dtype": "f8"
         }
        },
        {
         "line": {
          "color": "grey"
         },
         "mode": "lines",
         "name": "coal",
         "type": "scatter",
         "x": [
          "2015-01-01T00:00:00.000000000",
          "2015-01-01T01:00:00.000000000",
          "2015-01-01T02:00:00.000000000",
          "2015-01-01T03:00:00.000000000",
          "2015-01-01T04:00:00.000000000",
          "2015-01-01T05:00:00.000000000",
          "2015-01-01T06:00:00.000000000",
          "2015-01-01T07:00:00.000000000",
          "2015-01-01T08:00:00.000000000",
          "2015-01-01T09:00:00.000000000",
          "2015-01-01T10:00:00.000000000",
          "2015-01-01T11:00:00.000000000",
          "2015-01-01T12:00:00.000000000",
          "2015-01-01T13:00:00.000000000",
          "2015-01-01T14:00:00.000000000",
          "2015-01-01T15:00:00.000000000",
          "2015-01-01T16:00:00.000000000",
          "2015-01-01T17:00:00.000000000",
          "2015-01-01T18:00:00.000000000",
          "2015-01-01T19:00:00.000000000",
          "2015-01-01T20:00:00.000000000",
          "2015-01-01T21:00:00.000000000",
          "2015-01-01T22:00:00.000000000",
          "2015-01-01T23:00:00.000000000",
          "2015-01-02T00:00:00.000000000",
          "2015-01-02T01:00:00.000000000",
          "2015-01-02T02:00:00.000000000",
          "2015-01-02T03:00:00.000000000",
          "2015-01-02T04:00:00.000000000",
          "2015-01-02T05:00:00.000000000",
          "2015-01-02T06:00:00.000000000",
          "2015-01-02T07:00:00.000000000",
          "2015-01-02T08:00:00.000000000",
          "2015-01-02T09:00:00.000000000",
          "2015-01-02T10:00:00.000000000",
          "2015-01-02T11:00:00.000000000",
          "2015-01-02T12:00:00.000000000",
          "2015-01-02T13:00:00.000000000",
          "2015-01-02T14:00:00.000000000",
          "2015-01-02T15:00:00.000000000",
          "2015-01-02T16:00:00.000000000",
          "2015-01-02T17:00:00.000000000",
          "2015-01-02T18:00:00.000000000",
          "2015-01-02T19:00:00.000000000",
          "2015-01-02T20:00:00.000000000",
          "2015-01-02T21:00:00.000000000",
          "2015-01-02T22:00:00.000000000",
          "2015-01-02T23:00:00.000000000",
          "2015-01-03T00:00:00.000000000",
          "2015-01-03T01:00:00.000000000",
          "2015-01-03T02:00:00.000000000",
          "2015-01-03T03:00:00.000000000",
          "2015-01-03T04:00:00.000000000",
          "2015-01-03T05:00:00.000000000",
          "2015-01-03T06:00:00.000000000",
          "2015-01-03T07:00:00.000000000",
          "2015-01-03T08:00:00.000000000",
          "2015-01-03T09:00:00.000000000",
          "2015-01-03T10:00:00.000000000",
          "2015-01-03T11:00:00.000000000",
          "2015-01-03T12:00:00.000000000",
          "2015-01-03T13:00:00.000000000",
          "2015-01-03T14:00:00.000000000",
          "2015-01-03T15:00:00.000000000",
          "2015-01-03T16:00:00.000000000",
          "2015-01-03T17:00:00.000000000",
          "2015-01-03T18:00:00.000000000",
          "2015-01-03T19:00:00.000000000",
          "2015-01-03T20:00:00.000000000",
          "2015-01-03T21:00:00.000000000",
          "2015-01-03T22:00:00.000000000",
          "2015-01-03T23:00:00.000000000",
          "2015-01-04T00:00:00.000000000",
          "2015-01-04T01:00:00.000000000",
          "2015-01-04T02:00:00.000000000",
          "2015-01-04T03:00:00.000000000",
          "2015-01-04T04:00:00.000000000",
          "2015-01-04T05:00:00.000000000",
          "2015-01-04T06:00:00.000000000",
          "2015-01-04T07:00:00.000000000",
          "2015-01-04T08:00:00.000000000",
          "2015-01-04T09:00:00.000000000",
          "2015-01-04T10:00:00.000000000",
          "2015-01-04T11:00:00.000000000",
          "2015-01-04T12:00:00.000000000",
          "2015-01-04T13:00:00.000000000",
          "2015-01-04T14:00:00.000000000",
          "2015-01-04T15:00:00.000000000",
          "2015-01-04T16:00:00.000000000",
          "2015-01-04T17:00:00.000000000",
          "2015-01-04T18:00:00.000000000",
          "2015-01-04T19:00:00.000000000",
          "2015-01-04T20:00:00.000000000",
          "2015-01-04T21:00:00.000000000",
          "2015-01-04T22:00:00.000000000",
          "2015-01-04T23:00:00.000000000"
         ],
         "y": {
          "bdata": "AAAAAAAAAAAAAAAAAAAAAAAAAAAAAAAAAAAAAAAAAAAAAAAAAAAAAAAAAAAAAAAAAAAAAAAAAAAAAAAAAAAAAAAAAAAAAAAAAAAAAAAAAAAAAAAAAAAAAAAAAAAAAAAAAAAAAAAAAAAAAAAAAAAAAAAAAAAAAAAAAAAAAAAAAAAAAAAAAAAAAAAAAAAAAAAAAAAAAAAAAAAAAAAAAAAAAAAAAAAAAAAAAAAAAAAAAAAAAAAAAAAAAAAAAAAAAAAAAAAAAAAAAAAAAAAAAAAAAAAAAAAAAAAAAAAAAAAAAAAAAAAAAAAAAAAAAAAAAAAAAAAAAAAAAAAAAAAAAAAAAAAAAAAAAAAAAAAAAAAAAAAAAAAAAAAAAAAAAAAAAAAAAAAAAAAAAAAAAAAAAAAAAAAAAAAAAAAAAAAAAAAAAAAAAAAAAAAAAAAAAAAAAAAAAAAAAAAAAAAAAAAAAAAAAAAAAAAAAAAAAAAAAAAAAAAAAAAAAAAAAAAAAAAAAAAAAAAAAAAAAAAAAAAAAAAAAAAAAAAAAAAAAAAAAAAAAAAAAAAAAAAAAAAAAAAAAAAAAAAAAAAAAAAAAAAAAAAAAAAAAAAAAAAAAAAAAAAAAAAAAAAAAAAAAAAAAAAAAAAAAAAAAAAAAAAAAAAAAAAAAAAAAAAAAAAAAAAAAAAAAAAAAAAAAAAAAAAAAAAAAAAAAAAAAAAAAAAAAAAAAAAAAAAAAAAAAAAAAAAAAAAAAAAAAAAAAAAAAAAAAAAAAAAAAAAAAAAAAAAAAAAAAAAAAAAAAAAAAAAAAAAAAAAAAAAAAAAAAAAAAAAAAAAAAAAAAAAAAAAAAAAAAAAAAAAAAAAAAAAAAAAAAAAAAAAAAAAAAAAAAAAAAAAAAAAAAAAAAAAAAAAAAAAAAAAAAAAAAAAAAAAAAAAAAAAAAAAAAAAAAAAAAAAAAAAAAAAAAAAAAAAAAAAAAAAAAAAAAAAAAAAAAAAAAAAAAAAAAAAAAAAAAAAAAAAAAAAAAAAAAAAA",
          "dtype": "f8"
         }
        },
        {
         "line": {
          "color": "green"
         },
         "mode": "lines",
         "name": "biomass",
         "type": "scatter",
         "x": [
          "2015-01-01T00:00:00.000000000",
          "2015-01-01T01:00:00.000000000",
          "2015-01-01T02:00:00.000000000",
          "2015-01-01T03:00:00.000000000",
          "2015-01-01T04:00:00.000000000",
          "2015-01-01T05:00:00.000000000",
          "2015-01-01T06:00:00.000000000",
          "2015-01-01T07:00:00.000000000",
          "2015-01-01T08:00:00.000000000",
          "2015-01-01T09:00:00.000000000",
          "2015-01-01T10:00:00.000000000",
          "2015-01-01T11:00:00.000000000",
          "2015-01-01T12:00:00.000000000",
          "2015-01-01T13:00:00.000000000",
          "2015-01-01T14:00:00.000000000",
          "2015-01-01T15:00:00.000000000",
          "2015-01-01T16:00:00.000000000",
          "2015-01-01T17:00:00.000000000",
          "2015-01-01T18:00:00.000000000",
          "2015-01-01T19:00:00.000000000",
          "2015-01-01T20:00:00.000000000",
          "2015-01-01T21:00:00.000000000",
          "2015-01-01T22:00:00.000000000",
          "2015-01-01T23:00:00.000000000",
          "2015-01-02T00:00:00.000000000",
          "2015-01-02T01:00:00.000000000",
          "2015-01-02T02:00:00.000000000",
          "2015-01-02T03:00:00.000000000",
          "2015-01-02T04:00:00.000000000",
          "2015-01-02T05:00:00.000000000",
          "2015-01-02T06:00:00.000000000",
          "2015-01-02T07:00:00.000000000",
          "2015-01-02T08:00:00.000000000",
          "2015-01-02T09:00:00.000000000",
          "2015-01-02T10:00:00.000000000",
          "2015-01-02T11:00:00.000000000",
          "2015-01-02T12:00:00.000000000",
          "2015-01-02T13:00:00.000000000",
          "2015-01-02T14:00:00.000000000",
          "2015-01-02T15:00:00.000000000",
          "2015-01-02T16:00:00.000000000",
          "2015-01-02T17:00:00.000000000",
          "2015-01-02T18:00:00.000000000",
          "2015-01-02T19:00:00.000000000",
          "2015-01-02T20:00:00.000000000",
          "2015-01-02T21:00:00.000000000",
          "2015-01-02T22:00:00.000000000",
          "2015-01-02T23:00:00.000000000",
          "2015-01-03T00:00:00.000000000",
          "2015-01-03T01:00:00.000000000",
          "2015-01-03T02:00:00.000000000",
          "2015-01-03T03:00:00.000000000",
          "2015-01-03T04:00:00.000000000",
          "2015-01-03T05:00:00.000000000",
          "2015-01-03T06:00:00.000000000",
          "2015-01-03T07:00:00.000000000",
          "2015-01-03T08:00:00.000000000",
          "2015-01-03T09:00:00.000000000",
          "2015-01-03T10:00:00.000000000",
          "2015-01-03T11:00:00.000000000",
          "2015-01-03T12:00:00.000000000",
          "2015-01-03T13:00:00.000000000",
          "2015-01-03T14:00:00.000000000",
          "2015-01-03T15:00:00.000000000",
          "2015-01-03T16:00:00.000000000",
          "2015-01-03T17:00:00.000000000",
          "2015-01-03T18:00:00.000000000",
          "2015-01-03T19:00:00.000000000",
          "2015-01-03T20:00:00.000000000",
          "2015-01-03T21:00:00.000000000",
          "2015-01-03T22:00:00.000000000",
          "2015-01-03T23:00:00.000000000",
          "2015-01-04T00:00:00.000000000",
          "2015-01-04T01:00:00.000000000",
          "2015-01-04T02:00:00.000000000",
          "2015-01-04T03:00:00.000000000",
          "2015-01-04T04:00:00.000000000",
          "2015-01-04T05:00:00.000000000",
          "2015-01-04T06:00:00.000000000",
          "2015-01-04T07:00:00.000000000",
          "2015-01-04T08:00:00.000000000",
          "2015-01-04T09:00:00.000000000",
          "2015-01-04T10:00:00.000000000",
          "2015-01-04T11:00:00.000000000",
          "2015-01-04T12:00:00.000000000",
          "2015-01-04T13:00:00.000000000",
          "2015-01-04T14:00:00.000000000",
          "2015-01-04T15:00:00.000000000",
          "2015-01-04T16:00:00.000000000",
          "2015-01-04T17:00:00.000000000",
          "2015-01-04T18:00:00.000000000",
          "2015-01-04T19:00:00.000000000",
          "2015-01-04T20:00:00.000000000",
          "2015-01-04T21:00:00.000000000",
          "2015-01-04T22:00:00.000000000",
          "2015-01-04T23:00:00.000000000"
         ],
         "y": {
          "bdata": "AAAAAACAUUAAAAAAAIBRQAAAAAAAgFFAAAAAAAAAAAAAAAAAAAAAAAAAAAAAAAAAAAAAAAAAAAAAAAAAAAAAAAAAAAAAAAAAAAAAAAAAAAAAAAAAAAAAAAAAAAAAAAAAgKESz+RpSkAAAAAAAAAAAAAAAAAAAAAAQIkxqq8VTEAAAAAAAIBRQAAAAAAAgFFAAAAAAACAUUAAAAAAAAAAAAAAAAAAAAAAAAAAAAAAAAAAAAAAAAAAAAAAAAAAAAAAAAAAAAAAAAAAAAAAAAAAAAAAAAAAAAAAAAAAAAAAAAAAAAAAAAAAAAAAAAAAgFFAAAAAAACAUUAAAAAAAIBRQAAAAAAAgFFAAAAAAACAUUAAAAAAAIBRQAAAAAAAgFFAAAAAAACAUUAAAAAAAIBRQAAAAAAAgFFAAAAAAACAUUAAAAAAAIBRQAAAAAAAgFFAAAAAAACAUUAAAAAAAIBRQAAAAAAAgFFAAAAAAACAUUAAAAAAAIBRQAAAAAAAgFFAAAAAAACAUUAAAAAAAIBRQAAAAAAAgFFAAAAAAACAUUAAAAAAAIBRQAAAAAAAgFFAAAAAAACAUUAAAAAAAIBRQAAAAAAAgFFAAAAAAACAUUAAAAAAAIBRQAAAAAAAgFFAAAAAAACAUUAAAAAAAIBRQAAAAAAAgFFAAAAAAACAUUAAAAAAAIBRQAAAAAAAgFFAAAAAAACAUUAAAAAAAIBRQAAAAAAAgFFAAAAAAACAUUAAAAAAAIBRQAAAAAAAgFFAAAAAAACAUUAAAAAAAIBRQAAAAAAAgFFAAAAAAACAUUAAAAAAAIBRQAAAAAAAgFFAAAAAAACAUUAAAAAAAIBRQAAAAAAAgFFAAAAAAACAUUAAAAAAAIBRQAAAAAAAgFFAAAAAAACAUUAAAAAAAIBRQAAAAAAAgFFAAAAAAACAUUAAAAAAAIBRQAAAAAAAgFFAAAAAAACAUUAAAAAAAIBRQAAAAAAAgFFAAAAAAACAUUAAAAAAAIBRQAAAAAAAgFFA",
          "dtype": "f8"
         }
        },
        {
         "line": {
          "color": "black"
         },
         "mode": "lines",
         "name": "oil",
         "type": "scatter",
         "x": [
          "2015-01-01T00:00:00.000000000",
          "2015-01-01T01:00:00.000000000",
          "2015-01-01T02:00:00.000000000",
          "2015-01-01T03:00:00.000000000",
          "2015-01-01T04:00:00.000000000",
          "2015-01-01T05:00:00.000000000",
          "2015-01-01T06:00:00.000000000",
          "2015-01-01T07:00:00.000000000",
          "2015-01-01T08:00:00.000000000",
          "2015-01-01T09:00:00.000000000",
          "2015-01-01T10:00:00.000000000",
          "2015-01-01T11:00:00.000000000",
          "2015-01-01T12:00:00.000000000",
          "2015-01-01T13:00:00.000000000",
          "2015-01-01T14:00:00.000000000",
          "2015-01-01T15:00:00.000000000",
          "2015-01-01T16:00:00.000000000",
          "2015-01-01T17:00:00.000000000",
          "2015-01-01T18:00:00.000000000",
          "2015-01-01T19:00:00.000000000",
          "2015-01-01T20:00:00.000000000",
          "2015-01-01T21:00:00.000000000",
          "2015-01-01T22:00:00.000000000",
          "2015-01-01T23:00:00.000000000",
          "2015-01-02T00:00:00.000000000",
          "2015-01-02T01:00:00.000000000",
          "2015-01-02T02:00:00.000000000",
          "2015-01-02T03:00:00.000000000",
          "2015-01-02T04:00:00.000000000",
          "2015-01-02T05:00:00.000000000",
          "2015-01-02T06:00:00.000000000",
          "2015-01-02T07:00:00.000000000",
          "2015-01-02T08:00:00.000000000",
          "2015-01-02T09:00:00.000000000",
          "2015-01-02T10:00:00.000000000",
          "2015-01-02T11:00:00.000000000",
          "2015-01-02T12:00:00.000000000",
          "2015-01-02T13:00:00.000000000",
          "2015-01-02T14:00:00.000000000",
          "2015-01-02T15:00:00.000000000",
          "2015-01-02T16:00:00.000000000",
          "2015-01-02T17:00:00.000000000",
          "2015-01-02T18:00:00.000000000",
          "2015-01-02T19:00:00.000000000",
          "2015-01-02T20:00:00.000000000",
          "2015-01-02T21:00:00.000000000",
          "2015-01-02T22:00:00.000000000",
          "2015-01-02T23:00:00.000000000",
          "2015-01-03T00:00:00.000000000",
          "2015-01-03T01:00:00.000000000",
          "2015-01-03T02:00:00.000000000",
          "2015-01-03T03:00:00.000000000",
          "2015-01-03T04:00:00.000000000",
          "2015-01-03T05:00:00.000000000",
          "2015-01-03T06:00:00.000000000",
          "2015-01-03T07:00:00.000000000",
          "2015-01-03T08:00:00.000000000",
          "2015-01-03T09:00:00.000000000",
          "2015-01-03T10:00:00.000000000",
          "2015-01-03T11:00:00.000000000",
          "2015-01-03T12:00:00.000000000",
          "2015-01-03T13:00:00.000000000",
          "2015-01-03T14:00:00.000000000",
          "2015-01-03T15:00:00.000000000",
          "2015-01-03T16:00:00.000000000",
          "2015-01-03T17:00:00.000000000",
          "2015-01-03T18:00:00.000000000",
          "2015-01-03T19:00:00.000000000",
          "2015-01-03T20:00:00.000000000",
          "2015-01-03T21:00:00.000000000",
          "2015-01-03T22:00:00.000000000",
          "2015-01-03T23:00:00.000000000",
          "2015-01-04T00:00:00.000000000",
          "2015-01-04T01:00:00.000000000",
          "2015-01-04T02:00:00.000000000",
          "2015-01-04T03:00:00.000000000",
          "2015-01-04T04:00:00.000000000",
          "2015-01-04T05:00:00.000000000",
          "2015-01-04T06:00:00.000000000",
          "2015-01-04T07:00:00.000000000",
          "2015-01-04T08:00:00.000000000",
          "2015-01-04T09:00:00.000000000",
          "2015-01-04T10:00:00.000000000",
          "2015-01-04T11:00:00.000000000",
          "2015-01-04T12:00:00.000000000",
          "2015-01-04T13:00:00.000000000",
          "2015-01-04T14:00:00.000000000",
          "2015-01-04T15:00:00.000000000",
          "2015-01-04T16:00:00.000000000",
          "2015-01-04T17:00:00.000000000",
          "2015-01-04T18:00:00.000000000",
          "2015-01-04T19:00:00.000000000",
          "2015-01-04T20:00:00.000000000",
          "2015-01-04T21:00:00.000000000",
          "2015-01-04T22:00:00.000000000",
          "2015-01-04T23:00:00.000000000"
         ],
         "y": {
          "bdata": "AAAAAAAAAAAAAAAAAAAAAAAAAAAAAAAAAAAAAAAAAAAAAAAAAAAAAAAAAAAAAAAAAAAAAAAAAAAAAAAAAAAAAAAAAAAAAAAAAAAAAAAAAAAAAAAAAAAAAAAAAAAAAAAAAAAAAAAAAAAAAAAAAAAAAAAAAAAAAAAAAAAAAAAAAAAAAAAAAAAAAAAAAAAAAAAAAAAAAAAAAAAAAAAAAAAAAAAAAAAAAAAAAAAAAAAAAAAAAAAAAAAAAAAAAAAAAAAAAAAAAAAAAAAAAAAAAAAAAAAAAAAAAAAAAAAAAAAAAAAAAAAAAAAAAAAAAAAAAAAAAAAAAAAAAAAAAAAAAAAAAAAAAAAAAAAAAAAAAAAAAAAAAAAAAAAAAAAAAAAAAAAAAAAAAAAAAAAAAAAAAAAAAAAAAAAAAAAAAAAAAAAAAAAAAAAAAAAAAAAAAAAAAAAAAAAAAAAAAAAAAAAAAAAAAAAAAAAAAAAAAAAAAAAAAAAAAAAAAAAAAAAAAAAAAAAAAAAAAAAAAAAAAAAAAAAAAAAAAAAAAAAAAAAAAAAAAAAAAAAAAAAAAAAAAAAAAAAAAAAAAAAAAAAAAAAAAAAAAAAAAAAAAAAAAAAAAAAAAAAAAAAAAAAAAAAAAAAAAAAAAAAAAAAAAAAAAAAAAAAAAAAAAAAAAAAAAAAAAAAAAADgOoIXFLxUQAAF4ObUSVxAAAAAAAAAAAAAAAAAAAAAAAAAAAAAAAAAAAAAAAAAAAAAAAAAAAAAAAAAAAAAAAAAAAAAAAAAAAAAAAAAAAAAAAAAAAAAAAAAAAAAAAAAAAAAAAAAAAAAAAAAAAAAAAAAAAAAAAAAAAAAAAAAAAAAAAAAAAAAAAAAAAAAAAAAAAAAAAAAAAAAAAAAAAAAAAAAAAAAAAAAAAAAAAAAAAAAAAAAAAAAAAAAAAAAAAAAAAAAAAAAAAAAAAAAAAAAAAAAAAAAAAAAAAAAAAAAAAAAAAAAAAAAAAAAAAAAAAAAAAAAAAAAAAAAAAAAAAAAAAAA",
          "dtype": "f8"
         }
        },
        {
         "line": {
          "color": "purple"
         },
         "mode": "lines",
         "name": "offshore wind",
         "type": "scatter",
         "x": [
          "2015-01-01T00:00:00.000000000",
          "2015-01-01T01:00:00.000000000",
          "2015-01-01T02:00:00.000000000",
          "2015-01-01T03:00:00.000000000",
          "2015-01-01T04:00:00.000000000",
          "2015-01-01T05:00:00.000000000",
          "2015-01-01T06:00:00.000000000",
          "2015-01-01T07:00:00.000000000",
          "2015-01-01T08:00:00.000000000",
          "2015-01-01T09:00:00.000000000",
          "2015-01-01T10:00:00.000000000",
          "2015-01-01T11:00:00.000000000",
          "2015-01-01T12:00:00.000000000",
          "2015-01-01T13:00:00.000000000",
          "2015-01-01T14:00:00.000000000",
          "2015-01-01T15:00:00.000000000",
          "2015-01-01T16:00:00.000000000",
          "2015-01-01T17:00:00.000000000",
          "2015-01-01T18:00:00.000000000",
          "2015-01-01T19:00:00.000000000",
          "2015-01-01T20:00:00.000000000",
          "2015-01-01T21:00:00.000000000",
          "2015-01-01T22:00:00.000000000",
          "2015-01-01T23:00:00.000000000",
          "2015-01-02T00:00:00.000000000",
          "2015-01-02T01:00:00.000000000",
          "2015-01-02T02:00:00.000000000",
          "2015-01-02T03:00:00.000000000",
          "2015-01-02T04:00:00.000000000",
          "2015-01-02T05:00:00.000000000",
          "2015-01-02T06:00:00.000000000",
          "2015-01-02T07:00:00.000000000",
          "2015-01-02T08:00:00.000000000",
          "2015-01-02T09:00:00.000000000",
          "2015-01-02T10:00:00.000000000",
          "2015-01-02T11:00:00.000000000",
          "2015-01-02T12:00:00.000000000",
          "2015-01-02T13:00:00.000000000",
          "2015-01-02T14:00:00.000000000",
          "2015-01-02T15:00:00.000000000",
          "2015-01-02T16:00:00.000000000",
          "2015-01-02T17:00:00.000000000",
          "2015-01-02T18:00:00.000000000",
          "2015-01-02T19:00:00.000000000",
          "2015-01-02T20:00:00.000000000",
          "2015-01-02T21:00:00.000000000",
          "2015-01-02T22:00:00.000000000",
          "2015-01-02T23:00:00.000000000",
          "2015-01-03T00:00:00.000000000",
          "2015-01-03T01:00:00.000000000",
          "2015-01-03T02:00:00.000000000",
          "2015-01-03T03:00:00.000000000",
          "2015-01-03T04:00:00.000000000",
          "2015-01-03T05:00:00.000000000",
          "2015-01-03T06:00:00.000000000",
          "2015-01-03T07:00:00.000000000",
          "2015-01-03T08:00:00.000000000",
          "2015-01-03T09:00:00.000000000",
          "2015-01-03T10:00:00.000000000",
          "2015-01-03T11:00:00.000000000",
          "2015-01-03T12:00:00.000000000",
          "2015-01-03T13:00:00.000000000",
          "2015-01-03T14:00:00.000000000",
          "2015-01-03T15:00:00.000000000",
          "2015-01-03T16:00:00.000000000",
          "2015-01-03T17:00:00.000000000",
          "2015-01-03T18:00:00.000000000",
          "2015-01-03T19:00:00.000000000",
          "2015-01-03T20:00:00.000000000",
          "2015-01-03T21:00:00.000000000",
          "2015-01-03T22:00:00.000000000",
          "2015-01-03T23:00:00.000000000",
          "2015-01-04T00:00:00.000000000",
          "2015-01-04T01:00:00.000000000",
          "2015-01-04T02:00:00.000000000",
          "2015-01-04T03:00:00.000000000",
          "2015-01-04T04:00:00.000000000",
          "2015-01-04T05:00:00.000000000",
          "2015-01-04T06:00:00.000000000",
          "2015-01-04T07:00:00.000000000",
          "2015-01-04T08:00:00.000000000",
          "2015-01-04T09:00:00.000000000",
          "2015-01-04T10:00:00.000000000",
          "2015-01-04T11:00:00.000000000",
          "2015-01-04T12:00:00.000000000",
          "2015-01-04T13:00:00.000000000",
          "2015-01-04T14:00:00.000000000",
          "2015-01-04T15:00:00.000000000",
          "2015-01-04T16:00:00.000000000",
          "2015-01-04T17:00:00.000000000",
          "2015-01-04T18:00:00.000000000",
          "2015-01-04T19:00:00.000000000",
          "2015-01-04T20:00:00.000000000",
          "2015-01-04T21:00:00.000000000",
          "2015-01-04T22:00:00.000000000",
          "2015-01-04T23:00:00.000000000"
         ],
         "y": {
          "bdata": "AAAAAAAAAAAAAAAAAAAAAAAAAAAAAAAAAAAAAAAAAAAAAAAAAAAAAAAAAAAAAAAAAAAAAAAAAAAAAAAAAAAAAAAAAAAAAAAAAAAAAAAAAAAAAAAAAAAAAAAAAAAAAAAAAAAAAAAAAAAAAAAAAAAAAAAAAAAAAAAAAAAAAAAAAAAAAAAAAAAAAAAAAAAAAAAAAAAAAAAAAAAAAAAAAAAAAAAAAAAAAAAAAAAAAAAAAAAAAAAAAAAAAAAAAAAAAAAAAAAAAAAAAAAAAAAAAAAAAAAAAAAAAAAAAAAAAAAAAAAAAAAAAAAAAAAAAAAAAAAAAAAAAAAAAAAAAAAAAAAAAAAAAAAAAAAAAAAAAAAAAAAAAAAAAAAAAAAAAAAAAAAAAAAAAAAAAAAAAAAAAAAAAAAAAAAAAAAAAAAAAAAAAAAAAAAAAAAAAAAAAAAAAAAAAAAAAAAAAAAAAAAAAAAAAAAAAAAAAAAAAAAAAAAAAAAAAAAAAAAAAAAAAAAAAAAAAAAAAAAAAAAAAAAAAAAAAAAAAAAAAAAAAAAAAAAAAAAAAAAAAAAAAAAAAAAAAAAAAAAAAAAAAAAAAAAAAAAAAAAAAAAAAAAAAAAAAAAAAAAAAAAAAAAAAAAAAAAAAAAAAAAAAAAAAAAAAAAAAAAAAAAAAAAAAAAAAAAAAAAAAAAAAAAAAAAAAAAAAAAAAAAAAAAAAAAAAAAAAAAAAAAAAAAAAAAAAAAAAAAAAAAAAAAAAAAAAAAAAAAAAAAAAAAAAAAAAAAAAAAAAAAAAAAAAAAAAAAAAAAAAAAAAAAAAAAAAAAAAAAAAAAAAAAAAAAAAAAAAAAAAAAAAAAAAAAAAAAAAAAAAAAAAAAAAAAAAAAAAAAAAAAAAAAAAAAAAAAAAAAAAAAAAAAAAAAAAAAAAAAAAAAAAAAAAAAAAAAAAAAAAAAAAAAAAAAAAAAAAAAAAAAAAAAAAAAAAAAAAAAAAAAAAAAAAAAAAAAAAAAAAAAAAAAAAAAAAAAAAAAAAAAA",
          "dtype": "f8"
         }
        }
       ],
       "layout": {
        "legend": {
         "traceorder": "normal",
         "x": 0,
         "y": 1
        },
        "template": {
         "data": {
          "bar": [
           {
            "error_x": {
             "color": "#2a3f5f"
            },
            "error_y": {
             "color": "#2a3f5f"
            },
            "marker": {
             "line": {
              "color": "#E5ECF6",
              "width": 0.5
             },
             "pattern": {
              "fillmode": "overlay",
              "size": 10,
              "solidity": 0.2
             }
            },
            "type": "bar"
           }
          ],
          "barpolar": [
           {
            "marker": {
             "line": {
              "color": "#E5ECF6",
              "width": 0.5
             },
             "pattern": {
              "fillmode": "overlay",
              "size": 10,
              "solidity": 0.2
             }
            },
            "type": "barpolar"
           }
          ],
          "carpet": [
           {
            "aaxis": {
             "endlinecolor": "#2a3f5f",
             "gridcolor": "white",
             "linecolor": "white",
             "minorgridcolor": "white",
             "startlinecolor": "#2a3f5f"
            },
            "baxis": {
             "endlinecolor": "#2a3f5f",
             "gridcolor": "white",
             "linecolor": "white",
             "minorgridcolor": "white",
             "startlinecolor": "#2a3f5f"
            },
            "type": "carpet"
           }
          ],
          "choropleth": [
           {
            "colorbar": {
             "outlinewidth": 0,
             "ticks": ""
            },
            "type": "choropleth"
           }
          ],
          "contour": [
           {
            "colorbar": {
             "outlinewidth": 0,
             "ticks": ""
            },
            "colorscale": [
             [
              0,
              "#0d0887"
             ],
             [
              0.1111111111111111,
              "#46039f"
             ],
             [
              0.2222222222222222,
              "#7201a8"
             ],
             [
              0.3333333333333333,
              "#9c179e"
             ],
             [
              0.4444444444444444,
              "#bd3786"
             ],
             [
              0.5555555555555556,
              "#d8576b"
             ],
             [
              0.6666666666666666,
              "#ed7953"
             ],
             [
              0.7777777777777778,
              "#fb9f3a"
             ],
             [
              0.8888888888888888,
              "#fdca26"
             ],
             [
              1,
              "#f0f921"
             ]
            ],
            "type": "contour"
           }
          ],
          "contourcarpet": [
           {
            "colorbar": {
             "outlinewidth": 0,
             "ticks": ""
            },
            "type": "contourcarpet"
           }
          ],
          "heatmap": [
           {
            "colorbar": {
             "outlinewidth": 0,
             "ticks": ""
            },
            "colorscale": [
             [
              0,
              "#0d0887"
             ],
             [
              0.1111111111111111,
              "#46039f"
             ],
             [
              0.2222222222222222,
              "#7201a8"
             ],
             [
              0.3333333333333333,
              "#9c179e"
             ],
             [
              0.4444444444444444,
              "#bd3786"
             ],
             [
              0.5555555555555556,
              "#d8576b"
             ],
             [
              0.6666666666666666,
              "#ed7953"
             ],
             [
              0.7777777777777778,
              "#fb9f3a"
             ],
             [
              0.8888888888888888,
              "#fdca26"
             ],
             [
              1,
              "#f0f921"
             ]
            ],
            "type": "heatmap"
           }
          ],
          "histogram": [
           {
            "marker": {
             "pattern": {
              "fillmode": "overlay",
              "size": 10,
              "solidity": 0.2
             }
            },
            "type": "histogram"
           }
          ],
          "histogram2d": [
           {
            "colorbar": {
             "outlinewidth": 0,
             "ticks": ""
            },
            "colorscale": [
             [
              0,
              "#0d0887"
             ],
             [
              0.1111111111111111,
              "#46039f"
             ],
             [
              0.2222222222222222,
              "#7201a8"
             ],
             [
              0.3333333333333333,
              "#9c179e"
             ],
             [
              0.4444444444444444,
              "#bd3786"
             ],
             [
              0.5555555555555556,
              "#d8576b"
             ],
             [
              0.6666666666666666,
              "#ed7953"
             ],
             [
              0.7777777777777778,
              "#fb9f3a"
             ],
             [
              0.8888888888888888,
              "#fdca26"
             ],
             [
              1,
              "#f0f921"
             ]
            ],
            "type": "histogram2d"
           }
          ],
          "histogram2dcontour": [
           {
            "colorbar": {
             "outlinewidth": 0,
             "ticks": ""
            },
            "colorscale": [
             [
              0,
              "#0d0887"
             ],
             [
              0.1111111111111111,
              "#46039f"
             ],
             [
              0.2222222222222222,
              "#7201a8"
             ],
             [
              0.3333333333333333,
              "#9c179e"
             ],
             [
              0.4444444444444444,
              "#bd3786"
             ],
             [
              0.5555555555555556,
              "#d8576b"
             ],
             [
              0.6666666666666666,
              "#ed7953"
             ],
             [
              0.7777777777777778,
              "#fb9f3a"
             ],
             [
              0.8888888888888888,
              "#fdca26"
             ],
             [
              1,
              "#f0f921"
             ]
            ],
            "type": "histogram2dcontour"
           }
          ],
          "mesh3d": [
           {
            "colorbar": {
             "outlinewidth": 0,
             "ticks": ""
            },
            "type": "mesh3d"
           }
          ],
          "parcoords": [
           {
            "line": {
             "colorbar": {
              "outlinewidth": 0,
              "ticks": ""
             }
            },
            "type": "parcoords"
           }
          ],
          "pie": [
           {
            "automargin": true,
            "type": "pie"
           }
          ],
          "scatter": [
           {
            "fillpattern": {
             "fillmode": "overlay",
             "size": 10,
             "solidity": 0.2
            },
            "type": "scatter"
           }
          ],
          "scatter3d": [
           {
            "line": {
             "colorbar": {
              "outlinewidth": 0,
              "ticks": ""
             }
            },
            "marker": {
             "colorbar": {
              "outlinewidth": 0,
              "ticks": ""
             }
            },
            "type": "scatter3d"
           }
          ],
          "scattercarpet": [
           {
            "marker": {
             "colorbar": {
              "outlinewidth": 0,
              "ticks": ""
             }
            },
            "type": "scattercarpet"
           }
          ],
          "scattergeo": [
           {
            "marker": {
             "colorbar": {
              "outlinewidth": 0,
              "ticks": ""
             }
            },
            "type": "scattergeo"
           }
          ],
          "scattergl": [
           {
            "marker": {
             "colorbar": {
              "outlinewidth": 0,
              "ticks": ""
             }
            },
            "type": "scattergl"
           }
          ],
          "scattermap": [
           {
            "marker": {
             "colorbar": {
              "outlinewidth": 0,
              "ticks": ""
             }
            },
            "type": "scattermap"
           }
          ],
          "scattermapbox": [
           {
            "marker": {
             "colorbar": {
              "outlinewidth": 0,
              "ticks": ""
             }
            },
            "type": "scattermapbox"
           }
          ],
          "scatterpolar": [
           {
            "marker": {
             "colorbar": {
              "outlinewidth": 0,
              "ticks": ""
             }
            },
            "type": "scatterpolar"
           }
          ],
          "scatterpolargl": [
           {
            "marker": {
             "colorbar": {
              "outlinewidth": 0,
              "ticks": ""
             }
            },
            "type": "scatterpolargl"
           }
          ],
          "scatterternary": [
           {
            "marker": {
             "colorbar": {
              "outlinewidth": 0,
              "ticks": ""
             }
            },
            "type": "scatterternary"
           }
          ],
          "surface": [
           {
            "colorbar": {
             "outlinewidth": 0,
             "ticks": ""
            },
            "colorscale": [
             [
              0,
              "#0d0887"
             ],
             [
              0.1111111111111111,
              "#46039f"
             ],
             [
              0.2222222222222222,
              "#7201a8"
             ],
             [
              0.3333333333333333,
              "#9c179e"
             ],
             [
              0.4444444444444444,
              "#bd3786"
             ],
             [
              0.5555555555555556,
              "#d8576b"
             ],
             [
              0.6666666666666666,
              "#ed7953"
             ],
             [
              0.7777777777777778,
              "#fb9f3a"
             ],
             [
              0.8888888888888888,
              "#fdca26"
             ],
             [
              1,
              "#f0f921"
             ]
            ],
            "type": "surface"
           }
          ],
          "table": [
           {
            "cells": {
             "fill": {
              "color": "#EBF0F8"
             },
             "line": {
              "color": "white"
             }
            },
            "header": {
             "fill": {
              "color": "#C8D4E3"
             },
             "line": {
              "color": "white"
             }
            },
            "type": "table"
           }
          ]
         },
         "layout": {
          "annotationdefaults": {
           "arrowcolor": "#2a3f5f",
           "arrowhead": 0,
           "arrowwidth": 1
          },
          "autotypenumbers": "strict",
          "coloraxis": {
           "colorbar": {
            "outlinewidth": 0,
            "ticks": ""
           }
          },
          "colorscale": {
           "diverging": [
            [
             0,
             "#8e0152"
            ],
            [
             0.1,
             "#c51b7d"
            ],
            [
             0.2,
             "#de77ae"
            ],
            [
             0.3,
             "#f1b6da"
            ],
            [
             0.4,
             "#fde0ef"
            ],
            [
             0.5,
             "#f7f7f7"
            ],
            [
             0.6,
             "#e6f5d0"
            ],
            [
             0.7,
             "#b8e186"
            ],
            [
             0.8,
             "#7fbc41"
            ],
            [
             0.9,
             "#4d9221"
            ],
            [
             1,
             "#276419"
            ]
           ],
           "sequential": [
            [
             0,
             "#0d0887"
            ],
            [
             0.1111111111111111,
             "#46039f"
            ],
            [
             0.2222222222222222,
             "#7201a8"
            ],
            [
             0.3333333333333333,
             "#9c179e"
            ],
            [
             0.4444444444444444,
             "#bd3786"
            ],
            [
             0.5555555555555556,
             "#d8576b"
            ],
            [
             0.6666666666666666,
             "#ed7953"
            ],
            [
             0.7777777777777778,
             "#fb9f3a"
            ],
            [
             0.8888888888888888,
             "#fdca26"
            ],
            [
             1,
             "#f0f921"
            ]
           ],
           "sequentialminus": [
            [
             0,
             "#0d0887"
            ],
            [
             0.1111111111111111,
             "#46039f"
            ],
            [
             0.2222222222222222,
             "#7201a8"
            ],
            [
             0.3333333333333333,
             "#9c179e"
            ],
            [
             0.4444444444444444,
             "#bd3786"
            ],
            [
             0.5555555555555556,
             "#d8576b"
            ],
            [
             0.6666666666666666,
             "#ed7953"
            ],
            [
             0.7777777777777778,
             "#fb9f3a"
            ],
            [
             0.8888888888888888,
             "#fdca26"
            ],
            [
             1,
             "#f0f921"
            ]
           ]
          },
          "colorway": [
           "#636efa",
           "#EF553B",
           "#00cc96",
           "#ab63fa",
           "#FFA15A",
           "#19d3f3",
           "#FF6692",
           "#B6E880",
           "#FF97FF",
           "#FECB52"
          ],
          "font": {
           "color": "#2a3f5f"
          },
          "geo": {
           "bgcolor": "white",
           "lakecolor": "white",
           "landcolor": "#E5ECF6",
           "showlakes": true,
           "showland": true,
           "subunitcolor": "white"
          },
          "hoverlabel": {
           "align": "left"
          },
          "hovermode": "closest",
          "mapbox": {
           "style": "light"
          },
          "paper_bgcolor": "white",
          "plot_bgcolor": "#E5ECF6",
          "polar": {
           "angularaxis": {
            "gridcolor": "white",
            "linecolor": "white",
            "ticks": ""
           },
           "bgcolor": "#E5ECF6",
           "radialaxis": {
            "gridcolor": "white",
            "linecolor": "white",
            "ticks": ""
           }
          },
          "scene": {
           "xaxis": {
            "backgroundcolor": "#E5ECF6",
            "gridcolor": "white",
            "gridwidth": 2,
            "linecolor": "white",
            "showbackground": true,
            "ticks": "",
            "zerolinecolor": "white"
           },
           "yaxis": {
            "backgroundcolor": "#E5ECF6",
            "gridcolor": "white",
            "gridwidth": 2,
            "linecolor": "white",
            "showbackground": true,
            "ticks": "",
            "zerolinecolor": "white"
           },
           "zaxis": {
            "backgroundcolor": "#E5ECF6",
            "gridcolor": "white",
            "gridwidth": 2,
            "linecolor": "white",
            "showbackground": true,
            "ticks": "",
            "zerolinecolor": "white"
           }
          },
          "shapedefaults": {
           "line": {
            "color": "#2a3f5f"
           }
          },
          "ternary": {
           "aaxis": {
            "gridcolor": "white",
            "linecolor": "white",
            "ticks": ""
           },
           "baxis": {
            "gridcolor": "white",
            "linecolor": "white",
            "ticks": ""
           },
           "bgcolor": "#E5ECF6",
           "caxis": {
            "gridcolor": "white",
            "linecolor": "white",
            "ticks": ""
           }
          },
          "title": {
           "x": 0.05
          },
          "xaxis": {
           "automargin": true,
           "gridcolor": "white",
           "linecolor": "white",
           "ticks": "",
           "title": {
            "standoff": 15
           },
           "zerolinecolor": "white",
           "zerolinewidth": 2
          },
          "yaxis": {
           "automargin": true,
           "gridcolor": "white",
           "linecolor": "white",
           "ticks": "",
           "title": {
            "standoff": 15
           },
           "zerolinecolor": "white",
           "zerolinewidth": 2
          }
         }
        },
        "title": {
         "text": "Electricity Dispatch Week 1 2015"
        },
        "xaxis": {
         "title": {
          "text": "Time"
         }
        },
        "yaxis": {
         "title": {
          "text": "Power (MW)"
         }
        }
       }
      }
     },
     "metadata": {},
     "output_type": "display_data"
    }
   ],
   "source": [
    "objective, capacities, loadConsumption, generation, snapshot = optimizer(2015)\n",
    "plot_dispatch_winter()"
   ]
  },
  {
   "cell_type": "code",
   "execution_count": null,
   "metadata": {},
   "outputs": [
    {
     "name": "stderr",
     "output_type": "stream",
     "text": [
      "WARNING:pypsa.io:The following buses are already defined and will be skipped (use overwrite=True to overwrite): electricity bus\n",
      "WARNING:pypsa.io:The following loads are already defined and will be skipped (use overwrite=True to overwrite): load\n",
      "WARNING:pypsa.io:The following carriers are already defined and will be skipped (use overwrite=True to overwrite): gas\n",
      "WARNING:pypsa.io:The following carriers are already defined and will be skipped (use overwrite=True to overwrite): onshorewind\n",
      "WARNING:pypsa.io:The following carriers are already defined and will be skipped (use overwrite=True to overwrite): solar\n",
      "WARNING:pypsa.io:The following carriers are already defined and will be skipped (use overwrite=True to overwrite): coal\n",
      "WARNING:pypsa.io:The following carriers are already defined and will be skipped (use overwrite=True to overwrite): biomass\n",
      "WARNING:pypsa.io:The following carriers are already defined and will be skipped (use overwrite=True to overwrite): oil\n",
      "WARNING:pypsa.io:The following carriers are already defined and will be skipped (use overwrite=True to overwrite): offshorewind\n"
     ]
    },
    {
     "name": "stdout",
     "output_type": "stream",
     "text": [
      "utc_time\n",
      "2015-01-01 00:00:00+00:00    2651.0\n",
      "2015-01-01 01:00:00+00:00    2412.0\n",
      "2015-01-01 02:00:00+00:00    2256.0\n",
      "2015-01-01 03:00:00+00:00    2170.0\n",
      "2015-01-01 04:00:00+00:00    2136.0\n",
      "Name: IRL, dtype: float64\n"
     ]
    },
    {
     "name": "stderr",
     "output_type": "stream",
     "text": [
      "WARNING:pypsa.consistency:The following buses have carriers which are not defined:\n",
      "Index(['electricity bus'], dtype='object', name='Bus')\n",
      "INFO:linopy.model: Solve problem using Gurobi solver\n",
      "INFO:linopy.io:Writing objective.\n",
      "Writing constraints.: 100%|\u001b[38;2;128;191;255m██████████\u001b[0m| 6/6 [00:00<00:00, 25.61it/s]\n",
      "Writing continuous variables.: 100%|\u001b[38;2;128;191;255m██████████\u001b[0m| 2/2 [00:00<00:00, 48.50it/s]\n",
      "INFO:linopy.io: Writing time: 0.3s\n"
     ]
    },
    {
     "name": "stdout",
     "output_type": "stream",
     "text": [
      "Set parameter Username\n"
     ]
    },
    {
     "name": "stderr",
     "output_type": "stream",
     "text": [
      "INFO:gurobipy:Set parameter Username\n"
     ]
    },
    {
     "name": "stdout",
     "output_type": "stream",
     "text": [
      "Academic license - for non-commercial use only - expires 2025-10-16\n"
     ]
    },
    {
     "name": "stderr",
     "output_type": "stream",
     "text": [
      "INFO:gurobipy:Academic license - for non-commercial use only - expires 2025-10-16\n"
     ]
    },
    {
     "name": "stdout",
     "output_type": "stream",
     "text": [
      "Read LP format model from file /private/var/folders/j2/tx7xgp1d11n3lnbvkls0cjsw0000gn/T/linopy-problem-c21nt0rn.lp\n"
     ]
    },
    {
     "name": "stderr",
     "output_type": "stream",
     "text": [
      "INFO:gurobipy:Read LP format model from file /private/var/folders/j2/tx7xgp1d11n3lnbvkls0cjsw0000gn/T/linopy-problem-c21nt0rn.lp\n"
     ]
    },
    {
     "name": "stdout",
     "output_type": "stream",
     "text": [
      "Reading time = 0.17 seconds\n"
     ]
    },
    {
     "name": "stderr",
     "output_type": "stream",
     "text": [
      "INFO:gurobipy:Reading time = 0.17 seconds\n"
     ]
    },
    {
     "name": "stdout",
     "output_type": "stream",
     "text": [
      "obj: 131415 rows, 61327 columns, 267194 nonzeros\n"
     ]
    },
    {
     "name": "stderr",
     "output_type": "stream",
     "text": [
      "INFO:gurobipy:obj: 131415 rows, 61327 columns, 267194 nonzeros\n"
     ]
    },
    {
     "name": "stdout",
     "output_type": "stream",
     "text": [
      "Gurobi Optimizer version 11.0.0 build v11.0.0rc2 (mac64[arm] - Darwin 23.2.0 23C64)\n"
     ]
    },
    {
     "name": "stderr",
     "output_type": "stream",
     "text": [
      "INFO:gurobipy:Gurobi Optimizer version 11.0.0 build v11.0.0rc2 (mac64[arm] - Darwin 23.2.0 23C64)\n"
     ]
    },
    {
     "name": "stdout",
     "output_type": "stream",
     "text": [
      "\n"
     ]
    },
    {
     "name": "stderr",
     "output_type": "stream",
     "text": [
      "INFO:gurobipy:\n"
     ]
    },
    {
     "name": "stdout",
     "output_type": "stream",
     "text": [
      "CPU model: Apple M3 Pro\n"
     ]
    },
    {
     "name": "stderr",
     "output_type": "stream",
     "text": [
      "INFO:gurobipy:CPU model: Apple M3 Pro\n"
     ]
    },
    {
     "name": "stdout",
     "output_type": "stream",
     "text": [
      "Thread count: 11 physical cores, 11 logical processors, using up to 11 threads\n"
     ]
    },
    {
     "name": "stderr",
     "output_type": "stream",
     "text": [
      "INFO:gurobipy:Thread count: 11 physical cores, 11 logical processors, using up to 11 threads\n"
     ]
    },
    {
     "name": "stdout",
     "output_type": "stream",
     "text": [
      "\n"
     ]
    },
    {
     "name": "stderr",
     "output_type": "stream",
     "text": [
      "INFO:gurobipy:\n"
     ]
    },
    {
     "name": "stdout",
     "output_type": "stream",
     "text": [
      "Optimize a model with 131415 rows, 61327 columns and 267194 nonzeros\n"
     ]
    },
    {
     "name": "stderr",
     "output_type": "stream",
     "text": [
      "INFO:gurobipy:Optimize a model with 131415 rows, 61327 columns and 267194 nonzeros\n"
     ]
    },
    {
     "name": "stdout",
     "output_type": "stream",
     "text": [
      "Model fingerprint: 0xb4661614\n"
     ]
    },
    {
     "name": "stderr",
     "output_type": "stream",
     "text": [
      "INFO:gurobipy:Model fingerprint: 0xb4661614\n"
     ]
    },
    {
     "name": "stdout",
     "output_type": "stream",
     "text": [
      "Coefficient statistics:\n"
     ]
    },
    {
     "name": "stderr",
     "output_type": "stream",
     "text": [
      "INFO:gurobipy:Coefficient statistics:\n"
     ]
    },
    {
     "name": "stdout",
     "output_type": "stream",
     "text": [
      "  Matrix range     [1e-03, 1e+00]\n"
     ]
    },
    {
     "name": "stderr",
     "output_type": "stream",
     "text": [
      "INFO:gurobipy:  Matrix range     [1e-03, 1e+00]\n"
     ]
    },
    {
     "name": "stdout",
     "output_type": "stream",
     "text": [
      "  Objective range  [2e+01, 7e+08]\n"
     ]
    },
    {
     "name": "stderr",
     "output_type": "stream",
     "text": [
      "INFO:gurobipy:  Objective range  [2e+01, 7e+08]\n"
     ]
    },
    {
     "name": "stdout",
     "output_type": "stream",
     "text": [
      "  Bounds range     [0e+00, 0e+00]\n"
     ]
    },
    {
     "name": "stderr",
     "output_type": "stream",
     "text": [
      "INFO:gurobipy:  Bounds range     [0e+00, 0e+00]\n"
     ]
    },
    {
     "name": "stdout",
     "output_type": "stream",
     "text": [
      "  RHS range        [3e+01, 5e+03]\n"
     ]
    },
    {
     "name": "stderr",
     "output_type": "stream",
     "text": [
      "INFO:gurobipy:  RHS range        [3e+01, 5e+03]\n"
     ]
    },
    {
     "name": "stdout",
     "output_type": "stream",
     "text": [
      "Presolve removed 91995 rows and 30663 columns\n"
     ]
    },
    {
     "name": "stderr",
     "output_type": "stream",
     "text": [
      "INFO:gurobipy:Presolve removed 91995 rows and 30663 columns\n"
     ]
    },
    {
     "name": "stdout",
     "output_type": "stream",
     "text": [
      "Presolve time: 0.05s\n"
     ]
    },
    {
     "name": "stderr",
     "output_type": "stream",
     "text": [
      "INFO:gurobipy:Presolve time: 0.05s\n"
     ]
    },
    {
     "name": "stdout",
     "output_type": "stream",
     "text": [
      "\n"
     ]
    },
    {
     "name": "stderr",
     "output_type": "stream",
     "text": [
      "INFO:gurobipy:\n"
     ]
    },
    {
     "name": "stdout",
     "output_type": "stream",
     "text": [
      "Solved in 0 iterations and 0.05 seconds (0.02 work units)\n"
     ]
    },
    {
     "name": "stderr",
     "output_type": "stream",
     "text": [
      "INFO:gurobipy:Solved in 0 iterations and 0.05 seconds (0.02 work units)\n"
     ]
    },
    {
     "name": "stdout",
     "output_type": "stream",
     "text": [
      "Infeasible or unbounded model\n"
     ]
    },
    {
     "name": "stderr",
     "output_type": "stream",
     "text": [
      "INFO:gurobipy:Infeasible or unbounded model\n",
      "INFO:linopy.solvers:Unable to save solution file. Raised error: Unable to retrieve attribute 'X'\n",
      "WARNING:linopy.constants:Optimization potentially failed: \n",
      "Status: warning\n",
      "Termination condition: infeasible_or_unbounded\n",
      "Solution: 0 primals, 0 duals\n",
      "Objective: nan\n",
      "Solver model: available\n",
      "Solver message: 4\n",
      "\n",
      "WARNING:pypsa.io:The following buses are already defined and will be skipped (use overwrite=True to overwrite): electricity bus\n",
      "WARNING:pypsa.io:The following loads are already defined and will be skipped (use overwrite=True to overwrite): load\n",
      "WARNING:pypsa.io:The following carriers are already defined and will be skipped (use overwrite=True to overwrite): gas\n",
      "WARNING:pypsa.io:The following carriers are already defined and will be skipped (use overwrite=True to overwrite): onshorewind\n",
      "WARNING:pypsa.io:The following carriers are already defined and will be skipped (use overwrite=True to overwrite): solar\n",
      "WARNING:pypsa.io:The following carriers are already defined and will be skipped (use overwrite=True to overwrite): coal\n",
      "WARNING:pypsa.io:The following carriers are already defined and will be skipped (use overwrite=True to overwrite): biomass\n",
      "WARNING:pypsa.io:The following carriers are already defined and will be skipped (use overwrite=True to overwrite): oil\n",
      "WARNING:pypsa.io:The following carriers are already defined and will be skipped (use overwrite=True to overwrite): offshorewind\n"
     ]
    },
    {
     "name": "stdout",
     "output_type": "stream",
     "text": [
      "utc_time\n",
      "2015-01-01 00:00:00+00:00    2651.0\n",
      "2015-01-01 01:00:00+00:00    2412.0\n",
      "2015-01-01 02:00:00+00:00    2256.0\n",
      "2015-01-01 03:00:00+00:00    2170.0\n",
      "2015-01-01 04:00:00+00:00    2136.0\n",
      "Name: IRL, dtype: float64\n"
     ]
    },
    {
     "name": "stderr",
     "output_type": "stream",
     "text": [
      "WARNING:pypsa.consistency:The following buses have carriers which are not defined:\n",
      "Index(['electricity bus'], dtype='object', name='Bus')\n",
      "INFO:linopy.model: Solve problem using Gurobi solver\n",
      "INFO:linopy.io:Writing objective.\n",
      "Writing constraints.: 100%|\u001b[38;2;128;191;255m██████████\u001b[0m| 6/6 [00:00<00:00, 24.05it/s]\n",
      "Writing continuous variables.: 100%|\u001b[38;2;128;191;255m██████████\u001b[0m| 2/2 [00:00<00:00, 45.61it/s]\n",
      "INFO:linopy.io: Writing time: 0.32s\n"
     ]
    },
    {
     "name": "stdout",
     "output_type": "stream",
     "text": [
      "Set parameter Username\n"
     ]
    },
    {
     "name": "stderr",
     "output_type": "stream",
     "text": [
      "INFO:gurobipy:Set parameter Username\n"
     ]
    },
    {
     "name": "stdout",
     "output_type": "stream",
     "text": [
      "Academic license - for non-commercial use only - expires 2025-10-16\n"
     ]
    },
    {
     "name": "stderr",
     "output_type": "stream",
     "text": [
      "INFO:gurobipy:Academic license - for non-commercial use only - expires 2025-10-16\n"
     ]
    },
    {
     "name": "stdout",
     "output_type": "stream",
     "text": [
      "Read LP format model from file /private/var/folders/j2/tx7xgp1d11n3lnbvkls0cjsw0000gn/T/linopy-problem-eufr9e1t.lp\n"
     ]
    },
    {
     "name": "stderr",
     "output_type": "stream",
     "text": [
      "INFO:gurobipy:Read LP format model from file /private/var/folders/j2/tx7xgp1d11n3lnbvkls0cjsw0000gn/T/linopy-problem-eufr9e1t.lp\n"
     ]
    },
    {
     "name": "stdout",
     "output_type": "stream",
     "text": [
      "Reading time = 0.13 seconds\n"
     ]
    },
    {
     "name": "stderr",
     "output_type": "stream",
     "text": [
      "INFO:gurobipy:Reading time = 0.13 seconds\n"
     ]
    },
    {
     "name": "stdout",
     "output_type": "stream",
     "text": [
      "obj: 131415 rows, 61327 columns, 267194 nonzeros\n"
     ]
    },
    {
     "name": "stderr",
     "output_type": "stream",
     "text": [
      "INFO:gurobipy:obj: 131415 rows, 61327 columns, 267194 nonzeros\n"
     ]
    },
    {
     "name": "stdout",
     "output_type": "stream",
     "text": [
      "Gurobi Optimizer version 11.0.0 build v11.0.0rc2 (mac64[arm] - Darwin 23.2.0 23C64)\n"
     ]
    },
    {
     "name": "stderr",
     "output_type": "stream",
     "text": [
      "INFO:gurobipy:Gurobi Optimizer version 11.0.0 build v11.0.0rc2 (mac64[arm] - Darwin 23.2.0 23C64)\n"
     ]
    },
    {
     "name": "stdout",
     "output_type": "stream",
     "text": [
      "\n"
     ]
    },
    {
     "name": "stderr",
     "output_type": "stream",
     "text": [
      "INFO:gurobipy:\n"
     ]
    },
    {
     "name": "stdout",
     "output_type": "stream",
     "text": [
      "CPU model: Apple M3 Pro\n"
     ]
    },
    {
     "name": "stderr",
     "output_type": "stream",
     "text": [
      "INFO:gurobipy:CPU model: Apple M3 Pro\n"
     ]
    },
    {
     "name": "stdout",
     "output_type": "stream",
     "text": [
      "Thread count: 11 physical cores, 11 logical processors, using up to 11 threads\n"
     ]
    },
    {
     "name": "stderr",
     "output_type": "stream",
     "text": [
      "INFO:gurobipy:Thread count: 11 physical cores, 11 logical processors, using up to 11 threads\n"
     ]
    },
    {
     "name": "stdout",
     "output_type": "stream",
     "text": [
      "\n"
     ]
    },
    {
     "name": "stderr",
     "output_type": "stream",
     "text": [
      "INFO:gurobipy:\n"
     ]
    },
    {
     "name": "stdout",
     "output_type": "stream",
     "text": [
      "Optimize a model with 131415 rows, 61327 columns and 267194 nonzeros\n"
     ]
    },
    {
     "name": "stderr",
     "output_type": "stream",
     "text": [
      "INFO:gurobipy:Optimize a model with 131415 rows, 61327 columns and 267194 nonzeros\n"
     ]
    },
    {
     "name": "stdout",
     "output_type": "stream",
     "text": [
      "Model fingerprint: 0x3c0ad944\n"
     ]
    },
    {
     "name": "stderr",
     "output_type": "stream",
     "text": [
      "INFO:gurobipy:Model fingerprint: 0x3c0ad944\n"
     ]
    },
    {
     "name": "stdout",
     "output_type": "stream",
     "text": [
      "Coefficient statistics:\n"
     ]
    },
    {
     "name": "stderr",
     "output_type": "stream",
     "text": [
      "INFO:gurobipy:Coefficient statistics:\n"
     ]
    },
    {
     "name": "stdout",
     "output_type": "stream",
     "text": [
      "  Matrix range     [1e-03, 1e+00]\n"
     ]
    },
    {
     "name": "stderr",
     "output_type": "stream",
     "text": [
      "INFO:gurobipy:  Matrix range     [1e-03, 1e+00]\n"
     ]
    },
    {
     "name": "stdout",
     "output_type": "stream",
     "text": [
      "  Objective range  [2e+01, 7e+08]\n"
     ]
    },
    {
     "name": "stderr",
     "output_type": "stream",
     "text": [
      "INFO:gurobipy:  Objective range  [2e+01, 7e+08]\n"
     ]
    },
    {
     "name": "stdout",
     "output_type": "stream",
     "text": [
      "  Bounds range     [0e+00, 0e+00]\n"
     ]
    },
    {
     "name": "stderr",
     "output_type": "stream",
     "text": [
      "INFO:gurobipy:  Bounds range     [0e+00, 0e+00]\n"
     ]
    },
    {
     "name": "stdout",
     "output_type": "stream",
     "text": [
      "  RHS range        [3e+01, 1e+06]\n"
     ]
    },
    {
     "name": "stderr",
     "output_type": "stream",
     "text": [
      "INFO:gurobipy:  RHS range        [3e+01, 1e+06]\n"
     ]
    },
    {
     "name": "stdout",
     "output_type": "stream",
     "text": [
      "Presolve removed 69860 rows and 8526 columns\n"
     ]
    },
    {
     "name": "stderr",
     "output_type": "stream",
     "text": [
      "INFO:gurobipy:Presolve removed 69860 rows and 8526 columns\n"
     ]
    },
    {
     "name": "stdout",
     "output_type": "stream",
     "text": [
      "Presolve time: 0.11s\n"
     ]
    },
    {
     "name": "stderr",
     "output_type": "stream",
     "text": [
      "INFO:gurobipy:Presolve time: 0.11s\n"
     ]
    },
    {
     "name": "stdout",
     "output_type": "stream",
     "text": [
      "\n"
     ]
    },
    {
     "name": "stderr",
     "output_type": "stream",
     "text": [
      "INFO:gurobipy:\n"
     ]
    },
    {
     "name": "stdout",
     "output_type": "stream",
     "text": [
      "Solved in 0 iterations and 0.11 seconds (0.11 work units)\n"
     ]
    },
    {
     "name": "stderr",
     "output_type": "stream",
     "text": [
      "INFO:gurobipy:Solved in 0 iterations and 0.11 seconds (0.11 work units)\n"
     ]
    },
    {
     "name": "stdout",
     "output_type": "stream",
     "text": [
      "Infeasible or unbounded model\n"
     ]
    },
    {
     "name": "stderr",
     "output_type": "stream",
     "text": [
      "INFO:gurobipy:Infeasible or unbounded model\n",
      "INFO:linopy.solvers:Unable to save solution file. Raised error: Unable to retrieve attribute 'X'\n",
      "WARNING:linopy.constants:Optimization potentially failed: \n",
      "Status: warning\n",
      "Termination condition: infeasible_or_unbounded\n",
      "Solution: 0 primals, 0 duals\n",
      "Objective: nan\n",
      "Solver model: available\n",
      "Solver message: 4\n",
      "\n",
      "WARNING:pypsa.io:The following buses are already defined and will be skipped (use overwrite=True to overwrite): electricity bus\n",
      "WARNING:pypsa.io:The following loads are already defined and will be skipped (use overwrite=True to overwrite): load\n",
      "WARNING:pypsa.io:The following carriers are already defined and will be skipped (use overwrite=True to overwrite): gas\n",
      "WARNING:pypsa.io:The following carriers are already defined and will be skipped (use overwrite=True to overwrite): onshorewind\n",
      "WARNING:pypsa.io:The following carriers are already defined and will be skipped (use overwrite=True to overwrite): solar\n",
      "WARNING:pypsa.io:The following carriers are already defined and will be skipped (use overwrite=True to overwrite): coal\n",
      "WARNING:pypsa.io:The following carriers are already defined and will be skipped (use overwrite=True to overwrite): biomass\n",
      "WARNING:pypsa.io:The following carriers are already defined and will be skipped (use overwrite=True to overwrite): oil\n",
      "WARNING:pypsa.io:The following carriers are already defined and will be skipped (use overwrite=True to overwrite): offshorewind\n"
     ]
    },
    {
     "name": "stdout",
     "output_type": "stream",
     "text": [
      "utc_time\n",
      "2015-01-01 00:00:00+00:00    2651.0\n",
      "2015-01-01 01:00:00+00:00    2412.0\n",
      "2015-01-01 02:00:00+00:00    2256.0\n",
      "2015-01-01 03:00:00+00:00    2170.0\n",
      "2015-01-01 04:00:00+00:00    2136.0\n",
      "Name: IRL, dtype: float64\n"
     ]
    },
    {
     "name": "stderr",
     "output_type": "stream",
     "text": [
      "WARNING:pypsa.consistency:The following buses have carriers which are not defined:\n",
      "Index(['electricity bus'], dtype='object', name='Bus')\n",
      "INFO:linopy.model: Solve problem using Gurobi solver\n",
      "INFO:linopy.io:Writing objective.\n",
      "Writing constraints.: 100%|\u001b[38;2;128;191;255m██████████\u001b[0m| 6/6 [00:00<00:00, 23.87it/s]\n",
      "Writing continuous variables.: 100%|\u001b[38;2;128;191;255m██████████\u001b[0m| 2/2 [00:00<00:00, 31.10it/s]\n",
      "INFO:linopy.io: Writing time: 0.35s\n"
     ]
    },
    {
     "name": "stdout",
     "output_type": "stream",
     "text": [
      "Set parameter Username\n"
     ]
    },
    {
     "name": "stderr",
     "output_type": "stream",
     "text": [
      "INFO:gurobipy:Set parameter Username\n"
     ]
    },
    {
     "name": "stdout",
     "output_type": "stream",
     "text": [
      "Academic license - for non-commercial use only - expires 2025-10-16\n"
     ]
    },
    {
     "name": "stderr",
     "output_type": "stream",
     "text": [
      "INFO:gurobipy:Academic license - for non-commercial use only - expires 2025-10-16\n"
     ]
    },
    {
     "name": "stdout",
     "output_type": "stream",
     "text": [
      "Read LP format model from file /private/var/folders/j2/tx7xgp1d11n3lnbvkls0cjsw0000gn/T/linopy-problem-1591rt6p.lp\n"
     ]
    },
    {
     "name": "stderr",
     "output_type": "stream",
     "text": [
      "INFO:gurobipy:Read LP format model from file /private/var/folders/j2/tx7xgp1d11n3lnbvkls0cjsw0000gn/T/linopy-problem-1591rt6p.lp\n"
     ]
    },
    {
     "name": "stdout",
     "output_type": "stream",
     "text": [
      "Reading time = 0.13 seconds\n"
     ]
    },
    {
     "name": "stderr",
     "output_type": "stream",
     "text": [
      "INFO:gurobipy:Reading time = 0.13 seconds\n"
     ]
    },
    {
     "name": "stdout",
     "output_type": "stream",
     "text": [
      "obj: 131415 rows, 61327 columns, 267194 nonzeros\n"
     ]
    },
    {
     "name": "stderr",
     "output_type": "stream",
     "text": [
      "INFO:gurobipy:obj: 131415 rows, 61327 columns, 267194 nonzeros\n"
     ]
    },
    {
     "name": "stdout",
     "output_type": "stream",
     "text": [
      "Gurobi Optimizer version 11.0.0 build v11.0.0rc2 (mac64[arm] - Darwin 23.2.0 23C64)\n"
     ]
    },
    {
     "name": "stderr",
     "output_type": "stream",
     "text": [
      "INFO:gurobipy:Gurobi Optimizer version 11.0.0 build v11.0.0rc2 (mac64[arm] - Darwin 23.2.0 23C64)\n"
     ]
    },
    {
     "name": "stdout",
     "output_type": "stream",
     "text": [
      "\n"
     ]
    },
    {
     "name": "stderr",
     "output_type": "stream",
     "text": [
      "INFO:gurobipy:\n"
     ]
    },
    {
     "name": "stdout",
     "output_type": "stream",
     "text": [
      "CPU model: Apple M3 Pro\n"
     ]
    },
    {
     "name": "stderr",
     "output_type": "stream",
     "text": [
      "INFO:gurobipy:CPU model: Apple M3 Pro\n"
     ]
    },
    {
     "name": "stdout",
     "output_type": "stream",
     "text": [
      "Thread count: 11 physical cores, 11 logical processors, using up to 11 threads\n"
     ]
    },
    {
     "name": "stderr",
     "output_type": "stream",
     "text": [
      "INFO:gurobipy:Thread count: 11 physical cores, 11 logical processors, using up to 11 threads\n"
     ]
    },
    {
     "name": "stdout",
     "output_type": "stream",
     "text": [
      "\n"
     ]
    },
    {
     "name": "stderr",
     "output_type": "stream",
     "text": [
      "INFO:gurobipy:\n"
     ]
    },
    {
     "name": "stdout",
     "output_type": "stream",
     "text": [
      "Optimize a model with 131415 rows, 61327 columns and 267194 nonzeros\n"
     ]
    },
    {
     "name": "stderr",
     "output_type": "stream",
     "text": [
      "INFO:gurobipy:Optimize a model with 131415 rows, 61327 columns and 267194 nonzeros\n"
     ]
    },
    {
     "name": "stdout",
     "output_type": "stream",
     "text": [
      "Model fingerprint: 0x3bb7b62d\n"
     ]
    },
    {
     "name": "stderr",
     "output_type": "stream",
     "text": [
      "INFO:gurobipy:Model fingerprint: 0x3bb7b62d\n"
     ]
    },
    {
     "name": "stdout",
     "output_type": "stream",
     "text": [
      "Coefficient statistics:\n"
     ]
    },
    {
     "name": "stderr",
     "output_type": "stream",
     "text": [
      "INFO:gurobipy:Coefficient statistics:\n"
     ]
    },
    {
     "name": "stdout",
     "output_type": "stream",
     "text": [
      "  Matrix range     [1e-03, 1e+00]\n"
     ]
    },
    {
     "name": "stderr",
     "output_type": "stream",
     "text": [
      "INFO:gurobipy:  Matrix range     [1e-03, 1e+00]\n"
     ]
    },
    {
     "name": "stdout",
     "output_type": "stream",
     "text": [
      "  Objective range  [2e+01, 7e+08]\n"
     ]
    },
    {
     "name": "stderr",
     "output_type": "stream",
     "text": [
      "INFO:gurobipy:  Objective range  [2e+01, 7e+08]\n"
     ]
    },
    {
     "name": "stdout",
     "output_type": "stream",
     "text": [
      "  Bounds range     [0e+00, 0e+00]\n"
     ]
    },
    {
     "name": "stderr",
     "output_type": "stream",
     "text": [
      "INFO:gurobipy:  Bounds range     [0e+00, 0e+00]\n"
     ]
    },
    {
     "name": "stdout",
     "output_type": "stream",
     "text": [
      "  RHS range        [3e+01, 2e+06]\n"
     ]
    },
    {
     "name": "stderr",
     "output_type": "stream",
     "text": [
      "INFO:gurobipy:  RHS range        [3e+01, 2e+06]\n"
     ]
    },
    {
     "name": "stdout",
     "output_type": "stream",
     "text": [
      "Presolve removed 69860 rows and 8526 columns\n"
     ]
    },
    {
     "name": "stderr",
     "output_type": "stream",
     "text": [
      "INFO:gurobipy:Presolve removed 69860 rows and 8526 columns\n"
     ]
    },
    {
     "name": "stdout",
     "output_type": "stream",
     "text": [
      "Presolve time: 0.15s\n"
     ]
    },
    {
     "name": "stderr",
     "output_type": "stream",
     "text": [
      "INFO:gurobipy:Presolve time: 0.15s\n"
     ]
    },
    {
     "name": "stdout",
     "output_type": "stream",
     "text": [
      "Presolved: 61555 rows, 52801 columns, 199328 nonzeros\n"
     ]
    },
    {
     "name": "stderr",
     "output_type": "stream",
     "text": [
      "INFO:gurobipy:Presolved: 61555 rows, 52801 columns, 199328 nonzeros\n"
     ]
    },
    {
     "name": "stdout",
     "output_type": "stream",
     "text": [
      "\n"
     ]
    },
    {
     "name": "stderr",
     "output_type": "stream",
     "text": [
      "INFO:gurobipy:\n"
     ]
    },
    {
     "name": "stdout",
     "output_type": "stream",
     "text": [
      "Concurrent LP optimizer: primal simplex, dual simplex, and barrier\n"
     ]
    },
    {
     "name": "stderr",
     "output_type": "stream",
     "text": [
      "INFO:gurobipy:Concurrent LP optimizer: primal simplex, dual simplex, and barrier\n"
     ]
    },
    {
     "name": "stdout",
     "output_type": "stream",
     "text": [
      "Showing barrier log only...\n"
     ]
    },
    {
     "name": "stderr",
     "output_type": "stream",
     "text": [
      "INFO:gurobipy:Showing barrier log only...\n"
     ]
    },
    {
     "name": "stdout",
     "output_type": "stream",
     "text": [
      "\n"
     ]
    },
    {
     "name": "stderr",
     "output_type": "stream",
     "text": [
      "INFO:gurobipy:\n"
     ]
    },
    {
     "name": "stdout",
     "output_type": "stream",
     "text": [
      "Ordering time: 0.01s\n"
     ]
    },
    {
     "name": "stderr",
     "output_type": "stream",
     "text": [
      "INFO:gurobipy:Ordering time: 0.01s\n"
     ]
    },
    {
     "name": "stdout",
     "output_type": "stream",
     "text": [
      "\n"
     ]
    },
    {
     "name": "stderr",
     "output_type": "stream",
     "text": [
      "INFO:gurobipy:\n"
     ]
    },
    {
     "name": "stdout",
     "output_type": "stream",
     "text": [
      "Barrier statistics:\n"
     ]
    },
    {
     "name": "stderr",
     "output_type": "stream",
     "text": [
      "INFO:gurobipy:Barrier statistics:\n"
     ]
    },
    {
     "name": "stdout",
     "output_type": "stream",
     "text": [
      " Dense cols : 7\n"
     ]
    },
    {
     "name": "stderr",
     "output_type": "stream",
     "text": [
      "INFO:gurobipy: Dense cols : 7\n"
     ]
    },
    {
     "name": "stdout",
     "output_type": "stream",
     "text": [
      " AA' NZ     : 1.553e+05\n"
     ]
    },
    {
     "name": "stderr",
     "output_type": "stream",
     "text": [
      "INFO:gurobipy: AA' NZ     : 1.553e+05\n"
     ]
    },
    {
     "name": "stdout",
     "output_type": "stream",
     "text": [
      " Factor NZ  : 7.128e+05 (roughly 50 MB of memory)\n"
     ]
    },
    {
     "name": "stderr",
     "output_type": "stream",
     "text": [
      "INFO:gurobipy: Factor NZ  : 7.128e+05 (roughly 50 MB of memory)\n"
     ]
    },
    {
     "name": "stdout",
     "output_type": "stream",
     "text": [
      " Factor Ops : 8.546e+06 (less than 1 second per iteration)\n"
     ]
    },
    {
     "name": "stderr",
     "output_type": "stream",
     "text": [
      "INFO:gurobipy: Factor Ops : 8.546e+06 (less than 1 second per iteration)\n"
     ]
    },
    {
     "name": "stdout",
     "output_type": "stream",
     "text": [
      " Threads    : 9\n"
     ]
    },
    {
     "name": "stderr",
     "output_type": "stream",
     "text": [
      "INFO:gurobipy: Threads    : 9\n"
     ]
    },
    {
     "name": "stdout",
     "output_type": "stream",
     "text": [
      "\n"
     ]
    },
    {
     "name": "stderr",
     "output_type": "stream",
     "text": [
      "INFO:gurobipy:\n"
     ]
    },
    {
     "name": "stdout",
     "output_type": "stream",
     "text": [
      "                  Objective                Residual\n"
     ]
    },
    {
     "name": "stderr",
     "output_type": "stream",
     "text": [
      "INFO:gurobipy:                  Objective                Residual\n"
     ]
    },
    {
     "name": "stdout",
     "output_type": "stream",
     "text": [
      "Iter       Primal          Dual         Primal    Dual     Compl     Time\n"
     ]
    },
    {
     "name": "stderr",
     "output_type": "stream",
     "text": [
      "INFO:gurobipy:Iter       Primal          Dual         Primal    Dual     Compl     Time\n"
     ]
    },
    {
     "name": "stdout",
     "output_type": "stream",
     "text": [
      "   0   3.59513577e+14  4.77027720e+11  5.34e+08 4.43e+04  1.29e+12     0s\n"
     ]
    },
    {
     "name": "stderr",
     "output_type": "stream",
     "text": [
      "INFO:gurobipy:   0   3.59513577e+14  4.77027720e+11  5.34e+08 4.43e+04  1.29e+12     0s\n"
     ]
    },
    {
     "name": "stdout",
     "output_type": "stream",
     "text": [
      "   1   3.52072356e+14 -2.05050571e+14  3.76e+08 3.15e+06  6.49e+11     0s\n"
     ]
    },
    {
     "name": "stderr",
     "output_type": "stream",
     "text": [
      "INFO:gurobipy:   1   3.52072356e+14 -2.05050571e+14  3.76e+08 3.15e+06  6.49e+11     0s\n"
     ]
    },
    {
     "name": "stdout",
     "output_type": "stream",
     "text": [
      "   2   3.17395531e+14 -2.54105960e+14  3.61e+08 2.34e+06  5.44e+11     0s\n"
     ]
    },
    {
     "name": "stderr",
     "output_type": "stream",
     "text": [
      "INFO:gurobipy:   2   3.17395531e+14 -2.54105960e+14  3.61e+08 2.34e+06  5.44e+11     0s\n"
     ]
    },
    {
     "name": "stdout",
     "output_type": "stream",
     "text": [
      "   3   3.28967284e+14 -2.16031784e+14  1.53e+07 1.91e+06  3.76e+11     0s\n"
     ]
    },
    {
     "name": "stderr",
     "output_type": "stream",
     "text": [
      "INFO:gurobipy:   3   3.28967284e+14 -2.16031784e+14  1.53e+07 1.91e+06  3.76e+11     0s\n"
     ]
    },
    {
     "name": "stdout",
     "output_type": "stream",
     "text": [
      "   4   2.78732085e+14 -3.53289454e+14  3.29e+05 2.64e+05  2.42e+11     0s\n"
     ]
    },
    {
     "name": "stderr",
     "output_type": "stream",
     "text": [
      "INFO:gurobipy:   4   2.78732085e+14 -3.53289454e+14  3.29e+05 2.64e+05  2.42e+11     0s\n"
     ]
    },
    {
     "name": "stdout",
     "output_type": "stream",
     "text": [
      "   5   7.69028459e+13 -3.75711878e+14  6.26e+07 7.39e-01  6.99e+10     0s\n"
     ]
    },
    {
     "name": "stderr",
     "output_type": "stream",
     "text": [
      "INFO:gurobipy:   5   7.69028459e+13 -3.75711878e+14  6.26e+07 7.39e-01  6.99e+10     0s\n"
     ]
    },
    {
     "name": "stdout",
     "output_type": "stream",
     "text": [
      "   6   1.40178846e+13 -3.29881080e+14  7.53e+06 1.35e+00  1.25e+10     0s\n"
     ]
    },
    {
     "name": "stderr",
     "output_type": "stream",
     "text": [
      "INFO:gurobipy:   6   1.40178846e+13 -3.29881080e+14  7.53e+06 1.35e+00  1.25e+10     0s\n"
     ]
    },
    {
     "name": "stdout",
     "output_type": "stream",
     "text": [
      "\n"
     ]
    },
    {
     "name": "stderr",
     "output_type": "stream",
     "text": [
      "INFO:gurobipy:\n"
     ]
    },
    {
     "name": "stdout",
     "output_type": "stream",
     "text": [
      "Barrier performed 6 iterations in 0.47 seconds (0.33 work units)\n"
     ]
    },
    {
     "name": "stderr",
     "output_type": "stream",
     "text": [
      "INFO:gurobipy:Barrier performed 6 iterations in 0.47 seconds (0.33 work units)\n"
     ]
    },
    {
     "name": "stdout",
     "output_type": "stream",
     "text": [
      "Barrier solve interrupted - model solved by another algorithm\n"
     ]
    },
    {
     "name": "stderr",
     "output_type": "stream",
     "text": [
      "INFO:gurobipy:Barrier solve interrupted - model solved by another algorithm\n"
     ]
    },
    {
     "name": "stdout",
     "output_type": "stream",
     "text": [
      "\n"
     ]
    },
    {
     "name": "stderr",
     "output_type": "stream",
     "text": [
      "INFO:gurobipy:\n"
     ]
    },
    {
     "name": "stdout",
     "output_type": "stream",
     "text": [
      "\n"
     ]
    },
    {
     "name": "stderr",
     "output_type": "stream",
     "text": [
      "INFO:gurobipy:\n"
     ]
    },
    {
     "name": "stdout",
     "output_type": "stream",
     "text": [
      "Solved with primal simplex\n"
     ]
    },
    {
     "name": "stderr",
     "output_type": "stream",
     "text": [
      "INFO:gurobipy:Solved with primal simplex\n"
     ]
    },
    {
     "name": "stdout",
     "output_type": "stream",
     "text": [
      "\n"
     ]
    },
    {
     "name": "stderr",
     "output_type": "stream",
     "text": [
      "INFO:gurobipy:\n"
     ]
    },
    {
     "name": "stdout",
     "output_type": "stream",
     "text": [
      "Solved in 25636 iterations and 0.48 seconds (0.45 work units)\n"
     ]
    },
    {
     "name": "stderr",
     "output_type": "stream",
     "text": [
      "INFO:gurobipy:Solved in 25636 iterations and 0.48 seconds (0.45 work units)\n"
     ]
    },
    {
     "name": "stdout",
     "output_type": "stream",
     "text": [
      "Infeasible or unbounded model\n"
     ]
    },
    {
     "name": "stderr",
     "output_type": "stream",
     "text": [
      "INFO:gurobipy:Infeasible or unbounded model\n",
      "INFO:linopy.solvers:Unable to save solution file. Raised error: Unable to retrieve attribute 'X'\n",
      "WARNING:linopy.constants:Optimization potentially failed: \n",
      "Status: warning\n",
      "Termination condition: infeasible_or_unbounded\n",
      "Solution: 0 primals, 0 duals\n",
      "Objective: nan\n",
      "Solver model: available\n",
      "Solver message: 4\n",
      "\n",
      "WARNING:pypsa.io:The following buses are already defined and will be skipped (use overwrite=True to overwrite): electricity bus\n",
      "WARNING:pypsa.io:The following loads are already defined and will be skipped (use overwrite=True to overwrite): load\n",
      "WARNING:pypsa.io:The following carriers are already defined and will be skipped (use overwrite=True to overwrite): gas\n",
      "WARNING:pypsa.io:The following carriers are already defined and will be skipped (use overwrite=True to overwrite): onshorewind\n",
      "WARNING:pypsa.io:The following carriers are already defined and will be skipped (use overwrite=True to overwrite): solar\n",
      "WARNING:pypsa.io:The following carriers are already defined and will be skipped (use overwrite=True to overwrite): coal\n",
      "WARNING:pypsa.io:The following carriers are already defined and will be skipped (use overwrite=True to overwrite): biomass\n",
      "WARNING:pypsa.io:The following carriers are already defined and will be skipped (use overwrite=True to overwrite): oil\n",
      "WARNING:pypsa.io:The following carriers are already defined and will be skipped (use overwrite=True to overwrite): offshorewind\n"
     ]
    },
    {
     "name": "stdout",
     "output_type": "stream",
     "text": [
      "utc_time\n",
      "2015-01-01 00:00:00+00:00    2651.0\n",
      "2015-01-01 01:00:00+00:00    2412.0\n",
      "2015-01-01 02:00:00+00:00    2256.0\n",
      "2015-01-01 03:00:00+00:00    2170.0\n",
      "2015-01-01 04:00:00+00:00    2136.0\n",
      "Name: IRL, dtype: float64\n"
     ]
    },
    {
     "name": "stderr",
     "output_type": "stream",
     "text": [
      "WARNING:pypsa.consistency:The following buses have carriers which are not defined:\n",
      "Index(['electricity bus'], dtype='object', name='Bus')\n",
      "INFO:linopy.model: Solve problem using Gurobi solver\n",
      "INFO:linopy.io:Writing objective.\n",
      "Writing constraints.: 100%|\u001b[38;2;128;191;255m██████████\u001b[0m| 6/6 [00:00<00:00, 25.45it/s]\n",
      "Writing continuous variables.: 100%|\u001b[38;2;128;191;255m██████████\u001b[0m| 2/2 [00:00<00:00, 47.26it/s]\n",
      "INFO:linopy.io: Writing time: 0.31s\n"
     ]
    },
    {
     "name": "stdout",
     "output_type": "stream",
     "text": [
      "Set parameter Username\n"
     ]
    },
    {
     "name": "stderr",
     "output_type": "stream",
     "text": [
      "INFO:gurobipy:Set parameter Username\n"
     ]
    },
    {
     "name": "stdout",
     "output_type": "stream",
     "text": [
      "Academic license - for non-commercial use only - expires 2025-10-16\n"
     ]
    },
    {
     "name": "stderr",
     "output_type": "stream",
     "text": [
      "INFO:gurobipy:Academic license - for non-commercial use only - expires 2025-10-16\n"
     ]
    },
    {
     "name": "stdout",
     "output_type": "stream",
     "text": [
      "Read LP format model from file /private/var/folders/j2/tx7xgp1d11n3lnbvkls0cjsw0000gn/T/linopy-problem-xxjdw1_f.lp\n"
     ]
    },
    {
     "name": "stderr",
     "output_type": "stream",
     "text": [
      "INFO:gurobipy:Read LP format model from file /private/var/folders/j2/tx7xgp1d11n3lnbvkls0cjsw0000gn/T/linopy-problem-xxjdw1_f.lp\n"
     ]
    },
    {
     "name": "stdout",
     "output_type": "stream",
     "text": [
      "Reading time = 0.15 seconds\n"
     ]
    },
    {
     "name": "stderr",
     "output_type": "stream",
     "text": [
      "INFO:gurobipy:Reading time = 0.15 seconds\n"
     ]
    },
    {
     "name": "stdout",
     "output_type": "stream",
     "text": [
      "obj: 131415 rows, 61327 columns, 267194 nonzeros\n"
     ]
    },
    {
     "name": "stderr",
     "output_type": "stream",
     "text": [
      "INFO:gurobipy:obj: 131415 rows, 61327 columns, 267194 nonzeros\n"
     ]
    },
    {
     "name": "stdout",
     "output_type": "stream",
     "text": [
      "Gurobi Optimizer version 11.0.0 build v11.0.0rc2 (mac64[arm] - Darwin 23.2.0 23C64)\n"
     ]
    },
    {
     "name": "stderr",
     "output_type": "stream",
     "text": [
      "INFO:gurobipy:Gurobi Optimizer version 11.0.0 build v11.0.0rc2 (mac64[arm] - Darwin 23.2.0 23C64)\n"
     ]
    },
    {
     "name": "stdout",
     "output_type": "stream",
     "text": [
      "\n"
     ]
    },
    {
     "name": "stderr",
     "output_type": "stream",
     "text": [
      "INFO:gurobipy:\n"
     ]
    },
    {
     "name": "stdout",
     "output_type": "stream",
     "text": [
      "CPU model: Apple M3 Pro\n"
     ]
    },
    {
     "name": "stderr",
     "output_type": "stream",
     "text": [
      "INFO:gurobipy:CPU model: Apple M3 Pro\n"
     ]
    },
    {
     "name": "stdout",
     "output_type": "stream",
     "text": [
      "Thread count: 11 physical cores, 11 logical processors, using up to 11 threads\n"
     ]
    },
    {
     "name": "stderr",
     "output_type": "stream",
     "text": [
      "INFO:gurobipy:Thread count: 11 physical cores, 11 logical processors, using up to 11 threads\n"
     ]
    },
    {
     "name": "stdout",
     "output_type": "stream",
     "text": [
      "\n"
     ]
    },
    {
     "name": "stderr",
     "output_type": "stream",
     "text": [
      "INFO:gurobipy:\n"
     ]
    },
    {
     "name": "stdout",
     "output_type": "stream",
     "text": [
      "Optimize a model with 131415 rows, 61327 columns and 267194 nonzeros\n"
     ]
    },
    {
     "name": "stderr",
     "output_type": "stream",
     "text": [
      "INFO:gurobipy:Optimize a model with 131415 rows, 61327 columns and 267194 nonzeros\n"
     ]
    },
    {
     "name": "stdout",
     "output_type": "stream",
     "text": [
      "Model fingerprint: 0x3442b865\n"
     ]
    },
    {
     "name": "stderr",
     "output_type": "stream",
     "text": [
      "INFO:gurobipy:Model fingerprint: 0x3442b865\n"
     ]
    },
    {
     "name": "stdout",
     "output_type": "stream",
     "text": [
      "Coefficient statistics:\n"
     ]
    },
    {
     "name": "stderr",
     "output_type": "stream",
     "text": [
      "INFO:gurobipy:Coefficient statistics:\n"
     ]
    },
    {
     "name": "stdout",
     "output_type": "stream",
     "text": [
      "  Matrix range     [1e-03, 1e+00]\n"
     ]
    },
    {
     "name": "stderr",
     "output_type": "stream",
     "text": [
      "INFO:gurobipy:  Matrix range     [1e-03, 1e+00]\n"
     ]
    },
    {
     "name": "stdout",
     "output_type": "stream",
     "text": [
      "  Objective range  [2e+01, 7e+08]\n"
     ]
    },
    {
     "name": "stderr",
     "output_type": "stream",
     "text": [
      "INFO:gurobipy:  Objective range  [2e+01, 7e+08]\n"
     ]
    },
    {
     "name": "stdout",
     "output_type": "stream",
     "text": [
      "  Bounds range     [0e+00, 0e+00]\n"
     ]
    },
    {
     "name": "stderr",
     "output_type": "stream",
     "text": [
      "INFO:gurobipy:  Bounds range     [0e+00, 0e+00]\n"
     ]
    },
    {
     "name": "stdout",
     "output_type": "stream",
     "text": [
      "  RHS range        [3e+01, 3e+06]\n"
     ]
    },
    {
     "name": "stderr",
     "output_type": "stream",
     "text": [
      "INFO:gurobipy:  RHS range        [3e+01, 3e+06]\n"
     ]
    },
    {
     "name": "stdout",
     "output_type": "stream",
     "text": [
      "Presolve removed 69860 rows and 8526 columns\n"
     ]
    },
    {
     "name": "stderr",
     "output_type": "stream",
     "text": [
      "INFO:gurobipy:Presolve removed 69860 rows and 8526 columns\n"
     ]
    },
    {
     "name": "stdout",
     "output_type": "stream",
     "text": [
      "Presolve time: 0.14s\n"
     ]
    },
    {
     "name": "stderr",
     "output_type": "stream",
     "text": [
      "INFO:gurobipy:Presolve time: 0.14s\n"
     ]
    },
    {
     "name": "stdout",
     "output_type": "stream",
     "text": [
      "Presolved: 61555 rows, 52801 columns, 199328 nonzeros\n"
     ]
    },
    {
     "name": "stderr",
     "output_type": "stream",
     "text": [
      "INFO:gurobipy:Presolved: 61555 rows, 52801 columns, 199328 nonzeros\n"
     ]
    },
    {
     "name": "stdout",
     "output_type": "stream",
     "text": [
      "\n"
     ]
    },
    {
     "name": "stderr",
     "output_type": "stream",
     "text": [
      "INFO:gurobipy:\n"
     ]
    },
    {
     "name": "stdout",
     "output_type": "stream",
     "text": [
      "Concurrent LP optimizer: primal simplex, dual simplex, and barrier\n"
     ]
    },
    {
     "name": "stderr",
     "output_type": "stream",
     "text": [
      "INFO:gurobipy:Concurrent LP optimizer: primal simplex, dual simplex, and barrier\n"
     ]
    },
    {
     "name": "stdout",
     "output_type": "stream",
     "text": [
      "Showing barrier log only...\n"
     ]
    },
    {
     "name": "stderr",
     "output_type": "stream",
     "text": [
      "INFO:gurobipy:Showing barrier log only...\n"
     ]
    },
    {
     "name": "stdout",
     "output_type": "stream",
     "text": [
      "\n"
     ]
    },
    {
     "name": "stderr",
     "output_type": "stream",
     "text": [
      "INFO:gurobipy:\n"
     ]
    },
    {
     "name": "stdout",
     "output_type": "stream",
     "text": [
      "Ordering time: 0.01s\n"
     ]
    },
    {
     "name": "stderr",
     "output_type": "stream",
     "text": [
      "INFO:gurobipy:Ordering time: 0.01s\n"
     ]
    },
    {
     "name": "stdout",
     "output_type": "stream",
     "text": [
      "\n"
     ]
    },
    {
     "name": "stderr",
     "output_type": "stream",
     "text": [
      "INFO:gurobipy:\n"
     ]
    },
    {
     "name": "stdout",
     "output_type": "stream",
     "text": [
      "Barrier statistics:\n"
     ]
    },
    {
     "name": "stderr",
     "output_type": "stream",
     "text": [
      "INFO:gurobipy:Barrier statistics:\n"
     ]
    },
    {
     "name": "stdout",
     "output_type": "stream",
     "text": [
      " Dense cols : 7\n"
     ]
    },
    {
     "name": "stderr",
     "output_type": "stream",
     "text": [
      "INFO:gurobipy: Dense cols : 7\n"
     ]
    },
    {
     "name": "stdout",
     "output_type": "stream",
     "text": [
      " AA' NZ     : 1.553e+05\n"
     ]
    },
    {
     "name": "stderr",
     "output_type": "stream",
     "text": [
      "INFO:gurobipy: AA' NZ     : 1.553e+05\n"
     ]
    },
    {
     "name": "stdout",
     "output_type": "stream",
     "text": [
      " Factor NZ  : 7.128e+05 (roughly 50 MB of memory)\n"
     ]
    },
    {
     "name": "stderr",
     "output_type": "stream",
     "text": [
      "INFO:gurobipy: Factor NZ  : 7.128e+05 (roughly 50 MB of memory)\n"
     ]
    },
    {
     "name": "stdout",
     "output_type": "stream",
     "text": [
      " Factor Ops : 8.546e+06 (less than 1 second per iteration)\n"
     ]
    },
    {
     "name": "stderr",
     "output_type": "stream",
     "text": [
      "INFO:gurobipy: Factor Ops : 8.546e+06 (less than 1 second per iteration)\n"
     ]
    },
    {
     "name": "stdout",
     "output_type": "stream",
     "text": [
      " Threads    : 9\n"
     ]
    },
    {
     "name": "stderr",
     "output_type": "stream",
     "text": [
      "INFO:gurobipy: Threads    : 9\n"
     ]
    },
    {
     "name": "stdout",
     "output_type": "stream",
     "text": [
      "\n"
     ]
    },
    {
     "name": "stderr",
     "output_type": "stream",
     "text": [
      "INFO:gurobipy:\n"
     ]
    },
    {
     "name": "stdout",
     "output_type": "stream",
     "text": [
      "                  Objective                Residual\n"
     ]
    },
    {
     "name": "stderr",
     "output_type": "stream",
     "text": [
      "INFO:gurobipy:                  Objective                Residual\n"
     ]
    },
    {
     "name": "stdout",
     "output_type": "stream",
     "text": [
      "Iter       Primal          Dual         Primal    Dual     Compl     Time\n"
     ]
    },
    {
     "name": "stderr",
     "output_type": "stream",
     "text": [
      "INFO:gurobipy:Iter       Primal          Dual         Primal    Dual     Compl     Time\n"
     ]
    },
    {
     "name": "stdout",
     "output_type": "stream",
     "text": [
      "   0   2.97797883e+14  1.69781426e+11  4.43e+08 4.43e+04  1.07e+12     0s\n"
     ]
    },
    {
     "name": "stderr",
     "output_type": "stream",
     "text": [
      "INFO:gurobipy:   0   2.97797883e+14  1.69781426e+11  4.43e+08 4.43e+04  1.07e+12     0s\n"
     ]
    },
    {
     "name": "stdout",
     "output_type": "stream",
     "text": [
      "   1   2.91536284e+14 -1.92924343e+14  3.12e+08 3.17e+06  5.38e+11     0s\n"
     ]
    },
    {
     "name": "stderr",
     "output_type": "stream",
     "text": [
      "INFO:gurobipy:   1   2.91536284e+14 -1.92924343e+14  3.12e+08 3.17e+06  5.38e+11     0s\n"
     ]
    },
    {
     "name": "stdout",
     "output_type": "stream",
     "text": [
      "   2   2.63442640e+14 -2.34061823e+14  3.00e+08 2.34e+06  4.52e+11     0s\n"
     ]
    },
    {
     "name": "stderr",
     "output_type": "stream",
     "text": [
      "INFO:gurobipy:   2   2.63442640e+14 -2.34061823e+14  3.00e+08 2.34e+06  4.52e+11     0s\n"
     ]
    },
    {
     "name": "stdout",
     "output_type": "stream",
     "text": [
      "   3   2.76849155e+14 -2.37284947e+14  1.02e+07 1.94e+06  3.18e+11     0s\n"
     ]
    },
    {
     "name": "stderr",
     "output_type": "stream",
     "text": [
      "INFO:gurobipy:   3   2.76849155e+14 -2.37284947e+14  1.02e+07 1.94e+06  3.18e+11     0s\n"
     ]
    },
    {
     "name": "stdout",
     "output_type": "stream",
     "text": [
      "   4   2.34065822e+14 -3.49740796e+14  2.77e+05 2.68e+05  2.04e+11     0s\n"
     ]
    },
    {
     "name": "stderr",
     "output_type": "stream",
     "text": [
      "INFO:gurobipy:   4   2.34065822e+14 -3.49740796e+14  2.77e+05 2.68e+05  2.04e+11     0s\n"
     ]
    },
    {
     "name": "stdout",
     "output_type": "stream",
     "text": [
      "   5   6.86434240e+13 -3.72123107e+14  5.63e+07 2.00e-01  6.33e+10     0s\n"
     ]
    },
    {
     "name": "stderr",
     "output_type": "stream",
     "text": [
      "INFO:gurobipy:   5   6.86434240e+13 -3.72123107e+14  5.63e+07 2.00e-01  6.33e+10     0s\n"
     ]
    },
    {
     "name": "stdout",
     "output_type": "stream",
     "text": [
      "   6   8.72734403e+12 -3.26233749e+14  5.20e+06 1.45e-03  7.98e+09     0s\n"
     ]
    },
    {
     "name": "stderr",
     "output_type": "stream",
     "text": [
      "INFO:gurobipy:   6   8.72734403e+12 -3.26233749e+14  5.20e+06 1.45e-03  7.98e+09     0s\n"
     ]
    },
    {
     "name": "stdout",
     "output_type": "stream",
     "text": [
      "   7   4.12790740e+12 -1.34135212e+14  4.76e+05 6.14e+02  2.35e+09     0s\n"
     ]
    },
    {
     "name": "stderr",
     "output_type": "stream",
     "text": [
      "INFO:gurobipy:   7   4.12790740e+12 -1.34135212e+14  4.76e+05 6.14e+02  2.35e+09     0s\n"
     ]
    },
    {
     "name": "stdout",
     "output_type": "stream",
     "text": [
      "   8   2.49819947e+12 -5.85902625e+13  6.88e+04 1.68e+02  7.96e+08     0s\n"
     ]
    },
    {
     "name": "stderr",
     "output_type": "stream",
     "text": [
      "INFO:gurobipy:   8   2.49819947e+12 -5.85902625e+13  6.88e+04 1.68e+02  7.96e+08     0s\n"
     ]
    },
    {
     "name": "stdout",
     "output_type": "stream",
     "text": [
      "   9   2.11078076e+12 -2.41296458e+13  4.09e+02 1.80e+02  3.42e+08     1s\n"
     ]
    },
    {
     "name": "stderr",
     "output_type": "stream",
     "text": [
      "INFO:gurobipy:   9   2.11078076e+12 -2.41296458e+13  4.09e+02 1.80e+02  3.42e+08     1s\n"
     ]
    },
    {
     "name": "stdout",
     "output_type": "stream",
     "text": [
      "  10   1.86425745e+12 -7.75942336e+12  1.50e+02 4.35e+02  1.14e+08     1s\n"
     ]
    },
    {
     "name": "stderr",
     "output_type": "stream",
     "text": [
      "INFO:gurobipy:  10   1.86425745e+12 -7.75942336e+12  1.50e+02 4.35e+02  1.14e+08     1s\n"
     ]
    },
    {
     "name": "stdout",
     "output_type": "stream",
     "text": [
      "  11   1.73352477e+12 -3.43961777e+12  3.72e+01 1.43e+02  4.47e+07     1s\n"
     ]
    },
    {
     "name": "stderr",
     "output_type": "stream",
     "text": [
      "INFO:gurobipy:  11   1.73352477e+12 -3.43961777e+12  3.72e+01 1.43e+02  4.47e+07     1s\n"
     ]
    },
    {
     "name": "stdout",
     "output_type": "stream",
     "text": [
      "  12   1.19601370e+12 -1.62379500e+12  1.56e+00 1.00e+02  1.93e+07     1s\n"
     ]
    },
    {
     "name": "stderr",
     "output_type": "stream",
     "text": [
      "INFO:gurobipy:  12   1.19601370e+12 -1.62379500e+12  1.56e+00 1.00e+02  1.93e+07     1s\n"
     ]
    },
    {
     "name": "stdout",
     "output_type": "stream",
     "text": [
      "  13   1.16579512e+12 -1.11931712e+12  1.18e+00 8.11e+01  1.56e+07     1s\n"
     ]
    },
    {
     "name": "stderr",
     "output_type": "stream",
     "text": [
      "INFO:gurobipy:  13   1.16579512e+12 -1.11931712e+12  1.18e+00 8.11e+01  1.56e+07     1s\n"
     ]
    },
    {
     "name": "stdout",
     "output_type": "stream",
     "text": [
      "  14   1.15701313e+12 -5.25549639e+11  1.05e+00 6.00e+01  1.15e+07     1s\n"
     ]
    },
    {
     "name": "stderr",
     "output_type": "stream",
     "text": [
      "INFO:gurobipy:  14   1.15701313e+12 -5.25549639e+11  1.05e+00 6.00e+01  1.15e+07     1s\n"
     ]
    },
    {
     "name": "stdout",
     "output_type": "stream",
     "text": [
      "  15   1.15538552e+12 -7.76447920e+10  7.34e-01 4.35e+01  8.40e+06     1s\n"
     ]
    },
    {
     "name": "stderr",
     "output_type": "stream",
     "text": [
      "INFO:gurobipy:  15   1.15538552e+12 -7.76447920e+10  7.34e-01 4.35e+01  8.40e+06     1s\n"
     ]
    },
    {
     "name": "stdout",
     "output_type": "stream",
     "text": [
      "  16   1.12274019e+12  5.73837757e+11  5.14e-10 1.92e+01  3.71e+06     1s\n"
     ]
    },
    {
     "name": "stderr",
     "output_type": "stream",
     "text": [
      "INFO:gurobipy:  16   1.12274019e+12  5.73837757e+11  5.14e-10 1.92e+01  3.71e+06     1s\n"
     ]
    },
    {
     "name": "stdout",
     "output_type": "stream",
     "text": [
      "  17   1.07539319e+12  7.22347179e+11  3.76e-10 1.26e+01  2.39e+06     1s\n"
     ]
    },
    {
     "name": "stderr",
     "output_type": "stream",
     "text": [
      "INFO:gurobipy:  17   1.07539319e+12  7.22347179e+11  3.76e-10 1.26e+01  2.39e+06     1s\n"
     ]
    },
    {
     "name": "stdout",
     "output_type": "stream",
     "text": [
      "  18   1.06132745e+12  7.52980477e+11  3.15e-10 1.00e+01  2.09e+06     1s\n"
     ]
    },
    {
     "name": "stderr",
     "output_type": "stream",
     "text": [
      "INFO:gurobipy:  18   1.06132745e+12  7.52980477e+11  3.15e-10 1.00e+01  2.09e+06     1s\n"
     ]
    },
    {
     "name": "stdout",
     "output_type": "stream",
     "text": [
      "  19   1.03521950e+12  8.38664847e+11  2.83e-10 6.47e+00  1.33e+06     1s\n"
     ]
    },
    {
     "name": "stderr",
     "output_type": "stream",
     "text": [
      "INFO:gurobipy:  19   1.03521950e+12  8.38664847e+11  2.83e-10 6.47e+00  1.33e+06     1s\n"
     ]
    },
    {
     "name": "stdout",
     "output_type": "stream",
     "text": [
      "  20   9.93763041e+11  8.72799098e+11  3.00e-10 4.45e+00  8.18e+05     1s\n"
     ]
    },
    {
     "name": "stderr",
     "output_type": "stream",
     "text": [
      "INFO:gurobipy:  20   9.93763041e+11  8.72799098e+11  3.00e-10 4.45e+00  8.18e+05     1s\n"
     ]
    },
    {
     "name": "stdout",
     "output_type": "stream",
     "text": [
      "  21   9.73304128e+11  9.02062887e+11  3.99e-10 2.86e+00  4.82e+05     1s\n"
     ]
    },
    {
     "name": "stderr",
     "output_type": "stream",
     "text": [
      "INFO:gurobipy:  21   9.73304128e+11  9.02062887e+11  3.99e-10 2.86e+00  4.82e+05     1s\n"
     ]
    },
    {
     "name": "stdout",
     "output_type": "stream",
     "text": [
      "  22   9.64252782e+11  9.29249193e+11  2.74e-10 1.35e+00  2.37e+05     1s\n"
     ]
    },
    {
     "name": "stderr",
     "output_type": "stream",
     "text": [
      "INFO:gurobipy:  22   9.64252782e+11  9.29249193e+11  2.74e-10 1.35e+00  2.37e+05     1s\n"
     ]
    },
    {
     "name": "stdout",
     "output_type": "stream",
     "text": [
      "  23   9.57881553e+11  9.35582107e+11  3.16e-10 9.66e-01  1.51e+05     1s\n"
     ]
    },
    {
     "name": "stderr",
     "output_type": "stream",
     "text": [
      "INFO:gurobipy:  23   9.57881553e+11  9.35582107e+11  3.16e-10 9.66e-01  1.51e+05     1s\n"
     ]
    },
    {
     "name": "stdout",
     "output_type": "stream",
     "text": [
      "  24   9.55347916e+11  9.39945933e+11  3.28e-10 6.64e-01  1.04e+05     1s\n"
     ]
    },
    {
     "name": "stderr",
     "output_type": "stream",
     "text": [
      "INFO:gurobipy:  24   9.55347916e+11  9.39945933e+11  3.28e-10 6.64e-01  1.04e+05     1s\n"
     ]
    },
    {
     "name": "stdout",
     "output_type": "stream",
     "text": [
      "  25   9.53080365e+11  9.44822667e+11  5.79e-10 3.29e-01  5.58e+04     1s\n"
     ]
    },
    {
     "name": "stderr",
     "output_type": "stream",
     "text": [
      "INFO:gurobipy:  25   9.53080365e+11  9.44822667e+11  5.79e-10 3.29e-01  5.58e+04     1s\n"
     ]
    },
    {
     "name": "stdout",
     "output_type": "stream",
     "text": [
      "  26   9.50198386e+11  9.47964134e+11  1.31e-09 1.12e-01  1.51e+04     1s\n"
     ]
    },
    {
     "name": "stderr",
     "output_type": "stream",
     "text": [
      "INFO:gurobipy:  26   9.50198386e+11  9.47964134e+11  1.31e-09 1.12e-01  1.51e+04     1s\n"
     ]
    },
    {
     "name": "stdout",
     "output_type": "stream",
     "text": [
      "  27   9.49838280e+11  9.49440823e+11  3.40e-09 1.34e-02  2.69e+03     1s\n"
     ]
    },
    {
     "name": "stderr",
     "output_type": "stream",
     "text": [
      "INFO:gurobipy:  27   9.49838280e+11  9.49440823e+11  3.40e-09 1.34e-02  2.69e+03     1s\n"
     ]
    },
    {
     "name": "stdout",
     "output_type": "stream",
     "text": [
      "  28   9.49664189e+11  9.49633480e+11  2.62e-09 1.23e-03  2.08e+02     1s\n"
     ]
    },
    {
     "name": "stderr",
     "output_type": "stream",
     "text": [
      "INFO:gurobipy:  28   9.49664189e+11  9.49633480e+11  2.62e-09 1.23e-03  2.08e+02     1s\n"
     ]
    },
    {
     "name": "stdout",
     "output_type": "stream",
     "text": [
      "  29   9.49655643e+11  9.49650497e+11  1.82e-12 2.75e-04  3.48e+01     1s\n"
     ]
    },
    {
     "name": "stderr",
     "output_type": "stream",
     "text": [
      "INFO:gurobipy:  29   9.49655643e+11  9.49650497e+11  1.82e-12 2.75e-04  3.48e+01     1s\n"
     ]
    },
    {
     "name": "stdout",
     "output_type": "stream",
     "text": [
      "  30   9.49655471e+11  9.49655020e+11  6.23e-11 2.33e-05  3.05e+00     1s\n"
     ]
    },
    {
     "name": "stderr",
     "output_type": "stream",
     "text": [
      "INFO:gurobipy:  30   9.49655471e+11  9.49655020e+11  6.23e-11 2.33e-05  3.05e+00     1s\n"
     ]
    },
    {
     "name": "stdout",
     "output_type": "stream",
     "text": [
      "  31   9.49655408e+11  9.49655346e+11  1.87e-09 1.07e-06  4.19e-01     1s\n"
     ]
    },
    {
     "name": "stderr",
     "output_type": "stream",
     "text": [
      "INFO:gurobipy:  31   9.49655408e+11  9.49655346e+11  1.87e-09 1.07e-06  4.19e-01     1s\n"
     ]
    },
    {
     "name": "stdout",
     "output_type": "stream",
     "text": [
      "  32   9.49655390e+11  9.49655388e+11  2.01e-10 1.55e-06  1.64e-02     1s\n"
     ]
    },
    {
     "name": "stderr",
     "output_type": "stream",
     "text": [
      "INFO:gurobipy:  32   9.49655390e+11  9.49655388e+11  2.01e-10 1.55e-06  1.64e-02     1s\n"
     ]
    },
    {
     "name": "stdout",
     "output_type": "stream",
     "text": [
      "  33   9.49655388e+11  9.49655388e+11  8.95e-11 9.81e-06  2.43e-04     1s\n"
     ]
    },
    {
     "name": "stderr",
     "output_type": "stream",
     "text": [
      "INFO:gurobipy:  33   9.49655388e+11  9.49655388e+11  8.95e-11 9.81e-06  2.43e-04     1s\n"
     ]
    },
    {
     "name": "stdout",
     "output_type": "stream",
     "text": [
      "  34   9.49655388e+11  9.49655388e+11  1.02e-06 3.30e-05  2.45e-07     2s\n"
     ]
    },
    {
     "name": "stderr",
     "output_type": "stream",
     "text": [
      "INFO:gurobipy:  34   9.49655388e+11  9.49655388e+11  1.02e-06 3.30e-05  2.45e-07     2s\n"
     ]
    },
    {
     "name": "stdout",
     "output_type": "stream",
     "text": [
      "  35   9.49655388e+11  9.49655388e+11  1.76e-07 2.87e-05  2.45e-13     2s\n"
     ]
    },
    {
     "name": "stderr",
     "output_type": "stream",
     "text": [
      "INFO:gurobipy:  35   9.49655388e+11  9.49655388e+11  1.76e-07 2.87e-05  2.45e-13     2s\n"
     ]
    },
    {
     "name": "stdout",
     "output_type": "stream",
     "text": [
      "\n"
     ]
    },
    {
     "name": "stderr",
     "output_type": "stream",
     "text": [
      "INFO:gurobipy:\n"
     ]
    },
    {
     "name": "stdout",
     "output_type": "stream",
     "text": [
      "Barrier solved model in 35 iterations and 1.52 seconds (0.94 work units)\n"
     ]
    },
    {
     "name": "stderr",
     "output_type": "stream",
     "text": [
      "INFO:gurobipy:Barrier solved model in 35 iterations and 1.52 seconds (0.94 work units)\n"
     ]
    },
    {
     "name": "stdout",
     "output_type": "stream",
     "text": [
      "Optimal objective 9.49655388e+11\n"
     ]
    },
    {
     "name": "stderr",
     "output_type": "stream",
     "text": [
      "INFO:gurobipy:Optimal objective 9.49655388e+11\n"
     ]
    },
    {
     "name": "stdout",
     "output_type": "stream",
     "text": [
      "\n"
     ]
    },
    {
     "name": "stderr",
     "output_type": "stream",
     "text": [
      "INFO:gurobipy:\n"
     ]
    },
    {
     "name": "stdout",
     "output_type": "stream",
     "text": [
      "Crossover log...\n"
     ]
    },
    {
     "name": "stderr",
     "output_type": "stream",
     "text": [
      "INFO:gurobipy:Crossover log...\n"
     ]
    },
    {
     "name": "stdout",
     "output_type": "stream",
     "text": [
      "\n"
     ]
    },
    {
     "name": "stderr",
     "output_type": "stream",
     "text": [
      "INFO:gurobipy:\n"
     ]
    },
    {
     "name": "stdout",
     "output_type": "stream",
     "text": [
      "   21902 DPushes remaining with DInf 0.0000000e+00                 2s\n"
     ]
    },
    {
     "name": "stderr",
     "output_type": "stream",
     "text": [
      "INFO:gurobipy:   21902 DPushes remaining with DInf 0.0000000e+00                 2s\n"
     ]
    },
    {
     "name": "stdout",
     "output_type": "stream",
     "text": [
      "       0 DPushes remaining with DInf 0.0000000e+00                 2s\n"
     ]
    },
    {
     "name": "stderr",
     "output_type": "stream",
     "text": [
      "INFO:gurobipy:       0 DPushes remaining with DInf 0.0000000e+00                 2s\n"
     ]
    },
    {
     "name": "stdout",
     "output_type": "stream",
     "text": [
      "Warning: Markowitz tolerance tightened to 0.5\n"
     ]
    },
    {
     "name": "stderr",
     "output_type": "stream",
     "text": [
      "INFO:gurobipy:Warning: Markowitz tolerance tightened to 0.5\n"
     ]
    },
    {
     "name": "stdout",
     "output_type": "stream",
     "text": [
      "\n"
     ]
    },
    {
     "name": "stderr",
     "output_type": "stream",
     "text": [
      "INFO:gurobipy:\n"
     ]
    },
    {
     "name": "stdout",
     "output_type": "stream",
     "text": [
      "       0 PPushes remaining with PInf 0.0000000e+00                 2s\n"
     ]
    },
    {
     "name": "stderr",
     "output_type": "stream",
     "text": [
      "INFO:gurobipy:       0 PPushes remaining with PInf 0.0000000e+00                 2s\n"
     ]
    },
    {
     "name": "stdout",
     "output_type": "stream",
     "text": [
      "\n"
     ]
    },
    {
     "name": "stderr",
     "output_type": "stream",
     "text": [
      "INFO:gurobipy:\n"
     ]
    },
    {
     "name": "stdout",
     "output_type": "stream",
     "text": [
      "  Push phase complete: Pinf 0.0000000e+00, Dinf 5.3845361e-06      2s\n"
     ]
    },
    {
     "name": "stderr",
     "output_type": "stream",
     "text": [
      "INFO:gurobipy:  Push phase complete: Pinf 0.0000000e+00, Dinf 5.3845361e-06      2s\n"
     ]
    },
    {
     "name": "stdout",
     "output_type": "stream",
     "text": [
      "\n"
     ]
    },
    {
     "name": "stderr",
     "output_type": "stream",
     "text": [
      "INFO:gurobipy:\n"
     ]
    },
    {
     "name": "stdout",
     "output_type": "stream",
     "text": [
      "Iteration    Objective       Primal Inf.    Dual Inf.      Time\n"
     ]
    },
    {
     "name": "stderr",
     "output_type": "stream",
     "text": [
      "INFO:gurobipy:Iteration    Objective       Primal Inf.    Dual Inf.      Time\n"
     ]
    },
    {
     "name": "stdout",
     "output_type": "stream",
     "text": [
      "   12588    9.4965539e+11   0.000000e+00   0.000000e+00      2s\n"
     ]
    },
    {
     "name": "stderr",
     "output_type": "stream",
     "text": [
      "INFO:gurobipy:   12588    9.4965539e+11   0.000000e+00   0.000000e+00      2s\n"
     ]
    },
    {
     "name": "stdout",
     "output_type": "stream",
     "text": [
      "\n"
     ]
    },
    {
     "name": "stderr",
     "output_type": "stream",
     "text": [
      "INFO:gurobipy:\n"
     ]
    },
    {
     "name": "stdout",
     "output_type": "stream",
     "text": [
      "Solved with barrier\n"
     ]
    },
    {
     "name": "stderr",
     "output_type": "stream",
     "text": [
      "INFO:gurobipy:Solved with barrier\n"
     ]
    },
    {
     "name": "stdout",
     "output_type": "stream",
     "text": [
      "   12588    9.4965539e+11   0.000000e+00   0.000000e+00      2s\n"
     ]
    },
    {
     "name": "stderr",
     "output_type": "stream",
     "text": [
      "INFO:gurobipy:   12588    9.4965539e+11   0.000000e+00   0.000000e+00      2s\n"
     ]
    },
    {
     "name": "stdout",
     "output_type": "stream",
     "text": [
      "\n"
     ]
    },
    {
     "name": "stderr",
     "output_type": "stream",
     "text": [
      "INFO:gurobipy:\n"
     ]
    },
    {
     "name": "stdout",
     "output_type": "stream",
     "text": [
      "Solved in 12588 iterations and 2.21 seconds (3.90 work units)\n"
     ]
    },
    {
     "name": "stderr",
     "output_type": "stream",
     "text": [
      "INFO:gurobipy:Solved in 12588 iterations and 2.21 seconds (3.90 work units)\n"
     ]
    },
    {
     "name": "stdout",
     "output_type": "stream",
     "text": [
      "Optimal objective  9.496553880e+11\n"
     ]
    },
    {
     "name": "stderr",
     "output_type": "stream",
     "text": [
      "INFO:gurobipy:Optimal objective  9.496553880e+11\n",
      "INFO:linopy.constants: Optimization successful: \n",
      "Status: ok\n",
      "Termination condition: optimal\n",
      "Solution: 61327 primals, 131415 duals\n",
      "Objective: 9.50e+11\n",
      "Solver model: available\n",
      "Solver message: 2\n",
      "\n",
      "INFO:pypsa.optimization.optimize:The shadow-prices of the constraints Generator-ext-p-lower, Generator-ext-p-upper were not assigned to the network.\n",
      "WARNING:pypsa.io:The following buses are already defined and will be skipped (use overwrite=True to overwrite): electricity bus\n",
      "WARNING:pypsa.io:The following loads are already defined and will be skipped (use overwrite=True to overwrite): load\n",
      "WARNING:pypsa.io:The following carriers are already defined and will be skipped (use overwrite=True to overwrite): gas\n",
      "WARNING:pypsa.io:The following carriers are already defined and will be skipped (use overwrite=True to overwrite): onshorewind\n",
      "WARNING:pypsa.io:The following carriers are already defined and will be skipped (use overwrite=True to overwrite): solar\n",
      "WARNING:pypsa.io:The following carriers are already defined and will be skipped (use overwrite=True to overwrite): coal\n",
      "WARNING:pypsa.io:The following carriers are already defined and will be skipped (use overwrite=True to overwrite): biomass\n",
      "WARNING:pypsa.io:The following carriers are already defined and will be skipped (use overwrite=True to overwrite): oil\n",
      "WARNING:pypsa.io:The following carriers are already defined and will be skipped (use overwrite=True to overwrite): offshorewind\n"
     ]
    },
    {
     "name": "stdout",
     "output_type": "stream",
     "text": [
      "utc_time\n",
      "2015-01-01 00:00:00+00:00    2651.0\n",
      "2015-01-01 01:00:00+00:00    2412.0\n",
      "2015-01-01 02:00:00+00:00    2256.0\n",
      "2015-01-01 03:00:00+00:00    2170.0\n",
      "2015-01-01 04:00:00+00:00    2136.0\n",
      "Name: IRL, dtype: float64\n"
     ]
    },
    {
     "name": "stderr",
     "output_type": "stream",
     "text": [
      "WARNING:pypsa.consistency:The following buses have carriers which are not defined:\n",
      "Index(['electricity bus'], dtype='object', name='Bus')\n",
      "INFO:linopy.model: Solve problem using Gurobi solver\n",
      "INFO:linopy.io:Writing objective.\n",
      "Writing constraints.: 100%|\u001b[38;2;128;191;255m██████████\u001b[0m| 6/6 [00:00<00:00, 25.08it/s]\n",
      "Writing continuous variables.: 100%|\u001b[38;2;128;191;255m██████████\u001b[0m| 2/2 [00:00<00:00, 51.49it/s]\n",
      "INFO:linopy.io: Writing time: 0.31s\n"
     ]
    },
    {
     "name": "stdout",
     "output_type": "stream",
     "text": [
      "Set parameter Username\n"
     ]
    },
    {
     "name": "stderr",
     "output_type": "stream",
     "text": [
      "INFO:gurobipy:Set parameter Username\n"
     ]
    },
    {
     "name": "stdout",
     "output_type": "stream",
     "text": [
      "Academic license - for non-commercial use only - expires 2025-10-16\n"
     ]
    },
    {
     "name": "stderr",
     "output_type": "stream",
     "text": [
      "INFO:gurobipy:Academic license - for non-commercial use only - expires 2025-10-16\n"
     ]
    },
    {
     "name": "stdout",
     "output_type": "stream",
     "text": [
      "Read LP format model from file /private/var/folders/j2/tx7xgp1d11n3lnbvkls0cjsw0000gn/T/linopy-problem-n1o_xx7d.lp\n"
     ]
    },
    {
     "name": "stderr",
     "output_type": "stream",
     "text": [
      "INFO:gurobipy:Read LP format model from file /private/var/folders/j2/tx7xgp1d11n3lnbvkls0cjsw0000gn/T/linopy-problem-n1o_xx7d.lp\n"
     ]
    },
    {
     "name": "stdout",
     "output_type": "stream",
     "text": [
      "Reading time = 0.15 seconds\n"
     ]
    },
    {
     "name": "stderr",
     "output_type": "stream",
     "text": [
      "INFO:gurobipy:Reading time = 0.15 seconds\n"
     ]
    },
    {
     "name": "stdout",
     "output_type": "stream",
     "text": [
      "obj: 131415 rows, 61327 columns, 267194 nonzeros\n"
     ]
    },
    {
     "name": "stderr",
     "output_type": "stream",
     "text": [
      "INFO:gurobipy:obj: 131415 rows, 61327 columns, 267194 nonzeros\n"
     ]
    },
    {
     "name": "stdout",
     "output_type": "stream",
     "text": [
      "Gurobi Optimizer version 11.0.0 build v11.0.0rc2 (mac64[arm] - Darwin 23.2.0 23C64)\n"
     ]
    },
    {
     "name": "stderr",
     "output_type": "stream",
     "text": [
      "INFO:gurobipy:Gurobi Optimizer version 11.0.0 build v11.0.0rc2 (mac64[arm] - Darwin 23.2.0 23C64)\n"
     ]
    },
    {
     "name": "stdout",
     "output_type": "stream",
     "text": [
      "\n"
     ]
    },
    {
     "name": "stderr",
     "output_type": "stream",
     "text": [
      "INFO:gurobipy:\n"
     ]
    },
    {
     "name": "stdout",
     "output_type": "stream",
     "text": [
      "CPU model: Apple M3 Pro\n"
     ]
    },
    {
     "name": "stderr",
     "output_type": "stream",
     "text": [
      "INFO:gurobipy:CPU model: Apple M3 Pro\n"
     ]
    },
    {
     "name": "stdout",
     "output_type": "stream",
     "text": [
      "Thread count: 11 physical cores, 11 logical processors, using up to 11 threads\n"
     ]
    },
    {
     "name": "stderr",
     "output_type": "stream",
     "text": [
      "INFO:gurobipy:Thread count: 11 physical cores, 11 logical processors, using up to 11 threads\n"
     ]
    },
    {
     "name": "stdout",
     "output_type": "stream",
     "text": [
      "\n"
     ]
    },
    {
     "name": "stderr",
     "output_type": "stream",
     "text": [
      "INFO:gurobipy:\n"
     ]
    },
    {
     "name": "stdout",
     "output_type": "stream",
     "text": [
      "Optimize a model with 131415 rows, 61327 columns and 267194 nonzeros\n"
     ]
    },
    {
     "name": "stderr",
     "output_type": "stream",
     "text": [
      "INFO:gurobipy:Optimize a model with 131415 rows, 61327 columns and 267194 nonzeros\n"
     ]
    },
    {
     "name": "stdout",
     "output_type": "stream",
     "text": [
      "Model fingerprint: 0xb8476f92\n"
     ]
    },
    {
     "name": "stderr",
     "output_type": "stream",
     "text": [
      "INFO:gurobipy:Model fingerprint: 0xb8476f92\n"
     ]
    },
    {
     "name": "stdout",
     "output_type": "stream",
     "text": [
      "Coefficient statistics:\n"
     ]
    },
    {
     "name": "stderr",
     "output_type": "stream",
     "text": [
      "INFO:gurobipy:Coefficient statistics:\n"
     ]
    },
    {
     "name": "stdout",
     "output_type": "stream",
     "text": [
      "  Matrix range     [1e-03, 1e+00]\n"
     ]
    },
    {
     "name": "stderr",
     "output_type": "stream",
     "text": [
      "INFO:gurobipy:  Matrix range     [1e-03, 1e+00]\n"
     ]
    },
    {
     "name": "stdout",
     "output_type": "stream",
     "text": [
      "  Objective range  [2e+01, 7e+08]\n"
     ]
    },
    {
     "name": "stderr",
     "output_type": "stream",
     "text": [
      "INFO:gurobipy:  Objective range  [2e+01, 7e+08]\n"
     ]
    },
    {
     "name": "stdout",
     "output_type": "stream",
     "text": [
      "  Bounds range     [0e+00, 0e+00]\n"
     ]
    },
    {
     "name": "stderr",
     "output_type": "stream",
     "text": [
      "INFO:gurobipy:  Bounds range     [0e+00, 0e+00]\n"
     ]
    },
    {
     "name": "stdout",
     "output_type": "stream",
     "text": [
      "  RHS range        [3e+01, 4e+06]\n"
     ]
    },
    {
     "name": "stderr",
     "output_type": "stream",
     "text": [
      "INFO:gurobipy:  RHS range        [3e+01, 4e+06]\n"
     ]
    },
    {
     "name": "stdout",
     "output_type": "stream",
     "text": [
      "Presolve removed 69860 rows and 8526 columns\n"
     ]
    },
    {
     "name": "stderr",
     "output_type": "stream",
     "text": [
      "INFO:gurobipy:Presolve removed 69860 rows and 8526 columns\n"
     ]
    },
    {
     "name": "stdout",
     "output_type": "stream",
     "text": [
      "Presolve time: 0.14s\n"
     ]
    },
    {
     "name": "stderr",
     "output_type": "stream",
     "text": [
      "INFO:gurobipy:Presolve time: 0.14s\n"
     ]
    },
    {
     "name": "stdout",
     "output_type": "stream",
     "text": [
      "Presolved: 61555 rows, 52801 columns, 199328 nonzeros\n"
     ]
    },
    {
     "name": "stderr",
     "output_type": "stream",
     "text": [
      "INFO:gurobipy:Presolved: 61555 rows, 52801 columns, 199328 nonzeros\n"
     ]
    },
    {
     "name": "stdout",
     "output_type": "stream",
     "text": [
      "\n"
     ]
    },
    {
     "name": "stderr",
     "output_type": "stream",
     "text": [
      "INFO:gurobipy:\n"
     ]
    },
    {
     "name": "stdout",
     "output_type": "stream",
     "text": [
      "Concurrent LP optimizer: primal simplex, dual simplex, and barrier\n"
     ]
    },
    {
     "name": "stderr",
     "output_type": "stream",
     "text": [
      "INFO:gurobipy:Concurrent LP optimizer: primal simplex, dual simplex, and barrier\n"
     ]
    },
    {
     "name": "stdout",
     "output_type": "stream",
     "text": [
      "Showing barrier log only...\n"
     ]
    },
    {
     "name": "stderr",
     "output_type": "stream",
     "text": [
      "INFO:gurobipy:Showing barrier log only...\n"
     ]
    },
    {
     "name": "stdout",
     "output_type": "stream",
     "text": [
      "\n"
     ]
    },
    {
     "name": "stderr",
     "output_type": "stream",
     "text": [
      "INFO:gurobipy:\n"
     ]
    },
    {
     "name": "stdout",
     "output_type": "stream",
     "text": [
      "Ordering time: 0.01s\n"
     ]
    },
    {
     "name": "stderr",
     "output_type": "stream",
     "text": [
      "INFO:gurobipy:Ordering time: 0.01s\n"
     ]
    },
    {
     "name": "stdout",
     "output_type": "stream",
     "text": [
      "\n"
     ]
    },
    {
     "name": "stderr",
     "output_type": "stream",
     "text": [
      "INFO:gurobipy:\n"
     ]
    },
    {
     "name": "stdout",
     "output_type": "stream",
     "text": [
      "Barrier statistics:\n"
     ]
    },
    {
     "name": "stderr",
     "output_type": "stream",
     "text": [
      "INFO:gurobipy:Barrier statistics:\n"
     ]
    },
    {
     "name": "stdout",
     "output_type": "stream",
     "text": [
      " Dense cols : 7\n"
     ]
    },
    {
     "name": "stderr",
     "output_type": "stream",
     "text": [
      "INFO:gurobipy: Dense cols : 7\n"
     ]
    },
    {
     "name": "stdout",
     "output_type": "stream",
     "text": [
      " AA' NZ     : 1.553e+05\n"
     ]
    },
    {
     "name": "stderr",
     "output_type": "stream",
     "text": [
      "INFO:gurobipy: AA' NZ     : 1.553e+05\n"
     ]
    },
    {
     "name": "stdout",
     "output_type": "stream",
     "text": [
      " Factor NZ  : 7.128e+05 (roughly 50 MB of memory)\n"
     ]
    },
    {
     "name": "stderr",
     "output_type": "stream",
     "text": [
      "INFO:gurobipy: Factor NZ  : 7.128e+05 (roughly 50 MB of memory)\n"
     ]
    },
    {
     "name": "stdout",
     "output_type": "stream",
     "text": [
      " Factor Ops : 8.546e+06 (less than 1 second per iteration)\n"
     ]
    },
    {
     "name": "stderr",
     "output_type": "stream",
     "text": [
      "INFO:gurobipy: Factor Ops : 8.546e+06 (less than 1 second per iteration)\n"
     ]
    },
    {
     "name": "stdout",
     "output_type": "stream",
     "text": [
      " Threads    : 9\n"
     ]
    },
    {
     "name": "stderr",
     "output_type": "stream",
     "text": [
      "INFO:gurobipy: Threads    : 9\n"
     ]
    },
    {
     "name": "stdout",
     "output_type": "stream",
     "text": [
      "\n"
     ]
    },
    {
     "name": "stderr",
     "output_type": "stream",
     "text": [
      "INFO:gurobipy:\n"
     ]
    },
    {
     "name": "stdout",
     "output_type": "stream",
     "text": [
      "                  Objective                Residual\n"
     ]
    },
    {
     "name": "stderr",
     "output_type": "stream",
     "text": [
      "INFO:gurobipy:                  Objective                Residual\n"
     ]
    },
    {
     "name": "stdout",
     "output_type": "stream",
     "text": [
      "Iter       Primal          Dual         Primal    Dual     Compl     Time\n"
     ]
    },
    {
     "name": "stderr",
     "output_type": "stream",
     "text": [
      "INFO:gurobipy:Iter       Primal          Dual         Primal    Dual     Compl     Time\n"
     ]
    },
    {
     "name": "stdout",
     "output_type": "stream",
     "text": [
      "   0   5.40638345e+14 -1.37464821e+11  8.05e+08 4.43e+04  1.94e+12     0s\n"
     ]
    },
    {
     "name": "stderr",
     "output_type": "stream",
     "text": [
      "INFO:gurobipy:   0   5.40638345e+14 -1.37464821e+11  8.05e+08 4.43e+04  1.94e+12     0s\n"
     ]
    },
    {
     "name": "stdout",
     "output_type": "stream",
     "text": [
      "   1   5.29126853e+14 -1.82206391e+14  5.68e+08 3.19e+06  9.80e+11     0s\n"
     ]
    },
    {
     "name": "stderr",
     "output_type": "stream",
     "text": [
      "INFO:gurobipy:   1   5.29126853e+14 -1.82206391e+14  5.68e+08 3.19e+06  9.80e+11     0s\n"
     ]
    },
    {
     "name": "stdout",
     "output_type": "stream",
     "text": [
      "   2   4.76996327e+14 -2.16452164e+14  5.46e+08 2.35e+06  8.26e+11     0s\n"
     ]
    },
    {
     "name": "stderr",
     "output_type": "stream",
     "text": [
      "INFO:gurobipy:   2   4.76996327e+14 -2.16452164e+14  5.46e+08 2.35e+06  8.26e+11     0s\n"
     ]
    },
    {
     "name": "stdout",
     "output_type": "stream",
     "text": [
      "   3   5.12918374e+14 -2.72017733e+14  1.17e+07 1.99e+06  5.92e+11     0s\n"
     ]
    },
    {
     "name": "stderr",
     "output_type": "stream",
     "text": [
      "INFO:gurobipy:   3   5.12918374e+14 -2.72017733e+14  1.17e+07 1.99e+06  5.92e+11     0s\n"
     ]
    },
    {
     "name": "stdout",
     "output_type": "stream",
     "text": [
      "   4   4.32527789e+14 -3.52910596e+14  5.12e+05 2.57e+05  3.78e+11     0s\n"
     ]
    },
    {
     "name": "stderr",
     "output_type": "stream",
     "text": [
      "INFO:gurobipy:   4   4.32527789e+14 -3.52910596e+14  5.12e+05 2.57e+05  3.78e+11     0s\n"
     ]
    },
    {
     "name": "stdout",
     "output_type": "stream",
     "text": [
      "   5   1.69817772e+14 -3.85715357e+14  1.49e+08 2.04e-02  1.65e+11     0s\n"
     ]
    },
    {
     "name": "stderr",
     "output_type": "stream",
     "text": [
      "INFO:gurobipy:   5   1.69817772e+14 -3.85715357e+14  1.49e+08 2.04e-02  1.65e+11     0s\n"
     ]
    },
    {
     "name": "stdout",
     "output_type": "stream",
     "text": [
      "   6   3.72019568e+12 -3.58672631e+14  1.82e+06 1.62e-01  4.36e+09     0s\n"
     ]
    },
    {
     "name": "stderr",
     "output_type": "stream",
     "text": [
      "INFO:gurobipy:   6   3.72019568e+12 -3.58672631e+14  1.82e+06 1.62e-01  4.36e+09     0s\n"
     ]
    },
    {
     "name": "stdout",
     "output_type": "stream",
     "text": [
      "   7   2.69084176e+12 -2.78760149e+14  8.13e+05 1.61e-01  2.70e+09     0s\n"
     ]
    },
    {
     "name": "stderr",
     "output_type": "stream",
     "text": [
      "INFO:gurobipy:   7   2.69084176e+12 -2.78760149e+14  8.13e+05 1.61e-01  2.70e+09     0s\n"
     ]
    },
    {
     "name": "stdout",
     "output_type": "stream",
     "text": [
      "   8   2.62510950e+12 -8.26042876e+13  8.00e+05 7.32e-02  1.07e+09     1s\n"
     ]
    },
    {
     "name": "stderr",
     "output_type": "stream",
     "text": [
      "INFO:gurobipy:   8   2.62510950e+12 -8.26042876e+13  8.00e+05 7.32e-02  1.07e+09     1s\n"
     ]
    },
    {
     "name": "stdout",
     "output_type": "stream",
     "text": [
      "   9   2.01103834e+12 -2.79076082e+13  2.04e+05 4.26e-02  3.45e+08     1s\n"
     ]
    },
    {
     "name": "stderr",
     "output_type": "stream",
     "text": [
      "INFO:gurobipy:   9   2.01103834e+12 -2.79076082e+13  2.04e+05 4.26e-02  3.45e+08     1s\n"
     ]
    },
    {
     "name": "stdout",
     "output_type": "stream",
     "text": [
      "  10   1.70581908e+12 -3.66667103e+12  2.69e+01 2.21e-03  4.33e+07     1s\n"
     ]
    },
    {
     "name": "stderr",
     "output_type": "stream",
     "text": [
      "INFO:gurobipy:  10   1.70581908e+12 -3.66667103e+12  2.69e+01 2.21e-03  4.33e+07     1s\n"
     ]
    },
    {
     "name": "stdout",
     "output_type": "stream",
     "text": [
      "  11   1.27465830e+12 -2.49077879e+12  5.83e+00 1.86e-03  2.66e+07     1s\n"
     ]
    },
    {
     "name": "stderr",
     "output_type": "stream",
     "text": [
      "INFO:gurobipy:  11   1.27465830e+12 -2.49077879e+12  5.83e+00 1.86e-03  2.66e+07     1s\n"
     ]
    },
    {
     "name": "stdout",
     "output_type": "stream",
     "text": [
      "  12   9.57812918e+11 -3.74352125e+11  2.04e+00 1.09e-03  9.19e+06     1s\n"
     ]
    },
    {
     "name": "stderr",
     "output_type": "stream",
     "text": [
      "INFO:gurobipy:  12   9.57812918e+11 -3.74352125e+11  2.04e+00 1.09e-03  9.19e+06     1s\n"
     ]
    },
    {
     "name": "stdout",
     "output_type": "stream",
     "text": [
      "  13   9.35370220e+11  3.70492792e+10  1.90e+00 8.27e-04  6.19e+06     1s\n"
     ]
    },
    {
     "name": "stderr",
     "output_type": "stream",
     "text": [
      "INFO:gurobipy:  13   9.35370220e+11  3.70492792e+10  1.90e+00 8.27e-04  6.19e+06     1s\n"
     ]
    },
    {
     "name": "stdout",
     "output_type": "stream",
     "text": [
      "  14   8.74232201e+11  2.61234828e+11  1.30e+00 5.96e-04  4.20e+06     1s\n"
     ]
    },
    {
     "name": "stderr",
     "output_type": "stream",
     "text": [
      "INFO:gurobipy:  14   8.74232201e+11  2.61234828e+11  1.30e+00 5.96e-04  4.20e+06     1s\n"
     ]
    },
    {
     "name": "stdout",
     "output_type": "stream",
     "text": [
      "  15   8.07585677e+11  2.93844018e+11  8.64e-01 4.99e-04  3.51e+06     1s\n"
     ]
    },
    {
     "name": "stderr",
     "output_type": "stream",
     "text": [
      "INFO:gurobipy:  15   8.07585677e+11  2.93844018e+11  8.64e-01 4.99e-04  3.51e+06     1s\n"
     ]
    },
    {
     "name": "stdout",
     "output_type": "stream",
     "text": [
      "  16   7.58312203e+11  4.81969436e+11  5.20e-01 2.49e-04  1.88e+06     1s\n"
     ]
    },
    {
     "name": "stderr",
     "output_type": "stream",
     "text": [
      "INFO:gurobipy:  16   7.58312203e+11  4.81969436e+11  5.20e-01 2.49e-04  1.88e+06     1s\n"
     ]
    },
    {
     "name": "stdout",
     "output_type": "stream",
     "text": [
      "  17   7.04849563e+11  5.61439207e+11  3.10e-01 8.95e-05  9.74e+05     1s\n"
     ]
    },
    {
     "name": "stderr",
     "output_type": "stream",
     "text": [
      "INFO:gurobipy:  17   7.04849563e+11  5.61439207e+11  3.10e-01 8.95e-05  9.74e+05     1s\n"
     ]
    },
    {
     "name": "stdout",
     "output_type": "stream",
     "text": [
      "  18   6.78246833e+11  5.84259075e+11  2.02e-01 5.09e-05  6.38e+05     1s\n"
     ]
    },
    {
     "name": "stderr",
     "output_type": "stream",
     "text": [
      "INFO:gurobipy:  18   6.78246833e+11  5.84259075e+11  2.02e-01 5.09e-05  6.38e+05     1s\n"
     ]
    },
    {
     "name": "stdout",
     "output_type": "stream",
     "text": [
      "  19   6.56137479e+11  5.97236089e+11  1.13e-01 2.63e-05  3.99e+05     1s\n"
     ]
    },
    {
     "name": "stderr",
     "output_type": "stream",
     "text": [
      "INFO:gurobipy:  19   6.56137479e+11  5.97236089e+11  1.13e-01 2.63e-05  3.99e+05     1s\n"
     ]
    },
    {
     "name": "stdout",
     "output_type": "stream",
     "text": [
      "  20   6.41769070e+11  6.12290298e+11  5.67e-02 2.29e-05  2.00e+05     1s\n"
     ]
    },
    {
     "name": "stderr",
     "output_type": "stream",
     "text": [
      "INFO:gurobipy:  20   6.41769070e+11  6.12290298e+11  5.67e-02 2.29e-05  2.00e+05     1s\n"
     ]
    },
    {
     "name": "stdout",
     "output_type": "stream",
     "text": [
      "  21   6.34131775e+11  6.18734755e+11  3.13e-02 3.84e-06  1.04e+05     1s\n"
     ]
    },
    {
     "name": "stderr",
     "output_type": "stream",
     "text": [
      "INFO:gurobipy:  21   6.34131775e+11  6.18734755e+11  3.13e-02 3.84e-06  1.04e+05     1s\n"
     ]
    },
    {
     "name": "stdout",
     "output_type": "stream",
     "text": [
      "  22   6.28804760e+11  6.24135155e+11  1.30e-02 2.15e-06  3.16e+04     1s\n"
     ]
    },
    {
     "name": "stderr",
     "output_type": "stream",
     "text": [
      "INFO:gurobipy:  22   6.28804760e+11  6.24135155e+11  1.30e-02 2.15e-06  3.16e+04     1s\n"
     ]
    },
    {
     "name": "stdout",
     "output_type": "stream",
     "text": [
      "  23   6.26960983e+11  6.24478458e+11  6.87e-03 1.26e-06  1.68e+04     1s\n"
     ]
    },
    {
     "name": "stderr",
     "output_type": "stream",
     "text": [
      "INFO:gurobipy:  23   6.26960983e+11  6.24478458e+11  6.87e-03 1.26e-06  1.68e+04     1s\n"
     ]
    },
    {
     "name": "stdout",
     "output_type": "stream",
     "text": [
      "  24   6.25756693e+11  6.24681850e+11  2.94e-03 4.26e-06  7.28e+03     1s\n"
     ]
    },
    {
     "name": "stderr",
     "output_type": "stream",
     "text": [
      "INFO:gurobipy:  24   6.25756693e+11  6.24681850e+11  2.94e-03 4.26e-06  7.28e+03     1s\n"
     ]
    },
    {
     "name": "stdout",
     "output_type": "stream",
     "text": [
      "  25   6.25160582e+11  6.24730432e+11  1.08e-03 3.34e-06  2.91e+03     1s\n"
     ]
    },
    {
     "name": "stderr",
     "output_type": "stream",
     "text": [
      "INFO:gurobipy:  25   6.25160582e+11  6.24730432e+11  1.08e-03 3.34e-06  2.91e+03     1s\n"
     ]
    },
    {
     "name": "stdout",
     "output_type": "stream",
     "text": [
      "  26   6.24927199e+11  6.24790838e+11  3.82e-04 3.22e-06  9.24e+02     1s\n"
     ]
    },
    {
     "name": "stderr",
     "output_type": "stream",
     "text": [
      "INFO:gurobipy:  26   6.24927199e+11  6.24790838e+11  3.82e-04 3.22e-06  9.24e+02     1s\n"
     ]
    },
    {
     "name": "stdout",
     "output_type": "stream",
     "text": [
      "  27   6.24818100e+11  6.24793853e+11  6.62e-05 2.21e-06  1.63e+02     1s\n"
     ]
    },
    {
     "name": "stderr",
     "output_type": "stream",
     "text": [
      "INFO:gurobipy:  27   6.24818100e+11  6.24793853e+11  6.62e-05 2.21e-06  1.63e+02     1s\n"
     ]
    },
    {
     "name": "stdout",
     "output_type": "stream",
     "text": [
      "  28   6.24794400e+11  6.24794324e+11  3.95e-09 3.60e-05  2.43e-01     1s\n"
     ]
    },
    {
     "name": "stderr",
     "output_type": "stream",
     "text": [
      "INFO:gurobipy:  28   6.24794400e+11  6.24794324e+11  3.95e-09 3.60e-05  2.43e-01     1s\n"
     ]
    },
    {
     "name": "stdout",
     "output_type": "stream",
     "text": [
      "  29   6.24794334e+11  6.24794334e+11  8.10e-07 2.31e-05  9.04e-07     1s\n"
     ]
    },
    {
     "name": "stderr",
     "output_type": "stream",
     "text": [
      "INFO:gurobipy:  29   6.24794334e+11  6.24794334e+11  8.10e-07 2.31e-05  9.04e-07     1s\n"
     ]
    },
    {
     "name": "stdout",
     "output_type": "stream",
     "text": [
      "  30   6.24794334e+11  6.24794334e+11  7.34e-07 5.70e-05  9.04e-13     1s\n"
     ]
    },
    {
     "name": "stderr",
     "output_type": "stream",
     "text": [
      "INFO:gurobipy:  30   6.24794334e+11  6.24794334e+11  7.34e-07 5.70e-05  9.04e-13     1s\n"
     ]
    },
    {
     "name": "stdout",
     "output_type": "stream",
     "text": [
      "\n"
     ]
    },
    {
     "name": "stderr",
     "output_type": "stream",
     "text": [
      "INFO:gurobipy:\n"
     ]
    },
    {
     "name": "stdout",
     "output_type": "stream",
     "text": [
      "Barrier solved model in 30 iterations and 1.13 seconds (0.81 work units)\n"
     ]
    },
    {
     "name": "stderr",
     "output_type": "stream",
     "text": [
      "INFO:gurobipy:Barrier solved model in 30 iterations and 1.13 seconds (0.81 work units)\n"
     ]
    },
    {
     "name": "stdout",
     "output_type": "stream",
     "text": [
      "Optimal objective 6.24794334e+11\n"
     ]
    },
    {
     "name": "stderr",
     "output_type": "stream",
     "text": [
      "INFO:gurobipy:Optimal objective 6.24794334e+11\n"
     ]
    },
    {
     "name": "stdout",
     "output_type": "stream",
     "text": [
      "\n"
     ]
    },
    {
     "name": "stderr",
     "output_type": "stream",
     "text": [
      "INFO:gurobipy:\n"
     ]
    },
    {
     "name": "stdout",
     "output_type": "stream",
     "text": [
      "Crossover log...\n"
     ]
    },
    {
     "name": "stderr",
     "output_type": "stream",
     "text": [
      "INFO:gurobipy:Crossover log...\n"
     ]
    },
    {
     "name": "stdout",
     "output_type": "stream",
     "text": [
      "\n"
     ]
    },
    {
     "name": "stderr",
     "output_type": "stream",
     "text": [
      "INFO:gurobipy:\n"
     ]
    },
    {
     "name": "stdout",
     "output_type": "stream",
     "text": [
      "   21902 DPushes remaining with DInf 0.0000000e+00                 1s\n"
     ]
    },
    {
     "name": "stderr",
     "output_type": "stream",
     "text": [
      "INFO:gurobipy:   21902 DPushes remaining with DInf 0.0000000e+00                 1s\n"
     ]
    },
    {
     "name": "stdout",
     "output_type": "stream",
     "text": [
      "       0 DPushes remaining with DInf 0.0000000e+00                 1s\n"
     ]
    },
    {
     "name": "stderr",
     "output_type": "stream",
     "text": [
      "INFO:gurobipy:       0 DPushes remaining with DInf 0.0000000e+00                 1s\n"
     ]
    },
    {
     "name": "stdout",
     "output_type": "stream",
     "text": [
      "Warning: Markowitz tolerance tightened to 0.5\n"
     ]
    },
    {
     "name": "stderr",
     "output_type": "stream",
     "text": [
      "INFO:gurobipy:Warning: Markowitz tolerance tightened to 0.5\n"
     ]
    },
    {
     "name": "stdout",
     "output_type": "stream",
     "text": [
      "\n"
     ]
    },
    {
     "name": "stderr",
     "output_type": "stream",
     "text": [
      "INFO:gurobipy:\n"
     ]
    },
    {
     "name": "stdout",
     "output_type": "stream",
     "text": [
      "       0 PPushes remaining with PInf 0.0000000e+00                 1s\n"
     ]
    },
    {
     "name": "stderr",
     "output_type": "stream",
     "text": [
      "INFO:gurobipy:       0 PPushes remaining with PInf 0.0000000e+00                 1s\n"
     ]
    },
    {
     "name": "stdout",
     "output_type": "stream",
     "text": [
      "\n"
     ]
    },
    {
     "name": "stderr",
     "output_type": "stream",
     "text": [
      "INFO:gurobipy:\n"
     ]
    },
    {
     "name": "stdout",
     "output_type": "stream",
     "text": [
      "  Push phase complete: Pinf 0.0000000e+00, Dinf 3.3391363e-06      1s\n"
     ]
    },
    {
     "name": "stderr",
     "output_type": "stream",
     "text": [
      "INFO:gurobipy:  Push phase complete: Pinf 0.0000000e+00, Dinf 3.3391363e-06      1s\n"
     ]
    },
    {
     "name": "stdout",
     "output_type": "stream",
     "text": [
      "\n"
     ]
    },
    {
     "name": "stderr",
     "output_type": "stream",
     "text": [
      "INFO:gurobipy:\n"
     ]
    },
    {
     "name": "stdout",
     "output_type": "stream",
     "text": [
      "Iteration    Objective       Primal Inf.    Dual Inf.      Time\n"
     ]
    },
    {
     "name": "stderr",
     "output_type": "stream",
     "text": [
      "INFO:gurobipy:Iteration    Objective       Primal Inf.    Dual Inf.      Time\n"
     ]
    },
    {
     "name": "stdout",
     "output_type": "stream",
     "text": [
      "   13146    6.2479433e+11   0.000000e+00   0.000000e+00      1s\n"
     ]
    },
    {
     "name": "stderr",
     "output_type": "stream",
     "text": [
      "INFO:gurobipy:   13146    6.2479433e+11   0.000000e+00   0.000000e+00      1s\n"
     ]
    },
    {
     "name": "stdout",
     "output_type": "stream",
     "text": [
      "\n"
     ]
    },
    {
     "name": "stderr",
     "output_type": "stream",
     "text": [
      "INFO:gurobipy:\n"
     ]
    },
    {
     "name": "stdout",
     "output_type": "stream",
     "text": [
      "Solved with barrier\n"
     ]
    },
    {
     "name": "stderr",
     "output_type": "stream",
     "text": [
      "INFO:gurobipy:Solved with barrier\n"
     ]
    },
    {
     "name": "stdout",
     "output_type": "stream",
     "text": [
      "Extra simplex iterations after uncrush: 1\n"
     ]
    },
    {
     "name": "stderr",
     "output_type": "stream",
     "text": [
      "INFO:gurobipy:Extra simplex iterations after uncrush: 1\n"
     ]
    },
    {
     "name": "stdout",
     "output_type": "stream",
     "text": [
      "   13147    6.2479433e+11   0.000000e+00   0.000000e+00      2s\n"
     ]
    },
    {
     "name": "stderr",
     "output_type": "stream",
     "text": [
      "INFO:gurobipy:   13147    6.2479433e+11   0.000000e+00   0.000000e+00      2s\n"
     ]
    },
    {
     "name": "stdout",
     "output_type": "stream",
     "text": [
      "\n"
     ]
    },
    {
     "name": "stderr",
     "output_type": "stream",
     "text": [
      "INFO:gurobipy:\n"
     ]
    },
    {
     "name": "stdout",
     "output_type": "stream",
     "text": [
      "Solved in 13147 iterations and 1.61 seconds (4.51 work units)\n"
     ]
    },
    {
     "name": "stderr",
     "output_type": "stream",
     "text": [
      "INFO:gurobipy:Solved in 13147 iterations and 1.61 seconds (4.51 work units)\n"
     ]
    },
    {
     "name": "stdout",
     "output_type": "stream",
     "text": [
      "Optimal objective  6.247943341e+11\n"
     ]
    },
    {
     "name": "stderr",
     "output_type": "stream",
     "text": [
      "INFO:gurobipy:Optimal objective  6.247943341e+11\n",
      "INFO:linopy.constants: Optimization successful: \n",
      "Status: ok\n",
      "Termination condition: optimal\n",
      "Solution: 61327 primals, 131415 duals\n",
      "Objective: 6.25e+11\n",
      "Solver model: available\n",
      "Solver message: 2\n",
      "\n",
      "INFO:pypsa.optimization.optimize:The shadow-prices of the constraints Generator-ext-p-lower, Generator-ext-p-upper were not assigned to the network.\n"
     ]
    }
   ],
   "source": [
    "objectives = {}\n",
    "capacities_dic = {}\n",
    "loadConsumptions = {}\n",
    "generations = {}\n",
    "snapshots = {}\n",
    "for Co2_limit in [0, 1000000, 2000000, 3000000, 4000000]:\n",
    "    network.add(\"GlobalConstraint\",\n",
    "                 \"co2_limit\",\n",
    "                 type=\"primary_energy\",\n",
    "                 carrier_attribute=\"co2_emissions\",\n",
    "                 sense=\"<=\",\n",
    "                 constant=Co2_limit,\n",
    "                 overwrite=True)\n",
    "\n",
    "    objective, capacities, loadConsumption, generation, snapshot = optimizer(2015)\n",
    "    objectives[Co2_limit] = objective\n",
    "    capacities_dic[Co2_limit] = capacities\n",
    "    loadConsumptions[Co2_limit] = loadConsumption\n",
    "    generations[Co2_limit] = generation\n",
    "    snapshots[Co2_limit] = snapshot\n",
    "    "
   ]
  },
  {
   "cell_type": "code",
   "execution_count": null,
   "metadata": {},
   "outputs": [],
   "source": [
    "def plot_mix(generator):\n",
    "\n",
    "\n",
    "    labels = ['onshore wind', 'solar', 'gas (OCGT)', 'coal', 'biomass', 'oil', 'offshore wind']\n",
    "    sizes = [generator['onshorewind'].sum(),\n",
    "                    generator['solar'].sum(),\n",
    "                    generator['OCGT'].sum(),\n",
    "                    generator['Coal'].sum(),\n",
    "                    generator['Biomass'].sum(),\n",
    "                    generator['Oil'].sum(),\n",
    "                    generator['offshorewind'].sum()]\n",
    "\n",
    "    colors = ['blue', 'orange', 'brown', 'grey', 'green', 'black', 'purple']\n",
    "\n",
    "    fig = go.Figure(data=[go.Pie(labels=labels, values=sizes, marker=dict(colors=colors))])\n",
    "\n",
    "    fig.update_layout(title='Electricity mix')\n",
    "\n",
    "    fig.show()\n"
   ]
  },
  {
   "cell_type": "code",
   "execution_count": null,
   "metadata": {},
   "outputs": [
    {
     "data": {
      "application/vnd.plotly.v1+json": {
       "config": {
        "plotlyServerURL": "https://plot.ly"
       },
       "data": [
        {
         "labels": [
          "onshore wind",
          "solar",
          "gas (OCGT)",
          "coal",
          "biomass",
          "oil",
          "offshore wind"
         ],
         "marker": {
          "colors": [
           "blue",
           "orange",
           "brown",
           "grey",
           "green",
           "black",
           "purple"
          ]
         },
         "type": "pie",
         "values": [
          10851822.06252431,
          0,
          15116054.955828391,
          0,
          577080.0794847537,
          27308.902162548664,
          0
         ]
        }
       ],
       "layout": {
        "template": {
         "data": {
          "bar": [
           {
            "error_x": {
             "color": "#2a3f5f"
            },
            "error_y": {
             "color": "#2a3f5f"
            },
            "marker": {
             "line": {
              "color": "#E5ECF6",
              "width": 0.5
             },
             "pattern": {
              "fillmode": "overlay",
              "size": 10,
              "solidity": 0.2
             }
            },
            "type": "bar"
           }
          ],
          "barpolar": [
           {
            "marker": {
             "line": {
              "color": "#E5ECF6",
              "width": 0.5
             },
             "pattern": {
              "fillmode": "overlay",
              "size": 10,
              "solidity": 0.2
             }
            },
            "type": "barpolar"
           }
          ],
          "carpet": [
           {
            "aaxis": {
             "endlinecolor": "#2a3f5f",
             "gridcolor": "white",
             "linecolor": "white",
             "minorgridcolor": "white",
             "startlinecolor": "#2a3f5f"
            },
            "baxis": {
             "endlinecolor": "#2a3f5f",
             "gridcolor": "white",
             "linecolor": "white",
             "minorgridcolor": "white",
             "startlinecolor": "#2a3f5f"
            },
            "type": "carpet"
           }
          ],
          "choropleth": [
           {
            "colorbar": {
             "outlinewidth": 0,
             "ticks": ""
            },
            "type": "choropleth"
           }
          ],
          "contour": [
           {
            "colorbar": {
             "outlinewidth": 0,
             "ticks": ""
            },
            "colorscale": [
             [
              0,
              "#0d0887"
             ],
             [
              0.1111111111111111,
              "#46039f"
             ],
             [
              0.2222222222222222,
              "#7201a8"
             ],
             [
              0.3333333333333333,
              "#9c179e"
             ],
             [
              0.4444444444444444,
              "#bd3786"
             ],
             [
              0.5555555555555556,
              "#d8576b"
             ],
             [
              0.6666666666666666,
              "#ed7953"
             ],
             [
              0.7777777777777778,
              "#fb9f3a"
             ],
             [
              0.8888888888888888,
              "#fdca26"
             ],
             [
              1,
              "#f0f921"
             ]
            ],
            "type": "contour"
           }
          ],
          "contourcarpet": [
           {
            "colorbar": {
             "outlinewidth": 0,
             "ticks": ""
            },
            "type": "contourcarpet"
           }
          ],
          "heatmap": [
           {
            "colorbar": {
             "outlinewidth": 0,
             "ticks": ""
            },
            "colorscale": [
             [
              0,
              "#0d0887"
             ],
             [
              0.1111111111111111,
              "#46039f"
             ],
             [
              0.2222222222222222,
              "#7201a8"
             ],
             [
              0.3333333333333333,
              "#9c179e"
             ],
             [
              0.4444444444444444,
              "#bd3786"
             ],
             [
              0.5555555555555556,
              "#d8576b"
             ],
             [
              0.6666666666666666,
              "#ed7953"
             ],
             [
              0.7777777777777778,
              "#fb9f3a"
             ],
             [
              0.8888888888888888,
              "#fdca26"
             ],
             [
              1,
              "#f0f921"
             ]
            ],
            "type": "heatmap"
           }
          ],
          "histogram": [
           {
            "marker": {
             "pattern": {
              "fillmode": "overlay",
              "size": 10,
              "solidity": 0.2
             }
            },
            "type": "histogram"
           }
          ],
          "histogram2d": [
           {
            "colorbar": {
             "outlinewidth": 0,
             "ticks": ""
            },
            "colorscale": [
             [
              0,
              "#0d0887"
             ],
             [
              0.1111111111111111,
              "#46039f"
             ],
             [
              0.2222222222222222,
              "#7201a8"
             ],
             [
              0.3333333333333333,
              "#9c179e"
             ],
             [
              0.4444444444444444,
              "#bd3786"
             ],
             [
              0.5555555555555556,
              "#d8576b"
             ],
             [
              0.6666666666666666,
              "#ed7953"
             ],
             [
              0.7777777777777778,
              "#fb9f3a"
             ],
             [
              0.8888888888888888,
              "#fdca26"
             ],
             [
              1,
              "#f0f921"
             ]
            ],
            "type": "histogram2d"
           }
          ],
          "histogram2dcontour": [
           {
            "colorbar": {
             "outlinewidth": 0,
             "ticks": ""
            },
            "colorscale": [
             [
              0,
              "#0d0887"
             ],
             [
              0.1111111111111111,
              "#46039f"
             ],
             [
              0.2222222222222222,
              "#7201a8"
             ],
             [
              0.3333333333333333,
              "#9c179e"
             ],
             [
              0.4444444444444444,
              "#bd3786"
             ],
             [
              0.5555555555555556,
              "#d8576b"
             ],
             [
              0.6666666666666666,
              "#ed7953"
             ],
             [
              0.7777777777777778,
              "#fb9f3a"
             ],
             [
              0.8888888888888888,
              "#fdca26"
             ],
             [
              1,
              "#f0f921"
             ]
            ],
            "type": "histogram2dcontour"
           }
          ],
          "mesh3d": [
           {
            "colorbar": {
             "outlinewidth": 0,
             "ticks": ""
            },
            "type": "mesh3d"
           }
          ],
          "parcoords": [
           {
            "line": {
             "colorbar": {
              "outlinewidth": 0,
              "ticks": ""
             }
            },
            "type": "parcoords"
           }
          ],
          "pie": [
           {
            "automargin": true,
            "type": "pie"
           }
          ],
          "scatter": [
           {
            "fillpattern": {
             "fillmode": "overlay",
             "size": 10,
             "solidity": 0.2
            },
            "type": "scatter"
           }
          ],
          "scatter3d": [
           {
            "line": {
             "colorbar": {
              "outlinewidth": 0,
              "ticks": ""
             }
            },
            "marker": {
             "colorbar": {
              "outlinewidth": 0,
              "ticks": ""
             }
            },
            "type": "scatter3d"
           }
          ],
          "scattercarpet": [
           {
            "marker": {
             "colorbar": {
              "outlinewidth": 0,
              "ticks": ""
             }
            },
            "type": "scattercarpet"
           }
          ],
          "scattergeo": [
           {
            "marker": {
             "colorbar": {
              "outlinewidth": 0,
              "ticks": ""
             }
            },
            "type": "scattergeo"
           }
          ],
          "scattergl": [
           {
            "marker": {
             "colorbar": {
              "outlinewidth": 0,
              "ticks": ""
             }
            },
            "type": "scattergl"
           }
          ],
          "scattermap": [
           {
            "marker": {
             "colorbar": {
              "outlinewidth": 0,
              "ticks": ""
             }
            },
            "type": "scattermap"
           }
          ],
          "scattermapbox": [
           {
            "marker": {
             "colorbar": {
              "outlinewidth": 0,
              "ticks": ""
             }
            },
            "type": "scattermapbox"
           }
          ],
          "scatterpolar": [
           {
            "marker": {
             "colorbar": {
              "outlinewidth": 0,
              "ticks": ""
             }
            },
            "type": "scatterpolar"
           }
          ],
          "scatterpolargl": [
           {
            "marker": {
             "colorbar": {
              "outlinewidth": 0,
              "ticks": ""
             }
            },
            "type": "scatterpolargl"
           }
          ],
          "scatterternary": [
           {
            "marker": {
             "colorbar": {
              "outlinewidth": 0,
              "ticks": ""
             }
            },
            "type": "scatterternary"
           }
          ],
          "surface": [
           {
            "colorbar": {
             "outlinewidth": 0,
             "ticks": ""
            },
            "colorscale": [
             [
              0,
              "#0d0887"
             ],
             [
              0.1111111111111111,
              "#46039f"
             ],
             [
              0.2222222222222222,
              "#7201a8"
             ],
             [
              0.3333333333333333,
              "#9c179e"
             ],
             [
              0.4444444444444444,
              "#bd3786"
             ],
             [
              0.5555555555555556,
              "#d8576b"
             ],
             [
              0.6666666666666666,
              "#ed7953"
             ],
             [
              0.7777777777777778,
              "#fb9f3a"
             ],
             [
              0.8888888888888888,
              "#fdca26"
             ],
             [
              1,
              "#f0f921"
             ]
            ],
            "type": "surface"
           }
          ],
          "table": [
           {
            "cells": {
             "fill": {
              "color": "#EBF0F8"
             },
             "line": {
              "color": "white"
             }
            },
            "header": {
             "fill": {
              "color": "#C8D4E3"
             },
             "line": {
              "color": "white"
             }
            },
            "type": "table"
           }
          ]
         },
         "layout": {
          "annotationdefaults": {
           "arrowcolor": "#2a3f5f",
           "arrowhead": 0,
           "arrowwidth": 1
          },
          "autotypenumbers": "strict",
          "coloraxis": {
           "colorbar": {
            "outlinewidth": 0,
            "ticks": ""
           }
          },
          "colorscale": {
           "diverging": [
            [
             0,
             "#8e0152"
            ],
            [
             0.1,
             "#c51b7d"
            ],
            [
             0.2,
             "#de77ae"
            ],
            [
             0.3,
             "#f1b6da"
            ],
            [
             0.4,
             "#fde0ef"
            ],
            [
             0.5,
             "#f7f7f7"
            ],
            [
             0.6,
             "#e6f5d0"
            ],
            [
             0.7,
             "#b8e186"
            ],
            [
             0.8,
             "#7fbc41"
            ],
            [
             0.9,
             "#4d9221"
            ],
            [
             1,
             "#276419"
            ]
           ],
           "sequential": [
            [
             0,
             "#0d0887"
            ],
            [
             0.1111111111111111,
             "#46039f"
            ],
            [
             0.2222222222222222,
             "#7201a8"
            ],
            [
             0.3333333333333333,
             "#9c179e"
            ],
            [
             0.4444444444444444,
             "#bd3786"
            ],
            [
             0.5555555555555556,
             "#d8576b"
            ],
            [
             0.6666666666666666,
             "#ed7953"
            ],
            [
             0.7777777777777778,
             "#fb9f3a"
            ],
            [
             0.8888888888888888,
             "#fdca26"
            ],
            [
             1,
             "#f0f921"
            ]
           ],
           "sequentialminus": [
            [
             0,
             "#0d0887"
            ],
            [
             0.1111111111111111,
             "#46039f"
            ],
            [
             0.2222222222222222,
             "#7201a8"
            ],
            [
             0.3333333333333333,
             "#9c179e"
            ],
            [
             0.4444444444444444,
             "#bd3786"
            ],
            [
             0.5555555555555556,
             "#d8576b"
            ],
            [
             0.6666666666666666,
             "#ed7953"
            ],
            [
             0.7777777777777778,
             "#fb9f3a"
            ],
            [
             0.8888888888888888,
             "#fdca26"
            ],
            [
             1,
             "#f0f921"
            ]
           ]
          },
          "colorway": [
           "#636efa",
           "#EF553B",
           "#00cc96",
           "#ab63fa",
           "#FFA15A",
           "#19d3f3",
           "#FF6692",
           "#B6E880",
           "#FF97FF",
           "#FECB52"
          ],
          "font": {
           "color": "#2a3f5f"
          },
          "geo": {
           "bgcolor": "white",
           "lakecolor": "white",
           "landcolor": "#E5ECF6",
           "showlakes": true,
           "showland": true,
           "subunitcolor": "white"
          },
          "hoverlabel": {
           "align": "left"
          },
          "hovermode": "closest",
          "mapbox": {
           "style": "light"
          },
          "paper_bgcolor": "white",
          "plot_bgcolor": "#E5ECF6",
          "polar": {
           "angularaxis": {
            "gridcolor": "white",
            "linecolor": "white",
            "ticks": ""
           },
           "bgcolor": "#E5ECF6",
           "radialaxis": {
            "gridcolor": "white",
            "linecolor": "white",
            "ticks": ""
           }
          },
          "scene": {
           "xaxis": {
            "backgroundcolor": "#E5ECF6",
            "gridcolor": "white",
            "gridwidth": 2,
            "linecolor": "white",
            "showbackground": true,
            "ticks": "",
            "zerolinecolor": "white"
           },
           "yaxis": {
            "backgroundcolor": "#E5ECF6",
            "gridcolor": "white",
            "gridwidth": 2,
            "linecolor": "white",
            "showbackground": true,
            "ticks": "",
            "zerolinecolor": "white"
           },
           "zaxis": {
            "backgroundcolor": "#E5ECF6",
            "gridcolor": "white",
            "gridwidth": 2,
            "linecolor": "white",
            "showbackground": true,
            "ticks": "",
            "zerolinecolor": "white"
           }
          },
          "shapedefaults": {
           "line": {
            "color": "#2a3f5f"
           }
          },
          "ternary": {
           "aaxis": {
            "gridcolor": "white",
            "linecolor": "white",
            "ticks": ""
           },
           "baxis": {
            "gridcolor": "white",
            "linecolor": "white",
            "ticks": ""
           },
           "bgcolor": "#E5ECF6",
           "caxis": {
            "gridcolor": "white",
            "linecolor": "white",
            "ticks": ""
           }
          },
          "title": {
           "x": 0.05
          },
          "xaxis": {
           "automargin": true,
           "gridcolor": "white",
           "linecolor": "white",
           "ticks": "",
           "title": {
            "standoff": 15
           },
           "zerolinecolor": "white",
           "zerolinewidth": 2
          },
          "yaxis": {
           "automargin": true,
           "gridcolor": "white",
           "linecolor": "white",
           "ticks": "",
           "title": {
            "standoff": 15
           },
           "zerolinecolor": "white",
           "zerolinewidth": 2
          }
         }
        },
        "title": {
         "text": "Electricity mix"
        }
       }
      }
     },
     "metadata": {},
     "output_type": "display_data"
    },
    {
     "data": {
      "application/vnd.plotly.v1+json": {
       "config": {
        "plotlyServerURL": "https://plot.ly"
       },
       "data": [
        {
         "labels": [
          "onshore wind",
          "solar",
          "gas (OCGT)",
          "coal",
          "biomass",
          "oil",
          "offshore wind"
         ],
         "marker": {
          "colors": [
           "blue",
           "orange",
           "brown",
           "grey",
           "green",
           "black",
           "purple"
          ]
         },
         "type": "pie",
         "values": [
          10851822.06252431,
          0,
          15116054.955828391,
          0,
          577080.0794847537,
          27308.902162548664,
          0
         ]
        }
       ],
       "layout": {
        "template": {
         "data": {
          "bar": [
           {
            "error_x": {
             "color": "#2a3f5f"
            },
            "error_y": {
             "color": "#2a3f5f"
            },
            "marker": {
             "line": {
              "color": "#E5ECF6",
              "width": 0.5
             },
             "pattern": {
              "fillmode": "overlay",
              "size": 10,
              "solidity": 0.2
             }
            },
            "type": "bar"
           }
          ],
          "barpolar": [
           {
            "marker": {
             "line": {
              "color": "#E5ECF6",
              "width": 0.5
             },
             "pattern": {
              "fillmode": "overlay",
              "size": 10,
              "solidity": 0.2
             }
            },
            "type": "barpolar"
           }
          ],
          "carpet": [
           {
            "aaxis": {
             "endlinecolor": "#2a3f5f",
             "gridcolor": "white",
             "linecolor": "white",
             "minorgridcolor": "white",
             "startlinecolor": "#2a3f5f"
            },
            "baxis": {
             "endlinecolor": "#2a3f5f",
             "gridcolor": "white",
             "linecolor": "white",
             "minorgridcolor": "white",
             "startlinecolor": "#2a3f5f"
            },
            "type": "carpet"
           }
          ],
          "choropleth": [
           {
            "colorbar": {
             "outlinewidth": 0,
             "ticks": ""
            },
            "type": "choropleth"
           }
          ],
          "contour": [
           {
            "colorbar": {
             "outlinewidth": 0,
             "ticks": ""
            },
            "colorscale": [
             [
              0,
              "#0d0887"
             ],
             [
              0.1111111111111111,
              "#46039f"
             ],
             [
              0.2222222222222222,
              "#7201a8"
             ],
             [
              0.3333333333333333,
              "#9c179e"
             ],
             [
              0.4444444444444444,
              "#bd3786"
             ],
             [
              0.5555555555555556,
              "#d8576b"
             ],
             [
              0.6666666666666666,
              "#ed7953"
             ],
             [
              0.7777777777777778,
              "#fb9f3a"
             ],
             [
              0.8888888888888888,
              "#fdca26"
             ],
             [
              1,
              "#f0f921"
             ]
            ],
            "type": "contour"
           }
          ],
          "contourcarpet": [
           {
            "colorbar": {
             "outlinewidth": 0,
             "ticks": ""
            },
            "type": "contourcarpet"
           }
          ],
          "heatmap": [
           {
            "colorbar": {
             "outlinewidth": 0,
             "ticks": ""
            },
            "colorscale": [
             [
              0,
              "#0d0887"
             ],
             [
              0.1111111111111111,
              "#46039f"
             ],
             [
              0.2222222222222222,
              "#7201a8"
             ],
             [
              0.3333333333333333,
              "#9c179e"
             ],
             [
              0.4444444444444444,
              "#bd3786"
             ],
             [
              0.5555555555555556,
              "#d8576b"
             ],
             [
              0.6666666666666666,
              "#ed7953"
             ],
             [
              0.7777777777777778,
              "#fb9f3a"
             ],
             [
              0.8888888888888888,
              "#fdca26"
             ],
             [
              1,
              "#f0f921"
             ]
            ],
            "type": "heatmap"
           }
          ],
          "histogram": [
           {
            "marker": {
             "pattern": {
              "fillmode": "overlay",
              "size": 10,
              "solidity": 0.2
             }
            },
            "type": "histogram"
           }
          ],
          "histogram2d": [
           {
            "colorbar": {
             "outlinewidth": 0,
             "ticks": ""
            },
            "colorscale": [
             [
              0,
              "#0d0887"
             ],
             [
              0.1111111111111111,
              "#46039f"
             ],
             [
              0.2222222222222222,
              "#7201a8"
             ],
             [
              0.3333333333333333,
              "#9c179e"
             ],
             [
              0.4444444444444444,
              "#bd3786"
             ],
             [
              0.5555555555555556,
              "#d8576b"
             ],
             [
              0.6666666666666666,
              "#ed7953"
             ],
             [
              0.7777777777777778,
              "#fb9f3a"
             ],
             [
              0.8888888888888888,
              "#fdca26"
             ],
             [
              1,
              "#f0f921"
             ]
            ],
            "type": "histogram2d"
           }
          ],
          "histogram2dcontour": [
           {
            "colorbar": {
             "outlinewidth": 0,
             "ticks": ""
            },
            "colorscale": [
             [
              0,
              "#0d0887"
             ],
             [
              0.1111111111111111,
              "#46039f"
             ],
             [
              0.2222222222222222,
              "#7201a8"
             ],
             [
              0.3333333333333333,
              "#9c179e"
             ],
             [
              0.4444444444444444,
              "#bd3786"
             ],
             [
              0.5555555555555556,
              "#d8576b"
             ],
             [
              0.6666666666666666,
              "#ed7953"
             ],
             [
              0.7777777777777778,
              "#fb9f3a"
             ],
             [
              0.8888888888888888,
              "#fdca26"
             ],
             [
              1,
              "#f0f921"
             ]
            ],
            "type": "histogram2dcontour"
           }
          ],
          "mesh3d": [
           {
            "colorbar": {
             "outlinewidth": 0,
             "ticks": ""
            },
            "type": "mesh3d"
           }
          ],
          "parcoords": [
           {
            "line": {
             "colorbar": {
              "outlinewidth": 0,
              "ticks": ""
             }
            },
            "type": "parcoords"
           }
          ],
          "pie": [
           {
            "automargin": true,
            "type": "pie"
           }
          ],
          "scatter": [
           {
            "fillpattern": {
             "fillmode": "overlay",
             "size": 10,
             "solidity": 0.2
            },
            "type": "scatter"
           }
          ],
          "scatter3d": [
           {
            "line": {
             "colorbar": {
              "outlinewidth": 0,
              "ticks": ""
             }
            },
            "marker": {
             "colorbar": {
              "outlinewidth": 0,
              "ticks": ""
             }
            },
            "type": "scatter3d"
           }
          ],
          "scattercarpet": [
           {
            "marker": {
             "colorbar": {
              "outlinewidth": 0,
              "ticks": ""
             }
            },
            "type": "scattercarpet"
           }
          ],
          "scattergeo": [
           {
            "marker": {
             "colorbar": {
              "outlinewidth": 0,
              "ticks": ""
             }
            },
            "type": "scattergeo"
           }
          ],
          "scattergl": [
           {
            "marker": {
             "colorbar": {
              "outlinewidth": 0,
              "ticks": ""
             }
            },
            "type": "scattergl"
           }
          ],
          "scattermap": [
           {
            "marker": {
             "colorbar": {
              "outlinewidth": 0,
              "ticks": ""
             }
            },
            "type": "scattermap"
           }
          ],
          "scattermapbox": [
           {
            "marker": {
             "colorbar": {
              "outlinewidth": 0,
              "ticks": ""
             }
            },
            "type": "scattermapbox"
           }
          ],
          "scatterpolar": [
           {
            "marker": {
             "colorbar": {
              "outlinewidth": 0,
              "ticks": ""
             }
            },
            "type": "scatterpolar"
           }
          ],
          "scatterpolargl": [
           {
            "marker": {
             "colorbar": {
              "outlinewidth": 0,
              "ticks": ""
             }
            },
            "type": "scatterpolargl"
           }
          ],
          "scatterternary": [
           {
            "marker": {
             "colorbar": {
              "outlinewidth": 0,
              "ticks": ""
             }
            },
            "type": "scatterternary"
           }
          ],
          "surface": [
           {
            "colorbar": {
             "outlinewidth": 0,
             "ticks": ""
            },
            "colorscale": [
             [
              0,
              "#0d0887"
             ],
             [
              0.1111111111111111,
              "#46039f"
             ],
             [
              0.2222222222222222,
              "#7201a8"
             ],
             [
              0.3333333333333333,
              "#9c179e"
             ],
             [
              0.4444444444444444,
              "#bd3786"
             ],
             [
              0.5555555555555556,
              "#d8576b"
             ],
             [
              0.6666666666666666,
              "#ed7953"
             ],
             [
              0.7777777777777778,
              "#fb9f3a"
             ],
             [
              0.8888888888888888,
              "#fdca26"
             ],
             [
              1,
              "#f0f921"
             ]
            ],
            "type": "surface"
           }
          ],
          "table": [
           {
            "cells": {
             "fill": {
              "color": "#EBF0F8"
             },
             "line": {
              "color": "white"
             }
            },
            "header": {
             "fill": {
              "color": "#C8D4E3"
             },
             "line": {
              "color": "white"
             }
            },
            "type": "table"
           }
          ]
         },
         "layout": {
          "annotationdefaults": {
           "arrowcolor": "#2a3f5f",
           "arrowhead": 0,
           "arrowwidth": 1
          },
          "autotypenumbers": "strict",
          "coloraxis": {
           "colorbar": {
            "outlinewidth": 0,
            "ticks": ""
           }
          },
          "colorscale": {
           "diverging": [
            [
             0,
             "#8e0152"
            ],
            [
             0.1,
             "#c51b7d"
            ],
            [
             0.2,
             "#de77ae"
            ],
            [
             0.3,
             "#f1b6da"
            ],
            [
             0.4,
             "#fde0ef"
            ],
            [
             0.5,
             "#f7f7f7"
            ],
            [
             0.6,
             "#e6f5d0"
            ],
            [
             0.7,
             "#b8e186"
            ],
            [
             0.8,
             "#7fbc41"
            ],
            [
             0.9,
             "#4d9221"
            ],
            [
             1,
             "#276419"
            ]
           ],
           "sequential": [
            [
             0,
             "#0d0887"
            ],
            [
             0.1111111111111111,
             "#46039f"
            ],
            [
             0.2222222222222222,
             "#7201a8"
            ],
            [
             0.3333333333333333,
             "#9c179e"
            ],
            [
             0.4444444444444444,
             "#bd3786"
            ],
            [
             0.5555555555555556,
             "#d8576b"
            ],
            [
             0.6666666666666666,
             "#ed7953"
            ],
            [
             0.7777777777777778,
             "#fb9f3a"
            ],
            [
             0.8888888888888888,
             "#fdca26"
            ],
            [
             1,
             "#f0f921"
            ]
           ],
           "sequentialminus": [
            [
             0,
             "#0d0887"
            ],
            [
             0.1111111111111111,
             "#46039f"
            ],
            [
             0.2222222222222222,
             "#7201a8"
            ],
            [
             0.3333333333333333,
             "#9c179e"
            ],
            [
             0.4444444444444444,
             "#bd3786"
            ],
            [
             0.5555555555555556,
             "#d8576b"
            ],
            [
             0.6666666666666666,
             "#ed7953"
            ],
            [
             0.7777777777777778,
             "#fb9f3a"
            ],
            [
             0.8888888888888888,
             "#fdca26"
            ],
            [
             1,
             "#f0f921"
            ]
           ]
          },
          "colorway": [
           "#636efa",
           "#EF553B",
           "#00cc96",
           "#ab63fa",
           "#FFA15A",
           "#19d3f3",
           "#FF6692",
           "#B6E880",
           "#FF97FF",
           "#FECB52"
          ],
          "font": {
           "color": "#2a3f5f"
          },
          "geo": {
           "bgcolor": "white",
           "lakecolor": "white",
           "landcolor": "#E5ECF6",
           "showlakes": true,
           "showland": true,
           "subunitcolor": "white"
          },
          "hoverlabel": {
           "align": "left"
          },
          "hovermode": "closest",
          "mapbox": {
           "style": "light"
          },
          "paper_bgcolor": "white",
          "plot_bgcolor": "#E5ECF6",
          "polar": {
           "angularaxis": {
            "gridcolor": "white",
            "linecolor": "white",
            "ticks": ""
           },
           "bgcolor": "#E5ECF6",
           "radialaxis": {
            "gridcolor": "white",
            "linecolor": "white",
            "ticks": ""
           }
          },
          "scene": {
           "xaxis": {
            "backgroundcolor": "#E5ECF6",
            "gridcolor": "white",
            "gridwidth": 2,
            "linecolor": "white",
            "showbackground": true,
            "ticks": "",
            "zerolinecolor": "white"
           },
           "yaxis": {
            "backgroundcolor": "#E5ECF6",
            "gridcolor": "white",
            "gridwidth": 2,
            "linecolor": "white",
            "showbackground": true,
            "ticks": "",
            "zerolinecolor": "white"
           },
           "zaxis": {
            "backgroundcolor": "#E5ECF6",
            "gridcolor": "white",
            "gridwidth": 2,
            "linecolor": "white",
            "showbackground": true,
            "ticks": "",
            "zerolinecolor": "white"
           }
          },
          "shapedefaults": {
           "line": {
            "color": "#2a3f5f"
           }
          },
          "ternary": {
           "aaxis": {
            "gridcolor": "white",
            "linecolor": "white",
            "ticks": ""
           },
           "baxis": {
            "gridcolor": "white",
            "linecolor": "white",
            "ticks": ""
           },
           "bgcolor": "#E5ECF6",
           "caxis": {
            "gridcolor": "white",
            "linecolor": "white",
            "ticks": ""
           }
          },
          "title": {
           "x": 0.05
          },
          "xaxis": {
           "automargin": true,
           "gridcolor": "white",
           "linecolor": "white",
           "ticks": "",
           "title": {
            "standoff": 15
           },
           "zerolinecolor": "white",
           "zerolinewidth": 2
          },
          "yaxis": {
           "automargin": true,
           "gridcolor": "white",
           "linecolor": "white",
           "ticks": "",
           "title": {
            "standoff": 15
           },
           "zerolinecolor": "white",
           "zerolinewidth": 2
          }
         }
        },
        "title": {
         "text": "Electricity mix"
        }
       }
      }
     },
     "metadata": {},
     "output_type": "display_data"
    },
    {
     "data": {
      "application/vnd.plotly.v1+json": {
       "config": {
        "plotlyServerURL": "https://plot.ly"
       },
       "data": [
        {
         "labels": [
          "onshore wind",
          "solar",
          "gas (OCGT)",
          "coal",
          "biomass",
          "oil",
          "offshore wind"
         ],
         "marker": {
          "colors": [
           "blue",
           "orange",
           "brown",
           "grey",
           "green",
           "black",
           "purple"
          ]
         },
         "type": "pie",
         "values": [
          10851822.06252431,
          0,
          15116054.955828391,
          0,
          577080.0794847537,
          27308.902162548664,
          0
         ]
        }
       ],
       "layout": {
        "template": {
         "data": {
          "bar": [
           {
            "error_x": {
             "color": "#2a3f5f"
            },
            "error_y": {
             "color": "#2a3f5f"
            },
            "marker": {
             "line": {
              "color": "#E5ECF6",
              "width": 0.5
             },
             "pattern": {
              "fillmode": "overlay",
              "size": 10,
              "solidity": 0.2
             }
            },
            "type": "bar"
           }
          ],
          "barpolar": [
           {
            "marker": {
             "line": {
              "color": "#E5ECF6",
              "width": 0.5
             },
             "pattern": {
              "fillmode": "overlay",
              "size": 10,
              "solidity": 0.2
             }
            },
            "type": "barpolar"
           }
          ],
          "carpet": [
           {
            "aaxis": {
             "endlinecolor": "#2a3f5f",
             "gridcolor": "white",
             "linecolor": "white",
             "minorgridcolor": "white",
             "startlinecolor": "#2a3f5f"
            },
            "baxis": {
             "endlinecolor": "#2a3f5f",
             "gridcolor": "white",
             "linecolor": "white",
             "minorgridcolor": "white",
             "startlinecolor": "#2a3f5f"
            },
            "type": "carpet"
           }
          ],
          "choropleth": [
           {
            "colorbar": {
             "outlinewidth": 0,
             "ticks": ""
            },
            "type": "choropleth"
           }
          ],
          "contour": [
           {
            "colorbar": {
             "outlinewidth": 0,
             "ticks": ""
            },
            "colorscale": [
             [
              0,
              "#0d0887"
             ],
             [
              0.1111111111111111,
              "#46039f"
             ],
             [
              0.2222222222222222,
              "#7201a8"
             ],
             [
              0.3333333333333333,
              "#9c179e"
             ],
             [
              0.4444444444444444,
              "#bd3786"
             ],
             [
              0.5555555555555556,
              "#d8576b"
             ],
             [
              0.6666666666666666,
              "#ed7953"
             ],
             [
              0.7777777777777778,
              "#fb9f3a"
             ],
             [
              0.8888888888888888,
              "#fdca26"
             ],
             [
              1,
              "#f0f921"
             ]
            ],
            "type": "contour"
           }
          ],
          "contourcarpet": [
           {
            "colorbar": {
             "outlinewidth": 0,
             "ticks": ""
            },
            "type": "contourcarpet"
           }
          ],
          "heatmap": [
           {
            "colorbar": {
             "outlinewidth": 0,
             "ticks": ""
            },
            "colorscale": [
             [
              0,
              "#0d0887"
             ],
             [
              0.1111111111111111,
              "#46039f"
             ],
             [
              0.2222222222222222,
              "#7201a8"
             ],
             [
              0.3333333333333333,
              "#9c179e"
             ],
             [
              0.4444444444444444,
              "#bd3786"
             ],
             [
              0.5555555555555556,
              "#d8576b"
             ],
             [
              0.6666666666666666,
              "#ed7953"
             ],
             [
              0.7777777777777778,
              "#fb9f3a"
             ],
             [
              0.8888888888888888,
              "#fdca26"
             ],
             [
              1,
              "#f0f921"
             ]
            ],
            "type": "heatmap"
           }
          ],
          "histogram": [
           {
            "marker": {
             "pattern": {
              "fillmode": "overlay",
              "size": 10,
              "solidity": 0.2
             }
            },
            "type": "histogram"
           }
          ],
          "histogram2d": [
           {
            "colorbar": {
             "outlinewidth": 0,
             "ticks": ""
            },
            "colorscale": [
             [
              0,
              "#0d0887"
             ],
             [
              0.1111111111111111,
              "#46039f"
             ],
             [
              0.2222222222222222,
              "#7201a8"
             ],
             [
              0.3333333333333333,
              "#9c179e"
             ],
             [
              0.4444444444444444,
              "#bd3786"
             ],
             [
              0.5555555555555556,
              "#d8576b"
             ],
             [
              0.6666666666666666,
              "#ed7953"
             ],
             [
              0.7777777777777778,
              "#fb9f3a"
             ],
             [
              0.8888888888888888,
              "#fdca26"
             ],
             [
              1,
              "#f0f921"
             ]
            ],
            "type": "histogram2d"
           }
          ],
          "histogram2dcontour": [
           {
            "colorbar": {
             "outlinewidth": 0,
             "ticks": ""
            },
            "colorscale": [
             [
              0,
              "#0d0887"
             ],
             [
              0.1111111111111111,
              "#46039f"
             ],
             [
              0.2222222222222222,
              "#7201a8"
             ],
             [
              0.3333333333333333,
              "#9c179e"
             ],
             [
              0.4444444444444444,
              "#bd3786"
             ],
             [
              0.5555555555555556,
              "#d8576b"
             ],
             [
              0.6666666666666666,
              "#ed7953"
             ],
             [
              0.7777777777777778,
              "#fb9f3a"
             ],
             [
              0.8888888888888888,
              "#fdca26"
             ],
             [
              1,
              "#f0f921"
             ]
            ],
            "type": "histogram2dcontour"
           }
          ],
          "mesh3d": [
           {
            "colorbar": {
             "outlinewidth": 0,
             "ticks": ""
            },
            "type": "mesh3d"
           }
          ],
          "parcoords": [
           {
            "line": {
             "colorbar": {
              "outlinewidth": 0,
              "ticks": ""
             }
            },
            "type": "parcoords"
           }
          ],
          "pie": [
           {
            "automargin": true,
            "type": "pie"
           }
          ],
          "scatter": [
           {
            "fillpattern": {
             "fillmode": "overlay",
             "size": 10,
             "solidity": 0.2
            },
            "type": "scatter"
           }
          ],
          "scatter3d": [
           {
            "line": {
             "colorbar": {
              "outlinewidth": 0,
              "ticks": ""
             }
            },
            "marker": {
             "colorbar": {
              "outlinewidth": 0,
              "ticks": ""
             }
            },
            "type": "scatter3d"
           }
          ],
          "scattercarpet": [
           {
            "marker": {
             "colorbar": {
              "outlinewidth": 0,
              "ticks": ""
             }
            },
            "type": "scattercarpet"
           }
          ],
          "scattergeo": [
           {
            "marker": {
             "colorbar": {
              "outlinewidth": 0,
              "ticks": ""
             }
            },
            "type": "scattergeo"
           }
          ],
          "scattergl": [
           {
            "marker": {
             "colorbar": {
              "outlinewidth": 0,
              "ticks": ""
             }
            },
            "type": "scattergl"
           }
          ],
          "scattermap": [
           {
            "marker": {
             "colorbar": {
              "outlinewidth": 0,
              "ticks": ""
             }
            },
            "type": "scattermap"
           }
          ],
          "scattermapbox": [
           {
            "marker": {
             "colorbar": {
              "outlinewidth": 0,
              "ticks": ""
             }
            },
            "type": "scattermapbox"
           }
          ],
          "scatterpolar": [
           {
            "marker": {
             "colorbar": {
              "outlinewidth": 0,
              "ticks": ""
             }
            },
            "type": "scatterpolar"
           }
          ],
          "scatterpolargl": [
           {
            "marker": {
             "colorbar": {
              "outlinewidth": 0,
              "ticks": ""
             }
            },
            "type": "scatterpolargl"
           }
          ],
          "scatterternary": [
           {
            "marker": {
             "colorbar": {
              "outlinewidth": 0,
              "ticks": ""
             }
            },
            "type": "scatterternary"
           }
          ],
          "surface": [
           {
            "colorbar": {
             "outlinewidth": 0,
             "ticks": ""
            },
            "colorscale": [
             [
              0,
              "#0d0887"
             ],
             [
              0.1111111111111111,
              "#46039f"
             ],
             [
              0.2222222222222222,
              "#7201a8"
             ],
             [
              0.3333333333333333,
              "#9c179e"
             ],
             [
              0.4444444444444444,
              "#bd3786"
             ],
             [
              0.5555555555555556,
              "#d8576b"
             ],
             [
              0.6666666666666666,
              "#ed7953"
             ],
             [
              0.7777777777777778,
              "#fb9f3a"
             ],
             [
              0.8888888888888888,
              "#fdca26"
             ],
             [
              1,
              "#f0f921"
             ]
            ],
            "type": "surface"
           }
          ],
          "table": [
           {
            "cells": {
             "fill": {
              "color": "#EBF0F8"
             },
             "line": {
              "color": "white"
             }
            },
            "header": {
             "fill": {
              "color": "#C8D4E3"
             },
             "line": {
              "color": "white"
             }
            },
            "type": "table"
           }
          ]
         },
         "layout": {
          "annotationdefaults": {
           "arrowcolor": "#2a3f5f",
           "arrowhead": 0,
           "arrowwidth": 1
          },
          "autotypenumbers": "strict",
          "coloraxis": {
           "colorbar": {
            "outlinewidth": 0,
            "ticks": ""
           }
          },
          "colorscale": {
           "diverging": [
            [
             0,
             "#8e0152"
            ],
            [
             0.1,
             "#c51b7d"
            ],
            [
             0.2,
             "#de77ae"
            ],
            [
             0.3,
             "#f1b6da"
            ],
            [
             0.4,
             "#fde0ef"
            ],
            [
             0.5,
             "#f7f7f7"
            ],
            [
             0.6,
             "#e6f5d0"
            ],
            [
             0.7,
             "#b8e186"
            ],
            [
             0.8,
             "#7fbc41"
            ],
            [
             0.9,
             "#4d9221"
            ],
            [
             1,
             "#276419"
            ]
           ],
           "sequential": [
            [
             0,
             "#0d0887"
            ],
            [
             0.1111111111111111,
             "#46039f"
            ],
            [
             0.2222222222222222,
             "#7201a8"
            ],
            [
             0.3333333333333333,
             "#9c179e"
            ],
            [
             0.4444444444444444,
             "#bd3786"
            ],
            [
             0.5555555555555556,
             "#d8576b"
            ],
            [
             0.6666666666666666,
             "#ed7953"
            ],
            [
             0.7777777777777778,
             "#fb9f3a"
            ],
            [
             0.8888888888888888,
             "#fdca26"
            ],
            [
             1,
             "#f0f921"
            ]
           ],
           "sequentialminus": [
            [
             0,
             "#0d0887"
            ],
            [
             0.1111111111111111,
             "#46039f"
            ],
            [
             0.2222222222222222,
             "#7201a8"
            ],
            [
             0.3333333333333333,
             "#9c179e"
            ],
            [
             0.4444444444444444,
             "#bd3786"
            ],
            [
             0.5555555555555556,
             "#d8576b"
            ],
            [
             0.6666666666666666,
             "#ed7953"
            ],
            [
             0.7777777777777778,
             "#fb9f3a"
            ],
            [
             0.8888888888888888,
             "#fdca26"
            ],
            [
             1,
             "#f0f921"
            ]
           ]
          },
          "colorway": [
           "#636efa",
           "#EF553B",
           "#00cc96",
           "#ab63fa",
           "#FFA15A",
           "#19d3f3",
           "#FF6692",
           "#B6E880",
           "#FF97FF",
           "#FECB52"
          ],
          "font": {
           "color": "#2a3f5f"
          },
          "geo": {
           "bgcolor": "white",
           "lakecolor": "white",
           "landcolor": "#E5ECF6",
           "showlakes": true,
           "showland": true,
           "subunitcolor": "white"
          },
          "hoverlabel": {
           "align": "left"
          },
          "hovermode": "closest",
          "mapbox": {
           "style": "light"
          },
          "paper_bgcolor": "white",
          "plot_bgcolor": "#E5ECF6",
          "polar": {
           "angularaxis": {
            "gridcolor": "white",
            "linecolor": "white",
            "ticks": ""
           },
           "bgcolor": "#E5ECF6",
           "radialaxis": {
            "gridcolor": "white",
            "linecolor": "white",
            "ticks": ""
           }
          },
          "scene": {
           "xaxis": {
            "backgroundcolor": "#E5ECF6",
            "gridcolor": "white",
            "gridwidth": 2,
            "linecolor": "white",
            "showbackground": true,
            "ticks": "",
            "zerolinecolor": "white"
           },
           "yaxis": {
            "backgroundcolor": "#E5ECF6",
            "gridcolor": "white",
            "gridwidth": 2,
            "linecolor": "white",
            "showbackground": true,
            "ticks": "",
            "zerolinecolor": "white"
           },
           "zaxis": {
            "backgroundcolor": "#E5ECF6",
            "gridcolor": "white",
            "gridwidth": 2,
            "linecolor": "white",
            "showbackground": true,
            "ticks": "",
            "zerolinecolor": "white"
           }
          },
          "shapedefaults": {
           "line": {
            "color": "#2a3f5f"
           }
          },
          "ternary": {
           "aaxis": {
            "gridcolor": "white",
            "linecolor": "white",
            "ticks": ""
           },
           "baxis": {
            "gridcolor": "white",
            "linecolor": "white",
            "ticks": ""
           },
           "bgcolor": "#E5ECF6",
           "caxis": {
            "gridcolor": "white",
            "linecolor": "white",
            "ticks": ""
           }
          },
          "title": {
           "x": 0.05
          },
          "xaxis": {
           "automargin": true,
           "gridcolor": "white",
           "linecolor": "white",
           "ticks": "",
           "title": {
            "standoff": 15
           },
           "zerolinecolor": "white",
           "zerolinewidth": 2
          },
          "yaxis": {
           "automargin": true,
           "gridcolor": "white",
           "linecolor": "white",
           "ticks": "",
           "title": {
            "standoff": 15
           },
           "zerolinecolor": "white",
           "zerolinewidth": 2
          }
         }
        },
        "title": {
         "text": "Electricity mix"
        }
       }
      }
     },
     "metadata": {},
     "output_type": "display_data"
    },
    {
     "data": {
      "application/vnd.plotly.v1+json": {
       "config": {
        "plotlyServerURL": "https://plot.ly"
       },
       "data": [
        {
         "labels": [
          "onshore wind",
          "solar",
          "gas (OCGT)",
          "coal",
          "biomass",
          "oil",
          "offshore wind"
         ],
         "marker": {
          "colors": [
           "blue",
           "orange",
           "brown",
           "grey",
           "green",
           "black",
           "purple"
          ]
         },
         "type": "pie",
         "values": [
          10851822.06252431,
          0,
          15116054.955828391,
          0,
          577080.0794847537,
          27308.902162548664,
          0
         ]
        }
       ],
       "layout": {
        "template": {
         "data": {
          "bar": [
           {
            "error_x": {
             "color": "#2a3f5f"
            },
            "error_y": {
             "color": "#2a3f5f"
            },
            "marker": {
             "line": {
              "color": "#E5ECF6",
              "width": 0.5
             },
             "pattern": {
              "fillmode": "overlay",
              "size": 10,
              "solidity": 0.2
             }
            },
            "type": "bar"
           }
          ],
          "barpolar": [
           {
            "marker": {
             "line": {
              "color": "#E5ECF6",
              "width": 0.5
             },
             "pattern": {
              "fillmode": "overlay",
              "size": 10,
              "solidity": 0.2
             }
            },
            "type": "barpolar"
           }
          ],
          "carpet": [
           {
            "aaxis": {
             "endlinecolor": "#2a3f5f",
             "gridcolor": "white",
             "linecolor": "white",
             "minorgridcolor": "white",
             "startlinecolor": "#2a3f5f"
            },
            "baxis": {
             "endlinecolor": "#2a3f5f",
             "gridcolor": "white",
             "linecolor": "white",
             "minorgridcolor": "white",
             "startlinecolor": "#2a3f5f"
            },
            "type": "carpet"
           }
          ],
          "choropleth": [
           {
            "colorbar": {
             "outlinewidth": 0,
             "ticks": ""
            },
            "type": "choropleth"
           }
          ],
          "contour": [
           {
            "colorbar": {
             "outlinewidth": 0,
             "ticks": ""
            },
            "colorscale": [
             [
              0,
              "#0d0887"
             ],
             [
              0.1111111111111111,
              "#46039f"
             ],
             [
              0.2222222222222222,
              "#7201a8"
             ],
             [
              0.3333333333333333,
              "#9c179e"
             ],
             [
              0.4444444444444444,
              "#bd3786"
             ],
             [
              0.5555555555555556,
              "#d8576b"
             ],
             [
              0.6666666666666666,
              "#ed7953"
             ],
             [
              0.7777777777777778,
              "#fb9f3a"
             ],
             [
              0.8888888888888888,
              "#fdca26"
             ],
             [
              1,
              "#f0f921"
             ]
            ],
            "type": "contour"
           }
          ],
          "contourcarpet": [
           {
            "colorbar": {
             "outlinewidth": 0,
             "ticks": ""
            },
            "type": "contourcarpet"
           }
          ],
          "heatmap": [
           {
            "colorbar": {
             "outlinewidth": 0,
             "ticks": ""
            },
            "colorscale": [
             [
              0,
              "#0d0887"
             ],
             [
              0.1111111111111111,
              "#46039f"
             ],
             [
              0.2222222222222222,
              "#7201a8"
             ],
             [
              0.3333333333333333,
              "#9c179e"
             ],
             [
              0.4444444444444444,
              "#bd3786"
             ],
             [
              0.5555555555555556,
              "#d8576b"
             ],
             [
              0.6666666666666666,
              "#ed7953"
             ],
             [
              0.7777777777777778,
              "#fb9f3a"
             ],
             [
              0.8888888888888888,
              "#fdca26"
             ],
             [
              1,
              "#f0f921"
             ]
            ],
            "type": "heatmap"
           }
          ],
          "histogram": [
           {
            "marker": {
             "pattern": {
              "fillmode": "overlay",
              "size": 10,
              "solidity": 0.2
             }
            },
            "type": "histogram"
           }
          ],
          "histogram2d": [
           {
            "colorbar": {
             "outlinewidth": 0,
             "ticks": ""
            },
            "colorscale": [
             [
              0,
              "#0d0887"
             ],
             [
              0.1111111111111111,
              "#46039f"
             ],
             [
              0.2222222222222222,
              "#7201a8"
             ],
             [
              0.3333333333333333,
              "#9c179e"
             ],
             [
              0.4444444444444444,
              "#bd3786"
             ],
             [
              0.5555555555555556,
              "#d8576b"
             ],
             [
              0.6666666666666666,
              "#ed7953"
             ],
             [
              0.7777777777777778,
              "#fb9f3a"
             ],
             [
              0.8888888888888888,
              "#fdca26"
             ],
             [
              1,
              "#f0f921"
             ]
            ],
            "type": "histogram2d"
           }
          ],
          "histogram2dcontour": [
           {
            "colorbar": {
             "outlinewidth": 0,
             "ticks": ""
            },
            "colorscale": [
             [
              0,
              "#0d0887"
             ],
             [
              0.1111111111111111,
              "#46039f"
             ],
             [
              0.2222222222222222,
              "#7201a8"
             ],
             [
              0.3333333333333333,
              "#9c179e"
             ],
             [
              0.4444444444444444,
              "#bd3786"
             ],
             [
              0.5555555555555556,
              "#d8576b"
             ],
             [
              0.6666666666666666,
              "#ed7953"
             ],
             [
              0.7777777777777778,
              "#fb9f3a"
             ],
             [
              0.8888888888888888,
              "#fdca26"
             ],
             [
              1,
              "#f0f921"
             ]
            ],
            "type": "histogram2dcontour"
           }
          ],
          "mesh3d": [
           {
            "colorbar": {
             "outlinewidth": 0,
             "ticks": ""
            },
            "type": "mesh3d"
           }
          ],
          "parcoords": [
           {
            "line": {
             "colorbar": {
              "outlinewidth": 0,
              "ticks": ""
             }
            },
            "type": "parcoords"
           }
          ],
          "pie": [
           {
            "automargin": true,
            "type": "pie"
           }
          ],
          "scatter": [
           {
            "fillpattern": {
             "fillmode": "overlay",
             "size": 10,
             "solidity": 0.2
            },
            "type": "scatter"
           }
          ],
          "scatter3d": [
           {
            "line": {
             "colorbar": {
              "outlinewidth": 0,
              "ticks": ""
             }
            },
            "marker": {
             "colorbar": {
              "outlinewidth": 0,
              "ticks": ""
             }
            },
            "type": "scatter3d"
           }
          ],
          "scattercarpet": [
           {
            "marker": {
             "colorbar": {
              "outlinewidth": 0,
              "ticks": ""
             }
            },
            "type": "scattercarpet"
           }
          ],
          "scattergeo": [
           {
            "marker": {
             "colorbar": {
              "outlinewidth": 0,
              "ticks": ""
             }
            },
            "type": "scattergeo"
           }
          ],
          "scattergl": [
           {
            "marker": {
             "colorbar": {
              "outlinewidth": 0,
              "ticks": ""
             }
            },
            "type": "scattergl"
           }
          ],
          "scattermap": [
           {
            "marker": {
             "colorbar": {
              "outlinewidth": 0,
              "ticks": ""
             }
            },
            "type": "scattermap"
           }
          ],
          "scattermapbox": [
           {
            "marker": {
             "colorbar": {
              "outlinewidth": 0,
              "ticks": ""
             }
            },
            "type": "scattermapbox"
           }
          ],
          "scatterpolar": [
           {
            "marker": {
             "colorbar": {
              "outlinewidth": 0,
              "ticks": ""
             }
            },
            "type": "scatterpolar"
           }
          ],
          "scatterpolargl": [
           {
            "marker": {
             "colorbar": {
              "outlinewidth": 0,
              "ticks": ""
             }
            },
            "type": "scatterpolargl"
           }
          ],
          "scatterternary": [
           {
            "marker": {
             "colorbar": {
              "outlinewidth": 0,
              "ticks": ""
             }
            },
            "type": "scatterternary"
           }
          ],
          "surface": [
           {
            "colorbar": {
             "outlinewidth": 0,
             "ticks": ""
            },
            "colorscale": [
             [
              0,
              "#0d0887"
             ],
             [
              0.1111111111111111,
              "#46039f"
             ],
             [
              0.2222222222222222,
              "#7201a8"
             ],
             [
              0.3333333333333333,
              "#9c179e"
             ],
             [
              0.4444444444444444,
              "#bd3786"
             ],
             [
              0.5555555555555556,
              "#d8576b"
             ],
             [
              0.6666666666666666,
              "#ed7953"
             ],
             [
              0.7777777777777778,
              "#fb9f3a"
             ],
             [
              0.8888888888888888,
              "#fdca26"
             ],
             [
              1,
              "#f0f921"
             ]
            ],
            "type": "surface"
           }
          ],
          "table": [
           {
            "cells": {
             "fill": {
              "color": "#EBF0F8"
             },
             "line": {
              "color": "white"
             }
            },
            "header": {
             "fill": {
              "color": "#C8D4E3"
             },
             "line": {
              "color": "white"
             }
            },
            "type": "table"
           }
          ]
         },
         "layout": {
          "annotationdefaults": {
           "arrowcolor": "#2a3f5f",
           "arrowhead": 0,
           "arrowwidth": 1
          },
          "autotypenumbers": "strict",
          "coloraxis": {
           "colorbar": {
            "outlinewidth": 0,
            "ticks": ""
           }
          },
          "colorscale": {
           "diverging": [
            [
             0,
             "#8e0152"
            ],
            [
             0.1,
             "#c51b7d"
            ],
            [
             0.2,
             "#de77ae"
            ],
            [
             0.3,
             "#f1b6da"
            ],
            [
             0.4,
             "#fde0ef"
            ],
            [
             0.5,
             "#f7f7f7"
            ],
            [
             0.6,
             "#e6f5d0"
            ],
            [
             0.7,
             "#b8e186"
            ],
            [
             0.8,
             "#7fbc41"
            ],
            [
             0.9,
             "#4d9221"
            ],
            [
             1,
             "#276419"
            ]
           ],
           "sequential": [
            [
             0,
             "#0d0887"
            ],
            [
             0.1111111111111111,
             "#46039f"
            ],
            [
             0.2222222222222222,
             "#7201a8"
            ],
            [
             0.3333333333333333,
             "#9c179e"
            ],
            [
             0.4444444444444444,
             "#bd3786"
            ],
            [
             0.5555555555555556,
             "#d8576b"
            ],
            [
             0.6666666666666666,
             "#ed7953"
            ],
            [
             0.7777777777777778,
             "#fb9f3a"
            ],
            [
             0.8888888888888888,
             "#fdca26"
            ],
            [
             1,
             "#f0f921"
            ]
           ],
           "sequentialminus": [
            [
             0,
             "#0d0887"
            ],
            [
             0.1111111111111111,
             "#46039f"
            ],
            [
             0.2222222222222222,
             "#7201a8"
            ],
            [
             0.3333333333333333,
             "#9c179e"
            ],
            [
             0.4444444444444444,
             "#bd3786"
            ],
            [
             0.5555555555555556,
             "#d8576b"
            ],
            [
             0.6666666666666666,
             "#ed7953"
            ],
            [
             0.7777777777777778,
             "#fb9f3a"
            ],
            [
             0.8888888888888888,
             "#fdca26"
            ],
            [
             1,
             "#f0f921"
            ]
           ]
          },
          "colorway": [
           "#636efa",
           "#EF553B",
           "#00cc96",
           "#ab63fa",
           "#FFA15A",
           "#19d3f3",
           "#FF6692",
           "#B6E880",
           "#FF97FF",
           "#FECB52"
          ],
          "font": {
           "color": "#2a3f5f"
          },
          "geo": {
           "bgcolor": "white",
           "lakecolor": "white",
           "landcolor": "#E5ECF6",
           "showlakes": true,
           "showland": true,
           "subunitcolor": "white"
          },
          "hoverlabel": {
           "align": "left"
          },
          "hovermode": "closest",
          "mapbox": {
           "style": "light"
          },
          "paper_bgcolor": "white",
          "plot_bgcolor": "#E5ECF6",
          "polar": {
           "angularaxis": {
            "gridcolor": "white",
            "linecolor": "white",
            "ticks": ""
           },
           "bgcolor": "#E5ECF6",
           "radialaxis": {
            "gridcolor": "white",
            "linecolor": "white",
            "ticks": ""
           }
          },
          "scene": {
           "xaxis": {
            "backgroundcolor": "#E5ECF6",
            "gridcolor": "white",
            "gridwidth": 2,
            "linecolor": "white",
            "showbackground": true,
            "ticks": "",
            "zerolinecolor": "white"
           },
           "yaxis": {
            "backgroundcolor": "#E5ECF6",
            "gridcolor": "white",
            "gridwidth": 2,
            "linecolor": "white",
            "showbackground": true,
            "ticks": "",
            "zerolinecolor": "white"
           },
           "zaxis": {
            "backgroundcolor": "#E5ECF6",
            "gridcolor": "white",
            "gridwidth": 2,
            "linecolor": "white",
            "showbackground": true,
            "ticks": "",
            "zerolinecolor": "white"
           }
          },
          "shapedefaults": {
           "line": {
            "color": "#2a3f5f"
           }
          },
          "ternary": {
           "aaxis": {
            "gridcolor": "white",
            "linecolor": "white",
            "ticks": ""
           },
           "baxis": {
            "gridcolor": "white",
            "linecolor": "white",
            "ticks": ""
           },
           "bgcolor": "#E5ECF6",
           "caxis": {
            "gridcolor": "white",
            "linecolor": "white",
            "ticks": ""
           }
          },
          "title": {
           "x": 0.05
          },
          "xaxis": {
           "automargin": true,
           "gridcolor": "white",
           "linecolor": "white",
           "ticks": "",
           "title": {
            "standoff": 15
           },
           "zerolinecolor": "white",
           "zerolinewidth": 2
          },
          "yaxis": {
           "automargin": true,
           "gridcolor": "white",
           "linecolor": "white",
           "ticks": "",
           "title": {
            "standoff": 15
           },
           "zerolinecolor": "white",
           "zerolinewidth": 2
          }
         }
        },
        "title": {
         "text": "Electricity mix"
        }
       }
      }
     },
     "metadata": {},
     "output_type": "display_data"
    },
    {
     "data": {
      "application/vnd.plotly.v1+json": {
       "config": {
        "plotlyServerURL": "https://plot.ly"
       },
       "data": [
        {
         "labels": [
          "onshore wind",
          "solar",
          "gas (OCGT)",
          "coal",
          "biomass",
          "oil",
          "offshore wind"
         ],
         "marker": {
          "colors": [
           "blue",
           "orange",
           "brown",
           "grey",
           "green",
           "black",
           "purple"
          ]
         },
         "type": "pie",
         "values": [
          5771106.339015427,
          0,
          20140853.279850233,
          0,
          613200,
          47106.38113434456,
          0
         ]
        }
       ],
       "layout": {
        "template": {
         "data": {
          "bar": [
           {
            "error_x": {
             "color": "#2a3f5f"
            },
            "error_y": {
             "color": "#2a3f5f"
            },
            "marker": {
             "line": {
              "color": "#E5ECF6",
              "width": 0.5
             },
             "pattern": {
              "fillmode": "overlay",
              "size": 10,
              "solidity": 0.2
             }
            },
            "type": "bar"
           }
          ],
          "barpolar": [
           {
            "marker": {
             "line": {
              "color": "#E5ECF6",
              "width": 0.5
             },
             "pattern": {
              "fillmode": "overlay",
              "size": 10,
              "solidity": 0.2
             }
            },
            "type": "barpolar"
           }
          ],
          "carpet": [
           {
            "aaxis": {
             "endlinecolor": "#2a3f5f",
             "gridcolor": "white",
             "linecolor": "white",
             "minorgridcolor": "white",
             "startlinecolor": "#2a3f5f"
            },
            "baxis": {
             "endlinecolor": "#2a3f5f",
             "gridcolor": "white",
             "linecolor": "white",
             "minorgridcolor": "white",
             "startlinecolor": "#2a3f5f"
            },
            "type": "carpet"
           }
          ],
          "choropleth": [
           {
            "colorbar": {
             "outlinewidth": 0,
             "ticks": ""
            },
            "type": "choropleth"
           }
          ],
          "contour": [
           {
            "colorbar": {
             "outlinewidth": 0,
             "ticks": ""
            },
            "colorscale": [
             [
              0,
              "#0d0887"
             ],
             [
              0.1111111111111111,
              "#46039f"
             ],
             [
              0.2222222222222222,
              "#7201a8"
             ],
             [
              0.3333333333333333,
              "#9c179e"
             ],
             [
              0.4444444444444444,
              "#bd3786"
             ],
             [
              0.5555555555555556,
              "#d8576b"
             ],
             [
              0.6666666666666666,
              "#ed7953"
             ],
             [
              0.7777777777777778,
              "#fb9f3a"
             ],
             [
              0.8888888888888888,
              "#fdca26"
             ],
             [
              1,
              "#f0f921"
             ]
            ],
            "type": "contour"
           }
          ],
          "contourcarpet": [
           {
            "colorbar": {
             "outlinewidth": 0,
             "ticks": ""
            },
            "type": "contourcarpet"
           }
          ],
          "heatmap": [
           {
            "colorbar": {
             "outlinewidth": 0,
             "ticks": ""
            },
            "colorscale": [
             [
              0,
              "#0d0887"
             ],
             [
              0.1111111111111111,
              "#46039f"
             ],
             [
              0.2222222222222222,
              "#7201a8"
             ],
             [
              0.3333333333333333,
              "#9c179e"
             ],
             [
              0.4444444444444444,
              "#bd3786"
             ],
             [
              0.5555555555555556,
              "#d8576b"
             ],
             [
              0.6666666666666666,
              "#ed7953"
             ],
             [
              0.7777777777777778,
              "#fb9f3a"
             ],
             [
              0.8888888888888888,
              "#fdca26"
             ],
             [
              1,
              "#f0f921"
             ]
            ],
            "type": "heatmap"
           }
          ],
          "histogram": [
           {
            "marker": {
             "pattern": {
              "fillmode": "overlay",
              "size": 10,
              "solidity": 0.2
             }
            },
            "type": "histogram"
           }
          ],
          "histogram2d": [
           {
            "colorbar": {
             "outlinewidth": 0,
             "ticks": ""
            },
            "colorscale": [
             [
              0,
              "#0d0887"
             ],
             [
              0.1111111111111111,
              "#46039f"
             ],
             [
              0.2222222222222222,
              "#7201a8"
             ],
             [
              0.3333333333333333,
              "#9c179e"
             ],
             [
              0.4444444444444444,
              "#bd3786"
             ],
             [
              0.5555555555555556,
              "#d8576b"
             ],
             [
              0.6666666666666666,
              "#ed7953"
             ],
             [
              0.7777777777777778,
              "#fb9f3a"
             ],
             [
              0.8888888888888888,
              "#fdca26"
             ],
             [
              1,
              "#f0f921"
             ]
            ],
            "type": "histogram2d"
           }
          ],
          "histogram2dcontour": [
           {
            "colorbar": {
             "outlinewidth": 0,
             "ticks": ""
            },
            "colorscale": [
             [
              0,
              "#0d0887"
             ],
             [
              0.1111111111111111,
              "#46039f"
             ],
             [
              0.2222222222222222,
              "#7201a8"
             ],
             [
              0.3333333333333333,
              "#9c179e"
             ],
             [
              0.4444444444444444,
              "#bd3786"
             ],
             [
              0.5555555555555556,
              "#d8576b"
             ],
             [
              0.6666666666666666,
              "#ed7953"
             ],
             [
              0.7777777777777778,
              "#fb9f3a"
             ],
             [
              0.8888888888888888,
              "#fdca26"
             ],
             [
              1,
              "#f0f921"
             ]
            ],
            "type": "histogram2dcontour"
           }
          ],
          "mesh3d": [
           {
            "colorbar": {
             "outlinewidth": 0,
             "ticks": ""
            },
            "type": "mesh3d"
           }
          ],
          "parcoords": [
           {
            "line": {
             "colorbar": {
              "outlinewidth": 0,
              "ticks": ""
             }
            },
            "type": "parcoords"
           }
          ],
          "pie": [
           {
            "automargin": true,
            "type": "pie"
           }
          ],
          "scatter": [
           {
            "fillpattern": {
             "fillmode": "overlay",
             "size": 10,
             "solidity": 0.2
            },
            "type": "scatter"
           }
          ],
          "scatter3d": [
           {
            "line": {
             "colorbar": {
              "outlinewidth": 0,
              "ticks": ""
             }
            },
            "marker": {
             "colorbar": {
              "outlinewidth": 0,
              "ticks": ""
             }
            },
            "type": "scatter3d"
           }
          ],
          "scattercarpet": [
           {
            "marker": {
             "colorbar": {
              "outlinewidth": 0,
              "ticks": ""
             }
            },
            "type": "scattercarpet"
           }
          ],
          "scattergeo": [
           {
            "marker": {
             "colorbar": {
              "outlinewidth": 0,
              "ticks": ""
             }
            },
            "type": "scattergeo"
           }
          ],
          "scattergl": [
           {
            "marker": {
             "colorbar": {
              "outlinewidth": 0,
              "ticks": ""
             }
            },
            "type": "scattergl"
           }
          ],
          "scattermap": [
           {
            "marker": {
             "colorbar": {
              "outlinewidth": 0,
              "ticks": ""
             }
            },
            "type": "scattermap"
           }
          ],
          "scattermapbox": [
           {
            "marker": {
             "colorbar": {
              "outlinewidth": 0,
              "ticks": ""
             }
            },
            "type": "scattermapbox"
           }
          ],
          "scatterpolar": [
           {
            "marker": {
             "colorbar": {
              "outlinewidth": 0,
              "ticks": ""
             }
            },
            "type": "scatterpolar"
           }
          ],
          "scatterpolargl": [
           {
            "marker": {
             "colorbar": {
              "outlinewidth": 0,
              "ticks": ""
             }
            },
            "type": "scatterpolargl"
           }
          ],
          "scatterternary": [
           {
            "marker": {
             "colorbar": {
              "outlinewidth": 0,
              "ticks": ""
             }
            },
            "type": "scatterternary"
           }
          ],
          "surface": [
           {
            "colorbar": {
             "outlinewidth": 0,
             "ticks": ""
            },
            "colorscale": [
             [
              0,
              "#0d0887"
             ],
             [
              0.1111111111111111,
              "#46039f"
             ],
             [
              0.2222222222222222,
              "#7201a8"
             ],
             [
              0.3333333333333333,
              "#9c179e"
             ],
             [
              0.4444444444444444,
              "#bd3786"
             ],
             [
              0.5555555555555556,
              "#d8576b"
             ],
             [
              0.6666666666666666,
              "#ed7953"
             ],
             [
              0.7777777777777778,
              "#fb9f3a"
             ],
             [
              0.8888888888888888,
              "#fdca26"
             ],
             [
              1,
              "#f0f921"
             ]
            ],
            "type": "surface"
           }
          ],
          "table": [
           {
            "cells": {
             "fill": {
              "color": "#EBF0F8"
             },
             "line": {
              "color": "white"
             }
            },
            "header": {
             "fill": {
              "color": "#C8D4E3"
             },
             "line": {
              "color": "white"
             }
            },
            "type": "table"
           }
          ]
         },
         "layout": {
          "annotationdefaults": {
           "arrowcolor": "#2a3f5f",
           "arrowhead": 0,
           "arrowwidth": 1
          },
          "autotypenumbers": "strict",
          "coloraxis": {
           "colorbar": {
            "outlinewidth": 0,
            "ticks": ""
           }
          },
          "colorscale": {
           "diverging": [
            [
             0,
             "#8e0152"
            ],
            [
             0.1,
             "#c51b7d"
            ],
            [
             0.2,
             "#de77ae"
            ],
            [
             0.3,
             "#f1b6da"
            ],
            [
             0.4,
             "#fde0ef"
            ],
            [
             0.5,
             "#f7f7f7"
            ],
            [
             0.6,
             "#e6f5d0"
            ],
            [
             0.7,
             "#b8e186"
            ],
            [
             0.8,
             "#7fbc41"
            ],
            [
             0.9,
             "#4d9221"
            ],
            [
             1,
             "#276419"
            ]
           ],
           "sequential": [
            [
             0,
             "#0d0887"
            ],
            [
             0.1111111111111111,
             "#46039f"
            ],
            [
             0.2222222222222222,
             "#7201a8"
            ],
            [
             0.3333333333333333,
             "#9c179e"
            ],
            [
             0.4444444444444444,
             "#bd3786"
            ],
            [
             0.5555555555555556,
             "#d8576b"
            ],
            [
             0.6666666666666666,
             "#ed7953"
            ],
            [
             0.7777777777777778,
             "#fb9f3a"
            ],
            [
             0.8888888888888888,
             "#fdca26"
            ],
            [
             1,
             "#f0f921"
            ]
           ],
           "sequentialminus": [
            [
             0,
             "#0d0887"
            ],
            [
             0.1111111111111111,
             "#46039f"
            ],
            [
             0.2222222222222222,
             "#7201a8"
            ],
            [
             0.3333333333333333,
             "#9c179e"
            ],
            [
             0.4444444444444444,
             "#bd3786"
            ],
            [
             0.5555555555555556,
             "#d8576b"
            ],
            [
             0.6666666666666666,
             "#ed7953"
            ],
            [
             0.7777777777777778,
             "#fb9f3a"
            ],
            [
             0.8888888888888888,
             "#fdca26"
            ],
            [
             1,
             "#f0f921"
            ]
           ]
          },
          "colorway": [
           "#636efa",
           "#EF553B",
           "#00cc96",
           "#ab63fa",
           "#FFA15A",
           "#19d3f3",
           "#FF6692",
           "#B6E880",
           "#FF97FF",
           "#FECB52"
          ],
          "font": {
           "color": "#2a3f5f"
          },
          "geo": {
           "bgcolor": "white",
           "lakecolor": "white",
           "landcolor": "#E5ECF6",
           "showlakes": true,
           "showland": true,
           "subunitcolor": "white"
          },
          "hoverlabel": {
           "align": "left"
          },
          "hovermode": "closest",
          "mapbox": {
           "style": "light"
          },
          "paper_bgcolor": "white",
          "plot_bgcolor": "#E5ECF6",
          "polar": {
           "angularaxis": {
            "gridcolor": "white",
            "linecolor": "white",
            "ticks": ""
           },
           "bgcolor": "#E5ECF6",
           "radialaxis": {
            "gridcolor": "white",
            "linecolor": "white",
            "ticks": ""
           }
          },
          "scene": {
           "xaxis": {
            "backgroundcolor": "#E5ECF6",
            "gridcolor": "white",
            "gridwidth": 2,
            "linecolor": "white",
            "showbackground": true,
            "ticks": "",
            "zerolinecolor": "white"
           },
           "yaxis": {
            "backgroundcolor": "#E5ECF6",
            "gridcolor": "white",
            "gridwidth": 2,
            "linecolor": "white",
            "showbackground": true,
            "ticks": "",
            "zerolinecolor": "white"
           },
           "zaxis": {
            "backgroundcolor": "#E5ECF6",
            "gridcolor": "white",
            "gridwidth": 2,
            "linecolor": "white",
            "showbackground": true,
            "ticks": "",
            "zerolinecolor": "white"
           }
          },
          "shapedefaults": {
           "line": {
            "color": "#2a3f5f"
           }
          },
          "ternary": {
           "aaxis": {
            "gridcolor": "white",
            "linecolor": "white",
            "ticks": ""
           },
           "baxis": {
            "gridcolor": "white",
            "linecolor": "white",
            "ticks": ""
           },
           "bgcolor": "#E5ECF6",
           "caxis": {
            "gridcolor": "white",
            "linecolor": "white",
            "ticks": ""
           }
          },
          "title": {
           "x": 0.05
          },
          "xaxis": {
           "automargin": true,
           "gridcolor": "white",
           "linecolor": "white",
           "ticks": "",
           "title": {
            "standoff": 15
           },
           "zerolinecolor": "white",
           "zerolinewidth": 2
          },
          "yaxis": {
           "automargin": true,
           "gridcolor": "white",
           "linecolor": "white",
           "ticks": "",
           "title": {
            "standoff": 15
           },
           "zerolinecolor": "white",
           "zerolinewidth": 2
          }
         }
        },
        "title": {
         "text": "Electricity mix"
        }
       }
      }
     },
     "metadata": {},
     "output_type": "display_data"
    }
   ],
   "source": [
    "for g in generations:\n",
    "    plot_mix(generations[g])"
   ]
  },
  {
   "cell_type": "code",
   "execution_count": null,
   "metadata": {},
   "outputs": [
    {
     "name": "stdout",
     "output_type": "stream",
     "text": [
      "Objective function for CO2 limit 0 is 949655388041.6951\n",
      "Objective function for CO2 limit 1000000 is 949655388041.6951\n",
      "Objective function for CO2 limit 2000000 is 949655388041.6951\n",
      "Objective function for CO2 limit 3000000 is 949655388041.6951\n",
      "Objective function for CO2 limit 4000000 is 624794334095.6404\n"
     ]
    }
   ],
   "source": [
    "for o in objectives:\n",
    "    print(f\"Objective function for CO2 limit {o} is {objectives[o]}\")"
   ]
  },
  {
   "cell_type": "code",
   "execution_count": null,
   "metadata": {},
   "outputs": [],
   "source": []
  }
 ],
 "metadata": {
  "kernelspec": {
   "display_name": "Integrated",
   "language": "python",
   "name": "python3"
  },
  "language_info": {
   "codemirror_mode": {
    "name": "ipython",
    "version": 3
   },
   "file_extension": ".py",
   "mimetype": "text/x-python",
   "name": "python",
   "nbconvert_exporter": "python",
   "pygments_lexer": "ipython3",
   "version": "3.11.11"
  }
 },
 "nbformat": 4,
 "nbformat_minor": 2
}
