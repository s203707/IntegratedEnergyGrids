{
 "cells": [
  {
   "cell_type": "code",
   "execution_count": null,
   "metadata": {},
   "outputs": [],
   "source": [
    "import pandas as pd\n",
    "import pypsa\n",
    "import urllib3\n",
    "import plotly.graph_objects as go\n",
    "import calendar\n",
    "urllib3.disable_warnings()"
   ]
  },
  {
   "cell_type": "code",
   "execution_count": 2,
   "metadata": {},
   "outputs": [],
   "source": [
    "# Load Technology data\n",
    "year = 2025\n",
    "url = f\"https://raw.githubusercontent.com/PyPSA/technology-data/master/outputs/costs_{year}.csv\"\n",
    "costs = pd.read_csv(url, index_col=[0, 1])\n",
    "\n",
    "costs.loc[costs.unit.str.contains(\"/kW\"), \"value\"] *= 1e3\n",
    "costs.unit = costs.unit.str.replace(\"/kW\", \"/MW\")\n",
    "\n",
    "defaults = {\n",
    "    \"FOM\": 0,\n",
    "    \"VOM\": 0,\n",
    "    \"efficiency\": 1,\n",
    "    \"fuel\": 0,\n",
    "    \"investment\": 0,\n",
    "    \"lifetime\": 25,\n",
    "    \"CO2 intensity\": 0,\n",
    "    \"discount rate\": 0.07,\n",
    "}\n",
    "costs = costs.value.unstack().fillna(defaults)\n",
    "\n",
    "costs.at[\"OCGT\", \"fuel\"] = costs.at[\"gas\", \"fuel\"]\n",
    "costs.at[\"OCGT\", \"CO2 intensity\"] = costs.at[\"gas\", \"CO2 intensity\"]\n",
    "\n",
    "costs[\"marginal_cost\"] = costs[\"VOM\"] + costs[\"fuel\"] / costs[\"efficiency\"]\n"
   ]
  },
  {
   "cell_type": "code",
   "execution_count": 3,
   "metadata": {},
   "outputs": [],
   "source": [
    "def annuity(n,r):\n",
    "    \"\"\" Calculate the annuity factor for an asset with lifetime n years and\n",
    "    discount rate  r \"\"\"\n",
    "\n",
    "    if r > 0:\n",
    "        return r/(1. - 1./(1.+r)**n)\n",
    "    else:\n",
    "        return 1/n\n"
   ]
  },
  {
   "cell_type": "code",
   "execution_count": 4,
   "metadata": {},
   "outputs": [],
   "source": [
    "annuity = costs.apply(lambda x: annuity(x[\"discount rate\"], x[\"lifetime\"]), axis=1)\n",
    "costs[\"capital_cost\"] = (annuity + costs[\"FOM\"] / 100) * costs[\"investment\"]"
   ]
  },
  {
   "cell_type": "code",
   "execution_count": 5,
   "metadata": {},
   "outputs": [],
   "source": [
    "network = pypsa.Network()"
   ]
  },
  {
   "cell_type": "code",
   "execution_count": 6,
   "metadata": {},
   "outputs": [],
   "source": [
    "def optimizer(year):\n",
    "    hours_in_year = pd.date_range(f'{year}-01-01 00:00Z',\n",
    "                                f'{year}-12-31 23:00Z',\n",
    "                                freq='h')\n",
    "\n",
    "    network.set_snapshots(hours_in_year.values)\n",
    "\n",
    "    network.add(\"Bus\",\n",
    "                \"electricity bus\", overwrite=True)\n",
    "\n",
    "    # load electricity demand data\n",
    "    df_elec = pd.read_csv('data/electricity_demand.csv', sep=';', index_col=0) # in MWh\n",
    "    df_elec.index = pd.to_datetime(df_elec.index) #change index to datatime\n",
    "    country='IRL'\n",
    "    print(df_elec[country].head())\n",
    "\n",
    "    # add load to the bus\n",
    "    network.add(\"Load\",\n",
    "        \"load\",\n",
    "        bus=\"electricity bus\",\n",
    "        p_set=df_elec[country].values,\n",
    "        overwrite=True)\n",
    "    \n",
    "\n",
    "    # add the different carriers, only gas emits CO2\n",
    "    network.add(\"Carrier\", \"gas\", co2_emissions= costs.at[\"gas\", \"CO2 intensity\"], overwrite=True) # in t_CO2/MWh_th\n",
    "    network.add(\"Carrier\", \"onshorewind\", overwrite=True)\n",
    "    network.add(\"Carrier\", \"solar\", overwrite=True)\n",
    "    network.add(\"Carrier\", \"coal\", co2_emissions = costs.at[\"coal\", \"CO2 intensity\"], overwrite=True) # in t_CO2/MWh_th\n",
    "    network.add(\"Carrier\", \"biomass\", co2_emissions = costs.at[\"biomass\", \"CO2 intensity\"], overwrite=True) # in t_CO2/MWh_th\n",
    "    network.add(\"Carrier\", \"oil\", co2_emissions = costs.at[\"oil\", \"CO2 intensity\"], overwrite=True) # in t_CO2/MWh_th\n",
    "    network.add(\"Carrier\", \"offshorewind\", overwrite=True)\n",
    "\n",
    "    # add onshore wind generator\n",
    "    df_onshorewind = pd.read_csv('data/onshore_wind_1979-2017.csv', sep=';', index_col=0)\n",
    "    df_onshorewind.index = pd.to_datetime(df_onshorewind.index)\n",
    "    CF_wind = df_onshorewind[country][[hour.strftime(\"%Y-%m-%dT%H:%M:%SZ\") for hour in network.snapshots]]\n",
    "    network.add(\"Generator\",\n",
    "                \"onshorewind\",\n",
    "                bus=\"electricity bus\",\n",
    "                p_nom_extendable=True,\n",
    "                carrier=\"onshorewind\",\n",
    "                p_nom_max=4810-25.2, # maximum capacity can be limited due to environmental constraints. Based on electricity maps - minus the off shore wind capacity\n",
    "                capital_cost = costs.at[\"onwind\", \"capital_cost\"], # in €/MW\n",
    "                marginal_cost = 0,\n",
    "                p_max_pu = CF_wind.values,\n",
    "                overwrite=True)\n",
    "\n",
    "    # add solar PV generator\n",
    "    df_solar = pd.read_csv('data/pv_optimal.csv', sep=';', index_col=0)\n",
    "    df_solar.index = pd.to_datetime(df_solar.index)\n",
    "    CF_solar = df_solar[country][[hour.strftime(\"%Y-%m-%dT%H:%M:%SZ\") for hour in network.snapshots]]\n",
    "    network.add(\"Generator\",\n",
    "                \"solar\",\n",
    "                bus=\"electricity bus\",\n",
    "                p_nom_extendable=True,\n",
    "                carrier=\"solar\",\n",
    "                p_nom_max = 740, # maximum capacity can be limited due to environmental constraints Based on electricity maps\n",
    "                capital_cost = costs.at[\"solar\", \"capital_cost\"], # in €/MW\n",
    "                marginal_cost = 0,\n",
    "                p_max_pu = CF_solar.values,\n",
    "                overwrite=True)\n",
    "\n",
    "    # add OCGT (Open Cycle Gas Turbine) generator\n",
    "    network.add(\"Generator\",\n",
    "                \"OCGT\",\n",
    "                bus=\"electricity bus\",\n",
    "                p_nom_extendable=True,\n",
    "                carrier=\"gas\",\n",
    "                p_nom_max=4270, #based on electricity maps\n",
    "                capital_cost = costs.at[\"OCGT\", \"capital_cost\"], #in €/MW\n",
    "                marginal_cost = costs.at[\"OCGT\", \"marginal_cost\"],\n",
    "                overwrite=True)\n",
    "\n",
    "    # add Coal generator\n",
    "    network.add(\"Generator\",\n",
    "                \"Coal\",\n",
    "                bus=\"electricity bus\",\n",
    "                p_nom_extendable=True,\n",
    "                carrier=\"coal\",\n",
    "                p_nom_max=920, #based on electricity maps\n",
    "                capital_cost = costs.at[\"coal\", \"capital_cost\"], #in €/MW\n",
    "                marginal_cost = costs.at[\"coal\", \"marginal_cost\"],\n",
    "                overwrite=True)\n",
    "\n",
    "    # add biomass generator\n",
    "    network.add(\"Generator\",\n",
    "                \"Biomass\",\n",
    "                bus=\"electricity bus\",\n",
    "                p_nom_extendable=True,\n",
    "                carrier=\"biomass\",\n",
    "                p_nom_max=70, #based on electricity maps \n",
    "                capital_cost = costs.at[\"biomass\", \"capital_cost\"], #in €/MW\n",
    "                marginal_cost = costs.at[\"biomass\", \"marginal_cost\"],\n",
    "                overwrite=True)\n",
    "\n",
    "    # add oil generator\n",
    "    network.add(\"Generator\",\n",
    "                \"Oil\",\n",
    "                bus=\"electricity bus\",\n",
    "                p_nom_extendable=True,\n",
    "                carrier=\"oil\",\n",
    "                p_nom_max=830, #based on electricity maps\n",
    "                capital_cost = costs.at[\"oil\", \"capital_cost\"], #in €/MW\n",
    "                marginal_cost = costs.at[\"oil\", \"marginal_cost\"],\n",
    "                overwrite=True)\n",
    "\n",
    "    # add offshore wind generator\n",
    "    df_offshorewind = pd.read_csv('data/offshore_wind_1979-2017.csv', sep=';', index_col=0)\n",
    "    df_offshorewind.index = pd.to_datetime(df_offshorewind.index)\n",
    "    CF_offshorewind = df_offshorewind[country][[hour.strftime(\"%Y-%m-%dT%H:%M:%SZ\") for hour in network.snapshots]]\n",
    "    network.add(\"Generator\",\n",
    "                \"offshorewind\",\n",
    "                bus=\"electricity bus\",\n",
    "                p_nom_extendable=True,\n",
    "                carrier=\"offshorewind\",\n",
    "                p_nom_max=25.2, # maximum capacity can be limited due to environmental constraints. #Ireland doesnt have offshore wind today, but are proposing to install 5GW soon\n",
    "                capital_cost = costs.at[\"offwind\", \"capital_cost\"], # in €/MW\n",
    "                marginal_cost = 0,\n",
    "                p_max_pu = CF_offshorewind.values,\n",
    "                overwrite=True)\n",
    "    \n",
    "\n",
    "    #Optimization\n",
    "    status = network.optimize(solver_name='gurobi', solver_options={'OutputFlag': 0})\n",
    "\n",
    "\n",
    "    objective = network.objective\n",
    "    capacities = network.generators.p_nom_opt #in MW\n",
    "    loadConsumption = network.loads_t.p\n",
    "    generation = network.generators_t.p\n",
    "    snapshots = network.snapshots\n",
    "    \n",
    "    \n",
    "    \n",
    "\n",
    "    return objective, capacities, loadConsumption, generation, snapshots, status\n",
    "\n",
    "\n"
   ]
  },
  {
   "cell_type": "code",
   "execution_count": 7,
   "metadata": {},
   "outputs": [
    {
     "name": "stdout",
     "output_type": "stream",
     "text": [
      "utc_time\n",
      "2015-01-01 00:00:00+00:00    2651.0\n",
      "2015-01-01 01:00:00+00:00    2412.0\n",
      "2015-01-01 02:00:00+00:00    2256.0\n",
      "2015-01-01 03:00:00+00:00    2170.0\n",
      "2015-01-01 04:00:00+00:00    2136.0\n",
      "Name: IRL, dtype: float64\n"
     ]
    },
    {
     "name": "stderr",
     "output_type": "stream",
     "text": [
      "WARNING:pypsa.consistency:The following buses have carriers which are not defined:\n",
      "Index(['electricity bus'], dtype='object', name='Bus')\n",
      "INFO:linopy.model: Solve problem using Gurobi solver\n",
      "INFO:linopy.model:Solver options:\n",
      " - OutputFlag: 0\n",
      "INFO:linopy.io:Writing objective.\n",
      "Writing constraints.: 100%|\u001b[38;2;128;191;255m██████████\u001b[0m| 5/5 [00:00<00:00, 23.95it/s]\n",
      "Writing continuous variables.: 100%|\u001b[38;2;128;191;255m██████████\u001b[0m| 2/2 [00:00<00:00, 53.12it/s]\n",
      "INFO:linopy.io: Writing time: 0.28s\n"
     ]
    },
    {
     "name": "stdout",
     "output_type": "stream",
     "text": [
      "Set parameter Username\n"
     ]
    },
    {
     "name": "stderr",
     "output_type": "stream",
     "text": [
      "INFO:gurobipy:Set parameter Username\n"
     ]
    },
    {
     "name": "stdout",
     "output_type": "stream",
     "text": [
      "Academic license - for non-commercial use only - expires 2025-10-16\n"
     ]
    },
    {
     "name": "stderr",
     "output_type": "stream",
     "text": [
      "INFO:gurobipy:Academic license - for non-commercial use only - expires 2025-10-16\n"
     ]
    },
    {
     "name": "stdout",
     "output_type": "stream",
     "text": [
      "Read LP format model from file /private/var/folders/j2/tx7xgp1d11n3lnbvkls0cjsw0000gn/T/linopy-problem-n4lsfw3c.lp\n"
     ]
    },
    {
     "name": "stderr",
     "output_type": "stream",
     "text": [
      "INFO:gurobipy:Read LP format model from file /private/var/folders/j2/tx7xgp1d11n3lnbvkls0cjsw0000gn/T/linopy-problem-n4lsfw3c.lp\n"
     ]
    },
    {
     "name": "stdout",
     "output_type": "stream",
     "text": [
      "Reading time = 0.11 seconds\n"
     ]
    },
    {
     "name": "stderr",
     "output_type": "stream",
     "text": [
      "INFO:gurobipy:Reading time = 0.11 seconds\n"
     ]
    },
    {
     "name": "stdout",
     "output_type": "stream",
     "text": [
      "obj: 131414 rows, 61327 columns, 240914 nonzeros\n"
     ]
    },
    {
     "name": "stderr",
     "output_type": "stream",
     "text": [
      "INFO:gurobipy:obj: 131414 rows, 61327 columns, 240914 nonzeros\n",
      "INFO:linopy.constants: Optimization successful: \n",
      "Status: ok\n",
      "Termination condition: optimal\n",
      "Solution: 61327 primals, 131414 duals\n",
      "Objective: 2.60e+11\n",
      "Solver model: available\n",
      "Solver message: 2\n",
      "\n",
      "INFO:pypsa.optimization.optimize:The shadow-prices of the constraints Generator-ext-p-lower, Generator-ext-p-upper were not assigned to the network.\n"
     ]
    }
   ],
   "source": [
    "objective, capacities, loadConsumption, generation, snapshot, status = optimizer(2015)"
   ]
  },
  {
   "cell_type": "code",
   "execution_count": 8,
   "metadata": {},
   "outputs": [
    {
     "data": {
      "text/plain": [
       "'optimal'"
      ]
     },
     "execution_count": 8,
     "metadata": {},
     "output_type": "execute_result"
    }
   ],
   "source": [
    "status[1]"
   ]
  },
  {
   "cell_type": "code",
   "execution_count": 9,
   "metadata": {},
   "outputs": [],
   "source": [
    "def plot_dispatch_winter():\n",
    "    fig = go.Figure()\n",
    "\n",
    "    fig.add_trace(go.Scatter(x=snapshot[:96], y=loadConsumption['load'][:96], mode='lines', name='demand', line=dict(color='black')))\n",
    "    fig.add_trace(go.Scatter(x=snapshot[:96], y=generation['onshorewind'][:96], mode='lines', name='onshore wind', line=dict(color='blue')))\n",
    "    fig.add_trace(go.Scatter(x=snapshot[:96], y=generation['solar'][:96], mode='lines', name='solar', line=dict(color='orange')))\n",
    "    fig.add_trace(go.Scatter(x=snapshot[:96], y=generation['OCGT'][:96], mode='lines', name='gas (OCGT)', line=dict(color='brown')))\n",
    "    fig.add_trace(go.Scatter(x=snapshot[:96], y=generation['Coal'][:96], mode='lines', name='coal', line=dict(color='grey')))\n",
    "    fig.add_trace(go.Scatter(x=snapshot[:96], y=generation['Biomass'][:96], mode='lines', name='biomass', line=dict(color='green')))\n",
    "    fig.add_trace(go.Scatter(x=snapshot[:96], y=generation['Oil'][:96], mode='lines', name='oil', line=dict(color='black')))\n",
    "    fig.add_trace(go.Scatter(x=snapshot[:96], y=generation['offshorewind'][:96], mode='lines', name='offshore wind', line=dict(color='purple')))\n",
    "\n",
    "    fig.update_layout(title='Electricity Dispatch Week 1 2015',\n",
    "                    xaxis_title='Time',\n",
    "                    yaxis_title='Power (MW)',\n",
    "                    legend=dict(x=0, y=1, traceorder='normal'))\n",
    "\n",
    "    fig.show()"
   ]
  },
  {
   "cell_type": "code",
   "execution_count": 10,
   "metadata": {},
   "outputs": [
    {
     "data": {
      "application/vnd.plotly.v1+json": {
       "config": {
        "plotlyServerURL": "https://plot.ly"
       },
       "data": [
        {
         "line": {
          "color": "black"
         },
         "mode": "lines",
         "name": "demand",
         "type": "scatter",
         "x": [
          "2015-01-01T00:00:00.000000000",
          "2015-01-01T01:00:00.000000000",
          "2015-01-01T02:00:00.000000000",
          "2015-01-01T03:00:00.000000000",
          "2015-01-01T04:00:00.000000000",
          "2015-01-01T05:00:00.000000000",
          "2015-01-01T06:00:00.000000000",
          "2015-01-01T07:00:00.000000000",
          "2015-01-01T08:00:00.000000000",
          "2015-01-01T09:00:00.000000000",
          "2015-01-01T10:00:00.000000000",
          "2015-01-01T11:00:00.000000000",
          "2015-01-01T12:00:00.000000000",
          "2015-01-01T13:00:00.000000000",
          "2015-01-01T14:00:00.000000000",
          "2015-01-01T15:00:00.000000000",
          "2015-01-01T16:00:00.000000000",
          "2015-01-01T17:00:00.000000000",
          "2015-01-01T18:00:00.000000000",
          "2015-01-01T19:00:00.000000000",
          "2015-01-01T20:00:00.000000000",
          "2015-01-01T21:00:00.000000000",
          "2015-01-01T22:00:00.000000000",
          "2015-01-01T23:00:00.000000000",
          "2015-01-02T00:00:00.000000000",
          "2015-01-02T01:00:00.000000000",
          "2015-01-02T02:00:00.000000000",
          "2015-01-02T03:00:00.000000000",
          "2015-01-02T04:00:00.000000000",
          "2015-01-02T05:00:00.000000000",
          "2015-01-02T06:00:00.000000000",
          "2015-01-02T07:00:00.000000000",
          "2015-01-02T08:00:00.000000000",
          "2015-01-02T09:00:00.000000000",
          "2015-01-02T10:00:00.000000000",
          "2015-01-02T11:00:00.000000000",
          "2015-01-02T12:00:00.000000000",
          "2015-01-02T13:00:00.000000000",
          "2015-01-02T14:00:00.000000000",
          "2015-01-02T15:00:00.000000000",
          "2015-01-02T16:00:00.000000000",
          "2015-01-02T17:00:00.000000000",
          "2015-01-02T18:00:00.000000000",
          "2015-01-02T19:00:00.000000000",
          "2015-01-02T20:00:00.000000000",
          "2015-01-02T21:00:00.000000000",
          "2015-01-02T22:00:00.000000000",
          "2015-01-02T23:00:00.000000000",
          "2015-01-03T00:00:00.000000000",
          "2015-01-03T01:00:00.000000000",
          "2015-01-03T02:00:00.000000000",
          "2015-01-03T03:00:00.000000000",
          "2015-01-03T04:00:00.000000000",
          "2015-01-03T05:00:00.000000000",
          "2015-01-03T06:00:00.000000000",
          "2015-01-03T07:00:00.000000000",
          "2015-01-03T08:00:00.000000000",
          "2015-01-03T09:00:00.000000000",
          "2015-01-03T10:00:00.000000000",
          "2015-01-03T11:00:00.000000000",
          "2015-01-03T12:00:00.000000000",
          "2015-01-03T13:00:00.000000000",
          "2015-01-03T14:00:00.000000000",
          "2015-01-03T15:00:00.000000000",
          "2015-01-03T16:00:00.000000000",
          "2015-01-03T17:00:00.000000000",
          "2015-01-03T18:00:00.000000000",
          "2015-01-03T19:00:00.000000000",
          "2015-01-03T20:00:00.000000000",
          "2015-01-03T21:00:00.000000000",
          "2015-01-03T22:00:00.000000000",
          "2015-01-03T23:00:00.000000000",
          "2015-01-04T00:00:00.000000000",
          "2015-01-04T01:00:00.000000000",
          "2015-01-04T02:00:00.000000000",
          "2015-01-04T03:00:00.000000000",
          "2015-01-04T04:00:00.000000000",
          "2015-01-04T05:00:00.000000000",
          "2015-01-04T06:00:00.000000000",
          "2015-01-04T07:00:00.000000000",
          "2015-01-04T08:00:00.000000000",
          "2015-01-04T09:00:00.000000000",
          "2015-01-04T10:00:00.000000000",
          "2015-01-04T11:00:00.000000000",
          "2015-01-04T12:00:00.000000000",
          "2015-01-04T13:00:00.000000000",
          "2015-01-04T14:00:00.000000000",
          "2015-01-04T15:00:00.000000000",
          "2015-01-04T16:00:00.000000000",
          "2015-01-04T17:00:00.000000000",
          "2015-01-04T18:00:00.000000000",
          "2015-01-04T19:00:00.000000000",
          "2015-01-04T20:00:00.000000000",
          "2015-01-04T21:00:00.000000000",
          "2015-01-04T22:00:00.000000000",
          "2015-01-04T23:00:00.000000000"
         ],
         "y": {
          "bdata": "AAAAAAC2pEAAAAAAANiiQAAAAAAAoKFAAAAAAAD0oEAAAAAAALCgQAAAAAAA8qBAAAAAAABeoUAAAAAAAHShQAAAAAAATqJAAAAAAAB+pEAAAAAAAKqmQAAAAAAAlKhAAAAAAABEqUAAAAAAAJSoQAAAAAAAZKhAAAAAAACAqUAAAAAAAFKrQAAAAAAAEKtAAAAAAAAyqkAAAAAAAAapQAAAAAAA/KdAAAAAAACqpkAAAAAAAJamQAAAAAAAKKVAAAAAAAAoo0AAAAAAALShQAAAAAAA7qBAAAAAAACMoEAAAAAAALSgQAAAAAAAqKFAAAAAAABWo0AAAAAAAAilQAAAAAAA8qZAAAAAAADuqEAAAAAAABiqQAAAAAAAdqpAAAAAAABYqkAAAAAAAMipQAAAAAAAyqlAAAAAAADMq0AAAAAAAFyvQAAAAAAARq9AAAAAAADIrUAAAAAAAPirQAAAAAAAbKpAAAAAAACKqEAAAAAAACCoQAAAAAAAJqZAAAAAAAAqpEAAAAAAALyiQAAAAAAAtKFAAAAAAAAWoUAAAAAAAOagQAAAAAAAjqFAAAAAAACqokAAAAAAAMajQAAAAAAAsqVAAAAAAADCp0AAAAAAAPqoQAAAAAAAoKlAAAAAAACYqUAAAAAAABSpQAAAAAAAAKlAAAAAAACuqkAAAAAAAIKuQAAAAAAAkq5AAAAAAAAgrUAAAAAAAIarQAAAAAAA2KlAAAAAAAAYqEAAAAAAAPKnQAAAAAAAhKZAAAAAAACQpEAAAAAAAPSiQAAAAAAA4qFAAAAAAABYoUAAAAAAAPqgQAAAAAAAQKFAAAAAAAC+oUAAAAAAAByiQAAAAAAAdqNAAAAAAACypUAAAAAAAISnQAAAAAAAGKlAAAAAAAC0qUAAAAAAAEqpQAAAAAAA4qhAAAAAAAAIqkAAAAAAAHCtQAAAAAAA4q1AAAAAAAC8rEAAAAAAAHqrQAAAAAAA1qlAAAAAAACKp0AAAAAAAKSmQAAAAAAA3qRA",
          "dtype": "f8"
         }
        },
        {
         "line": {
          "color": "blue"
         },
         "mode": "lines",
         "name": "onshore wind",
         "type": "scatter",
         "x": [
          "2015-01-01T00:00:00.000000000",
          "2015-01-01T01:00:00.000000000",
          "2015-01-01T02:00:00.000000000",
          "2015-01-01T03:00:00.000000000",
          "2015-01-01T04:00:00.000000000",
          "2015-01-01T05:00:00.000000000",
          "2015-01-01T06:00:00.000000000",
          "2015-01-01T07:00:00.000000000",
          "2015-01-01T08:00:00.000000000",
          "2015-01-01T09:00:00.000000000",
          "2015-01-01T10:00:00.000000000",
          "2015-01-01T11:00:00.000000000",
          "2015-01-01T12:00:00.000000000",
          "2015-01-01T13:00:00.000000000",
          "2015-01-01T14:00:00.000000000",
          "2015-01-01T15:00:00.000000000",
          "2015-01-01T16:00:00.000000000",
          "2015-01-01T17:00:00.000000000",
          "2015-01-01T18:00:00.000000000",
          "2015-01-01T19:00:00.000000000",
          "2015-01-01T20:00:00.000000000",
          "2015-01-01T21:00:00.000000000",
          "2015-01-01T22:00:00.000000000",
          "2015-01-01T23:00:00.000000000",
          "2015-01-02T00:00:00.000000000",
          "2015-01-02T01:00:00.000000000",
          "2015-01-02T02:00:00.000000000",
          "2015-01-02T03:00:00.000000000",
          "2015-01-02T04:00:00.000000000",
          "2015-01-02T05:00:00.000000000",
          "2015-01-02T06:00:00.000000000",
          "2015-01-02T07:00:00.000000000",
          "2015-01-02T08:00:00.000000000",
          "2015-01-02T09:00:00.000000000",
          "2015-01-02T10:00:00.000000000",
          "2015-01-02T11:00:00.000000000",
          "2015-01-02T12:00:00.000000000",
          "2015-01-02T13:00:00.000000000",
          "2015-01-02T14:00:00.000000000",
          "2015-01-02T15:00:00.000000000",
          "2015-01-02T16:00:00.000000000",
          "2015-01-02T17:00:00.000000000",
          "2015-01-02T18:00:00.000000000",
          "2015-01-02T19:00:00.000000000",
          "2015-01-02T20:00:00.000000000",
          "2015-01-02T21:00:00.000000000",
          "2015-01-02T22:00:00.000000000",
          "2015-01-02T23:00:00.000000000",
          "2015-01-03T00:00:00.000000000",
          "2015-01-03T01:00:00.000000000",
          "2015-01-03T02:00:00.000000000",
          "2015-01-03T03:00:00.000000000",
          "2015-01-03T04:00:00.000000000",
          "2015-01-03T05:00:00.000000000",
          "2015-01-03T06:00:00.000000000",
          "2015-01-03T07:00:00.000000000",
          "2015-01-03T08:00:00.000000000",
          "2015-01-03T09:00:00.000000000",
          "2015-01-03T10:00:00.000000000",
          "2015-01-03T11:00:00.000000000",
          "2015-01-03T12:00:00.000000000",
          "2015-01-03T13:00:00.000000000",
          "2015-01-03T14:00:00.000000000",
          "2015-01-03T15:00:00.000000000",
          "2015-01-03T16:00:00.000000000",
          "2015-01-03T17:00:00.000000000",
          "2015-01-03T18:00:00.000000000",
          "2015-01-03T19:00:00.000000000",
          "2015-01-03T20:00:00.000000000",
          "2015-01-03T21:00:00.000000000",
          "2015-01-03T22:00:00.000000000",
          "2015-01-03T23:00:00.000000000",
          "2015-01-04T00:00:00.000000000",
          "2015-01-04T01:00:00.000000000",
          "2015-01-04T02:00:00.000000000",
          "2015-01-04T03:00:00.000000000",
          "2015-01-04T04:00:00.000000000",
          "2015-01-04T05:00:00.000000000",
          "2015-01-04T06:00:00.000000000",
          "2015-01-04T07:00:00.000000000",
          "2015-01-04T08:00:00.000000000",
          "2015-01-04T09:00:00.000000000",
          "2015-01-04T10:00:00.000000000",
          "2015-01-04T11:00:00.000000000",
          "2015-01-04T12:00:00.000000000",
          "2015-01-04T13:00:00.000000000",
          "2015-01-04T14:00:00.000000000",
          "2015-01-04T15:00:00.000000000",
          "2015-01-04T16:00:00.000000000",
          "2015-01-04T17:00:00.000000000",
          "2015-01-04T18:00:00.000000000",
          "2015-01-04T19:00:00.000000000",
          "2015-01-04T20:00:00.000000000",
          "2015-01-04T21:00:00.000000000",
          "2015-01-04T22:00:00.000000000",
          "2015-01-04T23:00:00.000000000"
         ],
         "y": {
          "bdata": "AAAAAAAAAAAAAAAAAAAAAAAAAAAAAAAAAAAAAAAAAAAAAAAAAAAAAAAAAAAAAAAAAAAAAAAAAAAAAAAAAAAAAAAAAAAAAAAAAAAAAAAAAAAAAAAAAAAAAAAAAAAAAAAAAAAAAAAAAAAAAAAAAAAAAAAAAAAAAAAAAAAAAAAAAAAAAAAAAAAAAAAAAAAAAAAAAAAAAAAAAAAAAAAAAAAAAAAAAAAAAAAAAAAAAAAAAAAAAAAAAAAAAAAAAAAAAAAAAAAAAAAAAAAAAAAAAAAAAAAAAAAAAAAAAAAAAAAAAAAAAAAAAAAAAAAAAAAAAAAAAAAAAAAAAAAAAAAAAAAAAAAAAAAAAAAAAAAAAAAAAAAAAAAAAAAAAAAAAAAAAAAAAAAAAAAAAAAAAAAAAAAAAAAAAAAAAAAAAAAAAAAAAAAAAAAAAAAAAAAAAAAAAAAAAAAAAAAAAAAAAAAAAAAAAAAAAAAAAAAAAAAAAAAAAAAAAAAAAAAAAAAAAAAAAAAAAAAAAAAAAAAAAAAAAAAAAAAAAAAAAAAAAAAAAAAAAAAAAAAAAAAAAAAAAAAAAAAAAAAAAAAAAAAAAAAAAAAAAAAAAAAAAAAAAAAAAAAAAAAAAAAAAAAAAAAAAAAAAAAAAAAAAAAAAAAAAAAAAAAAAAAAAAAAAAAAAAAAAAAAAAAAAAAAAAAAAAAAAAAAAAAAAAAAAAAAAAAAAAAAAAAAAAAAAAAAAAAAAAAAAAAAAAAAAAAAAAAAAAAAAAAAAAAAAAAAAAAAAAAAAAAAAAAAAAAAAAAAAAAAAAAAAAAAAAAAAAAAAAAAAAAAAAAAAAAAAAAAAAAAAAAAAAAAAAAAAAAAAAAAAAAAAAAAAAAAAAAAAAAAAAAAAAAAAAAAAAAAAAAAAAAAAAAAAAAAAAAAAAAAAAAAAAAAAAAAAAAAAAAAAAAAAAAAAAAAAAAAAAAAAAAAAAAAAAAAAAAAAAAAAAAAAAAAAAAAAAAAAAAAAAAAAAAAAAAAAAAAAAAAAAAA",
          "dtype": "f8"
         }
        },
        {
         "line": {
          "color": "orange"
         },
         "mode": "lines",
         "name": "solar",
         "type": "scatter",
         "x": [
          "2015-01-01T00:00:00.000000000",
          "2015-01-01T01:00:00.000000000",
          "2015-01-01T02:00:00.000000000",
          "2015-01-01T03:00:00.000000000",
          "2015-01-01T04:00:00.000000000",
          "2015-01-01T05:00:00.000000000",
          "2015-01-01T06:00:00.000000000",
          "2015-01-01T07:00:00.000000000",
          "2015-01-01T08:00:00.000000000",
          "2015-01-01T09:00:00.000000000",
          "2015-01-01T10:00:00.000000000",
          "2015-01-01T11:00:00.000000000",
          "2015-01-01T12:00:00.000000000",
          "2015-01-01T13:00:00.000000000",
          "2015-01-01T14:00:00.000000000",
          "2015-01-01T15:00:00.000000000",
          "2015-01-01T16:00:00.000000000",
          "2015-01-01T17:00:00.000000000",
          "2015-01-01T18:00:00.000000000",
          "2015-01-01T19:00:00.000000000",
          "2015-01-01T20:00:00.000000000",
          "2015-01-01T21:00:00.000000000",
          "2015-01-01T22:00:00.000000000",
          "2015-01-01T23:00:00.000000000",
          "2015-01-02T00:00:00.000000000",
          "2015-01-02T01:00:00.000000000",
          "2015-01-02T02:00:00.000000000",
          "2015-01-02T03:00:00.000000000",
          "2015-01-02T04:00:00.000000000",
          "2015-01-02T05:00:00.000000000",
          "2015-01-02T06:00:00.000000000",
          "2015-01-02T07:00:00.000000000",
          "2015-01-02T08:00:00.000000000",
          "2015-01-02T09:00:00.000000000",
          "2015-01-02T10:00:00.000000000",
          "2015-01-02T11:00:00.000000000",
          "2015-01-02T12:00:00.000000000",
          "2015-01-02T13:00:00.000000000",
          "2015-01-02T14:00:00.000000000",
          "2015-01-02T15:00:00.000000000",
          "2015-01-02T16:00:00.000000000",
          "2015-01-02T17:00:00.000000000",
          "2015-01-02T18:00:00.000000000",
          "2015-01-02T19:00:00.000000000",
          "2015-01-02T20:00:00.000000000",
          "2015-01-02T21:00:00.000000000",
          "2015-01-02T22:00:00.000000000",
          "2015-01-02T23:00:00.000000000",
          "2015-01-03T00:00:00.000000000",
          "2015-01-03T01:00:00.000000000",
          "2015-01-03T02:00:00.000000000",
          "2015-01-03T03:00:00.000000000",
          "2015-01-03T04:00:00.000000000",
          "2015-01-03T05:00:00.000000000",
          "2015-01-03T06:00:00.000000000",
          "2015-01-03T07:00:00.000000000",
          "2015-01-03T08:00:00.000000000",
          "2015-01-03T09:00:00.000000000",
          "2015-01-03T10:00:00.000000000",
          "2015-01-03T11:00:00.000000000",
          "2015-01-03T12:00:00.000000000",
          "2015-01-03T13:00:00.000000000",
          "2015-01-03T14:00:00.000000000",
          "2015-01-03T15:00:00.000000000",
          "2015-01-03T16:00:00.000000000",
          "2015-01-03T17:00:00.000000000",
          "2015-01-03T18:00:00.000000000",
          "2015-01-03T19:00:00.000000000",
          "2015-01-03T20:00:00.000000000",
          "2015-01-03T21:00:00.000000000",
          "2015-01-03T22:00:00.000000000",
          "2015-01-03T23:00:00.000000000",
          "2015-01-04T00:00:00.000000000",
          "2015-01-04T01:00:00.000000000",
          "2015-01-04T02:00:00.000000000",
          "2015-01-04T03:00:00.000000000",
          "2015-01-04T04:00:00.000000000",
          "2015-01-04T05:00:00.000000000",
          "2015-01-04T06:00:00.000000000",
          "2015-01-04T07:00:00.000000000",
          "2015-01-04T08:00:00.000000000",
          "2015-01-04T09:00:00.000000000",
          "2015-01-04T10:00:00.000000000",
          "2015-01-04T11:00:00.000000000",
          "2015-01-04T12:00:00.000000000",
          "2015-01-04T13:00:00.000000000",
          "2015-01-04T14:00:00.000000000",
          "2015-01-04T15:00:00.000000000",
          "2015-01-04T16:00:00.000000000",
          "2015-01-04T17:00:00.000000000",
          "2015-01-04T18:00:00.000000000",
          "2015-01-04T19:00:00.000000000",
          "2015-01-04T20:00:00.000000000",
          "2015-01-04T21:00:00.000000000",
          "2015-01-04T22:00:00.000000000",
          "2015-01-04T23:00:00.000000000"
         ],
         "y": {
          "bdata": "AAAAAAAAAAAAAAAAAAAAAAAAAAAAAAAAAAAAAAAAAAAAAAAAAAAAAAAAAAAAAAAAAAAAAAAAAAAAAAAAAAAAAAAAAAAAAAAAAAAAAAAAAAAAAAAAAAAAAAAAAAAAAAAAAAAAAAAAAAAAAAAAAAAAAAAAAAAAAAAAAAAAAAAAAAAAAAAAAAAAAAAAAAAAAAAAAAAAAAAAAAAAAAAAAAAAAAAAAAAAAAAAAAAAAAAAAAAAAAAAAAAAAAAAAAAAAAAAAAAAAAAAAAAAAAAAAAAAAAAAAAAAAAAAAAAAAAAAAAAAAAAAAAAAAAAAAAAAAAAAAAAAAAAAAAAAAAAAAAAAAAAAAAAAAAAAAAAAAAAAAAAAAAAAAAAAAAAAAAAAAAAAAAAAAAAAAAAAAAAAAAAAAAAAAAAAAAAAAAAAAAAAAAAAAAAAAAAAAAAAAAAAAAAAAAAAAAAAAAAAAAAAAAAAAAAAAAAAAAAAAAAAAAAAAAAAAAAAAAAAAAAAAAAAAAAAAAAAAAAAAAAAAAAAAAAAAAAAAAAAAAAAAAAAAAAAAAAAAAAAAAAAAAAAAAAAAAAAAAAAAAAAAAAAAAAAAAAAAAAAAAAAAAAAAAAAAAAAAAAAAAAAAAAAAAAAAAAAAAAAAAAAAAAAAAAAAAAAAAAAAAAAAAAAAAAAAAAAAAAAAAAAAAAAAAAAAAAAAAAAAAAAAAAAAAAAAAAAAAAAAAAAAAAAAAAAAAAAAAAAAAAAAAAAAAAAAAAAAAAAAAAAAAAAAAAAAAAAAAAAAAAAAAAAAAAAAAAAAAAAAAAAAAAAAAAAAAAAAAAAAAAAAAAAAAAAAAAAAAAAAAAAAAAAAAAAAAAAAAAAAAAAAAAAAAAAAAAAAAAAAAAAAAAAAAAAAAAAAAAAAAAAAAAAAAAAAAAAAAAAAAAAAAAAAAAAAAAAAAAAAAAAAAAAAAAAAAAAAAAAAAAAAAAAAAAAAAAAAAAAAAAAAAAAAAAAAAAAAAAAAAAAAAAAAAAAAAAAAAAAAAAA",
          "dtype": "f8"
         }
        },
        {
         "line": {
          "color": "brown"
         },
         "mode": "lines",
         "name": "gas (OCGT)",
         "type": "scatter",
         "x": [
          "2015-01-01T00:00:00.000000000",
          "2015-01-01T01:00:00.000000000",
          "2015-01-01T02:00:00.000000000",
          "2015-01-01T03:00:00.000000000",
          "2015-01-01T04:00:00.000000000",
          "2015-01-01T05:00:00.000000000",
          "2015-01-01T06:00:00.000000000",
          "2015-01-01T07:00:00.000000000",
          "2015-01-01T08:00:00.000000000",
          "2015-01-01T09:00:00.000000000",
          "2015-01-01T10:00:00.000000000",
          "2015-01-01T11:00:00.000000000",
          "2015-01-01T12:00:00.000000000",
          "2015-01-01T13:00:00.000000000",
          "2015-01-01T14:00:00.000000000",
          "2015-01-01T15:00:00.000000000",
          "2015-01-01T16:00:00.000000000",
          "2015-01-01T17:00:00.000000000",
          "2015-01-01T18:00:00.000000000",
          "2015-01-01T19:00:00.000000000",
          "2015-01-01T20:00:00.000000000",
          "2015-01-01T21:00:00.000000000",
          "2015-01-01T22:00:00.000000000",
          "2015-01-01T23:00:00.000000000",
          "2015-01-02T00:00:00.000000000",
          "2015-01-02T01:00:00.000000000",
          "2015-01-02T02:00:00.000000000",
          "2015-01-02T03:00:00.000000000",
          "2015-01-02T04:00:00.000000000",
          "2015-01-02T05:00:00.000000000",
          "2015-01-02T06:00:00.000000000",
          "2015-01-02T07:00:00.000000000",
          "2015-01-02T08:00:00.000000000",
          "2015-01-02T09:00:00.000000000",
          "2015-01-02T10:00:00.000000000",
          "2015-01-02T11:00:00.000000000",
          "2015-01-02T12:00:00.000000000",
          "2015-01-02T13:00:00.000000000",
          "2015-01-02T14:00:00.000000000",
          "2015-01-02T15:00:00.000000000",
          "2015-01-02T16:00:00.000000000",
          "2015-01-02T17:00:00.000000000",
          "2015-01-02T18:00:00.000000000",
          "2015-01-02T19:00:00.000000000",
          "2015-01-02T20:00:00.000000000",
          "2015-01-02T21:00:00.000000000",
          "2015-01-02T22:00:00.000000000",
          "2015-01-02T23:00:00.000000000",
          "2015-01-03T00:00:00.000000000",
          "2015-01-03T01:00:00.000000000",
          "2015-01-03T02:00:00.000000000",
          "2015-01-03T03:00:00.000000000",
          "2015-01-03T04:00:00.000000000",
          "2015-01-03T05:00:00.000000000",
          "2015-01-03T06:00:00.000000000",
          "2015-01-03T07:00:00.000000000",
          "2015-01-03T08:00:00.000000000",
          "2015-01-03T09:00:00.000000000",
          "2015-01-03T10:00:00.000000000",
          "2015-01-03T11:00:00.000000000",
          "2015-01-03T12:00:00.000000000",
          "2015-01-03T13:00:00.000000000",
          "2015-01-03T14:00:00.000000000",
          "2015-01-03T15:00:00.000000000",
          "2015-01-03T16:00:00.000000000",
          "2015-01-03T17:00:00.000000000",
          "2015-01-03T18:00:00.000000000",
          "2015-01-03T19:00:00.000000000",
          "2015-01-03T20:00:00.000000000",
          "2015-01-03T21:00:00.000000000",
          "2015-01-03T22:00:00.000000000",
          "2015-01-03T23:00:00.000000000",
          "2015-01-04T00:00:00.000000000",
          "2015-01-04T01:00:00.000000000",
          "2015-01-04T02:00:00.000000000",
          "2015-01-04T03:00:00.000000000",
          "2015-01-04T04:00:00.000000000",
          "2015-01-04T05:00:00.000000000",
          "2015-01-04T06:00:00.000000000",
          "2015-01-04T07:00:00.000000000",
          "2015-01-04T08:00:00.000000000",
          "2015-01-04T09:00:00.000000000",
          "2015-01-04T10:00:00.000000000",
          "2015-01-04T11:00:00.000000000",
          "2015-01-04T12:00:00.000000000",
          "2015-01-04T13:00:00.000000000",
          "2015-01-04T14:00:00.000000000",
          "2015-01-04T15:00:00.000000000",
          "2015-01-04T16:00:00.000000000",
          "2015-01-04T17:00:00.000000000",
          "2015-01-04T18:00:00.000000000",
          "2015-01-04T19:00:00.000000000",
          "2015-01-04T20:00:00.000000000",
          "2015-01-04T21:00:00.000000000",
          "2015-01-04T22:00:00.000000000",
          "2015-01-04T23:00:00.000000000"
         ],
         "y": {
          "bdata": "AAAAAAC2pEAAAAAAANiiQAAAAAAAoKFAAAAAAAD0oEAAAAAAALCgQAAAAAAA8qBAAAAAAABeoUAAAAAAAHShQAAAAAAATqJAAAAAAAB+pEAAAAAAAKqmQAAAAAAAlKhAAAAAAABEqUAAAAAAAJSoQAAAAAAAZKhAAAAAAACAqUAAAAAAAFKrQAAAAAAAEKtAAAAAAAAyqkAAAAAAAAapQAAAAAAA/KdAAAAAAACqpkAAAAAAAJamQAAAAAAAKKVAAAAAAAAoo0AAAAAAALShQAAAAAAA7qBAAAAAAACMoEAAAAAAALSgQAAAAAAAqKFAAAAAAABWo0AAAAAAAAilQAAAAAAA8qZAAAAAAADuqEAAAAAAABiqQAAAAAAAdqpAAAAAAABYqkAAAAAAAMipQAAAAAAAyqlAAAAAAADMq0AAAAAAAPCtQAAAAAAA8K1AAAAAAADIrUAAAAAAAPirQAAAAAAAbKpAAAAAAACKqEAAAAAAACCoQAAAAAAAJqZAAAAAAAAqpEAAAAAAALyiQAAAAAAAtKFAAAAAAAAWoUAAAAAAAOagQAAAAAAAjqFAAAAAAACqokAAAAAAAMajQAAAAAAAsqVAAAAAAADCp0AAAAAAAPqoQAAAAAAAoKlAAAAAAACYqUAAAAAAABSpQAAAAAAAAKlAAAAAAACuqkAAAAAAAPCtQAAAAAAA8K1AAAAAAAAgrUAAAAAAAIarQAAAAAAA2KlAAAAAAAAYqEAAAAAAAPKnQAAAAAAAhKZAAAAAAACQpEAAAAAAAPSiQAAAAAAA4qFAAAAAAABYoUAAAAAAAPqgQAAAAAAAQKFAAAAAAAC+oUAAAAAAAByiQAAAAAAAdqNAAAAAAACypUAAAAAAAISnQAAAAAAAGKlAAAAAAAC0qUAAAAAAAEqpQAAAAAAA4qhAAAAAAAAIqkAAAAAAAHCtQAAAAAAA4q1AAAAAAAC8rEAAAAAAAHqrQAAAAAAA1qlAAAAAAACKp0AAAAAAAKSmQAAAAAAA3qRA",
          "dtype": "f8"
         }
        },
        {
         "line": {
          "color": "grey"
         },
         "mode": "lines",
         "name": "coal",
         "type": "scatter",
         "x": [
          "2015-01-01T00:00:00.000000000",
          "2015-01-01T01:00:00.000000000",
          "2015-01-01T02:00:00.000000000",
          "2015-01-01T03:00:00.000000000",
          "2015-01-01T04:00:00.000000000",
          "2015-01-01T05:00:00.000000000",
          "2015-01-01T06:00:00.000000000",
          "2015-01-01T07:00:00.000000000",
          "2015-01-01T08:00:00.000000000",
          "2015-01-01T09:00:00.000000000",
          "2015-01-01T10:00:00.000000000",
          "2015-01-01T11:00:00.000000000",
          "2015-01-01T12:00:00.000000000",
          "2015-01-01T13:00:00.000000000",
          "2015-01-01T14:00:00.000000000",
          "2015-01-01T15:00:00.000000000",
          "2015-01-01T16:00:00.000000000",
          "2015-01-01T17:00:00.000000000",
          "2015-01-01T18:00:00.000000000",
          "2015-01-01T19:00:00.000000000",
          "2015-01-01T20:00:00.000000000",
          "2015-01-01T21:00:00.000000000",
          "2015-01-01T22:00:00.000000000",
          "2015-01-01T23:00:00.000000000",
          "2015-01-02T00:00:00.000000000",
          "2015-01-02T01:00:00.000000000",
          "2015-01-02T02:00:00.000000000",
          "2015-01-02T03:00:00.000000000",
          "2015-01-02T04:00:00.000000000",
          "2015-01-02T05:00:00.000000000",
          "2015-01-02T06:00:00.000000000",
          "2015-01-02T07:00:00.000000000",
          "2015-01-02T08:00:00.000000000",
          "2015-01-02T09:00:00.000000000",
          "2015-01-02T10:00:00.000000000",
          "2015-01-02T11:00:00.000000000",
          "2015-01-02T12:00:00.000000000",
          "2015-01-02T13:00:00.000000000",
          "2015-01-02T14:00:00.000000000",
          "2015-01-02T15:00:00.000000000",
          "2015-01-02T16:00:00.000000000",
          "2015-01-02T17:00:00.000000000",
          "2015-01-02T18:00:00.000000000",
          "2015-01-02T19:00:00.000000000",
          "2015-01-02T20:00:00.000000000",
          "2015-01-02T21:00:00.000000000",
          "2015-01-02T22:00:00.000000000",
          "2015-01-02T23:00:00.000000000",
          "2015-01-03T00:00:00.000000000",
          "2015-01-03T01:00:00.000000000",
          "2015-01-03T02:00:00.000000000",
          "2015-01-03T03:00:00.000000000",
          "2015-01-03T04:00:00.000000000",
          "2015-01-03T05:00:00.000000000",
          "2015-01-03T06:00:00.000000000",
          "2015-01-03T07:00:00.000000000",
          "2015-01-03T08:00:00.000000000",
          "2015-01-03T09:00:00.000000000",
          "2015-01-03T10:00:00.000000000",
          "2015-01-03T11:00:00.000000000",
          "2015-01-03T12:00:00.000000000",
          "2015-01-03T13:00:00.000000000",
          "2015-01-03T14:00:00.000000000",
          "2015-01-03T15:00:00.000000000",
          "2015-01-03T16:00:00.000000000",
          "2015-01-03T17:00:00.000000000",
          "2015-01-03T18:00:00.000000000",
          "2015-01-03T19:00:00.000000000",
          "2015-01-03T20:00:00.000000000",
          "2015-01-03T21:00:00.000000000",
          "2015-01-03T22:00:00.000000000",
          "2015-01-03T23:00:00.000000000",
          "2015-01-04T00:00:00.000000000",
          "2015-01-04T01:00:00.000000000",
          "2015-01-04T02:00:00.000000000",
          "2015-01-04T03:00:00.000000000",
          "2015-01-04T04:00:00.000000000",
          "2015-01-04T05:00:00.000000000",
          "2015-01-04T06:00:00.000000000",
          "2015-01-04T07:00:00.000000000",
          "2015-01-04T08:00:00.000000000",
          "2015-01-04T09:00:00.000000000",
          "2015-01-04T10:00:00.000000000",
          "2015-01-04T11:00:00.000000000",
          "2015-01-04T12:00:00.000000000",
          "2015-01-04T13:00:00.000000000",
          "2015-01-04T14:00:00.000000000",
          "2015-01-04T15:00:00.000000000",
          "2015-01-04T16:00:00.000000000",
          "2015-01-04T17:00:00.000000000",
          "2015-01-04T18:00:00.000000000",
          "2015-01-04T19:00:00.000000000",
          "2015-01-04T20:00:00.000000000",
          "2015-01-04T21:00:00.000000000",
          "2015-01-04T22:00:00.000000000",
          "2015-01-04T23:00:00.000000000"
         ],
         "y": {
          "bdata": "AAAAAAAAAAAAAAAAAAAAAAAAAAAAAAAAAAAAAAAAAAAAAAAAAAAAAAAAAAAAAAAAAAAAAAAAAAAAAAAAAAAAAAAAAAAAAAAAAAAAAAAAAAAAAAAAAAAAAAAAAAAAAAAAAAAAAAAAAAAAAAAAAAAAAAAAAAAAAAAAAAAAAAAAAAAAAAAAAAAAAAAAAAAAAAAAAAAAAAAAAAAAAAAAAAAAAAAAAAAAAAAAAAAAAAAAAAAAAAAAAAAAAAAAAAAAAAAAAAAAAAAAAAAAAAAAAAAAAAAAAAAAAAAAAAAAAAAAAAAAAAAAAAAAAAAAAAAAAAAAAAAAAAAAAAAAAAAAAAAAAAAAAAAAAAAAAAAAAAAAAAAAAAAAAAAAAAAAAAAAAAAAAAAAAAAAAAAAAAAAAAAAAAAAAAAAAAAAAAAAAAAAAAAAAAAAAAAAAAAAAAAAAAAAAAAAAAAAAAAAAAAAAAAAAAAAAAAAAAAAAAAAAAAAAAAAAAAAAAAAAAAAAAAAAAAAAAAAAAAAAAAAAAAAAAAAAAAAAAAAAAAAAAAAAAAAAAAAAAAAAAAAAAAAAAAAAAAAAAAAAAAAAAAAAAAAAAAAAAAAAAAAAAAAAAAAAAAAAAAAAAAAAAAAAAAAAAAAAAAAAAAAAAAAAAAAAAAAAAAAAAAAAAAAAAAAAAAAAAAAAAAAAAAAAAAAAAAAAAAAAAAAAAAAAAAAAAAAAAAAAAAAAAAAAAAAAAAAAAAAAAAAAAAAAAAAAAAAAAAAAAAAAAAAAAAAAAAAAAAAAAAAAAAAAAAAAAAAAAAAAAAAAAAAAAAAAAAAAAAAAAAAAAAAAAAAAAAAAAAAAAAAAAAAAAAAAAAAAAAAAAAAAAAAAAAAAAAAAAAAAAAAAAAAAAAAAAAAAAAAAAAAAAAAAAAAAAAAAAAAAAAAAAAAAAAAAAAAAAAAAAAAAAAAAAAAAAAAAAAAAAAAAAAAAAAAAAAAAAAAAAAAAAAAAAAAAAAAAAAAAAAAAAAAAAAAAAAAAAAAAAAA",
          "dtype": "f8"
         }
        },
        {
         "line": {
          "color": "green"
         },
         "mode": "lines",
         "name": "biomass",
         "type": "scatter",
         "x": [
          "2015-01-01T00:00:00.000000000",
          "2015-01-01T01:00:00.000000000",
          "2015-01-01T02:00:00.000000000",
          "2015-01-01T03:00:00.000000000",
          "2015-01-01T04:00:00.000000000",
          "2015-01-01T05:00:00.000000000",
          "2015-01-01T06:00:00.000000000",
          "2015-01-01T07:00:00.000000000",
          "2015-01-01T08:00:00.000000000",
          "2015-01-01T09:00:00.000000000",
          "2015-01-01T10:00:00.000000000",
          "2015-01-01T11:00:00.000000000",
          "2015-01-01T12:00:00.000000000",
          "2015-01-01T13:00:00.000000000",
          "2015-01-01T14:00:00.000000000",
          "2015-01-01T15:00:00.000000000",
          "2015-01-01T16:00:00.000000000",
          "2015-01-01T17:00:00.000000000",
          "2015-01-01T18:00:00.000000000",
          "2015-01-01T19:00:00.000000000",
          "2015-01-01T20:00:00.000000000",
          "2015-01-01T21:00:00.000000000",
          "2015-01-01T22:00:00.000000000",
          "2015-01-01T23:00:00.000000000",
          "2015-01-02T00:00:00.000000000",
          "2015-01-02T01:00:00.000000000",
          "2015-01-02T02:00:00.000000000",
          "2015-01-02T03:00:00.000000000",
          "2015-01-02T04:00:00.000000000",
          "2015-01-02T05:00:00.000000000",
          "2015-01-02T06:00:00.000000000",
          "2015-01-02T07:00:00.000000000",
          "2015-01-02T08:00:00.000000000",
          "2015-01-02T09:00:00.000000000",
          "2015-01-02T10:00:00.000000000",
          "2015-01-02T11:00:00.000000000",
          "2015-01-02T12:00:00.000000000",
          "2015-01-02T13:00:00.000000000",
          "2015-01-02T14:00:00.000000000",
          "2015-01-02T15:00:00.000000000",
          "2015-01-02T16:00:00.000000000",
          "2015-01-02T17:00:00.000000000",
          "2015-01-02T18:00:00.000000000",
          "2015-01-02T19:00:00.000000000",
          "2015-01-02T20:00:00.000000000",
          "2015-01-02T21:00:00.000000000",
          "2015-01-02T22:00:00.000000000",
          "2015-01-02T23:00:00.000000000",
          "2015-01-03T00:00:00.000000000",
          "2015-01-03T01:00:00.000000000",
          "2015-01-03T02:00:00.000000000",
          "2015-01-03T03:00:00.000000000",
          "2015-01-03T04:00:00.000000000",
          "2015-01-03T05:00:00.000000000",
          "2015-01-03T06:00:00.000000000",
          "2015-01-03T07:00:00.000000000",
          "2015-01-03T08:00:00.000000000",
          "2015-01-03T09:00:00.000000000",
          "2015-01-03T10:00:00.000000000",
          "2015-01-03T11:00:00.000000000",
          "2015-01-03T12:00:00.000000000",
          "2015-01-03T13:00:00.000000000",
          "2015-01-03T14:00:00.000000000",
          "2015-01-03T15:00:00.000000000",
          "2015-01-03T16:00:00.000000000",
          "2015-01-03T17:00:00.000000000",
          "2015-01-03T18:00:00.000000000",
          "2015-01-03T19:00:00.000000000",
          "2015-01-03T20:00:00.000000000",
          "2015-01-03T21:00:00.000000000",
          "2015-01-03T22:00:00.000000000",
          "2015-01-03T23:00:00.000000000",
          "2015-01-04T00:00:00.000000000",
          "2015-01-04T01:00:00.000000000",
          "2015-01-04T02:00:00.000000000",
          "2015-01-04T03:00:00.000000000",
          "2015-01-04T04:00:00.000000000",
          "2015-01-04T05:00:00.000000000",
          "2015-01-04T06:00:00.000000000",
          "2015-01-04T07:00:00.000000000",
          "2015-01-04T08:00:00.000000000",
          "2015-01-04T09:00:00.000000000",
          "2015-01-04T10:00:00.000000000",
          "2015-01-04T11:00:00.000000000",
          "2015-01-04T12:00:00.000000000",
          "2015-01-04T13:00:00.000000000",
          "2015-01-04T14:00:00.000000000",
          "2015-01-04T15:00:00.000000000",
          "2015-01-04T16:00:00.000000000",
          "2015-01-04T17:00:00.000000000",
          "2015-01-04T18:00:00.000000000",
          "2015-01-04T19:00:00.000000000",
          "2015-01-04T20:00:00.000000000",
          "2015-01-04T21:00:00.000000000",
          "2015-01-04T22:00:00.000000000",
          "2015-01-04T23:00:00.000000000"
         ],
         "y": {
          "bdata": "AAAAAAAAAAAAAAAAAAAAAAAAAAAAAAAAAAAAAAAAAAAAAAAAAAAAAAAAAAAAAAAAAAAAAAAAAAAAAAAAAAAAAAAAAAAAAAAAAAAAAAAAAAAAAAAAAAAAAAAAAAAAAAAAAAAAAAAAAAAAAAAAAAAAAAAAAAAAAAAAAAAAAAAAAAAAAAAAAAAAAAAAAAAAAAAAAAAAAAAAAAAAAAAAAAAAAAAAAAAAAAAAAAAAAAAAAAAAAAAAAAAAAAAAAAAAAAAAAAAAAAAAAAAAAAAAAAAAAAAAAAAAAAAAAAAAAAAAAAAAAAAAAAAAAAAAAAAAAAAAAAAAAAAAAAAAAAAAAAAAAAAAAAAAAAAAAAAAAAAAAAAAAAAAAAAAAAAAAAAAAAAAAAAAAAAAAAAAAAAAAAAAAAAAAAAAAAAAAAAAAAAAAAAAAAAAAAAAAAAAAAAAAAAAAAAAAAAAAAAAAAAAAAAAAAAAAAAAAAAAAAAAAAAAAAAAAAAAAAAAAAAAAAAAAAAAAAAAAAAAAAAAAAAAAAAAAAAAAAAAAAAAAAAAAAAAAAAAAAAAAAAAAAAAAAAAAAAAAAAAAAAAAAAAAAAAAAAAAAAAAAAAAAAAAAAAAAAAAAAAAAAAAAAAAAAAAAAAAAAAAAAAAAAAAAAAAAAAAAAAAAAAAAAAAAAAAAAAAAAAAAAAAAAAAAAAAAAAAAAAAAAAAAAAAAAAAAAAAAAAAAAAAAAAAAAAAAAAAAAAAAAAAAAAAAAAAAAAAAAAAAAAAAAAAAAAAAAAAAAAAAAAAAAAAAAAAAAAAAAAAAAAAAAAAAAAAAAAAAAAAAAAAAAAAAAAAAAAAAAAAAAAAAAAAAAAAAAAAAAAAAAAAAAAAAAAAAAAAAAAAAAAAAAAAAAAAAAAAAAAAAAAAAAAAAAAAAAAAAAAAAAAAAAAAAAAAAAAAAAAAAAAAAAAAAAAAAAAAAAAAAAAAAAAAAAAAAAAAAAAAAAAAAAAAAAAAAAAAAAAAAAAAAAAAAAAAAAAAAAAAAAA",
          "dtype": "f8"
         }
        },
        {
         "line": {
          "color": "black"
         },
         "mode": "lines",
         "name": "oil",
         "type": "scatter",
         "x": [
          "2015-01-01T00:00:00.000000000",
          "2015-01-01T01:00:00.000000000",
          "2015-01-01T02:00:00.000000000",
          "2015-01-01T03:00:00.000000000",
          "2015-01-01T04:00:00.000000000",
          "2015-01-01T05:00:00.000000000",
          "2015-01-01T06:00:00.000000000",
          "2015-01-01T07:00:00.000000000",
          "2015-01-01T08:00:00.000000000",
          "2015-01-01T09:00:00.000000000",
          "2015-01-01T10:00:00.000000000",
          "2015-01-01T11:00:00.000000000",
          "2015-01-01T12:00:00.000000000",
          "2015-01-01T13:00:00.000000000",
          "2015-01-01T14:00:00.000000000",
          "2015-01-01T15:00:00.000000000",
          "2015-01-01T16:00:00.000000000",
          "2015-01-01T17:00:00.000000000",
          "2015-01-01T18:00:00.000000000",
          "2015-01-01T19:00:00.000000000",
          "2015-01-01T20:00:00.000000000",
          "2015-01-01T21:00:00.000000000",
          "2015-01-01T22:00:00.000000000",
          "2015-01-01T23:00:00.000000000",
          "2015-01-02T00:00:00.000000000",
          "2015-01-02T01:00:00.000000000",
          "2015-01-02T02:00:00.000000000",
          "2015-01-02T03:00:00.000000000",
          "2015-01-02T04:00:00.000000000",
          "2015-01-02T05:00:00.000000000",
          "2015-01-02T06:00:00.000000000",
          "2015-01-02T07:00:00.000000000",
          "2015-01-02T08:00:00.000000000",
          "2015-01-02T09:00:00.000000000",
          "2015-01-02T10:00:00.000000000",
          "2015-01-02T11:00:00.000000000",
          "2015-01-02T12:00:00.000000000",
          "2015-01-02T13:00:00.000000000",
          "2015-01-02T14:00:00.000000000",
          "2015-01-02T15:00:00.000000000",
          "2015-01-02T16:00:00.000000000",
          "2015-01-02T17:00:00.000000000",
          "2015-01-02T18:00:00.000000000",
          "2015-01-02T19:00:00.000000000",
          "2015-01-02T20:00:00.000000000",
          "2015-01-02T21:00:00.000000000",
          "2015-01-02T22:00:00.000000000",
          "2015-01-02T23:00:00.000000000",
          "2015-01-03T00:00:00.000000000",
          "2015-01-03T01:00:00.000000000",
          "2015-01-03T02:00:00.000000000",
          "2015-01-03T03:00:00.000000000",
          "2015-01-03T04:00:00.000000000",
          "2015-01-03T05:00:00.000000000",
          "2015-01-03T06:00:00.000000000",
          "2015-01-03T07:00:00.000000000",
          "2015-01-03T08:00:00.000000000",
          "2015-01-03T09:00:00.000000000",
          "2015-01-03T10:00:00.000000000",
          "2015-01-03T11:00:00.000000000",
          "2015-01-03T12:00:00.000000000",
          "2015-01-03T13:00:00.000000000",
          "2015-01-03T14:00:00.000000000",
          "2015-01-03T15:00:00.000000000",
          "2015-01-03T16:00:00.000000000",
          "2015-01-03T17:00:00.000000000",
          "2015-01-03T18:00:00.000000000",
          "2015-01-03T19:00:00.000000000",
          "2015-01-03T20:00:00.000000000",
          "2015-01-03T21:00:00.000000000",
          "2015-01-03T22:00:00.000000000",
          "2015-01-03T23:00:00.000000000",
          "2015-01-04T00:00:00.000000000",
          "2015-01-04T01:00:00.000000000",
          "2015-01-04T02:00:00.000000000",
          "2015-01-04T03:00:00.000000000",
          "2015-01-04T04:00:00.000000000",
          "2015-01-04T05:00:00.000000000",
          "2015-01-04T06:00:00.000000000",
          "2015-01-04T07:00:00.000000000",
          "2015-01-04T08:00:00.000000000",
          "2015-01-04T09:00:00.000000000",
          "2015-01-04T10:00:00.000000000",
          "2015-01-04T11:00:00.000000000",
          "2015-01-04T12:00:00.000000000",
          "2015-01-04T13:00:00.000000000",
          "2015-01-04T14:00:00.000000000",
          "2015-01-04T15:00:00.000000000",
          "2015-01-04T16:00:00.000000000",
          "2015-01-04T17:00:00.000000000",
          "2015-01-04T18:00:00.000000000",
          "2015-01-04T19:00:00.000000000",
          "2015-01-04T20:00:00.000000000",
          "2015-01-04T21:00:00.000000000",
          "2015-01-04T22:00:00.000000000",
          "2015-01-04T23:00:00.000000000"
         ],
         "y": {
          "bdata": "AAAAAAAAAAAAAAAAAAAAAAAAAAAAAAAAAAAAAAAAAAAAAAAAAAAAAAAAAAAAAAAAAAAAAAAAAAAAAAAAAAAAAAAAAAAAAAAAAAAAAAAAAAAAAAAAAAAAAAAAAAAAAAAAAAAAAAAAAAAAAAAAAAAAAAAAAAAAAAAAAAAAAAAAAAAAAAAAAAAAAAAAAAAAAAAAAAAAAAAAAAAAAAAAAAAAAAAAAAAAAAAAAAAAAAAAAAAAAAAAAAAAAAAAAAAAAAAAAAAAAAAAAAAAAAAAAAAAAAAAAAAAAAAAAAAAAAAAAAAAAAAAAAAAAAAAAAAAAAAAAAAAAAAAAAAAAAAAAAAAAAAAAAAAAAAAAAAAAAAAAAAAAAAAAAAAAAAAAAAAAAAAAAAAAAAAAAAAAAAAAAAAAAAAAAAAAAAAAAAAAAAAAAAAAAAAAMBmQAAAAAAAYGVAAAAAAAAAAAAAAAAAAAAAAAAAAAAAAAAAAAAAAAAAAAAAAAAAAAAAAAAAAAAAAAAAAAAAAAAAAAAAAAAAAAAAAAAAAAAAAAAAAAAAAAAAAAAAAAAAAAAAAAAAAAAAAAAAAAAAAAAAAAAAAAAAAAAAAAAAAAAAAAAAAAAAAAAAAAAAAAAAAAAAAAAAAAAAAAAAAAAAAAAAAAAAAAAAAAAAAAAAAAAAAAAAAAAAAAAAAAAAAAAAAEBSQAAAAAAAQFRAAAAAAAAAAAAAAAAAAAAAAAAAAAAAAAAAAAAAAAAAAAAAAAAAAAAAAAAAAAAAAAAAAAAAAAAAAAAAAAAAAAAAAAAAAAAAAAAAAAAAAAAAAAAAAAAAAAAAAAAAAAAAAAAAAAAAAAAAAAAAAAAAAAAAAAAAAAAAAAAAAAAAAAAAAAAAAAAAAAAAAAAAAAAAAAAAAAAAAAAAAAAAAAAAAAAAAAAAAAAAAAAAAAAAAAAAAAAAAAAAAAAAAAAAAAAAAAAAAAAAAAAAAAAAAAAAAAAAAAAAAAAAAAAAAAAAAAAAAAAAAAAAAAAAAAAAAAAAAAAA",
          "dtype": "f8"
         }
        },
        {
         "line": {
          "color": "purple"
         },
         "mode": "lines",
         "name": "offshore wind",
         "type": "scatter",
         "x": [
          "2015-01-01T00:00:00.000000000",
          "2015-01-01T01:00:00.000000000",
          "2015-01-01T02:00:00.000000000",
          "2015-01-01T03:00:00.000000000",
          "2015-01-01T04:00:00.000000000",
          "2015-01-01T05:00:00.000000000",
          "2015-01-01T06:00:00.000000000",
          "2015-01-01T07:00:00.000000000",
          "2015-01-01T08:00:00.000000000",
          "2015-01-01T09:00:00.000000000",
          "2015-01-01T10:00:00.000000000",
          "2015-01-01T11:00:00.000000000",
          "2015-01-01T12:00:00.000000000",
          "2015-01-01T13:00:00.000000000",
          "2015-01-01T14:00:00.000000000",
          "2015-01-01T15:00:00.000000000",
          "2015-01-01T16:00:00.000000000",
          "2015-01-01T17:00:00.000000000",
          "2015-01-01T18:00:00.000000000",
          "2015-01-01T19:00:00.000000000",
          "2015-01-01T20:00:00.000000000",
          "2015-01-01T21:00:00.000000000",
          "2015-01-01T22:00:00.000000000",
          "2015-01-01T23:00:00.000000000",
          "2015-01-02T00:00:00.000000000",
          "2015-01-02T01:00:00.000000000",
          "2015-01-02T02:00:00.000000000",
          "2015-01-02T03:00:00.000000000",
          "2015-01-02T04:00:00.000000000",
          "2015-01-02T05:00:00.000000000",
          "2015-01-02T06:00:00.000000000",
          "2015-01-02T07:00:00.000000000",
          "2015-01-02T08:00:00.000000000",
          "2015-01-02T09:00:00.000000000",
          "2015-01-02T10:00:00.000000000",
          "2015-01-02T11:00:00.000000000",
          "2015-01-02T12:00:00.000000000",
          "2015-01-02T13:00:00.000000000",
          "2015-01-02T14:00:00.000000000",
          "2015-01-02T15:00:00.000000000",
          "2015-01-02T16:00:00.000000000",
          "2015-01-02T17:00:00.000000000",
          "2015-01-02T18:00:00.000000000",
          "2015-01-02T19:00:00.000000000",
          "2015-01-02T20:00:00.000000000",
          "2015-01-02T21:00:00.000000000",
          "2015-01-02T22:00:00.000000000",
          "2015-01-02T23:00:00.000000000",
          "2015-01-03T00:00:00.000000000",
          "2015-01-03T01:00:00.000000000",
          "2015-01-03T02:00:00.000000000",
          "2015-01-03T03:00:00.000000000",
          "2015-01-03T04:00:00.000000000",
          "2015-01-03T05:00:00.000000000",
          "2015-01-03T06:00:00.000000000",
          "2015-01-03T07:00:00.000000000",
          "2015-01-03T08:00:00.000000000",
          "2015-01-03T09:00:00.000000000",
          "2015-01-03T10:00:00.000000000",
          "2015-01-03T11:00:00.000000000",
          "2015-01-03T12:00:00.000000000",
          "2015-01-03T13:00:00.000000000",
          "2015-01-03T14:00:00.000000000",
          "2015-01-03T15:00:00.000000000",
          "2015-01-03T16:00:00.000000000",
          "2015-01-03T17:00:00.000000000",
          "2015-01-03T18:00:00.000000000",
          "2015-01-03T19:00:00.000000000",
          "2015-01-03T20:00:00.000000000",
          "2015-01-03T21:00:00.000000000",
          "2015-01-03T22:00:00.000000000",
          "2015-01-03T23:00:00.000000000",
          "2015-01-04T00:00:00.000000000",
          "2015-01-04T01:00:00.000000000",
          "2015-01-04T02:00:00.000000000",
          "2015-01-04T03:00:00.000000000",
          "2015-01-04T04:00:00.000000000",
          "2015-01-04T05:00:00.000000000",
          "2015-01-04T06:00:00.000000000",
          "2015-01-04T07:00:00.000000000",
          "2015-01-04T08:00:00.000000000",
          "2015-01-04T09:00:00.000000000",
          "2015-01-04T10:00:00.000000000",
          "2015-01-04T11:00:00.000000000",
          "2015-01-04T12:00:00.000000000",
          "2015-01-04T13:00:00.000000000",
          "2015-01-04T14:00:00.000000000",
          "2015-01-04T15:00:00.000000000",
          "2015-01-04T16:00:00.000000000",
          "2015-01-04T17:00:00.000000000",
          "2015-01-04T18:00:00.000000000",
          "2015-01-04T19:00:00.000000000",
          "2015-01-04T20:00:00.000000000",
          "2015-01-04T21:00:00.000000000",
          "2015-01-04T22:00:00.000000000",
          "2015-01-04T23:00:00.000000000"
         ],
         "y": {
          "bdata": "AAAAAAAAAAAAAAAAAAAAAAAAAAAAAAAAAAAAAAAAAAAAAAAAAAAAAAAAAAAAAAAAAAAAAAAAAAAAAAAAAAAAAAAAAAAAAAAAAAAAAAAAAAAAAAAAAAAAAAAAAAAAAAAAAAAAAAAAAAAAAAAAAAAAAAAAAAAAAAAAAAAAAAAAAAAAAAAAAAAAAAAAAAAAAAAAAAAAAAAAAAAAAAAAAAAAAAAAAAAAAAAAAAAAAAAAAAAAAAAAAAAAAAAAAAAAAAAAAAAAAAAAAAAAAAAAAAAAAAAAAAAAAAAAAAAAAAAAAAAAAAAAAAAAAAAAAAAAAAAAAAAAAAAAAAAAAAAAAAAAAAAAAAAAAAAAAAAAAAAAAAAAAAAAAAAAAAAAAAAAAAAAAAAAAAAAAAAAAAAAAAAAAAAAAAAAAAAAAAAAAAAAAAAAAAAAAAAAAAAAAAAAAAAAAAAAAAAAAAAAAAAAAAAAAAAAAAAAAAAAAAAAAAAAAAAAAAAAAAAAAAAAAAAAAAAAAAAAAAAAAAAAAAAAAAAAAAAAAAAAAAAAAAAAAAAAAAAAAAAAAAAAAAAAAAAAAAAAAAAAAAAAAAAAAAAAAAAAAAAAAAAAAAAAAAAAAAAAAAAAAAAAAAAAAAAAAAAAAAAAAAAAAAAAAAAAAAAAAAAAAAAAAAAAAAAAAAAAAAAAAAAAAAAAAAAAAAAAAAAAAAAAAAAAAAAAAAAAAAAAAAAAAAAAAAAAAAAAAAAAAAAAAAAAAAAAAAAAAAAAAAAAAAAAAAAAAAAAAAAAAAAAAAAAAAAAAAAAAAAAAAAAAAAAAAAAAAAAAAAAAAAAAAAAAAAAAAAAAAAAAAAAAAAAAAAAAAAAAAAAAAAAAAAAAAAAAAAAAAAAAAAAAAAAAAAAAAAAAAAAAAAAAAAAAAAAAAAAAAAAAAAAAAAAAAAAAAAAAAAAAAAAAAAAAAAAAAAAAAAAAAAAAAAAAAAAAAAAAAAAAAAAAAAAAAAAAAAAAAAAAAAAAAAAAAAAAAAAAAAAAAAA",
          "dtype": "f8"
         }
        }
       ],
       "layout": {
        "legend": {
         "traceorder": "normal",
         "x": 0,
         "y": 1
        },
        "template": {
         "data": {
          "bar": [
           {
            "error_x": {
             "color": "#2a3f5f"
            },
            "error_y": {
             "color": "#2a3f5f"
            },
            "marker": {
             "line": {
              "color": "#E5ECF6",
              "width": 0.5
             },
             "pattern": {
              "fillmode": "overlay",
              "size": 10,
              "solidity": 0.2
             }
            },
            "type": "bar"
           }
          ],
          "barpolar": [
           {
            "marker": {
             "line": {
              "color": "#E5ECF6",
              "width": 0.5
             },
             "pattern": {
              "fillmode": "overlay",
              "size": 10,
              "solidity": 0.2
             }
            },
            "type": "barpolar"
           }
          ],
          "carpet": [
           {
            "aaxis": {
             "endlinecolor": "#2a3f5f",
             "gridcolor": "white",
             "linecolor": "white",
             "minorgridcolor": "white",
             "startlinecolor": "#2a3f5f"
            },
            "baxis": {
             "endlinecolor": "#2a3f5f",
             "gridcolor": "white",
             "linecolor": "white",
             "minorgridcolor": "white",
             "startlinecolor": "#2a3f5f"
            },
            "type": "carpet"
           }
          ],
          "choropleth": [
           {
            "colorbar": {
             "outlinewidth": 0,
             "ticks": ""
            },
            "type": "choropleth"
           }
          ],
          "contour": [
           {
            "colorbar": {
             "outlinewidth": 0,
             "ticks": ""
            },
            "colorscale": [
             [
              0,
              "#0d0887"
             ],
             [
              0.1111111111111111,
              "#46039f"
             ],
             [
              0.2222222222222222,
              "#7201a8"
             ],
             [
              0.3333333333333333,
              "#9c179e"
             ],
             [
              0.4444444444444444,
              "#bd3786"
             ],
             [
              0.5555555555555556,
              "#d8576b"
             ],
             [
              0.6666666666666666,
              "#ed7953"
             ],
             [
              0.7777777777777778,
              "#fb9f3a"
             ],
             [
              0.8888888888888888,
              "#fdca26"
             ],
             [
              1,
              "#f0f921"
             ]
            ],
            "type": "contour"
           }
          ],
          "contourcarpet": [
           {
            "colorbar": {
             "outlinewidth": 0,
             "ticks": ""
            },
            "type": "contourcarpet"
           }
          ],
          "heatmap": [
           {
            "colorbar": {
             "outlinewidth": 0,
             "ticks": ""
            },
            "colorscale": [
             [
              0,
              "#0d0887"
             ],
             [
              0.1111111111111111,
              "#46039f"
             ],
             [
              0.2222222222222222,
              "#7201a8"
             ],
             [
              0.3333333333333333,
              "#9c179e"
             ],
             [
              0.4444444444444444,
              "#bd3786"
             ],
             [
              0.5555555555555556,
              "#d8576b"
             ],
             [
              0.6666666666666666,
              "#ed7953"
             ],
             [
              0.7777777777777778,
              "#fb9f3a"
             ],
             [
              0.8888888888888888,
              "#fdca26"
             ],
             [
              1,
              "#f0f921"
             ]
            ],
            "type": "heatmap"
           }
          ],
          "histogram": [
           {
            "marker": {
             "pattern": {
              "fillmode": "overlay",
              "size": 10,
              "solidity": 0.2
             }
            },
            "type": "histogram"
           }
          ],
          "histogram2d": [
           {
            "colorbar": {
             "outlinewidth": 0,
             "ticks": ""
            },
            "colorscale": [
             [
              0,
              "#0d0887"
             ],
             [
              0.1111111111111111,
              "#46039f"
             ],
             [
              0.2222222222222222,
              "#7201a8"
             ],
             [
              0.3333333333333333,
              "#9c179e"
             ],
             [
              0.4444444444444444,
              "#bd3786"
             ],
             [
              0.5555555555555556,
              "#d8576b"
             ],
             [
              0.6666666666666666,
              "#ed7953"
             ],
             [
              0.7777777777777778,
              "#fb9f3a"
             ],
             [
              0.8888888888888888,
              "#fdca26"
             ],
             [
              1,
              "#f0f921"
             ]
            ],
            "type": "histogram2d"
           }
          ],
          "histogram2dcontour": [
           {
            "colorbar": {
             "outlinewidth": 0,
             "ticks": ""
            },
            "colorscale": [
             [
              0,
              "#0d0887"
             ],
             [
              0.1111111111111111,
              "#46039f"
             ],
             [
              0.2222222222222222,
              "#7201a8"
             ],
             [
              0.3333333333333333,
              "#9c179e"
             ],
             [
              0.4444444444444444,
              "#bd3786"
             ],
             [
              0.5555555555555556,
              "#d8576b"
             ],
             [
              0.6666666666666666,
              "#ed7953"
             ],
             [
              0.7777777777777778,
              "#fb9f3a"
             ],
             [
              0.8888888888888888,
              "#fdca26"
             ],
             [
              1,
              "#f0f921"
             ]
            ],
            "type": "histogram2dcontour"
           }
          ],
          "mesh3d": [
           {
            "colorbar": {
             "outlinewidth": 0,
             "ticks": ""
            },
            "type": "mesh3d"
           }
          ],
          "parcoords": [
           {
            "line": {
             "colorbar": {
              "outlinewidth": 0,
              "ticks": ""
             }
            },
            "type": "parcoords"
           }
          ],
          "pie": [
           {
            "automargin": true,
            "type": "pie"
           }
          ],
          "scatter": [
           {
            "fillpattern": {
             "fillmode": "overlay",
             "size": 10,
             "solidity": 0.2
            },
            "type": "scatter"
           }
          ],
          "scatter3d": [
           {
            "line": {
             "colorbar": {
              "outlinewidth": 0,
              "ticks": ""
             }
            },
            "marker": {
             "colorbar": {
              "outlinewidth": 0,
              "ticks": ""
             }
            },
            "type": "scatter3d"
           }
          ],
          "scattercarpet": [
           {
            "marker": {
             "colorbar": {
              "outlinewidth": 0,
              "ticks": ""
             }
            },
            "type": "scattercarpet"
           }
          ],
          "scattergeo": [
           {
            "marker": {
             "colorbar": {
              "outlinewidth": 0,
              "ticks": ""
             }
            },
            "type": "scattergeo"
           }
          ],
          "scattergl": [
           {
            "marker": {
             "colorbar": {
              "outlinewidth": 0,
              "ticks": ""
             }
            },
            "type": "scattergl"
           }
          ],
          "scattermap": [
           {
            "marker": {
             "colorbar": {
              "outlinewidth": 0,
              "ticks": ""
             }
            },
            "type": "scattermap"
           }
          ],
          "scattermapbox": [
           {
            "marker": {
             "colorbar": {
              "outlinewidth": 0,
              "ticks": ""
             }
            },
            "type": "scattermapbox"
           }
          ],
          "scatterpolar": [
           {
            "marker": {
             "colorbar": {
              "outlinewidth": 0,
              "ticks": ""
             }
            },
            "type": "scatterpolar"
           }
          ],
          "scatterpolargl": [
           {
            "marker": {
             "colorbar": {
              "outlinewidth": 0,
              "ticks": ""
             }
            },
            "type": "scatterpolargl"
           }
          ],
          "scatterternary": [
           {
            "marker": {
             "colorbar": {
              "outlinewidth": 0,
              "ticks": ""
             }
            },
            "type": "scatterternary"
           }
          ],
          "surface": [
           {
            "colorbar": {
             "outlinewidth": 0,
             "ticks": ""
            },
            "colorscale": [
             [
              0,
              "#0d0887"
             ],
             [
              0.1111111111111111,
              "#46039f"
             ],
             [
              0.2222222222222222,
              "#7201a8"
             ],
             [
              0.3333333333333333,
              "#9c179e"
             ],
             [
              0.4444444444444444,
              "#bd3786"
             ],
             [
              0.5555555555555556,
              "#d8576b"
             ],
             [
              0.6666666666666666,
              "#ed7953"
             ],
             [
              0.7777777777777778,
              "#fb9f3a"
             ],
             [
              0.8888888888888888,
              "#fdca26"
             ],
             [
              1,
              "#f0f921"
             ]
            ],
            "type": "surface"
           }
          ],
          "table": [
           {
            "cells": {
             "fill": {
              "color": "#EBF0F8"
             },
             "line": {
              "color": "white"
             }
            },
            "header": {
             "fill": {
              "color": "#C8D4E3"
             },
             "line": {
              "color": "white"
             }
            },
            "type": "table"
           }
          ]
         },
         "layout": {
          "annotationdefaults": {
           "arrowcolor": "#2a3f5f",
           "arrowhead": 0,
           "arrowwidth": 1
          },
          "autotypenumbers": "strict",
          "coloraxis": {
           "colorbar": {
            "outlinewidth": 0,
            "ticks": ""
           }
          },
          "colorscale": {
           "diverging": [
            [
             0,
             "#8e0152"
            ],
            [
             0.1,
             "#c51b7d"
            ],
            [
             0.2,
             "#de77ae"
            ],
            [
             0.3,
             "#f1b6da"
            ],
            [
             0.4,
             "#fde0ef"
            ],
            [
             0.5,
             "#f7f7f7"
            ],
            [
             0.6,
             "#e6f5d0"
            ],
            [
             0.7,
             "#b8e186"
            ],
            [
             0.8,
             "#7fbc41"
            ],
            [
             0.9,
             "#4d9221"
            ],
            [
             1,
             "#276419"
            ]
           ],
           "sequential": [
            [
             0,
             "#0d0887"
            ],
            [
             0.1111111111111111,
             "#46039f"
            ],
            [
             0.2222222222222222,
             "#7201a8"
            ],
            [
             0.3333333333333333,
             "#9c179e"
            ],
            [
             0.4444444444444444,
             "#bd3786"
            ],
            [
             0.5555555555555556,
             "#d8576b"
            ],
            [
             0.6666666666666666,
             "#ed7953"
            ],
            [
             0.7777777777777778,
             "#fb9f3a"
            ],
            [
             0.8888888888888888,
             "#fdca26"
            ],
            [
             1,
             "#f0f921"
            ]
           ],
           "sequentialminus": [
            [
             0,
             "#0d0887"
            ],
            [
             0.1111111111111111,
             "#46039f"
            ],
            [
             0.2222222222222222,
             "#7201a8"
            ],
            [
             0.3333333333333333,
             "#9c179e"
            ],
            [
             0.4444444444444444,
             "#bd3786"
            ],
            [
             0.5555555555555556,
             "#d8576b"
            ],
            [
             0.6666666666666666,
             "#ed7953"
            ],
            [
             0.7777777777777778,
             "#fb9f3a"
            ],
            [
             0.8888888888888888,
             "#fdca26"
            ],
            [
             1,
             "#f0f921"
            ]
           ]
          },
          "colorway": [
           "#636efa",
           "#EF553B",
           "#00cc96",
           "#ab63fa",
           "#FFA15A",
           "#19d3f3",
           "#FF6692",
           "#B6E880",
           "#FF97FF",
           "#FECB52"
          ],
          "font": {
           "color": "#2a3f5f"
          },
          "geo": {
           "bgcolor": "white",
           "lakecolor": "white",
           "landcolor": "#E5ECF6",
           "showlakes": true,
           "showland": true,
           "subunitcolor": "white"
          },
          "hoverlabel": {
           "align": "left"
          },
          "hovermode": "closest",
          "mapbox": {
           "style": "light"
          },
          "paper_bgcolor": "white",
          "plot_bgcolor": "#E5ECF6",
          "polar": {
           "angularaxis": {
            "gridcolor": "white",
            "linecolor": "white",
            "ticks": ""
           },
           "bgcolor": "#E5ECF6",
           "radialaxis": {
            "gridcolor": "white",
            "linecolor": "white",
            "ticks": ""
           }
          },
          "scene": {
           "xaxis": {
            "backgroundcolor": "#E5ECF6",
            "gridcolor": "white",
            "gridwidth": 2,
            "linecolor": "white",
            "showbackground": true,
            "ticks": "",
            "zerolinecolor": "white"
           },
           "yaxis": {
            "backgroundcolor": "#E5ECF6",
            "gridcolor": "white",
            "gridwidth": 2,
            "linecolor": "white",
            "showbackground": true,
            "ticks": "",
            "zerolinecolor": "white"
           },
           "zaxis": {
            "backgroundcolor": "#E5ECF6",
            "gridcolor": "white",
            "gridwidth": 2,
            "linecolor": "white",
            "showbackground": true,
            "ticks": "",
            "zerolinecolor": "white"
           }
          },
          "shapedefaults": {
           "line": {
            "color": "#2a3f5f"
           }
          },
          "ternary": {
           "aaxis": {
            "gridcolor": "white",
            "linecolor": "white",
            "ticks": ""
           },
           "baxis": {
            "gridcolor": "white",
            "linecolor": "white",
            "ticks": ""
           },
           "bgcolor": "#E5ECF6",
           "caxis": {
            "gridcolor": "white",
            "linecolor": "white",
            "ticks": ""
           }
          },
          "title": {
           "x": 0.05
          },
          "xaxis": {
           "automargin": true,
           "gridcolor": "white",
           "linecolor": "white",
           "ticks": "",
           "title": {
            "standoff": 15
           },
           "zerolinecolor": "white",
           "zerolinewidth": 2
          },
          "yaxis": {
           "automargin": true,
           "gridcolor": "white",
           "linecolor": "white",
           "ticks": "",
           "title": {
            "standoff": 15
           },
           "zerolinecolor": "white",
           "zerolinewidth": 2
          }
         }
        },
        "title": {
         "text": "Electricity Dispatch Week 1 2015"
        },
        "xaxis": {
         "title": {
          "text": "Time"
         }
        },
        "yaxis": {
         "title": {
          "text": "Power (MW)"
         }
        }
       }
      }
     },
     "metadata": {},
     "output_type": "display_data"
    }
   ],
   "source": [
    "plot_dispatch_winter()"
   ]
  },
  {
   "cell_type": "markdown",
   "metadata": {},
   "source": [
    "# B)"
   ]
  },
  {
   "cell_type": "code",
   "execution_count": 11,
   "metadata": {},
   "outputs": [
    {
     "data": {
      "text/plain": [
       "Index(['co2_limit'], dtype='object')"
      ]
     },
     "execution_count": 11,
     "metadata": {},
     "output_type": "execute_result"
    }
   ],
   "source": [
    "# Add the CO2 constraint to the copied network\n",
    "co2_limit = 3000000  # tonCO2\n",
    "network.add(\"GlobalConstraint\",\n",
    "                 \"co2_limit\",\n",
    "                 type=\"primary_energy\",\n",
    "                 carrier_attribute=\"co2_emissions\",\n",
    "                 sense=\"<=\",\n",
    "                 constant=co2_limit,\n",
    "                 overwrite=True)"
   ]
  },
  {
   "cell_type": "code",
   "execution_count": 12,
   "metadata": {},
   "outputs": [
    {
     "name": "stdout",
     "output_type": "stream",
     "text": [
      "utc_time\n",
      "2015-01-01 00:00:00+00:00    2651.0\n",
      "2015-01-01 01:00:00+00:00    2412.0\n",
      "2015-01-01 02:00:00+00:00    2256.0\n",
      "2015-01-01 03:00:00+00:00    2170.0\n",
      "2015-01-01 04:00:00+00:00    2136.0\n",
      "Name: IRL, dtype: float64\n"
     ]
    },
    {
     "name": "stderr",
     "output_type": "stream",
     "text": [
      "WARNING:pypsa.consistency:The following buses have carriers which are not defined:\n",
      "Index(['electricity bus'], dtype='object', name='Bus')\n",
      "INFO:linopy.model: Solve problem using Gurobi solver\n",
      "INFO:linopy.model:Solver options:\n",
      " - OutputFlag: 0\n",
      "INFO:linopy.io:Writing objective.\n",
      "Writing constraints.: 100%|\u001b[38;2;128;191;255m██████████\u001b[0m| 6/6 [00:00<00:00, 24.31it/s]\n",
      "Writing continuous variables.: 100%|\u001b[38;2;128;191;255m██████████\u001b[0m| 2/2 [00:00<00:00, 49.29it/s]\n",
      "INFO:linopy.io: Writing time: 0.31s\n"
     ]
    },
    {
     "name": "stdout",
     "output_type": "stream",
     "text": [
      "Set parameter Username\n"
     ]
    },
    {
     "name": "stderr",
     "output_type": "stream",
     "text": [
      "INFO:gurobipy:Set parameter Username\n"
     ]
    },
    {
     "name": "stdout",
     "output_type": "stream",
     "text": [
      "Academic license - for non-commercial use only - expires 2025-10-16\n"
     ]
    },
    {
     "name": "stderr",
     "output_type": "stream",
     "text": [
      "INFO:gurobipy:Academic license - for non-commercial use only - expires 2025-10-16\n"
     ]
    },
    {
     "name": "stdout",
     "output_type": "stream",
     "text": [
      "Read LP format model from file /private/var/folders/j2/tx7xgp1d11n3lnbvkls0cjsw0000gn/T/linopy-problem-74db_b9v.lp\n"
     ]
    },
    {
     "name": "stderr",
     "output_type": "stream",
     "text": [
      "INFO:gurobipy:Read LP format model from file /private/var/folders/j2/tx7xgp1d11n3lnbvkls0cjsw0000gn/T/linopy-problem-74db_b9v.lp\n"
     ]
    },
    {
     "name": "stdout",
     "output_type": "stream",
     "text": [
      "Reading time = 0.13 seconds\n"
     ]
    },
    {
     "name": "stderr",
     "output_type": "stream",
     "text": [
      "INFO:gurobipy:Reading time = 0.13 seconds\n"
     ]
    },
    {
     "name": "stdout",
     "output_type": "stream",
     "text": [
      "obj: 131415 rows, 61327 columns, 267194 nonzeros\n"
     ]
    },
    {
     "name": "stderr",
     "output_type": "stream",
     "text": [
      "INFO:gurobipy:obj: 131415 rows, 61327 columns, 267194 nonzeros\n",
      "INFO:linopy.constants: Optimization successful: \n",
      "Status: ok\n",
      "Termination condition: optimal\n",
      "Solution: 61327 primals, 131415 duals\n",
      "Objective: 9.50e+11\n",
      "Solver model: available\n",
      "Solver message: 2\n",
      "\n",
      "INFO:pypsa.optimization.optimize:The shadow-prices of the constraints Generator-ext-p-lower, Generator-ext-p-upper were not assigned to the network.\n"
     ]
    },
    {
     "data": {
      "application/vnd.plotly.v1+json": {
       "config": {
        "plotlyServerURL": "https://plot.ly"
       },
       "data": [
        {
         "line": {
          "color": "black"
         },
         "mode": "lines",
         "name": "demand",
         "type": "scatter",
         "x": [
          "2015-01-01T00:00:00.000000000",
          "2015-01-01T01:00:00.000000000",
          "2015-01-01T02:00:00.000000000",
          "2015-01-01T03:00:00.000000000",
          "2015-01-01T04:00:00.000000000",
          "2015-01-01T05:00:00.000000000",
          "2015-01-01T06:00:00.000000000",
          "2015-01-01T07:00:00.000000000",
          "2015-01-01T08:00:00.000000000",
          "2015-01-01T09:00:00.000000000",
          "2015-01-01T10:00:00.000000000",
          "2015-01-01T11:00:00.000000000",
          "2015-01-01T12:00:00.000000000",
          "2015-01-01T13:00:00.000000000",
          "2015-01-01T14:00:00.000000000",
          "2015-01-01T15:00:00.000000000",
          "2015-01-01T16:00:00.000000000",
          "2015-01-01T17:00:00.000000000",
          "2015-01-01T18:00:00.000000000",
          "2015-01-01T19:00:00.000000000",
          "2015-01-01T20:00:00.000000000",
          "2015-01-01T21:00:00.000000000",
          "2015-01-01T22:00:00.000000000",
          "2015-01-01T23:00:00.000000000",
          "2015-01-02T00:00:00.000000000",
          "2015-01-02T01:00:00.000000000",
          "2015-01-02T02:00:00.000000000",
          "2015-01-02T03:00:00.000000000",
          "2015-01-02T04:00:00.000000000",
          "2015-01-02T05:00:00.000000000",
          "2015-01-02T06:00:00.000000000",
          "2015-01-02T07:00:00.000000000",
          "2015-01-02T08:00:00.000000000",
          "2015-01-02T09:00:00.000000000",
          "2015-01-02T10:00:00.000000000",
          "2015-01-02T11:00:00.000000000",
          "2015-01-02T12:00:00.000000000",
          "2015-01-02T13:00:00.000000000",
          "2015-01-02T14:00:00.000000000",
          "2015-01-02T15:00:00.000000000",
          "2015-01-02T16:00:00.000000000",
          "2015-01-02T17:00:00.000000000",
          "2015-01-02T18:00:00.000000000",
          "2015-01-02T19:00:00.000000000",
          "2015-01-02T20:00:00.000000000",
          "2015-01-02T21:00:00.000000000",
          "2015-01-02T22:00:00.000000000",
          "2015-01-02T23:00:00.000000000",
          "2015-01-03T00:00:00.000000000",
          "2015-01-03T01:00:00.000000000",
          "2015-01-03T02:00:00.000000000",
          "2015-01-03T03:00:00.000000000",
          "2015-01-03T04:00:00.000000000",
          "2015-01-03T05:00:00.000000000",
          "2015-01-03T06:00:00.000000000",
          "2015-01-03T07:00:00.000000000",
          "2015-01-03T08:00:00.000000000",
          "2015-01-03T09:00:00.000000000",
          "2015-01-03T10:00:00.000000000",
          "2015-01-03T11:00:00.000000000",
          "2015-01-03T12:00:00.000000000",
          "2015-01-03T13:00:00.000000000",
          "2015-01-03T14:00:00.000000000",
          "2015-01-03T15:00:00.000000000",
          "2015-01-03T16:00:00.000000000",
          "2015-01-03T17:00:00.000000000",
          "2015-01-03T18:00:00.000000000",
          "2015-01-03T19:00:00.000000000",
          "2015-01-03T20:00:00.000000000",
          "2015-01-03T21:00:00.000000000",
          "2015-01-03T22:00:00.000000000",
          "2015-01-03T23:00:00.000000000",
          "2015-01-04T00:00:00.000000000",
          "2015-01-04T01:00:00.000000000",
          "2015-01-04T02:00:00.000000000",
          "2015-01-04T03:00:00.000000000",
          "2015-01-04T04:00:00.000000000",
          "2015-01-04T05:00:00.000000000",
          "2015-01-04T06:00:00.000000000",
          "2015-01-04T07:00:00.000000000",
          "2015-01-04T08:00:00.000000000",
          "2015-01-04T09:00:00.000000000",
          "2015-01-04T10:00:00.000000000",
          "2015-01-04T11:00:00.000000000",
          "2015-01-04T12:00:00.000000000",
          "2015-01-04T13:00:00.000000000",
          "2015-01-04T14:00:00.000000000",
          "2015-01-04T15:00:00.000000000",
          "2015-01-04T16:00:00.000000000",
          "2015-01-04T17:00:00.000000000",
          "2015-01-04T18:00:00.000000000",
          "2015-01-04T19:00:00.000000000",
          "2015-01-04T20:00:00.000000000",
          "2015-01-04T21:00:00.000000000",
          "2015-01-04T22:00:00.000000000",
          "2015-01-04T23:00:00.000000000"
         ],
         "y": {
          "bdata": "AAAAAAC2pEAAAAAAANiiQAAAAAAAoKFAAAAAAAD0oEAAAAAAALCgQAAAAAAA8qBAAAAAAABeoUAAAAAAAHShQAAAAAAATqJAAAAAAAB+pEAAAAAAAKqmQAAAAAAAlKhAAAAAAABEqUAAAAAAAJSoQAAAAAAAZKhAAAAAAACAqUAAAAAAAFKrQAAAAAAAEKtAAAAAAAAyqkAAAAAAAAapQAAAAAAA/KdAAAAAAACqpkAAAAAAAJamQAAAAAAAKKVAAAAAAAAoo0AAAAAAALShQAAAAAAA7qBAAAAAAACMoEAAAAAAALSgQAAAAAAAqKFAAAAAAABWo0AAAAAAAAilQAAAAAAA8qZAAAAAAADuqEAAAAAAABiqQAAAAAAAdqpAAAAAAABYqkAAAAAAAMipQAAAAAAAyqlAAAAAAADMq0AAAAAAAFyvQAAAAAAARq9AAAAAAADIrUAAAAAAAPirQAAAAAAAbKpAAAAAAACKqEAAAAAAACCoQAAAAAAAJqZAAAAAAAAqpEAAAAAAALyiQAAAAAAAtKFAAAAAAAAWoUAAAAAAAOagQAAAAAAAjqFAAAAAAACqokAAAAAAAMajQAAAAAAAsqVAAAAAAADCp0AAAAAAAPqoQAAAAAAAoKlAAAAAAACYqUAAAAAAABSpQAAAAAAAAKlAAAAAAACuqkAAAAAAAIKuQAAAAAAAkq5AAAAAAAAgrUAAAAAAAIarQAAAAAAA2KlAAAAAAAAYqEAAAAAAAPKnQAAAAAAAhKZAAAAAAACQpEAAAAAAAPSiQAAAAAAA4qFAAAAAAABYoUAAAAAAAPqgQAAAAAAAQKFAAAAAAAC+oUAAAAAAAByiQAAAAAAAdqNAAAAAAACypUAAAAAAAISnQAAAAAAAGKlAAAAAAAC0qUAAAAAAAEqpQAAAAAAA4qhAAAAAAAAIqkAAAAAAAHCtQAAAAAAA4q1AAAAAAAC8rEAAAAAAAHqrQAAAAAAA1qlAAAAAAACKp0AAAAAAAKSmQAAAAAAA3qRA",
          "dtype": "f8"
         }
        },
        {
         "line": {
          "color": "blue"
         },
         "mode": "lines",
         "name": "onshore wind",
         "type": "scatter",
         "x": [
          "2015-01-01T00:00:00.000000000",
          "2015-01-01T01:00:00.000000000",
          "2015-01-01T02:00:00.000000000",
          "2015-01-01T03:00:00.000000000",
          "2015-01-01T04:00:00.000000000",
          "2015-01-01T05:00:00.000000000",
          "2015-01-01T06:00:00.000000000",
          "2015-01-01T07:00:00.000000000",
          "2015-01-01T08:00:00.000000000",
          "2015-01-01T09:00:00.000000000",
          "2015-01-01T10:00:00.000000000",
          "2015-01-01T11:00:00.000000000",
          "2015-01-01T12:00:00.000000000",
          "2015-01-01T13:00:00.000000000",
          "2015-01-01T14:00:00.000000000",
          "2015-01-01T15:00:00.000000000",
          "2015-01-01T16:00:00.000000000",
          "2015-01-01T17:00:00.000000000",
          "2015-01-01T18:00:00.000000000",
          "2015-01-01T19:00:00.000000000",
          "2015-01-01T20:00:00.000000000",
          "2015-01-01T21:00:00.000000000",
          "2015-01-01T22:00:00.000000000",
          "2015-01-01T23:00:00.000000000",
          "2015-01-02T00:00:00.000000000",
          "2015-01-02T01:00:00.000000000",
          "2015-01-02T02:00:00.000000000",
          "2015-01-02T03:00:00.000000000",
          "2015-01-02T04:00:00.000000000",
          "2015-01-02T05:00:00.000000000",
          "2015-01-02T06:00:00.000000000",
          "2015-01-02T07:00:00.000000000",
          "2015-01-02T08:00:00.000000000",
          "2015-01-02T09:00:00.000000000",
          "2015-01-02T10:00:00.000000000",
          "2015-01-02T11:00:00.000000000",
          "2015-01-02T12:00:00.000000000",
          "2015-01-02T13:00:00.000000000",
          "2015-01-02T14:00:00.000000000",
          "2015-01-02T15:00:00.000000000",
          "2015-01-02T16:00:00.000000000",
          "2015-01-02T17:00:00.000000000",
          "2015-01-02T18:00:00.000000000",
          "2015-01-02T19:00:00.000000000",
          "2015-01-02T20:00:00.000000000",
          "2015-01-02T21:00:00.000000000",
          "2015-01-02T22:00:00.000000000",
          "2015-01-02T23:00:00.000000000",
          "2015-01-03T00:00:00.000000000",
          "2015-01-03T01:00:00.000000000",
          "2015-01-03T02:00:00.000000000",
          "2015-01-03T03:00:00.000000000",
          "2015-01-03T04:00:00.000000000",
          "2015-01-03T05:00:00.000000000",
          "2015-01-03T06:00:00.000000000",
          "2015-01-03T07:00:00.000000000",
          "2015-01-03T08:00:00.000000000",
          "2015-01-03T09:00:00.000000000",
          "2015-01-03T10:00:00.000000000",
          "2015-01-03T11:00:00.000000000",
          "2015-01-03T12:00:00.000000000",
          "2015-01-03T13:00:00.000000000",
          "2015-01-03T14:00:00.000000000",
          "2015-01-03T15:00:00.000000000",
          "2015-01-03T16:00:00.000000000",
          "2015-01-03T17:00:00.000000000",
          "2015-01-03T18:00:00.000000000",
          "2015-01-03T19:00:00.000000000",
          "2015-01-03T20:00:00.000000000",
          "2015-01-03T21:00:00.000000000",
          "2015-01-03T22:00:00.000000000",
          "2015-01-03T23:00:00.000000000",
          "2015-01-04T00:00:00.000000000",
          "2015-01-04T01:00:00.000000000",
          "2015-01-04T02:00:00.000000000",
          "2015-01-04T03:00:00.000000000",
          "2015-01-04T04:00:00.000000000",
          "2015-01-04T05:00:00.000000000",
          "2015-01-04T06:00:00.000000000",
          "2015-01-04T07:00:00.000000000",
          "2015-01-04T08:00:00.000000000",
          "2015-01-04T09:00:00.000000000",
          "2015-01-04T10:00:00.000000000",
          "2015-01-04T11:00:00.000000000",
          "2015-01-04T12:00:00.000000000",
          "2015-01-04T13:00:00.000000000",
          "2015-01-04T14:00:00.000000000",
          "2015-01-04T15:00:00.000000000",
          "2015-01-04T16:00:00.000000000",
          "2015-01-04T17:00:00.000000000",
          "2015-01-04T18:00:00.000000000",
          "2015-01-04T19:00:00.000000000",
          "2015-01-04T20:00:00.000000000",
          "2015-01-04T21:00:00.000000000",
          "2015-01-04T22:00:00.000000000",
          "2015-01-04T23:00:00.000000000"
         ],
         "y": {
          "bdata": "+q1U/StioEBC+41nyDKeQAplPvKWK59AAAAAAAD0oEAAAAAAALCgQAAAAAAA8qBAAAAAAABeoUAAAAAAAHShQAAAAAAATqJAAAAAAAB+pEAAAAAAAKqmQAAAAAAAlKhAerXDbFjaqEAAAAAAAJSoQAAAAAAAZKhA2zlXQakPqUD8ZYjdbiGpQL9ur4YQjKlA4JrgItadqUAAAAAAAAapQAAAAAAA/KdAAAAAAACqpkAAAAAAAJamQAAAAAAAKKVAAAAAAAAoo0AAAAAAALShQAAAAAAA7qBAAAAAAACMoEAAAAAAALSgQGvp0cbnYJ9AmSnBKNssoECoBJGtpJaaQG6SJ8jRL5dAlaRRt0/+k0ByF5c5XV6TQBdVFihmRZRAYye/A45EnkCfQn7qSnqZQHnZqfy2epRAqq3mro5lkkCKgbUSyVOSQIqBtRLJU5JAnmZkeqkalUBUTO9+xNqTQP4O3t5Y8JBAef2PjBUbkEBs6dHG52CPQC7y+G+Jy49AwG6vhhCMiUDkH1CUYcyFQAwyeoPfmoJAKNk7rhl+dkAQkwNlDClzQKgodz0DN3ZAulXyxKA+gECSQ8jVInCDQCYw5qwvr45AlPv7tWUvjEDgvsayND6FQGeISOW60n5A/w7e3ljwcEC3rJzDtm9oQK/qiQBdU2dAv26vhhCMaUDEzzhoPRpqQK/qiQBdU2dAef2PjBUbYEB5/Y+MFRtgQKcodz0DN2ZAsIkAHzDFZkDwOA1W0RlvQBD0jEY5t3NAqIkAHzDFdkAgFynrv2F1QJgF25h8jHRApMftW9aodUCw6okAXVN3QESA/dhTYXpAlKRRt0/+c0DEzzhoPRp6QFxlrEA0KH1AyHiOaSfpgUB087Cp/r2HQBzahZnxc5BAulXyxKA+kEAknJhcS5CRQMIXBYj6WpFAvrZ7ps3MkEC+tnumzcyQQIYgLDGcxZFAvrZ7ps3MkEAsXqsfpaySQLoxDDVCnpRAhvxFoT0llkARbx3VrYiXQNN3RH5P85dA",
          "dtype": "f8"
         }
        },
        {
         "line": {
          "color": "orange"
         },
         "mode": "lines",
         "name": "solar",
         "type": "scatter",
         "x": [
          "2015-01-01T00:00:00.000000000",
          "2015-01-01T01:00:00.000000000",
          "2015-01-01T02:00:00.000000000",
          "2015-01-01T03:00:00.000000000",
          "2015-01-01T04:00:00.000000000",
          "2015-01-01T05:00:00.000000000",
          "2015-01-01T06:00:00.000000000",
          "2015-01-01T07:00:00.000000000",
          "2015-01-01T08:00:00.000000000",
          "2015-01-01T09:00:00.000000000",
          "2015-01-01T10:00:00.000000000",
          "2015-01-01T11:00:00.000000000",
          "2015-01-01T12:00:00.000000000",
          "2015-01-01T13:00:00.000000000",
          "2015-01-01T14:00:00.000000000",
          "2015-01-01T15:00:00.000000000",
          "2015-01-01T16:00:00.000000000",
          "2015-01-01T17:00:00.000000000",
          "2015-01-01T18:00:00.000000000",
          "2015-01-01T19:00:00.000000000",
          "2015-01-01T20:00:00.000000000",
          "2015-01-01T21:00:00.000000000",
          "2015-01-01T22:00:00.000000000",
          "2015-01-01T23:00:00.000000000",
          "2015-01-02T00:00:00.000000000",
          "2015-01-02T01:00:00.000000000",
          "2015-01-02T02:00:00.000000000",
          "2015-01-02T03:00:00.000000000",
          "2015-01-02T04:00:00.000000000",
          "2015-01-02T05:00:00.000000000",
          "2015-01-02T06:00:00.000000000",
          "2015-01-02T07:00:00.000000000",
          "2015-01-02T08:00:00.000000000",
          "2015-01-02T09:00:00.000000000",
          "2015-01-02T10:00:00.000000000",
          "2015-01-02T11:00:00.000000000",
          "2015-01-02T12:00:00.000000000",
          "2015-01-02T13:00:00.000000000",
          "2015-01-02T14:00:00.000000000",
          "2015-01-02T15:00:00.000000000",
          "2015-01-02T16:00:00.000000000",
          "2015-01-02T17:00:00.000000000",
          "2015-01-02T18:00:00.000000000",
          "2015-01-02T19:00:00.000000000",
          "2015-01-02T20:00:00.000000000",
          "2015-01-02T21:00:00.000000000",
          "2015-01-02T22:00:00.000000000",
          "2015-01-02T23:00:00.000000000",
          "2015-01-03T00:00:00.000000000",
          "2015-01-03T01:00:00.000000000",
          "2015-01-03T02:00:00.000000000",
          "2015-01-03T03:00:00.000000000",
          "2015-01-03T04:00:00.000000000",
          "2015-01-03T05:00:00.000000000",
          "2015-01-03T06:00:00.000000000",
          "2015-01-03T07:00:00.000000000",
          "2015-01-03T08:00:00.000000000",
          "2015-01-03T09:00:00.000000000",
          "2015-01-03T10:00:00.000000000",
          "2015-01-03T11:00:00.000000000",
          "2015-01-03T12:00:00.000000000",
          "2015-01-03T13:00:00.000000000",
          "2015-01-03T14:00:00.000000000",
          "2015-01-03T15:00:00.000000000",
          "2015-01-03T16:00:00.000000000",
          "2015-01-03T17:00:00.000000000",
          "2015-01-03T18:00:00.000000000",
          "2015-01-03T19:00:00.000000000",
          "2015-01-03T20:00:00.000000000",
          "2015-01-03T21:00:00.000000000",
          "2015-01-03T22:00:00.000000000",
          "2015-01-03T23:00:00.000000000",
          "2015-01-04T00:00:00.000000000",
          "2015-01-04T01:00:00.000000000",
          "2015-01-04T02:00:00.000000000",
          "2015-01-04T03:00:00.000000000",
          "2015-01-04T04:00:00.000000000",
          "2015-01-04T05:00:00.000000000",
          "2015-01-04T06:00:00.000000000",
          "2015-01-04T07:00:00.000000000",
          "2015-01-04T08:00:00.000000000",
          "2015-01-04T09:00:00.000000000",
          "2015-01-04T10:00:00.000000000",
          "2015-01-04T11:00:00.000000000",
          "2015-01-04T12:00:00.000000000",
          "2015-01-04T13:00:00.000000000",
          "2015-01-04T14:00:00.000000000",
          "2015-01-04T15:00:00.000000000",
          "2015-01-04T16:00:00.000000000",
          "2015-01-04T17:00:00.000000000",
          "2015-01-04T18:00:00.000000000",
          "2015-01-04T19:00:00.000000000",
          "2015-01-04T20:00:00.000000000",
          "2015-01-04T21:00:00.000000000",
          "2015-01-04T22:00:00.000000000",
          "2015-01-04T23:00:00.000000000"
         ],
         "y": {
          "bdata": "AAAAAAAAAAAAAAAAAAAAAAAAAAAAAAAAAAAAAAAAAAAAAAAAAAAAAAAAAAAAAAAAAAAAAAAAAAAAAAAAAAAAAAAAAAAAAAAAAAAAAAAAAAAAAAAAAAAAAAAAAAAAAAAAAAAAAAAAAAAAAAAAAAAAAAAAAAAAAAAAAAAAAAAAAAAAAAAAAAAAAAAAAAAAAAAAAAAAAAAAAAAAAAAAAAAAAAAAAAAAAAAAAAAAAAAAAAAAAAAAAAAAAAAAAAAAAAAAAAAAAAAAAAAAAAAAAAAAAAAAAAAAAAAAAAAAAAAAAAAAAAAAAAAAAAAAAAAAAAAAAAAAAAAAAAAAAAAAAAAAAAAAAAAAAAAAAAAAAAAAAAAAAAAAAAAAAAAAAAAAAAAAAAAAAAAAAAAAAAAAAAAAAAAAAAAAAAAAAAAAAAAAAAAAAAAAAAAAAAAAAAAAAAAAAAAAAAAAAAAAAAAAAAAAAAAAAAAAAAAAAAAAAAAAAAAAAAAAAAAAAAAAAAAAAAAAAAAAAAAAAAAAAAAAAAAAAAAAAAAAAAAAAAAAAAAAAAAAAAAAAAAAAAAAAAAAAAAAAAAAAAAAAAAAAAAAAAAAAAAAAAAAAAAAAAAAAAAAAAAAAAAAAAAAAAAAAAAAAAAAAAAAAAAAAAAAAAAAAAAAAAAAAAAAAAAAAAAAAAAAAAAAAAAAAAAAAAAAAAAAAAAAAAAAAAAAAAAAAAAAAAAAAAAAAAAAAAAAAAAAAAAAAAAAAAAAAAAAAAAAAAAAAAAAAAAAAAAAAAAAAAAAAAAAAAAAAAAAAAAAAAAAAAAAAAAAAAAAAAAAAAAAAAAAAAAAAAAAAAAAAAAAAAAAAAAAAAAAAAAAAAAAAAAAAAAAAAAAAAAAAAAAAAAAAAAAAAAAAAAAAAAAAAAAAAAAAAAAAAAAAAAAAAAAAAAAAAAAAAAAAAAAAAAAAAAAAAAAAAAAAAAAAAAAAAAAAAAAAAAAAAAAAAAAAAAAAAAAAAAAAAAAAAAAAAAAAAAAAAAAAAAA",
          "dtype": "f8"
         }
        },
        {
         "line": {
          "color": "brown"
         },
         "mode": "lines",
         "name": "gas (OCGT)",
         "type": "scatter",
         "x": [
          "2015-01-01T00:00:00.000000000",
          "2015-01-01T01:00:00.000000000",
          "2015-01-01T02:00:00.000000000",
          "2015-01-01T03:00:00.000000000",
          "2015-01-01T04:00:00.000000000",
          "2015-01-01T05:00:00.000000000",
          "2015-01-01T06:00:00.000000000",
          "2015-01-01T07:00:00.000000000",
          "2015-01-01T08:00:00.000000000",
          "2015-01-01T09:00:00.000000000",
          "2015-01-01T10:00:00.000000000",
          "2015-01-01T11:00:00.000000000",
          "2015-01-01T12:00:00.000000000",
          "2015-01-01T13:00:00.000000000",
          "2015-01-01T14:00:00.000000000",
          "2015-01-01T15:00:00.000000000",
          "2015-01-01T16:00:00.000000000",
          "2015-01-01T17:00:00.000000000",
          "2015-01-01T18:00:00.000000000",
          "2015-01-01T19:00:00.000000000",
          "2015-01-01T20:00:00.000000000",
          "2015-01-01T21:00:00.000000000",
          "2015-01-01T22:00:00.000000000",
          "2015-01-01T23:00:00.000000000",
          "2015-01-02T00:00:00.000000000",
          "2015-01-02T01:00:00.000000000",
          "2015-01-02T02:00:00.000000000",
          "2015-01-02T03:00:00.000000000",
          "2015-01-02T04:00:00.000000000",
          "2015-01-02T05:00:00.000000000",
          "2015-01-02T06:00:00.000000000",
          "2015-01-02T07:00:00.000000000",
          "2015-01-02T08:00:00.000000000",
          "2015-01-02T09:00:00.000000000",
          "2015-01-02T10:00:00.000000000",
          "2015-01-02T11:00:00.000000000",
          "2015-01-02T12:00:00.000000000",
          "2015-01-02T13:00:00.000000000",
          "2015-01-02T14:00:00.000000000",
          "2015-01-02T15:00:00.000000000",
          "2015-01-02T16:00:00.000000000",
          "2015-01-02T17:00:00.000000000",
          "2015-01-02T18:00:00.000000000",
          "2015-01-02T19:00:00.000000000",
          "2015-01-02T20:00:00.000000000",
          "2015-01-02T21:00:00.000000000",
          "2015-01-02T22:00:00.000000000",
          "2015-01-02T23:00:00.000000000",
          "2015-01-03T00:00:00.000000000",
          "2015-01-03T01:00:00.000000000",
          "2015-01-03T02:00:00.000000000",
          "2015-01-03T03:00:00.000000000",
          "2015-01-03T04:00:00.000000000",
          "2015-01-03T05:00:00.000000000",
          "2015-01-03T06:00:00.000000000",
          "2015-01-03T07:00:00.000000000",
          "2015-01-03T08:00:00.000000000",
          "2015-01-03T09:00:00.000000000",
          "2015-01-03T10:00:00.000000000",
          "2015-01-03T11:00:00.000000000",
          "2015-01-03T12:00:00.000000000",
          "2015-01-03T13:00:00.000000000",
          "2015-01-03T14:00:00.000000000",
          "2015-01-03T15:00:00.000000000",
          "2015-01-03T16:00:00.000000000",
          "2015-01-03T17:00:00.000000000",
          "2015-01-03T18:00:00.000000000",
          "2015-01-03T19:00:00.000000000",
          "2015-01-03T20:00:00.000000000",
          "2015-01-03T21:00:00.000000000",
          "2015-01-03T22:00:00.000000000",
          "2015-01-03T23:00:00.000000000",
          "2015-01-04T00:00:00.000000000",
          "2015-01-04T01:00:00.000000000",
          "2015-01-04T02:00:00.000000000",
          "2015-01-04T03:00:00.000000000",
          "2015-01-04T04:00:00.000000000",
          "2015-01-04T05:00:00.000000000",
          "2015-01-04T06:00:00.000000000",
          "2015-01-04T07:00:00.000000000",
          "2015-01-04T08:00:00.000000000",
          "2015-01-04T09:00:00.000000000",
          "2015-01-04T10:00:00.000000000",
          "2015-01-04T11:00:00.000000000",
          "2015-01-04T12:00:00.000000000",
          "2015-01-04T13:00:00.000000000",
          "2015-01-04T14:00:00.000000000",
          "2015-01-04T15:00:00.000000000",
          "2015-01-04T16:00:00.000000000",
          "2015-01-04T17:00:00.000000000",
          "2015-01-04T18:00:00.000000000",
          "2015-01-04T19:00:00.000000000",
          "2015-01-04T20:00:00.000000000",
          "2015-01-04T21:00:00.000000000",
          "2015-01-04T22:00:00.000000000",
          "2015-01-04T23:00:00.000000000"
         ],
         "y": {
          "bdata": "LJBaFaA+fkD3Eshh3pR5QLPXDG5I42dAAAAAAAAAAAAAAAAAAAAAAAAAAAAAAAAAAAAAAAAAAAAAAAAAAAAAAAAAAAAAAAAAAAAAAAAAAAAAAAAAAAAAAAAAAAAAAAAAAAAAAAAAAAAAAAAAAAAAAAAAAAAAAAAAAAAAAAAAAABAoHknEklqQBgoEirv/V5Ac0DKPrpTEEAAAAAAAAAAAAAAAAAAAAAAAAAAAAAAAAAAAAAAAAAAAAAAAAAAAAAAAAAAAAAAAAAAAAAAAAAAAAAAAAAAAAAAAAAAAAAAAAAAAAAAAAAAAKa0cMnBuGZANbP2uSbpdECx9t2ktsKMQJJt2DcunJVAa1uuSLDFnECO6GjGormfQOmq6deZjp9AndhA/HFTlUBhvYEVtf2YQIcmVgNJAZ5AK6mMqDgNokA7P6V2G6alQDs/pXYbkKVAsczNQquuokDWWYjAnX6hQIH4kJDTZ6FAhwJwc+rgn0BKC5ccjHefQOmGA0g7TptAoEiovPd1mkAO8Nc1z3mZQPrmQj6QAplAtglxlHl0m0A8G7/mvOmbQNY1ojA/dpxAI9WGna8cnEA33huV7rucQO3njClo9JpAGwGBkiYqoEBIUE7Tch6jQPPuVqOoOaVAID4k5PTtpkA1NcaTBAGnQFVh9y/K/qZAFAmV9z6JqEAtYcCIe66rQC1hwIh7rqtAKAA3p06Sq0AoADenTvipQHaNKMyP6KdAZfcP/qwfpkBxLJ/qYnSlQH5hLtcYgaNAy+4f/FkroUA4ujUFkHefQJo+ydngiJ1AF44EacotnEBUhd2/KAebQO+fwAmrz5pA25YrEmxknUAPzPGlcJmcQKnm1O/yiZ5AzmGcJbaroEAjw5NVgAihQPISPTMHUqBAI9WGna8IoUDcY2ejtOufQD7o+ncFUZ9AoSTCLJkVoUChJMIsmX2kQL3vaecxc6RAoSTCLJnJo0DqUCpwrZehQEbO88q99Z1AegO6XsLWl0DvkOIqUqeUQC2Iu4GwsJBA",
          "dtype": "f8"
         }
        },
        {
         "line": {
          "color": "grey"
         },
         "mode": "lines",
         "name": "coal",
         "type": "scatter",
         "x": [
          "2015-01-01T00:00:00.000000000",
          "2015-01-01T01:00:00.000000000",
          "2015-01-01T02:00:00.000000000",
          "2015-01-01T03:00:00.000000000",
          "2015-01-01T04:00:00.000000000",
          "2015-01-01T05:00:00.000000000",
          "2015-01-01T06:00:00.000000000",
          "2015-01-01T07:00:00.000000000",
          "2015-01-01T08:00:00.000000000",
          "2015-01-01T09:00:00.000000000",
          "2015-01-01T10:00:00.000000000",
          "2015-01-01T11:00:00.000000000",
          "2015-01-01T12:00:00.000000000",
          "2015-01-01T13:00:00.000000000",
          "2015-01-01T14:00:00.000000000",
          "2015-01-01T15:00:00.000000000",
          "2015-01-01T16:00:00.000000000",
          "2015-01-01T17:00:00.000000000",
          "2015-01-01T18:00:00.000000000",
          "2015-01-01T19:00:00.000000000",
          "2015-01-01T20:00:00.000000000",
          "2015-01-01T21:00:00.000000000",
          "2015-01-01T22:00:00.000000000",
          "2015-01-01T23:00:00.000000000",
          "2015-01-02T00:00:00.000000000",
          "2015-01-02T01:00:00.000000000",
          "2015-01-02T02:00:00.000000000",
          "2015-01-02T03:00:00.000000000",
          "2015-01-02T04:00:00.000000000",
          "2015-01-02T05:00:00.000000000",
          "2015-01-02T06:00:00.000000000",
          "2015-01-02T07:00:00.000000000",
          "2015-01-02T08:00:00.000000000",
          "2015-01-02T09:00:00.000000000",
          "2015-01-02T10:00:00.000000000",
          "2015-01-02T11:00:00.000000000",
          "2015-01-02T12:00:00.000000000",
          "2015-01-02T13:00:00.000000000",
          "2015-01-02T14:00:00.000000000",
          "2015-01-02T15:00:00.000000000",
          "2015-01-02T16:00:00.000000000",
          "2015-01-02T17:00:00.000000000",
          "2015-01-02T18:00:00.000000000",
          "2015-01-02T19:00:00.000000000",
          "2015-01-02T20:00:00.000000000",
          "2015-01-02T21:00:00.000000000",
          "2015-01-02T22:00:00.000000000",
          "2015-01-02T23:00:00.000000000",
          "2015-01-03T00:00:00.000000000",
          "2015-01-03T01:00:00.000000000",
          "2015-01-03T02:00:00.000000000",
          "2015-01-03T03:00:00.000000000",
          "2015-01-03T04:00:00.000000000",
          "2015-01-03T05:00:00.000000000",
          "2015-01-03T06:00:00.000000000",
          "2015-01-03T07:00:00.000000000",
          "2015-01-03T08:00:00.000000000",
          "2015-01-03T09:00:00.000000000",
          "2015-01-03T10:00:00.000000000",
          "2015-01-03T11:00:00.000000000",
          "2015-01-03T12:00:00.000000000",
          "2015-01-03T13:00:00.000000000",
          "2015-01-03T14:00:00.000000000",
          "2015-01-03T15:00:00.000000000",
          "2015-01-03T16:00:00.000000000",
          "2015-01-03T17:00:00.000000000",
          "2015-01-03T18:00:00.000000000",
          "2015-01-03T19:00:00.000000000",
          "2015-01-03T20:00:00.000000000",
          "2015-01-03T21:00:00.000000000",
          "2015-01-03T22:00:00.000000000",
          "2015-01-03T23:00:00.000000000",
          "2015-01-04T00:00:00.000000000",
          "2015-01-04T01:00:00.000000000",
          "2015-01-04T02:00:00.000000000",
          "2015-01-04T03:00:00.000000000",
          "2015-01-04T04:00:00.000000000",
          "2015-01-04T05:00:00.000000000",
          "2015-01-04T06:00:00.000000000",
          "2015-01-04T07:00:00.000000000",
          "2015-01-04T08:00:00.000000000",
          "2015-01-04T09:00:00.000000000",
          "2015-01-04T10:00:00.000000000",
          "2015-01-04T11:00:00.000000000",
          "2015-01-04T12:00:00.000000000",
          "2015-01-04T13:00:00.000000000",
          "2015-01-04T14:00:00.000000000",
          "2015-01-04T15:00:00.000000000",
          "2015-01-04T16:00:00.000000000",
          "2015-01-04T17:00:00.000000000",
          "2015-01-04T18:00:00.000000000",
          "2015-01-04T19:00:00.000000000",
          "2015-01-04T20:00:00.000000000",
          "2015-01-04T21:00:00.000000000",
          "2015-01-04T22:00:00.000000000",
          "2015-01-04T23:00:00.000000000"
         ],
         "y": {
          "bdata": "AAAAAAAAAAAAAAAAAAAAAAAAAAAAAAAAAAAAAAAAAAAAAAAAAAAAAAAAAAAAAAAAAAAAAAAAAAAAAAAAAAAAAAAAAAAAAAAAAAAAAAAAAAAAAAAAAAAAAAAAAAAAAAAAAAAAAAAAAAAAAAAAAAAAAAAAAAAAAAAAAAAAAAAAAAAAAAAAAAAAAAAAAAAAAAAAAAAAAAAAAAAAAAAAAAAAAAAAAAAAAAAAAAAAAAAAAAAAAAAAAAAAAAAAAAAAAAAAAAAAAAAAAAAAAAAAAAAAAAAAAAAAAAAAAAAAAAAAAAAAAAAAAAAAAAAAAAAAAAAAAAAAAAAAAAAAAAAAAAAAAAAAAAAAAAAAAAAAAAAAAAAAAAAAAAAAAAAAAAAAAAAAAAAAAAAAAAAAAAAAAAAAAAAAAAAAAAAAAAAAAAAAAAAAAAAAAAAAAAAAAAAAAAAAAAAAAAAAAAAAAAAAAAAAAAAAAAAAAAAAAAAAAAAAAAAAAAAAAAAAAAAAAAAAAAAAAAAAAAAAAAAAAAAAAAAAAAAAAAAAAAAAAAAAAAAAAAAAAAAAAAAAAAAAAAAAAAAAAAAAAAAAAAAAAAAAAAAAAAAAAAAAAAAAAAAAAAAAAAAAAAAAAAAAAAAAAAAAAAAAAAAAAAAAAAAAAAAAAAAAAAAAAAAAAAAAAAAAAAAAAAAAAAAAAAAAAAAAAAAAAAAAAAAAAAAAAAAAAAAAAAAAAAAAAAAAAAAAAAAAAAAAAAAAAAAAAAAAAAAAAAAAAAAAAAAAAAAAAAAAAAAAAAAAAAAAAAAAAAAAAAAAAAAAAAAAAAAAAAAAAAAAAAAAAAAAAAAAAAAAAAAAAAAAAAAAAAAAAAAAAAAAAAAAAAAAAAAAAAAAAAAAAAAAAAAAAAAAAAAAAAAAAAAAAAAAAAAAAAAAAAAAAAAAAAAAAAAAAAAAAAAAAAAAAAAAAAAAAAAAAAAAAAAAAAAAAAAAAAAAAAAAAAAAAAAAAAAAAAAAAAAAAAAAAAAAAAAAAAAAAAAA",
          "dtype": "f8"
         }
        },
        {
         "line": {
          "color": "green"
         },
         "mode": "lines",
         "name": "biomass",
         "type": "scatter",
         "x": [
          "2015-01-01T00:00:00.000000000",
          "2015-01-01T01:00:00.000000000",
          "2015-01-01T02:00:00.000000000",
          "2015-01-01T03:00:00.000000000",
          "2015-01-01T04:00:00.000000000",
          "2015-01-01T05:00:00.000000000",
          "2015-01-01T06:00:00.000000000",
          "2015-01-01T07:00:00.000000000",
          "2015-01-01T08:00:00.000000000",
          "2015-01-01T09:00:00.000000000",
          "2015-01-01T10:00:00.000000000",
          "2015-01-01T11:00:00.000000000",
          "2015-01-01T12:00:00.000000000",
          "2015-01-01T13:00:00.000000000",
          "2015-01-01T14:00:00.000000000",
          "2015-01-01T15:00:00.000000000",
          "2015-01-01T16:00:00.000000000",
          "2015-01-01T17:00:00.000000000",
          "2015-01-01T18:00:00.000000000",
          "2015-01-01T19:00:00.000000000",
          "2015-01-01T20:00:00.000000000",
          "2015-01-01T21:00:00.000000000",
          "2015-01-01T22:00:00.000000000",
          "2015-01-01T23:00:00.000000000",
          "2015-01-02T00:00:00.000000000",
          "2015-01-02T01:00:00.000000000",
          "2015-01-02T02:00:00.000000000",
          "2015-01-02T03:00:00.000000000",
          "2015-01-02T04:00:00.000000000",
          "2015-01-02T05:00:00.000000000",
          "2015-01-02T06:00:00.000000000",
          "2015-01-02T07:00:00.000000000",
          "2015-01-02T08:00:00.000000000",
          "2015-01-02T09:00:00.000000000",
          "2015-01-02T10:00:00.000000000",
          "2015-01-02T11:00:00.000000000",
          "2015-01-02T12:00:00.000000000",
          "2015-01-02T13:00:00.000000000",
          "2015-01-02T14:00:00.000000000",
          "2015-01-02T15:00:00.000000000",
          "2015-01-02T16:00:00.000000000",
          "2015-01-02T17:00:00.000000000",
          "2015-01-02T18:00:00.000000000",
          "2015-01-02T19:00:00.000000000",
          "2015-01-02T20:00:00.000000000",
          "2015-01-02T21:00:00.000000000",
          "2015-01-02T22:00:00.000000000",
          "2015-01-02T23:00:00.000000000",
          "2015-01-03T00:00:00.000000000",
          "2015-01-03T01:00:00.000000000",
          "2015-01-03T02:00:00.000000000",
          "2015-01-03T03:00:00.000000000",
          "2015-01-03T04:00:00.000000000",
          "2015-01-03T05:00:00.000000000",
          "2015-01-03T06:00:00.000000000",
          "2015-01-03T07:00:00.000000000",
          "2015-01-03T08:00:00.000000000",
          "2015-01-03T09:00:00.000000000",
          "2015-01-03T10:00:00.000000000",
          "2015-01-03T11:00:00.000000000",
          "2015-01-03T12:00:00.000000000",
          "2015-01-03T13:00:00.000000000",
          "2015-01-03T14:00:00.000000000",
          "2015-01-03T15:00:00.000000000",
          "2015-01-03T16:00:00.000000000",
          "2015-01-03T17:00:00.000000000",
          "2015-01-03T18:00:00.000000000",
          "2015-01-03T19:00:00.000000000",
          "2015-01-03T20:00:00.000000000",
          "2015-01-03T21:00:00.000000000",
          "2015-01-03T22:00:00.000000000",
          "2015-01-03T23:00:00.000000000",
          "2015-01-04T00:00:00.000000000",
          "2015-01-04T01:00:00.000000000",
          "2015-01-04T02:00:00.000000000",
          "2015-01-04T03:00:00.000000000",
          "2015-01-04T04:00:00.000000000",
          "2015-01-04T05:00:00.000000000",
          "2015-01-04T06:00:00.000000000",
          "2015-01-04T07:00:00.000000000",
          "2015-01-04T08:00:00.000000000",
          "2015-01-04T09:00:00.000000000",
          "2015-01-04T10:00:00.000000000",
          "2015-01-04T11:00:00.000000000",
          "2015-01-04T12:00:00.000000000",
          "2015-01-04T13:00:00.000000000",
          "2015-01-04T14:00:00.000000000",
          "2015-01-04T15:00:00.000000000",
          "2015-01-04T16:00:00.000000000",
          "2015-01-04T17:00:00.000000000",
          "2015-01-04T18:00:00.000000000",
          "2015-01-04T19:00:00.000000000",
          "2015-01-04T20:00:00.000000000",
          "2015-01-04T21:00:00.000000000",
          "2015-01-04T22:00:00.000000000",
          "2015-01-04T23:00:00.000000000"
         ],
         "y": {
          "bdata": "AAAAAACAUUAAAAAAAIBRQAAAAAAAgFFAAAAAAAAAAAAAAAAAAAAAAAAAAAAAAAAAAAAAAAAAAAAAAAAAAAAAAAAAAAAAAAAAAAAAAAAAAAAAAAAAAAAAAAAAAAAAAAAAgKESz+RpSkAAAAAAAAAAAAAAAAAAAAAAQIkxqq8VTEAAAAAAAIBRQAAAAAAAgFFAAAAAAACAUUAAAAAAAAAAAAAAAAAAAAAAAAAAAAAAAAAAAAAAAAAAAAAAAAAAAAAAAAAAAAAAAAAAAAAAAAAAAAAAAAAAAAAAAAAAAAAAAAAAAAAAAAAAAAAAAAAAgFFAAAAAAACAUUAAAAAAAIBRQAAAAAAAgFFAAAAAAACAUUAAAAAAAIBRQAAAAAAAgFFAAAAAAACAUUAAAAAAAIBRQAAAAAAAgFFAAAAAAACAUUAAAAAAAIBRQAAAAAAAgFFAAAAAAACAUUAAAAAAAIBRQAAAAAAAgFFAAAAAAACAUUAAAAAAAIBRQAAAAAAAgFFAAAAAAACAUUAAAAAAAIBRQAAAAAAAgFFAAAAAAACAUUAAAAAAAIBRQAAAAAAAgFFAAAAAAACAUUAAAAAAAIBRQAAAAAAAgFFAAAAAAACAUUAAAAAAAIBRQAAAAAAAgFFAAAAAAACAUUAAAAAAAIBRQAAAAAAAgFFAAAAAAACAUUAAAAAAAIBRQAAAAAAAgFFAAAAAAACAUUAAAAAAAIBRQAAAAAAAgFFAAAAAAACAUUAAAAAAAIBRQAAAAAAAgFFAAAAAAACAUUAAAAAAAIBRQAAAAAAAgFFAAAAAAACAUUAAAAAAAIBRQAAAAAAAgFFAAAAAAACAUUAAAAAAAIBRQAAAAAAAgFFAAAAAAACAUUAAAAAAAIBRQAAAAAAAgFFAAAAAAACAUUAAAAAAAIBRQAAAAAAAgFFAAAAAAACAUUAAAAAAAIBRQAAAAAAAgFFAAAAAAACAUUAAAAAAAIBRQAAAAAAAgFFAAAAAAACAUUAAAAAAAIBRQAAAAAAAgFFA",
          "dtype": "f8"
         }
        },
        {
         "line": {
          "color": "black"
         },
         "mode": "lines",
         "name": "oil",
         "type": "scatter",
         "x": [
          "2015-01-01T00:00:00.000000000",
          "2015-01-01T01:00:00.000000000",
          "2015-01-01T02:00:00.000000000",
          "2015-01-01T03:00:00.000000000",
          "2015-01-01T04:00:00.000000000",
          "2015-01-01T05:00:00.000000000",
          "2015-01-01T06:00:00.000000000",
          "2015-01-01T07:00:00.000000000",
          "2015-01-01T08:00:00.000000000",
          "2015-01-01T09:00:00.000000000",
          "2015-01-01T10:00:00.000000000",
          "2015-01-01T11:00:00.000000000",
          "2015-01-01T12:00:00.000000000",
          "2015-01-01T13:00:00.000000000",
          "2015-01-01T14:00:00.000000000",
          "2015-01-01T15:00:00.000000000",
          "2015-01-01T16:00:00.000000000",
          "2015-01-01T17:00:00.000000000",
          "2015-01-01T18:00:00.000000000",
          "2015-01-01T19:00:00.000000000",
          "2015-01-01T20:00:00.000000000",
          "2015-01-01T21:00:00.000000000",
          "2015-01-01T22:00:00.000000000",
          "2015-01-01T23:00:00.000000000",
          "2015-01-02T00:00:00.000000000",
          "2015-01-02T01:00:00.000000000",
          "2015-01-02T02:00:00.000000000",
          "2015-01-02T03:00:00.000000000",
          "2015-01-02T04:00:00.000000000",
          "2015-01-02T05:00:00.000000000",
          "2015-01-02T06:00:00.000000000",
          "2015-01-02T07:00:00.000000000",
          "2015-01-02T08:00:00.000000000",
          "2015-01-02T09:00:00.000000000",
          "2015-01-02T10:00:00.000000000",
          "2015-01-02T11:00:00.000000000",
          "2015-01-02T12:00:00.000000000",
          "2015-01-02T13:00:00.000000000",
          "2015-01-02T14:00:00.000000000",
          "2015-01-02T15:00:00.000000000",
          "2015-01-02T16:00:00.000000000",
          "2015-01-02T17:00:00.000000000",
          "2015-01-02T18:00:00.000000000",
          "2015-01-02T19:00:00.000000000",
          "2015-01-02T20:00:00.000000000",
          "2015-01-02T21:00:00.000000000",
          "2015-01-02T22:00:00.000000000",
          "2015-01-02T23:00:00.000000000",
          "2015-01-03T00:00:00.000000000",
          "2015-01-03T01:00:00.000000000",
          "2015-01-03T02:00:00.000000000",
          "2015-01-03T03:00:00.000000000",
          "2015-01-03T04:00:00.000000000",
          "2015-01-03T05:00:00.000000000",
          "2015-01-03T06:00:00.000000000",
          "2015-01-03T07:00:00.000000000",
          "2015-01-03T08:00:00.000000000",
          "2015-01-03T09:00:00.000000000",
          "2015-01-03T10:00:00.000000000",
          "2015-01-03T11:00:00.000000000",
          "2015-01-03T12:00:00.000000000",
          "2015-01-03T13:00:00.000000000",
          "2015-01-03T14:00:00.000000000",
          "2015-01-03T15:00:00.000000000",
          "2015-01-03T16:00:00.000000000",
          "2015-01-03T17:00:00.000000000",
          "2015-01-03T18:00:00.000000000",
          "2015-01-03T19:00:00.000000000",
          "2015-01-03T20:00:00.000000000",
          "2015-01-03T21:00:00.000000000",
          "2015-01-03T22:00:00.000000000",
          "2015-01-03T23:00:00.000000000",
          "2015-01-04T00:00:00.000000000",
          "2015-01-04T01:00:00.000000000",
          "2015-01-04T02:00:00.000000000",
          "2015-01-04T03:00:00.000000000",
          "2015-01-04T04:00:00.000000000",
          "2015-01-04T05:00:00.000000000",
          "2015-01-04T06:00:00.000000000",
          "2015-01-04T07:00:00.000000000",
          "2015-01-04T08:00:00.000000000",
          "2015-01-04T09:00:00.000000000",
          "2015-01-04T10:00:00.000000000",
          "2015-01-04T11:00:00.000000000",
          "2015-01-04T12:00:00.000000000",
          "2015-01-04T13:00:00.000000000",
          "2015-01-04T14:00:00.000000000",
          "2015-01-04T15:00:00.000000000",
          "2015-01-04T16:00:00.000000000",
          "2015-01-04T17:00:00.000000000",
          "2015-01-04T18:00:00.000000000",
          "2015-01-04T19:00:00.000000000",
          "2015-01-04T20:00:00.000000000",
          "2015-01-04T21:00:00.000000000",
          "2015-01-04T22:00:00.000000000",
          "2015-01-04T23:00:00.000000000"
         ],
         "y": {
          "bdata": "AAAAAAAAAAAAAAAAAAAAAAAAAAAAAAAAAAAAAAAAAAAAAAAAAAAAAAAAAAAAAAAAAAAAAAAAAAAAAAAAAAAAAAAAAAAAAAAAAAAAAAAAAAAAAAAAAAAAAAAAAAAAAAAAAAAAAAAAAAAAAAAAAAAAAAAAAAAAAAAAAAAAAAAAAAAAAAAAAAAAAAAAAAAAAAAAAAAAAAAAAAAAAAAAAAAAAAAAAAAAAAAAAAAAAAAAAAAAAAAAAAAAAAAAAAAAAAAAAAAAAAAAAAAAAAAAAAAAAAAAAAAAAAAAAAAAAAAAAAAAAAAAAAAAAAAAAAAAAAAAAAAAAAAAAAAAAAAAAAAAAAAAAAAAAAAAAAAAAAAAAAAAAAAAAAAAAAAAAAAAAAAAAAAAAAAAAAAAAAAAAAAAAAAAAAAAAAAAAAAAAAAAAAAAAAAAAAAAAAAAAAAAAAAAAAAAAAAAAAAAAAAAAAAAAAAAAAAAAAAAAAAAAAAAAAAAAAAAAAAAAAAAAAAAAAAAAAAAAAAAAAAAAAAAAAAAAAAAAAAAAAAAAAAAAAAAAAAAAAAAAAAAAAAAAAAAAAAAAAAAAAAAAAAAAAAAAAAAAAAAAAAAAAAAAAAAAAAAAAAAAAAAAAAAAAAAAAAAAAAAAAAAAAAAAAAAAAAAAAAAAAAAAAAAAAAAAAAAAAAAAADgOoIXFLxUQAAF4ObUSVxAAAAAAAAAAAAAAAAAAAAAAAAAAAAAAAAAAAAAAAAAAAAAAAAAAAAAAAAAAAAAAAAAAAAAAAAAAAAAAAAAAAAAAAAAAAAAAAAAAAAAAAAAAAAAAAAAAAAAAAAAAAAAAAAAAAAAAAAAAAAAAAAAAAAAAAAAAAAAAAAAAAAAAAAAAAAAAAAAAAAAAAAAAAAAAAAAAAAAAAAAAAAAAAAAAAAAAAAAAAAAAAAAAAAAAAAAAAAAAAAAAAAAAAAAAAAAAAAAAAAAAAAAAAAAAAAAAAAAAAAAAAAAAAAAAAAAAAAAAAAAAAAAAAAAAAAAAAAAAAAA",
          "dtype": "f8"
         }
        },
        {
         "line": {
          "color": "purple"
         },
         "mode": "lines",
         "name": "offshore wind",
         "type": "scatter",
         "x": [
          "2015-01-01T00:00:00.000000000",
          "2015-01-01T01:00:00.000000000",
          "2015-01-01T02:00:00.000000000",
          "2015-01-01T03:00:00.000000000",
          "2015-01-01T04:00:00.000000000",
          "2015-01-01T05:00:00.000000000",
          "2015-01-01T06:00:00.000000000",
          "2015-01-01T07:00:00.000000000",
          "2015-01-01T08:00:00.000000000",
          "2015-01-01T09:00:00.000000000",
          "2015-01-01T10:00:00.000000000",
          "2015-01-01T11:00:00.000000000",
          "2015-01-01T12:00:00.000000000",
          "2015-01-01T13:00:00.000000000",
          "2015-01-01T14:00:00.000000000",
          "2015-01-01T15:00:00.000000000",
          "2015-01-01T16:00:00.000000000",
          "2015-01-01T17:00:00.000000000",
          "2015-01-01T18:00:00.000000000",
          "2015-01-01T19:00:00.000000000",
          "2015-01-01T20:00:00.000000000",
          "2015-01-01T21:00:00.000000000",
          "2015-01-01T22:00:00.000000000",
          "2015-01-01T23:00:00.000000000",
          "2015-01-02T00:00:00.000000000",
          "2015-01-02T01:00:00.000000000",
          "2015-01-02T02:00:00.000000000",
          "2015-01-02T03:00:00.000000000",
          "2015-01-02T04:00:00.000000000",
          "2015-01-02T05:00:00.000000000",
          "2015-01-02T06:00:00.000000000",
          "2015-01-02T07:00:00.000000000",
          "2015-01-02T08:00:00.000000000",
          "2015-01-02T09:00:00.000000000",
          "2015-01-02T10:00:00.000000000",
          "2015-01-02T11:00:00.000000000",
          "2015-01-02T12:00:00.000000000",
          "2015-01-02T13:00:00.000000000",
          "2015-01-02T14:00:00.000000000",
          "2015-01-02T15:00:00.000000000",
          "2015-01-02T16:00:00.000000000",
          "2015-01-02T17:00:00.000000000",
          "2015-01-02T18:00:00.000000000",
          "2015-01-02T19:00:00.000000000",
          "2015-01-02T20:00:00.000000000",
          "2015-01-02T21:00:00.000000000",
          "2015-01-02T22:00:00.000000000",
          "2015-01-02T23:00:00.000000000",
          "2015-01-03T00:00:00.000000000",
          "2015-01-03T01:00:00.000000000",
          "2015-01-03T02:00:00.000000000",
          "2015-01-03T03:00:00.000000000",
          "2015-01-03T04:00:00.000000000",
          "2015-01-03T05:00:00.000000000",
          "2015-01-03T06:00:00.000000000",
          "2015-01-03T07:00:00.000000000",
          "2015-01-03T08:00:00.000000000",
          "2015-01-03T09:00:00.000000000",
          "2015-01-03T10:00:00.000000000",
          "2015-01-03T11:00:00.000000000",
          "2015-01-03T12:00:00.000000000",
          "2015-01-03T13:00:00.000000000",
          "2015-01-03T14:00:00.000000000",
          "2015-01-03T15:00:00.000000000",
          "2015-01-03T16:00:00.000000000",
          "2015-01-03T17:00:00.000000000",
          "2015-01-03T18:00:00.000000000",
          "2015-01-03T19:00:00.000000000",
          "2015-01-03T20:00:00.000000000",
          "2015-01-03T21:00:00.000000000",
          "2015-01-03T22:00:00.000000000",
          "2015-01-03T23:00:00.000000000",
          "2015-01-04T00:00:00.000000000",
          "2015-01-04T01:00:00.000000000",
          "2015-01-04T02:00:00.000000000",
          "2015-01-04T03:00:00.000000000",
          "2015-01-04T04:00:00.000000000",
          "2015-01-04T05:00:00.000000000",
          "2015-01-04T06:00:00.000000000",
          "2015-01-04T07:00:00.000000000",
          "2015-01-04T08:00:00.000000000",
          "2015-01-04T09:00:00.000000000",
          "2015-01-04T10:00:00.000000000",
          "2015-01-04T11:00:00.000000000",
          "2015-01-04T12:00:00.000000000",
          "2015-01-04T13:00:00.000000000",
          "2015-01-04T14:00:00.000000000",
          "2015-01-04T15:00:00.000000000",
          "2015-01-04T16:00:00.000000000",
          "2015-01-04T17:00:00.000000000",
          "2015-01-04T18:00:00.000000000",
          "2015-01-04T19:00:00.000000000",
          "2015-01-04T20:00:00.000000000",
          "2015-01-04T21:00:00.000000000",
          "2015-01-04T22:00:00.000000000",
          "2015-01-04T23:00:00.000000000"
         ],
         "y": {
          "bdata": "AAAAAAAAAAAAAAAAAAAAAAAAAAAAAAAAAAAAAAAAAAAAAAAAAAAAAAAAAAAAAAAAAAAAAAAAAAAAAAAAAAAAAAAAAAAAAAAAAAAAAAAAAAAAAAAAAAAAAAAAAAAAAAAAAAAAAAAAAAAAAAAAAAAAAAAAAAAAAAAAAAAAAAAAAAAAAAAAAAAAAAAAAAAAAAAAAAAAAAAAAAAAAAAAAAAAAAAAAAAAAAAAAAAAAAAAAAAAAAAAAAAAAAAAAAAAAAAAAAAAAAAAAAAAAAAAAAAAAAAAAAAAAAAAAAAAAAAAAAAAAAAAAAAAAAAAAAAAAAAAAAAAAAAAAAAAAAAAAAAAAAAAAAAAAAAAAAAAAAAAAAAAAAAAAAAAAAAAAAAAAAAAAAAAAAAAAAAAAAAAAAAAAAAAAAAAAAAAAAAAAAAAAAAAAAAAAAAAAAAAAAAAAAAAAAAAAAAAAAAAAAAAAAAAAAAAAAAAAAAAAAAAAAAAAAAAAAAAAAAAAAAAAAAAAAAAAAAAAAAAAAAAAAAAAAAAAAAAAAAAAAAAAAAAAAAAAAAAAAAAAAAAAAAAAAAAAAAAAAAAAAAAAAAAAAAAAAAAAAAAAAAAAAAAAAAAAAAAAAAAAAAAAAAAAAAAAAAAAAAAAAAAAAAAAAAAAAAAAAAAAAAAAAAAAAAAAAAAAAAAAAAAAAAAAAAAAAAAAAAAAAAAAAAAAAAAAAAAAAAAAAAAAAAAAAAAAAAAAAAAAAAAAAAAAAAAAAAAAAAAAAAAAAAAAAAAAAAAAAAAAAAAAAAAAAAAAAAAAAAAAAAAAAAAAAAAAAAAAAAAAAAAAAAAAAAAAAAAAAAAAAAAAAAAAAAAAAAAAAAAAAAAAAAAAAAAAAAAAAAAAAAAAAAAAAAAAAAAAAAAAAAAAAAAAAAAAAAAAAAAAAAAAAAAAAAAAAAAAAAAAAAAAAAAAAAAAAAAAAAAAAAAAAAAAAAAAAAAAAAAAAAAAAAAAAAAAAAAAAAAAAAAAAAAAAAAAAAAAAAAAAAA",
          "dtype": "f8"
         }
        }
       ],
       "layout": {
        "legend": {
         "traceorder": "normal",
         "x": 0,
         "y": 1
        },
        "template": {
         "data": {
          "bar": [
           {
            "error_x": {
             "color": "#2a3f5f"
            },
            "error_y": {
             "color": "#2a3f5f"
            },
            "marker": {
             "line": {
              "color": "#E5ECF6",
              "width": 0.5
             },
             "pattern": {
              "fillmode": "overlay",
              "size": 10,
              "solidity": 0.2
             }
            },
            "type": "bar"
           }
          ],
          "barpolar": [
           {
            "marker": {
             "line": {
              "color": "#E5ECF6",
              "width": 0.5
             },
             "pattern": {
              "fillmode": "overlay",
              "size": 10,
              "solidity": 0.2
             }
            },
            "type": "barpolar"
           }
          ],
          "carpet": [
           {
            "aaxis": {
             "endlinecolor": "#2a3f5f",
             "gridcolor": "white",
             "linecolor": "white",
             "minorgridcolor": "white",
             "startlinecolor": "#2a3f5f"
            },
            "baxis": {
             "endlinecolor": "#2a3f5f",
             "gridcolor": "white",
             "linecolor": "white",
             "minorgridcolor": "white",
             "startlinecolor": "#2a3f5f"
            },
            "type": "carpet"
           }
          ],
          "choropleth": [
           {
            "colorbar": {
             "outlinewidth": 0,
             "ticks": ""
            },
            "type": "choropleth"
           }
          ],
          "contour": [
           {
            "colorbar": {
             "outlinewidth": 0,
             "ticks": ""
            },
            "colorscale": [
             [
              0,
              "#0d0887"
             ],
             [
              0.1111111111111111,
              "#46039f"
             ],
             [
              0.2222222222222222,
              "#7201a8"
             ],
             [
              0.3333333333333333,
              "#9c179e"
             ],
             [
              0.4444444444444444,
              "#bd3786"
             ],
             [
              0.5555555555555556,
              "#d8576b"
             ],
             [
              0.6666666666666666,
              "#ed7953"
             ],
             [
              0.7777777777777778,
              "#fb9f3a"
             ],
             [
              0.8888888888888888,
              "#fdca26"
             ],
             [
              1,
              "#f0f921"
             ]
            ],
            "type": "contour"
           }
          ],
          "contourcarpet": [
           {
            "colorbar": {
             "outlinewidth": 0,
             "ticks": ""
            },
            "type": "contourcarpet"
           }
          ],
          "heatmap": [
           {
            "colorbar": {
             "outlinewidth": 0,
             "ticks": ""
            },
            "colorscale": [
             [
              0,
              "#0d0887"
             ],
             [
              0.1111111111111111,
              "#46039f"
             ],
             [
              0.2222222222222222,
              "#7201a8"
             ],
             [
              0.3333333333333333,
              "#9c179e"
             ],
             [
              0.4444444444444444,
              "#bd3786"
             ],
             [
              0.5555555555555556,
              "#d8576b"
             ],
             [
              0.6666666666666666,
              "#ed7953"
             ],
             [
              0.7777777777777778,
              "#fb9f3a"
             ],
             [
              0.8888888888888888,
              "#fdca26"
             ],
             [
              1,
              "#f0f921"
             ]
            ],
            "type": "heatmap"
           }
          ],
          "histogram": [
           {
            "marker": {
             "pattern": {
              "fillmode": "overlay",
              "size": 10,
              "solidity": 0.2
             }
            },
            "type": "histogram"
           }
          ],
          "histogram2d": [
           {
            "colorbar": {
             "outlinewidth": 0,
             "ticks": ""
            },
            "colorscale": [
             [
              0,
              "#0d0887"
             ],
             [
              0.1111111111111111,
              "#46039f"
             ],
             [
              0.2222222222222222,
              "#7201a8"
             ],
             [
              0.3333333333333333,
              "#9c179e"
             ],
             [
              0.4444444444444444,
              "#bd3786"
             ],
             [
              0.5555555555555556,
              "#d8576b"
             ],
             [
              0.6666666666666666,
              "#ed7953"
             ],
             [
              0.7777777777777778,
              "#fb9f3a"
             ],
             [
              0.8888888888888888,
              "#fdca26"
             ],
             [
              1,
              "#f0f921"
             ]
            ],
            "type": "histogram2d"
           }
          ],
          "histogram2dcontour": [
           {
            "colorbar": {
             "outlinewidth": 0,
             "ticks": ""
            },
            "colorscale": [
             [
              0,
              "#0d0887"
             ],
             [
              0.1111111111111111,
              "#46039f"
             ],
             [
              0.2222222222222222,
              "#7201a8"
             ],
             [
              0.3333333333333333,
              "#9c179e"
             ],
             [
              0.4444444444444444,
              "#bd3786"
             ],
             [
              0.5555555555555556,
              "#d8576b"
             ],
             [
              0.6666666666666666,
              "#ed7953"
             ],
             [
              0.7777777777777778,
              "#fb9f3a"
             ],
             [
              0.8888888888888888,
              "#fdca26"
             ],
             [
              1,
              "#f0f921"
             ]
            ],
            "type": "histogram2dcontour"
           }
          ],
          "mesh3d": [
           {
            "colorbar": {
             "outlinewidth": 0,
             "ticks": ""
            },
            "type": "mesh3d"
           }
          ],
          "parcoords": [
           {
            "line": {
             "colorbar": {
              "outlinewidth": 0,
              "ticks": ""
             }
            },
            "type": "parcoords"
           }
          ],
          "pie": [
           {
            "automargin": true,
            "type": "pie"
           }
          ],
          "scatter": [
           {
            "fillpattern": {
             "fillmode": "overlay",
             "size": 10,
             "solidity": 0.2
            },
            "type": "scatter"
           }
          ],
          "scatter3d": [
           {
            "line": {
             "colorbar": {
              "outlinewidth": 0,
              "ticks": ""
             }
            },
            "marker": {
             "colorbar": {
              "outlinewidth": 0,
              "ticks": ""
             }
            },
            "type": "scatter3d"
           }
          ],
          "scattercarpet": [
           {
            "marker": {
             "colorbar": {
              "outlinewidth": 0,
              "ticks": ""
             }
            },
            "type": "scattercarpet"
           }
          ],
          "scattergeo": [
           {
            "marker": {
             "colorbar": {
              "outlinewidth": 0,
              "ticks": ""
             }
            },
            "type": "scattergeo"
           }
          ],
          "scattergl": [
           {
            "marker": {
             "colorbar": {
              "outlinewidth": 0,
              "ticks": ""
             }
            },
            "type": "scattergl"
           }
          ],
          "scattermap": [
           {
            "marker": {
             "colorbar": {
              "outlinewidth": 0,
              "ticks": ""
             }
            },
            "type": "scattermap"
           }
          ],
          "scattermapbox": [
           {
            "marker": {
             "colorbar": {
              "outlinewidth": 0,
              "ticks": ""
             }
            },
            "type": "scattermapbox"
           }
          ],
          "scatterpolar": [
           {
            "marker": {
             "colorbar": {
              "outlinewidth": 0,
              "ticks": ""
             }
            },
            "type": "scatterpolar"
           }
          ],
          "scatterpolargl": [
           {
            "marker": {
             "colorbar": {
              "outlinewidth": 0,
              "ticks": ""
             }
            },
            "type": "scatterpolargl"
           }
          ],
          "scatterternary": [
           {
            "marker": {
             "colorbar": {
              "outlinewidth": 0,
              "ticks": ""
             }
            },
            "type": "scatterternary"
           }
          ],
          "surface": [
           {
            "colorbar": {
             "outlinewidth": 0,
             "ticks": ""
            },
            "colorscale": [
             [
              0,
              "#0d0887"
             ],
             [
              0.1111111111111111,
              "#46039f"
             ],
             [
              0.2222222222222222,
              "#7201a8"
             ],
             [
              0.3333333333333333,
              "#9c179e"
             ],
             [
              0.4444444444444444,
              "#bd3786"
             ],
             [
              0.5555555555555556,
              "#d8576b"
             ],
             [
              0.6666666666666666,
              "#ed7953"
             ],
             [
              0.7777777777777778,
              "#fb9f3a"
             ],
             [
              0.8888888888888888,
              "#fdca26"
             ],
             [
              1,
              "#f0f921"
             ]
            ],
            "type": "surface"
           }
          ],
          "table": [
           {
            "cells": {
             "fill": {
              "color": "#EBF0F8"
             },
             "line": {
              "color": "white"
             }
            },
            "header": {
             "fill": {
              "color": "#C8D4E3"
             },
             "line": {
              "color": "white"
             }
            },
            "type": "table"
           }
          ]
         },
         "layout": {
          "annotationdefaults": {
           "arrowcolor": "#2a3f5f",
           "arrowhead": 0,
           "arrowwidth": 1
          },
          "autotypenumbers": "strict",
          "coloraxis": {
           "colorbar": {
            "outlinewidth": 0,
            "ticks": ""
           }
          },
          "colorscale": {
           "diverging": [
            [
             0,
             "#8e0152"
            ],
            [
             0.1,
             "#c51b7d"
            ],
            [
             0.2,
             "#de77ae"
            ],
            [
             0.3,
             "#f1b6da"
            ],
            [
             0.4,
             "#fde0ef"
            ],
            [
             0.5,
             "#f7f7f7"
            ],
            [
             0.6,
             "#e6f5d0"
            ],
            [
             0.7,
             "#b8e186"
            ],
            [
             0.8,
             "#7fbc41"
            ],
            [
             0.9,
             "#4d9221"
            ],
            [
             1,
             "#276419"
            ]
           ],
           "sequential": [
            [
             0,
             "#0d0887"
            ],
            [
             0.1111111111111111,
             "#46039f"
            ],
            [
             0.2222222222222222,
             "#7201a8"
            ],
            [
             0.3333333333333333,
             "#9c179e"
            ],
            [
             0.4444444444444444,
             "#bd3786"
            ],
            [
             0.5555555555555556,
             "#d8576b"
            ],
            [
             0.6666666666666666,
             "#ed7953"
            ],
            [
             0.7777777777777778,
             "#fb9f3a"
            ],
            [
             0.8888888888888888,
             "#fdca26"
            ],
            [
             1,
             "#f0f921"
            ]
           ],
           "sequentialminus": [
            [
             0,
             "#0d0887"
            ],
            [
             0.1111111111111111,
             "#46039f"
            ],
            [
             0.2222222222222222,
             "#7201a8"
            ],
            [
             0.3333333333333333,
             "#9c179e"
            ],
            [
             0.4444444444444444,
             "#bd3786"
            ],
            [
             0.5555555555555556,
             "#d8576b"
            ],
            [
             0.6666666666666666,
             "#ed7953"
            ],
            [
             0.7777777777777778,
             "#fb9f3a"
            ],
            [
             0.8888888888888888,
             "#fdca26"
            ],
            [
             1,
             "#f0f921"
            ]
           ]
          },
          "colorway": [
           "#636efa",
           "#EF553B",
           "#00cc96",
           "#ab63fa",
           "#FFA15A",
           "#19d3f3",
           "#FF6692",
           "#B6E880",
           "#FF97FF",
           "#FECB52"
          ],
          "font": {
           "color": "#2a3f5f"
          },
          "geo": {
           "bgcolor": "white",
           "lakecolor": "white",
           "landcolor": "#E5ECF6",
           "showlakes": true,
           "showland": true,
           "subunitcolor": "white"
          },
          "hoverlabel": {
           "align": "left"
          },
          "hovermode": "closest",
          "mapbox": {
           "style": "light"
          },
          "paper_bgcolor": "white",
          "plot_bgcolor": "#E5ECF6",
          "polar": {
           "angularaxis": {
            "gridcolor": "white",
            "linecolor": "white",
            "ticks": ""
           },
           "bgcolor": "#E5ECF6",
           "radialaxis": {
            "gridcolor": "white",
            "linecolor": "white",
            "ticks": ""
           }
          },
          "scene": {
           "xaxis": {
            "backgroundcolor": "#E5ECF6",
            "gridcolor": "white",
            "gridwidth": 2,
            "linecolor": "white",
            "showbackground": true,
            "ticks": "",
            "zerolinecolor": "white"
           },
           "yaxis": {
            "backgroundcolor": "#E5ECF6",
            "gridcolor": "white",
            "gridwidth": 2,
            "linecolor": "white",
            "showbackground": true,
            "ticks": "",
            "zerolinecolor": "white"
           },
           "zaxis": {
            "backgroundcolor": "#E5ECF6",
            "gridcolor": "white",
            "gridwidth": 2,
            "linecolor": "white",
            "showbackground": true,
            "ticks": "",
            "zerolinecolor": "white"
           }
          },
          "shapedefaults": {
           "line": {
            "color": "#2a3f5f"
           }
          },
          "ternary": {
           "aaxis": {
            "gridcolor": "white",
            "linecolor": "white",
            "ticks": ""
           },
           "baxis": {
            "gridcolor": "white",
            "linecolor": "white",
            "ticks": ""
           },
           "bgcolor": "#E5ECF6",
           "caxis": {
            "gridcolor": "white",
            "linecolor": "white",
            "ticks": ""
           }
          },
          "title": {
           "x": 0.05
          },
          "xaxis": {
           "automargin": true,
           "gridcolor": "white",
           "linecolor": "white",
           "ticks": "",
           "title": {
            "standoff": 15
           },
           "zerolinecolor": "white",
           "zerolinewidth": 2
          },
          "yaxis": {
           "automargin": true,
           "gridcolor": "white",
           "linecolor": "white",
           "ticks": "",
           "title": {
            "standoff": 15
           },
           "zerolinecolor": "white",
           "zerolinewidth": 2
          }
         }
        },
        "title": {
         "text": "Electricity Dispatch Week 1 2015"
        },
        "xaxis": {
         "title": {
          "text": "Time"
         }
        },
        "yaxis": {
         "title": {
          "text": "Power (MW)"
         }
        }
       }
      }
     },
     "metadata": {},
     "output_type": "display_data"
    }
   ],
   "source": [
    "objective, capacities, loadConsumption, generation, snapshot, staus = optimizer(2015)\n",
    "plot_dispatch_winter()"
   ]
  },
  {
   "cell_type": "code",
   "execution_count": 13,
   "metadata": {},
   "outputs": [
    {
     "name": "stdout",
     "output_type": "stream",
     "text": [
      "utc_time\n",
      "2015-01-01 00:00:00+00:00    2651.0\n",
      "2015-01-01 01:00:00+00:00    2412.0\n",
      "2015-01-01 02:00:00+00:00    2256.0\n",
      "2015-01-01 03:00:00+00:00    2170.0\n",
      "2015-01-01 04:00:00+00:00    2136.0\n",
      "Name: IRL, dtype: float64\n"
     ]
    },
    {
     "name": "stderr",
     "output_type": "stream",
     "text": [
      "WARNING:pypsa.consistency:The following buses have carriers which are not defined:\n",
      "Index(['electricity bus'], dtype='object', name='Bus')\n",
      "INFO:linopy.model: Solve problem using Gurobi solver\n",
      "INFO:linopy.model:Solver options:\n",
      " - OutputFlag: 0\n",
      "INFO:linopy.io:Writing objective.\n",
      "Writing constraints.: 100%|\u001b[38;2;128;191;255m██████████\u001b[0m| 6/6 [00:00<00:00, 26.95it/s]\n",
      "Writing continuous variables.: 100%|\u001b[38;2;128;191;255m██████████\u001b[0m| 2/2 [00:00<00:00, 55.33it/s]\n",
      "INFO:linopy.io: Writing time: 0.28s\n"
     ]
    },
    {
     "name": "stdout",
     "output_type": "stream",
     "text": [
      "Set parameter Username\n"
     ]
    },
    {
     "name": "stderr",
     "output_type": "stream",
     "text": [
      "INFO:gurobipy:Set parameter Username\n"
     ]
    },
    {
     "name": "stdout",
     "output_type": "stream",
     "text": [
      "Academic license - for non-commercial use only - expires 2025-10-16\n"
     ]
    },
    {
     "name": "stderr",
     "output_type": "stream",
     "text": [
      "INFO:gurobipy:Academic license - for non-commercial use only - expires 2025-10-16\n"
     ]
    },
    {
     "name": "stdout",
     "output_type": "stream",
     "text": [
      "Read LP format model from file /private/var/folders/j2/tx7xgp1d11n3lnbvkls0cjsw0000gn/T/linopy-problem-h7y0y658.lp\n"
     ]
    },
    {
     "name": "stderr",
     "output_type": "stream",
     "text": [
      "INFO:gurobipy:Read LP format model from file /private/var/folders/j2/tx7xgp1d11n3lnbvkls0cjsw0000gn/T/linopy-problem-h7y0y658.lp\n"
     ]
    },
    {
     "name": "stdout",
     "output_type": "stream",
     "text": [
      "Reading time = 0.12 seconds\n"
     ]
    },
    {
     "name": "stderr",
     "output_type": "stream",
     "text": [
      "INFO:gurobipy:Reading time = 0.12 seconds\n"
     ]
    },
    {
     "name": "stdout",
     "output_type": "stream",
     "text": [
      "obj: 131415 rows, 61327 columns, 267194 nonzeros\n"
     ]
    },
    {
     "name": "stderr",
     "output_type": "stream",
     "text": [
      "INFO:gurobipy:obj: 131415 rows, 61327 columns, 267194 nonzeros\n",
      "INFO:linopy.solvers:Unable to save solution file. Raised error: Unable to retrieve attribute 'X'\n",
      "WARNING:linopy.constants:Optimization potentially failed: \n",
      "Status: warning\n",
      "Termination condition: infeasible_or_unbounded\n",
      "Solution: 0 primals, 0 duals\n",
      "Objective: nan\n",
      "Solver model: available\n",
      "Solver message: 4\n",
      "\n"
     ]
    },
    {
     "name": "stdout",
     "output_type": "stream",
     "text": [
      "utc_time\n",
      "2015-01-01 00:00:00+00:00    2651.0\n",
      "2015-01-01 01:00:00+00:00    2412.0\n",
      "2015-01-01 02:00:00+00:00    2256.0\n",
      "2015-01-01 03:00:00+00:00    2170.0\n",
      "2015-01-01 04:00:00+00:00    2136.0\n",
      "Name: IRL, dtype: float64\n"
     ]
    },
    {
     "name": "stderr",
     "output_type": "stream",
     "text": [
      "WARNING:pypsa.consistency:The following buses have carriers which are not defined:\n",
      "Index(['electricity bus'], dtype='object', name='Bus')\n",
      "INFO:linopy.model: Solve problem using Gurobi solver\n",
      "INFO:linopy.model:Solver options:\n",
      " - OutputFlag: 0\n",
      "INFO:linopy.io:Writing objective.\n",
      "Writing constraints.: 100%|\u001b[38;2;128;191;255m██████████\u001b[0m| 6/6 [00:00<00:00, 27.21it/s]\n",
      "Writing continuous variables.: 100%|\u001b[38;2;128;191;255m██████████\u001b[0m| 2/2 [00:00<00:00, 53.76it/s]\n",
      "INFO:linopy.io: Writing time: 0.28s\n"
     ]
    },
    {
     "name": "stdout",
     "output_type": "stream",
     "text": [
      "Set parameter Username\n"
     ]
    },
    {
     "name": "stderr",
     "output_type": "stream",
     "text": [
      "INFO:gurobipy:Set parameter Username\n"
     ]
    },
    {
     "name": "stdout",
     "output_type": "stream",
     "text": [
      "Academic license - for non-commercial use only - expires 2025-10-16\n"
     ]
    },
    {
     "name": "stderr",
     "output_type": "stream",
     "text": [
      "INFO:gurobipy:Academic license - for non-commercial use only - expires 2025-10-16\n"
     ]
    },
    {
     "name": "stdout",
     "output_type": "stream",
     "text": [
      "Read LP format model from file /private/var/folders/j2/tx7xgp1d11n3lnbvkls0cjsw0000gn/T/linopy-problem-wled4h2y.lp\n"
     ]
    },
    {
     "name": "stderr",
     "output_type": "stream",
     "text": [
      "INFO:gurobipy:Read LP format model from file /private/var/folders/j2/tx7xgp1d11n3lnbvkls0cjsw0000gn/T/linopy-problem-wled4h2y.lp\n"
     ]
    },
    {
     "name": "stdout",
     "output_type": "stream",
     "text": [
      "Reading time = 0.12 seconds\n"
     ]
    },
    {
     "name": "stderr",
     "output_type": "stream",
     "text": [
      "INFO:gurobipy:Reading time = 0.12 seconds\n"
     ]
    },
    {
     "name": "stdout",
     "output_type": "stream",
     "text": [
      "obj: 131415 rows, 61327 columns, 267194 nonzeros\n"
     ]
    },
    {
     "name": "stderr",
     "output_type": "stream",
     "text": [
      "INFO:gurobipy:obj: 131415 rows, 61327 columns, 267194 nonzeros\n",
      "INFO:linopy.solvers:Unable to save solution file. Raised error: Unable to retrieve attribute 'X'\n",
      "WARNING:linopy.constants:Optimization potentially failed: \n",
      "Status: warning\n",
      "Termination condition: infeasible_or_unbounded\n",
      "Solution: 0 primals, 0 duals\n",
      "Objective: nan\n",
      "Solver model: available\n",
      "Solver message: 4\n",
      "\n"
     ]
    },
    {
     "name": "stdout",
     "output_type": "stream",
     "text": [
      "utc_time\n",
      "2015-01-01 00:00:00+00:00    2651.0\n",
      "2015-01-01 01:00:00+00:00    2412.0\n",
      "2015-01-01 02:00:00+00:00    2256.0\n",
      "2015-01-01 03:00:00+00:00    2170.0\n",
      "2015-01-01 04:00:00+00:00    2136.0\n",
      "Name: IRL, dtype: float64\n"
     ]
    },
    {
     "name": "stderr",
     "output_type": "stream",
     "text": [
      "WARNING:pypsa.consistency:The following buses have carriers which are not defined:\n",
      "Index(['electricity bus'], dtype='object', name='Bus')\n",
      "INFO:linopy.model: Solve problem using Gurobi solver\n",
      "INFO:linopy.model:Solver options:\n",
      " - OutputFlag: 0\n",
      "INFO:linopy.io:Writing objective.\n",
      "Writing constraints.: 100%|\u001b[38;2;128;191;255m██████████\u001b[0m| 6/6 [00:00<00:00, 26.66it/s]\n",
      "Writing continuous variables.: 100%|\u001b[38;2;128;191;255m██████████\u001b[0m| 2/2 [00:00<00:00, 54.61it/s]\n",
      "INFO:linopy.io: Writing time: 0.28s\n"
     ]
    },
    {
     "name": "stdout",
     "output_type": "stream",
     "text": [
      "Set parameter Username\n"
     ]
    },
    {
     "name": "stderr",
     "output_type": "stream",
     "text": [
      "INFO:gurobipy:Set parameter Username\n"
     ]
    },
    {
     "name": "stdout",
     "output_type": "stream",
     "text": [
      "Academic license - for non-commercial use only - expires 2025-10-16\n"
     ]
    },
    {
     "name": "stderr",
     "output_type": "stream",
     "text": [
      "INFO:gurobipy:Academic license - for non-commercial use only - expires 2025-10-16\n"
     ]
    },
    {
     "name": "stdout",
     "output_type": "stream",
     "text": [
      "Read LP format model from file /private/var/folders/j2/tx7xgp1d11n3lnbvkls0cjsw0000gn/T/linopy-problem-rizakj7f.lp\n"
     ]
    },
    {
     "name": "stderr",
     "output_type": "stream",
     "text": [
      "INFO:gurobipy:Read LP format model from file /private/var/folders/j2/tx7xgp1d11n3lnbvkls0cjsw0000gn/T/linopy-problem-rizakj7f.lp\n"
     ]
    },
    {
     "name": "stdout",
     "output_type": "stream",
     "text": [
      "Reading time = 0.12 seconds\n"
     ]
    },
    {
     "name": "stderr",
     "output_type": "stream",
     "text": [
      "INFO:gurobipy:Reading time = 0.12 seconds\n"
     ]
    },
    {
     "name": "stdout",
     "output_type": "stream",
     "text": [
      "obj: 131415 rows, 61327 columns, 267194 nonzeros\n"
     ]
    },
    {
     "name": "stderr",
     "output_type": "stream",
     "text": [
      "INFO:gurobipy:obj: 131415 rows, 61327 columns, 267194 nonzeros\n",
      "INFO:linopy.constants: Optimization successful: \n",
      "Status: ok\n",
      "Termination condition: optimal\n",
      "Solution: 61327 primals, 131415 duals\n",
      "Objective: 9.50e+11\n",
      "Solver model: available\n",
      "Solver message: 2\n",
      "\n",
      "INFO:pypsa.optimization.optimize:The shadow-prices of the constraints Generator-ext-p-lower, Generator-ext-p-upper were not assigned to the network.\n"
     ]
    },
    {
     "name": "stdout",
     "output_type": "stream",
     "text": [
      "utc_time\n",
      "2015-01-01 00:00:00+00:00    2651.0\n",
      "2015-01-01 01:00:00+00:00    2412.0\n",
      "2015-01-01 02:00:00+00:00    2256.0\n",
      "2015-01-01 03:00:00+00:00    2170.0\n",
      "2015-01-01 04:00:00+00:00    2136.0\n",
      "Name: IRL, dtype: float64\n"
     ]
    },
    {
     "name": "stderr",
     "output_type": "stream",
     "text": [
      "WARNING:pypsa.consistency:The following buses have carriers which are not defined:\n",
      "Index(['electricity bus'], dtype='object', name='Bus')\n",
      "INFO:linopy.model: Solve problem using Gurobi solver\n",
      "INFO:linopy.model:Solver options:\n",
      " - OutputFlag: 0\n",
      "INFO:linopy.io:Writing objective.\n",
      "Writing constraints.: 100%|\u001b[38;2;128;191;255m██████████\u001b[0m| 6/6 [00:00<00:00, 27.29it/s]\n",
      "Writing continuous variables.: 100%|\u001b[38;2;128;191;255m██████████\u001b[0m| 2/2 [00:00<00:00, 52.67it/s]\n",
      "INFO:linopy.io: Writing time: 0.28s\n"
     ]
    },
    {
     "name": "stdout",
     "output_type": "stream",
     "text": [
      "Set parameter Username\n"
     ]
    },
    {
     "name": "stderr",
     "output_type": "stream",
     "text": [
      "INFO:gurobipy:Set parameter Username\n"
     ]
    },
    {
     "name": "stdout",
     "output_type": "stream",
     "text": [
      "Academic license - for non-commercial use only - expires 2025-10-16\n"
     ]
    },
    {
     "name": "stderr",
     "output_type": "stream",
     "text": [
      "INFO:gurobipy:Academic license - for non-commercial use only - expires 2025-10-16\n"
     ]
    },
    {
     "name": "stdout",
     "output_type": "stream",
     "text": [
      "Read LP format model from file /private/var/folders/j2/tx7xgp1d11n3lnbvkls0cjsw0000gn/T/linopy-problem-baxeusim.lp\n"
     ]
    },
    {
     "name": "stderr",
     "output_type": "stream",
     "text": [
      "INFO:gurobipy:Read LP format model from file /private/var/folders/j2/tx7xgp1d11n3lnbvkls0cjsw0000gn/T/linopy-problem-baxeusim.lp\n"
     ]
    },
    {
     "name": "stdout",
     "output_type": "stream",
     "text": [
      "Reading time = 0.12 seconds\n"
     ]
    },
    {
     "name": "stderr",
     "output_type": "stream",
     "text": [
      "INFO:gurobipy:Reading time = 0.12 seconds\n"
     ]
    },
    {
     "name": "stdout",
     "output_type": "stream",
     "text": [
      "obj: 131415 rows, 61327 columns, 267194 nonzeros\n"
     ]
    },
    {
     "name": "stderr",
     "output_type": "stream",
     "text": [
      "INFO:gurobipy:obj: 131415 rows, 61327 columns, 267194 nonzeros\n",
      "INFO:linopy.constants: Optimization successful: \n",
      "Status: ok\n",
      "Termination condition: optimal\n",
      "Solution: 61327 primals, 131415 duals\n",
      "Objective: 7.81e+11\n",
      "Solver model: available\n",
      "Solver message: 2\n",
      "\n",
      "INFO:pypsa.optimization.optimize:The shadow-prices of the constraints Generator-ext-p-lower, Generator-ext-p-upper were not assigned to the network.\n"
     ]
    },
    {
     "name": "stdout",
     "output_type": "stream",
     "text": [
      "utc_time\n",
      "2015-01-01 00:00:00+00:00    2651.0\n",
      "2015-01-01 01:00:00+00:00    2412.0\n",
      "2015-01-01 02:00:00+00:00    2256.0\n",
      "2015-01-01 03:00:00+00:00    2170.0\n",
      "2015-01-01 04:00:00+00:00    2136.0\n",
      "Name: IRL, dtype: float64\n"
     ]
    },
    {
     "name": "stderr",
     "output_type": "stream",
     "text": [
      "WARNING:pypsa.consistency:The following buses have carriers which are not defined:\n",
      "Index(['electricity bus'], dtype='object', name='Bus')\n",
      "INFO:linopy.model: Solve problem using Gurobi solver\n",
      "INFO:linopy.model:Solver options:\n",
      " - OutputFlag: 0\n",
      "INFO:linopy.io:Writing objective.\n",
      "Writing constraints.: 100%|\u001b[38;2;128;191;255m██████████\u001b[0m| 6/6 [00:00<00:00, 27.41it/s]\n",
      "Writing continuous variables.: 100%|\u001b[38;2;128;191;255m██████████\u001b[0m| 2/2 [00:00<00:00, 54.93it/s]\n",
      "INFO:linopy.io: Writing time: 0.28s\n"
     ]
    },
    {
     "name": "stdout",
     "output_type": "stream",
     "text": [
      "Set parameter Username\n"
     ]
    },
    {
     "name": "stderr",
     "output_type": "stream",
     "text": [
      "INFO:gurobipy:Set parameter Username\n"
     ]
    },
    {
     "name": "stdout",
     "output_type": "stream",
     "text": [
      "Academic license - for non-commercial use only - expires 2025-10-16\n"
     ]
    },
    {
     "name": "stderr",
     "output_type": "stream",
     "text": [
      "INFO:gurobipy:Academic license - for non-commercial use only - expires 2025-10-16\n"
     ]
    },
    {
     "name": "stdout",
     "output_type": "stream",
     "text": [
      "Read LP format model from file /private/var/folders/j2/tx7xgp1d11n3lnbvkls0cjsw0000gn/T/linopy-problem-c4vegedx.lp\n"
     ]
    },
    {
     "name": "stderr",
     "output_type": "stream",
     "text": [
      "INFO:gurobipy:Read LP format model from file /private/var/folders/j2/tx7xgp1d11n3lnbvkls0cjsw0000gn/T/linopy-problem-c4vegedx.lp\n"
     ]
    },
    {
     "name": "stdout",
     "output_type": "stream",
     "text": [
      "Reading time = 0.12 seconds\n"
     ]
    },
    {
     "name": "stderr",
     "output_type": "stream",
     "text": [
      "INFO:gurobipy:Reading time = 0.12 seconds\n"
     ]
    },
    {
     "name": "stdout",
     "output_type": "stream",
     "text": [
      "obj: 131415 rows, 61327 columns, 267194 nonzeros\n"
     ]
    },
    {
     "name": "stderr",
     "output_type": "stream",
     "text": [
      "INFO:gurobipy:obj: 131415 rows, 61327 columns, 267194 nonzeros\n",
      "INFO:linopy.constants: Optimization successful: \n",
      "Status: ok\n",
      "Termination condition: optimal\n",
      "Solution: 61327 primals, 131415 duals\n",
      "Objective: 6.25e+11\n",
      "Solver model: available\n",
      "Solver message: 2\n",
      "\n",
      "INFO:pypsa.optimization.optimize:The shadow-prices of the constraints Generator-ext-p-lower, Generator-ext-p-upper were not assigned to the network.\n"
     ]
    },
    {
     "name": "stdout",
     "output_type": "stream",
     "text": [
      "utc_time\n",
      "2015-01-01 00:00:00+00:00    2651.0\n",
      "2015-01-01 01:00:00+00:00    2412.0\n",
      "2015-01-01 02:00:00+00:00    2256.0\n",
      "2015-01-01 03:00:00+00:00    2170.0\n",
      "2015-01-01 04:00:00+00:00    2136.0\n",
      "Name: IRL, dtype: float64\n"
     ]
    },
    {
     "name": "stderr",
     "output_type": "stream",
     "text": [
      "WARNING:pypsa.consistency:The following buses have carriers which are not defined:\n",
      "Index(['electricity bus'], dtype='object', name='Bus')\n",
      "INFO:linopy.model: Solve problem using Gurobi solver\n",
      "INFO:linopy.model:Solver options:\n",
      " - OutputFlag: 0\n",
      "INFO:linopy.io:Writing objective.\n",
      "Writing constraints.: 100%|\u001b[38;2;128;191;255m██████████\u001b[0m| 6/6 [00:00<00:00, 26.69it/s]\n",
      "Writing continuous variables.: 100%|\u001b[38;2;128;191;255m██████████\u001b[0m| 2/2 [00:00<00:00, 51.70it/s]\n",
      "INFO:linopy.io: Writing time: 0.29s\n"
     ]
    },
    {
     "name": "stdout",
     "output_type": "stream",
     "text": [
      "Set parameter Username\n"
     ]
    },
    {
     "name": "stderr",
     "output_type": "stream",
     "text": [
      "INFO:gurobipy:Set parameter Username\n"
     ]
    },
    {
     "name": "stdout",
     "output_type": "stream",
     "text": [
      "Academic license - for non-commercial use only - expires 2025-10-16\n"
     ]
    },
    {
     "name": "stderr",
     "output_type": "stream",
     "text": [
      "INFO:gurobipy:Academic license - for non-commercial use only - expires 2025-10-16\n"
     ]
    },
    {
     "name": "stdout",
     "output_type": "stream",
     "text": [
      "Read LP format model from file /private/var/folders/j2/tx7xgp1d11n3lnbvkls0cjsw0000gn/T/linopy-problem-053rdjei.lp\n"
     ]
    },
    {
     "name": "stderr",
     "output_type": "stream",
     "text": [
      "INFO:gurobipy:Read LP format model from file /private/var/folders/j2/tx7xgp1d11n3lnbvkls0cjsw0000gn/T/linopy-problem-053rdjei.lp\n"
     ]
    },
    {
     "name": "stdout",
     "output_type": "stream",
     "text": [
      "Reading time = 0.12 seconds\n"
     ]
    },
    {
     "name": "stderr",
     "output_type": "stream",
     "text": [
      "INFO:gurobipy:Reading time = 0.12 seconds\n"
     ]
    },
    {
     "name": "stdout",
     "output_type": "stream",
     "text": [
      "obj: 131415 rows, 61327 columns, 267194 nonzeros\n"
     ]
    },
    {
     "name": "stderr",
     "output_type": "stream",
     "text": [
      "INFO:gurobipy:obj: 131415 rows, 61327 columns, 267194 nonzeros\n",
      "INFO:linopy.constants: Optimization successful: \n",
      "Status: ok\n",
      "Termination condition: optimal\n",
      "Solution: 61327 primals, 131415 duals\n",
      "Objective: 4.70e+11\n",
      "Solver model: available\n",
      "Solver message: 2\n",
      "\n",
      "INFO:pypsa.optimization.optimize:The shadow-prices of the constraints Generator-ext-p-lower, Generator-ext-p-upper were not assigned to the network.\n"
     ]
    }
   ],
   "source": [
    "objectives = {}\n",
    "capacities_dic = {}\n",
    "loadConsumptions = {}\n",
    "generations = {}\n",
    "snapshots = {}\n",
    "for Co2_limit in range(2000000, 5000000, 500000):\n",
    "    network.add(\"GlobalConstraint\",\n",
    "                 \"co2_limit\",\n",
    "                 type=\"primary_energy\",\n",
    "                 carrier_attribute=\"co2_emissions\",\n",
    "                 sense=\"<=\",\n",
    "                 constant=Co2_limit,\n",
    "                 overwrite=True)\n",
    "    objective, capacities, loadConsumption, generation, snapshot, status = optimizer(2015)\n",
    "    if status[1] == \"optimal\":\n",
    "        objectives[Co2_limit] = objective\n",
    "        capacities_dic[Co2_limit] = capacities\n",
    "        loadConsumptions[Co2_limit] = loadConsumption\n",
    "        generations[Co2_limit] = generation\n",
    "        snapshots[Co2_limit] = snapshot\n",
    "    "
   ]
  },
  {
   "cell_type": "code",
   "execution_count": 14,
   "metadata": {},
   "outputs": [],
   "source": [
    "def plot_mix(generator, co2_limit):\n",
    "\n",
    "\n",
    "    labels = ['onshore wind', 'solar', 'gas (OCGT)', 'coal', 'biomass', 'oil', 'offshore wind']\n",
    "    sizes = [generator['onshorewind'].sum(),\n",
    "                    generator['solar'].sum(),\n",
    "                    generator['OCGT'].sum(),\n",
    "                    generator['Coal'].sum(),\n",
    "                    generator['Biomass'].sum(),\n",
    "                    generator['Oil'].sum(),\n",
    "                    generator['offshorewind'].sum()]\n",
    "\n",
    "    colors = ['blue', 'orange', 'brown', 'grey', 'green', 'black', 'purple']\n",
    "\n",
    "    fig = go.Figure(data=[go.Pie(labels=labels, values=sizes, marker=dict(colors=colors))])\n",
    "\n",
    "    fig.update_layout(title='Electricity mix',\n",
    "                      annotations=[dict(text=f\"CO2 limit: {co2_limit} tonCO2\",\n",
    "                                       x=0.5, y=1.3, font_size=20, showarrow=False)])\n",
    "\n",
    "    fig.show()\n"
   ]
  },
  {
   "cell_type": "code",
   "execution_count": 15,
   "metadata": {},
   "outputs": [
    {
     "data": {
      "application/vnd.plotly.v1+json": {
       "config": {
        "plotlyServerURL": "https://plot.ly"
       },
       "data": [
        {
         "labels": [
          "onshore wind",
          "solar",
          "gas (OCGT)",
          "coal",
          "biomass",
          "oil",
          "offshore wind"
         ],
         "marker": {
          "colors": [
           "blue",
           "orange",
           "brown",
           "grey",
           "green",
           "black",
           "purple"
          ]
         },
         "type": "pie",
         "values": [
          10851822.06252431,
          0,
          15116054.955828391,
          0,
          577080.0794847537,
          27308.902162548664,
          0
         ]
        }
       ],
       "layout": {
        "annotations": [
         {
          "font": {
           "size": 20
          },
          "showarrow": false,
          "text": "CO2 limit: 3000000 tonCO2",
          "x": 0.5,
          "y": 1.3
         }
        ],
        "template": {
         "data": {
          "bar": [
           {
            "error_x": {
             "color": "#2a3f5f"
            },
            "error_y": {
             "color": "#2a3f5f"
            },
            "marker": {
             "line": {
              "color": "#E5ECF6",
              "width": 0.5
             },
             "pattern": {
              "fillmode": "overlay",
              "size": 10,
              "solidity": 0.2
             }
            },
            "type": "bar"
           }
          ],
          "barpolar": [
           {
            "marker": {
             "line": {
              "color": "#E5ECF6",
              "width": 0.5
             },
             "pattern": {
              "fillmode": "overlay",
              "size": 10,
              "solidity": 0.2
             }
            },
            "type": "barpolar"
           }
          ],
          "carpet": [
           {
            "aaxis": {
             "endlinecolor": "#2a3f5f",
             "gridcolor": "white",
             "linecolor": "white",
             "minorgridcolor": "white",
             "startlinecolor": "#2a3f5f"
            },
            "baxis": {
             "endlinecolor": "#2a3f5f",
             "gridcolor": "white",
             "linecolor": "white",
             "minorgridcolor": "white",
             "startlinecolor": "#2a3f5f"
            },
            "type": "carpet"
           }
          ],
          "choropleth": [
           {
            "colorbar": {
             "outlinewidth": 0,
             "ticks": ""
            },
            "type": "choropleth"
           }
          ],
          "contour": [
           {
            "colorbar": {
             "outlinewidth": 0,
             "ticks": ""
            },
            "colorscale": [
             [
              0,
              "#0d0887"
             ],
             [
              0.1111111111111111,
              "#46039f"
             ],
             [
              0.2222222222222222,
              "#7201a8"
             ],
             [
              0.3333333333333333,
              "#9c179e"
             ],
             [
              0.4444444444444444,
              "#bd3786"
             ],
             [
              0.5555555555555556,
              "#d8576b"
             ],
             [
              0.6666666666666666,
              "#ed7953"
             ],
             [
              0.7777777777777778,
              "#fb9f3a"
             ],
             [
              0.8888888888888888,
              "#fdca26"
             ],
             [
              1,
              "#f0f921"
             ]
            ],
            "type": "contour"
           }
          ],
          "contourcarpet": [
           {
            "colorbar": {
             "outlinewidth": 0,
             "ticks": ""
            },
            "type": "contourcarpet"
           }
          ],
          "heatmap": [
           {
            "colorbar": {
             "outlinewidth": 0,
             "ticks": ""
            },
            "colorscale": [
             [
              0,
              "#0d0887"
             ],
             [
              0.1111111111111111,
              "#46039f"
             ],
             [
              0.2222222222222222,
              "#7201a8"
             ],
             [
              0.3333333333333333,
              "#9c179e"
             ],
             [
              0.4444444444444444,
              "#bd3786"
             ],
             [
              0.5555555555555556,
              "#d8576b"
             ],
             [
              0.6666666666666666,
              "#ed7953"
             ],
             [
              0.7777777777777778,
              "#fb9f3a"
             ],
             [
              0.8888888888888888,
              "#fdca26"
             ],
             [
              1,
              "#f0f921"
             ]
            ],
            "type": "heatmap"
           }
          ],
          "histogram": [
           {
            "marker": {
             "pattern": {
              "fillmode": "overlay",
              "size": 10,
              "solidity": 0.2
             }
            },
            "type": "histogram"
           }
          ],
          "histogram2d": [
           {
            "colorbar": {
             "outlinewidth": 0,
             "ticks": ""
            },
            "colorscale": [
             [
              0,
              "#0d0887"
             ],
             [
              0.1111111111111111,
              "#46039f"
             ],
             [
              0.2222222222222222,
              "#7201a8"
             ],
             [
              0.3333333333333333,
              "#9c179e"
             ],
             [
              0.4444444444444444,
              "#bd3786"
             ],
             [
              0.5555555555555556,
              "#d8576b"
             ],
             [
              0.6666666666666666,
              "#ed7953"
             ],
             [
              0.7777777777777778,
              "#fb9f3a"
             ],
             [
              0.8888888888888888,
              "#fdca26"
             ],
             [
              1,
              "#f0f921"
             ]
            ],
            "type": "histogram2d"
           }
          ],
          "histogram2dcontour": [
           {
            "colorbar": {
             "outlinewidth": 0,
             "ticks": ""
            },
            "colorscale": [
             [
              0,
              "#0d0887"
             ],
             [
              0.1111111111111111,
              "#46039f"
             ],
             [
              0.2222222222222222,
              "#7201a8"
             ],
             [
              0.3333333333333333,
              "#9c179e"
             ],
             [
              0.4444444444444444,
              "#bd3786"
             ],
             [
              0.5555555555555556,
              "#d8576b"
             ],
             [
              0.6666666666666666,
              "#ed7953"
             ],
             [
              0.7777777777777778,
              "#fb9f3a"
             ],
             [
              0.8888888888888888,
              "#fdca26"
             ],
             [
              1,
              "#f0f921"
             ]
            ],
            "type": "histogram2dcontour"
           }
          ],
          "mesh3d": [
           {
            "colorbar": {
             "outlinewidth": 0,
             "ticks": ""
            },
            "type": "mesh3d"
           }
          ],
          "parcoords": [
           {
            "line": {
             "colorbar": {
              "outlinewidth": 0,
              "ticks": ""
             }
            },
            "type": "parcoords"
           }
          ],
          "pie": [
           {
            "automargin": true,
            "type": "pie"
           }
          ],
          "scatter": [
           {
            "fillpattern": {
             "fillmode": "overlay",
             "size": 10,
             "solidity": 0.2
            },
            "type": "scatter"
           }
          ],
          "scatter3d": [
           {
            "line": {
             "colorbar": {
              "outlinewidth": 0,
              "ticks": ""
             }
            },
            "marker": {
             "colorbar": {
              "outlinewidth": 0,
              "ticks": ""
             }
            },
            "type": "scatter3d"
           }
          ],
          "scattercarpet": [
           {
            "marker": {
             "colorbar": {
              "outlinewidth": 0,
              "ticks": ""
             }
            },
            "type": "scattercarpet"
           }
          ],
          "scattergeo": [
           {
            "marker": {
             "colorbar": {
              "outlinewidth": 0,
              "ticks": ""
             }
            },
            "type": "scattergeo"
           }
          ],
          "scattergl": [
           {
            "marker": {
             "colorbar": {
              "outlinewidth": 0,
              "ticks": ""
             }
            },
            "type": "scattergl"
           }
          ],
          "scattermap": [
           {
            "marker": {
             "colorbar": {
              "outlinewidth": 0,
              "ticks": ""
             }
            },
            "type": "scattermap"
           }
          ],
          "scattermapbox": [
           {
            "marker": {
             "colorbar": {
              "outlinewidth": 0,
              "ticks": ""
             }
            },
            "type": "scattermapbox"
           }
          ],
          "scatterpolar": [
           {
            "marker": {
             "colorbar": {
              "outlinewidth": 0,
              "ticks": ""
             }
            },
            "type": "scatterpolar"
           }
          ],
          "scatterpolargl": [
           {
            "marker": {
             "colorbar": {
              "outlinewidth": 0,
              "ticks": ""
             }
            },
            "type": "scatterpolargl"
           }
          ],
          "scatterternary": [
           {
            "marker": {
             "colorbar": {
              "outlinewidth": 0,
              "ticks": ""
             }
            },
            "type": "scatterternary"
           }
          ],
          "surface": [
           {
            "colorbar": {
             "outlinewidth": 0,
             "ticks": ""
            },
            "colorscale": [
             [
              0,
              "#0d0887"
             ],
             [
              0.1111111111111111,
              "#46039f"
             ],
             [
              0.2222222222222222,
              "#7201a8"
             ],
             [
              0.3333333333333333,
              "#9c179e"
             ],
             [
              0.4444444444444444,
              "#bd3786"
             ],
             [
              0.5555555555555556,
              "#d8576b"
             ],
             [
              0.6666666666666666,
              "#ed7953"
             ],
             [
              0.7777777777777778,
              "#fb9f3a"
             ],
             [
              0.8888888888888888,
              "#fdca26"
             ],
             [
              1,
              "#f0f921"
             ]
            ],
            "type": "surface"
           }
          ],
          "table": [
           {
            "cells": {
             "fill": {
              "color": "#EBF0F8"
             },
             "line": {
              "color": "white"
             }
            },
            "header": {
             "fill": {
              "color": "#C8D4E3"
             },
             "line": {
              "color": "white"
             }
            },
            "type": "table"
           }
          ]
         },
         "layout": {
          "annotationdefaults": {
           "arrowcolor": "#2a3f5f",
           "arrowhead": 0,
           "arrowwidth": 1
          },
          "autotypenumbers": "strict",
          "coloraxis": {
           "colorbar": {
            "outlinewidth": 0,
            "ticks": ""
           }
          },
          "colorscale": {
           "diverging": [
            [
             0,
             "#8e0152"
            ],
            [
             0.1,
             "#c51b7d"
            ],
            [
             0.2,
             "#de77ae"
            ],
            [
             0.3,
             "#f1b6da"
            ],
            [
             0.4,
             "#fde0ef"
            ],
            [
             0.5,
             "#f7f7f7"
            ],
            [
             0.6,
             "#e6f5d0"
            ],
            [
             0.7,
             "#b8e186"
            ],
            [
             0.8,
             "#7fbc41"
            ],
            [
             0.9,
             "#4d9221"
            ],
            [
             1,
             "#276419"
            ]
           ],
           "sequential": [
            [
             0,
             "#0d0887"
            ],
            [
             0.1111111111111111,
             "#46039f"
            ],
            [
             0.2222222222222222,
             "#7201a8"
            ],
            [
             0.3333333333333333,
             "#9c179e"
            ],
            [
             0.4444444444444444,
             "#bd3786"
            ],
            [
             0.5555555555555556,
             "#d8576b"
            ],
            [
             0.6666666666666666,
             "#ed7953"
            ],
            [
             0.7777777777777778,
             "#fb9f3a"
            ],
            [
             0.8888888888888888,
             "#fdca26"
            ],
            [
             1,
             "#f0f921"
            ]
           ],
           "sequentialminus": [
            [
             0,
             "#0d0887"
            ],
            [
             0.1111111111111111,
             "#46039f"
            ],
            [
             0.2222222222222222,
             "#7201a8"
            ],
            [
             0.3333333333333333,
             "#9c179e"
            ],
            [
             0.4444444444444444,
             "#bd3786"
            ],
            [
             0.5555555555555556,
             "#d8576b"
            ],
            [
             0.6666666666666666,
             "#ed7953"
            ],
            [
             0.7777777777777778,
             "#fb9f3a"
            ],
            [
             0.8888888888888888,
             "#fdca26"
            ],
            [
             1,
             "#f0f921"
            ]
           ]
          },
          "colorway": [
           "#636efa",
           "#EF553B",
           "#00cc96",
           "#ab63fa",
           "#FFA15A",
           "#19d3f3",
           "#FF6692",
           "#B6E880",
           "#FF97FF",
           "#FECB52"
          ],
          "font": {
           "color": "#2a3f5f"
          },
          "geo": {
           "bgcolor": "white",
           "lakecolor": "white",
           "landcolor": "#E5ECF6",
           "showlakes": true,
           "showland": true,
           "subunitcolor": "white"
          },
          "hoverlabel": {
           "align": "left"
          },
          "hovermode": "closest",
          "mapbox": {
           "style": "light"
          },
          "paper_bgcolor": "white",
          "plot_bgcolor": "#E5ECF6",
          "polar": {
           "angularaxis": {
            "gridcolor": "white",
            "linecolor": "white",
            "ticks": ""
           },
           "bgcolor": "#E5ECF6",
           "radialaxis": {
            "gridcolor": "white",
            "linecolor": "white",
            "ticks": ""
           }
          },
          "scene": {
           "xaxis": {
            "backgroundcolor": "#E5ECF6",
            "gridcolor": "white",
            "gridwidth": 2,
            "linecolor": "white",
            "showbackground": true,
            "ticks": "",
            "zerolinecolor": "white"
           },
           "yaxis": {
            "backgroundcolor": "#E5ECF6",
            "gridcolor": "white",
            "gridwidth": 2,
            "linecolor": "white",
            "showbackground": true,
            "ticks": "",
            "zerolinecolor": "white"
           },
           "zaxis": {
            "backgroundcolor": "#E5ECF6",
            "gridcolor": "white",
            "gridwidth": 2,
            "linecolor": "white",
            "showbackground": true,
            "ticks": "",
            "zerolinecolor": "white"
           }
          },
          "shapedefaults": {
           "line": {
            "color": "#2a3f5f"
           }
          },
          "ternary": {
           "aaxis": {
            "gridcolor": "white",
            "linecolor": "white",
            "ticks": ""
           },
           "baxis": {
            "gridcolor": "white",
            "linecolor": "white",
            "ticks": ""
           },
           "bgcolor": "#E5ECF6",
           "caxis": {
            "gridcolor": "white",
            "linecolor": "white",
            "ticks": ""
           }
          },
          "title": {
           "x": 0.05
          },
          "xaxis": {
           "automargin": true,
           "gridcolor": "white",
           "linecolor": "white",
           "ticks": "",
           "title": {
            "standoff": 15
           },
           "zerolinecolor": "white",
           "zerolinewidth": 2
          },
          "yaxis": {
           "automargin": true,
           "gridcolor": "white",
           "linecolor": "white",
           "ticks": "",
           "title": {
            "standoff": 15
           },
           "zerolinecolor": "white",
           "zerolinewidth": 2
          }
         }
        },
        "title": {
         "text": "Electricity mix"
        }
       }
      }
     },
     "metadata": {},
     "output_type": "display_data"
    },
    {
     "data": {
      "application/vnd.plotly.v1+json": {
       "config": {
        "plotlyServerURL": "https://plot.ly"
       },
       "data": [
        {
         "labels": [
          "onshore wind",
          "solar",
          "gas (OCGT)",
          "coal",
          "biomass",
          "oil",
          "offshore wind"
         ],
         "marker": {
          "colors": [
           "blue",
           "orange",
           "brown",
           "grey",
           "green",
           "black",
           "purple"
          ]
         },
         "type": "pie",
         "values": [
          8297820.694523405,
          0,
          17631503.29123559,
          0,
          608082.6274834534,
          34859.38675755398,
          0
         ]
        }
       ],
       "layout": {
        "annotations": [
         {
          "font": {
           "size": 20
          },
          "showarrow": false,
          "text": "CO2 limit: 3500000 tonCO2",
          "x": 0.5,
          "y": 1.3
         }
        ],
        "template": {
         "data": {
          "bar": [
           {
            "error_x": {
             "color": "#2a3f5f"
            },
            "error_y": {
             "color": "#2a3f5f"
            },
            "marker": {
             "line": {
              "color": "#E5ECF6",
              "width": 0.5
             },
             "pattern": {
              "fillmode": "overlay",
              "size": 10,
              "solidity": 0.2
             }
            },
            "type": "bar"
           }
          ],
          "barpolar": [
           {
            "marker": {
             "line": {
              "color": "#E5ECF6",
              "width": 0.5
             },
             "pattern": {
              "fillmode": "overlay",
              "size": 10,
              "solidity": 0.2
             }
            },
            "type": "barpolar"
           }
          ],
          "carpet": [
           {
            "aaxis": {
             "endlinecolor": "#2a3f5f",
             "gridcolor": "white",
             "linecolor": "white",
             "minorgridcolor": "white",
             "startlinecolor": "#2a3f5f"
            },
            "baxis": {
             "endlinecolor": "#2a3f5f",
             "gridcolor": "white",
             "linecolor": "white",
             "minorgridcolor": "white",
             "startlinecolor": "#2a3f5f"
            },
            "type": "carpet"
           }
          ],
          "choropleth": [
           {
            "colorbar": {
             "outlinewidth": 0,
             "ticks": ""
            },
            "type": "choropleth"
           }
          ],
          "contour": [
           {
            "colorbar": {
             "outlinewidth": 0,
             "ticks": ""
            },
            "colorscale": [
             [
              0,
              "#0d0887"
             ],
             [
              0.1111111111111111,
              "#46039f"
             ],
             [
              0.2222222222222222,
              "#7201a8"
             ],
             [
              0.3333333333333333,
              "#9c179e"
             ],
             [
              0.4444444444444444,
              "#bd3786"
             ],
             [
              0.5555555555555556,
              "#d8576b"
             ],
             [
              0.6666666666666666,
              "#ed7953"
             ],
             [
              0.7777777777777778,
              "#fb9f3a"
             ],
             [
              0.8888888888888888,
              "#fdca26"
             ],
             [
              1,
              "#f0f921"
             ]
            ],
            "type": "contour"
           }
          ],
          "contourcarpet": [
           {
            "colorbar": {
             "outlinewidth": 0,
             "ticks": ""
            },
            "type": "contourcarpet"
           }
          ],
          "heatmap": [
           {
            "colorbar": {
             "outlinewidth": 0,
             "ticks": ""
            },
            "colorscale": [
             [
              0,
              "#0d0887"
             ],
             [
              0.1111111111111111,
              "#46039f"
             ],
             [
              0.2222222222222222,
              "#7201a8"
             ],
             [
              0.3333333333333333,
              "#9c179e"
             ],
             [
              0.4444444444444444,
              "#bd3786"
             ],
             [
              0.5555555555555556,
              "#d8576b"
             ],
             [
              0.6666666666666666,
              "#ed7953"
             ],
             [
              0.7777777777777778,
              "#fb9f3a"
             ],
             [
              0.8888888888888888,
              "#fdca26"
             ],
             [
              1,
              "#f0f921"
             ]
            ],
            "type": "heatmap"
           }
          ],
          "histogram": [
           {
            "marker": {
             "pattern": {
              "fillmode": "overlay",
              "size": 10,
              "solidity": 0.2
             }
            },
            "type": "histogram"
           }
          ],
          "histogram2d": [
           {
            "colorbar": {
             "outlinewidth": 0,
             "ticks": ""
            },
            "colorscale": [
             [
              0,
              "#0d0887"
             ],
             [
              0.1111111111111111,
              "#46039f"
             ],
             [
              0.2222222222222222,
              "#7201a8"
             ],
             [
              0.3333333333333333,
              "#9c179e"
             ],
             [
              0.4444444444444444,
              "#bd3786"
             ],
             [
              0.5555555555555556,
              "#d8576b"
             ],
             [
              0.6666666666666666,
              "#ed7953"
             ],
             [
              0.7777777777777778,
              "#fb9f3a"
             ],
             [
              0.8888888888888888,
              "#fdca26"
             ],
             [
              1,
              "#f0f921"
             ]
            ],
            "type": "histogram2d"
           }
          ],
          "histogram2dcontour": [
           {
            "colorbar": {
             "outlinewidth": 0,
             "ticks": ""
            },
            "colorscale": [
             [
              0,
              "#0d0887"
             ],
             [
              0.1111111111111111,
              "#46039f"
             ],
             [
              0.2222222222222222,
              "#7201a8"
             ],
             [
              0.3333333333333333,
              "#9c179e"
             ],
             [
              0.4444444444444444,
              "#bd3786"
             ],
             [
              0.5555555555555556,
              "#d8576b"
             ],
             [
              0.6666666666666666,
              "#ed7953"
             ],
             [
              0.7777777777777778,
              "#fb9f3a"
             ],
             [
              0.8888888888888888,
              "#fdca26"
             ],
             [
              1,
              "#f0f921"
             ]
            ],
            "type": "histogram2dcontour"
           }
          ],
          "mesh3d": [
           {
            "colorbar": {
             "outlinewidth": 0,
             "ticks": ""
            },
            "type": "mesh3d"
           }
          ],
          "parcoords": [
           {
            "line": {
             "colorbar": {
              "outlinewidth": 0,
              "ticks": ""
             }
            },
            "type": "parcoords"
           }
          ],
          "pie": [
           {
            "automargin": true,
            "type": "pie"
           }
          ],
          "scatter": [
           {
            "fillpattern": {
             "fillmode": "overlay",
             "size": 10,
             "solidity": 0.2
            },
            "type": "scatter"
           }
          ],
          "scatter3d": [
           {
            "line": {
             "colorbar": {
              "outlinewidth": 0,
              "ticks": ""
             }
            },
            "marker": {
             "colorbar": {
              "outlinewidth": 0,
              "ticks": ""
             }
            },
            "type": "scatter3d"
           }
          ],
          "scattercarpet": [
           {
            "marker": {
             "colorbar": {
              "outlinewidth": 0,
              "ticks": ""
             }
            },
            "type": "scattercarpet"
           }
          ],
          "scattergeo": [
           {
            "marker": {
             "colorbar": {
              "outlinewidth": 0,
              "ticks": ""
             }
            },
            "type": "scattergeo"
           }
          ],
          "scattergl": [
           {
            "marker": {
             "colorbar": {
              "outlinewidth": 0,
              "ticks": ""
             }
            },
            "type": "scattergl"
           }
          ],
          "scattermap": [
           {
            "marker": {
             "colorbar": {
              "outlinewidth": 0,
              "ticks": ""
             }
            },
            "type": "scattermap"
           }
          ],
          "scattermapbox": [
           {
            "marker": {
             "colorbar": {
              "outlinewidth": 0,
              "ticks": ""
             }
            },
            "type": "scattermapbox"
           }
          ],
          "scatterpolar": [
           {
            "marker": {
             "colorbar": {
              "outlinewidth": 0,
              "ticks": ""
             }
            },
            "type": "scatterpolar"
           }
          ],
          "scatterpolargl": [
           {
            "marker": {
             "colorbar": {
              "outlinewidth": 0,
              "ticks": ""
             }
            },
            "type": "scatterpolargl"
           }
          ],
          "scatterternary": [
           {
            "marker": {
             "colorbar": {
              "outlinewidth": 0,
              "ticks": ""
             }
            },
            "type": "scatterternary"
           }
          ],
          "surface": [
           {
            "colorbar": {
             "outlinewidth": 0,
             "ticks": ""
            },
            "colorscale": [
             [
              0,
              "#0d0887"
             ],
             [
              0.1111111111111111,
              "#46039f"
             ],
             [
              0.2222222222222222,
              "#7201a8"
             ],
             [
              0.3333333333333333,
              "#9c179e"
             ],
             [
              0.4444444444444444,
              "#bd3786"
             ],
             [
              0.5555555555555556,
              "#d8576b"
             ],
             [
              0.6666666666666666,
              "#ed7953"
             ],
             [
              0.7777777777777778,
              "#fb9f3a"
             ],
             [
              0.8888888888888888,
              "#fdca26"
             ],
             [
              1,
              "#f0f921"
             ]
            ],
            "type": "surface"
           }
          ],
          "table": [
           {
            "cells": {
             "fill": {
              "color": "#EBF0F8"
             },
             "line": {
              "color": "white"
             }
            },
            "header": {
             "fill": {
              "color": "#C8D4E3"
             },
             "line": {
              "color": "white"
             }
            },
            "type": "table"
           }
          ]
         },
         "layout": {
          "annotationdefaults": {
           "arrowcolor": "#2a3f5f",
           "arrowhead": 0,
           "arrowwidth": 1
          },
          "autotypenumbers": "strict",
          "coloraxis": {
           "colorbar": {
            "outlinewidth": 0,
            "ticks": ""
           }
          },
          "colorscale": {
           "diverging": [
            [
             0,
             "#8e0152"
            ],
            [
             0.1,
             "#c51b7d"
            ],
            [
             0.2,
             "#de77ae"
            ],
            [
             0.3,
             "#f1b6da"
            ],
            [
             0.4,
             "#fde0ef"
            ],
            [
             0.5,
             "#f7f7f7"
            ],
            [
             0.6,
             "#e6f5d0"
            ],
            [
             0.7,
             "#b8e186"
            ],
            [
             0.8,
             "#7fbc41"
            ],
            [
             0.9,
             "#4d9221"
            ],
            [
             1,
             "#276419"
            ]
           ],
           "sequential": [
            [
             0,
             "#0d0887"
            ],
            [
             0.1111111111111111,
             "#46039f"
            ],
            [
             0.2222222222222222,
             "#7201a8"
            ],
            [
             0.3333333333333333,
             "#9c179e"
            ],
            [
             0.4444444444444444,
             "#bd3786"
            ],
            [
             0.5555555555555556,
             "#d8576b"
            ],
            [
             0.6666666666666666,
             "#ed7953"
            ],
            [
             0.7777777777777778,
             "#fb9f3a"
            ],
            [
             0.8888888888888888,
             "#fdca26"
            ],
            [
             1,
             "#f0f921"
            ]
           ],
           "sequentialminus": [
            [
             0,
             "#0d0887"
            ],
            [
             0.1111111111111111,
             "#46039f"
            ],
            [
             0.2222222222222222,
             "#7201a8"
            ],
            [
             0.3333333333333333,
             "#9c179e"
            ],
            [
             0.4444444444444444,
             "#bd3786"
            ],
            [
             0.5555555555555556,
             "#d8576b"
            ],
            [
             0.6666666666666666,
             "#ed7953"
            ],
            [
             0.7777777777777778,
             "#fb9f3a"
            ],
            [
             0.8888888888888888,
             "#fdca26"
            ],
            [
             1,
             "#f0f921"
            ]
           ]
          },
          "colorway": [
           "#636efa",
           "#EF553B",
           "#00cc96",
           "#ab63fa",
           "#FFA15A",
           "#19d3f3",
           "#FF6692",
           "#B6E880",
           "#FF97FF",
           "#FECB52"
          ],
          "font": {
           "color": "#2a3f5f"
          },
          "geo": {
           "bgcolor": "white",
           "lakecolor": "white",
           "landcolor": "#E5ECF6",
           "showlakes": true,
           "showland": true,
           "subunitcolor": "white"
          },
          "hoverlabel": {
           "align": "left"
          },
          "hovermode": "closest",
          "mapbox": {
           "style": "light"
          },
          "paper_bgcolor": "white",
          "plot_bgcolor": "#E5ECF6",
          "polar": {
           "angularaxis": {
            "gridcolor": "white",
            "linecolor": "white",
            "ticks": ""
           },
           "bgcolor": "#E5ECF6",
           "radialaxis": {
            "gridcolor": "white",
            "linecolor": "white",
            "ticks": ""
           }
          },
          "scene": {
           "xaxis": {
            "backgroundcolor": "#E5ECF6",
            "gridcolor": "white",
            "gridwidth": 2,
            "linecolor": "white",
            "showbackground": true,
            "ticks": "",
            "zerolinecolor": "white"
           },
           "yaxis": {
            "backgroundcolor": "#E5ECF6",
            "gridcolor": "white",
            "gridwidth": 2,
            "linecolor": "white",
            "showbackground": true,
            "ticks": "",
            "zerolinecolor": "white"
           },
           "zaxis": {
            "backgroundcolor": "#E5ECF6",
            "gridcolor": "white",
            "gridwidth": 2,
            "linecolor": "white",
            "showbackground": true,
            "ticks": "",
            "zerolinecolor": "white"
           }
          },
          "shapedefaults": {
           "line": {
            "color": "#2a3f5f"
           }
          },
          "ternary": {
           "aaxis": {
            "gridcolor": "white",
            "linecolor": "white",
            "ticks": ""
           },
           "baxis": {
            "gridcolor": "white",
            "linecolor": "white",
            "ticks": ""
           },
           "bgcolor": "#E5ECF6",
           "caxis": {
            "gridcolor": "white",
            "linecolor": "white",
            "ticks": ""
           }
          },
          "title": {
           "x": 0.05
          },
          "xaxis": {
           "automargin": true,
           "gridcolor": "white",
           "linecolor": "white",
           "ticks": "",
           "title": {
            "standoff": 15
           },
           "zerolinecolor": "white",
           "zerolinewidth": 2
          },
          "yaxis": {
           "automargin": true,
           "gridcolor": "white",
           "linecolor": "white",
           "ticks": "",
           "title": {
            "standoff": 15
           },
           "zerolinecolor": "white",
           "zerolinewidth": 2
          }
         }
        },
        "title": {
         "text": "Electricity mix"
        }
       }
      }
     },
     "metadata": {},
     "output_type": "display_data"
    },
    {
     "data": {
      "application/vnd.plotly.v1+json": {
       "config": {
        "plotlyServerURL": "https://plot.ly"
       },
       "data": [
        {
         "labels": [
          "onshore wind",
          "solar",
          "gas (OCGT)",
          "coal",
          "biomass",
          "oil",
          "offshore wind"
         ],
         "marker": {
          "colors": [
           "blue",
           "orange",
           "brown",
           "grey",
           "green",
           "black",
           "purple"
          ]
         },
         "type": "pie",
         "values": [
          5771106.339015427,
          0,
          20140853.279850233,
          0,
          613200,
          47106.38113434456,
          0
         ]
        }
       ],
       "layout": {
        "annotations": [
         {
          "font": {
           "size": 20
          },
          "showarrow": false,
          "text": "CO2 limit: 4000000 tonCO2",
          "x": 0.5,
          "y": 1.3
         }
        ],
        "template": {
         "data": {
          "bar": [
           {
            "error_x": {
             "color": "#2a3f5f"
            },
            "error_y": {
             "color": "#2a3f5f"
            },
            "marker": {
             "line": {
              "color": "#E5ECF6",
              "width": 0.5
             },
             "pattern": {
              "fillmode": "overlay",
              "size": 10,
              "solidity": 0.2
             }
            },
            "type": "bar"
           }
          ],
          "barpolar": [
           {
            "marker": {
             "line": {
              "color": "#E5ECF6",
              "width": 0.5
             },
             "pattern": {
              "fillmode": "overlay",
              "size": 10,
              "solidity": 0.2
             }
            },
            "type": "barpolar"
           }
          ],
          "carpet": [
           {
            "aaxis": {
             "endlinecolor": "#2a3f5f",
             "gridcolor": "white",
             "linecolor": "white",
             "minorgridcolor": "white",
             "startlinecolor": "#2a3f5f"
            },
            "baxis": {
             "endlinecolor": "#2a3f5f",
             "gridcolor": "white",
             "linecolor": "white",
             "minorgridcolor": "white",
             "startlinecolor": "#2a3f5f"
            },
            "type": "carpet"
           }
          ],
          "choropleth": [
           {
            "colorbar": {
             "outlinewidth": 0,
             "ticks": ""
            },
            "type": "choropleth"
           }
          ],
          "contour": [
           {
            "colorbar": {
             "outlinewidth": 0,
             "ticks": ""
            },
            "colorscale": [
             [
              0,
              "#0d0887"
             ],
             [
              0.1111111111111111,
              "#46039f"
             ],
             [
              0.2222222222222222,
              "#7201a8"
             ],
             [
              0.3333333333333333,
              "#9c179e"
             ],
             [
              0.4444444444444444,
              "#bd3786"
             ],
             [
              0.5555555555555556,
              "#d8576b"
             ],
             [
              0.6666666666666666,
              "#ed7953"
             ],
             [
              0.7777777777777778,
              "#fb9f3a"
             ],
             [
              0.8888888888888888,
              "#fdca26"
             ],
             [
              1,
              "#f0f921"
             ]
            ],
            "type": "contour"
           }
          ],
          "contourcarpet": [
           {
            "colorbar": {
             "outlinewidth": 0,
             "ticks": ""
            },
            "type": "contourcarpet"
           }
          ],
          "heatmap": [
           {
            "colorbar": {
             "outlinewidth": 0,
             "ticks": ""
            },
            "colorscale": [
             [
              0,
              "#0d0887"
             ],
             [
              0.1111111111111111,
              "#46039f"
             ],
             [
              0.2222222222222222,
              "#7201a8"
             ],
             [
              0.3333333333333333,
              "#9c179e"
             ],
             [
              0.4444444444444444,
              "#bd3786"
             ],
             [
              0.5555555555555556,
              "#d8576b"
             ],
             [
              0.6666666666666666,
              "#ed7953"
             ],
             [
              0.7777777777777778,
              "#fb9f3a"
             ],
             [
              0.8888888888888888,
              "#fdca26"
             ],
             [
              1,
              "#f0f921"
             ]
            ],
            "type": "heatmap"
           }
          ],
          "histogram": [
           {
            "marker": {
             "pattern": {
              "fillmode": "overlay",
              "size": 10,
              "solidity": 0.2
             }
            },
            "type": "histogram"
           }
          ],
          "histogram2d": [
           {
            "colorbar": {
             "outlinewidth": 0,
             "ticks": ""
            },
            "colorscale": [
             [
              0,
              "#0d0887"
             ],
             [
              0.1111111111111111,
              "#46039f"
             ],
             [
              0.2222222222222222,
              "#7201a8"
             ],
             [
              0.3333333333333333,
              "#9c179e"
             ],
             [
              0.4444444444444444,
              "#bd3786"
             ],
             [
              0.5555555555555556,
              "#d8576b"
             ],
             [
              0.6666666666666666,
              "#ed7953"
             ],
             [
              0.7777777777777778,
              "#fb9f3a"
             ],
             [
              0.8888888888888888,
              "#fdca26"
             ],
             [
              1,
              "#f0f921"
             ]
            ],
            "type": "histogram2d"
           }
          ],
          "histogram2dcontour": [
           {
            "colorbar": {
             "outlinewidth": 0,
             "ticks": ""
            },
            "colorscale": [
             [
              0,
              "#0d0887"
             ],
             [
              0.1111111111111111,
              "#46039f"
             ],
             [
              0.2222222222222222,
              "#7201a8"
             ],
             [
              0.3333333333333333,
              "#9c179e"
             ],
             [
              0.4444444444444444,
              "#bd3786"
             ],
             [
              0.5555555555555556,
              "#d8576b"
             ],
             [
              0.6666666666666666,
              "#ed7953"
             ],
             [
              0.7777777777777778,
              "#fb9f3a"
             ],
             [
              0.8888888888888888,
              "#fdca26"
             ],
             [
              1,
              "#f0f921"
             ]
            ],
            "type": "histogram2dcontour"
           }
          ],
          "mesh3d": [
           {
            "colorbar": {
             "outlinewidth": 0,
             "ticks": ""
            },
            "type": "mesh3d"
           }
          ],
          "parcoords": [
           {
            "line": {
             "colorbar": {
              "outlinewidth": 0,
              "ticks": ""
             }
            },
            "type": "parcoords"
           }
          ],
          "pie": [
           {
            "automargin": true,
            "type": "pie"
           }
          ],
          "scatter": [
           {
            "fillpattern": {
             "fillmode": "overlay",
             "size": 10,
             "solidity": 0.2
            },
            "type": "scatter"
           }
          ],
          "scatter3d": [
           {
            "line": {
             "colorbar": {
              "outlinewidth": 0,
              "ticks": ""
             }
            },
            "marker": {
             "colorbar": {
              "outlinewidth": 0,
              "ticks": ""
             }
            },
            "type": "scatter3d"
           }
          ],
          "scattercarpet": [
           {
            "marker": {
             "colorbar": {
              "outlinewidth": 0,
              "ticks": ""
             }
            },
            "type": "scattercarpet"
           }
          ],
          "scattergeo": [
           {
            "marker": {
             "colorbar": {
              "outlinewidth": 0,
              "ticks": ""
             }
            },
            "type": "scattergeo"
           }
          ],
          "scattergl": [
           {
            "marker": {
             "colorbar": {
              "outlinewidth": 0,
              "ticks": ""
             }
            },
            "type": "scattergl"
           }
          ],
          "scattermap": [
           {
            "marker": {
             "colorbar": {
              "outlinewidth": 0,
              "ticks": ""
             }
            },
            "type": "scattermap"
           }
          ],
          "scattermapbox": [
           {
            "marker": {
             "colorbar": {
              "outlinewidth": 0,
              "ticks": ""
             }
            },
            "type": "scattermapbox"
           }
          ],
          "scatterpolar": [
           {
            "marker": {
             "colorbar": {
              "outlinewidth": 0,
              "ticks": ""
             }
            },
            "type": "scatterpolar"
           }
          ],
          "scatterpolargl": [
           {
            "marker": {
             "colorbar": {
              "outlinewidth": 0,
              "ticks": ""
             }
            },
            "type": "scatterpolargl"
           }
          ],
          "scatterternary": [
           {
            "marker": {
             "colorbar": {
              "outlinewidth": 0,
              "ticks": ""
             }
            },
            "type": "scatterternary"
           }
          ],
          "surface": [
           {
            "colorbar": {
             "outlinewidth": 0,
             "ticks": ""
            },
            "colorscale": [
             [
              0,
              "#0d0887"
             ],
             [
              0.1111111111111111,
              "#46039f"
             ],
             [
              0.2222222222222222,
              "#7201a8"
             ],
             [
              0.3333333333333333,
              "#9c179e"
             ],
             [
              0.4444444444444444,
              "#bd3786"
             ],
             [
              0.5555555555555556,
              "#d8576b"
             ],
             [
              0.6666666666666666,
              "#ed7953"
             ],
             [
              0.7777777777777778,
              "#fb9f3a"
             ],
             [
              0.8888888888888888,
              "#fdca26"
             ],
             [
              1,
              "#f0f921"
             ]
            ],
            "type": "surface"
           }
          ],
          "table": [
           {
            "cells": {
             "fill": {
              "color": "#EBF0F8"
             },
             "line": {
              "color": "white"
             }
            },
            "header": {
             "fill": {
              "color": "#C8D4E3"
             },
             "line": {
              "color": "white"
             }
            },
            "type": "table"
           }
          ]
         },
         "layout": {
          "annotationdefaults": {
           "arrowcolor": "#2a3f5f",
           "arrowhead": 0,
           "arrowwidth": 1
          },
          "autotypenumbers": "strict",
          "coloraxis": {
           "colorbar": {
            "outlinewidth": 0,
            "ticks": ""
           }
          },
          "colorscale": {
           "diverging": [
            [
             0,
             "#8e0152"
            ],
            [
             0.1,
             "#c51b7d"
            ],
            [
             0.2,
             "#de77ae"
            ],
            [
             0.3,
             "#f1b6da"
            ],
            [
             0.4,
             "#fde0ef"
            ],
            [
             0.5,
             "#f7f7f7"
            ],
            [
             0.6,
             "#e6f5d0"
            ],
            [
             0.7,
             "#b8e186"
            ],
            [
             0.8,
             "#7fbc41"
            ],
            [
             0.9,
             "#4d9221"
            ],
            [
             1,
             "#276419"
            ]
           ],
           "sequential": [
            [
             0,
             "#0d0887"
            ],
            [
             0.1111111111111111,
             "#46039f"
            ],
            [
             0.2222222222222222,
             "#7201a8"
            ],
            [
             0.3333333333333333,
             "#9c179e"
            ],
            [
             0.4444444444444444,
             "#bd3786"
            ],
            [
             0.5555555555555556,
             "#d8576b"
            ],
            [
             0.6666666666666666,
             "#ed7953"
            ],
            [
             0.7777777777777778,
             "#fb9f3a"
            ],
            [
             0.8888888888888888,
             "#fdca26"
            ],
            [
             1,
             "#f0f921"
            ]
           ],
           "sequentialminus": [
            [
             0,
             "#0d0887"
            ],
            [
             0.1111111111111111,
             "#46039f"
            ],
            [
             0.2222222222222222,
             "#7201a8"
            ],
            [
             0.3333333333333333,
             "#9c179e"
            ],
            [
             0.4444444444444444,
             "#bd3786"
            ],
            [
             0.5555555555555556,
             "#d8576b"
            ],
            [
             0.6666666666666666,
             "#ed7953"
            ],
            [
             0.7777777777777778,
             "#fb9f3a"
            ],
            [
             0.8888888888888888,
             "#fdca26"
            ],
            [
             1,
             "#f0f921"
            ]
           ]
          },
          "colorway": [
           "#636efa",
           "#EF553B",
           "#00cc96",
           "#ab63fa",
           "#FFA15A",
           "#19d3f3",
           "#FF6692",
           "#B6E880",
           "#FF97FF",
           "#FECB52"
          ],
          "font": {
           "color": "#2a3f5f"
          },
          "geo": {
           "bgcolor": "white",
           "lakecolor": "white",
           "landcolor": "#E5ECF6",
           "showlakes": true,
           "showland": true,
           "subunitcolor": "white"
          },
          "hoverlabel": {
           "align": "left"
          },
          "hovermode": "closest",
          "mapbox": {
           "style": "light"
          },
          "paper_bgcolor": "white",
          "plot_bgcolor": "#E5ECF6",
          "polar": {
           "angularaxis": {
            "gridcolor": "white",
            "linecolor": "white",
            "ticks": ""
           },
           "bgcolor": "#E5ECF6",
           "radialaxis": {
            "gridcolor": "white",
            "linecolor": "white",
            "ticks": ""
           }
          },
          "scene": {
           "xaxis": {
            "backgroundcolor": "#E5ECF6",
            "gridcolor": "white",
            "gridwidth": 2,
            "linecolor": "white",
            "showbackground": true,
            "ticks": "",
            "zerolinecolor": "white"
           },
           "yaxis": {
            "backgroundcolor": "#E5ECF6",
            "gridcolor": "white",
            "gridwidth": 2,
            "linecolor": "white",
            "showbackground": true,
            "ticks": "",
            "zerolinecolor": "white"
           },
           "zaxis": {
            "backgroundcolor": "#E5ECF6",
            "gridcolor": "white",
            "gridwidth": 2,
            "linecolor": "white",
            "showbackground": true,
            "ticks": "",
            "zerolinecolor": "white"
           }
          },
          "shapedefaults": {
           "line": {
            "color": "#2a3f5f"
           }
          },
          "ternary": {
           "aaxis": {
            "gridcolor": "white",
            "linecolor": "white",
            "ticks": ""
           },
           "baxis": {
            "gridcolor": "white",
            "linecolor": "white",
            "ticks": ""
           },
           "bgcolor": "#E5ECF6",
           "caxis": {
            "gridcolor": "white",
            "linecolor": "white",
            "ticks": ""
           }
          },
          "title": {
           "x": 0.05
          },
          "xaxis": {
           "automargin": true,
           "gridcolor": "white",
           "linecolor": "white",
           "ticks": "",
           "title": {
            "standoff": 15
           },
           "zerolinecolor": "white",
           "zerolinewidth": 2
          },
          "yaxis": {
           "automargin": true,
           "gridcolor": "white",
           "linecolor": "white",
           "ticks": "",
           "title": {
            "standoff": 15
           },
           "zerolinecolor": "white",
           "zerolinewidth": 2
          }
         }
        },
        "title": {
         "text": "Electricity mix"
        }
       }
      }
     },
     "metadata": {},
     "output_type": "display_data"
    },
    {
     "data": {
      "application/vnd.plotly.v1+json": {
       "config": {
        "plotlyServerURL": "https://plot.ly"
       },
       "data": [
        {
         "labels": [
          "onshore wind",
          "solar",
          "gas (OCGT)",
          "coal",
          "biomass",
          "oil",
          "offshore wind"
         ],
         "marker": {
          "colors": [
           "blue",
           "orange",
           "brown",
           "grey",
           "green",
           "black",
           "purple"
          ]
         },
         "type": "pie",
         "values": [
          3254122.015658291,
          0,
          22630137.028329562,
          0,
          613200,
          74806.95601214524,
          0
         ]
        }
       ],
       "layout": {
        "annotations": [
         {
          "font": {
           "size": 20
          },
          "showarrow": false,
          "text": "CO2 limit: 4500000 tonCO2",
          "x": 0.5,
          "y": 1.3
         }
        ],
        "template": {
         "data": {
          "bar": [
           {
            "error_x": {
             "color": "#2a3f5f"
            },
            "error_y": {
             "color": "#2a3f5f"
            },
            "marker": {
             "line": {
              "color": "#E5ECF6",
              "width": 0.5
             },
             "pattern": {
              "fillmode": "overlay",
              "size": 10,
              "solidity": 0.2
             }
            },
            "type": "bar"
           }
          ],
          "barpolar": [
           {
            "marker": {
             "line": {
              "color": "#E5ECF6",
              "width": 0.5
             },
             "pattern": {
              "fillmode": "overlay",
              "size": 10,
              "solidity": 0.2
             }
            },
            "type": "barpolar"
           }
          ],
          "carpet": [
           {
            "aaxis": {
             "endlinecolor": "#2a3f5f",
             "gridcolor": "white",
             "linecolor": "white",
             "minorgridcolor": "white",
             "startlinecolor": "#2a3f5f"
            },
            "baxis": {
             "endlinecolor": "#2a3f5f",
             "gridcolor": "white",
             "linecolor": "white",
             "minorgridcolor": "white",
             "startlinecolor": "#2a3f5f"
            },
            "type": "carpet"
           }
          ],
          "choropleth": [
           {
            "colorbar": {
             "outlinewidth": 0,
             "ticks": ""
            },
            "type": "choropleth"
           }
          ],
          "contour": [
           {
            "colorbar": {
             "outlinewidth": 0,
             "ticks": ""
            },
            "colorscale": [
             [
              0,
              "#0d0887"
             ],
             [
              0.1111111111111111,
              "#46039f"
             ],
             [
              0.2222222222222222,
              "#7201a8"
             ],
             [
              0.3333333333333333,
              "#9c179e"
             ],
             [
              0.4444444444444444,
              "#bd3786"
             ],
             [
              0.5555555555555556,
              "#d8576b"
             ],
             [
              0.6666666666666666,
              "#ed7953"
             ],
             [
              0.7777777777777778,
              "#fb9f3a"
             ],
             [
              0.8888888888888888,
              "#fdca26"
             ],
             [
              1,
              "#f0f921"
             ]
            ],
            "type": "contour"
           }
          ],
          "contourcarpet": [
           {
            "colorbar": {
             "outlinewidth": 0,
             "ticks": ""
            },
            "type": "contourcarpet"
           }
          ],
          "heatmap": [
           {
            "colorbar": {
             "outlinewidth": 0,
             "ticks": ""
            },
            "colorscale": [
             [
              0,
              "#0d0887"
             ],
             [
              0.1111111111111111,
              "#46039f"
             ],
             [
              0.2222222222222222,
              "#7201a8"
             ],
             [
              0.3333333333333333,
              "#9c179e"
             ],
             [
              0.4444444444444444,
              "#bd3786"
             ],
             [
              0.5555555555555556,
              "#d8576b"
             ],
             [
              0.6666666666666666,
              "#ed7953"
             ],
             [
              0.7777777777777778,
              "#fb9f3a"
             ],
             [
              0.8888888888888888,
              "#fdca26"
             ],
             [
              1,
              "#f0f921"
             ]
            ],
            "type": "heatmap"
           }
          ],
          "histogram": [
           {
            "marker": {
             "pattern": {
              "fillmode": "overlay",
              "size": 10,
              "solidity": 0.2
             }
            },
            "type": "histogram"
           }
          ],
          "histogram2d": [
           {
            "colorbar": {
             "outlinewidth": 0,
             "ticks": ""
            },
            "colorscale": [
             [
              0,
              "#0d0887"
             ],
             [
              0.1111111111111111,
              "#46039f"
             ],
             [
              0.2222222222222222,
              "#7201a8"
             ],
             [
              0.3333333333333333,
              "#9c179e"
             ],
             [
              0.4444444444444444,
              "#bd3786"
             ],
             [
              0.5555555555555556,
              "#d8576b"
             ],
             [
              0.6666666666666666,
              "#ed7953"
             ],
             [
              0.7777777777777778,
              "#fb9f3a"
             ],
             [
              0.8888888888888888,
              "#fdca26"
             ],
             [
              1,
              "#f0f921"
             ]
            ],
            "type": "histogram2d"
           }
          ],
          "histogram2dcontour": [
           {
            "colorbar": {
             "outlinewidth": 0,
             "ticks": ""
            },
            "colorscale": [
             [
              0,
              "#0d0887"
             ],
             [
              0.1111111111111111,
              "#46039f"
             ],
             [
              0.2222222222222222,
              "#7201a8"
             ],
             [
              0.3333333333333333,
              "#9c179e"
             ],
             [
              0.4444444444444444,
              "#bd3786"
             ],
             [
              0.5555555555555556,
              "#d8576b"
             ],
             [
              0.6666666666666666,
              "#ed7953"
             ],
             [
              0.7777777777777778,
              "#fb9f3a"
             ],
             [
              0.8888888888888888,
              "#fdca26"
             ],
             [
              1,
              "#f0f921"
             ]
            ],
            "type": "histogram2dcontour"
           }
          ],
          "mesh3d": [
           {
            "colorbar": {
             "outlinewidth": 0,
             "ticks": ""
            },
            "type": "mesh3d"
           }
          ],
          "parcoords": [
           {
            "line": {
             "colorbar": {
              "outlinewidth": 0,
              "ticks": ""
             }
            },
            "type": "parcoords"
           }
          ],
          "pie": [
           {
            "automargin": true,
            "type": "pie"
           }
          ],
          "scatter": [
           {
            "fillpattern": {
             "fillmode": "overlay",
             "size": 10,
             "solidity": 0.2
            },
            "type": "scatter"
           }
          ],
          "scatter3d": [
           {
            "line": {
             "colorbar": {
              "outlinewidth": 0,
              "ticks": ""
             }
            },
            "marker": {
             "colorbar": {
              "outlinewidth": 0,
              "ticks": ""
             }
            },
            "type": "scatter3d"
           }
          ],
          "scattercarpet": [
           {
            "marker": {
             "colorbar": {
              "outlinewidth": 0,
              "ticks": ""
             }
            },
            "type": "scattercarpet"
           }
          ],
          "scattergeo": [
           {
            "marker": {
             "colorbar": {
              "outlinewidth": 0,
              "ticks": ""
             }
            },
            "type": "scattergeo"
           }
          ],
          "scattergl": [
           {
            "marker": {
             "colorbar": {
              "outlinewidth": 0,
              "ticks": ""
             }
            },
            "type": "scattergl"
           }
          ],
          "scattermap": [
           {
            "marker": {
             "colorbar": {
              "outlinewidth": 0,
              "ticks": ""
             }
            },
            "type": "scattermap"
           }
          ],
          "scattermapbox": [
           {
            "marker": {
             "colorbar": {
              "outlinewidth": 0,
              "ticks": ""
             }
            },
            "type": "scattermapbox"
           }
          ],
          "scatterpolar": [
           {
            "marker": {
             "colorbar": {
              "outlinewidth": 0,
              "ticks": ""
             }
            },
            "type": "scatterpolar"
           }
          ],
          "scatterpolargl": [
           {
            "marker": {
             "colorbar": {
              "outlinewidth": 0,
              "ticks": ""
             }
            },
            "type": "scatterpolargl"
           }
          ],
          "scatterternary": [
           {
            "marker": {
             "colorbar": {
              "outlinewidth": 0,
              "ticks": ""
             }
            },
            "type": "scatterternary"
           }
          ],
          "surface": [
           {
            "colorbar": {
             "outlinewidth": 0,
             "ticks": ""
            },
            "colorscale": [
             [
              0,
              "#0d0887"
             ],
             [
              0.1111111111111111,
              "#46039f"
             ],
             [
              0.2222222222222222,
              "#7201a8"
             ],
             [
              0.3333333333333333,
              "#9c179e"
             ],
             [
              0.4444444444444444,
              "#bd3786"
             ],
             [
              0.5555555555555556,
              "#d8576b"
             ],
             [
              0.6666666666666666,
              "#ed7953"
             ],
             [
              0.7777777777777778,
              "#fb9f3a"
             ],
             [
              0.8888888888888888,
              "#fdca26"
             ],
             [
              1,
              "#f0f921"
             ]
            ],
            "type": "surface"
           }
          ],
          "table": [
           {
            "cells": {
             "fill": {
              "color": "#EBF0F8"
             },
             "line": {
              "color": "white"
             }
            },
            "header": {
             "fill": {
              "color": "#C8D4E3"
             },
             "line": {
              "color": "white"
             }
            },
            "type": "table"
           }
          ]
         },
         "layout": {
          "annotationdefaults": {
           "arrowcolor": "#2a3f5f",
           "arrowhead": 0,
           "arrowwidth": 1
          },
          "autotypenumbers": "strict",
          "coloraxis": {
           "colorbar": {
            "outlinewidth": 0,
            "ticks": ""
           }
          },
          "colorscale": {
           "diverging": [
            [
             0,
             "#8e0152"
            ],
            [
             0.1,
             "#c51b7d"
            ],
            [
             0.2,
             "#de77ae"
            ],
            [
             0.3,
             "#f1b6da"
            ],
            [
             0.4,
             "#fde0ef"
            ],
            [
             0.5,
             "#f7f7f7"
            ],
            [
             0.6,
             "#e6f5d0"
            ],
            [
             0.7,
             "#b8e186"
            ],
            [
             0.8,
             "#7fbc41"
            ],
            [
             0.9,
             "#4d9221"
            ],
            [
             1,
             "#276419"
            ]
           ],
           "sequential": [
            [
             0,
             "#0d0887"
            ],
            [
             0.1111111111111111,
             "#46039f"
            ],
            [
             0.2222222222222222,
             "#7201a8"
            ],
            [
             0.3333333333333333,
             "#9c179e"
            ],
            [
             0.4444444444444444,
             "#bd3786"
            ],
            [
             0.5555555555555556,
             "#d8576b"
            ],
            [
             0.6666666666666666,
             "#ed7953"
            ],
            [
             0.7777777777777778,
             "#fb9f3a"
            ],
            [
             0.8888888888888888,
             "#fdca26"
            ],
            [
             1,
             "#f0f921"
            ]
           ],
           "sequentialminus": [
            [
             0,
             "#0d0887"
            ],
            [
             0.1111111111111111,
             "#46039f"
            ],
            [
             0.2222222222222222,
             "#7201a8"
            ],
            [
             0.3333333333333333,
             "#9c179e"
            ],
            [
             0.4444444444444444,
             "#bd3786"
            ],
            [
             0.5555555555555556,
             "#d8576b"
            ],
            [
             0.6666666666666666,
             "#ed7953"
            ],
            [
             0.7777777777777778,
             "#fb9f3a"
            ],
            [
             0.8888888888888888,
             "#fdca26"
            ],
            [
             1,
             "#f0f921"
            ]
           ]
          },
          "colorway": [
           "#636efa",
           "#EF553B",
           "#00cc96",
           "#ab63fa",
           "#FFA15A",
           "#19d3f3",
           "#FF6692",
           "#B6E880",
           "#FF97FF",
           "#FECB52"
          ],
          "font": {
           "color": "#2a3f5f"
          },
          "geo": {
           "bgcolor": "white",
           "lakecolor": "white",
           "landcolor": "#E5ECF6",
           "showlakes": true,
           "showland": true,
           "subunitcolor": "white"
          },
          "hoverlabel": {
           "align": "left"
          },
          "hovermode": "closest",
          "mapbox": {
           "style": "light"
          },
          "paper_bgcolor": "white",
          "plot_bgcolor": "#E5ECF6",
          "polar": {
           "angularaxis": {
            "gridcolor": "white",
            "linecolor": "white",
            "ticks": ""
           },
           "bgcolor": "#E5ECF6",
           "radialaxis": {
            "gridcolor": "white",
            "linecolor": "white",
            "ticks": ""
           }
          },
          "scene": {
           "xaxis": {
            "backgroundcolor": "#E5ECF6",
            "gridcolor": "white",
            "gridwidth": 2,
            "linecolor": "white",
            "showbackground": true,
            "ticks": "",
            "zerolinecolor": "white"
           },
           "yaxis": {
            "backgroundcolor": "#E5ECF6",
            "gridcolor": "white",
            "gridwidth": 2,
            "linecolor": "white",
            "showbackground": true,
            "ticks": "",
            "zerolinecolor": "white"
           },
           "zaxis": {
            "backgroundcolor": "#E5ECF6",
            "gridcolor": "white",
            "gridwidth": 2,
            "linecolor": "white",
            "showbackground": true,
            "ticks": "",
            "zerolinecolor": "white"
           }
          },
          "shapedefaults": {
           "line": {
            "color": "#2a3f5f"
           }
          },
          "ternary": {
           "aaxis": {
            "gridcolor": "white",
            "linecolor": "white",
            "ticks": ""
           },
           "baxis": {
            "gridcolor": "white",
            "linecolor": "white",
            "ticks": ""
           },
           "bgcolor": "#E5ECF6",
           "caxis": {
            "gridcolor": "white",
            "linecolor": "white",
            "ticks": ""
           }
          },
          "title": {
           "x": 0.05
          },
          "xaxis": {
           "automargin": true,
           "gridcolor": "white",
           "linecolor": "white",
           "ticks": "",
           "title": {
            "standoff": 15
           },
           "zerolinecolor": "white",
           "zerolinewidth": 2
          },
          "yaxis": {
           "automargin": true,
           "gridcolor": "white",
           "linecolor": "white",
           "ticks": "",
           "title": {
            "standoff": 15
           },
           "zerolinecolor": "white",
           "zerolinewidth": 2
          }
         }
        },
        "title": {
         "text": "Electricity mix"
        }
       }
      }
     },
     "metadata": {},
     "output_type": "display_data"
    }
   ],
   "source": [
    "#plot mix for g in generators and co2_limit\n",
    "for co2_limit in objectives.keys():\n",
    "    plot_mix(generations[co2_limit], co2_limit)"
   ]
  },
  {
   "cell_type": "markdown",
   "metadata": {},
   "source": [
    "Based on research, the CO2-emissions from electricity production was 7.56mT CO2-eq in 2023. This will now be the limit:\n"
   ]
  },
  {
   "cell_type": "code",
   "execution_count": 19,
   "metadata": {},
   "outputs": [
    {
     "name": "stdout",
     "output_type": "stream",
     "text": [
      "utc_time\n",
      "2015-01-01 00:00:00+00:00    2651.0\n",
      "2015-01-01 01:00:00+00:00    2412.0\n",
      "2015-01-01 02:00:00+00:00    2256.0\n",
      "2015-01-01 03:00:00+00:00    2170.0\n",
      "2015-01-01 04:00:00+00:00    2136.0\n",
      "Name: IRL, dtype: float64\n"
     ]
    },
    {
     "name": "stderr",
     "output_type": "stream",
     "text": [
      "WARNING:pypsa.consistency:The following buses have carriers which are not defined:\n",
      "Index(['electricity bus'], dtype='object', name='Bus')\n",
      "INFO:linopy.model: Solve problem using Gurobi solver\n",
      "INFO:linopy.model:Solver options:\n",
      " - OutputFlag: 0\n",
      "INFO:linopy.io:Writing objective.\n",
      "Writing constraints.: 100%|\u001b[38;2;128;191;255m██████████\u001b[0m| 6/6 [00:00<00:00, 26.39it/s]\n",
      "Writing continuous variables.: 100%|\u001b[38;2;128;191;255m██████████\u001b[0m| 2/2 [00:00<00:00, 53.24it/s]\n",
      "INFO:linopy.io: Writing time: 0.29s\n"
     ]
    },
    {
     "name": "stdout",
     "output_type": "stream",
     "text": [
      "Set parameter Username\n"
     ]
    },
    {
     "name": "stderr",
     "output_type": "stream",
     "text": [
      "INFO:gurobipy:Set parameter Username\n"
     ]
    },
    {
     "name": "stdout",
     "output_type": "stream",
     "text": [
      "Academic license - for non-commercial use only - expires 2025-10-16\n"
     ]
    },
    {
     "name": "stderr",
     "output_type": "stream",
     "text": [
      "INFO:gurobipy:Academic license - for non-commercial use only - expires 2025-10-16\n"
     ]
    },
    {
     "name": "stdout",
     "output_type": "stream",
     "text": [
      "Read LP format model from file /private/var/folders/j2/tx7xgp1d11n3lnbvkls0cjsw0000gn/T/linopy-problem-5vjk652e.lp\n"
     ]
    },
    {
     "name": "stderr",
     "output_type": "stream",
     "text": [
      "INFO:gurobipy:Read LP format model from file /private/var/folders/j2/tx7xgp1d11n3lnbvkls0cjsw0000gn/T/linopy-problem-5vjk652e.lp\n"
     ]
    },
    {
     "name": "stdout",
     "output_type": "stream",
     "text": [
      "Reading time = 0.17 seconds\n"
     ]
    },
    {
     "name": "stderr",
     "output_type": "stream",
     "text": [
      "INFO:gurobipy:Reading time = 0.17 seconds\n"
     ]
    },
    {
     "name": "stdout",
     "output_type": "stream",
     "text": [
      "obj: 131415 rows, 61327 columns, 267194 nonzeros\n"
     ]
    },
    {
     "name": "stderr",
     "output_type": "stream",
     "text": [
      "INFO:gurobipy:obj: 131415 rows, 61327 columns, 267194 nonzeros\n",
      "INFO:linopy.constants: Optimization successful: \n",
      "Status: ok\n",
      "Termination condition: optimal\n",
      "Solution: 61327 primals, 131415 duals\n",
      "Objective: 2.60e+11\n",
      "Solver model: available\n",
      "Solver message: 2\n",
      "\n",
      "INFO:pypsa.optimization.optimize:The shadow-prices of the constraints Generator-ext-p-lower, Generator-ext-p-upper were not assigned to the network.\n"
     ]
    },
    {
     "data": {
      "application/vnd.plotly.v1+json": {
       "config": {
        "plotlyServerURL": "https://plot.ly"
       },
       "data": [
        {
         "labels": [
          "onshore wind",
          "solar",
          "gas (OCGT)",
          "coal",
          "biomass",
          "oil",
          "offshore wind"
         ],
         "marker": {
          "colors": [
           "blue",
           "orange",
           "brown",
           "grey",
           "green",
           "black",
           "purple"
          ]
         },
         "type": "pie",
         "values": [
          0,
          0,
          26422748,
          0,
          0,
          149518,
          0
         ]
        }
       ],
       "layout": {
        "annotations": [
         {
          "font": {
           "size": 20
          },
          "showarrow": false,
          "text": "CO2 limit: 7560000 tonCO2",
          "x": 0.5,
          "y": 1.3
         }
        ],
        "template": {
         "data": {
          "bar": [
           {
            "error_x": {
             "color": "#2a3f5f"
            },
            "error_y": {
             "color": "#2a3f5f"
            },
            "marker": {
             "line": {
              "color": "#E5ECF6",
              "width": 0.5
             },
             "pattern": {
              "fillmode": "overlay",
              "size": 10,
              "solidity": 0.2
             }
            },
            "type": "bar"
           }
          ],
          "barpolar": [
           {
            "marker": {
             "line": {
              "color": "#E5ECF6",
              "width": 0.5
             },
             "pattern": {
              "fillmode": "overlay",
              "size": 10,
              "solidity": 0.2
             }
            },
            "type": "barpolar"
           }
          ],
          "carpet": [
           {
            "aaxis": {
             "endlinecolor": "#2a3f5f",
             "gridcolor": "white",
             "linecolor": "white",
             "minorgridcolor": "white",
             "startlinecolor": "#2a3f5f"
            },
            "baxis": {
             "endlinecolor": "#2a3f5f",
             "gridcolor": "white",
             "linecolor": "white",
             "minorgridcolor": "white",
             "startlinecolor": "#2a3f5f"
            },
            "type": "carpet"
           }
          ],
          "choropleth": [
           {
            "colorbar": {
             "outlinewidth": 0,
             "ticks": ""
            },
            "type": "choropleth"
           }
          ],
          "contour": [
           {
            "colorbar": {
             "outlinewidth": 0,
             "ticks": ""
            },
            "colorscale": [
             [
              0,
              "#0d0887"
             ],
             [
              0.1111111111111111,
              "#46039f"
             ],
             [
              0.2222222222222222,
              "#7201a8"
             ],
             [
              0.3333333333333333,
              "#9c179e"
             ],
             [
              0.4444444444444444,
              "#bd3786"
             ],
             [
              0.5555555555555556,
              "#d8576b"
             ],
             [
              0.6666666666666666,
              "#ed7953"
             ],
             [
              0.7777777777777778,
              "#fb9f3a"
             ],
             [
              0.8888888888888888,
              "#fdca26"
             ],
             [
              1,
              "#f0f921"
             ]
            ],
            "type": "contour"
           }
          ],
          "contourcarpet": [
           {
            "colorbar": {
             "outlinewidth": 0,
             "ticks": ""
            },
            "type": "contourcarpet"
           }
          ],
          "heatmap": [
           {
            "colorbar": {
             "outlinewidth": 0,
             "ticks": ""
            },
            "colorscale": [
             [
              0,
              "#0d0887"
             ],
             [
              0.1111111111111111,
              "#46039f"
             ],
             [
              0.2222222222222222,
              "#7201a8"
             ],
             [
              0.3333333333333333,
              "#9c179e"
             ],
             [
              0.4444444444444444,
              "#bd3786"
             ],
             [
              0.5555555555555556,
              "#d8576b"
             ],
             [
              0.6666666666666666,
              "#ed7953"
             ],
             [
              0.7777777777777778,
              "#fb9f3a"
             ],
             [
              0.8888888888888888,
              "#fdca26"
             ],
             [
              1,
              "#f0f921"
             ]
            ],
            "type": "heatmap"
           }
          ],
          "histogram": [
           {
            "marker": {
             "pattern": {
              "fillmode": "overlay",
              "size": 10,
              "solidity": 0.2
             }
            },
            "type": "histogram"
           }
          ],
          "histogram2d": [
           {
            "colorbar": {
             "outlinewidth": 0,
             "ticks": ""
            },
            "colorscale": [
             [
              0,
              "#0d0887"
             ],
             [
              0.1111111111111111,
              "#46039f"
             ],
             [
              0.2222222222222222,
              "#7201a8"
             ],
             [
              0.3333333333333333,
              "#9c179e"
             ],
             [
              0.4444444444444444,
              "#bd3786"
             ],
             [
              0.5555555555555556,
              "#d8576b"
             ],
             [
              0.6666666666666666,
              "#ed7953"
             ],
             [
              0.7777777777777778,
              "#fb9f3a"
             ],
             [
              0.8888888888888888,
              "#fdca26"
             ],
             [
              1,
              "#f0f921"
             ]
            ],
            "type": "histogram2d"
           }
          ],
          "histogram2dcontour": [
           {
            "colorbar": {
             "outlinewidth": 0,
             "ticks": ""
            },
            "colorscale": [
             [
              0,
              "#0d0887"
             ],
             [
              0.1111111111111111,
              "#46039f"
             ],
             [
              0.2222222222222222,
              "#7201a8"
             ],
             [
              0.3333333333333333,
              "#9c179e"
             ],
             [
              0.4444444444444444,
              "#bd3786"
             ],
             [
              0.5555555555555556,
              "#d8576b"
             ],
             [
              0.6666666666666666,
              "#ed7953"
             ],
             [
              0.7777777777777778,
              "#fb9f3a"
             ],
             [
              0.8888888888888888,
              "#fdca26"
             ],
             [
              1,
              "#f0f921"
             ]
            ],
            "type": "histogram2dcontour"
           }
          ],
          "mesh3d": [
           {
            "colorbar": {
             "outlinewidth": 0,
             "ticks": ""
            },
            "type": "mesh3d"
           }
          ],
          "parcoords": [
           {
            "line": {
             "colorbar": {
              "outlinewidth": 0,
              "ticks": ""
             }
            },
            "type": "parcoords"
           }
          ],
          "pie": [
           {
            "automargin": true,
            "type": "pie"
           }
          ],
          "scatter": [
           {
            "fillpattern": {
             "fillmode": "overlay",
             "size": 10,
             "solidity": 0.2
            },
            "type": "scatter"
           }
          ],
          "scatter3d": [
           {
            "line": {
             "colorbar": {
              "outlinewidth": 0,
              "ticks": ""
             }
            },
            "marker": {
             "colorbar": {
              "outlinewidth": 0,
              "ticks": ""
             }
            },
            "type": "scatter3d"
           }
          ],
          "scattercarpet": [
           {
            "marker": {
             "colorbar": {
              "outlinewidth": 0,
              "ticks": ""
             }
            },
            "type": "scattercarpet"
           }
          ],
          "scattergeo": [
           {
            "marker": {
             "colorbar": {
              "outlinewidth": 0,
              "ticks": ""
             }
            },
            "type": "scattergeo"
           }
          ],
          "scattergl": [
           {
            "marker": {
             "colorbar": {
              "outlinewidth": 0,
              "ticks": ""
             }
            },
            "type": "scattergl"
           }
          ],
          "scattermap": [
           {
            "marker": {
             "colorbar": {
              "outlinewidth": 0,
              "ticks": ""
             }
            },
            "type": "scattermap"
           }
          ],
          "scattermapbox": [
           {
            "marker": {
             "colorbar": {
              "outlinewidth": 0,
              "ticks": ""
             }
            },
            "type": "scattermapbox"
           }
          ],
          "scatterpolar": [
           {
            "marker": {
             "colorbar": {
              "outlinewidth": 0,
              "ticks": ""
             }
            },
            "type": "scatterpolar"
           }
          ],
          "scatterpolargl": [
           {
            "marker": {
             "colorbar": {
              "outlinewidth": 0,
              "ticks": ""
             }
            },
            "type": "scatterpolargl"
           }
          ],
          "scatterternary": [
           {
            "marker": {
             "colorbar": {
              "outlinewidth": 0,
              "ticks": ""
             }
            },
            "type": "scatterternary"
           }
          ],
          "surface": [
           {
            "colorbar": {
             "outlinewidth": 0,
             "ticks": ""
            },
            "colorscale": [
             [
              0,
              "#0d0887"
             ],
             [
              0.1111111111111111,
              "#46039f"
             ],
             [
              0.2222222222222222,
              "#7201a8"
             ],
             [
              0.3333333333333333,
              "#9c179e"
             ],
             [
              0.4444444444444444,
              "#bd3786"
             ],
             [
              0.5555555555555556,
              "#d8576b"
             ],
             [
              0.6666666666666666,
              "#ed7953"
             ],
             [
              0.7777777777777778,
              "#fb9f3a"
             ],
             [
              0.8888888888888888,
              "#fdca26"
             ],
             [
              1,
              "#f0f921"
             ]
            ],
            "type": "surface"
           }
          ],
          "table": [
           {
            "cells": {
             "fill": {
              "color": "#EBF0F8"
             },
             "line": {
              "color": "white"
             }
            },
            "header": {
             "fill": {
              "color": "#C8D4E3"
             },
             "line": {
              "color": "white"
             }
            },
            "type": "table"
           }
          ]
         },
         "layout": {
          "annotationdefaults": {
           "arrowcolor": "#2a3f5f",
           "arrowhead": 0,
           "arrowwidth": 1
          },
          "autotypenumbers": "strict",
          "coloraxis": {
           "colorbar": {
            "outlinewidth": 0,
            "ticks": ""
           }
          },
          "colorscale": {
           "diverging": [
            [
             0,
             "#8e0152"
            ],
            [
             0.1,
             "#c51b7d"
            ],
            [
             0.2,
             "#de77ae"
            ],
            [
             0.3,
             "#f1b6da"
            ],
            [
             0.4,
             "#fde0ef"
            ],
            [
             0.5,
             "#f7f7f7"
            ],
            [
             0.6,
             "#e6f5d0"
            ],
            [
             0.7,
             "#b8e186"
            ],
            [
             0.8,
             "#7fbc41"
            ],
            [
             0.9,
             "#4d9221"
            ],
            [
             1,
             "#276419"
            ]
           ],
           "sequential": [
            [
             0,
             "#0d0887"
            ],
            [
             0.1111111111111111,
             "#46039f"
            ],
            [
             0.2222222222222222,
             "#7201a8"
            ],
            [
             0.3333333333333333,
             "#9c179e"
            ],
            [
             0.4444444444444444,
             "#bd3786"
            ],
            [
             0.5555555555555556,
             "#d8576b"
            ],
            [
             0.6666666666666666,
             "#ed7953"
            ],
            [
             0.7777777777777778,
             "#fb9f3a"
            ],
            [
             0.8888888888888888,
             "#fdca26"
            ],
            [
             1,
             "#f0f921"
            ]
           ],
           "sequentialminus": [
            [
             0,
             "#0d0887"
            ],
            [
             0.1111111111111111,
             "#46039f"
            ],
            [
             0.2222222222222222,
             "#7201a8"
            ],
            [
             0.3333333333333333,
             "#9c179e"
            ],
            [
             0.4444444444444444,
             "#bd3786"
            ],
            [
             0.5555555555555556,
             "#d8576b"
            ],
            [
             0.6666666666666666,
             "#ed7953"
            ],
            [
             0.7777777777777778,
             "#fb9f3a"
            ],
            [
             0.8888888888888888,
             "#fdca26"
            ],
            [
             1,
             "#f0f921"
            ]
           ]
          },
          "colorway": [
           "#636efa",
           "#EF553B",
           "#00cc96",
           "#ab63fa",
           "#FFA15A",
           "#19d3f3",
           "#FF6692",
           "#B6E880",
           "#FF97FF",
           "#FECB52"
          ],
          "font": {
           "color": "#2a3f5f"
          },
          "geo": {
           "bgcolor": "white",
           "lakecolor": "white",
           "landcolor": "#E5ECF6",
           "showlakes": true,
           "showland": true,
           "subunitcolor": "white"
          },
          "hoverlabel": {
           "align": "left"
          },
          "hovermode": "closest",
          "mapbox": {
           "style": "light"
          },
          "paper_bgcolor": "white",
          "plot_bgcolor": "#E5ECF6",
          "polar": {
           "angularaxis": {
            "gridcolor": "white",
            "linecolor": "white",
            "ticks": ""
           },
           "bgcolor": "#E5ECF6",
           "radialaxis": {
            "gridcolor": "white",
            "linecolor": "white",
            "ticks": ""
           }
          },
          "scene": {
           "xaxis": {
            "backgroundcolor": "#E5ECF6",
            "gridcolor": "white",
            "gridwidth": 2,
            "linecolor": "white",
            "showbackground": true,
            "ticks": "",
            "zerolinecolor": "white"
           },
           "yaxis": {
            "backgroundcolor": "#E5ECF6",
            "gridcolor": "white",
            "gridwidth": 2,
            "linecolor": "white",
            "showbackground": true,
            "ticks": "",
            "zerolinecolor": "white"
           },
           "zaxis": {
            "backgroundcolor": "#E5ECF6",
            "gridcolor": "white",
            "gridwidth": 2,
            "linecolor": "white",
            "showbackground": true,
            "ticks": "",
            "zerolinecolor": "white"
           }
          },
          "shapedefaults": {
           "line": {
            "color": "#2a3f5f"
           }
          },
          "ternary": {
           "aaxis": {
            "gridcolor": "white",
            "linecolor": "white",
            "ticks": ""
           },
           "baxis": {
            "gridcolor": "white",
            "linecolor": "white",
            "ticks": ""
           },
           "bgcolor": "#E5ECF6",
           "caxis": {
            "gridcolor": "white",
            "linecolor": "white",
            "ticks": ""
           }
          },
          "title": {
           "x": 0.05
          },
          "xaxis": {
           "automargin": true,
           "gridcolor": "white",
           "linecolor": "white",
           "ticks": "",
           "title": {
            "standoff": 15
           },
           "zerolinecolor": "white",
           "zerolinewidth": 2
          },
          "yaxis": {
           "automargin": true,
           "gridcolor": "white",
           "linecolor": "white",
           "ticks": "",
           "title": {
            "standoff": 15
           },
           "zerolinecolor": "white",
           "zerolinewidth": 2
          }
         }
        },
        "title": {
         "text": "Electricity mix"
        }
       }
      }
     },
     "metadata": {},
     "output_type": "display_data"
    }
   ],
   "source": [
    "network.add(\"GlobalConstraint\",\n",
    "                 \"co2_limit\",\n",
    "                 type=\"primary_energy\",\n",
    "                 carrier_attribute=\"co2_emissions\",\n",
    "                 sense=\"<=\",\n",
    "                 constant=7560000,\n",
    "                 overwrite=True)\n",
    "objective, capacities, loadConsumption, generation, snapshot, status = optimizer(2015)\n",
    "\n",
    "plot_mix(generation, 7560000)"
   ]
  },
  {
   "cell_type": "code",
   "execution_count": null,
   "metadata": {},
   "outputs": [],
   "source": []
  },
  {
   "cell_type": "markdown",
   "metadata": {},
   "source": [
    "# C)\n",
    "\n",
    "In this task we will use a CO2 allowance of 3mT"
   ]
  },
  {
   "cell_type": "code",
   "execution_count": null,
   "metadata": {},
   "outputs": [],
   "source": [
    "network.add(\"GlobalConstraint\",\n",
    "                 \"co2_limit\",\n",
    "                 type=\"primary_energy\",\n",
    "                 carrier_attribute=\"co2_emissions\",\n",
    "                 sense=\"<=\",\n",
    "                 constant=3000000,\n",
    "                 overwrite=True)\n",
    "\n",
    "objectives = {}\n",
    "capacities_dic = {}\n",
    "loadConsumptions = {}\n",
    "generations = {}\n",
    "snapshots = {}\n",
    "\n",
    "\n",
    "for year in range(1979, 2017):\n",
    "    if not calendar.isleap(year):  # only hit non-leap years\n",
    "        objective, capacities, loadConsumption, generation, snapshot, status = optimizer(year)\n",
    "        if status[1] == \"optimal\":\n",
    "            objectives[year] = objective\n",
    "            capacities_dic[year] = capacities\n",
    "            loadConsumptions[year] = loadConsumption\n",
    "            generations[year] = generation\n",
    "            snapshots[year] = snapshot\n",
    "\n",
    "\n"
   ]
  },
  {
   "cell_type": "code",
   "execution_count": 39,
   "metadata": {},
   "outputs": [
    {
     "data": {
      "text/plain": [
       "Generator\n",
       "onshorewind     3813.208425\n",
       "solar              0.000000\n",
       "OCGT            3511.460328\n",
       "Coal               0.000000\n",
       "Biomass           70.000000\n",
       "Oil              830.000000\n",
       "offshorewind       0.000000\n",
       "Name: p_nom_opt, dtype: float64"
      ]
     },
     "execution_count": 39,
     "metadata": {},
     "output_type": "execute_result"
    }
   ],
   "source": [
    "capacities_dic[1982]"
   ]
  },
  {
   "cell_type": "code",
   "execution_count": 40,
   "metadata": {},
   "outputs": [
    {
     "data": {
      "application/vnd.plotly.v1+json": {
       "config": {
        "plotlyServerURL": "https://plot.ly"
       },
       "data": [
        {
         "mode": "lines+markers",
         "name": "onshorewind",
         "type": "scatter",
         "x": [
          1979,
          1981,
          1982,
          1983,
          1985,
          1986,
          1987,
          1989,
          1990,
          1991,
          1993,
          1994,
          1995,
          1997,
          1998,
          1999,
          2001,
          2002,
          2003,
          2005,
          2006,
          2007,
          2009,
          2010,
          2011,
          2013,
          2014,
          2015
         ],
         "y": [
          3849.4080547447015,
          3977.0446949212305,
          3813.2084248802075,
          3930.6089180584913,
          4058.37224891828,
          3534.2038519554008,
          4243.7986999744035,
          3908.1001891904016,
          3577.4897318457597,
          4046.7913313540157,
          3915.3439924631634,
          3577.200560813334,
          3909.2670680167234,
          4145.650544836169,
          3645.230228283615,
          3798.299864836583,
          4615.987993067821,
          3856.1858730723675,
          4035.940039177683,
          4037.310145329997,
          4043.021564319932,
          4255.527114758215,
          3997.1708330174856,
          4784.8,
          4660.704324279211,
          4784.8,
          4784.8,
          4442.978637998867
         ]
        },
        {
         "mode": "lines+markers",
         "name": "solar",
         "type": "scatter",
         "x": [
          1979,
          1981,
          1982,
          1983,
          1985,
          1986,
          1987,
          1989,
          1990,
          1991,
          1993,
          1994,
          1995,
          1997,
          1998,
          1999,
          2001,
          2002,
          2003,
          2005,
          2006,
          2007,
          2009,
          2010,
          2011,
          2013,
          2014,
          2015
         ],
         "y": [
          0,
          0,
          0,
          0,
          0,
          0,
          0,
          0,
          0,
          0,
          0,
          0,
          0,
          0,
          0,
          0,
          0,
          0,
          0,
          0,
          0,
          0,
          0,
          553.7293605249865,
          0,
          0,
          513.0423355493944,
          0
         ]
        },
        {
         "mode": "lines+markers",
         "name": "OCGT",
         "type": "scatter",
         "x": [
          1979,
          1981,
          1982,
          1983,
          1985,
          1986,
          1987,
          1989,
          1990,
          1991,
          1993,
          1994,
          1995,
          1997,
          1998,
          1999,
          2001,
          2002,
          2003,
          2005,
          2006,
          2007,
          2009,
          2010,
          2011,
          2013,
          2014,
          2015
         ],
         "y": [
          3442.4213100291813,
          3342.4461842199466,
          3511.4603282067083,
          3433.5674700318527,
          3499.066044017294,
          3296.8793611787555,
          3475.1984416008327,
          3456.4002929999356,
          3443.85798260326,
          3529.438504023776,
          3375.608464143209,
          3431.643579249911,
          3601.7200502113346,
          3483.4848331100357,
          3498.9978629231655,
          3420.681606487821,
          3362.9043722148967,
          3257.635546504167,
          3490.9217988246696,
          3493.880695640141,
          3481.6233099417364,
          3526.400511934352,
          3476.096191677425,
          3416.5136,
          3508.8038005415783,
          3523.1126947643143,
          3534.2588,
          3543.241277706015
         ]
        },
        {
         "mode": "lines+markers",
         "name": "Coal",
         "type": "scatter",
         "x": [
          1979,
          1981,
          1982,
          1983,
          1985,
          1986,
          1987,
          1989,
          1990,
          1991,
          1993,
          1994,
          1995,
          1997,
          1998,
          1999,
          2001,
          2002,
          2003,
          2005,
          2006,
          2007,
          2009,
          2010,
          2011,
          2013,
          2014,
          2015
         ],
         "y": [
          0,
          0,
          0,
          0,
          0,
          0,
          0,
          0,
          0,
          0,
          0,
          0,
          0,
          0,
          0,
          0,
          0,
          0,
          0,
          0,
          0,
          0,
          0,
          0,
          0,
          0,
          0,
          0
         ]
        },
        {
         "mode": "lines+markers",
         "name": "Biomass",
         "type": "scatter",
         "x": [
          1979,
          1981,
          1982,
          1983,
          1985,
          1986,
          1987,
          1989,
          1990,
          1991,
          1993,
          1994,
          1995,
          1997,
          1998,
          1999,
          2001,
          2002,
          2003,
          2005,
          2006,
          2007,
          2009,
          2010,
          2011,
          2013,
          2014,
          2015
         ],
         "y": [
          70,
          70,
          70,
          70,
          70,
          70,
          70,
          70,
          70,
          70,
          70,
          70,
          70,
          70,
          70,
          70,
          70,
          70,
          70,
          70,
          70,
          70,
          70,
          70,
          70,
          70,
          70,
          70
         ]
        },
        {
         "mode": "lines+markers",
         "name": "Oil",
         "type": "scatter",
         "x": [
          1979,
          1981,
          1982,
          1983,
          1985,
          1986,
          1987,
          1989,
          1990,
          1991,
          1993,
          1994,
          1995,
          1997,
          1998,
          1999,
          2001,
          2002,
          2003,
          2005,
          2006,
          2007,
          2009,
          2010,
          2011,
          2013,
          2014,
          2015
         ],
         "y": [
          830,
          830,
          830,
          830,
          830,
          830,
          830,
          830,
          830,
          830,
          830,
          830,
          830,
          830,
          830,
          830,
          830,
          830,
          830,
          830,
          830,
          830,
          830,
          830,
          830,
          830,
          830,
          830
         ]
        },
        {
         "mode": "lines+markers",
         "name": "offshorewind",
         "type": "scatter",
         "x": [
          1979,
          1981,
          1982,
          1983,
          1985,
          1986,
          1987,
          1989,
          1990,
          1991,
          1993,
          1994,
          1995,
          1997,
          1998,
          1999,
          2001,
          2002,
          2003,
          2005,
          2006,
          2007,
          2009,
          2010,
          2011,
          2013,
          2014,
          2015
         ],
         "y": [
          0,
          0,
          0,
          0,
          0,
          0,
          0,
          0,
          0,
          0,
          0,
          0,
          0,
          0,
          0,
          0,
          0,
          0,
          0,
          0,
          0,
          0,
          0,
          25.2,
          0,
          19.007217652649288,
          25.2,
          0
         ]
        }
       ],
       "layout": {
        "legend": {
         "traceorder": "normal",
         "x": 0,
         "y": 1
        },
        "template": {
         "data": {
          "bar": [
           {
            "error_x": {
             "color": "#2a3f5f"
            },
            "error_y": {
             "color": "#2a3f5f"
            },
            "marker": {
             "line": {
              "color": "#E5ECF6",
              "width": 0.5
             },
             "pattern": {
              "fillmode": "overlay",
              "size": 10,
              "solidity": 0.2
             }
            },
            "type": "bar"
           }
          ],
          "barpolar": [
           {
            "marker": {
             "line": {
              "color": "#E5ECF6",
              "width": 0.5
             },
             "pattern": {
              "fillmode": "overlay",
              "size": 10,
              "solidity": 0.2
             }
            },
            "type": "barpolar"
           }
          ],
          "carpet": [
           {
            "aaxis": {
             "endlinecolor": "#2a3f5f",
             "gridcolor": "white",
             "linecolor": "white",
             "minorgridcolor": "white",
             "startlinecolor": "#2a3f5f"
            },
            "baxis": {
             "endlinecolor": "#2a3f5f",
             "gridcolor": "white",
             "linecolor": "white",
             "minorgridcolor": "white",
             "startlinecolor": "#2a3f5f"
            },
            "type": "carpet"
           }
          ],
          "choropleth": [
           {
            "colorbar": {
             "outlinewidth": 0,
             "ticks": ""
            },
            "type": "choropleth"
           }
          ],
          "contour": [
           {
            "colorbar": {
             "outlinewidth": 0,
             "ticks": ""
            },
            "colorscale": [
             [
              0,
              "#0d0887"
             ],
             [
              0.1111111111111111,
              "#46039f"
             ],
             [
              0.2222222222222222,
              "#7201a8"
             ],
             [
              0.3333333333333333,
              "#9c179e"
             ],
             [
              0.4444444444444444,
              "#bd3786"
             ],
             [
              0.5555555555555556,
              "#d8576b"
             ],
             [
              0.6666666666666666,
              "#ed7953"
             ],
             [
              0.7777777777777778,
              "#fb9f3a"
             ],
             [
              0.8888888888888888,
              "#fdca26"
             ],
             [
              1,
              "#f0f921"
             ]
            ],
            "type": "contour"
           }
          ],
          "contourcarpet": [
           {
            "colorbar": {
             "outlinewidth": 0,
             "ticks": ""
            },
            "type": "contourcarpet"
           }
          ],
          "heatmap": [
           {
            "colorbar": {
             "outlinewidth": 0,
             "ticks": ""
            },
            "colorscale": [
             [
              0,
              "#0d0887"
             ],
             [
              0.1111111111111111,
              "#46039f"
             ],
             [
              0.2222222222222222,
              "#7201a8"
             ],
             [
              0.3333333333333333,
              "#9c179e"
             ],
             [
              0.4444444444444444,
              "#bd3786"
             ],
             [
              0.5555555555555556,
              "#d8576b"
             ],
             [
              0.6666666666666666,
              "#ed7953"
             ],
             [
              0.7777777777777778,
              "#fb9f3a"
             ],
             [
              0.8888888888888888,
              "#fdca26"
             ],
             [
              1,
              "#f0f921"
             ]
            ],
            "type": "heatmap"
           }
          ],
          "histogram": [
           {
            "marker": {
             "pattern": {
              "fillmode": "overlay",
              "size": 10,
              "solidity": 0.2
             }
            },
            "type": "histogram"
           }
          ],
          "histogram2d": [
           {
            "colorbar": {
             "outlinewidth": 0,
             "ticks": ""
            },
            "colorscale": [
             [
              0,
              "#0d0887"
             ],
             [
              0.1111111111111111,
              "#46039f"
             ],
             [
              0.2222222222222222,
              "#7201a8"
             ],
             [
              0.3333333333333333,
              "#9c179e"
             ],
             [
              0.4444444444444444,
              "#bd3786"
             ],
             [
              0.5555555555555556,
              "#d8576b"
             ],
             [
              0.6666666666666666,
              "#ed7953"
             ],
             [
              0.7777777777777778,
              "#fb9f3a"
             ],
             [
              0.8888888888888888,
              "#fdca26"
             ],
             [
              1,
              "#f0f921"
             ]
            ],
            "type": "histogram2d"
           }
          ],
          "histogram2dcontour": [
           {
            "colorbar": {
             "outlinewidth": 0,
             "ticks": ""
            },
            "colorscale": [
             [
              0,
              "#0d0887"
             ],
             [
              0.1111111111111111,
              "#46039f"
             ],
             [
              0.2222222222222222,
              "#7201a8"
             ],
             [
              0.3333333333333333,
              "#9c179e"
             ],
             [
              0.4444444444444444,
              "#bd3786"
             ],
             [
              0.5555555555555556,
              "#d8576b"
             ],
             [
              0.6666666666666666,
              "#ed7953"
             ],
             [
              0.7777777777777778,
              "#fb9f3a"
             ],
             [
              0.8888888888888888,
              "#fdca26"
             ],
             [
              1,
              "#f0f921"
             ]
            ],
            "type": "histogram2dcontour"
           }
          ],
          "mesh3d": [
           {
            "colorbar": {
             "outlinewidth": 0,
             "ticks": ""
            },
            "type": "mesh3d"
           }
          ],
          "parcoords": [
           {
            "line": {
             "colorbar": {
              "outlinewidth": 0,
              "ticks": ""
             }
            },
            "type": "parcoords"
           }
          ],
          "pie": [
           {
            "automargin": true,
            "type": "pie"
           }
          ],
          "scatter": [
           {
            "fillpattern": {
             "fillmode": "overlay",
             "size": 10,
             "solidity": 0.2
            },
            "type": "scatter"
           }
          ],
          "scatter3d": [
           {
            "line": {
             "colorbar": {
              "outlinewidth": 0,
              "ticks": ""
             }
            },
            "marker": {
             "colorbar": {
              "outlinewidth": 0,
              "ticks": ""
             }
            },
            "type": "scatter3d"
           }
          ],
          "scattercarpet": [
           {
            "marker": {
             "colorbar": {
              "outlinewidth": 0,
              "ticks": ""
             }
            },
            "type": "scattercarpet"
           }
          ],
          "scattergeo": [
           {
            "marker": {
             "colorbar": {
              "outlinewidth": 0,
              "ticks": ""
             }
            },
            "type": "scattergeo"
           }
          ],
          "scattergl": [
           {
            "marker": {
             "colorbar": {
              "outlinewidth": 0,
              "ticks": ""
             }
            },
            "type": "scattergl"
           }
          ],
          "scattermap": [
           {
            "marker": {
             "colorbar": {
              "outlinewidth": 0,
              "ticks": ""
             }
            },
            "type": "scattermap"
           }
          ],
          "scattermapbox": [
           {
            "marker": {
             "colorbar": {
              "outlinewidth": 0,
              "ticks": ""
             }
            },
            "type": "scattermapbox"
           }
          ],
          "scatterpolar": [
           {
            "marker": {
             "colorbar": {
              "outlinewidth": 0,
              "ticks": ""
             }
            },
            "type": "scatterpolar"
           }
          ],
          "scatterpolargl": [
           {
            "marker": {
             "colorbar": {
              "outlinewidth": 0,
              "ticks": ""
             }
            },
            "type": "scatterpolargl"
           }
          ],
          "scatterternary": [
           {
            "marker": {
             "colorbar": {
              "outlinewidth": 0,
              "ticks": ""
             }
            },
            "type": "scatterternary"
           }
          ],
          "surface": [
           {
            "colorbar": {
             "outlinewidth": 0,
             "ticks": ""
            },
            "colorscale": [
             [
              0,
              "#0d0887"
             ],
             [
              0.1111111111111111,
              "#46039f"
             ],
             [
              0.2222222222222222,
              "#7201a8"
             ],
             [
              0.3333333333333333,
              "#9c179e"
             ],
             [
              0.4444444444444444,
              "#bd3786"
             ],
             [
              0.5555555555555556,
              "#d8576b"
             ],
             [
              0.6666666666666666,
              "#ed7953"
             ],
             [
              0.7777777777777778,
              "#fb9f3a"
             ],
             [
              0.8888888888888888,
              "#fdca26"
             ],
             [
              1,
              "#f0f921"
             ]
            ],
            "type": "surface"
           }
          ],
          "table": [
           {
            "cells": {
             "fill": {
              "color": "#EBF0F8"
             },
             "line": {
              "color": "white"
             }
            },
            "header": {
             "fill": {
              "color": "#C8D4E3"
             },
             "line": {
              "color": "white"
             }
            },
            "type": "table"
           }
          ]
         },
         "layout": {
          "annotationdefaults": {
           "arrowcolor": "#2a3f5f",
           "arrowhead": 0,
           "arrowwidth": 1
          },
          "autotypenumbers": "strict",
          "coloraxis": {
           "colorbar": {
            "outlinewidth": 0,
            "ticks": ""
           }
          },
          "colorscale": {
           "diverging": [
            [
             0,
             "#8e0152"
            ],
            [
             0.1,
             "#c51b7d"
            ],
            [
             0.2,
             "#de77ae"
            ],
            [
             0.3,
             "#f1b6da"
            ],
            [
             0.4,
             "#fde0ef"
            ],
            [
             0.5,
             "#f7f7f7"
            ],
            [
             0.6,
             "#e6f5d0"
            ],
            [
             0.7,
             "#b8e186"
            ],
            [
             0.8,
             "#7fbc41"
            ],
            [
             0.9,
             "#4d9221"
            ],
            [
             1,
             "#276419"
            ]
           ],
           "sequential": [
            [
             0,
             "#0d0887"
            ],
            [
             0.1111111111111111,
             "#46039f"
            ],
            [
             0.2222222222222222,
             "#7201a8"
            ],
            [
             0.3333333333333333,
             "#9c179e"
            ],
            [
             0.4444444444444444,
             "#bd3786"
            ],
            [
             0.5555555555555556,
             "#d8576b"
            ],
            [
             0.6666666666666666,
             "#ed7953"
            ],
            [
             0.7777777777777778,
             "#fb9f3a"
            ],
            [
             0.8888888888888888,
             "#fdca26"
            ],
            [
             1,
             "#f0f921"
            ]
           ],
           "sequentialminus": [
            [
             0,
             "#0d0887"
            ],
            [
             0.1111111111111111,
             "#46039f"
            ],
            [
             0.2222222222222222,
             "#7201a8"
            ],
            [
             0.3333333333333333,
             "#9c179e"
            ],
            [
             0.4444444444444444,
             "#bd3786"
            ],
            [
             0.5555555555555556,
             "#d8576b"
            ],
            [
             0.6666666666666666,
             "#ed7953"
            ],
            [
             0.7777777777777778,
             "#fb9f3a"
            ],
            [
             0.8888888888888888,
             "#fdca26"
            ],
            [
             1,
             "#f0f921"
            ]
           ]
          },
          "colorway": [
           "#636efa",
           "#EF553B",
           "#00cc96",
           "#ab63fa",
           "#FFA15A",
           "#19d3f3",
           "#FF6692",
           "#B6E880",
           "#FF97FF",
           "#FECB52"
          ],
          "font": {
           "color": "#2a3f5f"
          },
          "geo": {
           "bgcolor": "white",
           "lakecolor": "white",
           "landcolor": "#E5ECF6",
           "showlakes": true,
           "showland": true,
           "subunitcolor": "white"
          },
          "hoverlabel": {
           "align": "left"
          },
          "hovermode": "closest",
          "mapbox": {
           "style": "light"
          },
          "paper_bgcolor": "white",
          "plot_bgcolor": "#E5ECF6",
          "polar": {
           "angularaxis": {
            "gridcolor": "white",
            "linecolor": "white",
            "ticks": ""
           },
           "bgcolor": "#E5ECF6",
           "radialaxis": {
            "gridcolor": "white",
            "linecolor": "white",
            "ticks": ""
           }
          },
          "scene": {
           "xaxis": {
            "backgroundcolor": "#E5ECF6",
            "gridcolor": "white",
            "gridwidth": 2,
            "linecolor": "white",
            "showbackground": true,
            "ticks": "",
            "zerolinecolor": "white"
           },
           "yaxis": {
            "backgroundcolor": "#E5ECF6",
            "gridcolor": "white",
            "gridwidth": 2,
            "linecolor": "white",
            "showbackground": true,
            "ticks": "",
            "zerolinecolor": "white"
           },
           "zaxis": {
            "backgroundcolor": "#E5ECF6",
            "gridcolor": "white",
            "gridwidth": 2,
            "linecolor": "white",
            "showbackground": true,
            "ticks": "",
            "zerolinecolor": "white"
           }
          },
          "shapedefaults": {
           "line": {
            "color": "#2a3f5f"
           }
          },
          "ternary": {
           "aaxis": {
            "gridcolor": "white",
            "linecolor": "white",
            "ticks": ""
           },
           "baxis": {
            "gridcolor": "white",
            "linecolor": "white",
            "ticks": ""
           },
           "bgcolor": "#E5ECF6",
           "caxis": {
            "gridcolor": "white",
            "linecolor": "white",
            "ticks": ""
           }
          },
          "title": {
           "x": 0.05
          },
          "xaxis": {
           "automargin": true,
           "gridcolor": "white",
           "linecolor": "white",
           "ticks": "",
           "title": {
            "standoff": 15
           },
           "zerolinecolor": "white",
           "zerolinewidth": 2
          },
          "yaxis": {
           "automargin": true,
           "gridcolor": "white",
           "linecolor": "white",
           "ticks": "",
           "title": {
            "standoff": 15
           },
           "zerolinecolor": "white",
           "zerolinewidth": 2
          }
         }
        },
        "title": {
         "text": "Capacities over the years"
        },
        "xaxis": {
         "title": {
          "text": "Year"
         }
        },
        "yaxis": {
         "title": {
          "text": "Capacity (MW)"
         }
        }
       }
      }
     },
     "metadata": {},
     "output_type": "display_data"
    }
   ],
   "source": [
    "#make a 100% stacket area chart of the capacities for all years\n",
    "def plot_capacities(years):\n",
    "    fig = go.Figure()\n",
    "\n",
    "    for generator in ['onshorewind', 'solar', 'OCGT', 'Coal', 'Biomass', 'Oil', 'offshorewind']:\n",
    "        fig.add_trace(go.Scatter(x=years, y=[capacities_dic[year][generator] for year in years],\n",
    "                                 mode='lines+markers',\n",
    "                                 name=generator))\n",
    "\n",
    "    fig.update_layout(title='Capacities over the years',\n",
    "                      xaxis_title='Year',\n",
    "                      yaxis_title='Capacity (MW)',\n",
    "                      legend=dict(x=0, y=1, traceorder='normal'))\n",
    "\n",
    "    fig.show()\n",
    "plot_capacities([year for year in range(1979, 2017) if not calendar.isleap(year)])"
   ]
  },
  {
   "cell_type": "code",
   "execution_count": 44,
   "metadata": {},
   "outputs": [
    {
     "data": {
      "application/vnd.plotly.v1+json": {
       "config": {
        "plotlyServerURL": "https://plot.ly"
       },
       "data": [
        {
         "mode": "lines+markers",
         "name": "onshorewind",
         "type": "scatter",
         "x": [
          1979,
          1981,
          1982,
          1983,
          1985,
          1986,
          1987,
          1989,
          1990,
          1991,
          1993,
          1994,
          1995,
          1997,
          1998,
          1999,
          2001,
          2002,
          2003,
          2005,
          2006,
          2007,
          2009,
          2010,
          2011,
          2013,
          2014,
          2015
         ],
         "y": [
          10840492.494596066,
          10853880.680901952,
          10839413.845030181,
          10845265.982994575,
          10841030.10828267,
          10839242.345189044,
          10850675.612920644,
          10842811.084424466,
          10837982.551464684,
          10853927.72492475,
          10849653.702665191,
          10832999.480937578,
          10835271.74834299,
          10849603.704053994,
          10832696.859085975,
          10837522.778605822,
          10867955.636685234,
          10843384.444161553,
          10839291.19060109,
          10840675.494333262,
          10844433.327471508,
          10849894.442780927,
          10843646.877959462,
          10225066.24590551,
          10868623.041137977,
          10821554.179199995,
          10324284.063279415,
          10851822.062524354
         ]
        },
        {
         "mode": "lines+markers",
         "name": "solar",
         "type": "scatter",
         "x": [
          1979,
          1981,
          1982,
          1983,
          1985,
          1986,
          1987,
          1989,
          1990,
          1991,
          1993,
          1994,
          1995,
          1997,
          1998,
          1999,
          2001,
          2002,
          2003,
          2005,
          2006,
          2007,
          2009,
          2010,
          2011,
          2013,
          2014,
          2015
         ],
         "y": [
          0,
          0,
          0,
          0,
          0,
          0,
          0,
          0,
          0,
          0,
          0,
          0,
          0,
          0,
          0,
          0,
          0,
          0,
          0,
          0,
          0,
          0,
          0,
          567623.731213065,
          0,
          0,
          486571.08175336075,
          0
         ]
        },
        {
         "mode": "lines+markers",
         "name": "OCGT",
         "type": "scatter",
         "x": [
          1979,
          1981,
          1982,
          1983,
          1985,
          1986,
          1987,
          1989,
          1990,
          1991,
          1993,
          1994,
          1995,
          1997,
          1998,
          1999,
          2001,
          2002,
          2003,
          2005,
          2006,
          2007,
          2009,
          2010,
          2011,
          2013,
          2014,
          2015
         ],
         "y": [
          15112594.746298142,
          15074584.137906116,
          15126365.815239375,
          15112562.350675177,
          15106015.314696034,
          15110237.369854646,
          15110735.936525483,
          15107046.495478911,
          15112265.71858007,
          15095537.70788593,
          15100300.237694342,
          15118559.501000226,
          15129246.888688501,
          15103031.517336477,
          15123895.525300782,
          15107402.499539519,
          15072876.956064196,
          15096548.108543383,
          15123898.714743242,
          15119325.632362336,
          15110350.222226724,
          15118311.319278626,
          15110611.491819993,
          15085824.63527661,
          15080792.24606623,
          15093559.994645882,
          15111317.897808122,
          15116054.955828302
         ]
        },
        {
         "mode": "lines+markers",
         "name": "Coal",
         "type": "scatter",
         "x": [
          1979,
          1981,
          1982,
          1983,
          1985,
          1986,
          1987,
          1989,
          1990,
          1991,
          1993,
          1994,
          1995,
          1997,
          1998,
          1999,
          2001,
          2002,
          2003,
          2005,
          2006,
          2007,
          2009,
          2010,
          2011,
          2013,
          2014,
          2015
         ],
         "y": [
          0,
          0,
          0,
          0,
          0,
          0,
          0,
          0,
          0,
          0,
          0,
          0,
          0,
          0,
          0,
          0,
          0,
          0,
          0,
          0,
          0,
          0,
          0,
          0,
          0,
          0,
          0,
          0
         ]
        },
        {
         "mode": "lines+markers",
         "name": "Biomass",
         "type": "scatter",
         "x": [
          1979,
          1981,
          1982,
          1983,
          1985,
          1986,
          1987,
          1989,
          1990,
          1991,
          1993,
          1994,
          1995,
          1997,
          1998,
          1999,
          2001,
          2002,
          2003,
          2005,
          2006,
          2007,
          2009,
          2010,
          2011,
          2013,
          2014,
          2015
         ],
         "y": [
          589205.0514707201,
          584554.4262537739,
          587118.1227618941,
          584439.0099073318,
          590179.8625514334,
          590997.094879431,
          579449.2208068621,
          588161.8471865181,
          591790.6287450069,
          579690.7506253808,
          582870.0023221456,
          595326.9371521845,
          590597.9423553027,
          582292.1571883793,
          594402.9583186422,
          593368.3177660485,
          570871.9031692662,
          590001.7689270865,
          587807.893641124,
          587474.8118803109,
          585780.1710364028,
          578489.0252494685,
          586506.5620772236,
          575946.7464567731,
          568384.9979809317,
          571541.4292894619,
          567169.681359508,
          577080.0794847538
         ]
        },
        {
         "mode": "lines+markers",
         "name": "Oil",
         "type": "scatter",
         "x": [
          1979,
          1981,
          1982,
          1983,
          1985,
          1986,
          1987,
          1989,
          1990,
          1991,
          1993,
          1994,
          1995,
          1997,
          1998,
          1999,
          2001,
          2002,
          2003,
          2005,
          2006,
          2007,
          2009,
          2010,
          2011,
          2013,
          2014,
          2015
         ],
         "y": [
          29973.707635091974,
          59246.754938181926,
          19368.216968559034,
          29998.656422927896,
          35040.71446982793,
          31789.19007682071,
          31405.229746926496,
          34246.57291010256,
          30227.101210412453,
          43109.81656390782,
          39442.057318264946,
          25380.080910061457,
          17149.420613315757,
          37338.62142110299,
          21270.657294733464,
          33972.40408864949,
          60561.50408132938,
          42331.67836786104,
          21268.20101457133,
          24790.06142404463,
          31702.279265408022,
          25571.212690961092,
          31501.068143346143,
          50590.12919190145,
          54465.71481483986,
          44632.90960766059,
          30957.04486185079,
          27308.902162548675
         ]
        },
        {
         "mode": "lines+markers",
         "name": "offshorewind",
         "type": "scatter",
         "x": [
          1979,
          1981,
          1982,
          1983,
          1985,
          1986,
          1987,
          1989,
          1990,
          1991,
          1993,
          1994,
          1995,
          1997,
          1998,
          1999,
          2001,
          2002,
          2003,
          2005,
          2006,
          2007,
          2009,
          2010,
          2011,
          2013,
          2014,
          2015
         ],
         "y": [
          0,
          0,
          0,
          0,
          0,
          0,
          0,
          0,
          0,
          0,
          0,
          0,
          0,
          0,
          0,
          0,
          0,
          0,
          0,
          0,
          0,
          0,
          0,
          67214.5119560873,
          0,
          40977.48725704476,
          51966.230937771106,
          0
         ]
        }
       ],
       "layout": {
        "legend": {
         "traceorder": "normal",
         "x": 0,
         "y": 1
        },
        "template": {
         "data": {
          "bar": [
           {
            "error_x": {
             "color": "#2a3f5f"
            },
            "error_y": {
             "color": "#2a3f5f"
            },
            "marker": {
             "line": {
              "color": "#E5ECF6",
              "width": 0.5
             },
             "pattern": {
              "fillmode": "overlay",
              "size": 10,
              "solidity": 0.2
             }
            },
            "type": "bar"
           }
          ],
          "barpolar": [
           {
            "marker": {
             "line": {
              "color": "#E5ECF6",
              "width": 0.5
             },
             "pattern": {
              "fillmode": "overlay",
              "size": 10,
              "solidity": 0.2
             }
            },
            "type": "barpolar"
           }
          ],
          "carpet": [
           {
            "aaxis": {
             "endlinecolor": "#2a3f5f",
             "gridcolor": "white",
             "linecolor": "white",
             "minorgridcolor": "white",
             "startlinecolor": "#2a3f5f"
            },
            "baxis": {
             "endlinecolor": "#2a3f5f",
             "gridcolor": "white",
             "linecolor": "white",
             "minorgridcolor": "white",
             "startlinecolor": "#2a3f5f"
            },
            "type": "carpet"
           }
          ],
          "choropleth": [
           {
            "colorbar": {
             "outlinewidth": 0,
             "ticks": ""
            },
            "type": "choropleth"
           }
          ],
          "contour": [
           {
            "colorbar": {
             "outlinewidth": 0,
             "ticks": ""
            },
            "colorscale": [
             [
              0,
              "#0d0887"
             ],
             [
              0.1111111111111111,
              "#46039f"
             ],
             [
              0.2222222222222222,
              "#7201a8"
             ],
             [
              0.3333333333333333,
              "#9c179e"
             ],
             [
              0.4444444444444444,
              "#bd3786"
             ],
             [
              0.5555555555555556,
              "#d8576b"
             ],
             [
              0.6666666666666666,
              "#ed7953"
             ],
             [
              0.7777777777777778,
              "#fb9f3a"
             ],
             [
              0.8888888888888888,
              "#fdca26"
             ],
             [
              1,
              "#f0f921"
             ]
            ],
            "type": "contour"
           }
          ],
          "contourcarpet": [
           {
            "colorbar": {
             "outlinewidth": 0,
             "ticks": ""
            },
            "type": "contourcarpet"
           }
          ],
          "heatmap": [
           {
            "colorbar": {
             "outlinewidth": 0,
             "ticks": ""
            },
            "colorscale": [
             [
              0,
              "#0d0887"
             ],
             [
              0.1111111111111111,
              "#46039f"
             ],
             [
              0.2222222222222222,
              "#7201a8"
             ],
             [
              0.3333333333333333,
              "#9c179e"
             ],
             [
              0.4444444444444444,
              "#bd3786"
             ],
             [
              0.5555555555555556,
              "#d8576b"
             ],
             [
              0.6666666666666666,
              "#ed7953"
             ],
             [
              0.7777777777777778,
              "#fb9f3a"
             ],
             [
              0.8888888888888888,
              "#fdca26"
             ],
             [
              1,
              "#f0f921"
             ]
            ],
            "type": "heatmap"
           }
          ],
          "histogram": [
           {
            "marker": {
             "pattern": {
              "fillmode": "overlay",
              "size": 10,
              "solidity": 0.2
             }
            },
            "type": "histogram"
           }
          ],
          "histogram2d": [
           {
            "colorbar": {
             "outlinewidth": 0,
             "ticks": ""
            },
            "colorscale": [
             [
              0,
              "#0d0887"
             ],
             [
              0.1111111111111111,
              "#46039f"
             ],
             [
              0.2222222222222222,
              "#7201a8"
             ],
             [
              0.3333333333333333,
              "#9c179e"
             ],
             [
              0.4444444444444444,
              "#bd3786"
             ],
             [
              0.5555555555555556,
              "#d8576b"
             ],
             [
              0.6666666666666666,
              "#ed7953"
             ],
             [
              0.7777777777777778,
              "#fb9f3a"
             ],
             [
              0.8888888888888888,
              "#fdca26"
             ],
             [
              1,
              "#f0f921"
             ]
            ],
            "type": "histogram2d"
           }
          ],
          "histogram2dcontour": [
           {
            "colorbar": {
             "outlinewidth": 0,
             "ticks": ""
            },
            "colorscale": [
             [
              0,
              "#0d0887"
             ],
             [
              0.1111111111111111,
              "#46039f"
             ],
             [
              0.2222222222222222,
              "#7201a8"
             ],
             [
              0.3333333333333333,
              "#9c179e"
             ],
             [
              0.4444444444444444,
              "#bd3786"
             ],
             [
              0.5555555555555556,
              "#d8576b"
             ],
             [
              0.6666666666666666,
              "#ed7953"
             ],
             [
              0.7777777777777778,
              "#fb9f3a"
             ],
             [
              0.8888888888888888,
              "#fdca26"
             ],
             [
              1,
              "#f0f921"
             ]
            ],
            "type": "histogram2dcontour"
           }
          ],
          "mesh3d": [
           {
            "colorbar": {
             "outlinewidth": 0,
             "ticks": ""
            },
            "type": "mesh3d"
           }
          ],
          "parcoords": [
           {
            "line": {
             "colorbar": {
              "outlinewidth": 0,
              "ticks": ""
             }
            },
            "type": "parcoords"
           }
          ],
          "pie": [
           {
            "automargin": true,
            "type": "pie"
           }
          ],
          "scatter": [
           {
            "fillpattern": {
             "fillmode": "overlay",
             "size": 10,
             "solidity": 0.2
            },
            "type": "scatter"
           }
          ],
          "scatter3d": [
           {
            "line": {
             "colorbar": {
              "outlinewidth": 0,
              "ticks": ""
             }
            },
            "marker": {
             "colorbar": {
              "outlinewidth": 0,
              "ticks": ""
             }
            },
            "type": "scatter3d"
           }
          ],
          "scattercarpet": [
           {
            "marker": {
             "colorbar": {
              "outlinewidth": 0,
              "ticks": ""
             }
            },
            "type": "scattercarpet"
           }
          ],
          "scattergeo": [
           {
            "marker": {
             "colorbar": {
              "outlinewidth": 0,
              "ticks": ""
             }
            },
            "type": "scattergeo"
           }
          ],
          "scattergl": [
           {
            "marker": {
             "colorbar": {
              "outlinewidth": 0,
              "ticks": ""
             }
            },
            "type": "scattergl"
           }
          ],
          "scattermap": [
           {
            "marker": {
             "colorbar": {
              "outlinewidth": 0,
              "ticks": ""
             }
            },
            "type": "scattermap"
           }
          ],
          "scattermapbox": [
           {
            "marker": {
             "colorbar": {
              "outlinewidth": 0,
              "ticks": ""
             }
            },
            "type": "scattermapbox"
           }
          ],
          "scatterpolar": [
           {
            "marker": {
             "colorbar": {
              "outlinewidth": 0,
              "ticks": ""
             }
            },
            "type": "scatterpolar"
           }
          ],
          "scatterpolargl": [
           {
            "marker": {
             "colorbar": {
              "outlinewidth": 0,
              "ticks": ""
             }
            },
            "type": "scatterpolargl"
           }
          ],
          "scatterternary": [
           {
            "marker": {
             "colorbar": {
              "outlinewidth": 0,
              "ticks": ""
             }
            },
            "type": "scatterternary"
           }
          ],
          "surface": [
           {
            "colorbar": {
             "outlinewidth": 0,
             "ticks": ""
            },
            "colorscale": [
             [
              0,
              "#0d0887"
             ],
             [
              0.1111111111111111,
              "#46039f"
             ],
             [
              0.2222222222222222,
              "#7201a8"
             ],
             [
              0.3333333333333333,
              "#9c179e"
             ],
             [
              0.4444444444444444,
              "#bd3786"
             ],
             [
              0.5555555555555556,
              "#d8576b"
             ],
             [
              0.6666666666666666,
              "#ed7953"
             ],
             [
              0.7777777777777778,
              "#fb9f3a"
             ],
             [
              0.8888888888888888,
              "#fdca26"
             ],
             [
              1,
              "#f0f921"
             ]
            ],
            "type": "surface"
           }
          ],
          "table": [
           {
            "cells": {
             "fill": {
              "color": "#EBF0F8"
             },
             "line": {
              "color": "white"
             }
            },
            "header": {
             "fill": {
              "color": "#C8D4E3"
             },
             "line": {
              "color": "white"
             }
            },
            "type": "table"
           }
          ]
         },
         "layout": {
          "annotationdefaults": {
           "arrowcolor": "#2a3f5f",
           "arrowhead": 0,
           "arrowwidth": 1
          },
          "autotypenumbers": "strict",
          "coloraxis": {
           "colorbar": {
            "outlinewidth": 0,
            "ticks": ""
           }
          },
          "colorscale": {
           "diverging": [
            [
             0,
             "#8e0152"
            ],
            [
             0.1,
             "#c51b7d"
            ],
            [
             0.2,
             "#de77ae"
            ],
            [
             0.3,
             "#f1b6da"
            ],
            [
             0.4,
             "#fde0ef"
            ],
            [
             0.5,
             "#f7f7f7"
            ],
            [
             0.6,
             "#e6f5d0"
            ],
            [
             0.7,
             "#b8e186"
            ],
            [
             0.8,
             "#7fbc41"
            ],
            [
             0.9,
             "#4d9221"
            ],
            [
             1,
             "#276419"
            ]
           ],
           "sequential": [
            [
             0,
             "#0d0887"
            ],
            [
             0.1111111111111111,
             "#46039f"
            ],
            [
             0.2222222222222222,
             "#7201a8"
            ],
            [
             0.3333333333333333,
             "#9c179e"
            ],
            [
             0.4444444444444444,
             "#bd3786"
            ],
            [
             0.5555555555555556,
             "#d8576b"
            ],
            [
             0.6666666666666666,
             "#ed7953"
            ],
            [
             0.7777777777777778,
             "#fb9f3a"
            ],
            [
             0.8888888888888888,
             "#fdca26"
            ],
            [
             1,
             "#f0f921"
            ]
           ],
           "sequentialminus": [
            [
             0,
             "#0d0887"
            ],
            [
             0.1111111111111111,
             "#46039f"
            ],
            [
             0.2222222222222222,
             "#7201a8"
            ],
            [
             0.3333333333333333,
             "#9c179e"
            ],
            [
             0.4444444444444444,
             "#bd3786"
            ],
            [
             0.5555555555555556,
             "#d8576b"
            ],
            [
             0.6666666666666666,
             "#ed7953"
            ],
            [
             0.7777777777777778,
             "#fb9f3a"
            ],
            [
             0.8888888888888888,
             "#fdca26"
            ],
            [
             1,
             "#f0f921"
            ]
           ]
          },
          "colorway": [
           "#636efa",
           "#EF553B",
           "#00cc96",
           "#ab63fa",
           "#FFA15A",
           "#19d3f3",
           "#FF6692",
           "#B6E880",
           "#FF97FF",
           "#FECB52"
          ],
          "font": {
           "color": "#2a3f5f"
          },
          "geo": {
           "bgcolor": "white",
           "lakecolor": "white",
           "landcolor": "#E5ECF6",
           "showlakes": true,
           "showland": true,
           "subunitcolor": "white"
          },
          "hoverlabel": {
           "align": "left"
          },
          "hovermode": "closest",
          "mapbox": {
           "style": "light"
          },
          "paper_bgcolor": "white",
          "plot_bgcolor": "#E5ECF6",
          "polar": {
           "angularaxis": {
            "gridcolor": "white",
            "linecolor": "white",
            "ticks": ""
           },
           "bgcolor": "#E5ECF6",
           "radialaxis": {
            "gridcolor": "white",
            "linecolor": "white",
            "ticks": ""
           }
          },
          "scene": {
           "xaxis": {
            "backgroundcolor": "#E5ECF6",
            "gridcolor": "white",
            "gridwidth": 2,
            "linecolor": "white",
            "showbackground": true,
            "ticks": "",
            "zerolinecolor": "white"
           },
           "yaxis": {
            "backgroundcolor": "#E5ECF6",
            "gridcolor": "white",
            "gridwidth": 2,
            "linecolor": "white",
            "showbackground": true,
            "ticks": "",
            "zerolinecolor": "white"
           },
           "zaxis": {
            "backgroundcolor": "#E5ECF6",
            "gridcolor": "white",
            "gridwidth": 2,
            "linecolor": "white",
            "showbackground": true,
            "ticks": "",
            "zerolinecolor": "white"
           }
          },
          "shapedefaults": {
           "line": {
            "color": "#2a3f5f"
           }
          },
          "ternary": {
           "aaxis": {
            "gridcolor": "white",
            "linecolor": "white",
            "ticks": ""
           },
           "baxis": {
            "gridcolor": "white",
            "linecolor": "white",
            "ticks": ""
           },
           "bgcolor": "#E5ECF6",
           "caxis": {
            "gridcolor": "white",
            "linecolor": "white",
            "ticks": ""
           }
          },
          "title": {
           "x": 0.05
          },
          "xaxis": {
           "automargin": true,
           "gridcolor": "white",
           "linecolor": "white",
           "ticks": "",
           "title": {
            "standoff": 15
           },
           "zerolinecolor": "white",
           "zerolinewidth": 2
          },
          "yaxis": {
           "automargin": true,
           "gridcolor": "white",
           "linecolor": "white",
           "ticks": "",
           "title": {
            "standoff": 15
           },
           "zerolinecolor": "white",
           "zerolinewidth": 2
          }
         }
        },
        "title": {
         "text": "Generation over the years"
        },
        "xaxis": {
         "title": {
          "text": "Year"
         }
        },
        "yaxis": {
         "title": {
          "text": "Capacity (MW)"
         }
        }
       }
      }
     },
     "metadata": {},
     "output_type": "display_data"
    }
   ],
   "source": [
    "#make a 100% stacket area chart of the generation for all years\n",
    "def plot_generation(years):\n",
    "    fig = go.Figure()\n",
    "\n",
    "    for generator in ['onshorewind', 'solar', 'OCGT', 'Coal', 'Biomass', 'Oil', 'offshorewind']:\n",
    "        fig.add_trace(go.Scatter(x=years, y=[sum(generations[year][generator]) for year in years],\n",
    "                                 mode='lines+markers',\n",
    "                                 name=generator))\n",
    "\n",
    "    fig.update_layout(title='Generation over the years',\n",
    "                      xaxis_title='Year',\n",
    "                      yaxis_title='Capacity (MW)',\n",
    "                      legend=dict(x=0, y=1, traceorder='normal'))\n",
    "\n",
    "    fig.show()\n",
    "plot_generation([year for year in range(1979, 2017) if not calendar.isleap(year)])"
   ]
  },
  {
   "cell_type": "markdown",
   "metadata": {},
   "source": [
    "# D)"
   ]
  },
  {
   "cell_type": "code",
   "execution_count": 48,
   "metadata": {},
   "outputs": [
    {
     "data": {
      "text/plain": [
       "parameter\n",
       "C in fuel                                 NaN\n",
       "C stored                                  NaN\n",
       "CO2 intensity                    0.000000e+00\n",
       "CO2 stored                                NaN\n",
       "FOM                              4.300000e-01\n",
       "Motor size                                NaN\n",
       "VOM                              0.000000e+00\n",
       "ammonia-input                             NaN\n",
       "c_b                                       NaN\n",
       "c_v                                       NaN\n",
       "capacity                                  NaN\n",
       "capture rate                              NaN\n",
       "capture_rate                              NaN\n",
       "carbondioxide-input                       NaN\n",
       "carbondioxide-output                      NaN\n",
       "commodity                                 NaN\n",
       "compression-electricity-input             NaN\n",
       "compression-heat-output                   NaN\n",
       "discount rate                    7.000000e-02\n",
       "district heat surcharge                   NaN\n",
       "district heat-input                       NaN\n",
       "efficiency                       1.000000e+00\n",
       "efficiency-biochar                        NaN\n",
       "efficiency-biomass                        NaN\n",
       "efficiency-electricity                    NaN\n",
       "efficiency-heat                           NaN\n",
       "efficiency-hydrogen                       NaN\n",
       "efficiency-tot                            NaN\n",
       "electricity-input                         NaN\n",
       "energy to power ratio                     NaN\n",
       "fuel                             0.000000e+00\n",
       "hbi-input                                 NaN\n",
       "heat-input                                NaN\n",
       "heat-output                               NaN\n",
       "hydrogen-input                            NaN\n",
       "investment                       5.707406e+04\n",
       "lifetime                         6.000000e+01\n",
       "lohc-input                                NaN\n",
       "methane-input                             NaN\n",
       "methanol-input                            NaN\n",
       "min_fill_level                            NaN\n",
       "naphtha-input                             NaN\n",
       "nitrogen-input                            NaN\n",
       "ore-input                                 NaN\n",
       "p_nom_ratio                               NaN\n",
       "pelletizing cost                          NaN\n",
       "yield-biochar                             NaN\n",
       "marginal_cost                    0.000000e+00\n",
       "capital_cost                     1.369477e+07\n",
       "Name: Pumped-Storage-Hydro-store, dtype: float64"
      ]
     },
     "execution_count": 48,
     "metadata": {},
     "output_type": "execute_result"
    }
   ],
   "source": [
    "#values for pumped hydro\n",
    "costs.loc[\"Pumped-Storage-Hydro-store\", :].T"
   ]
  },
  {
   "cell_type": "code",
   "execution_count": null,
   "metadata": {},
   "outputs": [],
   "source": [
    "#Create a new carrier\n",
    "network.add(\"Carrier\",\n",
    "              \"Hydro\")\n",
    "\n",
    "#Create a new bus\n",
    "network.add(\"Bus\",\n",
    "          \"Hydro Bus\",\n",
    "          carrier = \"Hydro\")\n",
    "\n",
    "#Connect the Pumped Hydr Storage (PHS) to the Hydro Bus\n",
    "network.add(\"Storage\",\n",
    "          \"PHS\",\n",
    "          bus = \"Hydro Bus\",\n",
    "          e_nom_extendable = True,\n",
    "          e_cyclic = True,\n",
    "          capital_cost = costs.at[\"Pumped-Storage-Hydro-store\", \"capital_cost\"]\n",
    ")\n",
    "\n",
    "#Add the link \"Hydro pump\" that transport energy from the electricity bus (bus0) to the Hydro bus (bus1)\n",
    "#with 80% efficiency\n",
    "network.add(\"Link\",\n",
    "          \"Hydro pump\",\n",
    "          bus0 = \"electricity bus\",\n",
    "          bus1 = \"Hydro Bus\",\n",
    "          p_nom_extendable = True,\n",
    "          efficiency = 0.85,\n",
    "          capital_cost = 0\n",
    "          )\n",
    "\n",
    "#Add the link \"Hydro turbine\" that transports energy from the Hydro bus (bus0) to the electricity bus (bus1)\n",
    "#with 58% efficiency\n",
    "network.add(\"Link\",\n",
    "          \"Hydro turbine\",\n",
    "          bus0 = \"Hydro Bus\",\n",
    "          bus1 = \"electricity bus\",\n",
    "          p_nom_extendable = True,\n",
    "          efficiency = 0.9,\n",
    "          capital_cost = 0\n",
    "          )\n"
   ]
  }
 ],
 "metadata": {
  "kernelspec": {
   "display_name": "Integrated",
   "language": "python",
   "name": "python3"
  },
  "language_info": {
   "codemirror_mode": {
    "name": "ipython",
    "version": 3
   },
   "file_extension": ".py",
   "mimetype": "text/x-python",
   "name": "python",
   "nbconvert_exporter": "python",
   "pygments_lexer": "ipython3",
   "version": "3.11.11"
  }
 },
 "nbformat": 4,
 "nbformat_minor": 2
}
