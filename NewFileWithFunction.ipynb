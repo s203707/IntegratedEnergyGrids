{
 "cells": [
  {
   "cell_type": "code",
   "execution_count": 3,
   "metadata": {},
   "outputs": [],
   "source": [
    "import pandas as pd\n",
    "import pypsa\n",
    "import urllib3\n",
    "import plotly.graph_objects as go\n",
    "import calendar\n",
    "urllib3.disable_warnings()"
   ]
  },
  {
   "cell_type": "code",
   "execution_count": 4,
   "metadata": {},
   "outputs": [],
   "source": [
    "# Load Technology data\n",
    "year = 2025\n",
    "url = f\"https://raw.githubusercontent.com/PyPSA/technology-data/master/outputs/costs_{year}.csv\"\n",
    "costs = pd.read_csv(url, index_col=[0, 1])\n",
    "\n",
    "costs.loc[costs.unit.str.contains(\"/kW\"), \"value\"] *= 1e3\n",
    "costs.unit = costs.unit.str.replace(\"/kW\", \"/MW\")\n",
    "\n",
    "defaults = {\n",
    "    \"FOM\": 0,\n",
    "    \"VOM\": 0,\n",
    "    \"efficiency\": 1,\n",
    "    \"fuel\": 0,\n",
    "    \"investment\": 0,\n",
    "    \"lifetime\": 25,\n",
    "    \"CO2 intensity\": 0,\n",
    "    \"discount rate\": 0.07,\n",
    "}\n",
    "costs = costs.value.unstack().fillna(defaults)\n",
    "\n",
    "costs.at[\"OCGT\", \"fuel\"] = costs.at[\"gas\", \"fuel\"]\n",
    "costs.at[\"OCGT\", \"CO2 intensity\"] = costs.at[\"gas\", \"CO2 intensity\"]\n",
    "\n",
    "costs[\"marginal_cost\"] = costs[\"VOM\"] + costs[\"fuel\"] / costs[\"efficiency\"]\n"
   ]
  },
  {
   "cell_type": "code",
   "execution_count": 5,
   "metadata": {},
   "outputs": [],
   "source": [
    "def annuity(n,r):\n",
    "    \"\"\" Calculate the annuity factor for an asset with lifetime n years and\n",
    "    discount rate  r \"\"\"\n",
    "\n",
    "    if r > 0:\n",
    "        return r/(1. - 1./(1.+r)**n)\n",
    "    else:\n",
    "        return 1/n\n"
   ]
  },
  {
   "cell_type": "code",
   "execution_count": 6,
   "metadata": {},
   "outputs": [],
   "source": [
    "annuity = costs.apply(lambda x: annuity(x[\"lifetime\"], x[\"discount rate\"]), axis=1)\n",
    "costs[\"capital_cost\"] = (annuity + costs[\"FOM\"] / 100) * costs[\"investment\"]"
   ]
  },
  {
   "cell_type": "code",
   "execution_count": 7,
   "metadata": {},
   "outputs": [
    {
     "name": "stdout",
     "output_type": "stream",
     "text": [
      "Capital cost for onshore wind: 107441.45702058321\n",
      "Capital cost for solar: 63114.92398493304\n",
      "Capital cost for OCGT: 48739.697512920015\n",
      "Capital cost for coal: 337208.02744802914\n",
      "Capital cost for offshore wind: 184567.39355010682\n",
      "Capital cost for oil: 40272.798145584995\n",
      "Capital cost for biomass: 294201.05117025424\n"
     ]
    }
   ],
   "source": [
    "print(\"Capital cost for onshore wind:\", costs.at[\"onwind\", \"capital_cost\"])\n",
    "print(\"Capital cost for solar:\", costs.at[\"solar\", \"capital_cost\"])\n",
    "print(\"Capital cost for OCGT:\", costs.at[\"OCGT\", \"capital_cost\"])\n",
    "print(\"Capital cost for coal:\", costs.at[\"coal\", \"capital_cost\"])\n",
    "print(\"Capital cost for offshore wind:\", costs.at[\"offwind\", \"capital_cost\"])\n",
    "print(\"Capital cost for oil:\", costs.at[\"oil\", \"capital_cost\"])\n",
    "print(\"Capital cost for biomass:\", costs.at[\"biomass\", \"capital_cost\"])"
   ]
  },
  {
   "cell_type": "code",
   "execution_count": 8,
   "metadata": {},
   "outputs": [
    {
     "name": "stdout",
     "output_type": "stream",
     "text": [
      "MC gas 24.568\n",
      "MC OCGT 65.42372839506173\n",
      "MC coal 30.098840449438203\n",
      "MC biomass 15.828205128205129\n",
      "MC oil 157.52387142857143\n"
     ]
    }
   ],
   "source": [
    "\n",
    "print(\"MC gas\", costs.at[\"gas\", \"marginal_cost\"])\n",
    "print(\"MC OCGT\", costs.at[\"OCGT\", \"marginal_cost\"])\n",
    "print(\"MC coal\", costs.at[\"coal\", \"marginal_cost\"])\n",
    "print(\"MC biomass\", costs.at[\"biomass\", \"marginal_cost\"])\n",
    "print(\"MC oil\", costs.at[\"oil\", \"marginal_cost\"])"
   ]
  },
  {
   "cell_type": "code",
   "execution_count": 9,
   "metadata": {},
   "outputs": [],
   "source": [
    "network = pypsa.Network()"
   ]
  },
  {
   "cell_type": "code",
   "execution_count": null,
   "metadata": {},
   "outputs": [],
   "source": [
    "def optimizer(year, co2_limit=None):\n",
    "    if co2_limit is not None:\n",
    "        network.add(\"GlobalConstraint\",\n",
    "                    \"co2_limit\",\n",
    "                    type=\"primary_energy\",\n",
    "                    carrier_attribute=\"co2_emissions\",\n",
    "                    sense=\"<=\",\n",
    "                    constant=co2_limit,\n",
    "                    overwrite=True)\n",
    "    hours_in_year = pd.date_range(f'{year}-01-01 00:00Z',\n",
    "                                f'{year}-12-31 23:00Z',\n",
    "                                freq='h')\n",
    "\n",
    "    network.set_snapshots(hours_in_year.values)\n",
    "\n",
    "    network.add(\"Bus\",\n",
    "                \"electricity bus\", overwrite=True)\n",
    "\n",
    "    # load electricity demand data\n",
    "    df_elec = pd.read_csv('data/electricity_demand.csv', sep=';', index_col=0) # in MWh\n",
    "    df_elec.index = pd.to_datetime(df_elec.index) #change index to datatime\n",
    "    country='IRL'\n",
    "    print(df_elec[country].head())\n",
    "\n",
    "    # add load to the bus\n",
    "    network.add(\"Load\",\n",
    "        \"load\",\n",
    "        bus=\"electricity bus\",\n",
    "        p_set=df_elec[country].values,\n",
    "        overwrite=True)\n",
    "    \n",
    "\n",
    "    # add the different carriers, only gas emits CO2\n",
    "    network.add(\"Carrier\", \"gas\", co2_emissions= costs.at[\"gas\", \"CO2 intensity\"], overwrite=True) # in t_CO2/MWh_th\n",
    "    network.add(\"Carrier\", \"onshorewind\", overwrite=True)\n",
    "    network.add(\"Carrier\", \"solar\", overwrite=True)\n",
    "    network.add(\"Carrier\", \"coal\", co2_emissions = costs.at[\"coal\", \"CO2 intensity\"], overwrite=True) # in t_CO2/MWh_th\n",
    "    network.add(\"Carrier\", \"biomass\", co2_emissions = costs.at[\"biomass\", \"CO2 intensity\"], overwrite=True) # in t_CO2/MWh_th\n",
    "    network.add(\"Carrier\", \"oil\", co2_emissions = costs.at[\"oil\", \"CO2 intensity\"], overwrite=True) # in t_CO2/MWh_th\n",
    "    network.add(\"Carrier\", \"offshorewind\", overwrite=True)\n",
    "\n",
    "    # add onshore wind generator\n",
    "    df_onshorewind = pd.read_csv('data/onshore_wind_1979-2017.csv', sep=';', index_col=0)\n",
    "    df_onshorewind.index = pd.to_datetime(df_onshorewind.index)\n",
    "    CF_wind = df_onshorewind[country][[hour.strftime(\"%Y-%m-%dT%H:%M:%SZ\") for hour in network.snapshots]]\n",
    "    network.add(\"Generator\",\n",
    "                \"onshorewind\",\n",
    "                bus=\"electricity bus\",\n",
    "                p_nom_extendable=True,\n",
    "                carrier=\"onshorewind\",\n",
    "                p_nom_max=4810-25.2, # maximum capacity can be limited due to environmental constraints. Based on electricity maps - minus the off shore wind capacity\n",
    "                capital_cost =costs.at[\"onwind\", \"capital_cost\"] , # in €/MW\n",
    "                marginal_cost = 0,\n",
    "                p_max_pu = CF_wind.values,\n",
    "                overwrite=True)\n",
    "\n",
    "    # add solar PV generator\n",
    "    df_solar = pd.read_csv('data/pv_optimal.csv', sep=';', index_col=0)\n",
    "    df_solar.index = pd.to_datetime(df_solar.index)\n",
    "    CF_solar = df_solar[country][[hour.strftime(\"%Y-%m-%dT%H:%M:%SZ\") for hour in network.snapshots]]\n",
    "    network.add(\"Generator\",\n",
    "                \"solar\",\n",
    "                bus=\"electricity bus\",\n",
    "                p_nom_extendable=True,\n",
    "                carrier=\"solar\",\n",
    "                p_nom_max = 740, # maximum capacity can be limited due to environmental constraints Based on electricity maps\n",
    "                capital_cost = costs.at[\"solar\", \"capital_cost\"], # in €/MW\n",
    "                marginal_cost = 0,\n",
    "                p_max_pu = CF_solar.values,\n",
    "                overwrite=True)\n",
    "\n",
    "    # add OCGT (Open Cycle Gas Turbine) generator\n",
    "    network.add(\"Generator\",\n",
    "                \"OCGT\",\n",
    "                bus=\"electricity bus\",\n",
    "                p_nom_extendable=True,\n",
    "                carrier=\"gas\",\n",
    "                p_nom_max=4270, #based on electricity maps\n",
    "                capital_cost = costs.at[\"OCGT\", \"capital_cost\"], #in €/MW\n",
    "                marginal_cost = costs.at[\"OCGT\", \"marginal_cost\"],\n",
    "                overwrite=True)\n",
    "\n",
    "    # add Coal generator\n",
    "    network.add(\"Generator\",\n",
    "                \"Coal\",\n",
    "                bus=\"electricity bus\",\n",
    "                p_nom_extendable=True,\n",
    "                carrier=\"coal\",\n",
    "                p_nom_max=920, #based on electricity maps\n",
    "                capital_cost = costs.at[\"coal\", \"capital_cost\"], #in €/MW\n",
    "                marginal_cost = costs.at[\"coal\", \"marginal_cost\"],\n",
    "                overwrite=True)\n",
    "\n",
    "    # add biomass generator\n",
    "    network.add(\"Generator\",\n",
    "                \"Biomass\",\n",
    "                bus=\"electricity bus\",\n",
    "                p_nom_extendable=True,\n",
    "                carrier=\"biomass\",\n",
    "                p_nom_max=70, #based on electricity maps \n",
    "                capital_cost = costs.at[\"biomass\", \"capital_cost\"], #in €/MW\n",
    "                marginal_cost = costs.at[\"biomass\", \"marginal_cost\"],\n",
    "                overwrite=True)\n",
    "\n",
    "    # add oil generator\n",
    "    network.add(\"Generator\",\n",
    "                \"Oil\",\n",
    "                bus=\"electricity bus\",\n",
    "                p_nom_extendable=True,\n",
    "                carrier=\"oil\",\n",
    "                p_nom_max=830, #based on electricity maps\n",
    "                capital_cost = costs.at[\"oil\", \"capital_cost\"], #in €/MW\n",
    "                marginal_cost = costs.at[\"oil\", \"marginal_cost\"],\n",
    "                overwrite=True)\n",
    "\n",
    "    # add offshore wind generator\n",
    "    df_offshorewind = pd.read_csv('data/offshore_wind_1979-2017.csv', sep=';', index_col=0)\n",
    "    df_offshorewind.index = pd.to_datetime(df_offshorewind.index)\n",
    "    CF_offshorewind = df_offshorewind[country][[hour.strftime(\"%Y-%m-%dT%H:%M:%SZ\") for hour in network.snapshots]]\n",
    "    network.add(\"Generator\",\n",
    "                \"offshorewind\",\n",
    "                bus=\"electricity bus\",\n",
    "                p_nom_extendable=True,\n",
    "                carrier=\"offshorewind\",\n",
    "                p_nom_max=25.2, # maximum capacity can be limited due to environmental constraints. #Ireland doesnt have offshore wind today, but are proposing to install 5GW soon\n",
    "                capital_cost = costs.at[\"offwind\", \"capital_cost\"], # in €/MW\n",
    "                marginal_cost = 0,\n",
    "                p_max_pu = CF_offshorewind.values,\n",
    "                overwrite=True)\n",
    "    \n",
    "\n",
    "    #Optimization\n",
    "    status = network.optimize(solver_name='gurobi', solver_options={'OutputFlag': 0})\n",
    "\n",
    "\n",
    "    objective = network.objective\n",
    "    capacities = network.generators.p_nom_opt #in MW\n",
    "    loadConsumption = network.loads_t.p\n",
    "    generation = network.generators_t.p\n",
    "    snapshots = network.snapshots\n",
    "    \n",
    "    \n",
    "    \n",
    "\n",
    "    return objective, capacities, loadConsumption, generation, snapshots, status\n",
    "\n",
    "\n"
   ]
  },
  {
   "cell_type": "code",
   "execution_count": null,
   "metadata": {},
   "outputs": [
    {
     "name": "stdout",
     "output_type": "stream",
     "text": [
      "utc_time\n",
      "2015-01-01 00:00:00+00:00    2651.0\n",
      "2015-01-01 01:00:00+00:00    2412.0\n",
      "2015-01-01 02:00:00+00:00    2256.0\n",
      "2015-01-01 03:00:00+00:00    2170.0\n",
      "2015-01-01 04:00:00+00:00    2136.0\n",
      "Name: IRL, dtype: float64\n"
     ]
    },
    {
     "name": "stderr",
     "output_type": "stream",
     "text": [
      "WARNING:pypsa.consistency:The following buses have carriers which are not defined:\n",
      "Index(['electricity bus'], dtype='object', name='Bus')\n",
      "WARNING:pypsa.consistency:The following buses have carriers which are not defined:\n",
      "Index(['electricity bus'], dtype='object', name='Bus')\n",
      "INFO:linopy.model: Solve problem using Gurobi solver\n",
      "INFO:linopy.model:Solver options:\n",
      " - OutputFlag: 0\n",
      "INFO:linopy.io:Writing objective.\n",
      "Writing constraints.: 100%|\u001b[38;2;128;191;255m██████████\u001b[0m| 5/5 [00:00<00:00, 18.35it/s]\n",
      "Writing continuous variables.: 100%|\u001b[38;2;128;191;255m██████████\u001b[0m| 2/2 [00:00<00:00, 40.47it/s]\n",
      "INFO:linopy.io: Writing time: 0.37s\n"
     ]
    },
    {
     "name": "stdout",
     "output_type": "stream",
     "text": [
      "Set parameter Username\n"
     ]
    },
    {
     "name": "stderr",
     "output_type": "stream",
     "text": [
      "INFO:gurobipy:Set parameter Username\n"
     ]
    },
    {
     "name": "stdout",
     "output_type": "stream",
     "text": [
      "Academic license - for non-commercial use only - expires 2026-02-12\n"
     ]
    },
    {
     "name": "stderr",
     "output_type": "stream",
     "text": [
      "INFO:gurobipy:Academic license - for non-commercial use only - expires 2026-02-12\n"
     ]
    },
    {
     "name": "stdout",
     "output_type": "stream",
     "text": [
      "Read LP format model from file /private/var/folders/kq/4zrjw9c97lz3tyvhdfpynqqc0000gn/T/linopy-problem-b28t9gen.lp\n"
     ]
    },
    {
     "name": "stderr",
     "output_type": "stream",
     "text": [
      "INFO:gurobipy:Read LP format model from file /private/var/folders/kq/4zrjw9c97lz3tyvhdfpynqqc0000gn/T/linopy-problem-b28t9gen.lp\n"
     ]
    },
    {
     "name": "stdout",
     "output_type": "stream",
     "text": [
      "Reading time = 0.11 seconds\n"
     ]
    },
    {
     "name": "stderr",
     "output_type": "stream",
     "text": [
      "INFO:gurobipy:Reading time = 0.11 seconds\n"
     ]
    },
    {
     "name": "stdout",
     "output_type": "stream",
     "text": [
      "obj: 131414 rows, 61327 columns, 240914 nonzeros\n"
     ]
    },
    {
     "name": "stderr",
     "output_type": "stream",
     "text": [
      "INFO:gurobipy:obj: 131414 rows, 61327 columns, 240914 nonzeros\n",
      "INFO:linopy.constants: Optimization successful: \n",
      "Status: ok\n",
      "Termination condition: optimal\n",
      "Solution: 61327 primals, 131414 duals\n",
      "Objective: 1.70e+09\n",
      "Solver model: available\n",
      "Solver message: 2\n",
      "\n",
      "INFO:pypsa.optimization.optimize:The shadow-prices of the constraints Generator-ext-p-lower, Generator-ext-p-upper were not assigned to the network.\n"
     ]
    }
   ],
   "source": [
    "objective, capacities, loadConsumption, generation, snapshot, status = optimizer(2015, None)"
   ]
  },
  {
   "cell_type": "code",
   "execution_count": 12,
   "metadata": {},
   "outputs": [
    {
     "data": {
      "text/plain": [
       "'optimal'"
      ]
     },
     "execution_count": 12,
     "metadata": {},
     "output_type": "execute_result"
    }
   ],
   "source": [
    "status[1]"
   ]
  },
  {
   "cell_type": "code",
   "execution_count": 13,
   "metadata": {},
   "outputs": [],
   "source": [
    "def plot_dispatch_winter():\n",
    "    fig = go.Figure()\n",
    "\n",
    "    fig.add_trace(go.Scatter(x=snapshot[:96], y=loadConsumption['load'][:96], mode='lines', name='demand', line=dict(color='black')))\n",
    "    fig.add_trace(go.Scatter(x=snapshot[:96], y=generation['onshorewind'][:96], mode='lines', name='onshore wind', line=dict(color='blue')))\n",
    "    fig.add_trace(go.Scatter(x=snapshot[:96], y=generation['solar'][:96], mode='lines', name='solar', line=dict(color='orange')))\n",
    "    fig.add_trace(go.Scatter(x=snapshot[:96], y=generation['OCGT'][:96], mode='lines', name='gas (OCGT)', line=dict(color='brown')))\n",
    "    fig.add_trace(go.Scatter(x=snapshot[:96], y=generation['Coal'][:96], mode='lines', name='coal', line=dict(color='grey')))\n",
    "    fig.add_trace(go.Scatter(x=snapshot[:96], y=generation['Biomass'][:96], mode='lines', name='biomass', line=dict(color='green')))\n",
    "    fig.add_trace(go.Scatter(x=snapshot[:96], y=generation['Oil'][:96], mode='lines', name='oil', line=dict(color='black')))\n",
    "    fig.add_trace(go.Scatter(x=snapshot[:96], y=generation['offshorewind'][:96], mode='lines', name='offshore wind', line=dict(color='purple')))\n",
    "\n",
    "    fig.update_layout(title='Electricity Dispatch Week 1 2015',\n",
    "                    xaxis_title='Time',\n",
    "                    yaxis_title='Power (MW)',\n",
    "                    legend=dict(x=0, y=1, traceorder='normal'))\n",
    "\n",
    "    fig.show()"
   ]
  },
  {
   "cell_type": "code",
   "execution_count": 14,
   "metadata": {},
   "outputs": [
    {
     "data": {
      "application/vnd.plotly.v1+json": {
       "config": {
        "plotlyServerURL": "https://plot.ly"
       },
       "data": [
        {
         "line": {
          "color": "black"
         },
         "mode": "lines",
         "name": "demand",
         "type": "scatter",
         "x": [
          "2015-01-01T00:00:00",
          "2015-01-01T01:00:00",
          "2015-01-01T02:00:00",
          "2015-01-01T03:00:00",
          "2015-01-01T04:00:00",
          "2015-01-01T05:00:00",
          "2015-01-01T06:00:00",
          "2015-01-01T07:00:00",
          "2015-01-01T08:00:00",
          "2015-01-01T09:00:00",
          "2015-01-01T10:00:00",
          "2015-01-01T11:00:00",
          "2015-01-01T12:00:00",
          "2015-01-01T13:00:00",
          "2015-01-01T14:00:00",
          "2015-01-01T15:00:00",
          "2015-01-01T16:00:00",
          "2015-01-01T17:00:00",
          "2015-01-01T18:00:00",
          "2015-01-01T19:00:00",
          "2015-01-01T20:00:00",
          "2015-01-01T21:00:00",
          "2015-01-01T22:00:00",
          "2015-01-01T23:00:00",
          "2015-01-02T00:00:00",
          "2015-01-02T01:00:00",
          "2015-01-02T02:00:00",
          "2015-01-02T03:00:00",
          "2015-01-02T04:00:00",
          "2015-01-02T05:00:00",
          "2015-01-02T06:00:00",
          "2015-01-02T07:00:00",
          "2015-01-02T08:00:00",
          "2015-01-02T09:00:00",
          "2015-01-02T10:00:00",
          "2015-01-02T11:00:00",
          "2015-01-02T12:00:00",
          "2015-01-02T13:00:00",
          "2015-01-02T14:00:00",
          "2015-01-02T15:00:00",
          "2015-01-02T16:00:00",
          "2015-01-02T17:00:00",
          "2015-01-02T18:00:00",
          "2015-01-02T19:00:00",
          "2015-01-02T20:00:00",
          "2015-01-02T21:00:00",
          "2015-01-02T22:00:00",
          "2015-01-02T23:00:00",
          "2015-01-03T00:00:00",
          "2015-01-03T01:00:00",
          "2015-01-03T02:00:00",
          "2015-01-03T03:00:00",
          "2015-01-03T04:00:00",
          "2015-01-03T05:00:00",
          "2015-01-03T06:00:00",
          "2015-01-03T07:00:00",
          "2015-01-03T08:00:00",
          "2015-01-03T09:00:00",
          "2015-01-03T10:00:00",
          "2015-01-03T11:00:00",
          "2015-01-03T12:00:00",
          "2015-01-03T13:00:00",
          "2015-01-03T14:00:00",
          "2015-01-03T15:00:00",
          "2015-01-03T16:00:00",
          "2015-01-03T17:00:00",
          "2015-01-03T18:00:00",
          "2015-01-03T19:00:00",
          "2015-01-03T20:00:00",
          "2015-01-03T21:00:00",
          "2015-01-03T22:00:00",
          "2015-01-03T23:00:00",
          "2015-01-04T00:00:00",
          "2015-01-04T01:00:00",
          "2015-01-04T02:00:00",
          "2015-01-04T03:00:00",
          "2015-01-04T04:00:00",
          "2015-01-04T05:00:00",
          "2015-01-04T06:00:00",
          "2015-01-04T07:00:00",
          "2015-01-04T08:00:00",
          "2015-01-04T09:00:00",
          "2015-01-04T10:00:00",
          "2015-01-04T11:00:00",
          "2015-01-04T12:00:00",
          "2015-01-04T13:00:00",
          "2015-01-04T14:00:00",
          "2015-01-04T15:00:00",
          "2015-01-04T16:00:00",
          "2015-01-04T17:00:00",
          "2015-01-04T18:00:00",
          "2015-01-04T19:00:00",
          "2015-01-04T20:00:00",
          "2015-01-04T21:00:00",
          "2015-01-04T22:00:00",
          "2015-01-04T23:00:00"
         ],
         "y": [
          2651,
          2412,
          2256,
          2170,
          2136,
          2169,
          2223,
          2234,
          2343,
          2623,
          2901,
          3146,
          3234,
          3146,
          3122,
          3264,
          3497,
          3464,
          3353,
          3203,
          3070,
          2901,
          2891,
          2708,
          2452,
          2266,
          2167,
          2118,
          2138,
          2260,
          2475,
          2692,
          2937,
          3191,
          3340,
          3387,
          3372,
          3300,
          3301,
          3558,
          4014,
          4003,
          3812,
          3580,
          3382,
          3141,
          3088,
          2835,
          2581,
          2398,
          2266,
          2187,
          2163,
          2247,
          2389,
          2531,
          2777,
          3041,
          3197,
          3280,
          3276,
          3210,
          3200,
          3415,
          3905,
          3913,
          3728,
          3523,
          3308,
          3084,
          3065,
          2882,
          2632,
          2426,
          2289,
          2220,
          2173,
          2208,
          2271,
          2318,
          2491,
          2777,
          3010,
          3212,
          3290,
          3237,
          3185,
          3332,
          3768,
          3825,
          3678,
          3517,
          3307,
          3013,
          2898,
          2671
         ]
        },
        {
         "line": {
          "color": "blue"
         },
         "mode": "lines",
         "name": "onshore wind",
         "type": "scatter",
         "x": [
          "2015-01-01T00:00:00",
          "2015-01-01T01:00:00",
          "2015-01-01T02:00:00",
          "2015-01-01T03:00:00",
          "2015-01-01T04:00:00",
          "2015-01-01T05:00:00",
          "2015-01-01T06:00:00",
          "2015-01-01T07:00:00",
          "2015-01-01T08:00:00",
          "2015-01-01T09:00:00",
          "2015-01-01T10:00:00",
          "2015-01-01T11:00:00",
          "2015-01-01T12:00:00",
          "2015-01-01T13:00:00",
          "2015-01-01T14:00:00",
          "2015-01-01T15:00:00",
          "2015-01-01T16:00:00",
          "2015-01-01T17:00:00",
          "2015-01-01T18:00:00",
          "2015-01-01T19:00:00",
          "2015-01-01T20:00:00",
          "2015-01-01T21:00:00",
          "2015-01-01T22:00:00",
          "2015-01-01T23:00:00",
          "2015-01-02T00:00:00",
          "2015-01-02T01:00:00",
          "2015-01-02T02:00:00",
          "2015-01-02T03:00:00",
          "2015-01-02T04:00:00",
          "2015-01-02T05:00:00",
          "2015-01-02T06:00:00",
          "2015-01-02T07:00:00",
          "2015-01-02T08:00:00",
          "2015-01-02T09:00:00",
          "2015-01-02T10:00:00",
          "2015-01-02T11:00:00",
          "2015-01-02T12:00:00",
          "2015-01-02T13:00:00",
          "2015-01-02T14:00:00",
          "2015-01-02T15:00:00",
          "2015-01-02T16:00:00",
          "2015-01-02T17:00:00",
          "2015-01-02T18:00:00",
          "2015-01-02T19:00:00",
          "2015-01-02T20:00:00",
          "2015-01-02T21:00:00",
          "2015-01-02T22:00:00",
          "2015-01-02T23:00:00",
          "2015-01-03T00:00:00",
          "2015-01-03T01:00:00",
          "2015-01-03T02:00:00",
          "2015-01-03T03:00:00",
          "2015-01-03T04:00:00",
          "2015-01-03T05:00:00",
          "2015-01-03T06:00:00",
          "2015-01-03T07:00:00",
          "2015-01-03T08:00:00",
          "2015-01-03T09:00:00",
          "2015-01-03T10:00:00",
          "2015-01-03T11:00:00",
          "2015-01-03T12:00:00",
          "2015-01-03T13:00:00",
          "2015-01-03T14:00:00",
          "2015-01-03T15:00:00",
          "2015-01-03T16:00:00",
          "2015-01-03T17:00:00",
          "2015-01-03T18:00:00",
          "2015-01-03T19:00:00",
          "2015-01-03T20:00:00",
          "2015-01-03T21:00:00",
          "2015-01-03T22:00:00",
          "2015-01-03T23:00:00",
          "2015-01-04T00:00:00",
          "2015-01-04T01:00:00",
          "2015-01-04T02:00:00",
          "2015-01-04T03:00:00",
          "2015-01-04T04:00:00",
          "2015-01-04T05:00:00",
          "2015-01-04T06:00:00",
          "2015-01-04T07:00:00",
          "2015-01-04T08:00:00",
          "2015-01-04T09:00:00",
          "2015-01-04T10:00:00",
          "2015-01-04T11:00:00",
          "2015-01-04T12:00:00",
          "2015-01-04T13:00:00",
          "2015-01-04T14:00:00",
          "2015-01-04T15:00:00",
          "2015-01-04T16:00:00",
          "2015-01-04T17:00:00",
          "2015-01-04T18:00:00",
          "2015-01-04T19:00:00",
          "2015-01-04T20:00:00",
          "2015-01-04T21:00:00",
          "2015-01-04T22:00:00",
          "2015-01-04T23:00:00"
         ],
         "y": [
          2258.4256,
          2081.388,
          2148.3752,
          2170,
          2136,
          2169,
          2223,
          2234,
          2343,
          2623,
          2901,
          3146,
          3234,
          3146,
          3122,
          3264,
          3464.1952,
          3464,
          3353,
          3203,
          3070,
          2901,
          2891,
          2708,
          2452,
          2266,
          2167,
          2118,
          2138,
          2162.7296,
          2229.7168,
          1832.5784,
          1598.1232000000002,
          1378.0224,
          1334.9592000000002,
          1397.1616,
          2086.1728000000003,
          1756.0216,
          1411.516,
          1267.9720000000002,
          1263.1872,
          1263.1872,
          1454.5792000000001,
          1368.4528,
          1167.4912,
          1110.0736000000002,
          1081.3648,
          1095.7192,
          880.4032,
          751.2136,
          641.1632000000001,
          387.5688,
          330.1512,
          382.78400000000005,
          559.8216000000001,
          669.8720000000001,
          1057.4408,
          971.3144000000001,
          732.0744,
          531.1128,
          291.8728,
          210.53119999999998,
          200.96160000000003,
          220.1008,
          224.8856,
          200.96160000000003,
          138.75920000000002,
          138.75920000000002,
          191.39200000000002,
          196.17680000000001,
          267.9488,
          339.7208,
          392.35360000000003,
          368.4296,
          354.0752,
          373.2144,
          401.92320000000007,
          454.55600000000004,
          344.5056,
          449.7712,
          502.404,
          617.2392000000001,
          818.2008000000001,
          1133.9976,
          1119.6432000000002,
          1210.5544,
          1196.2,
          1157.9216,
          1157.9216,
          1224.9088000000002,
          1157.9216,
          1287.1112,
          1421.0855999999999,
          1526.3512,
          1622.0472000000002,
          1650.7559999999999
         ]
        },
        {
         "line": {
          "color": "orange"
         },
         "mode": "lines",
         "name": "solar",
         "type": "scatter",
         "x": [
          "2015-01-01T00:00:00",
          "2015-01-01T01:00:00",
          "2015-01-01T02:00:00",
          "2015-01-01T03:00:00",
          "2015-01-01T04:00:00",
          "2015-01-01T05:00:00",
          "2015-01-01T06:00:00",
          "2015-01-01T07:00:00",
          "2015-01-01T08:00:00",
          "2015-01-01T09:00:00",
          "2015-01-01T10:00:00",
          "2015-01-01T11:00:00",
          "2015-01-01T12:00:00",
          "2015-01-01T13:00:00",
          "2015-01-01T14:00:00",
          "2015-01-01T15:00:00",
          "2015-01-01T16:00:00",
          "2015-01-01T17:00:00",
          "2015-01-01T18:00:00",
          "2015-01-01T19:00:00",
          "2015-01-01T20:00:00",
          "2015-01-01T21:00:00",
          "2015-01-01T22:00:00",
          "2015-01-01T23:00:00",
          "2015-01-02T00:00:00",
          "2015-01-02T01:00:00",
          "2015-01-02T02:00:00",
          "2015-01-02T03:00:00",
          "2015-01-02T04:00:00",
          "2015-01-02T05:00:00",
          "2015-01-02T06:00:00",
          "2015-01-02T07:00:00",
          "2015-01-02T08:00:00",
          "2015-01-02T09:00:00",
          "2015-01-02T10:00:00",
          "2015-01-02T11:00:00",
          "2015-01-02T12:00:00",
          "2015-01-02T13:00:00",
          "2015-01-02T14:00:00",
          "2015-01-02T15:00:00",
          "2015-01-02T16:00:00",
          "2015-01-02T17:00:00",
          "2015-01-02T18:00:00",
          "2015-01-02T19:00:00",
          "2015-01-02T20:00:00",
          "2015-01-02T21:00:00",
          "2015-01-02T22:00:00",
          "2015-01-02T23:00:00",
          "2015-01-03T00:00:00",
          "2015-01-03T01:00:00",
          "2015-01-03T02:00:00",
          "2015-01-03T03:00:00",
          "2015-01-03T04:00:00",
          "2015-01-03T05:00:00",
          "2015-01-03T06:00:00",
          "2015-01-03T07:00:00",
          "2015-01-03T08:00:00",
          "2015-01-03T09:00:00",
          "2015-01-03T10:00:00",
          "2015-01-03T11:00:00",
          "2015-01-03T12:00:00",
          "2015-01-03T13:00:00",
          "2015-01-03T14:00:00",
          "2015-01-03T15:00:00",
          "2015-01-03T16:00:00",
          "2015-01-03T17:00:00",
          "2015-01-03T18:00:00",
          "2015-01-03T19:00:00",
          "2015-01-03T20:00:00",
          "2015-01-03T21:00:00",
          "2015-01-03T22:00:00",
          "2015-01-03T23:00:00",
          "2015-01-04T00:00:00",
          "2015-01-04T01:00:00",
          "2015-01-04T02:00:00",
          "2015-01-04T03:00:00",
          "2015-01-04T04:00:00",
          "2015-01-04T05:00:00",
          "2015-01-04T06:00:00",
          "2015-01-04T07:00:00",
          "2015-01-04T08:00:00",
          "2015-01-04T09:00:00",
          "2015-01-04T10:00:00",
          "2015-01-04T11:00:00",
          "2015-01-04T12:00:00",
          "2015-01-04T13:00:00",
          "2015-01-04T14:00:00",
          "2015-01-04T15:00:00",
          "2015-01-04T16:00:00",
          "2015-01-04T17:00:00",
          "2015-01-04T18:00:00",
          "2015-01-04T19:00:00",
          "2015-01-04T20:00:00",
          "2015-01-04T21:00:00",
          "2015-01-04T22:00:00",
          "2015-01-04T23:00:00"
         ],
         "y": [
          0,
          0,
          0,
          0,
          0,
          0,
          0,
          0,
          0,
          0,
          0,
          0,
          0,
          0,
          0,
          0,
          0,
          0,
          0,
          0,
          0,
          0,
          0,
          0,
          0,
          0,
          0,
          0,
          0,
          0,
          0,
          0,
          0,
          0,
          0,
          0,
          0,
          0,
          0,
          0,
          0,
          0,
          0,
          0,
          0,
          0,
          0,
          0,
          0,
          0,
          0,
          0,
          0,
          0,
          0,
          0,
          0,
          0,
          0,
          0,
          0,
          0,
          0,
          0,
          0,
          0,
          0,
          0,
          0,
          0,
          0,
          0,
          0,
          0,
          0,
          0,
          0,
          0,
          0,
          0,
          0,
          0,
          0,
          0,
          0,
          0,
          0,
          0,
          0,
          0,
          0,
          0,
          0,
          0,
          0,
          0
         ]
        },
        {
         "line": {
          "color": "brown"
         },
         "mode": "lines",
         "name": "gas (OCGT)",
         "type": "scatter",
         "x": [
          "2015-01-01T00:00:00",
          "2015-01-01T01:00:00",
          "2015-01-01T02:00:00",
          "2015-01-01T03:00:00",
          "2015-01-01T04:00:00",
          "2015-01-01T05:00:00",
          "2015-01-01T06:00:00",
          "2015-01-01T07:00:00",
          "2015-01-01T08:00:00",
          "2015-01-01T09:00:00",
          "2015-01-01T10:00:00",
          "2015-01-01T11:00:00",
          "2015-01-01T12:00:00",
          "2015-01-01T13:00:00",
          "2015-01-01T14:00:00",
          "2015-01-01T15:00:00",
          "2015-01-01T16:00:00",
          "2015-01-01T17:00:00",
          "2015-01-01T18:00:00",
          "2015-01-01T19:00:00",
          "2015-01-01T20:00:00",
          "2015-01-01T21:00:00",
          "2015-01-01T22:00:00",
          "2015-01-01T23:00:00",
          "2015-01-02T00:00:00",
          "2015-01-02T01:00:00",
          "2015-01-02T02:00:00",
          "2015-01-02T03:00:00",
          "2015-01-02T04:00:00",
          "2015-01-02T05:00:00",
          "2015-01-02T06:00:00",
          "2015-01-02T07:00:00",
          "2015-01-02T08:00:00",
          "2015-01-02T09:00:00",
          "2015-01-02T10:00:00",
          "2015-01-02T11:00:00",
          "2015-01-02T12:00:00",
          "2015-01-02T13:00:00",
          "2015-01-02T14:00:00",
          "2015-01-02T15:00:00",
          "2015-01-02T16:00:00",
          "2015-01-02T17:00:00",
          "2015-01-02T18:00:00",
          "2015-01-02T19:00:00",
          "2015-01-02T20:00:00",
          "2015-01-02T21:00:00",
          "2015-01-02T22:00:00",
          "2015-01-02T23:00:00",
          "2015-01-03T00:00:00",
          "2015-01-03T01:00:00",
          "2015-01-03T02:00:00",
          "2015-01-03T03:00:00",
          "2015-01-03T04:00:00",
          "2015-01-03T05:00:00",
          "2015-01-03T06:00:00",
          "2015-01-03T07:00:00",
          "2015-01-03T08:00:00",
          "2015-01-03T09:00:00",
          "2015-01-03T10:00:00",
          "2015-01-03T11:00:00",
          "2015-01-03T12:00:00",
          "2015-01-03T13:00:00",
          "2015-01-03T14:00:00",
          "2015-01-03T15:00:00",
          "2015-01-03T16:00:00",
          "2015-01-03T17:00:00",
          "2015-01-03T18:00:00",
          "2015-01-03T19:00:00",
          "2015-01-03T20:00:00",
          "2015-01-03T21:00:00",
          "2015-01-03T22:00:00",
          "2015-01-03T23:00:00",
          "2015-01-04T00:00:00",
          "2015-01-04T01:00:00",
          "2015-01-04T02:00:00",
          "2015-01-04T03:00:00",
          "2015-01-04T04:00:00",
          "2015-01-04T05:00:00",
          "2015-01-04T06:00:00",
          "2015-01-04T07:00:00",
          "2015-01-04T08:00:00",
          "2015-01-04T09:00:00",
          "2015-01-04T10:00:00",
          "2015-01-04T11:00:00",
          "2015-01-04T12:00:00",
          "2015-01-04T13:00:00",
          "2015-01-04T14:00:00",
          "2015-01-04T15:00:00",
          "2015-01-04T16:00:00",
          "2015-01-04T17:00:00",
          "2015-01-04T18:00:00",
          "2015-01-04T19:00:00",
          "2015-01-04T20:00:00",
          "2015-01-04T21:00:00",
          "2015-01-04T22:00:00",
          "2015-01-04T23:00:00"
         ],
         "y": [
          322.57439999999997,
          260.6120000000001,
          37.62480000000005,
          0,
          0,
          0,
          0,
          0,
          0,
          0,
          0,
          0,
          0,
          0,
          0,
          0,
          0,
          0,
          0,
          0,
          0,
          0,
          0,
          0,
          0,
          0,
          0,
          0,
          0,
          27.27039999999988,
          175.28319999999985,
          789.4215999999999,
          1268.8767999999998,
          1742.9776,
          1935.0407999999998,
          1919.8384,
          1215.8271999999997,
          1473.9784,
          1819.484,
          2220.028,
          2680.8127999999997,
          2669.8127999999997,
          2287.4208,
          2141.5472,
          2144.5088,
          1960.9263999999998,
          1936.6352,
          1669.2808,
          1630.5968,
          1576.7864,
          1554.8368,
          1729.4312,
          1762.8488,
          1794.216,
          1759.1783999999998,
          1791.128,
          1649.5592,
          1999.6855999999998,
          2394.9256,
          2678.8872,
          2914.1272,
          2929.4688,
          2929.0384,
          3124.8992,
          3610.1144,
          3610.228,
          3519.2408,
          3314.2408,
          3046.608,
          2817.8232,
          2727.0512,
          2472.2792,
          2169.6464,
          1987.5704,
          1864.9248,
          1776.7856,
          1701.0767999999998,
          1683.444,
          1856.4944,
          1798.2287999999999,
          1918.596,
          2089.7608,
          2121.7992,
          2008.0024,
          2100.3567999999996,
          1956.4456,
          1918.8,
          2104.0784000000003,
          2540.0784000000003,
          2530.0912,
          2450.0784000000003,
          2159.8887999999997,
          1815.9144000000001,
          1416.6488,
          1205.9527999999998,
          950.2440000000001
         ]
        },
        {
         "line": {
          "color": "grey"
         },
         "mode": "lines",
         "name": "coal",
         "type": "scatter",
         "x": [
          "2015-01-01T00:00:00",
          "2015-01-01T01:00:00",
          "2015-01-01T02:00:00",
          "2015-01-01T03:00:00",
          "2015-01-01T04:00:00",
          "2015-01-01T05:00:00",
          "2015-01-01T06:00:00",
          "2015-01-01T07:00:00",
          "2015-01-01T08:00:00",
          "2015-01-01T09:00:00",
          "2015-01-01T10:00:00",
          "2015-01-01T11:00:00",
          "2015-01-01T12:00:00",
          "2015-01-01T13:00:00",
          "2015-01-01T14:00:00",
          "2015-01-01T15:00:00",
          "2015-01-01T16:00:00",
          "2015-01-01T17:00:00",
          "2015-01-01T18:00:00",
          "2015-01-01T19:00:00",
          "2015-01-01T20:00:00",
          "2015-01-01T21:00:00",
          "2015-01-01T22:00:00",
          "2015-01-01T23:00:00",
          "2015-01-02T00:00:00",
          "2015-01-02T01:00:00",
          "2015-01-02T02:00:00",
          "2015-01-02T03:00:00",
          "2015-01-02T04:00:00",
          "2015-01-02T05:00:00",
          "2015-01-02T06:00:00",
          "2015-01-02T07:00:00",
          "2015-01-02T08:00:00",
          "2015-01-02T09:00:00",
          "2015-01-02T10:00:00",
          "2015-01-02T11:00:00",
          "2015-01-02T12:00:00",
          "2015-01-02T13:00:00",
          "2015-01-02T14:00:00",
          "2015-01-02T15:00:00",
          "2015-01-02T16:00:00",
          "2015-01-02T17:00:00",
          "2015-01-02T18:00:00",
          "2015-01-02T19:00:00",
          "2015-01-02T20:00:00",
          "2015-01-02T21:00:00",
          "2015-01-02T22:00:00",
          "2015-01-02T23:00:00",
          "2015-01-03T00:00:00",
          "2015-01-03T01:00:00",
          "2015-01-03T02:00:00",
          "2015-01-03T03:00:00",
          "2015-01-03T04:00:00",
          "2015-01-03T05:00:00",
          "2015-01-03T06:00:00",
          "2015-01-03T07:00:00",
          "2015-01-03T08:00:00",
          "2015-01-03T09:00:00",
          "2015-01-03T10:00:00",
          "2015-01-03T11:00:00",
          "2015-01-03T12:00:00",
          "2015-01-03T13:00:00",
          "2015-01-03T14:00:00",
          "2015-01-03T15:00:00",
          "2015-01-03T16:00:00",
          "2015-01-03T17:00:00",
          "2015-01-03T18:00:00",
          "2015-01-03T19:00:00",
          "2015-01-03T20:00:00",
          "2015-01-03T21:00:00",
          "2015-01-03T22:00:00",
          "2015-01-03T23:00:00",
          "2015-01-04T00:00:00",
          "2015-01-04T01:00:00",
          "2015-01-04T02:00:00",
          "2015-01-04T03:00:00",
          "2015-01-04T04:00:00",
          "2015-01-04T05:00:00",
          "2015-01-04T06:00:00",
          "2015-01-04T07:00:00",
          "2015-01-04T08:00:00",
          "2015-01-04T09:00:00",
          "2015-01-04T10:00:00",
          "2015-01-04T11:00:00",
          "2015-01-04T12:00:00",
          "2015-01-04T13:00:00",
          "2015-01-04T14:00:00",
          "2015-01-04T15:00:00",
          "2015-01-04T16:00:00",
          "2015-01-04T17:00:00",
          "2015-01-04T18:00:00",
          "2015-01-04T19:00:00",
          "2015-01-04T20:00:00",
          "2015-01-04T21:00:00",
          "2015-01-04T22:00:00",
          "2015-01-04T23:00:00"
         ],
         "y": [
          0,
          0,
          0,
          0,
          0,
          0,
          0,
          0,
          0,
          0,
          0,
          0,
          0,
          0,
          0,
          0,
          0,
          0,
          0,
          0,
          0,
          0,
          0,
          0,
          0,
          0,
          0,
          0,
          0,
          0,
          0,
          0,
          0,
          0,
          0,
          0,
          0,
          0,
          0,
          0,
          0,
          0,
          0,
          0,
          0,
          0,
          0,
          0,
          0,
          0,
          0,
          0,
          0,
          0,
          0,
          0,
          0,
          0,
          0,
          0,
          0,
          0,
          0,
          0,
          0,
          0,
          0,
          0,
          0,
          0,
          0,
          0,
          0,
          0,
          0,
          0,
          0,
          0,
          0,
          0,
          0,
          0,
          0,
          0,
          0,
          0,
          0,
          0,
          0,
          0,
          0,
          0,
          0,
          0,
          0,
          0
         ]
        },
        {
         "line": {
          "color": "green"
         },
         "mode": "lines",
         "name": "biomass",
         "type": "scatter",
         "x": [
          "2015-01-01T00:00:00",
          "2015-01-01T01:00:00",
          "2015-01-01T02:00:00",
          "2015-01-01T03:00:00",
          "2015-01-01T04:00:00",
          "2015-01-01T05:00:00",
          "2015-01-01T06:00:00",
          "2015-01-01T07:00:00",
          "2015-01-01T08:00:00",
          "2015-01-01T09:00:00",
          "2015-01-01T10:00:00",
          "2015-01-01T11:00:00",
          "2015-01-01T12:00:00",
          "2015-01-01T13:00:00",
          "2015-01-01T14:00:00",
          "2015-01-01T15:00:00",
          "2015-01-01T16:00:00",
          "2015-01-01T17:00:00",
          "2015-01-01T18:00:00",
          "2015-01-01T19:00:00",
          "2015-01-01T20:00:00",
          "2015-01-01T21:00:00",
          "2015-01-01T22:00:00",
          "2015-01-01T23:00:00",
          "2015-01-02T00:00:00",
          "2015-01-02T01:00:00",
          "2015-01-02T02:00:00",
          "2015-01-02T03:00:00",
          "2015-01-02T04:00:00",
          "2015-01-02T05:00:00",
          "2015-01-02T06:00:00",
          "2015-01-02T07:00:00",
          "2015-01-02T08:00:00",
          "2015-01-02T09:00:00",
          "2015-01-02T10:00:00",
          "2015-01-02T11:00:00",
          "2015-01-02T12:00:00",
          "2015-01-02T13:00:00",
          "2015-01-02T14:00:00",
          "2015-01-02T15:00:00",
          "2015-01-02T16:00:00",
          "2015-01-02T17:00:00",
          "2015-01-02T18:00:00",
          "2015-01-02T19:00:00",
          "2015-01-02T20:00:00",
          "2015-01-02T21:00:00",
          "2015-01-02T22:00:00",
          "2015-01-02T23:00:00",
          "2015-01-03T00:00:00",
          "2015-01-03T01:00:00",
          "2015-01-03T02:00:00",
          "2015-01-03T03:00:00",
          "2015-01-03T04:00:00",
          "2015-01-03T05:00:00",
          "2015-01-03T06:00:00",
          "2015-01-03T07:00:00",
          "2015-01-03T08:00:00",
          "2015-01-03T09:00:00",
          "2015-01-03T10:00:00",
          "2015-01-03T11:00:00",
          "2015-01-03T12:00:00",
          "2015-01-03T13:00:00",
          "2015-01-03T14:00:00",
          "2015-01-03T15:00:00",
          "2015-01-03T16:00:00",
          "2015-01-03T17:00:00",
          "2015-01-03T18:00:00",
          "2015-01-03T19:00:00",
          "2015-01-03T20:00:00",
          "2015-01-03T21:00:00",
          "2015-01-03T22:00:00",
          "2015-01-03T23:00:00",
          "2015-01-04T00:00:00",
          "2015-01-04T01:00:00",
          "2015-01-04T02:00:00",
          "2015-01-04T03:00:00",
          "2015-01-04T04:00:00",
          "2015-01-04T05:00:00",
          "2015-01-04T06:00:00",
          "2015-01-04T07:00:00",
          "2015-01-04T08:00:00",
          "2015-01-04T09:00:00",
          "2015-01-04T10:00:00",
          "2015-01-04T11:00:00",
          "2015-01-04T12:00:00",
          "2015-01-04T13:00:00",
          "2015-01-04T14:00:00",
          "2015-01-04T15:00:00",
          "2015-01-04T16:00:00",
          "2015-01-04T17:00:00",
          "2015-01-04T18:00:00",
          "2015-01-04T19:00:00",
          "2015-01-04T20:00:00",
          "2015-01-04T21:00:00",
          "2015-01-04T22:00:00",
          "2015-01-04T23:00:00"
         ],
         "y": [
          70,
          70,
          70,
          0,
          0,
          0,
          0,
          0,
          0,
          0,
          0,
          0,
          0,
          0,
          0,
          0,
          32.80479999999989,
          0,
          0,
          0,
          0,
          0,
          0,
          0,
          0,
          0,
          0,
          0,
          0,
          70,
          70,
          70,
          70,
          70,
          70,
          70,
          70,
          70,
          70,
          70,
          70,
          70,
          70,
          70,
          70,
          70,
          70,
          70,
          70,
          70,
          70,
          70,
          70,
          70,
          70,
          70,
          70,
          70,
          70,
          70,
          70,
          70,
          70,
          70,
          70,
          70,
          70,
          70,
          70,
          70,
          70,
          70,
          70,
          70,
          70,
          70,
          70,
          70,
          70,
          70,
          70,
          70,
          70,
          70,
          70,
          70,
          70,
          70,
          70,
          70,
          70,
          70,
          70,
          70,
          70,
          70
         ]
        },
        {
         "line": {
          "color": "black"
         },
         "mode": "lines",
         "name": "oil",
         "type": "scatter",
         "x": [
          "2015-01-01T00:00:00",
          "2015-01-01T01:00:00",
          "2015-01-01T02:00:00",
          "2015-01-01T03:00:00",
          "2015-01-01T04:00:00",
          "2015-01-01T05:00:00",
          "2015-01-01T06:00:00",
          "2015-01-01T07:00:00",
          "2015-01-01T08:00:00",
          "2015-01-01T09:00:00",
          "2015-01-01T10:00:00",
          "2015-01-01T11:00:00",
          "2015-01-01T12:00:00",
          "2015-01-01T13:00:00",
          "2015-01-01T14:00:00",
          "2015-01-01T15:00:00",
          "2015-01-01T16:00:00",
          "2015-01-01T17:00:00",
          "2015-01-01T18:00:00",
          "2015-01-01T19:00:00",
          "2015-01-01T20:00:00",
          "2015-01-01T21:00:00",
          "2015-01-01T22:00:00",
          "2015-01-01T23:00:00",
          "2015-01-02T00:00:00",
          "2015-01-02T01:00:00",
          "2015-01-02T02:00:00",
          "2015-01-02T03:00:00",
          "2015-01-02T04:00:00",
          "2015-01-02T05:00:00",
          "2015-01-02T06:00:00",
          "2015-01-02T07:00:00",
          "2015-01-02T08:00:00",
          "2015-01-02T09:00:00",
          "2015-01-02T10:00:00",
          "2015-01-02T11:00:00",
          "2015-01-02T12:00:00",
          "2015-01-02T13:00:00",
          "2015-01-02T14:00:00",
          "2015-01-02T15:00:00",
          "2015-01-02T16:00:00",
          "2015-01-02T17:00:00",
          "2015-01-02T18:00:00",
          "2015-01-02T19:00:00",
          "2015-01-02T20:00:00",
          "2015-01-02T21:00:00",
          "2015-01-02T22:00:00",
          "2015-01-02T23:00:00",
          "2015-01-03T00:00:00",
          "2015-01-03T01:00:00",
          "2015-01-03T02:00:00",
          "2015-01-03T03:00:00",
          "2015-01-03T04:00:00",
          "2015-01-03T05:00:00",
          "2015-01-03T06:00:00",
          "2015-01-03T07:00:00",
          "2015-01-03T08:00:00",
          "2015-01-03T09:00:00",
          "2015-01-03T10:00:00",
          "2015-01-03T11:00:00",
          "2015-01-03T12:00:00",
          "2015-01-03T13:00:00",
          "2015-01-03T14:00:00",
          "2015-01-03T15:00:00",
          "2015-01-03T16:00:00",
          "2015-01-03T17:00:00",
          "2015-01-03T18:00:00",
          "2015-01-03T19:00:00",
          "2015-01-03T20:00:00",
          "2015-01-03T21:00:00",
          "2015-01-03T22:00:00",
          "2015-01-03T23:00:00",
          "2015-01-04T00:00:00",
          "2015-01-04T01:00:00",
          "2015-01-04T02:00:00",
          "2015-01-04T03:00:00",
          "2015-01-04T04:00:00",
          "2015-01-04T05:00:00",
          "2015-01-04T06:00:00",
          "2015-01-04T07:00:00",
          "2015-01-04T08:00:00",
          "2015-01-04T09:00:00",
          "2015-01-04T10:00:00",
          "2015-01-04T11:00:00",
          "2015-01-04T12:00:00",
          "2015-01-04T13:00:00",
          "2015-01-04T14:00:00",
          "2015-01-04T15:00:00",
          "2015-01-04T16:00:00",
          "2015-01-04T17:00:00",
          "2015-01-04T18:00:00",
          "2015-01-04T19:00:00",
          "2015-01-04T20:00:00",
          "2015-01-04T21:00:00",
          "2015-01-04T22:00:00",
          "2015-01-04T23:00:00"
         ],
         "y": [
          0,
          0,
          0,
          0,
          0,
          0,
          0,
          0,
          0,
          0,
          0,
          0,
          0,
          0,
          0,
          0,
          0,
          0,
          0,
          0,
          0,
          0,
          0,
          0,
          0,
          0,
          0,
          0,
          0,
          0,
          0,
          0,
          0,
          0,
          0,
          0,
          0,
          0,
          0,
          0,
          0,
          0,
          0,
          0,
          0,
          0,
          0,
          0,
          0,
          0,
          0,
          0,
          0,
          0,
          0,
          0,
          0,
          0,
          0,
          0,
          0,
          0,
          0,
          0,
          0,
          31.810399999999845,
          0,
          0,
          0,
          0,
          0,
          0,
          0,
          0,
          0,
          0,
          0,
          0,
          0,
          0,
          0,
          0,
          0,
          0,
          0,
          0,
          0,
          0,
          0,
          0,
          0,
          0,
          0,
          0,
          0,
          0
         ]
        },
        {
         "line": {
          "color": "purple"
         },
         "mode": "lines",
         "name": "offshore wind",
         "type": "scatter",
         "x": [
          "2015-01-01T00:00:00",
          "2015-01-01T01:00:00",
          "2015-01-01T02:00:00",
          "2015-01-01T03:00:00",
          "2015-01-01T04:00:00",
          "2015-01-01T05:00:00",
          "2015-01-01T06:00:00",
          "2015-01-01T07:00:00",
          "2015-01-01T08:00:00",
          "2015-01-01T09:00:00",
          "2015-01-01T10:00:00",
          "2015-01-01T11:00:00",
          "2015-01-01T12:00:00",
          "2015-01-01T13:00:00",
          "2015-01-01T14:00:00",
          "2015-01-01T15:00:00",
          "2015-01-01T16:00:00",
          "2015-01-01T17:00:00",
          "2015-01-01T18:00:00",
          "2015-01-01T19:00:00",
          "2015-01-01T20:00:00",
          "2015-01-01T21:00:00",
          "2015-01-01T22:00:00",
          "2015-01-01T23:00:00",
          "2015-01-02T00:00:00",
          "2015-01-02T01:00:00",
          "2015-01-02T02:00:00",
          "2015-01-02T03:00:00",
          "2015-01-02T04:00:00",
          "2015-01-02T05:00:00",
          "2015-01-02T06:00:00",
          "2015-01-02T07:00:00",
          "2015-01-02T08:00:00",
          "2015-01-02T09:00:00",
          "2015-01-02T10:00:00",
          "2015-01-02T11:00:00",
          "2015-01-02T12:00:00",
          "2015-01-02T13:00:00",
          "2015-01-02T14:00:00",
          "2015-01-02T15:00:00",
          "2015-01-02T16:00:00",
          "2015-01-02T17:00:00",
          "2015-01-02T18:00:00",
          "2015-01-02T19:00:00",
          "2015-01-02T20:00:00",
          "2015-01-02T21:00:00",
          "2015-01-02T22:00:00",
          "2015-01-02T23:00:00",
          "2015-01-03T00:00:00",
          "2015-01-03T01:00:00",
          "2015-01-03T02:00:00",
          "2015-01-03T03:00:00",
          "2015-01-03T04:00:00",
          "2015-01-03T05:00:00",
          "2015-01-03T06:00:00",
          "2015-01-03T07:00:00",
          "2015-01-03T08:00:00",
          "2015-01-03T09:00:00",
          "2015-01-03T10:00:00",
          "2015-01-03T11:00:00",
          "2015-01-03T12:00:00",
          "2015-01-03T13:00:00",
          "2015-01-03T14:00:00",
          "2015-01-03T15:00:00",
          "2015-01-03T16:00:00",
          "2015-01-03T17:00:00",
          "2015-01-03T18:00:00",
          "2015-01-03T19:00:00",
          "2015-01-03T20:00:00",
          "2015-01-03T21:00:00",
          "2015-01-03T22:00:00",
          "2015-01-03T23:00:00",
          "2015-01-04T00:00:00",
          "2015-01-04T01:00:00",
          "2015-01-04T02:00:00",
          "2015-01-04T03:00:00",
          "2015-01-04T04:00:00",
          "2015-01-04T05:00:00",
          "2015-01-04T06:00:00",
          "2015-01-04T07:00:00",
          "2015-01-04T08:00:00",
          "2015-01-04T09:00:00",
          "2015-01-04T10:00:00",
          "2015-01-04T11:00:00",
          "2015-01-04T12:00:00",
          "2015-01-04T13:00:00",
          "2015-01-04T14:00:00",
          "2015-01-04T15:00:00",
          "2015-01-04T16:00:00",
          "2015-01-04T17:00:00",
          "2015-01-04T18:00:00",
          "2015-01-04T19:00:00",
          "2015-01-04T20:00:00",
          "2015-01-04T21:00:00",
          "2015-01-04T22:00:00",
          "2015-01-04T23:00:00"
         ],
         "y": [
          0,
          0,
          0,
          0,
          0,
          0,
          0,
          0,
          0,
          0,
          0,
          0,
          0,
          0,
          0,
          0,
          0,
          0,
          0,
          0,
          0,
          0,
          0,
          0,
          0,
          0,
          0,
          0,
          0,
          0,
          0,
          0,
          0,
          0,
          0,
          0,
          0,
          0,
          0,
          0,
          0,
          0,
          0,
          0,
          0,
          0,
          0,
          0,
          0,
          0,
          0,
          0,
          0,
          0,
          0,
          0,
          0,
          0,
          0,
          0,
          0,
          0,
          0,
          0,
          0,
          0,
          0,
          0,
          0,
          0,
          0,
          0,
          0,
          0,
          0,
          0,
          0,
          0,
          0,
          0,
          0,
          0,
          0,
          0,
          0,
          0,
          0,
          0,
          0,
          0,
          0,
          0,
          0,
          0,
          0,
          0
         ]
        }
       ],
       "layout": {
        "legend": {
         "traceorder": "normal",
         "x": 0,
         "y": 1
        },
        "template": {
         "data": {
          "bar": [
           {
            "error_x": {
             "color": "#2a3f5f"
            },
            "error_y": {
             "color": "#2a3f5f"
            },
            "marker": {
             "line": {
              "color": "#E5ECF6",
              "width": 0.5
             },
             "pattern": {
              "fillmode": "overlay",
              "size": 10,
              "solidity": 0.2
             }
            },
            "type": "bar"
           }
          ],
          "barpolar": [
           {
            "marker": {
             "line": {
              "color": "#E5ECF6",
              "width": 0.5
             },
             "pattern": {
              "fillmode": "overlay",
              "size": 10,
              "solidity": 0.2
             }
            },
            "type": "barpolar"
           }
          ],
          "carpet": [
           {
            "aaxis": {
             "endlinecolor": "#2a3f5f",
             "gridcolor": "white",
             "linecolor": "white",
             "minorgridcolor": "white",
             "startlinecolor": "#2a3f5f"
            },
            "baxis": {
             "endlinecolor": "#2a3f5f",
             "gridcolor": "white",
             "linecolor": "white",
             "minorgridcolor": "white",
             "startlinecolor": "#2a3f5f"
            },
            "type": "carpet"
           }
          ],
          "choropleth": [
           {
            "colorbar": {
             "outlinewidth": 0,
             "ticks": ""
            },
            "type": "choropleth"
           }
          ],
          "contour": [
           {
            "colorbar": {
             "outlinewidth": 0,
             "ticks": ""
            },
            "colorscale": [
             [
              0,
              "#0d0887"
             ],
             [
              0.1111111111111111,
              "#46039f"
             ],
             [
              0.2222222222222222,
              "#7201a8"
             ],
             [
              0.3333333333333333,
              "#9c179e"
             ],
             [
              0.4444444444444444,
              "#bd3786"
             ],
             [
              0.5555555555555556,
              "#d8576b"
             ],
             [
              0.6666666666666666,
              "#ed7953"
             ],
             [
              0.7777777777777778,
              "#fb9f3a"
             ],
             [
              0.8888888888888888,
              "#fdca26"
             ],
             [
              1,
              "#f0f921"
             ]
            ],
            "type": "contour"
           }
          ],
          "contourcarpet": [
           {
            "colorbar": {
             "outlinewidth": 0,
             "ticks": ""
            },
            "type": "contourcarpet"
           }
          ],
          "heatmap": [
           {
            "colorbar": {
             "outlinewidth": 0,
             "ticks": ""
            },
            "colorscale": [
             [
              0,
              "#0d0887"
             ],
             [
              0.1111111111111111,
              "#46039f"
             ],
             [
              0.2222222222222222,
              "#7201a8"
             ],
             [
              0.3333333333333333,
              "#9c179e"
             ],
             [
              0.4444444444444444,
              "#bd3786"
             ],
             [
              0.5555555555555556,
              "#d8576b"
             ],
             [
              0.6666666666666666,
              "#ed7953"
             ],
             [
              0.7777777777777778,
              "#fb9f3a"
             ],
             [
              0.8888888888888888,
              "#fdca26"
             ],
             [
              1,
              "#f0f921"
             ]
            ],
            "type": "heatmap"
           }
          ],
          "heatmapgl": [
           {
            "colorbar": {
             "outlinewidth": 0,
             "ticks": ""
            },
            "colorscale": [
             [
              0,
              "#0d0887"
             ],
             [
              0.1111111111111111,
              "#46039f"
             ],
             [
              0.2222222222222222,
              "#7201a8"
             ],
             [
              0.3333333333333333,
              "#9c179e"
             ],
             [
              0.4444444444444444,
              "#bd3786"
             ],
             [
              0.5555555555555556,
              "#d8576b"
             ],
             [
              0.6666666666666666,
              "#ed7953"
             ],
             [
              0.7777777777777778,
              "#fb9f3a"
             ],
             [
              0.8888888888888888,
              "#fdca26"
             ],
             [
              1,
              "#f0f921"
             ]
            ],
            "type": "heatmapgl"
           }
          ],
          "histogram": [
           {
            "marker": {
             "pattern": {
              "fillmode": "overlay",
              "size": 10,
              "solidity": 0.2
             }
            },
            "type": "histogram"
           }
          ],
          "histogram2d": [
           {
            "colorbar": {
             "outlinewidth": 0,
             "ticks": ""
            },
            "colorscale": [
             [
              0,
              "#0d0887"
             ],
             [
              0.1111111111111111,
              "#46039f"
             ],
             [
              0.2222222222222222,
              "#7201a8"
             ],
             [
              0.3333333333333333,
              "#9c179e"
             ],
             [
              0.4444444444444444,
              "#bd3786"
             ],
             [
              0.5555555555555556,
              "#d8576b"
             ],
             [
              0.6666666666666666,
              "#ed7953"
             ],
             [
              0.7777777777777778,
              "#fb9f3a"
             ],
             [
              0.8888888888888888,
              "#fdca26"
             ],
             [
              1,
              "#f0f921"
             ]
            ],
            "type": "histogram2d"
           }
          ],
          "histogram2dcontour": [
           {
            "colorbar": {
             "outlinewidth": 0,
             "ticks": ""
            },
            "colorscale": [
             [
              0,
              "#0d0887"
             ],
             [
              0.1111111111111111,
              "#46039f"
             ],
             [
              0.2222222222222222,
              "#7201a8"
             ],
             [
              0.3333333333333333,
              "#9c179e"
             ],
             [
              0.4444444444444444,
              "#bd3786"
             ],
             [
              0.5555555555555556,
              "#d8576b"
             ],
             [
              0.6666666666666666,
              "#ed7953"
             ],
             [
              0.7777777777777778,
              "#fb9f3a"
             ],
             [
              0.8888888888888888,
              "#fdca26"
             ],
             [
              1,
              "#f0f921"
             ]
            ],
            "type": "histogram2dcontour"
           }
          ],
          "mesh3d": [
           {
            "colorbar": {
             "outlinewidth": 0,
             "ticks": ""
            },
            "type": "mesh3d"
           }
          ],
          "parcoords": [
           {
            "line": {
             "colorbar": {
              "outlinewidth": 0,
              "ticks": ""
             }
            },
            "type": "parcoords"
           }
          ],
          "pie": [
           {
            "automargin": true,
            "type": "pie"
           }
          ],
          "scatter": [
           {
            "fillpattern": {
             "fillmode": "overlay",
             "size": 10,
             "solidity": 0.2
            },
            "type": "scatter"
           }
          ],
          "scatter3d": [
           {
            "line": {
             "colorbar": {
              "outlinewidth": 0,
              "ticks": ""
             }
            },
            "marker": {
             "colorbar": {
              "outlinewidth": 0,
              "ticks": ""
             }
            },
            "type": "scatter3d"
           }
          ],
          "scattercarpet": [
           {
            "marker": {
             "colorbar": {
              "outlinewidth": 0,
              "ticks": ""
             }
            },
            "type": "scattercarpet"
           }
          ],
          "scattergeo": [
           {
            "marker": {
             "colorbar": {
              "outlinewidth": 0,
              "ticks": ""
             }
            },
            "type": "scattergeo"
           }
          ],
          "scattergl": [
           {
            "marker": {
             "colorbar": {
              "outlinewidth": 0,
              "ticks": ""
             }
            },
            "type": "scattergl"
           }
          ],
          "scattermapbox": [
           {
            "marker": {
             "colorbar": {
              "outlinewidth": 0,
              "ticks": ""
             }
            },
            "type": "scattermapbox"
           }
          ],
          "scatterpolar": [
           {
            "marker": {
             "colorbar": {
              "outlinewidth": 0,
              "ticks": ""
             }
            },
            "type": "scatterpolar"
           }
          ],
          "scatterpolargl": [
           {
            "marker": {
             "colorbar": {
              "outlinewidth": 0,
              "ticks": ""
             }
            },
            "type": "scatterpolargl"
           }
          ],
          "scatterternary": [
           {
            "marker": {
             "colorbar": {
              "outlinewidth": 0,
              "ticks": ""
             }
            },
            "type": "scatterternary"
           }
          ],
          "surface": [
           {
            "colorbar": {
             "outlinewidth": 0,
             "ticks": ""
            },
            "colorscale": [
             [
              0,
              "#0d0887"
             ],
             [
              0.1111111111111111,
              "#46039f"
             ],
             [
              0.2222222222222222,
              "#7201a8"
             ],
             [
              0.3333333333333333,
              "#9c179e"
             ],
             [
              0.4444444444444444,
              "#bd3786"
             ],
             [
              0.5555555555555556,
              "#d8576b"
             ],
             [
              0.6666666666666666,
              "#ed7953"
             ],
             [
              0.7777777777777778,
              "#fb9f3a"
             ],
             [
              0.8888888888888888,
              "#fdca26"
             ],
             [
              1,
              "#f0f921"
             ]
            ],
            "type": "surface"
           }
          ],
          "table": [
           {
            "cells": {
             "fill": {
              "color": "#EBF0F8"
             },
             "line": {
              "color": "white"
             }
            },
            "header": {
             "fill": {
              "color": "#C8D4E3"
             },
             "line": {
              "color": "white"
             }
            },
            "type": "table"
           }
          ]
         },
         "layout": {
          "annotationdefaults": {
           "arrowcolor": "#2a3f5f",
           "arrowhead": 0,
           "arrowwidth": 1
          },
          "autotypenumbers": "strict",
          "coloraxis": {
           "colorbar": {
            "outlinewidth": 0,
            "ticks": ""
           }
          },
          "colorscale": {
           "diverging": [
            [
             0,
             "#8e0152"
            ],
            [
             0.1,
             "#c51b7d"
            ],
            [
             0.2,
             "#de77ae"
            ],
            [
             0.3,
             "#f1b6da"
            ],
            [
             0.4,
             "#fde0ef"
            ],
            [
             0.5,
             "#f7f7f7"
            ],
            [
             0.6,
             "#e6f5d0"
            ],
            [
             0.7,
             "#b8e186"
            ],
            [
             0.8,
             "#7fbc41"
            ],
            [
             0.9,
             "#4d9221"
            ],
            [
             1,
             "#276419"
            ]
           ],
           "sequential": [
            [
             0,
             "#0d0887"
            ],
            [
             0.1111111111111111,
             "#46039f"
            ],
            [
             0.2222222222222222,
             "#7201a8"
            ],
            [
             0.3333333333333333,
             "#9c179e"
            ],
            [
             0.4444444444444444,
             "#bd3786"
            ],
            [
             0.5555555555555556,
             "#d8576b"
            ],
            [
             0.6666666666666666,
             "#ed7953"
            ],
            [
             0.7777777777777778,
             "#fb9f3a"
            ],
            [
             0.8888888888888888,
             "#fdca26"
            ],
            [
             1,
             "#f0f921"
            ]
           ],
           "sequentialminus": [
            [
             0,
             "#0d0887"
            ],
            [
             0.1111111111111111,
             "#46039f"
            ],
            [
             0.2222222222222222,
             "#7201a8"
            ],
            [
             0.3333333333333333,
             "#9c179e"
            ],
            [
             0.4444444444444444,
             "#bd3786"
            ],
            [
             0.5555555555555556,
             "#d8576b"
            ],
            [
             0.6666666666666666,
             "#ed7953"
            ],
            [
             0.7777777777777778,
             "#fb9f3a"
            ],
            [
             0.8888888888888888,
             "#fdca26"
            ],
            [
             1,
             "#f0f921"
            ]
           ]
          },
          "colorway": [
           "#636efa",
           "#EF553B",
           "#00cc96",
           "#ab63fa",
           "#FFA15A",
           "#19d3f3",
           "#FF6692",
           "#B6E880",
           "#FF97FF",
           "#FECB52"
          ],
          "font": {
           "color": "#2a3f5f"
          },
          "geo": {
           "bgcolor": "white",
           "lakecolor": "white",
           "landcolor": "#E5ECF6",
           "showlakes": true,
           "showland": true,
           "subunitcolor": "white"
          },
          "hoverlabel": {
           "align": "left"
          },
          "hovermode": "closest",
          "mapbox": {
           "style": "light"
          },
          "paper_bgcolor": "white",
          "plot_bgcolor": "#E5ECF6",
          "polar": {
           "angularaxis": {
            "gridcolor": "white",
            "linecolor": "white",
            "ticks": ""
           },
           "bgcolor": "#E5ECF6",
           "radialaxis": {
            "gridcolor": "white",
            "linecolor": "white",
            "ticks": ""
           }
          },
          "scene": {
           "xaxis": {
            "backgroundcolor": "#E5ECF6",
            "gridcolor": "white",
            "gridwidth": 2,
            "linecolor": "white",
            "showbackground": true,
            "ticks": "",
            "zerolinecolor": "white"
           },
           "yaxis": {
            "backgroundcolor": "#E5ECF6",
            "gridcolor": "white",
            "gridwidth": 2,
            "linecolor": "white",
            "showbackground": true,
            "ticks": "",
            "zerolinecolor": "white"
           },
           "zaxis": {
            "backgroundcolor": "#E5ECF6",
            "gridcolor": "white",
            "gridwidth": 2,
            "linecolor": "white",
            "showbackground": true,
            "ticks": "",
            "zerolinecolor": "white"
           }
          },
          "shapedefaults": {
           "line": {
            "color": "#2a3f5f"
           }
          },
          "ternary": {
           "aaxis": {
            "gridcolor": "white",
            "linecolor": "white",
            "ticks": ""
           },
           "baxis": {
            "gridcolor": "white",
            "linecolor": "white",
            "ticks": ""
           },
           "bgcolor": "#E5ECF6",
           "caxis": {
            "gridcolor": "white",
            "linecolor": "white",
            "ticks": ""
           }
          },
          "title": {
           "x": 0.05
          },
          "xaxis": {
           "automargin": true,
           "gridcolor": "white",
           "linecolor": "white",
           "ticks": "",
           "title": {
            "standoff": 15
           },
           "zerolinecolor": "white",
           "zerolinewidth": 2
          },
          "yaxis": {
           "automargin": true,
           "gridcolor": "white",
           "linecolor": "white",
           "ticks": "",
           "title": {
            "standoff": 15
           },
           "zerolinecolor": "white",
           "zerolinewidth": 2
          }
         }
        },
        "title": {
         "text": "Electricity Dispatch Week 1 2015"
        },
        "xaxis": {
         "title": {
          "text": "Time"
         }
        },
        "yaxis": {
         "title": {
          "text": "Power (MW)"
         }
        }
       }
      }
     },
     "metadata": {},
     "output_type": "display_data"
    }
   ],
   "source": [
    "plot_dispatch_winter()"
   ]
  },
  {
   "cell_type": "markdown",
   "metadata": {},
   "source": [
    "# B)"
   ]
  },
  {
   "cell_type": "code",
   "execution_count": 15,
   "metadata": {},
   "outputs": [
    {
     "data": {
      "text/plain": [
       "Index(['co2_limit'], dtype='object')"
      ]
     },
     "execution_count": 15,
     "metadata": {},
     "output_type": "execute_result"
    }
   ],
   "source": [
    "# Add the CO2 constraint to the copied network\n",
    "co2_limit = 3000000  # tonCO2\n",
    "network.add(\"GlobalConstraint\",\n",
    "                 \"co2_limit\",\n",
    "                 type=\"primary_energy\",\n",
    "                 carrier_attribute=\"co2_emissions\",\n",
    "                 sense=\"<=\",\n",
    "                 constant=co2_limit,\n",
    "                 overwrite=True)"
   ]
  },
  {
   "cell_type": "code",
   "execution_count": null,
   "metadata": {},
   "outputs": [
    {
     "name": "stdout",
     "output_type": "stream",
     "text": [
      "utc_time\n",
      "2015-01-01 00:00:00+00:00    2651.0\n",
      "2015-01-01 01:00:00+00:00    2412.0\n",
      "2015-01-01 02:00:00+00:00    2256.0\n",
      "2015-01-01 03:00:00+00:00    2170.0\n",
      "2015-01-01 04:00:00+00:00    2136.0\n",
      "Name: IRL, dtype: float64\n"
     ]
    },
    {
     "name": "stderr",
     "output_type": "stream",
     "text": [
      "WARNING:pypsa.consistency:The following buses have carriers which are not defined:\n",
      "Index(['electricity bus'], dtype='object', name='Bus')\n",
      "WARNING:pypsa.consistency:The following buses have carriers which are not defined:\n",
      "Index(['electricity bus'], dtype='object', name='Bus')\n",
      "INFO:linopy.model: Solve problem using Gurobi solver\n",
      "INFO:linopy.model:Solver options:\n",
      " - OutputFlag: 0\n",
      "INFO:linopy.io:Writing objective.\n",
      "Writing constraints.: 100%|\u001b[38;2;128;191;255m██████████\u001b[0m| 6/6 [00:00<00:00, 20.45it/s]\n",
      "Writing continuous variables.: 100%|\u001b[38;2;128;191;255m██████████\u001b[0m| 2/2 [00:00<00:00, 38.76it/s]\n",
      "INFO:linopy.io: Writing time: 0.38s\n"
     ]
    },
    {
     "name": "stdout",
     "output_type": "stream",
     "text": [
      "Set parameter Username\n"
     ]
    },
    {
     "name": "stderr",
     "output_type": "stream",
     "text": [
      "INFO:gurobipy:Set parameter Username\n"
     ]
    },
    {
     "name": "stdout",
     "output_type": "stream",
     "text": [
      "Academic license - for non-commercial use only - expires 2026-02-12\n"
     ]
    },
    {
     "name": "stderr",
     "output_type": "stream",
     "text": [
      "INFO:gurobipy:Academic license - for non-commercial use only - expires 2026-02-12\n"
     ]
    },
    {
     "name": "stdout",
     "output_type": "stream",
     "text": [
      "Read LP format model from file /private/var/folders/kq/4zrjw9c97lz3tyvhdfpynqqc0000gn/T/linopy-problem-cykg7nwt.lp\n"
     ]
    },
    {
     "name": "stderr",
     "output_type": "stream",
     "text": [
      "INFO:gurobipy:Read LP format model from file /private/var/folders/kq/4zrjw9c97lz3tyvhdfpynqqc0000gn/T/linopy-problem-cykg7nwt.lp\n"
     ]
    },
    {
     "name": "stdout",
     "output_type": "stream",
     "text": [
      "Reading time = 0.12 seconds\n"
     ]
    },
    {
     "name": "stderr",
     "output_type": "stream",
     "text": [
      "INFO:gurobipy:Reading time = 0.12 seconds\n"
     ]
    },
    {
     "name": "stdout",
     "output_type": "stream",
     "text": [
      "obj: 131415 rows, 61327 columns, 267194 nonzeros\n"
     ]
    },
    {
     "name": "stderr",
     "output_type": "stream",
     "text": [
      "INFO:gurobipy:obj: 131415 rows, 61327 columns, 267194 nonzeros\n",
      "INFO:linopy.constants: Optimization successful: \n",
      "Status: ok\n",
      "Termination condition: optimal\n",
      "Solution: 61327 primals, 131415 duals\n",
      "Objective: 1.70e+09\n",
      "Solver model: available\n",
      "Solver message: 2\n",
      "\n",
      "INFO:pypsa.optimization.optimize:The shadow-prices of the constraints Generator-ext-p-lower, Generator-ext-p-upper were not assigned to the network.\n"
     ]
    },
    {
     "data": {
      "application/vnd.plotly.v1+json": {
       "config": {
        "plotlyServerURL": "https://plot.ly"
       },
       "data": [
        {
         "line": {
          "color": "black"
         },
         "mode": "lines",
         "name": "demand",
         "type": "scatter",
         "x": [
          "2015-01-01T00:00:00",
          "2015-01-01T01:00:00",
          "2015-01-01T02:00:00",
          "2015-01-01T03:00:00",
          "2015-01-01T04:00:00",
          "2015-01-01T05:00:00",
          "2015-01-01T06:00:00",
          "2015-01-01T07:00:00",
          "2015-01-01T08:00:00",
          "2015-01-01T09:00:00",
          "2015-01-01T10:00:00",
          "2015-01-01T11:00:00",
          "2015-01-01T12:00:00",
          "2015-01-01T13:00:00",
          "2015-01-01T14:00:00",
          "2015-01-01T15:00:00",
          "2015-01-01T16:00:00",
          "2015-01-01T17:00:00",
          "2015-01-01T18:00:00",
          "2015-01-01T19:00:00",
          "2015-01-01T20:00:00",
          "2015-01-01T21:00:00",
          "2015-01-01T22:00:00",
          "2015-01-01T23:00:00",
          "2015-01-02T00:00:00",
          "2015-01-02T01:00:00",
          "2015-01-02T02:00:00",
          "2015-01-02T03:00:00",
          "2015-01-02T04:00:00",
          "2015-01-02T05:00:00",
          "2015-01-02T06:00:00",
          "2015-01-02T07:00:00",
          "2015-01-02T08:00:00",
          "2015-01-02T09:00:00",
          "2015-01-02T10:00:00",
          "2015-01-02T11:00:00",
          "2015-01-02T12:00:00",
          "2015-01-02T13:00:00",
          "2015-01-02T14:00:00",
          "2015-01-02T15:00:00",
          "2015-01-02T16:00:00",
          "2015-01-02T17:00:00",
          "2015-01-02T18:00:00",
          "2015-01-02T19:00:00",
          "2015-01-02T20:00:00",
          "2015-01-02T21:00:00",
          "2015-01-02T22:00:00",
          "2015-01-02T23:00:00",
          "2015-01-03T00:00:00",
          "2015-01-03T01:00:00",
          "2015-01-03T02:00:00",
          "2015-01-03T03:00:00",
          "2015-01-03T04:00:00",
          "2015-01-03T05:00:00",
          "2015-01-03T06:00:00",
          "2015-01-03T07:00:00",
          "2015-01-03T08:00:00",
          "2015-01-03T09:00:00",
          "2015-01-03T10:00:00",
          "2015-01-03T11:00:00",
          "2015-01-03T12:00:00",
          "2015-01-03T13:00:00",
          "2015-01-03T14:00:00",
          "2015-01-03T15:00:00",
          "2015-01-03T16:00:00",
          "2015-01-03T17:00:00",
          "2015-01-03T18:00:00",
          "2015-01-03T19:00:00",
          "2015-01-03T20:00:00",
          "2015-01-03T21:00:00",
          "2015-01-03T22:00:00",
          "2015-01-03T23:00:00",
          "2015-01-04T00:00:00",
          "2015-01-04T01:00:00",
          "2015-01-04T02:00:00",
          "2015-01-04T03:00:00",
          "2015-01-04T04:00:00",
          "2015-01-04T05:00:00",
          "2015-01-04T06:00:00",
          "2015-01-04T07:00:00",
          "2015-01-04T08:00:00",
          "2015-01-04T09:00:00",
          "2015-01-04T10:00:00",
          "2015-01-04T11:00:00",
          "2015-01-04T12:00:00",
          "2015-01-04T13:00:00",
          "2015-01-04T14:00:00",
          "2015-01-04T15:00:00",
          "2015-01-04T16:00:00",
          "2015-01-04T17:00:00",
          "2015-01-04T18:00:00",
          "2015-01-04T19:00:00",
          "2015-01-04T20:00:00",
          "2015-01-04T21:00:00",
          "2015-01-04T22:00:00",
          "2015-01-04T23:00:00"
         ],
         "y": [
          2651,
          2412,
          2256,
          2170,
          2136,
          2169,
          2223,
          2234,
          2343,
          2623,
          2901,
          3146,
          3234,
          3146,
          3122,
          3264,
          3497,
          3464,
          3353,
          3203,
          3070,
          2901,
          2891,
          2708,
          2452,
          2266,
          2167,
          2118,
          2138,
          2260,
          2475,
          2692,
          2937,
          3191,
          3340,
          3387,
          3372,
          3300,
          3301,
          3558,
          4014,
          4003,
          3812,
          3580,
          3382,
          3141,
          3088,
          2835,
          2581,
          2398,
          2266,
          2187,
          2163,
          2247,
          2389,
          2531,
          2777,
          3041,
          3197,
          3280,
          3276,
          3210,
          3200,
          3415,
          3905,
          3913,
          3728,
          3523,
          3308,
          3084,
          3065,
          2882,
          2632,
          2426,
          2289,
          2220,
          2173,
          2208,
          2271,
          2318,
          2491,
          2777,
          3010,
          3212,
          3290,
          3237,
          3185,
          3332,
          3768,
          3825,
          3678,
          3517,
          3307,
          3013,
          2898,
          2671
         ]
        },
        {
         "line": {
          "color": "blue"
         },
         "mode": "lines",
         "name": "onshore wind",
         "type": "scatter",
         "x": [
          "2015-01-01T00:00:00",
          "2015-01-01T01:00:00",
          "2015-01-01T02:00:00",
          "2015-01-01T03:00:00",
          "2015-01-01T04:00:00",
          "2015-01-01T05:00:00",
          "2015-01-01T06:00:00",
          "2015-01-01T07:00:00",
          "2015-01-01T08:00:00",
          "2015-01-01T09:00:00",
          "2015-01-01T10:00:00",
          "2015-01-01T11:00:00",
          "2015-01-01T12:00:00",
          "2015-01-01T13:00:00",
          "2015-01-01T14:00:00",
          "2015-01-01T15:00:00",
          "2015-01-01T16:00:00",
          "2015-01-01T17:00:00",
          "2015-01-01T18:00:00",
          "2015-01-01T19:00:00",
          "2015-01-01T20:00:00",
          "2015-01-01T21:00:00",
          "2015-01-01T22:00:00",
          "2015-01-01T23:00:00",
          "2015-01-02T00:00:00",
          "2015-01-02T01:00:00",
          "2015-01-02T02:00:00",
          "2015-01-02T03:00:00",
          "2015-01-02T04:00:00",
          "2015-01-02T05:00:00",
          "2015-01-02T06:00:00",
          "2015-01-02T07:00:00",
          "2015-01-02T08:00:00",
          "2015-01-02T09:00:00",
          "2015-01-02T10:00:00",
          "2015-01-02T11:00:00",
          "2015-01-02T12:00:00",
          "2015-01-02T13:00:00",
          "2015-01-02T14:00:00",
          "2015-01-02T15:00:00",
          "2015-01-02T16:00:00",
          "2015-01-02T17:00:00",
          "2015-01-02T18:00:00",
          "2015-01-02T19:00:00",
          "2015-01-02T20:00:00",
          "2015-01-02T21:00:00",
          "2015-01-02T22:00:00",
          "2015-01-02T23:00:00",
          "2015-01-03T00:00:00",
          "2015-01-03T01:00:00",
          "2015-01-03T02:00:00",
          "2015-01-03T03:00:00",
          "2015-01-03T04:00:00",
          "2015-01-03T05:00:00",
          "2015-01-03T06:00:00",
          "2015-01-03T07:00:00",
          "2015-01-03T08:00:00",
          "2015-01-03T09:00:00",
          "2015-01-03T10:00:00",
          "2015-01-03T11:00:00",
          "2015-01-03T12:00:00",
          "2015-01-03T13:00:00",
          "2015-01-03T14:00:00",
          "2015-01-03T15:00:00",
          "2015-01-03T16:00:00",
          "2015-01-03T17:00:00",
          "2015-01-03T18:00:00",
          "2015-01-03T19:00:00",
          "2015-01-03T20:00:00",
          "2015-01-03T21:00:00",
          "2015-01-03T22:00:00",
          "2015-01-03T23:00:00",
          "2015-01-04T00:00:00",
          "2015-01-04T01:00:00",
          "2015-01-04T02:00:00",
          "2015-01-04T03:00:00",
          "2015-01-04T04:00:00",
          "2015-01-04T05:00:00",
          "2015-01-04T06:00:00",
          "2015-01-04T07:00:00",
          "2015-01-04T08:00:00",
          "2015-01-04T09:00:00",
          "2015-01-04T10:00:00",
          "2015-01-04T11:00:00",
          "2015-01-04T12:00:00",
          "2015-01-04T13:00:00",
          "2015-01-04T14:00:00",
          "2015-01-04T15:00:00",
          "2015-01-04T16:00:00",
          "2015-01-04T17:00:00",
          "2015-01-04T18:00:00",
          "2015-01-04T19:00:00",
          "2015-01-04T20:00:00",
          "2015-01-04T21:00:00",
          "2015-01-04T22:00:00",
          "2015-01-04T23:00:00"
         ],
         "y": [
          2258.4256,
          2081.388,
          2148.3752,
          2170,
          2136,
          2169,
          2223,
          2234,
          2343,
          2623,
          2901,
          3146,
          3234,
          3146,
          3122,
          3264,
          3464.1952,
          3464,
          3353,
          3203,
          3070,
          2901,
          2891,
          2708,
          2452,
          2266,
          2167,
          2118,
          2138,
          2162.7296,
          2229.7168,
          1832.5784,
          1598.1232000000002,
          1378.0224,
          1334.9592000000002,
          1397.1616,
          2086.1728000000003,
          1756.0216,
          1411.516,
          1267.9720000000002,
          1263.1872,
          1263.1872,
          1454.5792000000001,
          1368.4528,
          1167.4912,
          1110.0736000000002,
          1081.3648,
          1095.7192,
          880.4032,
          751.2136,
          641.1632000000001,
          387.5688,
          330.1512,
          382.78400000000005,
          559.8216000000001,
          669.8720000000001,
          1057.4408,
          971.3144000000001,
          732.0744,
          531.1128,
          291.8728,
          210.53119999999998,
          200.96160000000003,
          220.1008,
          224.8856,
          200.96160000000003,
          138.75920000000002,
          138.75920000000002,
          191.39200000000002,
          196.17680000000001,
          267.9488,
          339.7208,
          392.35360000000003,
          368.4296,
          354.0752,
          373.2144,
          401.92320000000007,
          454.55600000000004,
          344.5056,
          449.7712,
          502.404,
          617.2392000000001,
          818.2008000000001,
          1133.9976,
          1119.6432000000002,
          1210.5544,
          1196.2,
          1157.9216,
          1157.9216,
          1224.9088000000002,
          1157.9216,
          1287.1112,
          1421.0855999999999,
          1526.3512,
          1622.0472000000002,
          1650.7559999999999
         ]
        },
        {
         "line": {
          "color": "orange"
         },
         "mode": "lines",
         "name": "solar",
         "type": "scatter",
         "x": [
          "2015-01-01T00:00:00",
          "2015-01-01T01:00:00",
          "2015-01-01T02:00:00",
          "2015-01-01T03:00:00",
          "2015-01-01T04:00:00",
          "2015-01-01T05:00:00",
          "2015-01-01T06:00:00",
          "2015-01-01T07:00:00",
          "2015-01-01T08:00:00",
          "2015-01-01T09:00:00",
          "2015-01-01T10:00:00",
          "2015-01-01T11:00:00",
          "2015-01-01T12:00:00",
          "2015-01-01T13:00:00",
          "2015-01-01T14:00:00",
          "2015-01-01T15:00:00",
          "2015-01-01T16:00:00",
          "2015-01-01T17:00:00",
          "2015-01-01T18:00:00",
          "2015-01-01T19:00:00",
          "2015-01-01T20:00:00",
          "2015-01-01T21:00:00",
          "2015-01-01T22:00:00",
          "2015-01-01T23:00:00",
          "2015-01-02T00:00:00",
          "2015-01-02T01:00:00",
          "2015-01-02T02:00:00",
          "2015-01-02T03:00:00",
          "2015-01-02T04:00:00",
          "2015-01-02T05:00:00",
          "2015-01-02T06:00:00",
          "2015-01-02T07:00:00",
          "2015-01-02T08:00:00",
          "2015-01-02T09:00:00",
          "2015-01-02T10:00:00",
          "2015-01-02T11:00:00",
          "2015-01-02T12:00:00",
          "2015-01-02T13:00:00",
          "2015-01-02T14:00:00",
          "2015-01-02T15:00:00",
          "2015-01-02T16:00:00",
          "2015-01-02T17:00:00",
          "2015-01-02T18:00:00",
          "2015-01-02T19:00:00",
          "2015-01-02T20:00:00",
          "2015-01-02T21:00:00",
          "2015-01-02T22:00:00",
          "2015-01-02T23:00:00",
          "2015-01-03T00:00:00",
          "2015-01-03T01:00:00",
          "2015-01-03T02:00:00",
          "2015-01-03T03:00:00",
          "2015-01-03T04:00:00",
          "2015-01-03T05:00:00",
          "2015-01-03T06:00:00",
          "2015-01-03T07:00:00",
          "2015-01-03T08:00:00",
          "2015-01-03T09:00:00",
          "2015-01-03T10:00:00",
          "2015-01-03T11:00:00",
          "2015-01-03T12:00:00",
          "2015-01-03T13:00:00",
          "2015-01-03T14:00:00",
          "2015-01-03T15:00:00",
          "2015-01-03T16:00:00",
          "2015-01-03T17:00:00",
          "2015-01-03T18:00:00",
          "2015-01-03T19:00:00",
          "2015-01-03T20:00:00",
          "2015-01-03T21:00:00",
          "2015-01-03T22:00:00",
          "2015-01-03T23:00:00",
          "2015-01-04T00:00:00",
          "2015-01-04T01:00:00",
          "2015-01-04T02:00:00",
          "2015-01-04T03:00:00",
          "2015-01-04T04:00:00",
          "2015-01-04T05:00:00",
          "2015-01-04T06:00:00",
          "2015-01-04T07:00:00",
          "2015-01-04T08:00:00",
          "2015-01-04T09:00:00",
          "2015-01-04T10:00:00",
          "2015-01-04T11:00:00",
          "2015-01-04T12:00:00",
          "2015-01-04T13:00:00",
          "2015-01-04T14:00:00",
          "2015-01-04T15:00:00",
          "2015-01-04T16:00:00",
          "2015-01-04T17:00:00",
          "2015-01-04T18:00:00",
          "2015-01-04T19:00:00",
          "2015-01-04T20:00:00",
          "2015-01-04T21:00:00",
          "2015-01-04T22:00:00",
          "2015-01-04T23:00:00"
         ],
         "y": [
          0,
          0,
          0,
          0,
          0,
          0,
          0,
          0,
          0,
          0,
          0,
          0,
          0,
          0,
          0,
          0,
          0,
          0,
          0,
          0,
          0,
          0,
          0,
          0,
          0,
          0,
          0,
          0,
          0,
          0,
          0,
          0,
          0,
          0,
          0,
          0,
          0,
          0,
          0,
          0,
          0,
          0,
          0,
          0,
          0,
          0,
          0,
          0,
          0,
          0,
          0,
          0,
          0,
          0,
          0,
          0,
          0,
          0,
          0,
          0,
          0,
          0,
          0,
          0,
          0,
          0,
          0,
          0,
          0,
          0,
          0,
          0,
          0,
          0,
          0,
          0,
          0,
          0,
          0,
          0,
          0,
          0,
          0,
          0,
          0,
          0,
          0,
          0,
          0,
          0,
          0,
          0,
          0,
          0,
          0,
          0
         ]
        },
        {
         "line": {
          "color": "brown"
         },
         "mode": "lines",
         "name": "gas (OCGT)",
         "type": "scatter",
         "x": [
          "2015-01-01T00:00:00",
          "2015-01-01T01:00:00",
          "2015-01-01T02:00:00",
          "2015-01-01T03:00:00",
          "2015-01-01T04:00:00",
          "2015-01-01T05:00:00",
          "2015-01-01T06:00:00",
          "2015-01-01T07:00:00",
          "2015-01-01T08:00:00",
          "2015-01-01T09:00:00",
          "2015-01-01T10:00:00",
          "2015-01-01T11:00:00",
          "2015-01-01T12:00:00",
          "2015-01-01T13:00:00",
          "2015-01-01T14:00:00",
          "2015-01-01T15:00:00",
          "2015-01-01T16:00:00",
          "2015-01-01T17:00:00",
          "2015-01-01T18:00:00",
          "2015-01-01T19:00:00",
          "2015-01-01T20:00:00",
          "2015-01-01T21:00:00",
          "2015-01-01T22:00:00",
          "2015-01-01T23:00:00",
          "2015-01-02T00:00:00",
          "2015-01-02T01:00:00",
          "2015-01-02T02:00:00",
          "2015-01-02T03:00:00",
          "2015-01-02T04:00:00",
          "2015-01-02T05:00:00",
          "2015-01-02T06:00:00",
          "2015-01-02T07:00:00",
          "2015-01-02T08:00:00",
          "2015-01-02T09:00:00",
          "2015-01-02T10:00:00",
          "2015-01-02T11:00:00",
          "2015-01-02T12:00:00",
          "2015-01-02T13:00:00",
          "2015-01-02T14:00:00",
          "2015-01-02T15:00:00",
          "2015-01-02T16:00:00",
          "2015-01-02T17:00:00",
          "2015-01-02T18:00:00",
          "2015-01-02T19:00:00",
          "2015-01-02T20:00:00",
          "2015-01-02T21:00:00",
          "2015-01-02T22:00:00",
          "2015-01-02T23:00:00",
          "2015-01-03T00:00:00",
          "2015-01-03T01:00:00",
          "2015-01-03T02:00:00",
          "2015-01-03T03:00:00",
          "2015-01-03T04:00:00",
          "2015-01-03T05:00:00",
          "2015-01-03T06:00:00",
          "2015-01-03T07:00:00",
          "2015-01-03T08:00:00",
          "2015-01-03T09:00:00",
          "2015-01-03T10:00:00",
          "2015-01-03T11:00:00",
          "2015-01-03T12:00:00",
          "2015-01-03T13:00:00",
          "2015-01-03T14:00:00",
          "2015-01-03T15:00:00",
          "2015-01-03T16:00:00",
          "2015-01-03T17:00:00",
          "2015-01-03T18:00:00",
          "2015-01-03T19:00:00",
          "2015-01-03T20:00:00",
          "2015-01-03T21:00:00",
          "2015-01-03T22:00:00",
          "2015-01-03T23:00:00",
          "2015-01-04T00:00:00",
          "2015-01-04T01:00:00",
          "2015-01-04T02:00:00",
          "2015-01-04T03:00:00",
          "2015-01-04T04:00:00",
          "2015-01-04T05:00:00",
          "2015-01-04T06:00:00",
          "2015-01-04T07:00:00",
          "2015-01-04T08:00:00",
          "2015-01-04T09:00:00",
          "2015-01-04T10:00:00",
          "2015-01-04T11:00:00",
          "2015-01-04T12:00:00",
          "2015-01-04T13:00:00",
          "2015-01-04T14:00:00",
          "2015-01-04T15:00:00",
          "2015-01-04T16:00:00",
          "2015-01-04T17:00:00",
          "2015-01-04T18:00:00",
          "2015-01-04T19:00:00",
          "2015-01-04T20:00:00",
          "2015-01-04T21:00:00",
          "2015-01-04T22:00:00",
          "2015-01-04T23:00:00"
         ],
         "y": [
          322.57439999999997,
          260.6120000000001,
          37.62480000000005,
          0,
          0,
          0,
          0,
          0,
          0,
          0,
          0,
          0,
          0,
          0,
          0,
          0,
          0,
          0,
          0,
          0,
          0,
          0,
          0,
          0,
          0,
          0,
          0,
          0,
          0,
          27.27039999999988,
          175.28319999999985,
          789.4215999999999,
          1268.8767999999998,
          1742.9776,
          1935.0407999999998,
          1919.8384,
          1215.8271999999997,
          1473.9784,
          1819.484,
          2220.028,
          2680.8127999999997,
          2669.8127999999997,
          2287.4208,
          2141.5472,
          2144.5088,
          1960.9263999999998,
          1936.6352,
          1669.2808,
          1630.5968,
          1576.7864,
          1554.8368,
          1729.4312,
          1762.8488,
          1794.216,
          1759.1783999999998,
          1791.128,
          1649.5592,
          1999.6855999999998,
          2394.9256,
          2678.8872,
          2914.1272,
          2929.4688,
          2929.0384,
          3124.8992,
          3610.1144,
          3610.228,
          3519.2408,
          3314.2408,
          3046.608,
          2817.8232,
          2727.0512,
          2472.2792,
          2169.6464,
          1987.5704,
          1864.9248,
          1776.7856,
          1701.0767999999998,
          1683.444,
          1856.4944,
          1798.2287999999999,
          1918.596,
          2089.7608,
          2121.7992,
          2008.0024,
          2100.3567999999996,
          1956.4456,
          1918.8,
          2104.0784000000003,
          2540.0784000000003,
          2530.0912,
          2450.0784000000003,
          2159.8887999999997,
          1815.9144000000001,
          1416.6488,
          1205.9527999999998,
          950.2440000000001
         ]
        },
        {
         "line": {
          "color": "grey"
         },
         "mode": "lines",
         "name": "coal",
         "type": "scatter",
         "x": [
          "2015-01-01T00:00:00",
          "2015-01-01T01:00:00",
          "2015-01-01T02:00:00",
          "2015-01-01T03:00:00",
          "2015-01-01T04:00:00",
          "2015-01-01T05:00:00",
          "2015-01-01T06:00:00",
          "2015-01-01T07:00:00",
          "2015-01-01T08:00:00",
          "2015-01-01T09:00:00",
          "2015-01-01T10:00:00",
          "2015-01-01T11:00:00",
          "2015-01-01T12:00:00",
          "2015-01-01T13:00:00",
          "2015-01-01T14:00:00",
          "2015-01-01T15:00:00",
          "2015-01-01T16:00:00",
          "2015-01-01T17:00:00",
          "2015-01-01T18:00:00",
          "2015-01-01T19:00:00",
          "2015-01-01T20:00:00",
          "2015-01-01T21:00:00",
          "2015-01-01T22:00:00",
          "2015-01-01T23:00:00",
          "2015-01-02T00:00:00",
          "2015-01-02T01:00:00",
          "2015-01-02T02:00:00",
          "2015-01-02T03:00:00",
          "2015-01-02T04:00:00",
          "2015-01-02T05:00:00",
          "2015-01-02T06:00:00",
          "2015-01-02T07:00:00",
          "2015-01-02T08:00:00",
          "2015-01-02T09:00:00",
          "2015-01-02T10:00:00",
          "2015-01-02T11:00:00",
          "2015-01-02T12:00:00",
          "2015-01-02T13:00:00",
          "2015-01-02T14:00:00",
          "2015-01-02T15:00:00",
          "2015-01-02T16:00:00",
          "2015-01-02T17:00:00",
          "2015-01-02T18:00:00",
          "2015-01-02T19:00:00",
          "2015-01-02T20:00:00",
          "2015-01-02T21:00:00",
          "2015-01-02T22:00:00",
          "2015-01-02T23:00:00",
          "2015-01-03T00:00:00",
          "2015-01-03T01:00:00",
          "2015-01-03T02:00:00",
          "2015-01-03T03:00:00",
          "2015-01-03T04:00:00",
          "2015-01-03T05:00:00",
          "2015-01-03T06:00:00",
          "2015-01-03T07:00:00",
          "2015-01-03T08:00:00",
          "2015-01-03T09:00:00",
          "2015-01-03T10:00:00",
          "2015-01-03T11:00:00",
          "2015-01-03T12:00:00",
          "2015-01-03T13:00:00",
          "2015-01-03T14:00:00",
          "2015-01-03T15:00:00",
          "2015-01-03T16:00:00",
          "2015-01-03T17:00:00",
          "2015-01-03T18:00:00",
          "2015-01-03T19:00:00",
          "2015-01-03T20:00:00",
          "2015-01-03T21:00:00",
          "2015-01-03T22:00:00",
          "2015-01-03T23:00:00",
          "2015-01-04T00:00:00",
          "2015-01-04T01:00:00",
          "2015-01-04T02:00:00",
          "2015-01-04T03:00:00",
          "2015-01-04T04:00:00",
          "2015-01-04T05:00:00",
          "2015-01-04T06:00:00",
          "2015-01-04T07:00:00",
          "2015-01-04T08:00:00",
          "2015-01-04T09:00:00",
          "2015-01-04T10:00:00",
          "2015-01-04T11:00:00",
          "2015-01-04T12:00:00",
          "2015-01-04T13:00:00",
          "2015-01-04T14:00:00",
          "2015-01-04T15:00:00",
          "2015-01-04T16:00:00",
          "2015-01-04T17:00:00",
          "2015-01-04T18:00:00",
          "2015-01-04T19:00:00",
          "2015-01-04T20:00:00",
          "2015-01-04T21:00:00",
          "2015-01-04T22:00:00",
          "2015-01-04T23:00:00"
         ],
         "y": [
          0,
          0,
          0,
          0,
          0,
          0,
          0,
          0,
          0,
          0,
          0,
          0,
          0,
          0,
          0,
          0,
          0,
          0,
          0,
          0,
          0,
          0,
          0,
          0,
          0,
          0,
          0,
          0,
          0,
          0,
          0,
          0,
          0,
          0,
          0,
          0,
          0,
          0,
          0,
          0,
          0,
          0,
          0,
          0,
          0,
          0,
          0,
          0,
          0,
          0,
          0,
          0,
          0,
          0,
          0,
          0,
          0,
          0,
          0,
          0,
          0,
          0,
          0,
          0,
          0,
          0,
          0,
          0,
          0,
          0,
          0,
          0,
          0,
          0,
          0,
          0,
          0,
          0,
          0,
          0,
          0,
          0,
          0,
          0,
          0,
          0,
          0,
          0,
          0,
          0,
          0,
          0,
          0,
          0,
          0,
          0
         ]
        },
        {
         "line": {
          "color": "green"
         },
         "mode": "lines",
         "name": "biomass",
         "type": "scatter",
         "x": [
          "2015-01-01T00:00:00",
          "2015-01-01T01:00:00",
          "2015-01-01T02:00:00",
          "2015-01-01T03:00:00",
          "2015-01-01T04:00:00",
          "2015-01-01T05:00:00",
          "2015-01-01T06:00:00",
          "2015-01-01T07:00:00",
          "2015-01-01T08:00:00",
          "2015-01-01T09:00:00",
          "2015-01-01T10:00:00",
          "2015-01-01T11:00:00",
          "2015-01-01T12:00:00",
          "2015-01-01T13:00:00",
          "2015-01-01T14:00:00",
          "2015-01-01T15:00:00",
          "2015-01-01T16:00:00",
          "2015-01-01T17:00:00",
          "2015-01-01T18:00:00",
          "2015-01-01T19:00:00",
          "2015-01-01T20:00:00",
          "2015-01-01T21:00:00",
          "2015-01-01T22:00:00",
          "2015-01-01T23:00:00",
          "2015-01-02T00:00:00",
          "2015-01-02T01:00:00",
          "2015-01-02T02:00:00",
          "2015-01-02T03:00:00",
          "2015-01-02T04:00:00",
          "2015-01-02T05:00:00",
          "2015-01-02T06:00:00",
          "2015-01-02T07:00:00",
          "2015-01-02T08:00:00",
          "2015-01-02T09:00:00",
          "2015-01-02T10:00:00",
          "2015-01-02T11:00:00",
          "2015-01-02T12:00:00",
          "2015-01-02T13:00:00",
          "2015-01-02T14:00:00",
          "2015-01-02T15:00:00",
          "2015-01-02T16:00:00",
          "2015-01-02T17:00:00",
          "2015-01-02T18:00:00",
          "2015-01-02T19:00:00",
          "2015-01-02T20:00:00",
          "2015-01-02T21:00:00",
          "2015-01-02T22:00:00",
          "2015-01-02T23:00:00",
          "2015-01-03T00:00:00",
          "2015-01-03T01:00:00",
          "2015-01-03T02:00:00",
          "2015-01-03T03:00:00",
          "2015-01-03T04:00:00",
          "2015-01-03T05:00:00",
          "2015-01-03T06:00:00",
          "2015-01-03T07:00:00",
          "2015-01-03T08:00:00",
          "2015-01-03T09:00:00",
          "2015-01-03T10:00:00",
          "2015-01-03T11:00:00",
          "2015-01-03T12:00:00",
          "2015-01-03T13:00:00",
          "2015-01-03T14:00:00",
          "2015-01-03T15:00:00",
          "2015-01-03T16:00:00",
          "2015-01-03T17:00:00",
          "2015-01-03T18:00:00",
          "2015-01-03T19:00:00",
          "2015-01-03T20:00:00",
          "2015-01-03T21:00:00",
          "2015-01-03T22:00:00",
          "2015-01-03T23:00:00",
          "2015-01-04T00:00:00",
          "2015-01-04T01:00:00",
          "2015-01-04T02:00:00",
          "2015-01-04T03:00:00",
          "2015-01-04T04:00:00",
          "2015-01-04T05:00:00",
          "2015-01-04T06:00:00",
          "2015-01-04T07:00:00",
          "2015-01-04T08:00:00",
          "2015-01-04T09:00:00",
          "2015-01-04T10:00:00",
          "2015-01-04T11:00:00",
          "2015-01-04T12:00:00",
          "2015-01-04T13:00:00",
          "2015-01-04T14:00:00",
          "2015-01-04T15:00:00",
          "2015-01-04T16:00:00",
          "2015-01-04T17:00:00",
          "2015-01-04T18:00:00",
          "2015-01-04T19:00:00",
          "2015-01-04T20:00:00",
          "2015-01-04T21:00:00",
          "2015-01-04T22:00:00",
          "2015-01-04T23:00:00"
         ],
         "y": [
          70,
          70,
          70,
          0,
          0,
          0,
          0,
          0,
          0,
          0,
          0,
          0,
          0,
          0,
          0,
          0,
          32.80479999999989,
          0,
          0,
          0,
          0,
          0,
          0,
          0,
          0,
          0,
          0,
          0,
          0,
          70,
          70,
          70,
          70,
          70,
          70,
          70,
          70,
          70,
          70,
          70,
          70,
          70,
          70,
          70,
          70,
          70,
          70,
          70,
          70,
          70,
          70,
          70,
          70,
          70,
          70,
          70,
          70,
          70,
          70,
          70,
          70,
          70,
          70,
          70,
          70,
          70,
          70,
          70,
          70,
          70,
          70,
          70,
          70,
          70,
          70,
          70,
          70,
          70,
          70,
          70,
          70,
          70,
          70,
          70,
          70,
          70,
          70,
          70,
          70,
          70,
          70,
          70,
          70,
          70,
          70,
          70
         ]
        },
        {
         "line": {
          "color": "black"
         },
         "mode": "lines",
         "name": "oil",
         "type": "scatter",
         "x": [
          "2015-01-01T00:00:00",
          "2015-01-01T01:00:00",
          "2015-01-01T02:00:00",
          "2015-01-01T03:00:00",
          "2015-01-01T04:00:00",
          "2015-01-01T05:00:00",
          "2015-01-01T06:00:00",
          "2015-01-01T07:00:00",
          "2015-01-01T08:00:00",
          "2015-01-01T09:00:00",
          "2015-01-01T10:00:00",
          "2015-01-01T11:00:00",
          "2015-01-01T12:00:00",
          "2015-01-01T13:00:00",
          "2015-01-01T14:00:00",
          "2015-01-01T15:00:00",
          "2015-01-01T16:00:00",
          "2015-01-01T17:00:00",
          "2015-01-01T18:00:00",
          "2015-01-01T19:00:00",
          "2015-01-01T20:00:00",
          "2015-01-01T21:00:00",
          "2015-01-01T22:00:00",
          "2015-01-01T23:00:00",
          "2015-01-02T00:00:00",
          "2015-01-02T01:00:00",
          "2015-01-02T02:00:00",
          "2015-01-02T03:00:00",
          "2015-01-02T04:00:00",
          "2015-01-02T05:00:00",
          "2015-01-02T06:00:00",
          "2015-01-02T07:00:00",
          "2015-01-02T08:00:00",
          "2015-01-02T09:00:00",
          "2015-01-02T10:00:00",
          "2015-01-02T11:00:00",
          "2015-01-02T12:00:00",
          "2015-01-02T13:00:00",
          "2015-01-02T14:00:00",
          "2015-01-02T15:00:00",
          "2015-01-02T16:00:00",
          "2015-01-02T17:00:00",
          "2015-01-02T18:00:00",
          "2015-01-02T19:00:00",
          "2015-01-02T20:00:00",
          "2015-01-02T21:00:00",
          "2015-01-02T22:00:00",
          "2015-01-02T23:00:00",
          "2015-01-03T00:00:00",
          "2015-01-03T01:00:00",
          "2015-01-03T02:00:00",
          "2015-01-03T03:00:00",
          "2015-01-03T04:00:00",
          "2015-01-03T05:00:00",
          "2015-01-03T06:00:00",
          "2015-01-03T07:00:00",
          "2015-01-03T08:00:00",
          "2015-01-03T09:00:00",
          "2015-01-03T10:00:00",
          "2015-01-03T11:00:00",
          "2015-01-03T12:00:00",
          "2015-01-03T13:00:00",
          "2015-01-03T14:00:00",
          "2015-01-03T15:00:00",
          "2015-01-03T16:00:00",
          "2015-01-03T17:00:00",
          "2015-01-03T18:00:00",
          "2015-01-03T19:00:00",
          "2015-01-03T20:00:00",
          "2015-01-03T21:00:00",
          "2015-01-03T22:00:00",
          "2015-01-03T23:00:00",
          "2015-01-04T00:00:00",
          "2015-01-04T01:00:00",
          "2015-01-04T02:00:00",
          "2015-01-04T03:00:00",
          "2015-01-04T04:00:00",
          "2015-01-04T05:00:00",
          "2015-01-04T06:00:00",
          "2015-01-04T07:00:00",
          "2015-01-04T08:00:00",
          "2015-01-04T09:00:00",
          "2015-01-04T10:00:00",
          "2015-01-04T11:00:00",
          "2015-01-04T12:00:00",
          "2015-01-04T13:00:00",
          "2015-01-04T14:00:00",
          "2015-01-04T15:00:00",
          "2015-01-04T16:00:00",
          "2015-01-04T17:00:00",
          "2015-01-04T18:00:00",
          "2015-01-04T19:00:00",
          "2015-01-04T20:00:00",
          "2015-01-04T21:00:00",
          "2015-01-04T22:00:00",
          "2015-01-04T23:00:00"
         ],
         "y": [
          0,
          0,
          0,
          0,
          0,
          0,
          0,
          0,
          0,
          0,
          0,
          0,
          0,
          0,
          0,
          0,
          0,
          0,
          0,
          0,
          0,
          0,
          0,
          0,
          0,
          0,
          0,
          0,
          0,
          0,
          0,
          0,
          0,
          0,
          0,
          0,
          0,
          0,
          0,
          0,
          0,
          0,
          0,
          0,
          0,
          0,
          0,
          0,
          0,
          0,
          0,
          0,
          0,
          0,
          0,
          0,
          0,
          0,
          0,
          0,
          0,
          0,
          0,
          0,
          0,
          31.810399999999845,
          0,
          0,
          0,
          0,
          0,
          0,
          0,
          0,
          0,
          0,
          0,
          0,
          0,
          0,
          0,
          0,
          0,
          0,
          0,
          0,
          0,
          0,
          0,
          0,
          0,
          0,
          0,
          0,
          0,
          0
         ]
        },
        {
         "line": {
          "color": "purple"
         },
         "mode": "lines",
         "name": "offshore wind",
         "type": "scatter",
         "x": [
          "2015-01-01T00:00:00",
          "2015-01-01T01:00:00",
          "2015-01-01T02:00:00",
          "2015-01-01T03:00:00",
          "2015-01-01T04:00:00",
          "2015-01-01T05:00:00",
          "2015-01-01T06:00:00",
          "2015-01-01T07:00:00",
          "2015-01-01T08:00:00",
          "2015-01-01T09:00:00",
          "2015-01-01T10:00:00",
          "2015-01-01T11:00:00",
          "2015-01-01T12:00:00",
          "2015-01-01T13:00:00",
          "2015-01-01T14:00:00",
          "2015-01-01T15:00:00",
          "2015-01-01T16:00:00",
          "2015-01-01T17:00:00",
          "2015-01-01T18:00:00",
          "2015-01-01T19:00:00",
          "2015-01-01T20:00:00",
          "2015-01-01T21:00:00",
          "2015-01-01T22:00:00",
          "2015-01-01T23:00:00",
          "2015-01-02T00:00:00",
          "2015-01-02T01:00:00",
          "2015-01-02T02:00:00",
          "2015-01-02T03:00:00",
          "2015-01-02T04:00:00",
          "2015-01-02T05:00:00",
          "2015-01-02T06:00:00",
          "2015-01-02T07:00:00",
          "2015-01-02T08:00:00",
          "2015-01-02T09:00:00",
          "2015-01-02T10:00:00",
          "2015-01-02T11:00:00",
          "2015-01-02T12:00:00",
          "2015-01-02T13:00:00",
          "2015-01-02T14:00:00",
          "2015-01-02T15:00:00",
          "2015-01-02T16:00:00",
          "2015-01-02T17:00:00",
          "2015-01-02T18:00:00",
          "2015-01-02T19:00:00",
          "2015-01-02T20:00:00",
          "2015-01-02T21:00:00",
          "2015-01-02T22:00:00",
          "2015-01-02T23:00:00",
          "2015-01-03T00:00:00",
          "2015-01-03T01:00:00",
          "2015-01-03T02:00:00",
          "2015-01-03T03:00:00",
          "2015-01-03T04:00:00",
          "2015-01-03T05:00:00",
          "2015-01-03T06:00:00",
          "2015-01-03T07:00:00",
          "2015-01-03T08:00:00",
          "2015-01-03T09:00:00",
          "2015-01-03T10:00:00",
          "2015-01-03T11:00:00",
          "2015-01-03T12:00:00",
          "2015-01-03T13:00:00",
          "2015-01-03T14:00:00",
          "2015-01-03T15:00:00",
          "2015-01-03T16:00:00",
          "2015-01-03T17:00:00",
          "2015-01-03T18:00:00",
          "2015-01-03T19:00:00",
          "2015-01-03T20:00:00",
          "2015-01-03T21:00:00",
          "2015-01-03T22:00:00",
          "2015-01-03T23:00:00",
          "2015-01-04T00:00:00",
          "2015-01-04T01:00:00",
          "2015-01-04T02:00:00",
          "2015-01-04T03:00:00",
          "2015-01-04T04:00:00",
          "2015-01-04T05:00:00",
          "2015-01-04T06:00:00",
          "2015-01-04T07:00:00",
          "2015-01-04T08:00:00",
          "2015-01-04T09:00:00",
          "2015-01-04T10:00:00",
          "2015-01-04T11:00:00",
          "2015-01-04T12:00:00",
          "2015-01-04T13:00:00",
          "2015-01-04T14:00:00",
          "2015-01-04T15:00:00",
          "2015-01-04T16:00:00",
          "2015-01-04T17:00:00",
          "2015-01-04T18:00:00",
          "2015-01-04T19:00:00",
          "2015-01-04T20:00:00",
          "2015-01-04T21:00:00",
          "2015-01-04T22:00:00",
          "2015-01-04T23:00:00"
         ],
         "y": [
          0,
          0,
          0,
          0,
          0,
          0,
          0,
          0,
          0,
          0,
          0,
          0,
          0,
          0,
          0,
          0,
          0,
          0,
          0,
          0,
          0,
          0,
          0,
          0,
          0,
          0,
          0,
          0,
          0,
          0,
          0,
          0,
          0,
          0,
          0,
          0,
          0,
          0,
          0,
          0,
          0,
          0,
          0,
          0,
          0,
          0,
          0,
          0,
          0,
          0,
          0,
          0,
          0,
          0,
          0,
          0,
          0,
          0,
          0,
          0,
          0,
          0,
          0,
          0,
          0,
          0,
          0,
          0,
          0,
          0,
          0,
          0,
          0,
          0,
          0,
          0,
          0,
          0,
          0,
          0,
          0,
          0,
          0,
          0,
          0,
          0,
          0,
          0,
          0,
          0,
          0,
          0,
          0,
          0,
          0,
          0
         ]
        }
       ],
       "layout": {
        "legend": {
         "traceorder": "normal",
         "x": 0,
         "y": 1
        },
        "template": {
         "data": {
          "bar": [
           {
            "error_x": {
             "color": "#2a3f5f"
            },
            "error_y": {
             "color": "#2a3f5f"
            },
            "marker": {
             "line": {
              "color": "#E5ECF6",
              "width": 0.5
             },
             "pattern": {
              "fillmode": "overlay",
              "size": 10,
              "solidity": 0.2
             }
            },
            "type": "bar"
           }
          ],
          "barpolar": [
           {
            "marker": {
             "line": {
              "color": "#E5ECF6",
              "width": 0.5
             },
             "pattern": {
              "fillmode": "overlay",
              "size": 10,
              "solidity": 0.2
             }
            },
            "type": "barpolar"
           }
          ],
          "carpet": [
           {
            "aaxis": {
             "endlinecolor": "#2a3f5f",
             "gridcolor": "white",
             "linecolor": "white",
             "minorgridcolor": "white",
             "startlinecolor": "#2a3f5f"
            },
            "baxis": {
             "endlinecolor": "#2a3f5f",
             "gridcolor": "white",
             "linecolor": "white",
             "minorgridcolor": "white",
             "startlinecolor": "#2a3f5f"
            },
            "type": "carpet"
           }
          ],
          "choropleth": [
           {
            "colorbar": {
             "outlinewidth": 0,
             "ticks": ""
            },
            "type": "choropleth"
           }
          ],
          "contour": [
           {
            "colorbar": {
             "outlinewidth": 0,
             "ticks": ""
            },
            "colorscale": [
             [
              0,
              "#0d0887"
             ],
             [
              0.1111111111111111,
              "#46039f"
             ],
             [
              0.2222222222222222,
              "#7201a8"
             ],
             [
              0.3333333333333333,
              "#9c179e"
             ],
             [
              0.4444444444444444,
              "#bd3786"
             ],
             [
              0.5555555555555556,
              "#d8576b"
             ],
             [
              0.6666666666666666,
              "#ed7953"
             ],
             [
              0.7777777777777778,
              "#fb9f3a"
             ],
             [
              0.8888888888888888,
              "#fdca26"
             ],
             [
              1,
              "#f0f921"
             ]
            ],
            "type": "contour"
           }
          ],
          "contourcarpet": [
           {
            "colorbar": {
             "outlinewidth": 0,
             "ticks": ""
            },
            "type": "contourcarpet"
           }
          ],
          "heatmap": [
           {
            "colorbar": {
             "outlinewidth": 0,
             "ticks": ""
            },
            "colorscale": [
             [
              0,
              "#0d0887"
             ],
             [
              0.1111111111111111,
              "#46039f"
             ],
             [
              0.2222222222222222,
              "#7201a8"
             ],
             [
              0.3333333333333333,
              "#9c179e"
             ],
             [
              0.4444444444444444,
              "#bd3786"
             ],
             [
              0.5555555555555556,
              "#d8576b"
             ],
             [
              0.6666666666666666,
              "#ed7953"
             ],
             [
              0.7777777777777778,
              "#fb9f3a"
             ],
             [
              0.8888888888888888,
              "#fdca26"
             ],
             [
              1,
              "#f0f921"
             ]
            ],
            "type": "heatmap"
           }
          ],
          "heatmapgl": [
           {
            "colorbar": {
             "outlinewidth": 0,
             "ticks": ""
            },
            "colorscale": [
             [
              0,
              "#0d0887"
             ],
             [
              0.1111111111111111,
              "#46039f"
             ],
             [
              0.2222222222222222,
              "#7201a8"
             ],
             [
              0.3333333333333333,
              "#9c179e"
             ],
             [
              0.4444444444444444,
              "#bd3786"
             ],
             [
              0.5555555555555556,
              "#d8576b"
             ],
             [
              0.6666666666666666,
              "#ed7953"
             ],
             [
              0.7777777777777778,
              "#fb9f3a"
             ],
             [
              0.8888888888888888,
              "#fdca26"
             ],
             [
              1,
              "#f0f921"
             ]
            ],
            "type": "heatmapgl"
           }
          ],
          "histogram": [
           {
            "marker": {
             "pattern": {
              "fillmode": "overlay",
              "size": 10,
              "solidity": 0.2
             }
            },
            "type": "histogram"
           }
          ],
          "histogram2d": [
           {
            "colorbar": {
             "outlinewidth": 0,
             "ticks": ""
            },
            "colorscale": [
             [
              0,
              "#0d0887"
             ],
             [
              0.1111111111111111,
              "#46039f"
             ],
             [
              0.2222222222222222,
              "#7201a8"
             ],
             [
              0.3333333333333333,
              "#9c179e"
             ],
             [
              0.4444444444444444,
              "#bd3786"
             ],
             [
              0.5555555555555556,
              "#d8576b"
             ],
             [
              0.6666666666666666,
              "#ed7953"
             ],
             [
              0.7777777777777778,
              "#fb9f3a"
             ],
             [
              0.8888888888888888,
              "#fdca26"
             ],
             [
              1,
              "#f0f921"
             ]
            ],
            "type": "histogram2d"
           }
          ],
          "histogram2dcontour": [
           {
            "colorbar": {
             "outlinewidth": 0,
             "ticks": ""
            },
            "colorscale": [
             [
              0,
              "#0d0887"
             ],
             [
              0.1111111111111111,
              "#46039f"
             ],
             [
              0.2222222222222222,
              "#7201a8"
             ],
             [
              0.3333333333333333,
              "#9c179e"
             ],
             [
              0.4444444444444444,
              "#bd3786"
             ],
             [
              0.5555555555555556,
              "#d8576b"
             ],
             [
              0.6666666666666666,
              "#ed7953"
             ],
             [
              0.7777777777777778,
              "#fb9f3a"
             ],
             [
              0.8888888888888888,
              "#fdca26"
             ],
             [
              1,
              "#f0f921"
             ]
            ],
            "type": "histogram2dcontour"
           }
          ],
          "mesh3d": [
           {
            "colorbar": {
             "outlinewidth": 0,
             "ticks": ""
            },
            "type": "mesh3d"
           }
          ],
          "parcoords": [
           {
            "line": {
             "colorbar": {
              "outlinewidth": 0,
              "ticks": ""
             }
            },
            "type": "parcoords"
           }
          ],
          "pie": [
           {
            "automargin": true,
            "type": "pie"
           }
          ],
          "scatter": [
           {
            "fillpattern": {
             "fillmode": "overlay",
             "size": 10,
             "solidity": 0.2
            },
            "type": "scatter"
           }
          ],
          "scatter3d": [
           {
            "line": {
             "colorbar": {
              "outlinewidth": 0,
              "ticks": ""
             }
            },
            "marker": {
             "colorbar": {
              "outlinewidth": 0,
              "ticks": ""
             }
            },
            "type": "scatter3d"
           }
          ],
          "scattercarpet": [
           {
            "marker": {
             "colorbar": {
              "outlinewidth": 0,
              "ticks": ""
             }
            },
            "type": "scattercarpet"
           }
          ],
          "scattergeo": [
           {
            "marker": {
             "colorbar": {
              "outlinewidth": 0,
              "ticks": ""
             }
            },
            "type": "scattergeo"
           }
          ],
          "scattergl": [
           {
            "marker": {
             "colorbar": {
              "outlinewidth": 0,
              "ticks": ""
             }
            },
            "type": "scattergl"
           }
          ],
          "scattermapbox": [
           {
            "marker": {
             "colorbar": {
              "outlinewidth": 0,
              "ticks": ""
             }
            },
            "type": "scattermapbox"
           }
          ],
          "scatterpolar": [
           {
            "marker": {
             "colorbar": {
              "outlinewidth": 0,
              "ticks": ""
             }
            },
            "type": "scatterpolar"
           }
          ],
          "scatterpolargl": [
           {
            "marker": {
             "colorbar": {
              "outlinewidth": 0,
              "ticks": ""
             }
            },
            "type": "scatterpolargl"
           }
          ],
          "scatterternary": [
           {
            "marker": {
             "colorbar": {
              "outlinewidth": 0,
              "ticks": ""
             }
            },
            "type": "scatterternary"
           }
          ],
          "surface": [
           {
            "colorbar": {
             "outlinewidth": 0,
             "ticks": ""
            },
            "colorscale": [
             [
              0,
              "#0d0887"
             ],
             [
              0.1111111111111111,
              "#46039f"
             ],
             [
              0.2222222222222222,
              "#7201a8"
             ],
             [
              0.3333333333333333,
              "#9c179e"
             ],
             [
              0.4444444444444444,
              "#bd3786"
             ],
             [
              0.5555555555555556,
              "#d8576b"
             ],
             [
              0.6666666666666666,
              "#ed7953"
             ],
             [
              0.7777777777777778,
              "#fb9f3a"
             ],
             [
              0.8888888888888888,
              "#fdca26"
             ],
             [
              1,
              "#f0f921"
             ]
            ],
            "type": "surface"
           }
          ],
          "table": [
           {
            "cells": {
             "fill": {
              "color": "#EBF0F8"
             },
             "line": {
              "color": "white"
             }
            },
            "header": {
             "fill": {
              "color": "#C8D4E3"
             },
             "line": {
              "color": "white"
             }
            },
            "type": "table"
           }
          ]
         },
         "layout": {
          "annotationdefaults": {
           "arrowcolor": "#2a3f5f",
           "arrowhead": 0,
           "arrowwidth": 1
          },
          "autotypenumbers": "strict",
          "coloraxis": {
           "colorbar": {
            "outlinewidth": 0,
            "ticks": ""
           }
          },
          "colorscale": {
           "diverging": [
            [
             0,
             "#8e0152"
            ],
            [
             0.1,
             "#c51b7d"
            ],
            [
             0.2,
             "#de77ae"
            ],
            [
             0.3,
             "#f1b6da"
            ],
            [
             0.4,
             "#fde0ef"
            ],
            [
             0.5,
             "#f7f7f7"
            ],
            [
             0.6,
             "#e6f5d0"
            ],
            [
             0.7,
             "#b8e186"
            ],
            [
             0.8,
             "#7fbc41"
            ],
            [
             0.9,
             "#4d9221"
            ],
            [
             1,
             "#276419"
            ]
           ],
           "sequential": [
            [
             0,
             "#0d0887"
            ],
            [
             0.1111111111111111,
             "#46039f"
            ],
            [
             0.2222222222222222,
             "#7201a8"
            ],
            [
             0.3333333333333333,
             "#9c179e"
            ],
            [
             0.4444444444444444,
             "#bd3786"
            ],
            [
             0.5555555555555556,
             "#d8576b"
            ],
            [
             0.6666666666666666,
             "#ed7953"
            ],
            [
             0.7777777777777778,
             "#fb9f3a"
            ],
            [
             0.8888888888888888,
             "#fdca26"
            ],
            [
             1,
             "#f0f921"
            ]
           ],
           "sequentialminus": [
            [
             0,
             "#0d0887"
            ],
            [
             0.1111111111111111,
             "#46039f"
            ],
            [
             0.2222222222222222,
             "#7201a8"
            ],
            [
             0.3333333333333333,
             "#9c179e"
            ],
            [
             0.4444444444444444,
             "#bd3786"
            ],
            [
             0.5555555555555556,
             "#d8576b"
            ],
            [
             0.6666666666666666,
             "#ed7953"
            ],
            [
             0.7777777777777778,
             "#fb9f3a"
            ],
            [
             0.8888888888888888,
             "#fdca26"
            ],
            [
             1,
             "#f0f921"
            ]
           ]
          },
          "colorway": [
           "#636efa",
           "#EF553B",
           "#00cc96",
           "#ab63fa",
           "#FFA15A",
           "#19d3f3",
           "#FF6692",
           "#B6E880",
           "#FF97FF",
           "#FECB52"
          ],
          "font": {
           "color": "#2a3f5f"
          },
          "geo": {
           "bgcolor": "white",
           "lakecolor": "white",
           "landcolor": "#E5ECF6",
           "showlakes": true,
           "showland": true,
           "subunitcolor": "white"
          },
          "hoverlabel": {
           "align": "left"
          },
          "hovermode": "closest",
          "mapbox": {
           "style": "light"
          },
          "paper_bgcolor": "white",
          "plot_bgcolor": "#E5ECF6",
          "polar": {
           "angularaxis": {
            "gridcolor": "white",
            "linecolor": "white",
            "ticks": ""
           },
           "bgcolor": "#E5ECF6",
           "radialaxis": {
            "gridcolor": "white",
            "linecolor": "white",
            "ticks": ""
           }
          },
          "scene": {
           "xaxis": {
            "backgroundcolor": "#E5ECF6",
            "gridcolor": "white",
            "gridwidth": 2,
            "linecolor": "white",
            "showbackground": true,
            "ticks": "",
            "zerolinecolor": "white"
           },
           "yaxis": {
            "backgroundcolor": "#E5ECF6",
            "gridcolor": "white",
            "gridwidth": 2,
            "linecolor": "white",
            "showbackground": true,
            "ticks": "",
            "zerolinecolor": "white"
           },
           "zaxis": {
            "backgroundcolor": "#E5ECF6",
            "gridcolor": "white",
            "gridwidth": 2,
            "linecolor": "white",
            "showbackground": true,
            "ticks": "",
            "zerolinecolor": "white"
           }
          },
          "shapedefaults": {
           "line": {
            "color": "#2a3f5f"
           }
          },
          "ternary": {
           "aaxis": {
            "gridcolor": "white",
            "linecolor": "white",
            "ticks": ""
           },
           "baxis": {
            "gridcolor": "white",
            "linecolor": "white",
            "ticks": ""
           },
           "bgcolor": "#E5ECF6",
           "caxis": {
            "gridcolor": "white",
            "linecolor": "white",
            "ticks": ""
           }
          },
          "title": {
           "x": 0.05
          },
          "xaxis": {
           "automargin": true,
           "gridcolor": "white",
           "linecolor": "white",
           "ticks": "",
           "title": {
            "standoff": 15
           },
           "zerolinecolor": "white",
           "zerolinewidth": 2
          },
          "yaxis": {
           "automargin": true,
           "gridcolor": "white",
           "linecolor": "white",
           "ticks": "",
           "title": {
            "standoff": 15
           },
           "zerolinecolor": "white",
           "zerolinewidth": 2
          }
         }
        },
        "title": {
         "text": "Electricity Dispatch Week 1 2015"
        },
        "xaxis": {
         "title": {
          "text": "Time"
         }
        },
        "yaxis": {
         "title": {
          "text": "Power (MW)"
         }
        }
       }
      }
     },
     "metadata": {},
     "output_type": "display_data"
    }
   ],
   "source": [
    "objective, capacities, loadConsumption, generation, snapshot, staus = optimizer(2015, 2730000)\n",
    "plot_dispatch_winter()"
   ]
  },
  {
   "cell_type": "code",
   "execution_count": null,
   "metadata": {},
   "outputs": [
    {
     "name": "stdout",
     "output_type": "stream",
     "text": [
      "utc_time\n",
      "2015-01-01 00:00:00+00:00    2651.0\n",
      "2015-01-01 01:00:00+00:00    2412.0\n",
      "2015-01-01 02:00:00+00:00    2256.0\n",
      "2015-01-01 03:00:00+00:00    2170.0\n",
      "2015-01-01 04:00:00+00:00    2136.0\n",
      "Name: IRL, dtype: float64\n"
     ]
    },
    {
     "name": "stderr",
     "output_type": "stream",
     "text": [
      "WARNING:pypsa.consistency:The following buses have carriers which are not defined:\n",
      "Index(['electricity bus'], dtype='object', name='Bus')\n",
      "WARNING:pypsa.consistency:The following buses have carriers which are not defined:\n",
      "Index(['electricity bus'], dtype='object', name='Bus')\n",
      "INFO:linopy.model: Solve problem using Gurobi solver\n",
      "INFO:linopy.model:Solver options:\n",
      " - OutputFlag: 0\n",
      "INFO:linopy.io:Writing objective.\n",
      "Writing constraints.: 100%|\u001b[38;2;128;191;255m██████████\u001b[0m| 6/6 [00:00<00:00, 20.60it/s]\n",
      "Writing continuous variables.: 100%|\u001b[38;2;128;191;255m██████████\u001b[0m| 2/2 [00:00<00:00, 39.77it/s]\n",
      "INFO:linopy.io: Writing time: 0.37s\n"
     ]
    },
    {
     "name": "stdout",
     "output_type": "stream",
     "text": [
      "Set parameter Username\n"
     ]
    },
    {
     "name": "stderr",
     "output_type": "stream",
     "text": [
      "INFO:gurobipy:Set parameter Username\n"
     ]
    },
    {
     "name": "stdout",
     "output_type": "stream",
     "text": [
      "Academic license - for non-commercial use only - expires 2026-02-12\n"
     ]
    },
    {
     "name": "stderr",
     "output_type": "stream",
     "text": [
      "INFO:gurobipy:Academic license - for non-commercial use only - expires 2026-02-12\n"
     ]
    },
    {
     "name": "stdout",
     "output_type": "stream",
     "text": [
      "Read LP format model from file /private/var/folders/kq/4zrjw9c97lz3tyvhdfpynqqc0000gn/T/linopy-problem-p28_ttgm.lp\n"
     ]
    },
    {
     "name": "stderr",
     "output_type": "stream",
     "text": [
      "INFO:gurobipy:Read LP format model from file /private/var/folders/kq/4zrjw9c97lz3tyvhdfpynqqc0000gn/T/linopy-problem-p28_ttgm.lp\n"
     ]
    },
    {
     "name": "stdout",
     "output_type": "stream",
     "text": [
      "Reading time = 0.12 seconds\n"
     ]
    },
    {
     "name": "stderr",
     "output_type": "stream",
     "text": [
      "INFO:gurobipy:Reading time = 0.12 seconds\n"
     ]
    },
    {
     "name": "stdout",
     "output_type": "stream",
     "text": [
      "obj: 131415 rows, 61327 columns, 267194 nonzeros\n"
     ]
    },
    {
     "name": "stderr",
     "output_type": "stream",
     "text": [
      "INFO:gurobipy:obj: 131415 rows, 61327 columns, 267194 nonzeros\n",
      "INFO:linopy.solvers:Unable to save solution file. Raised error: Unable to retrieve attribute 'X'\n",
      "WARNING:linopy.constants:Optimization potentially failed: \n",
      "Status: warning\n",
      "Termination condition: infeasible_or_unbounded\n",
      "Solution: 0 primals, 0 duals\n",
      "Objective: nan\n",
      "Solver model: available\n",
      "Solver message: 4\n",
      "\n"
     ]
    },
    {
     "name": "stdout",
     "output_type": "stream",
     "text": [
      "utc_time\n",
      "2015-01-01 00:00:00+00:00    2651.0\n",
      "2015-01-01 01:00:00+00:00    2412.0\n",
      "2015-01-01 02:00:00+00:00    2256.0\n",
      "2015-01-01 03:00:00+00:00    2170.0\n",
      "2015-01-01 04:00:00+00:00    2136.0\n",
      "Name: IRL, dtype: float64\n"
     ]
    },
    {
     "name": "stderr",
     "output_type": "stream",
     "text": [
      "WARNING:pypsa.consistency:The following buses have carriers which are not defined:\n",
      "Index(['electricity bus'], dtype='object', name='Bus')\n",
      "WARNING:pypsa.consistency:The following buses have carriers which are not defined:\n",
      "Index(['electricity bus'], dtype='object', name='Bus')\n",
      "INFO:linopy.model: Solve problem using Gurobi solver\n",
      "INFO:linopy.model:Solver options:\n",
      " - OutputFlag: 0\n",
      "INFO:linopy.io:Writing objective.\n",
      "Writing constraints.: 100%|\u001b[38;2;128;191;255m██████████\u001b[0m| 6/6 [00:00<00:00, 18.36it/s]\n",
      "Writing continuous variables.: 100%|\u001b[38;2;128;191;255m██████████\u001b[0m| 2/2 [00:00<00:00, 35.68it/s]\n",
      "INFO:linopy.io: Writing time: 0.42s\n"
     ]
    },
    {
     "name": "stdout",
     "output_type": "stream",
     "text": [
      "Set parameter Username\n"
     ]
    },
    {
     "name": "stderr",
     "output_type": "stream",
     "text": [
      "INFO:gurobipy:Set parameter Username\n"
     ]
    },
    {
     "name": "stdout",
     "output_type": "stream",
     "text": [
      "Academic license - for non-commercial use only - expires 2026-02-12\n"
     ]
    },
    {
     "name": "stderr",
     "output_type": "stream",
     "text": [
      "INFO:gurobipy:Academic license - for non-commercial use only - expires 2026-02-12\n"
     ]
    },
    {
     "name": "stdout",
     "output_type": "stream",
     "text": [
      "Read LP format model from file /private/var/folders/kq/4zrjw9c97lz3tyvhdfpynqqc0000gn/T/linopy-problem-q9u9ik66.lp\n"
     ]
    },
    {
     "name": "stderr",
     "output_type": "stream",
     "text": [
      "INFO:gurobipy:Read LP format model from file /private/var/folders/kq/4zrjw9c97lz3tyvhdfpynqqc0000gn/T/linopy-problem-q9u9ik66.lp\n"
     ]
    },
    {
     "name": "stdout",
     "output_type": "stream",
     "text": [
      "Reading time = 0.13 seconds\n"
     ]
    },
    {
     "name": "stderr",
     "output_type": "stream",
     "text": [
      "INFO:gurobipy:Reading time = 0.13 seconds\n"
     ]
    },
    {
     "name": "stdout",
     "output_type": "stream",
     "text": [
      "obj: 131415 rows, 61327 columns, 267194 nonzeros\n"
     ]
    },
    {
     "name": "stderr",
     "output_type": "stream",
     "text": [
      "INFO:gurobipy:obj: 131415 rows, 61327 columns, 267194 nonzeros\n",
      "INFO:linopy.solvers:Unable to save solution file. Raised error: Unable to retrieve attribute 'X'\n",
      "WARNING:linopy.constants:Optimization potentially failed: \n",
      "Status: warning\n",
      "Termination condition: infeasible_or_unbounded\n",
      "Solution: 0 primals, 0 duals\n",
      "Objective: nan\n",
      "Solver model: available\n",
      "Solver message: 4\n",
      "\n"
     ]
    },
    {
     "name": "stdout",
     "output_type": "stream",
     "text": [
      "utc_time\n",
      "2015-01-01 00:00:00+00:00    2651.0\n",
      "2015-01-01 01:00:00+00:00    2412.0\n",
      "2015-01-01 02:00:00+00:00    2256.0\n",
      "2015-01-01 03:00:00+00:00    2170.0\n",
      "2015-01-01 04:00:00+00:00    2136.0\n",
      "Name: IRL, dtype: float64\n"
     ]
    },
    {
     "name": "stderr",
     "output_type": "stream",
     "text": [
      "WARNING:pypsa.consistency:The following buses have carriers which are not defined:\n",
      "Index(['electricity bus'], dtype='object', name='Bus')\n",
      "WARNING:pypsa.consistency:The following buses have carriers which are not defined:\n",
      "Index(['electricity bus'], dtype='object', name='Bus')\n",
      "INFO:linopy.model: Solve problem using Gurobi solver\n",
      "INFO:linopy.model:Solver options:\n",
      " - OutputFlag: 0\n",
      "INFO:linopy.io:Writing objective.\n",
      "Writing constraints.: 100%|\u001b[38;2;128;191;255m██████████\u001b[0m| 6/6 [00:00<00:00, 19.70it/s]\n",
      "Writing continuous variables.: 100%|\u001b[38;2;128;191;255m██████████\u001b[0m| 2/2 [00:00<00:00, 38.10it/s]\n",
      "INFO:linopy.io: Writing time: 0.39s\n"
     ]
    },
    {
     "name": "stdout",
     "output_type": "stream",
     "text": [
      "Set parameter Username\n"
     ]
    },
    {
     "name": "stderr",
     "output_type": "stream",
     "text": [
      "INFO:gurobipy:Set parameter Username\n"
     ]
    },
    {
     "name": "stdout",
     "output_type": "stream",
     "text": [
      "Academic license - for non-commercial use only - expires 2026-02-12\n"
     ]
    },
    {
     "name": "stderr",
     "output_type": "stream",
     "text": [
      "INFO:gurobipy:Academic license - for non-commercial use only - expires 2026-02-12\n"
     ]
    },
    {
     "name": "stdout",
     "output_type": "stream",
     "text": [
      "Read LP format model from file /private/var/folders/kq/4zrjw9c97lz3tyvhdfpynqqc0000gn/T/linopy-problem-0k6w2lnc.lp\n"
     ]
    },
    {
     "name": "stderr",
     "output_type": "stream",
     "text": [
      "INFO:gurobipy:Read LP format model from file /private/var/folders/kq/4zrjw9c97lz3tyvhdfpynqqc0000gn/T/linopy-problem-0k6w2lnc.lp\n"
     ]
    },
    {
     "name": "stdout",
     "output_type": "stream",
     "text": [
      "Reading time = 0.12 seconds\n"
     ]
    },
    {
     "name": "stderr",
     "output_type": "stream",
     "text": [
      "INFO:gurobipy:Reading time = 0.12 seconds\n"
     ]
    },
    {
     "name": "stdout",
     "output_type": "stream",
     "text": [
      "obj: 131415 rows, 61327 columns, 267194 nonzeros\n"
     ]
    },
    {
     "name": "stderr",
     "output_type": "stream",
     "text": [
      "INFO:gurobipy:obj: 131415 rows, 61327 columns, 267194 nonzeros\n",
      "INFO:linopy.constants: Optimization successful: \n",
      "Status: ok\n",
      "Termination condition: optimal\n",
      "Solution: 61327 primals, 131415 duals\n",
      "Objective: 1.70e+09\n",
      "Solver model: available\n",
      "Solver message: 2\n",
      "\n",
      "INFO:pypsa.optimization.optimize:The shadow-prices of the constraints Generator-ext-p-lower, Generator-ext-p-upper were not assigned to the network.\n"
     ]
    },
    {
     "name": "stdout",
     "output_type": "stream",
     "text": [
      "utc_time\n",
      "2015-01-01 00:00:00+00:00    2651.0\n",
      "2015-01-01 01:00:00+00:00    2412.0\n",
      "2015-01-01 02:00:00+00:00    2256.0\n",
      "2015-01-01 03:00:00+00:00    2170.0\n",
      "2015-01-01 04:00:00+00:00    2136.0\n",
      "Name: IRL, dtype: float64\n"
     ]
    },
    {
     "name": "stderr",
     "output_type": "stream",
     "text": [
      "WARNING:pypsa.consistency:The following buses have carriers which are not defined:\n",
      "Index(['electricity bus'], dtype='object', name='Bus')\n",
      "WARNING:pypsa.consistency:The following buses have carriers which are not defined:\n",
      "Index(['electricity bus'], dtype='object', name='Bus')\n",
      "INFO:linopy.model: Solve problem using Gurobi solver\n",
      "INFO:linopy.model:Solver options:\n",
      " - OutputFlag: 0\n",
      "INFO:linopy.io:Writing objective.\n",
      "Writing constraints.: 100%|\u001b[38;2;128;191;255m██████████\u001b[0m| 6/6 [00:00<00:00, 20.01it/s]\n",
      "Writing continuous variables.: 100%|\u001b[38;2;128;191;255m██████████\u001b[0m| 2/2 [00:00<00:00, 37.64it/s]\n",
      "INFO:linopy.io: Writing time: 0.39s\n"
     ]
    },
    {
     "name": "stdout",
     "output_type": "stream",
     "text": [
      "Set parameter Username\n"
     ]
    },
    {
     "name": "stderr",
     "output_type": "stream",
     "text": [
      "INFO:gurobipy:Set parameter Username\n"
     ]
    },
    {
     "name": "stdout",
     "output_type": "stream",
     "text": [
      "Academic license - for non-commercial use only - expires 2026-02-12\n"
     ]
    },
    {
     "name": "stderr",
     "output_type": "stream",
     "text": [
      "INFO:gurobipy:Academic license - for non-commercial use only - expires 2026-02-12\n"
     ]
    },
    {
     "name": "stdout",
     "output_type": "stream",
     "text": [
      "Read LP format model from file /private/var/folders/kq/4zrjw9c97lz3tyvhdfpynqqc0000gn/T/linopy-problem-1ibzndmy.lp\n"
     ]
    },
    {
     "name": "stderr",
     "output_type": "stream",
     "text": [
      "INFO:gurobipy:Read LP format model from file /private/var/folders/kq/4zrjw9c97lz3tyvhdfpynqqc0000gn/T/linopy-problem-1ibzndmy.lp\n"
     ]
    },
    {
     "name": "stdout",
     "output_type": "stream",
     "text": [
      "Reading time = 0.12 seconds\n"
     ]
    },
    {
     "name": "stderr",
     "output_type": "stream",
     "text": [
      "INFO:gurobipy:Reading time = 0.12 seconds\n"
     ]
    },
    {
     "name": "stdout",
     "output_type": "stream",
     "text": [
      "obj: 131415 rows, 61327 columns, 267194 nonzeros\n"
     ]
    },
    {
     "name": "stderr",
     "output_type": "stream",
     "text": [
      "INFO:gurobipy:obj: 131415 rows, 61327 columns, 267194 nonzeros\n",
      "INFO:linopy.constants: Optimization successful: \n",
      "Status: ok\n",
      "Termination condition: optimal\n",
      "Solution: 61327 primals, 131415 duals\n",
      "Objective: 1.70e+09\n",
      "Solver model: available\n",
      "Solver message: 2\n",
      "\n",
      "INFO:pypsa.optimization.optimize:The shadow-prices of the constraints Generator-ext-p-lower, Generator-ext-p-upper were not assigned to the network.\n"
     ]
    },
    {
     "name": "stdout",
     "output_type": "stream",
     "text": [
      "utc_time\n",
      "2015-01-01 00:00:00+00:00    2651.0\n",
      "2015-01-01 01:00:00+00:00    2412.0\n",
      "2015-01-01 02:00:00+00:00    2256.0\n",
      "2015-01-01 03:00:00+00:00    2170.0\n",
      "2015-01-01 04:00:00+00:00    2136.0\n",
      "Name: IRL, dtype: float64\n"
     ]
    },
    {
     "name": "stderr",
     "output_type": "stream",
     "text": [
      "WARNING:pypsa.consistency:The following buses have carriers which are not defined:\n",
      "Index(['electricity bus'], dtype='object', name='Bus')\n",
      "WARNING:pypsa.consistency:The following buses have carriers which are not defined:\n",
      "Index(['electricity bus'], dtype='object', name='Bus')\n",
      "INFO:linopy.model: Solve problem using Gurobi solver\n",
      "INFO:linopy.model:Solver options:\n",
      " - OutputFlag: 0\n",
      "INFO:linopy.io:Writing objective.\n",
      "Writing constraints.: 100%|\u001b[38;2;128;191;255m██████████\u001b[0m| 6/6 [00:00<00:00, 18.13it/s]\n",
      "Writing continuous variables.: 100%|\u001b[38;2;128;191;255m██████████\u001b[0m| 2/2 [00:00<00:00, 35.73it/s]\n",
      "INFO:linopy.io: Writing time: 0.42s\n"
     ]
    },
    {
     "name": "stdout",
     "output_type": "stream",
     "text": [
      "Set parameter Username\n"
     ]
    },
    {
     "name": "stderr",
     "output_type": "stream",
     "text": [
      "INFO:gurobipy:Set parameter Username\n"
     ]
    },
    {
     "name": "stdout",
     "output_type": "stream",
     "text": [
      "Academic license - for non-commercial use only - expires 2026-02-12\n"
     ]
    },
    {
     "name": "stderr",
     "output_type": "stream",
     "text": [
      "INFO:gurobipy:Academic license - for non-commercial use only - expires 2026-02-12\n"
     ]
    },
    {
     "name": "stdout",
     "output_type": "stream",
     "text": [
      "Read LP format model from file /private/var/folders/kq/4zrjw9c97lz3tyvhdfpynqqc0000gn/T/linopy-problem-3xj8qbd6.lp\n"
     ]
    },
    {
     "name": "stderr",
     "output_type": "stream",
     "text": [
      "INFO:gurobipy:Read LP format model from file /private/var/folders/kq/4zrjw9c97lz3tyvhdfpynqqc0000gn/T/linopy-problem-3xj8qbd6.lp\n"
     ]
    },
    {
     "name": "stdout",
     "output_type": "stream",
     "text": [
      "Reading time = 0.12 seconds\n"
     ]
    },
    {
     "name": "stderr",
     "output_type": "stream",
     "text": [
      "INFO:gurobipy:Reading time = 0.12 seconds\n"
     ]
    },
    {
     "name": "stdout",
     "output_type": "stream",
     "text": [
      "obj: 131415 rows, 61327 columns, 267194 nonzeros\n"
     ]
    },
    {
     "name": "stderr",
     "output_type": "stream",
     "text": [
      "INFO:gurobipy:obj: 131415 rows, 61327 columns, 267194 nonzeros\n",
      "INFO:linopy.constants: Optimization successful: \n",
      "Status: ok\n",
      "Termination condition: optimal\n",
      "Solution: 61327 primals, 131415 duals\n",
      "Objective: 1.70e+09\n",
      "Solver model: available\n",
      "Solver message: 2\n",
      "\n",
      "INFO:pypsa.optimization.optimize:The shadow-prices of the constraints Generator-ext-p-lower, Generator-ext-p-upper were not assigned to the network.\n"
     ]
    },
    {
     "name": "stdout",
     "output_type": "stream",
     "text": [
      "utc_time\n",
      "2015-01-01 00:00:00+00:00    2651.0\n",
      "2015-01-01 01:00:00+00:00    2412.0\n",
      "2015-01-01 02:00:00+00:00    2256.0\n",
      "2015-01-01 03:00:00+00:00    2170.0\n",
      "2015-01-01 04:00:00+00:00    2136.0\n",
      "Name: IRL, dtype: float64\n"
     ]
    },
    {
     "name": "stderr",
     "output_type": "stream",
     "text": [
      "WARNING:pypsa.consistency:The following buses have carriers which are not defined:\n",
      "Index(['electricity bus'], dtype='object', name='Bus')\n",
      "WARNING:pypsa.consistency:The following buses have carriers which are not defined:\n",
      "Index(['electricity bus'], dtype='object', name='Bus')\n",
      "INFO:linopy.model: Solve problem using Gurobi solver\n",
      "INFO:linopy.model:Solver options:\n",
      " - OutputFlag: 0\n",
      "INFO:linopy.io:Writing objective.\n",
      "Writing constraints.: 100%|\u001b[38;2;128;191;255m██████████\u001b[0m| 6/6 [00:00<00:00, 19.98it/s]\n",
      "Writing continuous variables.: 100%|\u001b[38;2;128;191;255m██████████\u001b[0m| 2/2 [00:00<00:00, 38.97it/s]\n",
      "INFO:linopy.io: Writing time: 0.39s\n"
     ]
    },
    {
     "name": "stdout",
     "output_type": "stream",
     "text": [
      "Set parameter Username\n"
     ]
    },
    {
     "name": "stderr",
     "output_type": "stream",
     "text": [
      "INFO:gurobipy:Set parameter Username\n"
     ]
    },
    {
     "name": "stdout",
     "output_type": "stream",
     "text": [
      "Academic license - for non-commercial use only - expires 2026-02-12\n"
     ]
    },
    {
     "name": "stderr",
     "output_type": "stream",
     "text": [
      "INFO:gurobipy:Academic license - for non-commercial use only - expires 2026-02-12\n"
     ]
    },
    {
     "name": "stdout",
     "output_type": "stream",
     "text": [
      "Read LP format model from file /private/var/folders/kq/4zrjw9c97lz3tyvhdfpynqqc0000gn/T/linopy-problem-i79isigk.lp\n"
     ]
    },
    {
     "name": "stderr",
     "output_type": "stream",
     "text": [
      "INFO:gurobipy:Read LP format model from file /private/var/folders/kq/4zrjw9c97lz3tyvhdfpynqqc0000gn/T/linopy-problem-i79isigk.lp\n"
     ]
    },
    {
     "name": "stdout",
     "output_type": "stream",
     "text": [
      "Reading time = 0.12 seconds\n"
     ]
    },
    {
     "name": "stderr",
     "output_type": "stream",
     "text": [
      "INFO:gurobipy:Reading time = 0.12 seconds\n"
     ]
    },
    {
     "name": "stdout",
     "output_type": "stream",
     "text": [
      "obj: 131415 rows, 61327 columns, 267194 nonzeros\n"
     ]
    },
    {
     "name": "stderr",
     "output_type": "stream",
     "text": [
      "INFO:gurobipy:obj: 131415 rows, 61327 columns, 267194 nonzeros\n",
      "INFO:linopy.constants: Optimization successful: \n",
      "Status: ok\n",
      "Termination condition: optimal\n",
      "Solution: 61327 primals, 131415 duals\n",
      "Objective: 1.70e+09\n",
      "Solver model: available\n",
      "Solver message: 2\n",
      "\n",
      "INFO:pypsa.optimization.optimize:The shadow-prices of the constraints Generator-ext-p-lower, Generator-ext-p-upper were not assigned to the network.\n"
     ]
    }
   ],
   "source": [
    "objectives = {}\n",
    "capacities_dic = {}\n",
    "loadConsumptions = {}\n",
    "generations = {}\n",
    "snapshots = {}\n",
    "for Co2_limit in range(2730000, 2900000, 30000):\n",
    "    objective, capacities, loadConsumption, generation, snapshot, status = optimizer(2015, Co2_limit)\n",
    "    if status[1] == \"optimal\":\n",
    "        objectives[Co2_limit] = objective\n",
    "        capacities_dic[Co2_limit] = capacities\n",
    "        loadConsumptions[Co2_limit] = loadConsumption\n",
    "        generations[Co2_limit] = generation\n",
    "        snapshots[Co2_limit] = snapshot\n",
    "    "
   ]
  },
  {
   "cell_type": "code",
   "execution_count": null,
   "metadata": {},
   "outputs": [],
   "source": [
    "from plotly.subplots import make_subplots\n",
    "\n",
    "# Create a 2-row, 3-column subplot layout\n",
    "fig = make_subplots(rows=2, cols=3, \n",
    "                    specs=[[{'type': 'domain'}]*3, [{'type': 'domain'}]*3],\n",
    "                    subplot_titles=[f\"CO2 limit: {limit} tonCO2\" for limit in objectives.keys()])\n",
    "\n",
    "colors = ['blue', 'orange', 'brown', 'grey', 'green', 'black', 'purple']\n",
    "labels = ['onshore wind', 'solar', 'gas (OCGT)', 'coal', 'biomass', 'oil', 'offshore wind']\n",
    "\n",
    "# Add a pie chart for each CO2 limit\n",
    "row, col = 1, 1\n",
    "for i, co2_limit in enumerate(objectives.keys()):\n",
    "    gen = generations[co2_limit]\n",
    "    sizes = [\n",
    "        gen['onshorewind'].sum(),\n",
    "        gen['solar'].sum(),\n",
    "        gen['OCGT'].sum(),\n",
    "        gen['Coal'].sum(),\n",
    "        gen['Biomass'].sum(),\n",
    "        gen['Oil'].sum(),\n",
    "        gen['offshorewind'].sum()\n",
    "    ]\n",
    "\n",
    "    fig.add_trace(go.Pie(labels=labels, values=sizes, marker=dict(colors=colors), name=str(co2_limit)),\n",
    "                  row=row, col=col)\n",
    "\n",
    "    # Update row/col\n",
    "    col += 1\n",
    "    if col > 3:\n",
    "        col = 1\n",
    "        row += 1\n",
    "\n",
    "fig.update_layout(title_text=\"Electricity Mix for different CO2 Limits\", height=700, width=1000)\n",
    "fig.show()\n",
    "pio.write_image(fig, \"electricity_mix_co2_constraint.pdf\", format='pdf')"
   ]
  },
  {
   "cell_type": "markdown",
   "metadata": {},
   "source": [
    "Based on research, the CO2-emissions from electricity production was 7.56mT CO2-eq in 2023. This will now be the limit:\n"
   ]
  },
  {
   "cell_type": "code",
   "execution_count": 20,
   "metadata": {},
   "outputs": [
    {
     "name": "stdout",
     "output_type": "stream",
     "text": [
      "utc_time\n",
      "2015-01-01 00:00:00+00:00    2651.0\n",
      "2015-01-01 01:00:00+00:00    2412.0\n",
      "2015-01-01 02:00:00+00:00    2256.0\n",
      "2015-01-01 03:00:00+00:00    2170.0\n",
      "2015-01-01 04:00:00+00:00    2136.0\n",
      "Name: IRL, dtype: float64\n"
     ]
    },
    {
     "name": "stderr",
     "output_type": "stream",
     "text": [
      "WARNING:pypsa.consistency:The following buses have carriers which are not defined:\n",
      "Index(['electricity bus'], dtype='object', name='Bus')\n",
      "WARNING:pypsa.consistency:The following buses have carriers which are not defined:\n",
      "Index(['electricity bus'], dtype='object', name='Bus')\n",
      "INFO:linopy.model: Solve problem using Gurobi solver\n",
      "INFO:linopy.model:Solver options:\n",
      " - OutputFlag: 0\n",
      "INFO:linopy.io:Writing objective.\n",
      "Writing constraints.: 100%|\u001b[38;2;128;191;255m██████████\u001b[0m| 6/6 [00:00<00:00, 20.31it/s]\n",
      "Writing continuous variables.: 100%|\u001b[38;2;128;191;255m██████████\u001b[0m| 2/2 [00:00<00:00, 40.55it/s]\n",
      "INFO:linopy.io: Writing time: 0.38s\n"
     ]
    },
    {
     "name": "stdout",
     "output_type": "stream",
     "text": [
      "Set parameter Username\n"
     ]
    },
    {
     "name": "stderr",
     "output_type": "stream",
     "text": [
      "INFO:gurobipy:Set parameter Username\n"
     ]
    },
    {
     "name": "stdout",
     "output_type": "stream",
     "text": [
      "Academic license - for non-commercial use only - expires 2026-02-12\n"
     ]
    },
    {
     "name": "stderr",
     "output_type": "stream",
     "text": [
      "INFO:gurobipy:Academic license - for non-commercial use only - expires 2026-02-12\n"
     ]
    },
    {
     "name": "stdout",
     "output_type": "stream",
     "text": [
      "Read LP format model from file /private/var/folders/kq/4zrjw9c97lz3tyvhdfpynqqc0000gn/T/linopy-problem-cgvzk_4i.lp\n"
     ]
    },
    {
     "name": "stderr",
     "output_type": "stream",
     "text": [
      "INFO:gurobipy:Read LP format model from file /private/var/folders/kq/4zrjw9c97lz3tyvhdfpynqqc0000gn/T/linopy-problem-cgvzk_4i.lp\n"
     ]
    },
    {
     "name": "stdout",
     "output_type": "stream",
     "text": [
      "Reading time = 0.12 seconds\n"
     ]
    },
    {
     "name": "stderr",
     "output_type": "stream",
     "text": [
      "INFO:gurobipy:Reading time = 0.12 seconds\n"
     ]
    },
    {
     "name": "stdout",
     "output_type": "stream",
     "text": [
      "obj: 131415 rows, 61327 columns, 267194 nonzeros\n"
     ]
    },
    {
     "name": "stderr",
     "output_type": "stream",
     "text": [
      "INFO:gurobipy:obj: 131415 rows, 61327 columns, 267194 nonzeros\n",
      "INFO:linopy.constants: Optimization successful: \n",
      "Status: ok\n",
      "Termination condition: optimal\n",
      "Solution: 61327 primals, 131415 duals\n",
      "Objective: 1.70e+09\n",
      "Solver model: available\n",
      "Solver message: 2\n",
      "\n",
      "INFO:pypsa.optimization.optimize:The shadow-prices of the constraints Generator-ext-p-lower, Generator-ext-p-upper were not assigned to the network.\n"
     ]
    },
    {
     "data": {
      "application/vnd.plotly.v1+json": {
       "config": {
        "plotlyServerURL": "https://plot.ly"
       },
       "data": [
        {
         "labels": [
          "onshore wind",
          "solar",
          "gas (OCGT)",
          "coal",
          "biomass",
          "oil",
          "offshore wind"
         ],
         "marker": {
          "colors": [
           "blue",
           "orange",
           "brown",
           "grey",
           "green",
           "black",
           "purple"
          ]
         },
         "type": "pie",
         "values": [
          11567578.5176,
          0,
          14425718.301599998,
          0,
          561235.5255999999,
          17733.65519999999,
          0
         ]
        }
       ],
       "layout": {
        "annotations": [
         {
          "font": {
           "size": 20
          },
          "showarrow": false,
          "text": "CO2 limit: 7560000 tonCO2",
          "x": 0.5,
          "y": 1.3
         }
        ],
        "template": {
         "data": {
          "bar": [
           {
            "error_x": {
             "color": "#2a3f5f"
            },
            "error_y": {
             "color": "#2a3f5f"
            },
            "marker": {
             "line": {
              "color": "#E5ECF6",
              "width": 0.5
             },
             "pattern": {
              "fillmode": "overlay",
              "size": 10,
              "solidity": 0.2
             }
            },
            "type": "bar"
           }
          ],
          "barpolar": [
           {
            "marker": {
             "line": {
              "color": "#E5ECF6",
              "width": 0.5
             },
             "pattern": {
              "fillmode": "overlay",
              "size": 10,
              "solidity": 0.2
             }
            },
            "type": "barpolar"
           }
          ],
          "carpet": [
           {
            "aaxis": {
             "endlinecolor": "#2a3f5f",
             "gridcolor": "white",
             "linecolor": "white",
             "minorgridcolor": "white",
             "startlinecolor": "#2a3f5f"
            },
            "baxis": {
             "endlinecolor": "#2a3f5f",
             "gridcolor": "white",
             "linecolor": "white",
             "minorgridcolor": "white",
             "startlinecolor": "#2a3f5f"
            },
            "type": "carpet"
           }
          ],
          "choropleth": [
           {
            "colorbar": {
             "outlinewidth": 0,
             "ticks": ""
            },
            "type": "choropleth"
           }
          ],
          "contour": [
           {
            "colorbar": {
             "outlinewidth": 0,
             "ticks": ""
            },
            "colorscale": [
             [
              0,
              "#0d0887"
             ],
             [
              0.1111111111111111,
              "#46039f"
             ],
             [
              0.2222222222222222,
              "#7201a8"
             ],
             [
              0.3333333333333333,
              "#9c179e"
             ],
             [
              0.4444444444444444,
              "#bd3786"
             ],
             [
              0.5555555555555556,
              "#d8576b"
             ],
             [
              0.6666666666666666,
              "#ed7953"
             ],
             [
              0.7777777777777778,
              "#fb9f3a"
             ],
             [
              0.8888888888888888,
              "#fdca26"
             ],
             [
              1,
              "#f0f921"
             ]
            ],
            "type": "contour"
           }
          ],
          "contourcarpet": [
           {
            "colorbar": {
             "outlinewidth": 0,
             "ticks": ""
            },
            "type": "contourcarpet"
           }
          ],
          "heatmap": [
           {
            "colorbar": {
             "outlinewidth": 0,
             "ticks": ""
            },
            "colorscale": [
             [
              0,
              "#0d0887"
             ],
             [
              0.1111111111111111,
              "#46039f"
             ],
             [
              0.2222222222222222,
              "#7201a8"
             ],
             [
              0.3333333333333333,
              "#9c179e"
             ],
             [
              0.4444444444444444,
              "#bd3786"
             ],
             [
              0.5555555555555556,
              "#d8576b"
             ],
             [
              0.6666666666666666,
              "#ed7953"
             ],
             [
              0.7777777777777778,
              "#fb9f3a"
             ],
             [
              0.8888888888888888,
              "#fdca26"
             ],
             [
              1,
              "#f0f921"
             ]
            ],
            "type": "heatmap"
           }
          ],
          "heatmapgl": [
           {
            "colorbar": {
             "outlinewidth": 0,
             "ticks": ""
            },
            "colorscale": [
             [
              0,
              "#0d0887"
             ],
             [
              0.1111111111111111,
              "#46039f"
             ],
             [
              0.2222222222222222,
              "#7201a8"
             ],
             [
              0.3333333333333333,
              "#9c179e"
             ],
             [
              0.4444444444444444,
              "#bd3786"
             ],
             [
              0.5555555555555556,
              "#d8576b"
             ],
             [
              0.6666666666666666,
              "#ed7953"
             ],
             [
              0.7777777777777778,
              "#fb9f3a"
             ],
             [
              0.8888888888888888,
              "#fdca26"
             ],
             [
              1,
              "#f0f921"
             ]
            ],
            "type": "heatmapgl"
           }
          ],
          "histogram": [
           {
            "marker": {
             "pattern": {
              "fillmode": "overlay",
              "size": 10,
              "solidity": 0.2
             }
            },
            "type": "histogram"
           }
          ],
          "histogram2d": [
           {
            "colorbar": {
             "outlinewidth": 0,
             "ticks": ""
            },
            "colorscale": [
             [
              0,
              "#0d0887"
             ],
             [
              0.1111111111111111,
              "#46039f"
             ],
             [
              0.2222222222222222,
              "#7201a8"
             ],
             [
              0.3333333333333333,
              "#9c179e"
             ],
             [
              0.4444444444444444,
              "#bd3786"
             ],
             [
              0.5555555555555556,
              "#d8576b"
             ],
             [
              0.6666666666666666,
              "#ed7953"
             ],
             [
              0.7777777777777778,
              "#fb9f3a"
             ],
             [
              0.8888888888888888,
              "#fdca26"
             ],
             [
              1,
              "#f0f921"
             ]
            ],
            "type": "histogram2d"
           }
          ],
          "histogram2dcontour": [
           {
            "colorbar": {
             "outlinewidth": 0,
             "ticks": ""
            },
            "colorscale": [
             [
              0,
              "#0d0887"
             ],
             [
              0.1111111111111111,
              "#46039f"
             ],
             [
              0.2222222222222222,
              "#7201a8"
             ],
             [
              0.3333333333333333,
              "#9c179e"
             ],
             [
              0.4444444444444444,
              "#bd3786"
             ],
             [
              0.5555555555555556,
              "#d8576b"
             ],
             [
              0.6666666666666666,
              "#ed7953"
             ],
             [
              0.7777777777777778,
              "#fb9f3a"
             ],
             [
              0.8888888888888888,
              "#fdca26"
             ],
             [
              1,
              "#f0f921"
             ]
            ],
            "type": "histogram2dcontour"
           }
          ],
          "mesh3d": [
           {
            "colorbar": {
             "outlinewidth": 0,
             "ticks": ""
            },
            "type": "mesh3d"
           }
          ],
          "parcoords": [
           {
            "line": {
             "colorbar": {
              "outlinewidth": 0,
              "ticks": ""
             }
            },
            "type": "parcoords"
           }
          ],
          "pie": [
           {
            "automargin": true,
            "type": "pie"
           }
          ],
          "scatter": [
           {
            "fillpattern": {
             "fillmode": "overlay",
             "size": 10,
             "solidity": 0.2
            },
            "type": "scatter"
           }
          ],
          "scatter3d": [
           {
            "line": {
             "colorbar": {
              "outlinewidth": 0,
              "ticks": ""
             }
            },
            "marker": {
             "colorbar": {
              "outlinewidth": 0,
              "ticks": ""
             }
            },
            "type": "scatter3d"
           }
          ],
          "scattercarpet": [
           {
            "marker": {
             "colorbar": {
              "outlinewidth": 0,
              "ticks": ""
             }
            },
            "type": "scattercarpet"
           }
          ],
          "scattergeo": [
           {
            "marker": {
             "colorbar": {
              "outlinewidth": 0,
              "ticks": ""
             }
            },
            "type": "scattergeo"
           }
          ],
          "scattergl": [
           {
            "marker": {
             "colorbar": {
              "outlinewidth": 0,
              "ticks": ""
             }
            },
            "type": "scattergl"
           }
          ],
          "scattermapbox": [
           {
            "marker": {
             "colorbar": {
              "outlinewidth": 0,
              "ticks": ""
             }
            },
            "type": "scattermapbox"
           }
          ],
          "scatterpolar": [
           {
            "marker": {
             "colorbar": {
              "outlinewidth": 0,
              "ticks": ""
             }
            },
            "type": "scatterpolar"
           }
          ],
          "scatterpolargl": [
           {
            "marker": {
             "colorbar": {
              "outlinewidth": 0,
              "ticks": ""
             }
            },
            "type": "scatterpolargl"
           }
          ],
          "scatterternary": [
           {
            "marker": {
             "colorbar": {
              "outlinewidth": 0,
              "ticks": ""
             }
            },
            "type": "scatterternary"
           }
          ],
          "surface": [
           {
            "colorbar": {
             "outlinewidth": 0,
             "ticks": ""
            },
            "colorscale": [
             [
              0,
              "#0d0887"
             ],
             [
              0.1111111111111111,
              "#46039f"
             ],
             [
              0.2222222222222222,
              "#7201a8"
             ],
             [
              0.3333333333333333,
              "#9c179e"
             ],
             [
              0.4444444444444444,
              "#bd3786"
             ],
             [
              0.5555555555555556,
              "#d8576b"
             ],
             [
              0.6666666666666666,
              "#ed7953"
             ],
             [
              0.7777777777777778,
              "#fb9f3a"
             ],
             [
              0.8888888888888888,
              "#fdca26"
             ],
             [
              1,
              "#f0f921"
             ]
            ],
            "type": "surface"
           }
          ],
          "table": [
           {
            "cells": {
             "fill": {
              "color": "#EBF0F8"
             },
             "line": {
              "color": "white"
             }
            },
            "header": {
             "fill": {
              "color": "#C8D4E3"
             },
             "line": {
              "color": "white"
             }
            },
            "type": "table"
           }
          ]
         },
         "layout": {
          "annotationdefaults": {
           "arrowcolor": "#2a3f5f",
           "arrowhead": 0,
           "arrowwidth": 1
          },
          "autotypenumbers": "strict",
          "coloraxis": {
           "colorbar": {
            "outlinewidth": 0,
            "ticks": ""
           }
          },
          "colorscale": {
           "diverging": [
            [
             0,
             "#8e0152"
            ],
            [
             0.1,
             "#c51b7d"
            ],
            [
             0.2,
             "#de77ae"
            ],
            [
             0.3,
             "#f1b6da"
            ],
            [
             0.4,
             "#fde0ef"
            ],
            [
             0.5,
             "#f7f7f7"
            ],
            [
             0.6,
             "#e6f5d0"
            ],
            [
             0.7,
             "#b8e186"
            ],
            [
             0.8,
             "#7fbc41"
            ],
            [
             0.9,
             "#4d9221"
            ],
            [
             1,
             "#276419"
            ]
           ],
           "sequential": [
            [
             0,
             "#0d0887"
            ],
            [
             0.1111111111111111,
             "#46039f"
            ],
            [
             0.2222222222222222,
             "#7201a8"
            ],
            [
             0.3333333333333333,
             "#9c179e"
            ],
            [
             0.4444444444444444,
             "#bd3786"
            ],
            [
             0.5555555555555556,
             "#d8576b"
            ],
            [
             0.6666666666666666,
             "#ed7953"
            ],
            [
             0.7777777777777778,
             "#fb9f3a"
            ],
            [
             0.8888888888888888,
             "#fdca26"
            ],
            [
             1,
             "#f0f921"
            ]
           ],
           "sequentialminus": [
            [
             0,
             "#0d0887"
            ],
            [
             0.1111111111111111,
             "#46039f"
            ],
            [
             0.2222222222222222,
             "#7201a8"
            ],
            [
             0.3333333333333333,
             "#9c179e"
            ],
            [
             0.4444444444444444,
             "#bd3786"
            ],
            [
             0.5555555555555556,
             "#d8576b"
            ],
            [
             0.6666666666666666,
             "#ed7953"
            ],
            [
             0.7777777777777778,
             "#fb9f3a"
            ],
            [
             0.8888888888888888,
             "#fdca26"
            ],
            [
             1,
             "#f0f921"
            ]
           ]
          },
          "colorway": [
           "#636efa",
           "#EF553B",
           "#00cc96",
           "#ab63fa",
           "#FFA15A",
           "#19d3f3",
           "#FF6692",
           "#B6E880",
           "#FF97FF",
           "#FECB52"
          ],
          "font": {
           "color": "#2a3f5f"
          },
          "geo": {
           "bgcolor": "white",
           "lakecolor": "white",
           "landcolor": "#E5ECF6",
           "showlakes": true,
           "showland": true,
           "subunitcolor": "white"
          },
          "hoverlabel": {
           "align": "left"
          },
          "hovermode": "closest",
          "mapbox": {
           "style": "light"
          },
          "paper_bgcolor": "white",
          "plot_bgcolor": "#E5ECF6",
          "polar": {
           "angularaxis": {
            "gridcolor": "white",
            "linecolor": "white",
            "ticks": ""
           },
           "bgcolor": "#E5ECF6",
           "radialaxis": {
            "gridcolor": "white",
            "linecolor": "white",
            "ticks": ""
           }
          },
          "scene": {
           "xaxis": {
            "backgroundcolor": "#E5ECF6",
            "gridcolor": "white",
            "gridwidth": 2,
            "linecolor": "white",
            "showbackground": true,
            "ticks": "",
            "zerolinecolor": "white"
           },
           "yaxis": {
            "backgroundcolor": "#E5ECF6",
            "gridcolor": "white",
            "gridwidth": 2,
            "linecolor": "white",
            "showbackground": true,
            "ticks": "",
            "zerolinecolor": "white"
           },
           "zaxis": {
            "backgroundcolor": "#E5ECF6",
            "gridcolor": "white",
            "gridwidth": 2,
            "linecolor": "white",
            "showbackground": true,
            "ticks": "",
            "zerolinecolor": "white"
           }
          },
          "shapedefaults": {
           "line": {
            "color": "#2a3f5f"
           }
          },
          "ternary": {
           "aaxis": {
            "gridcolor": "white",
            "linecolor": "white",
            "ticks": ""
           },
           "baxis": {
            "gridcolor": "white",
            "linecolor": "white",
            "ticks": ""
           },
           "bgcolor": "#E5ECF6",
           "caxis": {
            "gridcolor": "white",
            "linecolor": "white",
            "ticks": ""
           }
          },
          "title": {
           "x": 0.05
          },
          "xaxis": {
           "automargin": true,
           "gridcolor": "white",
           "linecolor": "white",
           "ticks": "",
           "title": {
            "standoff": 15
           },
           "zerolinecolor": "white",
           "zerolinewidth": 2
          },
          "yaxis": {
           "automargin": true,
           "gridcolor": "white",
           "linecolor": "white",
           "ticks": "",
           "title": {
            "standoff": 15
           },
           "zerolinecolor": "white",
           "zerolinewidth": 2
          }
         }
        },
        "title": {
         "text": "Electricity mix"
        }
       }
      }
     },
     "metadata": {},
     "output_type": "display_data"
    }
   ],
   "source": [
    "network.add(\"GlobalConstraint\",\n",
    "                 \"co2_limit\",\n",
    "                 type=\"primary_energy\",\n",
    "                 carrier_attribute=\"co2_emissions\",\n",
    "                 sense=\"<=\",\n",
    "                 constant=7560000,\n",
    "                 overwrite=True)\n",
    "objective, capacities, loadConsumption, generation, snapshot, status = optimizer(2015)\n",
    "\n",
    "plot_mix(generation, 7560000)"
   ]
  },
  {
   "cell_type": "code",
   "execution_count": null,
   "metadata": {},
   "outputs": [],
   "source": []
  },
  {
   "cell_type": "markdown",
   "metadata": {},
   "source": [
    "# C)\n",
    "\n",
    "In this task we will use a CO2 allowance of 3mT"
   ]
  },
  {
   "cell_type": "code",
   "execution_count": 21,
   "metadata": {},
   "outputs": [
    {
     "name": "stdout",
     "output_type": "stream",
     "text": [
      "utc_time\n",
      "2015-01-01 00:00:00+00:00    2651.0\n",
      "2015-01-01 01:00:00+00:00    2412.0\n",
      "2015-01-01 02:00:00+00:00    2256.0\n",
      "2015-01-01 03:00:00+00:00    2170.0\n",
      "2015-01-01 04:00:00+00:00    2136.0\n",
      "Name: IRL, dtype: float64\n"
     ]
    },
    {
     "name": "stderr",
     "output_type": "stream",
     "text": [
      "WARNING:pypsa.consistency:The following buses have carriers which are not defined:\n",
      "Index(['electricity bus'], dtype='object', name='Bus')\n",
      "WARNING:pypsa.consistency:The following buses have carriers which are not defined:\n",
      "Index(['electricity bus'], dtype='object', name='Bus')\n",
      "INFO:linopy.model: Solve problem using Gurobi solver\n",
      "INFO:linopy.model:Solver options:\n",
      " - OutputFlag: 0\n",
      "INFO:linopy.io:Writing objective.\n",
      "Writing constraints.: 100%|\u001b[38;2;128;191;255m██████████\u001b[0m| 6/6 [00:00<00:00, 20.84it/s]\n",
      "Writing continuous variables.: 100%|\u001b[38;2;128;191;255m██████████\u001b[0m| 2/2 [00:00<00:00, 40.50it/s]\n",
      "INFO:linopy.io: Writing time: 0.37s\n"
     ]
    },
    {
     "name": "stdout",
     "output_type": "stream",
     "text": [
      "Set parameter Username\n"
     ]
    },
    {
     "name": "stderr",
     "output_type": "stream",
     "text": [
      "INFO:gurobipy:Set parameter Username\n"
     ]
    },
    {
     "name": "stdout",
     "output_type": "stream",
     "text": [
      "Academic license - for non-commercial use only - expires 2026-02-12\n"
     ]
    },
    {
     "name": "stderr",
     "output_type": "stream",
     "text": [
      "INFO:gurobipy:Academic license - for non-commercial use only - expires 2026-02-12\n"
     ]
    },
    {
     "name": "stdout",
     "output_type": "stream",
     "text": [
      "Read LP format model from file /private/var/folders/kq/4zrjw9c97lz3tyvhdfpynqqc0000gn/T/linopy-problem-nnluna3i.lp\n"
     ]
    },
    {
     "name": "stderr",
     "output_type": "stream",
     "text": [
      "INFO:gurobipy:Read LP format model from file /private/var/folders/kq/4zrjw9c97lz3tyvhdfpynqqc0000gn/T/linopy-problem-nnluna3i.lp\n"
     ]
    },
    {
     "name": "stdout",
     "output_type": "stream",
     "text": [
      "Reading time = 0.12 seconds\n"
     ]
    },
    {
     "name": "stderr",
     "output_type": "stream",
     "text": [
      "INFO:gurobipy:Reading time = 0.12 seconds\n"
     ]
    },
    {
     "name": "stdout",
     "output_type": "stream",
     "text": [
      "obj: 131415 rows, 61327 columns, 267206 nonzeros\n"
     ]
    },
    {
     "name": "stderr",
     "output_type": "stream",
     "text": [
      "INFO:gurobipy:obj: 131415 rows, 61327 columns, 267206 nonzeros\n",
      "INFO:linopy.constants: Optimization successful: \n",
      "Status: ok\n",
      "Termination condition: optimal\n",
      "Solution: 61327 primals, 131415 duals\n",
      "Objective: 1.75e+09\n",
      "Solver model: available\n",
      "Solver message: 2\n",
      "\n",
      "INFO:pypsa.optimization.optimize:The shadow-prices of the constraints Generator-ext-p-lower, Generator-ext-p-upper were not assigned to the network.\n"
     ]
    },
    {
     "name": "stdout",
     "output_type": "stream",
     "text": [
      "Year 2013 is optimal\n",
      "utc_time\n",
      "2015-01-01 00:00:00+00:00    2651.0\n",
      "2015-01-01 01:00:00+00:00    2412.0\n",
      "2015-01-01 02:00:00+00:00    2256.0\n",
      "2015-01-01 03:00:00+00:00    2170.0\n",
      "2015-01-01 04:00:00+00:00    2136.0\n",
      "Name: IRL, dtype: float64\n"
     ]
    },
    {
     "name": "stderr",
     "output_type": "stream",
     "text": [
      "WARNING:pypsa.consistency:The following buses have carriers which are not defined:\n",
      "Index(['electricity bus'], dtype='object', name='Bus')\n",
      "WARNING:pypsa.consistency:The following buses have carriers which are not defined:\n",
      "Index(['electricity bus'], dtype='object', name='Bus')\n",
      "INFO:linopy.model: Solve problem using Gurobi solver\n",
      "INFO:linopy.model:Solver options:\n",
      " - OutputFlag: 0\n",
      "INFO:linopy.io:Writing objective.\n",
      "Writing constraints.: 100%|\u001b[38;2;128;191;255m██████████\u001b[0m| 6/6 [00:00<00:00, 19.74it/s]\n",
      "Writing continuous variables.: 100%|\u001b[38;2;128;191;255m██████████\u001b[0m| 2/2 [00:00<00:00, 38.85it/s]\n",
      "INFO:linopy.io: Writing time: 0.39s\n"
     ]
    },
    {
     "name": "stdout",
     "output_type": "stream",
     "text": [
      "Set parameter Username\n"
     ]
    },
    {
     "name": "stderr",
     "output_type": "stream",
     "text": [
      "INFO:gurobipy:Set parameter Username\n"
     ]
    },
    {
     "name": "stdout",
     "output_type": "stream",
     "text": [
      "Academic license - for non-commercial use only - expires 2026-02-12\n"
     ]
    },
    {
     "name": "stderr",
     "output_type": "stream",
     "text": [
      "INFO:gurobipy:Academic license - for non-commercial use only - expires 2026-02-12\n"
     ]
    },
    {
     "name": "stdout",
     "output_type": "stream",
     "text": [
      "Read LP format model from file /private/var/folders/kq/4zrjw9c97lz3tyvhdfpynqqc0000gn/T/linopy-problem-fqqa9bpo.lp\n"
     ]
    },
    {
     "name": "stderr",
     "output_type": "stream",
     "text": [
      "INFO:gurobipy:Read LP format model from file /private/var/folders/kq/4zrjw9c97lz3tyvhdfpynqqc0000gn/T/linopy-problem-fqqa9bpo.lp\n"
     ]
    },
    {
     "name": "stdout",
     "output_type": "stream",
     "text": [
      "Reading time = 0.12 seconds\n"
     ]
    },
    {
     "name": "stderr",
     "output_type": "stream",
     "text": [
      "INFO:gurobipy:Reading time = 0.12 seconds\n"
     ]
    },
    {
     "name": "stdout",
     "output_type": "stream",
     "text": [
      "obj: 131415 rows, 61327 columns, 267211 nonzeros\n"
     ]
    },
    {
     "name": "stderr",
     "output_type": "stream",
     "text": [
      "INFO:gurobipy:obj: 131415 rows, 61327 columns, 267211 nonzeros\n",
      "INFO:linopy.constants: Optimization successful: \n",
      "Status: ok\n",
      "Termination condition: optimal\n",
      "Solution: 61327 primals, 131415 duals\n",
      "Objective: 1.78e+09\n",
      "Solver model: available\n",
      "Solver message: 2\n",
      "\n",
      "INFO:pypsa.optimization.optimize:The shadow-prices of the constraints Generator-ext-p-lower, Generator-ext-p-upper were not assigned to the network.\n"
     ]
    },
    {
     "name": "stdout",
     "output_type": "stream",
     "text": [
      "Year 2014 is optimal\n",
      "utc_time\n",
      "2015-01-01 00:00:00+00:00    2651.0\n",
      "2015-01-01 01:00:00+00:00    2412.0\n",
      "2015-01-01 02:00:00+00:00    2256.0\n",
      "2015-01-01 03:00:00+00:00    2170.0\n",
      "2015-01-01 04:00:00+00:00    2136.0\n",
      "Name: IRL, dtype: float64\n"
     ]
    },
    {
     "name": "stderr",
     "output_type": "stream",
     "text": [
      "WARNING:pypsa.consistency:The following buses have carriers which are not defined:\n",
      "Index(['electricity bus'], dtype='object', name='Bus')\n",
      "WARNING:pypsa.consistency:The following buses have carriers which are not defined:\n",
      "Index(['electricity bus'], dtype='object', name='Bus')\n",
      "INFO:linopy.model: Solve problem using Gurobi solver\n",
      "INFO:linopy.model:Solver options:\n",
      " - OutputFlag: 0\n",
      "INFO:linopy.io:Writing objective.\n",
      "Writing constraints.: 100%|\u001b[38;2;128;191;255m██████████\u001b[0m| 6/6 [00:00<00:00, 19.90it/s]\n",
      "Writing continuous variables.: 100%|\u001b[38;2;128;191;255m██████████\u001b[0m| 2/2 [00:00<00:00, 38.21it/s]\n",
      "INFO:linopy.io: Writing time: 0.39s\n"
     ]
    },
    {
     "name": "stdout",
     "output_type": "stream",
     "text": [
      "Set parameter Username\n"
     ]
    },
    {
     "name": "stderr",
     "output_type": "stream",
     "text": [
      "INFO:gurobipy:Set parameter Username\n"
     ]
    },
    {
     "name": "stdout",
     "output_type": "stream",
     "text": [
      "Academic license - for non-commercial use only - expires 2026-02-12\n"
     ]
    },
    {
     "name": "stderr",
     "output_type": "stream",
     "text": [
      "INFO:gurobipy:Academic license - for non-commercial use only - expires 2026-02-12\n"
     ]
    },
    {
     "name": "stdout",
     "output_type": "stream",
     "text": [
      "Read LP format model from file /private/var/folders/kq/4zrjw9c97lz3tyvhdfpynqqc0000gn/T/linopy-problem-ove2k7om.lp\n"
     ]
    },
    {
     "name": "stderr",
     "output_type": "stream",
     "text": [
      "INFO:gurobipy:Read LP format model from file /private/var/folders/kq/4zrjw9c97lz3tyvhdfpynqqc0000gn/T/linopy-problem-ove2k7om.lp\n"
     ]
    },
    {
     "name": "stdout",
     "output_type": "stream",
     "text": [
      "Reading time = 0.13 seconds\n"
     ]
    },
    {
     "name": "stderr",
     "output_type": "stream",
     "text": [
      "INFO:gurobipy:Reading time = 0.13 seconds\n"
     ]
    },
    {
     "name": "stdout",
     "output_type": "stream",
     "text": [
      "obj: 131415 rows, 61327 columns, 267194 nonzeros\n"
     ]
    },
    {
     "name": "stderr",
     "output_type": "stream",
     "text": [
      "INFO:gurobipy:obj: 131415 rows, 61327 columns, 267194 nonzeros\n",
      "INFO:linopy.constants: Optimization successful: \n",
      "Status: ok\n",
      "Termination condition: optimal\n",
      "Solution: 61327 primals, 131415 duals\n",
      "Objective: 1.70e+09\n",
      "Solver model: available\n",
      "Solver message: 2\n",
      "\n",
      "INFO:pypsa.optimization.optimize:The shadow-prices of the constraints Generator-ext-p-lower, Generator-ext-p-upper were not assigned to the network.\n"
     ]
    },
    {
     "name": "stdout",
     "output_type": "stream",
     "text": [
      "Year 2015 is optimal\n"
     ]
    }
   ],
   "source": [
    "network.add(\"GlobalConstraint\",\n",
    "                 \"co2_limit\",\n",
    "                 type=\"primary_energy\",\n",
    "                 carrier_attribute=\"co2_emissions\",\n",
    "                 sense=\"<=\",\n",
    "                 constant=3000000,\n",
    "                 overwrite=True)\n",
    "\n",
    "objectives = {}\n",
    "capacities_dic = {}\n",
    "loadConsumptions = {}\n",
    "generations = {}\n",
    "snapshots = {}\n",
    "\n",
    "\n",
    "for year in range(2013, 2017):\n",
    "    if not calendar.isleap(year):  # only hit non-leap years\n",
    "        objective, capacities, loadConsumption, generation, snapshot, status = optimizer(year)\n",
    "        if status[1] == \"optimal\":\n",
    "            print(f\"Year {year} is optimal\")\n",
    "            objectives[year] = objective\n",
    "            capacities_dic[year] = capacities\n",
    "            loadConsumptions[year] = loadConsumption\n",
    "            generations[year] = generation\n",
    "            snapshots[year] = snapshot\n",
    "\n"
   ]
  },
  {
   "cell_type": "markdown",
   "metadata": {},
   "source": [
    "## Objective with optimal CO2 limit for 2015"
   ]
  },
  {
   "cell_type": "code",
   "execution_count": 22,
   "metadata": {},
   "outputs": [
    {
     "name": "stdout",
     "output_type": "stream",
     "text": [
      "utc_time\n",
      "2015-01-01 00:00:00+00:00    2651.0\n",
      "2015-01-01 01:00:00+00:00    2412.0\n",
      "2015-01-01 02:00:00+00:00    2256.0\n",
      "2015-01-01 03:00:00+00:00    2170.0\n",
      "2015-01-01 04:00:00+00:00    2136.0\n",
      "Name: IRL, dtype: float64\n"
     ]
    },
    {
     "name": "stderr",
     "output_type": "stream",
     "text": [
      "WARNING:pypsa.consistency:The following buses have carriers which are not defined:\n",
      "Index(['electricity bus'], dtype='object', name='Bus')\n",
      "WARNING:pypsa.consistency:The following buses have carriers which are not defined:\n",
      "Index(['electricity bus'], dtype='object', name='Bus')\n",
      "INFO:linopy.model: Solve problem using Gurobi solver\n",
      "INFO:linopy.model:Solver options:\n",
      " - OutputFlag: 0\n",
      "INFO:linopy.io:Writing objective.\n",
      "Writing constraints.: 100%|\u001b[38;2;128;191;255m██████████\u001b[0m| 6/6 [00:00<00:00, 20.24it/s]\n",
      "Writing continuous variables.: 100%|\u001b[38;2;128;191;255m██████████\u001b[0m| 2/2 [00:00<00:00, 39.77it/s]\n",
      "INFO:linopy.io: Writing time: 0.38s\n"
     ]
    },
    {
     "name": "stdout",
     "output_type": "stream",
     "text": [
      "Set parameter Username\n"
     ]
    },
    {
     "name": "stderr",
     "output_type": "stream",
     "text": [
      "INFO:gurobipy:Set parameter Username\n"
     ]
    },
    {
     "name": "stdout",
     "output_type": "stream",
     "text": [
      "Academic license - for non-commercial use only - expires 2026-02-12\n"
     ]
    },
    {
     "name": "stderr",
     "output_type": "stream",
     "text": [
      "INFO:gurobipy:Academic license - for non-commercial use only - expires 2026-02-12\n"
     ]
    },
    {
     "name": "stdout",
     "output_type": "stream",
     "text": [
      "Read LP format model from file /private/var/folders/kq/4zrjw9c97lz3tyvhdfpynqqc0000gn/T/linopy-problem-8ve4_kzi.lp\n"
     ]
    },
    {
     "name": "stderr",
     "output_type": "stream",
     "text": [
      "INFO:gurobipy:Read LP format model from file /private/var/folders/kq/4zrjw9c97lz3tyvhdfpynqqc0000gn/T/linopy-problem-8ve4_kzi.lp\n"
     ]
    },
    {
     "name": "stdout",
     "output_type": "stream",
     "text": [
      "Reading time = 0.12 seconds\n"
     ]
    },
    {
     "name": "stderr",
     "output_type": "stream",
     "text": [
      "INFO:gurobipy:Reading time = 0.12 seconds\n"
     ]
    },
    {
     "name": "stdout",
     "output_type": "stream",
     "text": [
      "obj: 131415 rows, 61327 columns, 267194 nonzeros\n"
     ]
    },
    {
     "name": "stderr",
     "output_type": "stream",
     "text": [
      "INFO:gurobipy:obj: 131415 rows, 61327 columns, 267194 nonzeros\n",
      "INFO:linopy.solvers:Unable to save solution file. Raised error: Unable to retrieve attribute 'X'\n",
      "WARNING:linopy.constants:Optimization potentially failed: \n",
      "Status: aborted\n",
      "Termination condition: user_interrupt\n",
      "Solution: 0 primals, 0 duals\n",
      "Objective: nan\n",
      "Solver model: available\n",
      "Solver message: 11\n",
      "\n"
     ]
    },
    {
     "name": "stdout",
     "output_type": "stream",
     "text": [
      "\n",
      "Interrupt request received\n"
     ]
    }
   ],
   "source": [
    "objective_optimalCO2, capacities, loadConsumption, generation, snapshot, status = optimizer(\"2015\")\n"
   ]
  },
  {
   "cell_type": "code",
   "execution_count": null,
   "metadata": {},
   "outputs": [],
   "source": [
    "#make a 100% stacket area chart of the capacities for all years\n",
    "def plot_capacities(years):\n",
    "    fig = go.Figure()\n",
    "\n",
    "    for generator in ['onshorewind', 'solar', 'OCGT', 'Coal', 'Biomass', 'Oil', 'offshorewind']:\n",
    "        fig.add_trace(go.Scatter(x=years, y=[capacities_dic[year][generator] for year in years],\n",
    "                                 mode='lines+markers',\n",
    "                                 name=generator))\n",
    "\n",
    "    fig.update_layout(title='Capacities over the years',\n",
    "                      xaxis_title='Year',\n",
    "                      yaxis_title='Capacity (MW)',\n",
    "                      legend=dict(x=0, y=1, traceorder='normal'))\n",
    "\n",
    "    fig.show()\n",
    "plot_capacities([year for year in range(2013, 2017) if not calendar.isleap(year)])"
   ]
  },
  {
   "cell_type": "code",
   "execution_count": null,
   "metadata": {},
   "outputs": [],
   "source": [
    "#make a 100% stacket area chart of the generation for all years\n",
    "def plot_generation(years):\n",
    "    fig = go.Figure()\n",
    "\n",
    "    for generator in ['onshorewind', 'solar', 'OCGT', 'Coal', 'Biomass', 'Oil', 'offshorewind']:\n",
    "        fig.add_trace(go.Scatter(x=years, y=[sum(generations[year][generator]) for year in years],\n",
    "                                 mode='lines+markers',\n",
    "                                 name=generator))\n",
    "\n",
    "    fig.update_layout(title='Generation over the years',\n",
    "                      xaxis_title='Year',\n",
    "                      yaxis_title='Capacity (MW)',\n",
    "                      legend=dict(x=0, y=1, traceorder='normal'))\n",
    "\n",
    "    fig.show()\n",
    "plot_generation([year for year in range(2013, 2017) if not calendar.isleap(year)])"
   ]
  },
  {
   "cell_type": "markdown",
   "metadata": {},
   "source": [
    "# D)"
   ]
  },
  {
   "cell_type": "code",
   "execution_count": null,
   "metadata": {},
   "outputs": [],
   "source": [
    "#values for pumped hydro\n",
    "#costs.loc[\"Pumped-Storage-Hydro-store\", :].T"
   ]
  },
  {
   "cell_type": "code",
   "execution_count": null,
   "metadata": {},
   "outputs": [],
   "source": [
    "print(costs.at[\"Pumped-Storage-Hydro-store\", \"capital_cost\"])\n",
    "print(costs.at[\"coal\", \"capital_cost\"])\n",
    "print(costs.at[\"offwind\", \"capital_cost\"])\n",
    "print(costs.at[\"OCGT\", \"capital_cost\"])\n",
    "print(costs.at[\"onwind\", \"capital_cost\"])\n",
    "print(costs.at[\"solar\", \"capital_cost\"])\n",
    "print(costs.at[\"oil\", \"capital_cost\"])"
   ]
  },
  {
   "cell_type": "code",
   "execution_count": null,
   "metadata": {},
   "outputs": [],
   "source": [
    "#Create a new carrier\n",
    "network.add(\"Carrier\",\n",
    "              \"Hydro\")\n",
    "\n",
    "#Create a new bus\n",
    "network.add(\"Bus\",\n",
    "          \"Hydro Bus\",\n",
    "          carrier = \"Hydro\")\n",
    "\n",
    "#Connect the Pumped Hydr Storage (PHS) to the Hydro Bus\n",
    "network.add(\"Store\",\n",
    "          \"PHS\",\n",
    "          bus = \"Hydro Bus\",\n",
    "          e_nom_extendable = True,\n",
    "          e_cyclic = True,\n",
    "          e_nom_max = 240, #in MWh\n",
    "          capital_cost = costs.at[\"Pumped-Storage-Hydro-store\", \"capital_cost\"], \n",
    "          overwrite=True\n",
    ")\n",
    "\n",
    "#Add the link \"Hydro pump\" that transport energy from the electricity bus (bus0) to the Hydro bus (bus1)\n",
    "#with 80% efficiency\n",
    "network.add(\"Link\",\n",
    "          \"Hydro pump\",\n",
    "          bus0 = \"electricity bus\",\n",
    "          bus1 = \"Hydro Bus\",\n",
    "          p_nom_extendable = True,\n",
    "          efficiency = 0.85,\n",
    "          capital_cost = 0, \n",
    "            overwrite=True\n",
    "          )\n",
    "\n",
    "#Add the link \"Hydro turbine\" that transports energy from the Hydro bus (bus0) to the electricity bus (bus1)\n",
    "#with 58% efficiency\n",
    "network.add(\"Link\",\n",
    "          \"Hydro turbine\",\n",
    "          bus0 = \"Hydro Bus\",\n",
    "          bus1 = \"electricity bus\",\n",
    "          p_nom_extendable = True,\n",
    "          efficiency = 0.9,\n",
    "          capital_cost = 0,\n",
    "            overwrite=True\n",
    "        \n",
    "          )\n",
    "\n"
   ]
  },
  {
   "cell_type": "code",
   "execution_count": null,
   "metadata": {},
   "outputs": [],
   "source": [
    "\n",
    "objective_hydro, capacities, loadConsumption, generation, snapshot, status = optimizer(\"2015\")\n",
    "network.stores_t.e.plot(figsize=(6, 2), ylabel=\"Hydro storage\")\n",
    "\n"
   ]
  },
  {
   "cell_type": "code",
   "execution_count": null,
   "metadata": {},
   "outputs": [],
   "source": [
    "print(\"objective_optimalCO2: \", objective_optimalCO2)\n",
    "print(\"objective_hydro: \", objective_hydro)\n",
    "\n",
    "print(\"Savings using a pumped hydro storage: \", objective_optimalCO2 - objective_hydro)\n"
   ]
  },
  {
   "cell_type": "code",
   "execution_count": null,
   "metadata": {},
   "outputs": [],
   "source": [
    "# Re-run the optimizer to ensure 'Hydro Bus' is included in the network\n",
    "objective_hydro, capacities, loadConsumption, generation, snapshot, status = optimizer(2015)\n",
    "\n"
   ]
  },
  {
   "cell_type": "code",
   "execution_count": null,
   "metadata": {},
   "outputs": [],
   "source": [
    "#print the marginal price from electricity bus\n",
    "print(network.buses_t.marginal_price['electricity bus'])\n",
    "#plot the marginal price from electricity bus\n",
    "\n",
    "def plot_marginal_price():\n",
    "    fig = go.Figure()\n",
    "\n",
    "    fig.add_trace(go.Scatter(x=snapshot, y=network.buses_t.marginal_price['electricity bus'],\n",
    "                             mode='lines', name='marginal price', line=dict(color='black')))\n",
    "\n",
    "    fig.update_layout(title='Marginal Price',\n",
    "                      xaxis_title='Time',\n",
    "                      yaxis_title='Price (€/MWh)',\n",
    "                      legend=dict(x=0, y=1, traceorder='normal'))\n",
    "\n",
    "    fig.show()\n",
    "plot_marginal_price()"
   ]
  },
  {
   "cell_type": "code",
   "execution_count": null,
   "metadata": {},
   "outputs": [],
   "source": [
    "\n",
    "# make a df with the difference between hours\n",
    "network.stores_t.e['PHS'].diff()\n",
    "\n",
    "storage_generation = network.stores_t.e['PHS'].diff().apply(lambda x: x if x > 0 else 0)\n",
    "storage_load = network.stores_t.e['PHS'].diff().apply(lambda x: x if x < 0 else 0)\n",
    "\n",
    "storage_load = storage_load * -1\n",
    "\n",
    "# print(network.stores_t.e['PHS'])\n",
    "# print(network.stores_t.e['PHS'].diff().head)\n",
    "# print(storage_generation.head(10))\n",
    "# print(storage_load.head(10))\n"
   ]
  },
  {
   "cell_type": "code",
   "execution_count": null,
   "metadata": {},
   "outputs": [],
   "source": [
    "def plot_dispatch_winter_including_hydro():\n",
    "    fig = go.Figure()\n",
    "\n",
    "    fig.add_trace(go.Scatter(x=snapshot[:96], y=loadConsumption['load'][:96], mode='lines', name='demand', line=dict(color='black', shape='hv')))\n",
    "    fig.add_trace(go.Scatter(x=snapshot[:96], y=generation['onshorewind'][:96], mode='lines', name='onshore wind', line=dict(color='blue', shape='hv')))\n",
    "    fig.add_trace(go.Scatter(x=snapshot[:96], y=generation['solar'][:96], mode='lines', name='solar', line=dict(color='orange', shape='hv')))\n",
    "    fig.add_trace(go.Scatter(x=snapshot[:96], y=generation['OCGT'][:96], mode='lines', name='gas (OCGT)', line=dict(color='brown', shape='hv')))\n",
    "    fig.add_trace(go.Scatter(x=snapshot[:96], y=generation['Coal'][:96], mode='lines', name='coal', line=dict(color='grey', shape='hv')))\n",
    "    fig.add_trace(go.Scatter(x=snapshot[:96], y=generation['Biomass'][:96], mode='lines', name='biomass', line=dict(color='green', shape='hv')))\n",
    "    fig.add_trace(go.Scatter(x=snapshot[:96], y=generation['Oil'][:96], mode='lines', name='oil', line=dict(color='black', shape='hv')))\n",
    "    fig.add_trace(go.Scatter(x=snapshot[:96], y=generation['offshorewind'][:96], mode='lines', name='offshore wind', line=dict(color='purple', shape='hv')))\n",
    "    # add storage_load\n",
    "    fig.add_trace(go.Scatter(x=snapshot[:96], y=storage_load[:96], mode='lines', name='storage load', line=dict(color='red', shape='hv')))\n",
    "    # add storage_generation\n",
    "    fig.add_trace(go.Scatter(x=snapshot[:96], y=storage_generation[:96], mode='lines', name='storage generation', line=dict(color='green', shape='hv')))\n",
    "    fig.update_layout(title='Electricity Dispatch Week 1 2015',\n",
    "                    xaxis_title='Time',\n",
    "                    yaxis_title='Power (MW)',\n",
    "                    legend=dict(x=0, y=1, traceorder='normal'))\n",
    "\n",
    "    fig.show()\n",
    "plot_dispatch_winter_including_hydro()"
   ]
  },
  {
   "cell_type": "markdown",
   "metadata": {},
   "source": [
    "## **Make sure that load and generation fits with the patterns**"
   ]
  },
  {
   "cell_type": "markdown",
   "metadata": {},
   "source": [
    "# E)"
   ]
  },
  {
   "cell_type": "code",
   "execution_count": null,
   "metadata": {},
   "outputs": [],
   "source": [
    "print(network.global_constraints.constant) # CO2 limit (constant in the constraint)\n",
    "print(\"Price pr. ton CO2 increase in the system\\n\", network.global_constraints.mu) # CO2 price (Lagrance multiplier in the constraint)"
   ]
  },
  {
   "cell_type": "markdown",
   "metadata": {},
   "source": [
    "**Search for information on CO2 taxes**"
   ]
  },
  {
   "cell_type": "markdown",
   "metadata": {},
   "source": [
    "# F)"
   ]
  },
  {
   "cell_type": "markdown",
   "metadata": {},
   "source": [
    "### Adding Britain though link:"
   ]
  },
  {
   "cell_type": "code",
   "execution_count": null,
   "metadata": {},
   "outputs": [],
   "source": [
    "df_onshorewind = pd.read_csv('data/onshore_wind_1979-2017.csv', sep=';', index_col=0)\n",
    "df_onshorewind.index = pd.to_datetime(df_onshorewind.index)\n",
    "CF_wind_FRA = df_onshorewind['FRA'][[hour.strftime(\"%Y-%m-%dT%H:%M:%SZ\") for hour in network.snapshots]]\n",
    "CF_wind_GBR = df_onshorewind['GBR'][[hour.strftime(\"%Y-%m-%dT%H:%M:%SZ\") for hour in network.snapshots]]"
   ]
  },
  {
   "cell_type": "code",
   "execution_count": null,
   "metadata": {},
   "outputs": [],
   "source": [
    "\n",
    "\n",
    "#Add the link \"Hydro pump\" that transport energy from the electricity bus (bus0) to the Hydro bus (bus1)\n",
    "#with 80% efficiency\n",
    "\n",
    "cable_length_Ireland_Britain = 160 # in km based on the actial green link cable\n",
    "p_nom_cable_britain = 500\n",
    "p_nom_onshore_britain = 32800\n",
    "\n",
    "network.add(\"Bus\",\n",
    "                \"electricity bus Britain\",\n",
    "                carrier=\"electricity\",\n",
    "                overwrite=True)\n",
    "\n",
    "\n",
    "network.add(\"Generator\",\n",
    "            \"onshorewind Britain\",\n",
    "            bus=\"electricity bus Britain\",\n",
    "            p_nom_extendable=True,\n",
    "            carrier=\"onshorewind\",\n",
    "            p_nom_max=p_nom_onshore_britain*0.01, # maximum capacity can be limited due to environmental constraints. Based on electricity maps - minus the off shore wind capacity\n",
    "            #capital_cost = costs.at[\"onwind\", \"capital_cost\"], # in €/MW  # exclude capital cost because it is not part of the system\n",
    "            marginal_cost = 0,\n",
    "            p_max_pu = CF_wind_GBR.values,\n",
    "            overwrite=True)\n",
    "\n",
    "\n",
    "network.add(\"Link\",\n",
    "             'Ireland - Britain',\n",
    "             bus0=\"electricity bus\",\n",
    "             bus1=\"electricity bus Britain\",\n",
    "             p_nom_extendable=True, # capacity is optimised\n",
    "             p_nom_max=p_nom_cable_britain, # maximum capacity can be limited due to environmental constraints. Based on electricity maps - minus the off shore wind capacity\n",
    "             p_min_pu=-1,\n",
    "             length=cable_length_Ireland_Britain, # length (in km) between country a and country b\n",
    "             capital_cost=400*cable_length_Ireland_Britain, \n",
    "             overwrite=True) # capital cost * length\n",
    "\n",
    "\n",
    "\n",
    "objective_with_britain, capacities, loadConsumption, generation, snapshot, status = optimizer(\"2015\")\n",
    "\n",
    "\n",
    "\n"
   ]
  },
  {
   "cell_type": "markdown",
   "metadata": {},
   "source": [
    "### Adding France though link:"
   ]
  },
  {
   "cell_type": "code",
   "execution_count": null,
   "metadata": {},
   "outputs": [],
   "source": [
    "cable_length_Ireland_France = 575 # in km based on the actial link Celtic interconnector\n",
    "p_nom_cable_france = 700\n",
    "p_nom_onshore_france = 61800\n",
    "\n",
    "network.add(\"Bus\",\n",
    "                \"electricity bus France\",\n",
    "                carrier=\"electricity\",\n",
    "                overwrite=True)\n",
    "\n",
    "\n",
    "network.add(\"Generator\",\n",
    "            \"onshorewind France\",\n",
    "            bus=\"electricity bus France\",\n",
    "            p_nom_extendable=True,\n",
    "            carrier=\"onshorewind\",\n",
    "            p_nom_max=p_nom_onshore_france*0.01,\n",
    "            #capital_cost = costs.at[\"onwind\", \"capital_cost\"], # in €/MW # exclude capital cost because it is not part of the system\n",
    "            marginal_cost = 0,\n",
    "            p_max_pu = CF_wind_FRA.values,\n",
    "            overwrite=True)\n",
    "\n",
    "\n",
    "network.add(\"Link\",\n",
    "             'Ireland - France',\n",
    "             bus0=\"electricity bus\",\n",
    "             bus1=\"electricity bus France\",    \n",
    "             p_nom_extendable=True, # capacity is optimised\n",
    "             p_nom_max = p_nom_cable_france,\n",
    "             p_min_pu=-1,\n",
    "             length=cable_length_Ireland_France, # length (in km) between country a and country b\n",
    "             capital_cost=400*cable_length_Ireland_France, \n",
    "             overwrite = True) # capital cost * length\n",
    "objective_with_britain_and_france, capacities, loadConsumption, generation, snapshot, status = optimizer(\"2015\")\n",
    "\n",
    "\n"
   ]
  },
  {
   "cell_type": "code",
   "execution_count": null,
   "metadata": {},
   "outputs": [],
   "source": [
    "print(\"Objective value before adding links: \", objective_hydro)\n",
    "print(\"Objective value after adding Britain: \", objective_with_britain)\n",
    "print(\"Objective value after adding France: \", objective_with_britain_and_france)"
   ]
  },
  {
   "cell_type": "code",
   "execution_count": null,
   "metadata": {},
   "outputs": [],
   "source": [
    "#print the links\n",
    "print(\"Link between Ireland and Britain: \", network.links_t.p0['Ireland - Britain'])\n",
    "print(\"Link between Ireland and France: \", network.links_t.p0['Ireland - France'])\n",
    "network.links_t.p0\n"
   ]
  },
  {
   "cell_type": "markdown",
   "metadata": {},
   "source": [
    "### **Vi er gået med fixed capacity hvilket er en ret simpel løsning. Derfor kunne man overveje om vi skulle tilføje hele systemet i frankrig og britain. Desuden ses det at objektværdien ikke ændrer sig når frankrig også sættes på hvilket vi ikke helt kan få til at give mening**"
   ]
  },
  {
   "cell_type": "code",
   "execution_count": null,
   "metadata": {},
   "outputs": [],
   "source": [
    "def plot_dispatch_winter_with_Links():\n",
    "    fig = go.Figure()\n",
    "\n",
    "    fig.add_trace(go.Scatter(x=snapshot, y=loadConsumption['load'], mode='lines', name='demand', line=dict(color='black', shape='hv')))\n",
    "    fig.add_trace(go.Scatter(x=snapshot, y=generation['onshorewind'], mode='lines', name='onshore wind', line=dict(color='blue', shape='hv')))\n",
    "    fig.add_trace(go.Scatter(x=snapshot, y=generation['solar'], mode='lines', name='solar', line=dict(color='orange', shape='hv')))\n",
    "    fig.add_trace(go.Scatter(x=snapshot, y=generation['OCGT'], mode='lines', name='gas (OCGT)', line=dict(color='brown', shape='hv')))\n",
    "    fig.add_trace(go.Scatter(x=snapshot, y=generation['Coal'], mode='lines', name='coal', line=dict(color='grey', shape='hv')))\n",
    "    fig.add_trace(go.Scatter(x=snapshot, y=generation['Biomass'], mode='lines', name='biomass', line=dict(color='green', shape='hv')))\n",
    "    fig.add_trace(go.Scatter(x=snapshot, y=generation['Oil'], mode='lines', name='oil', line=dict(color='black', shape='hv')))\n",
    "    fig.add_trace(go.Scatter(x=snapshot, y=generation['offshorewind'], mode='lines', name='offshore wind', line=dict(color='purple', shape='hv')))\n",
    "    fig.add_trace(go.Scatter(x=snapshot, y=generation['onshorewind Britain'], mode='lines', name='onshore wind Britain', line=dict(color='blue', shape='hv')))\n",
    "    fig.add_trace(go.Scatter(x=snapshot, y=generation['onshorewind France'], mode='lines', name='onshore wind France', line=dict(color='brown', shape='hv')))\n",
    "    #add\n",
    "    # add storage_load\n",
    "    fig.add_trace(go.Scatter(x=snapshot, y=storage_load, mode='lines', name='storage load', line=dict(color='red', shape='hv')))\n",
    "    # add storage_generation\n",
    "    fig.add_trace(go.Scatter(x=snapshot, y=storage_generation, mode='lines', name='storage generation', line=dict(color='green', shape='hv')))\n",
    "    fig.update_layout(title='Electricity Dispatch Week 1 2015',\n",
    "                    xaxis_title='Time',\n",
    "                    yaxis_title='Power (MW)',\n",
    "                    legend=dict(x=0, y=1, traceorder='normal'))\n",
    "\n",
    "    fig.show()\n",
    "plot_dispatch_winter_with_Links()\n",
    "\n"
   ]
  },
  {
   "cell_type": "markdown",
   "metadata": {},
   "source": [
    "# G)"
   ]
  },
  {
   "cell_type": "code",
   "execution_count": null,
   "metadata": {},
   "outputs": [],
   "source": [
    "# load electricity demand data\n",
    "df_heat = pd.read_csv('data/heat_demand.csv', sep=';', index_col=0) # in MWh\n",
    "df_heat.index = pd.to_datetime(df_heat.index) #change index to datatime\n",
    "country='IRL'\n",
    "print(df_heat[country].head())\n",
    "\n",
    "\n",
    "network.add(\"Bus\",\n",
    "    \"heat bus\",\n",
    "    carrier=\"heat\",\n",
    "    overwrite=True)\n",
    "\n",
    "# add load to the bus\n",
    "network.add(\"Load\",\n",
    "    \"heat demand\",\n",
    "    bus=\"heat bus\",\n",
    "    p_set=df_heat[country].values*0.2,\n",
    "    overwrite=True)\n",
    "network.loads_t.p_set.plot(figsize=(6, 2), ylabel=\"MW\")\n",
    "\n",
    "network.add(\"Link\", \n",
    "    \"heat pump\",\n",
    "    carrier=\"heat pump\",\n",
    "    bus0=\"electricity bus\",\n",
    "    bus1=\"heat bus\",\n",
    "    p_nom_extendable=True,\n",
    "    capital_cost=costs.at[\"central air-sourced heat pump\", \"capital_cost\"]*0.1,  # €/MWe/a\n",
    "    efficiency = 3, #change with COP values\n",
    "    overwrite=True)\n",
    "\n",
    "\n",
    "\n",
    "objective_with_heatpump, capacities, loadConsumption, generation, snapshot, status = optimizer(\"2015\")\n",
    "\n",
    "\n"
   ]
  },
  {
   "cell_type": "code",
   "execution_count": null,
   "metadata": {},
   "outputs": [],
   "source": [
    "network.links_t.p0['heat pump']"
   ]
  },
  {
   "cell_type": "code",
   "execution_count": null,
   "metadata": {},
   "outputs": [],
   "source": [
    "network.add(\"Bus\", \"gas bus\")\n",
    "\n",
    "# We add a gas store with energy capacity and an initial filling level much higher than the required gas consumption, \n",
    "# this way gas supply is unlimited\n",
    "network.add(\"Store\", \"gas storage\", e_initial=1e6, e_nom=1e6, bus=\"gas bus\") \n",
    "\n",
    "network.add(\n",
    "    \"Link\",\n",
    "    \"CHP\",\n",
    "    bus0=\"gas bus\",\n",
    "    bus1=\"electricity bus\",\n",
    "    bus2=\"heat bus\",\n",
    "    p_nom=1000,\n",
    "    marginal_cost=80, #gas price maybe\n",
    "    efficiency=0.4,\n",
    "    efficiency2=0.4,\n",
    "    capital_cost=costs.at[\"decentral CHP\", \"capital_cost\"],  # €/MWe/a\n",
    "\n",
    ")"
   ]
  },
  {
   "cell_type": "code",
   "execution_count": null,
   "metadata": {},
   "outputs": [],
   "source": [
    "objective_with_heatpump_and_CHP, capacities, loadConsumption, generation, snapshot, status = optimizer(\"2015\")\n"
   ]
  },
  {
   "cell_type": "markdown",
   "metadata": {},
   "source": [
    "* Missing the COP for heat pump\n",
    "* Missing extension to the country links maybe\n",
    "* How do we know if the CHP is producing heat or electricity\n",
    "* What should the marginal price of CHP be?\n",
    "* Check at capital cost for CHP er korrekt (på nette evt.)"
   ]
  },
  {
   "cell_type": "code",
   "execution_count": null,
   "metadata": {},
   "outputs": [],
   "source": [
    "pd.concat([-network.links_t.p1['CHP'], network.generators_t.p], axis=1).sum().plot.pie(figsize=(6, 2), title='Electricity')\n"
   ]
  },
  {
   "cell_type": "code",
   "execution_count": null,
   "metadata": {},
   "outputs": [],
   "source": [
    "pd.concat([-network.links_t.p2['CHP'],-network.links_t.p1['heat pump']], axis=1).sum().plot.pie(figsize=(6, 2), title='Heat')\n"
   ]
  }
 ],
 "metadata": {
  "kernelspec": {
   "display_name": "spirii_env",
   "language": "python",
   "name": "python3"
  },
  "language_info": {
   "codemirror_mode": {
    "name": "ipython",
    "version": 3
   },
   "file_extension": ".py",
   "mimetype": "text/x-python",
   "name": "python",
   "nbconvert_exporter": "python",
   "pygments_lexer": "ipython3",
   "version": "3.9.18"
  }
 },
 "nbformat": 4,
 "nbformat_minor": 2
}
