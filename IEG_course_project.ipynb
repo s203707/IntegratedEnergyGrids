{
 "cells": [
  {
   "cell_type": "markdown",
   "metadata": {
    "id": "BGW_goJklh96"
   },
   "source": [
    "# Course project\n",
    "\n",
    "This notebook includes the steps to optimize the capacity and dispatch of generators in a stylized energy system. It has been prepared to serve as a tutorial for a simple PyPSA model representing the energy system in one country, city or region. \n",
    " \n",
    "\n",
    "For the (optional) project of the course [Integrated Energy Grids](https://kurser.dtu.dk/course/2024-2025/46770?menulanguage=en) you need to deliver a report including the sections described at the end of this notebook.\n",
    "\n",
    "Please, review the [PyPSA tutorial](https://martavp.github.io/integrated-energy-grids/intro-pypsa.html) before starting this project."
   ]
  },
  {
   "cell_type": "markdown",
   "metadata": {
    "id": "5I0eaZphl12p"
   },
   "source": [
    ":::{note}\n",
    "If you have not yet set up Python on your computer, you can execute this tutorial in your browser via [Google Colab](https://colab.research.google.com/). Click on the rocket in the top right corner and launch \"Colab\". If that doesn't work download the `.ipynb` file and import it in [Google Colab](https://colab.research.google.com/).\n",
    "\n",
    "Then install `pandas` and `pypsa` by executing the following command in a Jupyter cell at the top of the notebook.\n",
    "\n",
    "```sh\n",
    "!pip install pandas pypsa\n",
    "```\n",
    ":::"
   ]
  },
  {
   "cell_type": "code",
   "execution_count": 30,
   "metadata": {
    "colab": {
     "base_uri": "https://localhost:8080/"
    },
    "id": "SdJsOhJrlh98",
    "outputId": "af302421-fbfa-4363-81f3-58fa82e4b134"
   },
   "outputs": [],
   "source": [
    "import pandas as pd\n",
    "import pypsa\n",
    "import urllib3\n",
    "\n",
    "urllib3.disable_warnings()"
   ]
  },
  {
   "cell_type": "code",
   "execution_count": 31,
   "metadata": {},
   "outputs": [],
   "source": [
    "# Load Technology data\n",
    "year = 2025\n",
    "url = f\"https://raw.githubusercontent.com/PyPSA/technology-data/master/outputs/costs_{year}.csv\"\n",
    "costs = pd.read_csv(url, index_col=[0, 1])\n",
    "\n",
    "costs.loc[costs.unit.str.contains(\"/kW\"), \"value\"] *= 1e3\n",
    "costs.unit = costs.unit.str.replace(\"/kW\", \"/MW\")\n",
    "\n",
    "defaults = {\n",
    "    \"FOM\": 0,\n",
    "    \"VOM\": 0,\n",
    "    \"efficiency\": 1,\n",
    "    \"fuel\": 0,\n",
    "    \"investment\": 0,\n",
    "    \"lifetime\": 25,\n",
    "    \"CO2 intensity\": 0,\n",
    "    \"discount rate\": 0.07,\n",
    "}\n",
    "costs = costs.value.unstack().fillna(defaults)\n",
    "\n",
    "costs.at[\"OCGT\", \"fuel\"] = costs.at[\"gas\", \"fuel\"]\n",
    "costs.at[\"OCGT\", \"CO2 intensity\"] = costs.at[\"gas\", \"CO2 intensity\"]\n",
    "\n",
    "costs[\"marginal_cost\"] = costs[\"VOM\"] + costs[\"fuel\"] / costs[\"efficiency\"]\n"
   ]
  },
  {
   "cell_type": "markdown",
   "metadata": {
    "id": "zqdclW57lh-A"
   },
   "source": [
    "We start by creating the network. In this example, the country is modelled as a single node, so the network includes only one bus.\n",
    "\n",
    "We select the year 2015 and set the hours in that year as snapshots.\n",
    "\n",
    "We select a country, in this case Denmark (DNK), and add one node (electricity bus) to the network."
   ]
  },
  {
   "cell_type": "code",
   "execution_count": 32,
   "metadata": {
    "colab": {
     "base_uri": "https://localhost:8080/",
     "height": 446
    },
    "id": "UElULGBVlh-C",
    "outputId": "b77ed0b5-fb74-4ec2-db18-e2a341b267fa"
   },
   "outputs": [
    {
     "data": {
      "text/plain": [
       "DatetimeIndex(['2015-01-01 00:00:00', '2015-01-01 01:00:00',\n",
       "               '2015-01-01 02:00:00', '2015-01-01 03:00:00',\n",
       "               '2015-01-01 04:00:00', '2015-01-01 05:00:00',\n",
       "               '2015-01-01 06:00:00', '2015-01-01 07:00:00',\n",
       "               '2015-01-01 08:00:00', '2015-01-01 09:00:00',\n",
       "               ...\n",
       "               '2015-12-31 14:00:00', '2015-12-31 15:00:00',\n",
       "               '2015-12-31 16:00:00', '2015-12-31 17:00:00',\n",
       "               '2015-12-31 18:00:00', '2015-12-31 19:00:00',\n",
       "               '2015-12-31 20:00:00', '2015-12-31 21:00:00',\n",
       "               '2015-12-31 22:00:00', '2015-12-31 23:00:00'],\n",
       "              dtype='datetime64[ns]', name='snapshot', length=8760, freq=None)"
      ]
     },
     "execution_count": 32,
     "metadata": {},
     "output_type": "execute_result"
    }
   ],
   "source": [
    "network = pypsa.Network()\n",
    "hours_in_2015 = pd.date_range('2015-01-01 00:00Z',\n",
    "                              '2015-12-31 23:00Z',\n",
    "                              freq='h')\n",
    "\n",
    "network.set_snapshots(hours_in_2015.values)\n",
    "\n",
    "network.add(\"Bus\",\n",
    "            \"electricity bus\")\n",
    "\n",
    "network.snapshots"
   ]
  },
  {
   "cell_type": "markdown",
   "metadata": {
    "id": "qMeYet1Blh-D"
   },
   "source": [
    "The demand is represented by the historical electricity demand in 2015 with hourly resolution.\n",
    "\n",
    "The file with historical hourly electricity demand for every European country is available in the data folder.\n",
    "\n",
    "The electricity demand time series were obtained from ENTSOE through the very convenient compilation carried out by the Open Power System Data (OPSD). https://data.open-power-system-data.org/time_series/"
   ]
  },
  {
   "cell_type": "code",
   "execution_count": 33,
   "metadata": {
    "id": "Y8lgJWVxlh-E",
    "outputId": "f63f12ad-3f84-42e8-fb40-7e88e215aeb1"
   },
   "outputs": [
    {
     "name": "stdout",
     "output_type": "stream",
     "text": [
      "utc_time\n",
      "2015-01-01 00:00:00+00:00    2651.0\n",
      "2015-01-01 01:00:00+00:00    2412.0\n",
      "2015-01-01 02:00:00+00:00    2256.0\n",
      "2015-01-01 03:00:00+00:00    2170.0\n",
      "2015-01-01 04:00:00+00:00    2136.0\n",
      "Name: IRL, dtype: float64\n"
     ]
    }
   ],
   "source": [
    "# load electricity demand data\n",
    "df_elec = pd.read_csv('data/electricity_demand.csv', sep=';', index_col=0) # in MWh\n",
    "df_elec.index = pd.to_datetime(df_elec.index) #change index to datatime\n",
    "country='IRL'\n",
    "print(df_elec[country].head())"
   ]
  },
  {
   "cell_type": "code",
   "execution_count": 34,
   "metadata": {
    "id": "tGoVGnNmlh-F"
   },
   "outputs": [
    {
     "data": {
      "text/plain": [
       "Index(['load'], dtype='object')"
      ]
     },
     "execution_count": 34,
     "metadata": {},
     "output_type": "execute_result"
    }
   ],
   "source": [
    "# add load to the bus\n",
    "network.add(\"Load\",\n",
    "            \"load\",\n",
    "            bus=\"electricity bus\",\n",
    "            p_set=df_elec[country].values)"
   ]
  },
  {
   "cell_type": "markdown",
   "metadata": {
    "id": "BCkiEvu2lh-H"
   },
   "source": [
    "Print the load time series to check that it has been properly added (you should see numbers and not 'NaN')"
   ]
  },
  {
   "cell_type": "code",
   "execution_count": 35,
   "metadata": {
    "id": "Z791IbiHlh-I",
    "outputId": "c4d8f75a-9e6d-4174-ea21-5f0065a94ebd"
   },
   "outputs": [
    {
     "data": {
      "application/vnd.microsoft.datawrangler.viewer.v0+json": {
       "columns": [
        {
         "name": "snapshot",
         "rawType": "datetime64[ns]",
         "type": "datetime"
        },
        {
         "name": "load",
         "rawType": "float64",
         "type": "float"
        }
       ],
       "conversionMethod": "pd.DataFrame",
       "ref": "ca17fd69-2342-4275-96b8-52709286201d",
       "rows": [
        [
         "2015-01-01 00:00:00",
         "2651.0"
        ],
        [
         "2015-01-01 01:00:00",
         "2412.0"
        ],
        [
         "2015-01-01 02:00:00",
         "2256.0"
        ],
        [
         "2015-01-01 03:00:00",
         "2170.0"
        ],
        [
         "2015-01-01 04:00:00",
         "2136.0"
        ],
        [
         "2015-01-01 05:00:00",
         "2169.0"
        ],
        [
         "2015-01-01 06:00:00",
         "2223.0"
        ],
        [
         "2015-01-01 07:00:00",
         "2234.0"
        ],
        [
         "2015-01-01 08:00:00",
         "2343.0"
        ],
        [
         "2015-01-01 09:00:00",
         "2623.0"
        ],
        [
         "2015-01-01 10:00:00",
         "2901.0"
        ],
        [
         "2015-01-01 11:00:00",
         "3146.0"
        ],
        [
         "2015-01-01 12:00:00",
         "3234.0"
        ],
        [
         "2015-01-01 13:00:00",
         "3146.0"
        ],
        [
         "2015-01-01 14:00:00",
         "3122.0"
        ],
        [
         "2015-01-01 15:00:00",
         "3264.0"
        ],
        [
         "2015-01-01 16:00:00",
         "3497.0"
        ],
        [
         "2015-01-01 17:00:00",
         "3464.0"
        ],
        [
         "2015-01-01 18:00:00",
         "3353.0"
        ],
        [
         "2015-01-01 19:00:00",
         "3203.0"
        ],
        [
         "2015-01-01 20:00:00",
         "3070.0"
        ],
        [
         "2015-01-01 21:00:00",
         "2901.0"
        ],
        [
         "2015-01-01 22:00:00",
         "2891.0"
        ],
        [
         "2015-01-01 23:00:00",
         "2708.0"
        ],
        [
         "2015-01-02 00:00:00",
         "2452.0"
        ],
        [
         "2015-01-02 01:00:00",
         "2266.0"
        ],
        [
         "2015-01-02 02:00:00",
         "2167.0"
        ],
        [
         "2015-01-02 03:00:00",
         "2118.0"
        ],
        [
         "2015-01-02 04:00:00",
         "2138.0"
        ],
        [
         "2015-01-02 05:00:00",
         "2260.0"
        ],
        [
         "2015-01-02 06:00:00",
         "2475.0"
        ],
        [
         "2015-01-02 07:00:00",
         "2692.0"
        ],
        [
         "2015-01-02 08:00:00",
         "2937.0"
        ],
        [
         "2015-01-02 09:00:00",
         "3191.0"
        ],
        [
         "2015-01-02 10:00:00",
         "3340.0"
        ],
        [
         "2015-01-02 11:00:00",
         "3387.0"
        ],
        [
         "2015-01-02 12:00:00",
         "3372.0"
        ],
        [
         "2015-01-02 13:00:00",
         "3300.0"
        ],
        [
         "2015-01-02 14:00:00",
         "3301.0"
        ],
        [
         "2015-01-02 15:00:00",
         "3558.0"
        ],
        [
         "2015-01-02 16:00:00",
         "4014.0"
        ],
        [
         "2015-01-02 17:00:00",
         "4003.0"
        ],
        [
         "2015-01-02 18:00:00",
         "3812.0"
        ],
        [
         "2015-01-02 19:00:00",
         "3580.0"
        ],
        [
         "2015-01-02 20:00:00",
         "3382.0"
        ],
        [
         "2015-01-02 21:00:00",
         "3141.0"
        ],
        [
         "2015-01-02 22:00:00",
         "3088.0"
        ],
        [
         "2015-01-02 23:00:00",
         "2835.0"
        ],
        [
         "2015-01-03 00:00:00",
         "2581.0"
        ],
        [
         "2015-01-03 01:00:00",
         "2398.0"
        ]
       ],
       "shape": {
        "columns": 1,
        "rows": 8760
       }
      },
      "text/html": [
       "<div>\n",
       "<style scoped>\n",
       "    .dataframe tbody tr th:only-of-type {\n",
       "        vertical-align: middle;\n",
       "    }\n",
       "\n",
       "    .dataframe tbody tr th {\n",
       "        vertical-align: top;\n",
       "    }\n",
       "\n",
       "    .dataframe thead th {\n",
       "        text-align: right;\n",
       "    }\n",
       "</style>\n",
       "<table border=\"1\" class=\"dataframe\">\n",
       "  <thead>\n",
       "    <tr style=\"text-align: right;\">\n",
       "      <th>Load</th>\n",
       "      <th>load</th>\n",
       "    </tr>\n",
       "    <tr>\n",
       "      <th>snapshot</th>\n",
       "      <th></th>\n",
       "    </tr>\n",
       "  </thead>\n",
       "  <tbody>\n",
       "    <tr>\n",
       "      <th>2015-01-01 00:00:00</th>\n",
       "      <td>2651.0</td>\n",
       "    </tr>\n",
       "    <tr>\n",
       "      <th>2015-01-01 01:00:00</th>\n",
       "      <td>2412.0</td>\n",
       "    </tr>\n",
       "    <tr>\n",
       "      <th>2015-01-01 02:00:00</th>\n",
       "      <td>2256.0</td>\n",
       "    </tr>\n",
       "    <tr>\n",
       "      <th>2015-01-01 03:00:00</th>\n",
       "      <td>2170.0</td>\n",
       "    </tr>\n",
       "    <tr>\n",
       "      <th>2015-01-01 04:00:00</th>\n",
       "      <td>2136.0</td>\n",
       "    </tr>\n",
       "    <tr>\n",
       "      <th>...</th>\n",
       "      <td>...</td>\n",
       "    </tr>\n",
       "    <tr>\n",
       "      <th>2015-12-31 19:00:00</th>\n",
       "      <td>3728.0</td>\n",
       "    </tr>\n",
       "    <tr>\n",
       "      <th>2015-12-31 20:00:00</th>\n",
       "      <td>3461.0</td>\n",
       "    </tr>\n",
       "    <tr>\n",
       "      <th>2015-12-31 21:00:00</th>\n",
       "      <td>3195.0</td>\n",
       "    </tr>\n",
       "    <tr>\n",
       "      <th>2015-12-31 22:00:00</th>\n",
       "      <td>2999.0</td>\n",
       "    </tr>\n",
       "    <tr>\n",
       "      <th>2015-12-31 23:00:00</th>\n",
       "      <td>2899.0</td>\n",
       "    </tr>\n",
       "  </tbody>\n",
       "</table>\n",
       "<p>8760 rows × 1 columns</p>\n",
       "</div>"
      ],
      "text/plain": [
       "Load                   load\n",
       "snapshot                   \n",
       "2015-01-01 00:00:00  2651.0\n",
       "2015-01-01 01:00:00  2412.0\n",
       "2015-01-01 02:00:00  2256.0\n",
       "2015-01-01 03:00:00  2170.0\n",
       "2015-01-01 04:00:00  2136.0\n",
       "...                     ...\n",
       "2015-12-31 19:00:00  3728.0\n",
       "2015-12-31 20:00:00  3461.0\n",
       "2015-12-31 21:00:00  3195.0\n",
       "2015-12-31 22:00:00  2999.0\n",
       "2015-12-31 23:00:00  2899.0\n",
       "\n",
       "[8760 rows x 1 columns]"
      ]
     },
     "execution_count": 35,
     "metadata": {},
     "output_type": "execute_result"
    }
   ],
   "source": [
    "network.loads_t.p_set"
   ]
  },
  {
   "cell_type": "markdown",
   "metadata": {
    "id": "z0Xa6qINlh-J"
   },
   "source": [
    "In the optimization, we will minimize the annualized system costs.\n",
    "\n",
    "We will need to annualize the cost of every generator, we build a function to do it."
   ]
  },
  {
   "cell_type": "code",
   "execution_count": 36,
   "metadata": {
    "id": "8FwQn-1Glh-K"
   },
   "outputs": [],
   "source": [
    "def annuity(n,r):\n",
    "    \"\"\" Calculate the annuity factor for an asset with lifetime n years and\n",
    "    discount rate  r \"\"\"\n",
    "\n",
    "    if r > 0:\n",
    "        return r/(1. - 1./(1.+r)**n)\n",
    "    else:\n",
    "        return 1/n\n"
   ]
  },
  {
   "cell_type": "code",
   "execution_count": 37,
   "metadata": {},
   "outputs": [],
   "source": [
    "annuity = costs.apply(lambda x: annuity(x[\"discount rate\"], x[\"lifetime\"]), axis=1)\n",
    "costs[\"capital_cost\"] = (annuity + costs[\"FOM\"] / 100) * costs[\"investment\"]"
   ]
  },
  {
   "cell_type": "markdown",
   "metadata": {
    "id": "qmgek0dplh-K"
   },
   "source": [
    "We include solar PV and onshore wind generators.\n",
    "\n",
    "The capacity factors representing the availability of those generators for every European country can be downloaded from the following repositories (select 'optimal' for PV and onshore for wind).\n",
    "\n",
    "https://zenodo.org/record/3253876#.XSiVOEdS8l0\n",
    "\n",
    "https://zenodo.org/record/2613651#.XSiVOkdS8l0\n",
    "\n",
    "We include also Open Cycle Gas Turbine (OCGT) generators\n",
    "\n",
    "The cost assumed for the generators are the same as in Table 1 in the paper https://doi.org/10.1016/j.enconman.2019.111977 (open version:  https://arxiv.org/pdf/1906.06936.pdf)"
   ]
  },
  {
   "cell_type": "code",
   "execution_count": 38,
   "metadata": {
    "id": "Z76IMqR7lh-K"
   },
   "outputs": [
    {
     "data": {
      "text/plain": [
       "Index(['Coal'], dtype='object')"
      ]
     },
     "execution_count": 38,
     "metadata": {},
     "output_type": "execute_result"
    }
   ],
   "source": [
    "# add the different carriers, only gas emits CO2\n",
    "network.add(\"Carrier\", \"gas\", co2_emissions=0.19) # in t_CO2/MWh_th\n",
    "network.add(\"Carrier\", \"onshorewind\")\n",
    "network.add(\"Carrier\", \"solar\")\n",
    "network.add(\"Carrier\", \"coal\", co2_emissions = costs.at[\"coal\", \"CO2 intensity\"]) # in t_CO2/MWh_th\n",
    "\n",
    "# add onshore wind generator\n",
    "df_onshorewind = pd.read_csv('data/onshore_wind_1979-2017.csv', sep=';', index_col=0)\n",
    "df_onshorewind.index = pd.to_datetime(df_onshorewind.index)\n",
    "CF_wind = df_onshorewind[country][[hour.strftime(\"%Y-%m-%dT%H:%M:%SZ\") for hour in network.snapshots]]\n",
    "network.add(\"Generator\",\n",
    "            \"onshorewind\",\n",
    "            bus=\"electricity bus\",\n",
    "            p_nom_extendable=True,\n",
    "            carrier=\"onshorewind\",\n",
    "            #p_nom_max=1000, # maximum capacity can be limited due to environmental constraints\n",
    "            capital_cost = costs.at[\"onwind\", \"capital_cost\"], # in €/MW\n",
    "            marginal_cost = 0,\n",
    "            p_max_pu = CF_wind.values)\n",
    "\n",
    "# add solar PV generator\n",
    "df_solar = pd.read_csv('data/pv_optimal.csv', sep=';', index_col=0)\n",
    "df_solar.index = pd.to_datetime(df_solar.index)\n",
    "CF_solar = df_solar[country][[hour.strftime(\"%Y-%m-%dT%H:%M:%SZ\") for hour in network.snapshots]]\n",
    "network.add(\"Generator\",\n",
    "            \"solar\",\n",
    "            bus=\"electricity bus\",\n",
    "            p_nom_extendable=True,\n",
    "            carrier=\"solar\",\n",
    "            #p_nom_max=1000, # maximum capacity can be limited due to environmental constraints\n",
    "            capital_cost = costs.at[\"solar\", \"capital_cost\"], # in €/MW\n",
    "            marginal_cost = 0,\n",
    "            p_max_pu = CF_solar.values)\n",
    "\n",
    "# add OCGT (Open Cycle Gas Turbine) generator\n",
    "network.add(\"Generator\",\n",
    "            \"OCGT\",\n",
    "            bus=\"electricity bus\",\n",
    "            p_nom_extendable=True,\n",
    "            carrier=\"gas\",\n",
    "            #p_nom_max=1000,\n",
    "            capital_cost = costs.at[\"OCGT\", \"capital_cost\"], #in €/MW\n",
    "            marginal_cost = costs.at[\"OCGT\", \"marginal_cost\"])\n",
    "\n",
    "# add Coal generator\n",
    "network.add(\"Generator\",\n",
    "            \"Coal\",\n",
    "            bus=\"electricity bus\",\n",
    "            p_nom_extendable=True,\n",
    "            carrier=\"electricity\",\n",
    "            #p_nom_max=1000,\n",
    "            capital_cost = costs.at[\"coal\", \"capital_cost\"], #in €/MW\n",
    "            marginal_cost = costs.at[\"coal\", \"marginal_cost\"])"
   ]
  },
  {
   "cell_type": "markdown",
   "metadata": {
    "id": "w0VEC7Rnlh-M"
   },
   "source": [
    "Print the generator Capacity factor time series to check that it has been properly added (you should see numbers and not 'NaN')"
   ]
  },
  {
   "cell_type": "code",
   "execution_count": 39,
   "metadata": {
    "id": "2wrI9_Qilh-N",
    "outputId": "3f107f56-68b4-4954-f9e1-cd06b2e7a1aa"
   },
   "outputs": [
    {
     "data": {
      "application/vnd.microsoft.datawrangler.viewer.v0+json": {
       "columns": [
        {
         "name": "snapshot",
         "rawType": "datetime64[ns]",
         "type": "datetime"
        },
        {
         "name": "onshorewind",
         "rawType": "float64",
         "type": "float"
        },
        {
         "name": "solar",
         "rawType": "float64",
         "type": "float"
        }
       ],
       "conversionMethod": "pd.DataFrame",
       "ref": "23bc2609-9eb4-40a9-b71e-32e1ccc243ef",
       "rows": [
        [
         "2015-01-01 00:00:00",
         "0.472",
         "0.0"
        ],
        [
         "2015-01-01 01:00:00",
         "0.435",
         "0.0"
        ],
        [
         "2015-01-01 02:00:00",
         "0.449",
         "0.0"
        ],
        [
         "2015-01-01 03:00:00",
         "0.524",
         "0.0"
        ],
        [
         "2015-01-01 04:00:00",
         "0.593",
         "0.0"
        ],
        [
         "2015-01-01 05:00:00",
         "0.662",
         "0.0"
        ],
        [
         "2015-01-01 06:00:00",
         "0.705",
         "0.0"
        ],
        [
         "2015-01-01 07:00:00",
         "0.728",
         "0.0"
        ],
        [
         "2015-01-01 08:00:00",
         "0.733",
         "0.0"
        ],
        [
         "2015-01-01 09:00:00",
         "0.728",
         "0.002"
        ],
        [
         "2015-01-01 10:00:00",
         "0.723",
         "0.006"
        ],
        [
         "2015-01-01 11:00:00",
         "0.712",
         "0.009"
        ],
        [
         "2015-01-01 12:00:00",
         "0.716",
         "0.011"
        ],
        [
         "2015-01-01 13:00:00",
         "0.718",
         "0.01"
        ],
        [
         "2015-01-01 14:00:00",
         "0.712",
         "0.005"
        ],
        [
         "2015-01-01 15:00:00",
         "0.722",
         "0.002"
        ],
        [
         "2015-01-01 16:00:00",
         "0.724",
         "0.0"
        ],
        [
         "2015-01-01 17:00:00",
         "0.736",
         "0.0"
        ],
        [
         "2015-01-01 18:00:00",
         "0.738",
         "0.0"
        ],
        [
         "2015-01-01 19:00:00",
         "0.737",
         "0.0"
        ],
        [
         "2015-01-01 20:00:00",
         "0.724",
         "0.0"
        ],
        [
         "2015-01-01 21:00:00",
         "0.717",
         "0.0"
        ],
        [
         "2015-01-01 22:00:00",
         "0.695",
         "0.0"
        ],
        [
         "2015-01-01 23:00:00",
         "0.659",
         "0.0"
        ],
        [
         "2015-01-02 00:00:00",
         "0.695",
         "0.0"
        ],
        [
         "2015-01-02 01:00:00",
         "0.605",
         "0.0"
        ],
        [
         "2015-01-02 02:00:00",
         "0.544",
         "0.0"
        ],
        [
         "2015-01-02 03:00:00",
         "0.519",
         "0.0"
        ],
        [
         "2015-01-02 04:00:00",
         "0.485",
         "0.0"
        ],
        [
         "2015-01-02 05:00:00",
         "0.452",
         "0.0"
        ],
        [
         "2015-01-02 06:00:00",
         "0.466",
         "0.0"
        ],
        [
         "2015-01-02 07:00:00",
         "0.383",
         "0.0"
        ],
        [
         "2015-01-02 08:00:00",
         "0.334",
         "0.0"
        ],
        [
         "2015-01-02 09:00:00",
         "0.288",
         "0.073"
        ],
        [
         "2015-01-02 10:00:00",
         "0.279",
         "0.317"
        ],
        [
         "2015-01-02 11:00:00",
         "0.292",
         "0.436"
        ],
        [
         "2015-01-02 12:00:00",
         "0.436",
         "0.483"
        ],
        [
         "2015-01-02 13:00:00",
         "0.367",
         "0.508"
        ],
        [
         "2015-01-02 14:00:00",
         "0.295",
         "0.338"
        ],
        [
         "2015-01-02 15:00:00",
         "0.265",
         "0.122"
        ],
        [
         "2015-01-02 16:00:00",
         "0.264",
         "0.0"
        ],
        [
         "2015-01-02 17:00:00",
         "0.264",
         "0.0"
        ],
        [
         "2015-01-02 18:00:00",
         "0.304",
         "0.0"
        ],
        [
         "2015-01-02 19:00:00",
         "0.286",
         "0.0"
        ],
        [
         "2015-01-02 20:00:00",
         "0.244",
         "0.0"
        ],
        [
         "2015-01-02 21:00:00",
         "0.232",
         "0.0"
        ],
        [
         "2015-01-02 22:00:00",
         "0.226",
         "0.0"
        ],
        [
         "2015-01-02 23:00:00",
         "0.229",
         "0.0"
        ],
        [
         "2015-01-03 00:00:00",
         "0.184",
         "0.0"
        ],
        [
         "2015-01-03 01:00:00",
         "0.157",
         "0.0"
        ]
       ],
       "shape": {
        "columns": 2,
        "rows": 8760
       }
      },
      "text/html": [
       "<div>\n",
       "<style scoped>\n",
       "    .dataframe tbody tr th:only-of-type {\n",
       "        vertical-align: middle;\n",
       "    }\n",
       "\n",
       "    .dataframe tbody tr th {\n",
       "        vertical-align: top;\n",
       "    }\n",
       "\n",
       "    .dataframe thead th {\n",
       "        text-align: right;\n",
       "    }\n",
       "</style>\n",
       "<table border=\"1\" class=\"dataframe\">\n",
       "  <thead>\n",
       "    <tr style=\"text-align: right;\">\n",
       "      <th>Generator</th>\n",
       "      <th>onshorewind</th>\n",
       "      <th>solar</th>\n",
       "    </tr>\n",
       "    <tr>\n",
       "      <th>snapshot</th>\n",
       "      <th></th>\n",
       "      <th></th>\n",
       "    </tr>\n",
       "  </thead>\n",
       "  <tbody>\n",
       "    <tr>\n",
       "      <th>2015-01-01 00:00:00</th>\n",
       "      <td>0.472</td>\n",
       "      <td>0.0</td>\n",
       "    </tr>\n",
       "    <tr>\n",
       "      <th>2015-01-01 01:00:00</th>\n",
       "      <td>0.435</td>\n",
       "      <td>0.0</td>\n",
       "    </tr>\n",
       "    <tr>\n",
       "      <th>2015-01-01 02:00:00</th>\n",
       "      <td>0.449</td>\n",
       "      <td>0.0</td>\n",
       "    </tr>\n",
       "    <tr>\n",
       "      <th>2015-01-01 03:00:00</th>\n",
       "      <td>0.524</td>\n",
       "      <td>0.0</td>\n",
       "    </tr>\n",
       "    <tr>\n",
       "      <th>2015-01-01 04:00:00</th>\n",
       "      <td>0.593</td>\n",
       "      <td>0.0</td>\n",
       "    </tr>\n",
       "    <tr>\n",
       "      <th>...</th>\n",
       "      <td>...</td>\n",
       "      <td>...</td>\n",
       "    </tr>\n",
       "    <tr>\n",
       "      <th>2015-12-31 19:00:00</th>\n",
       "      <td>0.156</td>\n",
       "      <td>0.0</td>\n",
       "    </tr>\n",
       "    <tr>\n",
       "      <th>2015-12-31 20:00:00</th>\n",
       "      <td>0.162</td>\n",
       "      <td>0.0</td>\n",
       "    </tr>\n",
       "    <tr>\n",
       "      <th>2015-12-31 21:00:00</th>\n",
       "      <td>0.155</td>\n",
       "      <td>0.0</td>\n",
       "    </tr>\n",
       "    <tr>\n",
       "      <th>2015-12-31 22:00:00</th>\n",
       "      <td>0.160</td>\n",
       "      <td>0.0</td>\n",
       "    </tr>\n",
       "    <tr>\n",
       "      <th>2015-12-31 23:00:00</th>\n",
       "      <td>0.163</td>\n",
       "      <td>0.0</td>\n",
       "    </tr>\n",
       "  </tbody>\n",
       "</table>\n",
       "<p>8760 rows × 2 columns</p>\n",
       "</div>"
      ],
      "text/plain": [
       "Generator            onshorewind  solar\n",
       "snapshot                               \n",
       "2015-01-01 00:00:00        0.472    0.0\n",
       "2015-01-01 01:00:00        0.435    0.0\n",
       "2015-01-01 02:00:00        0.449    0.0\n",
       "2015-01-01 03:00:00        0.524    0.0\n",
       "2015-01-01 04:00:00        0.593    0.0\n",
       "...                          ...    ...\n",
       "2015-12-31 19:00:00        0.156    0.0\n",
       "2015-12-31 20:00:00        0.162    0.0\n",
       "2015-12-31 21:00:00        0.155    0.0\n",
       "2015-12-31 22:00:00        0.160    0.0\n",
       "2015-12-31 23:00:00        0.163    0.0\n",
       "\n",
       "[8760 rows x 2 columns]"
      ]
     },
     "execution_count": 39,
     "metadata": {},
     "output_type": "execute_result"
    }
   ],
   "source": [
    "network.generators_t.p_max_pu"
   ]
  },
  {
   "cell_type": "markdown",
   "metadata": {
    "id": "YJvZ8WiNlh-O"
   },
   "source": [
    "We find the optimal solution using Gurobi as solver.\n",
    "\n",
    "In this case, we are optimizing the installed capacity and dispatch of every generator to minimize the total system cost."
   ]
  },
  {
   "cell_type": "code",
   "execution_count": 40,
   "metadata": {
    "id": "Ibj0SbQplh-O",
    "outputId": "d6af4f7f-336d-4d55-f0f6-b009db231107"
   },
   "outputs": [
    {
     "name": "stderr",
     "output_type": "stream",
     "text": [
      "WARNING:pypsa.consistency:The following buses have carriers which are not defined:\n",
      "Index(['electricity bus'], dtype='object', name='Bus')\n",
      "WARNING:pypsa.consistency:The following generators have carriers which are not defined:\n",
      "Index(['Coal'], dtype='object', name='Generator')\n",
      "INFO:linopy.model: Solve problem using Gurobi solver\n",
      "INFO:linopy.io:Writing objective.\n",
      "Writing constraints.: 100%|\u001b[38;2;128;191;255m██████████\u001b[0m| 5/5 [00:00<00:00, 38.63it/s]\n",
      "Writing continuous variables.: 100%|\u001b[38;2;128;191;255m██████████\u001b[0m| 2/2 [00:00<00:00, 94.58it/s]\n",
      "INFO:linopy.io: Writing time: 0.18s\n"
     ]
    },
    {
     "name": "stdout",
     "output_type": "stream",
     "text": [
      "Set parameter Username\n"
     ]
    },
    {
     "name": "stderr",
     "output_type": "stream",
     "text": [
      "INFO:gurobipy:Set parameter Username\n"
     ]
    },
    {
     "name": "stdout",
     "output_type": "stream",
     "text": [
      "Academic license - for non-commercial use only - expires 2025-10-16\n"
     ]
    },
    {
     "name": "stderr",
     "output_type": "stream",
     "text": [
      "INFO:gurobipy:Academic license - for non-commercial use only - expires 2025-10-16\n"
     ]
    },
    {
     "name": "stdout",
     "output_type": "stream",
     "text": [
      "Read LP format model from file /private/var/folders/j2/tx7xgp1d11n3lnbvkls0cjsw0000gn/T/linopy-problem-nny1epc3.lp\n"
     ]
    },
    {
     "name": "stderr",
     "output_type": "stream",
     "text": [
      "INFO:gurobipy:Read LP format model from file /private/var/folders/j2/tx7xgp1d11n3lnbvkls0cjsw0000gn/T/linopy-problem-nny1epc3.lp\n"
     ]
    },
    {
     "name": "stdout",
     "output_type": "stream",
     "text": [
      "Reading time = 0.07 seconds\n"
     ]
    },
    {
     "name": "stderr",
     "output_type": "stream",
     "text": [
      "INFO:gurobipy:Reading time = 0.07 seconds\n"
     ]
    },
    {
     "name": "stdout",
     "output_type": "stream",
     "text": [
      "obj: 78844 rows, 35044 columns, 135784 nonzeros\n"
     ]
    },
    {
     "name": "stderr",
     "output_type": "stream",
     "text": [
      "INFO:gurobipy:obj: 78844 rows, 35044 columns, 135784 nonzeros\n"
     ]
    },
    {
     "name": "stdout",
     "output_type": "stream",
     "text": [
      "Gurobi Optimizer version 11.0.0 build v11.0.0rc2 (mac64[arm] - Darwin 23.2.0 23C64)\n"
     ]
    },
    {
     "name": "stderr",
     "output_type": "stream",
     "text": [
      "INFO:gurobipy:Gurobi Optimizer version 11.0.0 build v11.0.0rc2 (mac64[arm] - Darwin 23.2.0 23C64)\n"
     ]
    },
    {
     "name": "stdout",
     "output_type": "stream",
     "text": [
      "\n"
     ]
    },
    {
     "name": "stderr",
     "output_type": "stream",
     "text": [
      "INFO:gurobipy:\n"
     ]
    },
    {
     "name": "stdout",
     "output_type": "stream",
     "text": [
      "CPU model: Apple M3 Pro\n"
     ]
    },
    {
     "name": "stderr",
     "output_type": "stream",
     "text": [
      "INFO:gurobipy:CPU model: Apple M3 Pro\n"
     ]
    },
    {
     "name": "stdout",
     "output_type": "stream",
     "text": [
      "Thread count: 11 physical cores, 11 logical processors, using up to 11 threads\n"
     ]
    },
    {
     "name": "stderr",
     "output_type": "stream",
     "text": [
      "INFO:gurobipy:Thread count: 11 physical cores, 11 logical processors, using up to 11 threads\n"
     ]
    },
    {
     "name": "stdout",
     "output_type": "stream",
     "text": [
      "\n"
     ]
    },
    {
     "name": "stderr",
     "output_type": "stream",
     "text": [
      "INFO:gurobipy:\n"
     ]
    },
    {
     "name": "stdout",
     "output_type": "stream",
     "text": [
      "Optimize a model with 78844 rows, 35044 columns and 135784 nonzeros\n"
     ]
    },
    {
     "name": "stderr",
     "output_type": "stream",
     "text": [
      "INFO:gurobipy:Optimize a model with 78844 rows, 35044 columns and 135784 nonzeros\n"
     ]
    },
    {
     "name": "stdout",
     "output_type": "stream",
     "text": [
      "Model fingerprint: 0x63a0553d\n"
     ]
    },
    {
     "name": "stderr",
     "output_type": "stream",
     "text": [
      "INFO:gurobipy:Model fingerprint: 0x63a0553d\n"
     ]
    },
    {
     "name": "stdout",
     "output_type": "stream",
     "text": [
      "Coefficient statistics:\n"
     ]
    },
    {
     "name": "stderr",
     "output_type": "stream",
     "text": [
      "INFO:gurobipy:Coefficient statistics:\n"
     ]
    },
    {
     "name": "stdout",
     "output_type": "stream",
     "text": [
      "  Matrix range     [1e-03, 1e+00]\n"
     ]
    },
    {
     "name": "stderr",
     "output_type": "stream",
     "text": [
      "INFO:gurobipy:  Matrix range     [1e-03, 1e+00]\n"
     ]
    },
    {
     "name": "stdout",
     "output_type": "stream",
     "text": [
      "  Objective range  [3e+01, 7e+08]\n"
     ]
    },
    {
     "name": "stderr",
     "output_type": "stream",
     "text": [
      "INFO:gurobipy:  Objective range  [3e+01, 7e+08]\n"
     ]
    },
    {
     "name": "stdout",
     "output_type": "stream",
     "text": [
      "  Bounds range     [0e+00, 0e+00]\n"
     ]
    },
    {
     "name": "stderr",
     "output_type": "stream",
     "text": [
      "INFO:gurobipy:  Bounds range     [0e+00, 0e+00]\n"
     ]
    },
    {
     "name": "stdout",
     "output_type": "stream",
     "text": [
      "  RHS range        [2e+03, 5e+03]\n"
     ]
    },
    {
     "name": "stderr",
     "output_type": "stream",
     "text": [
      "INFO:gurobipy:  RHS range        [2e+03, 5e+03]\n"
     ]
    },
    {
     "name": "stdout",
     "output_type": "stream",
     "text": [
      "Presolve removed 39424 rows and 4380 columns\n"
     ]
    },
    {
     "name": "stderr",
     "output_type": "stream",
     "text": [
      "INFO:gurobipy:Presolve removed 39424 rows and 4380 columns\n"
     ]
    },
    {
     "name": "stdout",
     "output_type": "stream",
     "text": [
      "Presolve time: 0.03s\n"
     ]
    },
    {
     "name": "stderr",
     "output_type": "stream",
     "text": [
      "INFO:gurobipy:Presolve time: 0.03s\n"
     ]
    },
    {
     "name": "stdout",
     "output_type": "stream",
     "text": [
      "Presolved: 39420 rows, 30664 columns, 91980 nonzeros\n"
     ]
    },
    {
     "name": "stderr",
     "output_type": "stream",
     "text": [
      "INFO:gurobipy:Presolved: 39420 rows, 30664 columns, 91980 nonzeros\n"
     ]
    },
    {
     "name": "stdout",
     "output_type": "stream",
     "text": [
      "\n"
     ]
    },
    {
     "name": "stderr",
     "output_type": "stream",
     "text": [
      "INFO:gurobipy:\n"
     ]
    },
    {
     "name": "stdout",
     "output_type": "stream",
     "text": [
      "Concurrent LP optimizer: primal simplex, dual simplex, and barrier\n"
     ]
    },
    {
     "name": "stderr",
     "output_type": "stream",
     "text": [
      "INFO:gurobipy:Concurrent LP optimizer: primal simplex, dual simplex, and barrier\n"
     ]
    },
    {
     "name": "stdout",
     "output_type": "stream",
     "text": [
      "Showing barrier log only...\n"
     ]
    },
    {
     "name": "stderr",
     "output_type": "stream",
     "text": [
      "INFO:gurobipy:Showing barrier log only...\n"
     ]
    },
    {
     "name": "stdout",
     "output_type": "stream",
     "text": [
      "\n"
     ]
    },
    {
     "name": "stderr",
     "output_type": "stream",
     "text": [
      "INFO:gurobipy:\n"
     ]
    },
    {
     "name": "stdout",
     "output_type": "stream",
     "text": [
      "Ordering time: 0.00s\n"
     ]
    },
    {
     "name": "stderr",
     "output_type": "stream",
     "text": [
      "INFO:gurobipy:Ordering time: 0.00s\n"
     ]
    },
    {
     "name": "stdout",
     "output_type": "stream",
     "text": [
      "\n"
     ]
    },
    {
     "name": "stderr",
     "output_type": "stream",
     "text": [
      "INFO:gurobipy:\n"
     ]
    },
    {
     "name": "stdout",
     "output_type": "stream",
     "text": [
      "Barrier statistics:\n"
     ]
    },
    {
     "name": "stderr",
     "output_type": "stream",
     "text": [
      "INFO:gurobipy:Barrier statistics:\n"
     ]
    },
    {
     "name": "stdout",
     "output_type": "stream",
     "text": [
      " Dense cols : 4\n"
     ]
    },
    {
     "name": "stderr",
     "output_type": "stream",
     "text": [
      "INFO:gurobipy: Dense cols : 4\n"
     ]
    },
    {
     "name": "stdout",
     "output_type": "stream",
     "text": [
      " AA' NZ     : 6.132e+04\n"
     ]
    },
    {
     "name": "stderr",
     "output_type": "stream",
     "text": [
      "INFO:gurobipy: AA' NZ     : 6.132e+04\n"
     ]
    },
    {
     "name": "stdout",
     "output_type": "stream",
     "text": [
      " Factor NZ  : 2.497e+05 (roughly 30 MB of memory)\n"
     ]
    },
    {
     "name": "stderr",
     "output_type": "stream",
     "text": [
      "INFO:gurobipy: Factor NZ  : 2.497e+05 (roughly 30 MB of memory)\n"
     ]
    },
    {
     "name": "stdout",
     "output_type": "stream",
     "text": [
      " Factor Ops : 1.669e+06 (less than 1 second per iteration)\n"
     ]
    },
    {
     "name": "stderr",
     "output_type": "stream",
     "text": [
      "INFO:gurobipy: Factor Ops : 1.669e+06 (less than 1 second per iteration)\n"
     ]
    },
    {
     "name": "stdout",
     "output_type": "stream",
     "text": [
      " Threads    : 9\n"
     ]
    },
    {
     "name": "stderr",
     "output_type": "stream",
     "text": [
      "INFO:gurobipy: Threads    : 9\n"
     ]
    },
    {
     "name": "stdout",
     "output_type": "stream",
     "text": [
      "\n"
     ]
    },
    {
     "name": "stderr",
     "output_type": "stream",
     "text": [
      "INFO:gurobipy:\n"
     ]
    },
    {
     "name": "stdout",
     "output_type": "stream",
     "text": [
      "                  Objective                Residual\n"
     ]
    },
    {
     "name": "stderr",
     "output_type": "stream",
     "text": [
      "INFO:gurobipy:                  Objective                Residual\n"
     ]
    },
    {
     "name": "stdout",
     "output_type": "stream",
     "text": [
      "Iter       Primal          Dual         Primal    Dual     Compl     Time\n"
     ]
    },
    {
     "name": "stderr",
     "output_type": "stream",
     "text": [
      "INFO:gurobipy:Iter       Primal          Dual         Primal    Dual     Compl     Time\n"
     ]
    },
    {
     "name": "stdout",
     "output_type": "stream",
     "text": [
      "   0   1.39085559e+13  0.00000000e+00  2.19e+04 0.00e+00  1.15e+10     0s\n"
     ]
    },
    {
     "name": "stderr",
     "output_type": "stream",
     "text": [
      "INFO:gurobipy:   0   1.39085559e+13  0.00000000e+00  2.19e+04 0.00e+00  1.15e+10     0s\n"
     ]
    },
    {
     "name": "stdout",
     "output_type": "stream",
     "text": [
      "   1   2.23491300e+13 -3.79665050e+13  1.99e+03 3.93e+05  2.23e+09     0s\n"
     ]
    },
    {
     "name": "stderr",
     "output_type": "stream",
     "text": [
      "INFO:gurobipy:   1   2.23491300e+13 -3.79665050e+13  1.99e+03 3.93e+05  2.23e+09     0s\n"
     ]
    },
    {
     "name": "stdout",
     "output_type": "stream",
     "text": [
      "   2   1.34186697e+13 -5.83244729e+12  5.46e-12 1.11e+04  2.37e+08     0s\n"
     ]
    },
    {
     "name": "stderr",
     "output_type": "stream",
     "text": [
      "INFO:gurobipy:   2   1.34186697e+13 -5.83244729e+12  5.46e-12 1.11e+04  2.37e+08     0s\n"
     ]
    },
    {
     "name": "stdout",
     "output_type": "stream",
     "text": [
      "   3   6.01735685e+12 -3.34234438e+11  5.46e-12 4.27e+02  7.09e+07     0s\n"
     ]
    },
    {
     "name": "stderr",
     "output_type": "stream",
     "text": [
      "INFO:gurobipy:   3   6.01735685e+12 -3.34234438e+11  5.46e-12 4.27e+02  7.09e+07     0s\n"
     ]
    },
    {
     "name": "stdout",
     "output_type": "stream",
     "text": [
      "   4   1.88507133e+12  2.89339594e+10  1.09e-11 1.56e+02  2.04e+07     0s\n"
     ]
    },
    {
     "name": "stderr",
     "output_type": "stream",
     "text": [
      "INFO:gurobipy:   4   1.88507133e+12  2.89339594e+10  1.09e-11 1.56e+02  2.04e+07     0s\n"
     ]
    },
    {
     "name": "stdout",
     "output_type": "stream",
     "text": [
      "   5   1.04384653e+12  1.60317842e+11  2.91e-11 2.54e+01  9.65e+06     0s\n"
     ]
    },
    {
     "name": "stderr",
     "output_type": "stream",
     "text": [
      "INFO:gurobipy:   5   1.04384653e+12  1.60317842e+11  2.91e-11 2.54e+01  9.65e+06     0s\n"
     ]
    },
    {
     "name": "stdout",
     "output_type": "stream",
     "text": [
      "\n"
     ]
    },
    {
     "name": "stderr",
     "output_type": "stream",
     "text": [
      "INFO:gurobipy:\n"
     ]
    },
    {
     "name": "stdout",
     "output_type": "stream",
     "text": [
      "Barrier performed 5 iterations in 0.10 seconds (0.12 work units)\n"
     ]
    },
    {
     "name": "stderr",
     "output_type": "stream",
     "text": [
      "INFO:gurobipy:Barrier performed 5 iterations in 0.10 seconds (0.12 work units)\n"
     ]
    },
    {
     "name": "stdout",
     "output_type": "stream",
     "text": [
      "Barrier solve interrupted - model solved by another algorithm\n"
     ]
    },
    {
     "name": "stderr",
     "output_type": "stream",
     "text": [
      "INFO:gurobipy:Barrier solve interrupted - model solved by another algorithm\n"
     ]
    },
    {
     "name": "stdout",
     "output_type": "stream",
     "text": [
      "\n"
     ]
    },
    {
     "name": "stderr",
     "output_type": "stream",
     "text": [
      "INFO:gurobipy:\n"
     ]
    },
    {
     "name": "stdout",
     "output_type": "stream",
     "text": [
      "\n"
     ]
    },
    {
     "name": "stderr",
     "output_type": "stream",
     "text": [
      "INFO:gurobipy:\n"
     ]
    },
    {
     "name": "stdout",
     "output_type": "stream",
     "text": [
      "Solved with dual simplex\n"
     ]
    },
    {
     "name": "stderr",
     "output_type": "stream",
     "text": [
      "INFO:gurobipy:Solved with dual simplex\n"
     ]
    },
    {
     "name": "stdout",
     "output_type": "stream",
     "text": [
      "Iteration    Objective       Primal Inf.    Dual Inf.      Time\n"
     ]
    },
    {
     "name": "stderr",
     "output_type": "stream",
     "text": [
      "INFO:gurobipy:Iteration    Objective       Primal Inf.    Dual Inf.      Time\n"
     ]
    },
    {
     "name": "stdout",
     "output_type": "stream",
     "text": [
      "   21901    2.7067052e+11   0.000000e+00   0.000000e+00      0s\n"
     ]
    },
    {
     "name": "stderr",
     "output_type": "stream",
     "text": [
      "INFO:gurobipy:   21901    2.7067052e+11   0.000000e+00   0.000000e+00      0s\n"
     ]
    },
    {
     "name": "stdout",
     "output_type": "stream",
     "text": [
      "\n"
     ]
    },
    {
     "name": "stderr",
     "output_type": "stream",
     "text": [
      "INFO:gurobipy:\n"
     ]
    },
    {
     "name": "stdout",
     "output_type": "stream",
     "text": [
      "Solved in 21901 iterations and 0.12 seconds (0.14 work units)\n"
     ]
    },
    {
     "name": "stderr",
     "output_type": "stream",
     "text": [
      "INFO:gurobipy:Solved in 21901 iterations and 0.12 seconds (0.14 work units)\n"
     ]
    },
    {
     "name": "stdout",
     "output_type": "stream",
     "text": [
      "Optimal objective  2.706705222e+11\n"
     ]
    },
    {
     "name": "stderr",
     "output_type": "stream",
     "text": [
      "INFO:gurobipy:Optimal objective  2.706705222e+11\n",
      "INFO:linopy.constants: Optimization successful: \n",
      "Status: ok\n",
      "Termination condition: optimal\n",
      "Solution: 35044 primals, 78844 duals\n",
      "Objective: 2.71e+11\n",
      "Solver model: available\n",
      "Solver message: 2\n",
      "\n",
      "INFO:pypsa.optimization.optimize:The shadow-prices of the constraints Generator-ext-p-lower, Generator-ext-p-upper were not assigned to the network.\n"
     ]
    },
    {
     "data": {
      "text/plain": [
       "('ok', 'optimal')"
      ]
     },
     "execution_count": 40,
     "metadata": {},
     "output_type": "execute_result"
    }
   ],
   "source": [
    "network.optimize(solver_name='gurobi')"
   ]
  },
  {
   "cell_type": "markdown",
   "metadata": {
    "id": "Hkzx4fkjlh-P"
   },
   "source": [
    "The message ('ok' , 'optimal\") indicates that the optimizer has found an optimal solution.\n",
    "\n",
    "The total cost can be read from the network objetive."
   ]
  },
  {
   "cell_type": "code",
   "execution_count": 41,
   "metadata": {
    "id": "SLFyZH-Tlh-P",
    "outputId": "43bf601b-1034-4c2f-f5e5-82b8837fc5ca"
   },
   "outputs": [
    {
     "name": "stdout",
     "output_type": "stream",
     "text": [
      "270670.52219248045\n"
     ]
    }
   ],
   "source": [
    "print(network.objective/1000000) #in 10^6 €"
   ]
  },
  {
   "cell_type": "markdown",
   "metadata": {
    "id": "mZyD9mRYlh-Q"
   },
   "source": [
    "The cost per MWh of electricity produced can also be calculated."
   ]
  },
  {
   "cell_type": "code",
   "execution_count": 42,
   "metadata": {
    "id": "oq970foLlh-R",
    "outputId": "794a0680-1c6b-4a41-9165-77e3898b136b"
   },
   "outputs": [
    {
     "name": "stdout",
     "output_type": "stream",
     "text": [
      "Load\n",
      "load    10186.203999\n",
      "dtype: float64\n"
     ]
    }
   ],
   "source": [
    "print(network.objective/network.loads_t.p.sum()) # EUR/MWh"
   ]
  },
  {
   "cell_type": "markdown",
   "metadata": {
    "id": "n4zrHT7Elh-S"
   },
   "source": [
    "The optimal capacity for every generator can be shown."
   ]
  },
  {
   "cell_type": "code",
   "execution_count": 43,
   "metadata": {
    "id": "nIsovYgRlh-S",
    "outputId": "c4632c54-2583-4d5b-a9da-80a6521efbdb"
   },
   "outputs": [
    {
     "data": {
      "text/plain": [
       "Generator\n",
       "onshorewind       0.0\n",
       "solar             0.0\n",
       "OCGT           4662.0\n",
       "Coal              0.0\n",
       "Name: p_nom_opt, dtype: float64"
      ]
     },
     "execution_count": 43,
     "metadata": {},
     "output_type": "execute_result"
    }
   ],
   "source": [
    "network.generators.p_nom_opt # in MW"
   ]
  },
  {
   "cell_type": "markdown",
   "metadata": {
    "id": "vdgNfoYelh-T"
   },
   "source": [
    "We can plot now the dispatch of every generator during the first week of the year and the electricity demand.\n",
    "We import the matplotlib package which is very useful to plot results.\n",
    "\n",
    "We can also plot the electricity mix."
   ]
  },
  {
   "cell_type": "code",
   "execution_count": 54,
   "metadata": {
    "id": "ykyhFIzzlh-U",
    "outputId": "4f0717ca-f968-4405-c707-0f55a0d97175"
   },
   "outputs": [
    {
     "data": {
      "application/vnd.plotly.v1+json": {
       "config": {
        "plotlyServerURL": "https://plot.ly"
       },
       "data": [
        {
         "line": {
          "color": "black"
         },
         "mode": "lines",
         "name": "demand",
         "type": "scatter",
         "x": [
          "2015-01-01T00:00:00.000000000",
          "2015-01-01T01:00:00.000000000",
          "2015-01-01T02:00:00.000000000",
          "2015-01-01T03:00:00.000000000",
          "2015-01-01T04:00:00.000000000",
          "2015-01-01T05:00:00.000000000",
          "2015-01-01T06:00:00.000000000",
          "2015-01-01T07:00:00.000000000",
          "2015-01-01T08:00:00.000000000",
          "2015-01-01T09:00:00.000000000",
          "2015-01-01T10:00:00.000000000",
          "2015-01-01T11:00:00.000000000",
          "2015-01-01T12:00:00.000000000",
          "2015-01-01T13:00:00.000000000",
          "2015-01-01T14:00:00.000000000",
          "2015-01-01T15:00:00.000000000",
          "2015-01-01T16:00:00.000000000",
          "2015-01-01T17:00:00.000000000",
          "2015-01-01T18:00:00.000000000",
          "2015-01-01T19:00:00.000000000",
          "2015-01-01T20:00:00.000000000",
          "2015-01-01T21:00:00.000000000",
          "2015-01-01T22:00:00.000000000",
          "2015-01-01T23:00:00.000000000",
          "2015-01-02T00:00:00.000000000",
          "2015-01-02T01:00:00.000000000",
          "2015-01-02T02:00:00.000000000",
          "2015-01-02T03:00:00.000000000",
          "2015-01-02T04:00:00.000000000",
          "2015-01-02T05:00:00.000000000",
          "2015-01-02T06:00:00.000000000",
          "2015-01-02T07:00:00.000000000",
          "2015-01-02T08:00:00.000000000",
          "2015-01-02T09:00:00.000000000",
          "2015-01-02T10:00:00.000000000",
          "2015-01-02T11:00:00.000000000",
          "2015-01-02T12:00:00.000000000",
          "2015-01-02T13:00:00.000000000",
          "2015-01-02T14:00:00.000000000",
          "2015-01-02T15:00:00.000000000",
          "2015-01-02T16:00:00.000000000",
          "2015-01-02T17:00:00.000000000",
          "2015-01-02T18:00:00.000000000",
          "2015-01-02T19:00:00.000000000",
          "2015-01-02T20:00:00.000000000",
          "2015-01-02T21:00:00.000000000",
          "2015-01-02T22:00:00.000000000",
          "2015-01-02T23:00:00.000000000",
          "2015-01-03T00:00:00.000000000",
          "2015-01-03T01:00:00.000000000",
          "2015-01-03T02:00:00.000000000",
          "2015-01-03T03:00:00.000000000",
          "2015-01-03T04:00:00.000000000",
          "2015-01-03T05:00:00.000000000",
          "2015-01-03T06:00:00.000000000",
          "2015-01-03T07:00:00.000000000",
          "2015-01-03T08:00:00.000000000",
          "2015-01-03T09:00:00.000000000",
          "2015-01-03T10:00:00.000000000",
          "2015-01-03T11:00:00.000000000",
          "2015-01-03T12:00:00.000000000",
          "2015-01-03T13:00:00.000000000",
          "2015-01-03T14:00:00.000000000",
          "2015-01-03T15:00:00.000000000",
          "2015-01-03T16:00:00.000000000",
          "2015-01-03T17:00:00.000000000",
          "2015-01-03T18:00:00.000000000",
          "2015-01-03T19:00:00.000000000",
          "2015-01-03T20:00:00.000000000",
          "2015-01-03T21:00:00.000000000",
          "2015-01-03T22:00:00.000000000",
          "2015-01-03T23:00:00.000000000",
          "2015-01-04T00:00:00.000000000",
          "2015-01-04T01:00:00.000000000",
          "2015-01-04T02:00:00.000000000",
          "2015-01-04T03:00:00.000000000",
          "2015-01-04T04:00:00.000000000",
          "2015-01-04T05:00:00.000000000",
          "2015-01-04T06:00:00.000000000",
          "2015-01-04T07:00:00.000000000",
          "2015-01-04T08:00:00.000000000",
          "2015-01-04T09:00:00.000000000",
          "2015-01-04T10:00:00.000000000",
          "2015-01-04T11:00:00.000000000",
          "2015-01-04T12:00:00.000000000",
          "2015-01-04T13:00:00.000000000",
          "2015-01-04T14:00:00.000000000",
          "2015-01-04T15:00:00.000000000",
          "2015-01-04T16:00:00.000000000",
          "2015-01-04T17:00:00.000000000",
          "2015-01-04T18:00:00.000000000",
          "2015-01-04T19:00:00.000000000",
          "2015-01-04T20:00:00.000000000",
          "2015-01-04T21:00:00.000000000",
          "2015-01-04T22:00:00.000000000",
          "2015-01-04T23:00:00.000000000"
         ],
         "y": {
          "bdata": "AAAAAAC2pEAAAAAAANiiQAAAAAAAoKFAAAAAAAD0oEAAAAAAALCgQAAAAAAA8qBAAAAAAABeoUAAAAAAAHShQAAAAAAATqJAAAAAAAB+pEAAAAAAAKqmQAAAAAAAlKhAAAAAAABEqUAAAAAAAJSoQAAAAAAAZKhAAAAAAACAqUAAAAAAAFKrQAAAAAAAEKtAAAAAAAAyqkAAAAAAAAapQAAAAAAA/KdAAAAAAACqpkAAAAAAAJamQAAAAAAAKKVAAAAAAAAoo0AAAAAAALShQAAAAAAA7qBAAAAAAACMoEAAAAAAALSgQAAAAAAAqKFAAAAAAABWo0AAAAAAAAilQAAAAAAA8qZAAAAAAADuqEAAAAAAABiqQAAAAAAAdqpAAAAAAABYqkAAAAAAAMipQAAAAAAAyqlAAAAAAADMq0AAAAAAAFyvQAAAAAAARq9AAAAAAADIrUAAAAAAAPirQAAAAAAAbKpAAAAAAACKqEAAAAAAACCoQAAAAAAAJqZAAAAAAAAqpEAAAAAAALyiQAAAAAAAtKFAAAAAAAAWoUAAAAAAAOagQAAAAAAAjqFAAAAAAACqokAAAAAAAMajQAAAAAAAsqVAAAAAAADCp0AAAAAAAPqoQAAAAAAAoKlAAAAAAACYqUAAAAAAABSpQAAAAAAAAKlAAAAAAACuqkAAAAAAAIKuQAAAAAAAkq5AAAAAAAAgrUAAAAAAAIarQAAAAAAA2KlAAAAAAAAYqEAAAAAAAPKnQAAAAAAAhKZAAAAAAACQpEAAAAAAAPSiQAAAAAAA4qFAAAAAAABYoUAAAAAAAPqgQAAAAAAAQKFAAAAAAAC+oUAAAAAAAByiQAAAAAAAdqNAAAAAAACypUAAAAAAAISnQAAAAAAAGKlAAAAAAAC0qUAAAAAAAEqpQAAAAAAA4qhAAAAAAAAIqkAAAAAAAHCtQAAAAAAA4q1AAAAAAAC8rEAAAAAAAHqrQAAAAAAA1qlAAAAAAACKp0AAAAAAAKSmQAAAAAAA3qRA",
          "dtype": "f8"
         }
        },
        {
         "line": {
          "color": "blue"
         },
         "mode": "lines",
         "name": "onshore wind",
         "type": "scatter",
         "x": [
          "2015-01-01T00:00:00.000000000",
          "2015-01-01T01:00:00.000000000",
          "2015-01-01T02:00:00.000000000",
          "2015-01-01T03:00:00.000000000",
          "2015-01-01T04:00:00.000000000",
          "2015-01-01T05:00:00.000000000",
          "2015-01-01T06:00:00.000000000",
          "2015-01-01T07:00:00.000000000",
          "2015-01-01T08:00:00.000000000",
          "2015-01-01T09:00:00.000000000",
          "2015-01-01T10:00:00.000000000",
          "2015-01-01T11:00:00.000000000",
          "2015-01-01T12:00:00.000000000",
          "2015-01-01T13:00:00.000000000",
          "2015-01-01T14:00:00.000000000",
          "2015-01-01T15:00:00.000000000",
          "2015-01-01T16:00:00.000000000",
          "2015-01-01T17:00:00.000000000",
          "2015-01-01T18:00:00.000000000",
          "2015-01-01T19:00:00.000000000",
          "2015-01-01T20:00:00.000000000",
          "2015-01-01T21:00:00.000000000",
          "2015-01-01T22:00:00.000000000",
          "2015-01-01T23:00:00.000000000",
          "2015-01-02T00:00:00.000000000",
          "2015-01-02T01:00:00.000000000",
          "2015-01-02T02:00:00.000000000",
          "2015-01-02T03:00:00.000000000",
          "2015-01-02T04:00:00.000000000",
          "2015-01-02T05:00:00.000000000",
          "2015-01-02T06:00:00.000000000",
          "2015-01-02T07:00:00.000000000",
          "2015-01-02T08:00:00.000000000",
          "2015-01-02T09:00:00.000000000",
          "2015-01-02T10:00:00.000000000",
          "2015-01-02T11:00:00.000000000",
          "2015-01-02T12:00:00.000000000",
          "2015-01-02T13:00:00.000000000",
          "2015-01-02T14:00:00.000000000",
          "2015-01-02T15:00:00.000000000",
          "2015-01-02T16:00:00.000000000",
          "2015-01-02T17:00:00.000000000",
          "2015-01-02T18:00:00.000000000",
          "2015-01-02T19:00:00.000000000",
          "2015-01-02T20:00:00.000000000",
          "2015-01-02T21:00:00.000000000",
          "2015-01-02T22:00:00.000000000",
          "2015-01-02T23:00:00.000000000",
          "2015-01-03T00:00:00.000000000",
          "2015-01-03T01:00:00.000000000",
          "2015-01-03T02:00:00.000000000",
          "2015-01-03T03:00:00.000000000",
          "2015-01-03T04:00:00.000000000",
          "2015-01-03T05:00:00.000000000",
          "2015-01-03T06:00:00.000000000",
          "2015-01-03T07:00:00.000000000",
          "2015-01-03T08:00:00.000000000",
          "2015-01-03T09:00:00.000000000",
          "2015-01-03T10:00:00.000000000",
          "2015-01-03T11:00:00.000000000",
          "2015-01-03T12:00:00.000000000",
          "2015-01-03T13:00:00.000000000",
          "2015-01-03T14:00:00.000000000",
          "2015-01-03T15:00:00.000000000",
          "2015-01-03T16:00:00.000000000",
          "2015-01-03T17:00:00.000000000",
          "2015-01-03T18:00:00.000000000",
          "2015-01-03T19:00:00.000000000",
          "2015-01-03T20:00:00.000000000",
          "2015-01-03T21:00:00.000000000",
          "2015-01-03T22:00:00.000000000",
          "2015-01-03T23:00:00.000000000",
          "2015-01-04T00:00:00.000000000",
          "2015-01-04T01:00:00.000000000",
          "2015-01-04T02:00:00.000000000",
          "2015-01-04T03:00:00.000000000",
          "2015-01-04T04:00:00.000000000",
          "2015-01-04T05:00:00.000000000",
          "2015-01-04T06:00:00.000000000",
          "2015-01-04T07:00:00.000000000",
          "2015-01-04T08:00:00.000000000",
          "2015-01-04T09:00:00.000000000",
          "2015-01-04T10:00:00.000000000",
          "2015-01-04T11:00:00.000000000",
          "2015-01-04T12:00:00.000000000",
          "2015-01-04T13:00:00.000000000",
          "2015-01-04T14:00:00.000000000",
          "2015-01-04T15:00:00.000000000",
          "2015-01-04T16:00:00.000000000",
          "2015-01-04T17:00:00.000000000",
          "2015-01-04T18:00:00.000000000",
          "2015-01-04T19:00:00.000000000",
          "2015-01-04T20:00:00.000000000",
          "2015-01-04T21:00:00.000000000",
          "2015-01-04T22:00:00.000000000",
          "2015-01-04T23:00:00.000000000"
         ],
         "y": {
          "bdata": "YrnhBRcWjEATdLXCdeKJQOWwnLK5t4pAJlKq7jcuj0DPtTz0p6SRQI1CJPEzspNAGKnZs7f5lEBXLXxd5qiVQOrlwKP7zpVAVy18XeaolUDEdDcX0YKVQEx4068IL5VAj6U9G4BNlUAwvPLQu1yVQEx4068IL5VAc+lcPDN7lUAUABLyboqVQNyHUDTV5ZVAfZ4F6hD1lUAtEysPc+2VQBQAEvJuipVA4DAY9h1VlUDxN1Anja2UQJuglGBam5NA8TdQJ42tlECXPXs2DgCSQGALaBBxL5BAAOEgYg3ijkCT3xNAH9yMQMn0u9Ns5YpAmzGjw7C6i0BQ2+zZVMqGQHGGQxLn34NAdHW5aywjgUDJqVsIE5qAQPrPjUIbYIFAtIpqeLHxiUA7cZt+mdaFQN0TrWPOjYFA7tnoMJ6Jf0CsrH7FJmt/QKysfsUma39Aid8Kx+cWgkAySE8AtQSBQHcjM2HSCX1AWQQ5WDmce0DJ9LvTbOV6QJF8+hXTQHtA3IdQNNXldUDWwR3gPK9yQLZhJ3ME5W9AI6Qw+ZFHY0DmZTznX2xgQJ5JXCKjCmNA3l4NLyjZa0BrwBC+TqlwQHwSqboXTXpAzuMxLbIoeEDMDHUyXzVyQL8/EyaPa2pAdyMzYdIJXUDHHf/YGfJUQLOzrX1e/lNA3IdQNNXlVUDnPPnhsl9WQLOzrX1e/lNAWQQ5WDmcS0BZBDlYOZxLQJ5JXCKjClNAqf4E0ICEU0BEmuf8fahaQO8a5ZQ95mBAqf4E0ICEY0AOOt+d1lNiQH8qYhkKnWFAlJSzdMWQYkCzs619Xv5jQGyXzbihnGZAdHW5aywjYUDnPPnhsl9mQJ8gGR32/WhAHJ0BQVq0bkB7O+y/xFl0QKXmS3GONHxA3l4NLyjZe0DPuu4nBRx+QAczsOWewH1A8sheiuPMfEDyyF6K48x8QJdCLWprd35A8sheiuPMfEB8x0jvvQGAQCBBF89FrIFA/TKnbGf7gkCX98yeESyEQF5/C+F3h4RA",
          "dtype": "f8"
         }
        },
        {
         "line": {
          "color": "orange"
         },
         "mode": "lines",
         "name": "solar",
         "type": "scatter",
         "x": [
          "2015-01-01T00:00:00.000000000",
          "2015-01-01T01:00:00.000000000",
          "2015-01-01T02:00:00.000000000",
          "2015-01-01T03:00:00.000000000",
          "2015-01-01T04:00:00.000000000",
          "2015-01-01T05:00:00.000000000",
          "2015-01-01T06:00:00.000000000",
          "2015-01-01T07:00:00.000000000",
          "2015-01-01T08:00:00.000000000",
          "2015-01-01T09:00:00.000000000",
          "2015-01-01T10:00:00.000000000",
          "2015-01-01T11:00:00.000000000",
          "2015-01-01T12:00:00.000000000",
          "2015-01-01T13:00:00.000000000",
          "2015-01-01T14:00:00.000000000",
          "2015-01-01T15:00:00.000000000",
          "2015-01-01T16:00:00.000000000",
          "2015-01-01T17:00:00.000000000",
          "2015-01-01T18:00:00.000000000",
          "2015-01-01T19:00:00.000000000",
          "2015-01-01T20:00:00.000000000",
          "2015-01-01T21:00:00.000000000",
          "2015-01-01T22:00:00.000000000",
          "2015-01-01T23:00:00.000000000",
          "2015-01-02T00:00:00.000000000",
          "2015-01-02T01:00:00.000000000",
          "2015-01-02T02:00:00.000000000",
          "2015-01-02T03:00:00.000000000",
          "2015-01-02T04:00:00.000000000",
          "2015-01-02T05:00:00.000000000",
          "2015-01-02T06:00:00.000000000",
          "2015-01-02T07:00:00.000000000",
          "2015-01-02T08:00:00.000000000",
          "2015-01-02T09:00:00.000000000",
          "2015-01-02T10:00:00.000000000",
          "2015-01-02T11:00:00.000000000",
          "2015-01-02T12:00:00.000000000",
          "2015-01-02T13:00:00.000000000",
          "2015-01-02T14:00:00.000000000",
          "2015-01-02T15:00:00.000000000",
          "2015-01-02T16:00:00.000000000",
          "2015-01-02T17:00:00.000000000",
          "2015-01-02T18:00:00.000000000",
          "2015-01-02T19:00:00.000000000",
          "2015-01-02T20:00:00.000000000",
          "2015-01-02T21:00:00.000000000",
          "2015-01-02T22:00:00.000000000",
          "2015-01-02T23:00:00.000000000",
          "2015-01-03T00:00:00.000000000",
          "2015-01-03T01:00:00.000000000",
          "2015-01-03T02:00:00.000000000",
          "2015-01-03T03:00:00.000000000",
          "2015-01-03T04:00:00.000000000",
          "2015-01-03T05:00:00.000000000",
          "2015-01-03T06:00:00.000000000",
          "2015-01-03T07:00:00.000000000",
          "2015-01-03T08:00:00.000000000",
          "2015-01-03T09:00:00.000000000",
          "2015-01-03T10:00:00.000000000",
          "2015-01-03T11:00:00.000000000",
          "2015-01-03T12:00:00.000000000",
          "2015-01-03T13:00:00.000000000",
          "2015-01-03T14:00:00.000000000",
          "2015-01-03T15:00:00.000000000",
          "2015-01-03T16:00:00.000000000",
          "2015-01-03T17:00:00.000000000",
          "2015-01-03T18:00:00.000000000",
          "2015-01-03T19:00:00.000000000",
          "2015-01-03T20:00:00.000000000",
          "2015-01-03T21:00:00.000000000",
          "2015-01-03T22:00:00.000000000",
          "2015-01-03T23:00:00.000000000",
          "2015-01-04T00:00:00.000000000",
          "2015-01-04T01:00:00.000000000",
          "2015-01-04T02:00:00.000000000",
          "2015-01-04T03:00:00.000000000",
          "2015-01-04T04:00:00.000000000",
          "2015-01-04T05:00:00.000000000",
          "2015-01-04T06:00:00.000000000",
          "2015-01-04T07:00:00.000000000",
          "2015-01-04T08:00:00.000000000",
          "2015-01-04T09:00:00.000000000",
          "2015-01-04T10:00:00.000000000",
          "2015-01-04T11:00:00.000000000",
          "2015-01-04T12:00:00.000000000",
          "2015-01-04T13:00:00.000000000",
          "2015-01-04T14:00:00.000000000",
          "2015-01-04T15:00:00.000000000",
          "2015-01-04T16:00:00.000000000",
          "2015-01-04T17:00:00.000000000",
          "2015-01-04T18:00:00.000000000",
          "2015-01-04T19:00:00.000000000",
          "2015-01-04T20:00:00.000000000",
          "2015-01-04T21:00:00.000000000",
          "2015-01-04T22:00:00.000000000",
          "2015-01-04T23:00:00.000000000"
         ],
         "y": {
          "bdata": "AAAAAAAAAAAAAAAAAAAAAAAAAAAAAAAAAAAAAAAAAAAAAAAAAAAAAAAAAAAAAAAAAAAAAAAAAAAAAAAAAAAAAAAAAAAAAAAAAAAAAAAAAAAAAAAAAAAAAAAAAAAAAAAAAAAAAAAAAAAAAAAAAAAAAAAAAAAAAAAAAAAAAAAAAAAAAAAAAAAAAAAAAAAAAAAAAAAAAAAAAAAAAAAAAAAAAAAAAAAAAAAAAAAAAAAAAAAAAAAAAAAAAAAAAAAAAAAAAAAAAAAAAAAAAAAAAAAAAAAAAAAAAAAAAAAAAAAAAAAAAAAAAAAAAAAAAAAAAAAAAAAAAAAAAAAAAAAAAAAAAAAAAAAAAAAAAAAAAAAAAAAAAAAAAAAAAAAAAAAAAAAAAAAAAAAAAAAAAAAAAAAAAAAAAAAAAAAAAAAAAAAAAAAAAAAAAAAAAAAAAAAAAAAAAAAAAAAAAAAAAAAAAAAAAAAAAAAAAAAAAAAAAAAAAAAAAAAAAAAAAAAAAAAAAAAAAAAAAAAAAAAAAAAAAAAAAAAAAAAAAAAAAAAAAAAAAAAAAAAAAAAAAAAAAAAAAAAAAAAAAAAAAAAAAAAAAAAAAAAAAAAAAAAAAAAAAAAAAAAAAAAAAAAAAAAAAAAAAAAAAAAAAAAAAAAAAAAAAAAAAAAAAAAAAAAAAAAAAAAAAAAAAAAAAAAAAAAAAAAAAAAAAAAAAAAAAAAAAAAAAAAAAAAAAAAAAAAAAAAAAAAAAAAAAAAAAAAAAAAAAAAAAAAAAAAAAAAAAAAAAAAAAAAAAAAAAAAAAAAAAAAAAAAAAAAAAAAAAAAAAAAAAAAAAAAAAAAAAAAAAAAAAAAAAAAAAAAAAAAAAAAAAAAAAAAAAAAAAAAAAAAAAAAAAAAAAAAAAAAAAAAAAAAAAAAAAAAAAAAAAAAAAAAAAAAAAAAAAAAAAAAAAAAAAAAAAAAAAAAAAAAAAAAAAAAAAAAAAAAAAAAAAAAAAAAAAAAAAAAAAAAAAAAAAAAAAAAAAAAAAAAA",
          "dtype": "f8"
         }
        },
        {
         "line": {
          "color": "brown"
         },
         "mode": "lines",
         "name": "gas (OCGT)",
         "type": "scatter",
         "x": [
          "2015-01-01T00:00:00.000000000",
          "2015-01-01T01:00:00.000000000",
          "2015-01-01T02:00:00.000000000",
          "2015-01-01T03:00:00.000000000",
          "2015-01-01T04:00:00.000000000",
          "2015-01-01T05:00:00.000000000",
          "2015-01-01T06:00:00.000000000",
          "2015-01-01T07:00:00.000000000",
          "2015-01-01T08:00:00.000000000",
          "2015-01-01T09:00:00.000000000",
          "2015-01-01T10:00:00.000000000",
          "2015-01-01T11:00:00.000000000",
          "2015-01-01T12:00:00.000000000",
          "2015-01-01T13:00:00.000000000",
          "2015-01-01T14:00:00.000000000",
          "2015-01-01T15:00:00.000000000",
          "2015-01-01T16:00:00.000000000",
          "2015-01-01T17:00:00.000000000",
          "2015-01-01T18:00:00.000000000",
          "2015-01-01T19:00:00.000000000",
          "2015-01-01T20:00:00.000000000",
          "2015-01-01T21:00:00.000000000",
          "2015-01-01T22:00:00.000000000",
          "2015-01-01T23:00:00.000000000",
          "2015-01-02T00:00:00.000000000",
          "2015-01-02T01:00:00.000000000",
          "2015-01-02T02:00:00.000000000",
          "2015-01-02T03:00:00.000000000",
          "2015-01-02T04:00:00.000000000",
          "2015-01-02T05:00:00.000000000",
          "2015-01-02T06:00:00.000000000",
          "2015-01-02T07:00:00.000000000",
          "2015-01-02T08:00:00.000000000",
          "2015-01-02T09:00:00.000000000",
          "2015-01-02T10:00:00.000000000",
          "2015-01-02T11:00:00.000000000",
          "2015-01-02T12:00:00.000000000",
          "2015-01-02T13:00:00.000000000",
          "2015-01-02T14:00:00.000000000",
          "2015-01-02T15:00:00.000000000",
          "2015-01-02T16:00:00.000000000",
          "2015-01-02T17:00:00.000000000",
          "2015-01-02T18:00:00.000000000",
          "2015-01-02T19:00:00.000000000",
          "2015-01-02T20:00:00.000000000",
          "2015-01-02T21:00:00.000000000",
          "2015-01-02T22:00:00.000000000",
          "2015-01-02T23:00:00.000000000",
          "2015-01-03T00:00:00.000000000",
          "2015-01-03T01:00:00.000000000",
          "2015-01-03T02:00:00.000000000",
          "2015-01-03T03:00:00.000000000",
          "2015-01-03T04:00:00.000000000",
          "2015-01-03T05:00:00.000000000",
          "2015-01-03T06:00:00.000000000",
          "2015-01-03T07:00:00.000000000",
          "2015-01-03T08:00:00.000000000",
          "2015-01-03T09:00:00.000000000",
          "2015-01-03T10:00:00.000000000",
          "2015-01-03T11:00:00.000000000",
          "2015-01-03T12:00:00.000000000",
          "2015-01-03T13:00:00.000000000",
          "2015-01-03T14:00:00.000000000",
          "2015-01-03T15:00:00.000000000",
          "2015-01-03T16:00:00.000000000",
          "2015-01-03T17:00:00.000000000",
          "2015-01-03T18:00:00.000000000",
          "2015-01-03T19:00:00.000000000",
          "2015-01-03T20:00:00.000000000",
          "2015-01-03T21:00:00.000000000",
          "2015-01-03T22:00:00.000000000",
          "2015-01-03T23:00:00.000000000",
          "2015-01-04T00:00:00.000000000",
          "2015-01-04T01:00:00.000000000",
          "2015-01-04T02:00:00.000000000",
          "2015-01-04T03:00:00.000000000",
          "2015-01-04T04:00:00.000000000",
          "2015-01-04T05:00:00.000000000",
          "2015-01-04T06:00:00.000000000",
          "2015-01-04T07:00:00.000000000",
          "2015-01-04T08:00:00.000000000",
          "2015-01-04T09:00:00.000000000",
          "2015-01-04T10:00:00.000000000",
          "2015-01-04T11:00:00.000000000",
          "2015-01-04T12:00:00.000000000",
          "2015-01-04T13:00:00.000000000",
          "2015-01-04T14:00:00.000000000",
          "2015-01-04T15:00:00.000000000",
          "2015-01-04T16:00:00.000000000",
          "2015-01-04T17:00:00.000000000",
          "2015-01-04T18:00:00.000000000",
          "2015-01-04T19:00:00.000000000",
          "2015-01-04T20:00:00.000000000",
          "2015-01-04T21:00:00.000000000",
          "2015-01-04T22:00:00.000000000",
          "2015-01-04T23:00:00.000000000"
         ],
         "y": {
          "bdata": "AAAAAAAAAAAAAAAAAAAAAAAAAAAAAAAAAAAAAAAAAAAAAAAAAAAAAAAAAAAAAAAAAAAAAAAAAAAAAAAAAAAAAAAAAAAAAAAAAAAAAAAAAAAAAAAAAAAAAAAAAAAAAAAAAAAAAAAAAAAAAAAAAAAAAAAAAAAAAAAAAAAAAAAAAAAWDl5wbyZjQK+f07x6VlhAAAAAAAAAAAAAAAAAAAAAAAAAAAAAAAAAAAAAAAAAAAAAAAAAAAAAAAAAAAAAAAAAAAAAAAAAAAAAAAAAAAAAAAAAAAAAAAAAAAAAAAAAAAAAAAAAAAAAAAAAAAAAAAAAAAAAAAAAAAAAAAAAAAAAAHv671sl/XRAOg6CVE0rhUDl2d+3ZlyKQLSzrX1eDotA+vjQR8gEgkBzEqBB4N+DQNFvjlyrMIhAW4vjU9UAkUCtFr4ucyiYQKwWvi5z/JdAElKY/MjPk0C+HfZf4riQQPLxoY+QwY1AggEfFF3whkBJiV1Ww6OFQMuKfGogHHtAgH8mTB6XcEALi7JAbbtgQAi0GjeK00ZAKdV6D6rkUEClUWMzDptQQBrFkd5DL2BA2q/g0b4gaUDxRmbCpLNyQOD0zcXbb3hAxpGiqSCKhUBI/QAnymONQN9ZW/vKPZFAoI8Kup+qkkD7z41CGySSQJzmQvhWC5JAWbnYjN9IlUAJLv6xQemcQJzmQvhWL51AtflbFVuumkC0+VsVW3qXQD39962SypNA7HEd0/RCkEBmkJ4AagmPQPI8AlvqbIhACIh0GLPqf0BVaocxCKNzQDnki+fc3GZASfR0GEOSWkATbAENIu5HQDHdgSAV9U5ARJk0lboWZUDR0fQeNLplQAx36nH4XXRAZhz7L2OxgUDxZUVgl3mGQFyQlYcy3IhAP9S0qOV5i0BHJkQsd7CIQCpqY00qPodANR8M+wdQjECaD4b9A/iUQDFxkgVicZVAmg+G/QOQk0AZXnnoXT6QQI5CJPEzQohAYqEopySGe0AuGN1C0PRxQABFAPMdcEhA",
          "dtype": "f8"
         }
        },
        {
         "line": {
          "color": "grey"
         },
         "mode": "lines",
         "name": "coal",
         "type": "scatter",
         "x": [
          "2015-01-01T00:00:00.000000000",
          "2015-01-01T01:00:00.000000000",
          "2015-01-01T02:00:00.000000000",
          "2015-01-01T03:00:00.000000000",
          "2015-01-01T04:00:00.000000000",
          "2015-01-01T05:00:00.000000000",
          "2015-01-01T06:00:00.000000000",
          "2015-01-01T07:00:00.000000000",
          "2015-01-01T08:00:00.000000000",
          "2015-01-01T09:00:00.000000000",
          "2015-01-01T10:00:00.000000000",
          "2015-01-01T11:00:00.000000000",
          "2015-01-01T12:00:00.000000000",
          "2015-01-01T13:00:00.000000000",
          "2015-01-01T14:00:00.000000000",
          "2015-01-01T15:00:00.000000000",
          "2015-01-01T16:00:00.000000000",
          "2015-01-01T17:00:00.000000000",
          "2015-01-01T18:00:00.000000000",
          "2015-01-01T19:00:00.000000000",
          "2015-01-01T20:00:00.000000000",
          "2015-01-01T21:00:00.000000000",
          "2015-01-01T22:00:00.000000000",
          "2015-01-01T23:00:00.000000000",
          "2015-01-02T00:00:00.000000000",
          "2015-01-02T01:00:00.000000000",
          "2015-01-02T02:00:00.000000000",
          "2015-01-02T03:00:00.000000000",
          "2015-01-02T04:00:00.000000000",
          "2015-01-02T05:00:00.000000000",
          "2015-01-02T06:00:00.000000000",
          "2015-01-02T07:00:00.000000000",
          "2015-01-02T08:00:00.000000000",
          "2015-01-02T09:00:00.000000000",
          "2015-01-02T10:00:00.000000000",
          "2015-01-02T11:00:00.000000000",
          "2015-01-02T12:00:00.000000000",
          "2015-01-02T13:00:00.000000000",
          "2015-01-02T14:00:00.000000000",
          "2015-01-02T15:00:00.000000000",
          "2015-01-02T16:00:00.000000000",
          "2015-01-02T17:00:00.000000000",
          "2015-01-02T18:00:00.000000000",
          "2015-01-02T19:00:00.000000000",
          "2015-01-02T20:00:00.000000000",
          "2015-01-02T21:00:00.000000000",
          "2015-01-02T22:00:00.000000000",
          "2015-01-02T23:00:00.000000000",
          "2015-01-03T00:00:00.000000000",
          "2015-01-03T01:00:00.000000000",
          "2015-01-03T02:00:00.000000000",
          "2015-01-03T03:00:00.000000000",
          "2015-01-03T04:00:00.000000000",
          "2015-01-03T05:00:00.000000000",
          "2015-01-03T06:00:00.000000000",
          "2015-01-03T07:00:00.000000000",
          "2015-01-03T08:00:00.000000000",
          "2015-01-03T09:00:00.000000000",
          "2015-01-03T10:00:00.000000000",
          "2015-01-03T11:00:00.000000000",
          "2015-01-03T12:00:00.000000000",
          "2015-01-03T13:00:00.000000000",
          "2015-01-03T14:00:00.000000000",
          "2015-01-03T15:00:00.000000000",
          "2015-01-03T16:00:00.000000000",
          "2015-01-03T17:00:00.000000000",
          "2015-01-03T18:00:00.000000000",
          "2015-01-03T19:00:00.000000000",
          "2015-01-03T20:00:00.000000000",
          "2015-01-03T21:00:00.000000000",
          "2015-01-03T22:00:00.000000000",
          "2015-01-03T23:00:00.000000000",
          "2015-01-04T00:00:00.000000000",
          "2015-01-04T01:00:00.000000000",
          "2015-01-04T02:00:00.000000000",
          "2015-01-04T03:00:00.000000000",
          "2015-01-04T04:00:00.000000000",
          "2015-01-04T05:00:00.000000000",
          "2015-01-04T06:00:00.000000000",
          "2015-01-04T07:00:00.000000000",
          "2015-01-04T08:00:00.000000000",
          "2015-01-04T09:00:00.000000000",
          "2015-01-04T10:00:00.000000000",
          "2015-01-04T11:00:00.000000000",
          "2015-01-04T12:00:00.000000000",
          "2015-01-04T13:00:00.000000000",
          "2015-01-04T14:00:00.000000000",
          "2015-01-04T15:00:00.000000000",
          "2015-01-04T16:00:00.000000000",
          "2015-01-04T17:00:00.000000000",
          "2015-01-04T18:00:00.000000000",
          "2015-01-04T19:00:00.000000000",
          "2015-01-04T20:00:00.000000000",
          "2015-01-04T21:00:00.000000000",
          "2015-01-04T22:00:00.000000000",
          "2015-01-04T23:00:00.000000000"
         ],
         "y": {
          "bdata": "TyMPffRgm0D2RaUexb6YQI6nsSYj5JVA7daqCORQkkBilIYXsHaPQOZ6tx2YY4xA0K1MmJCEi0BSpQdFM36KQCw0frgImo1AqdKDohlTk0A8i8joLtGXQLSHLFD3+JtAcVrC5H86nUDQQw0vRMubQLSHLFD3mJtAjRajw8yEnUApPuIfw7SeQCk+4h/DtJ5Ag2H6Fe9unkDT7NTwjB6cQOz/7Q2RbZpAIM/nCeL+l0APyK/Ycn6YQGVfa5+ltJZAD8iv2HKikUBpwoTJ8WeRQKD0l++OrJFAgI/vTvmmkUA2EPZf8PmSQJwFIpZJ3ZVAMmcunqfOmEBYkgmT1aqeQCk+4h/DtJ5AKT7iH8O0nkApPuIfw7SeQCk+4h/DtJ5AKT7iH8O0nkApPuIfw7SeQCk+4h/DtJ5AKT7iH8O0nkApPuIfw7SeQCk+4h/DtJ5AKT7iH8O0nkApPuIfw7SeQCk+4h/DtJ5AKT7iH8O0nkApPuIfw7SeQCk+4h/DtJ5AKT7iH8O0nkApPuIfw7SeQCk+4h/DtJ5AKT7iH8O0nkApPuIfw7SeQCk+4h/DtJ5AKT7iH8O0nkApPuIfw7SeQCk+4h/DtJ5AKT7iH8O0nkApPuIfw7SeQCk+4h/DtJ5AKT7iH8O0nkApPuIfw7SeQCk+4h/DtJ5AKT7iH8O0nkApPuIfw7SeQCk+4h/DtJ5AKT7iH8O0nkAqPuIfw7SeQCk+4h/DtJ5AKT7iH8O0nkApPuIfw7SeQCk+4h/DtJ5AKT7iH8O0nkApPuIfw7SeQCk+4h/DtJ5AKT7iH8O0nkApPuIfw7SeQCk+4h/DtJ5AKT7iH8O0nkApPuIfw7SeQCk+4h/DtJ5AKT7iH8O0nkApPuIfw7SeQCk+4h/DtJ5AKT7iH8O0nkApPuIfw7SeQCk+4h/DtJ5AKT7iH8O0nkApPuIfw7SeQCk+4h/DtJ5AKT7iH8O0nkApPuIfw7SeQCk+4h/DtJ5AKT7iH8O0nkApPuIfw7SeQCk+4h/DtJ5A",
          "dtype": "f8"
         }
        }
       ],
       "layout": {
        "legend": {
         "traceorder": "normal",
         "x": 0,
         "y": 1
        },
        "template": {
         "data": {
          "bar": [
           {
            "error_x": {
             "color": "#2a3f5f"
            },
            "error_y": {
             "color": "#2a3f5f"
            },
            "marker": {
             "line": {
              "color": "#E5ECF6",
              "width": 0.5
             },
             "pattern": {
              "fillmode": "overlay",
              "size": 10,
              "solidity": 0.2
             }
            },
            "type": "bar"
           }
          ],
          "barpolar": [
           {
            "marker": {
             "line": {
              "color": "#E5ECF6",
              "width": 0.5
             },
             "pattern": {
              "fillmode": "overlay",
              "size": 10,
              "solidity": 0.2
             }
            },
            "type": "barpolar"
           }
          ],
          "carpet": [
           {
            "aaxis": {
             "endlinecolor": "#2a3f5f",
             "gridcolor": "white",
             "linecolor": "white",
             "minorgridcolor": "white",
             "startlinecolor": "#2a3f5f"
            },
            "baxis": {
             "endlinecolor": "#2a3f5f",
             "gridcolor": "white",
             "linecolor": "white",
             "minorgridcolor": "white",
             "startlinecolor": "#2a3f5f"
            },
            "type": "carpet"
           }
          ],
          "choropleth": [
           {
            "colorbar": {
             "outlinewidth": 0,
             "ticks": ""
            },
            "type": "choropleth"
           }
          ],
          "contour": [
           {
            "colorbar": {
             "outlinewidth": 0,
             "ticks": ""
            },
            "colorscale": [
             [
              0,
              "#0d0887"
             ],
             [
              0.1111111111111111,
              "#46039f"
             ],
             [
              0.2222222222222222,
              "#7201a8"
             ],
             [
              0.3333333333333333,
              "#9c179e"
             ],
             [
              0.4444444444444444,
              "#bd3786"
             ],
             [
              0.5555555555555556,
              "#d8576b"
             ],
             [
              0.6666666666666666,
              "#ed7953"
             ],
             [
              0.7777777777777778,
              "#fb9f3a"
             ],
             [
              0.8888888888888888,
              "#fdca26"
             ],
             [
              1,
              "#f0f921"
             ]
            ],
            "type": "contour"
           }
          ],
          "contourcarpet": [
           {
            "colorbar": {
             "outlinewidth": 0,
             "ticks": ""
            },
            "type": "contourcarpet"
           }
          ],
          "heatmap": [
           {
            "colorbar": {
             "outlinewidth": 0,
             "ticks": ""
            },
            "colorscale": [
             [
              0,
              "#0d0887"
             ],
             [
              0.1111111111111111,
              "#46039f"
             ],
             [
              0.2222222222222222,
              "#7201a8"
             ],
             [
              0.3333333333333333,
              "#9c179e"
             ],
             [
              0.4444444444444444,
              "#bd3786"
             ],
             [
              0.5555555555555556,
              "#d8576b"
             ],
             [
              0.6666666666666666,
              "#ed7953"
             ],
             [
              0.7777777777777778,
              "#fb9f3a"
             ],
             [
              0.8888888888888888,
              "#fdca26"
             ],
             [
              1,
              "#f0f921"
             ]
            ],
            "type": "heatmap"
           }
          ],
          "histogram": [
           {
            "marker": {
             "pattern": {
              "fillmode": "overlay",
              "size": 10,
              "solidity": 0.2
             }
            },
            "type": "histogram"
           }
          ],
          "histogram2d": [
           {
            "colorbar": {
             "outlinewidth": 0,
             "ticks": ""
            },
            "colorscale": [
             [
              0,
              "#0d0887"
             ],
             [
              0.1111111111111111,
              "#46039f"
             ],
             [
              0.2222222222222222,
              "#7201a8"
             ],
             [
              0.3333333333333333,
              "#9c179e"
             ],
             [
              0.4444444444444444,
              "#bd3786"
             ],
             [
              0.5555555555555556,
              "#d8576b"
             ],
             [
              0.6666666666666666,
              "#ed7953"
             ],
             [
              0.7777777777777778,
              "#fb9f3a"
             ],
             [
              0.8888888888888888,
              "#fdca26"
             ],
             [
              1,
              "#f0f921"
             ]
            ],
            "type": "histogram2d"
           }
          ],
          "histogram2dcontour": [
           {
            "colorbar": {
             "outlinewidth": 0,
             "ticks": ""
            },
            "colorscale": [
             [
              0,
              "#0d0887"
             ],
             [
              0.1111111111111111,
              "#46039f"
             ],
             [
              0.2222222222222222,
              "#7201a8"
             ],
             [
              0.3333333333333333,
              "#9c179e"
             ],
             [
              0.4444444444444444,
              "#bd3786"
             ],
             [
              0.5555555555555556,
              "#d8576b"
             ],
             [
              0.6666666666666666,
              "#ed7953"
             ],
             [
              0.7777777777777778,
              "#fb9f3a"
             ],
             [
              0.8888888888888888,
              "#fdca26"
             ],
             [
              1,
              "#f0f921"
             ]
            ],
            "type": "histogram2dcontour"
           }
          ],
          "mesh3d": [
           {
            "colorbar": {
             "outlinewidth": 0,
             "ticks": ""
            },
            "type": "mesh3d"
           }
          ],
          "parcoords": [
           {
            "line": {
             "colorbar": {
              "outlinewidth": 0,
              "ticks": ""
             }
            },
            "type": "parcoords"
           }
          ],
          "pie": [
           {
            "automargin": true,
            "type": "pie"
           }
          ],
          "scatter": [
           {
            "fillpattern": {
             "fillmode": "overlay",
             "size": 10,
             "solidity": 0.2
            },
            "type": "scatter"
           }
          ],
          "scatter3d": [
           {
            "line": {
             "colorbar": {
              "outlinewidth": 0,
              "ticks": ""
             }
            },
            "marker": {
             "colorbar": {
              "outlinewidth": 0,
              "ticks": ""
             }
            },
            "type": "scatter3d"
           }
          ],
          "scattercarpet": [
           {
            "marker": {
             "colorbar": {
              "outlinewidth": 0,
              "ticks": ""
             }
            },
            "type": "scattercarpet"
           }
          ],
          "scattergeo": [
           {
            "marker": {
             "colorbar": {
              "outlinewidth": 0,
              "ticks": ""
             }
            },
            "type": "scattergeo"
           }
          ],
          "scattergl": [
           {
            "marker": {
             "colorbar": {
              "outlinewidth": 0,
              "ticks": ""
             }
            },
            "type": "scattergl"
           }
          ],
          "scattermap": [
           {
            "marker": {
             "colorbar": {
              "outlinewidth": 0,
              "ticks": ""
             }
            },
            "type": "scattermap"
           }
          ],
          "scattermapbox": [
           {
            "marker": {
             "colorbar": {
              "outlinewidth": 0,
              "ticks": ""
             }
            },
            "type": "scattermapbox"
           }
          ],
          "scatterpolar": [
           {
            "marker": {
             "colorbar": {
              "outlinewidth": 0,
              "ticks": ""
             }
            },
            "type": "scatterpolar"
           }
          ],
          "scatterpolargl": [
           {
            "marker": {
             "colorbar": {
              "outlinewidth": 0,
              "ticks": ""
             }
            },
            "type": "scatterpolargl"
           }
          ],
          "scatterternary": [
           {
            "marker": {
             "colorbar": {
              "outlinewidth": 0,
              "ticks": ""
             }
            },
            "type": "scatterternary"
           }
          ],
          "surface": [
           {
            "colorbar": {
             "outlinewidth": 0,
             "ticks": ""
            },
            "colorscale": [
             [
              0,
              "#0d0887"
             ],
             [
              0.1111111111111111,
              "#46039f"
             ],
             [
              0.2222222222222222,
              "#7201a8"
             ],
             [
              0.3333333333333333,
              "#9c179e"
             ],
             [
              0.4444444444444444,
              "#bd3786"
             ],
             [
              0.5555555555555556,
              "#d8576b"
             ],
             [
              0.6666666666666666,
              "#ed7953"
             ],
             [
              0.7777777777777778,
              "#fb9f3a"
             ],
             [
              0.8888888888888888,
              "#fdca26"
             ],
             [
              1,
              "#f0f921"
             ]
            ],
            "type": "surface"
           }
          ],
          "table": [
           {
            "cells": {
             "fill": {
              "color": "#EBF0F8"
             },
             "line": {
              "color": "white"
             }
            },
            "header": {
             "fill": {
              "color": "#C8D4E3"
             },
             "line": {
              "color": "white"
             }
            },
            "type": "table"
           }
          ]
         },
         "layout": {
          "annotationdefaults": {
           "arrowcolor": "#2a3f5f",
           "arrowhead": 0,
           "arrowwidth": 1
          },
          "autotypenumbers": "strict",
          "coloraxis": {
           "colorbar": {
            "outlinewidth": 0,
            "ticks": ""
           }
          },
          "colorscale": {
           "diverging": [
            [
             0,
             "#8e0152"
            ],
            [
             0.1,
             "#c51b7d"
            ],
            [
             0.2,
             "#de77ae"
            ],
            [
             0.3,
             "#f1b6da"
            ],
            [
             0.4,
             "#fde0ef"
            ],
            [
             0.5,
             "#f7f7f7"
            ],
            [
             0.6,
             "#e6f5d0"
            ],
            [
             0.7,
             "#b8e186"
            ],
            [
             0.8,
             "#7fbc41"
            ],
            [
             0.9,
             "#4d9221"
            ],
            [
             1,
             "#276419"
            ]
           ],
           "sequential": [
            [
             0,
             "#0d0887"
            ],
            [
             0.1111111111111111,
             "#46039f"
            ],
            [
             0.2222222222222222,
             "#7201a8"
            ],
            [
             0.3333333333333333,
             "#9c179e"
            ],
            [
             0.4444444444444444,
             "#bd3786"
            ],
            [
             0.5555555555555556,
             "#d8576b"
            ],
            [
             0.6666666666666666,
             "#ed7953"
            ],
            [
             0.7777777777777778,
             "#fb9f3a"
            ],
            [
             0.8888888888888888,
             "#fdca26"
            ],
            [
             1,
             "#f0f921"
            ]
           ],
           "sequentialminus": [
            [
             0,
             "#0d0887"
            ],
            [
             0.1111111111111111,
             "#46039f"
            ],
            [
             0.2222222222222222,
             "#7201a8"
            ],
            [
             0.3333333333333333,
             "#9c179e"
            ],
            [
             0.4444444444444444,
             "#bd3786"
            ],
            [
             0.5555555555555556,
             "#d8576b"
            ],
            [
             0.6666666666666666,
             "#ed7953"
            ],
            [
             0.7777777777777778,
             "#fb9f3a"
            ],
            [
             0.8888888888888888,
             "#fdca26"
            ],
            [
             1,
             "#f0f921"
            ]
           ]
          },
          "colorway": [
           "#636efa",
           "#EF553B",
           "#00cc96",
           "#ab63fa",
           "#FFA15A",
           "#19d3f3",
           "#FF6692",
           "#B6E880",
           "#FF97FF",
           "#FECB52"
          ],
          "font": {
           "color": "#2a3f5f"
          },
          "geo": {
           "bgcolor": "white",
           "lakecolor": "white",
           "landcolor": "#E5ECF6",
           "showlakes": true,
           "showland": true,
           "subunitcolor": "white"
          },
          "hoverlabel": {
           "align": "left"
          },
          "hovermode": "closest",
          "mapbox": {
           "style": "light"
          },
          "paper_bgcolor": "white",
          "plot_bgcolor": "#E5ECF6",
          "polar": {
           "angularaxis": {
            "gridcolor": "white",
            "linecolor": "white",
            "ticks": ""
           },
           "bgcolor": "#E5ECF6",
           "radialaxis": {
            "gridcolor": "white",
            "linecolor": "white",
            "ticks": ""
           }
          },
          "scene": {
           "xaxis": {
            "backgroundcolor": "#E5ECF6",
            "gridcolor": "white",
            "gridwidth": 2,
            "linecolor": "white",
            "showbackground": true,
            "ticks": "",
            "zerolinecolor": "white"
           },
           "yaxis": {
            "backgroundcolor": "#E5ECF6",
            "gridcolor": "white",
            "gridwidth": 2,
            "linecolor": "white",
            "showbackground": true,
            "ticks": "",
            "zerolinecolor": "white"
           },
           "zaxis": {
            "backgroundcolor": "#E5ECF6",
            "gridcolor": "white",
            "gridwidth": 2,
            "linecolor": "white",
            "showbackground": true,
            "ticks": "",
            "zerolinecolor": "white"
           }
          },
          "shapedefaults": {
           "line": {
            "color": "#2a3f5f"
           }
          },
          "ternary": {
           "aaxis": {
            "gridcolor": "white",
            "linecolor": "white",
            "ticks": ""
           },
           "baxis": {
            "gridcolor": "white",
            "linecolor": "white",
            "ticks": ""
           },
           "bgcolor": "#E5ECF6",
           "caxis": {
            "gridcolor": "white",
            "linecolor": "white",
            "ticks": ""
           }
          },
          "title": {
           "x": 0.05
          },
          "xaxis": {
           "automargin": true,
           "gridcolor": "white",
           "linecolor": "white",
           "ticks": "",
           "title": {
            "standoff": 15
           },
           "zerolinecolor": "white",
           "zerolinewidth": 2
          },
          "yaxis": {
           "automargin": true,
           "gridcolor": "white",
           "linecolor": "white",
           "ticks": "",
           "title": {
            "standoff": 15
           },
           "zerolinecolor": "white",
           "zerolinewidth": 2
          }
         }
        },
        "title": {
         "text": "Electricity Dispatch"
        },
        "xaxis": {
         "title": {
          "text": "Time"
         }
        },
        "yaxis": {
         "title": {
          "text": "Power (MW)"
         }
        }
       }
      }
     },
     "metadata": {},
     "output_type": "display_data"
    }
   ],
   "source": [
    "import plotly.graph_objects as go\n",
    "\n",
    "fig = go.Figure()\n",
    "\n",
    "fig.add_trace(go.Scatter(x=network.snapshots[:96], y=network.loads_t.p['load'][:96], mode='lines', name='demand', line=dict(color='black')))\n",
    "fig.add_trace(go.Scatter(x=network.snapshots[:96], y=network.generators_t.p['onshorewind'][:96], mode='lines', name='onshore wind', line=dict(color='blue')))\n",
    "fig.add_trace(go.Scatter(x=network.snapshots[:96], y=network.generators_t.p['solar'][:96], mode='lines', name='solar', line=dict(color='orange')))\n",
    "fig.add_trace(go.Scatter(x=network.snapshots[:96], y=network.generators_t.p['OCGT'][:96], mode='lines', name='gas (OCGT)', line=dict(color='brown')))\n",
    "fig.add_trace(go.Scatter(x=network.snapshots[:96], y=network.generators_t.p['Coal'][:96], mode='lines', name='coal', line=dict(color='grey')))\n",
    "\n",
    "fig.update_layout(title='Electricity Dispatch',\n",
    "                  xaxis_title='Time',\n",
    "                  yaxis_title='Power (MW)',\n",
    "                  legend=dict(x=0, y=1, traceorder='normal'))\n",
    "\n",
    "fig.show()"
   ]
  },
  {
   "cell_type": "code",
   "execution_count": 57,
   "metadata": {
    "id": "bHDt1K65lh-V",
    "outputId": "3841ada1-21bb-4253-d17e-31c80a641809"
   },
   "outputs": [
    {
     "data": {
      "application/vnd.plotly.v1+json": {
       "config": {
        "plotlyServerURL": "https://plot.ly"
       },
       "data": [
        {
         "labels": [
          "onshore wind",
          "solar",
          "gas (OCGT)",
          "coal"
         ],
         "marker": {
          "colors": [
           "blue",
           "orange",
           "brown, grey"
          ]
         },
         "type": "pie",
         "values": [
          4733891.613432404,
          0,
          5263157.894736864,
          16575216.491830759
         ]
        }
       ],
       "layout": {
        "template": {
         "data": {
          "bar": [
           {
            "error_x": {
             "color": "#2a3f5f"
            },
            "error_y": {
             "color": "#2a3f5f"
            },
            "marker": {
             "line": {
              "color": "#E5ECF6",
              "width": 0.5
             },
             "pattern": {
              "fillmode": "overlay",
              "size": 10,
              "solidity": 0.2
             }
            },
            "type": "bar"
           }
          ],
          "barpolar": [
           {
            "marker": {
             "line": {
              "color": "#E5ECF6",
              "width": 0.5
             },
             "pattern": {
              "fillmode": "overlay",
              "size": 10,
              "solidity": 0.2
             }
            },
            "type": "barpolar"
           }
          ],
          "carpet": [
           {
            "aaxis": {
             "endlinecolor": "#2a3f5f",
             "gridcolor": "white",
             "linecolor": "white",
             "minorgridcolor": "white",
             "startlinecolor": "#2a3f5f"
            },
            "baxis": {
             "endlinecolor": "#2a3f5f",
             "gridcolor": "white",
             "linecolor": "white",
             "minorgridcolor": "white",
             "startlinecolor": "#2a3f5f"
            },
            "type": "carpet"
           }
          ],
          "choropleth": [
           {
            "colorbar": {
             "outlinewidth": 0,
             "ticks": ""
            },
            "type": "choropleth"
           }
          ],
          "contour": [
           {
            "colorbar": {
             "outlinewidth": 0,
             "ticks": ""
            },
            "colorscale": [
             [
              0,
              "#0d0887"
             ],
             [
              0.1111111111111111,
              "#46039f"
             ],
             [
              0.2222222222222222,
              "#7201a8"
             ],
             [
              0.3333333333333333,
              "#9c179e"
             ],
             [
              0.4444444444444444,
              "#bd3786"
             ],
             [
              0.5555555555555556,
              "#d8576b"
             ],
             [
              0.6666666666666666,
              "#ed7953"
             ],
             [
              0.7777777777777778,
              "#fb9f3a"
             ],
             [
              0.8888888888888888,
              "#fdca26"
             ],
             [
              1,
              "#f0f921"
             ]
            ],
            "type": "contour"
           }
          ],
          "contourcarpet": [
           {
            "colorbar": {
             "outlinewidth": 0,
             "ticks": ""
            },
            "type": "contourcarpet"
           }
          ],
          "heatmap": [
           {
            "colorbar": {
             "outlinewidth": 0,
             "ticks": ""
            },
            "colorscale": [
             [
              0,
              "#0d0887"
             ],
             [
              0.1111111111111111,
              "#46039f"
             ],
             [
              0.2222222222222222,
              "#7201a8"
             ],
             [
              0.3333333333333333,
              "#9c179e"
             ],
             [
              0.4444444444444444,
              "#bd3786"
             ],
             [
              0.5555555555555556,
              "#d8576b"
             ],
             [
              0.6666666666666666,
              "#ed7953"
             ],
             [
              0.7777777777777778,
              "#fb9f3a"
             ],
             [
              0.8888888888888888,
              "#fdca26"
             ],
             [
              1,
              "#f0f921"
             ]
            ],
            "type": "heatmap"
           }
          ],
          "histogram": [
           {
            "marker": {
             "pattern": {
              "fillmode": "overlay",
              "size": 10,
              "solidity": 0.2
             }
            },
            "type": "histogram"
           }
          ],
          "histogram2d": [
           {
            "colorbar": {
             "outlinewidth": 0,
             "ticks": ""
            },
            "colorscale": [
             [
              0,
              "#0d0887"
             ],
             [
              0.1111111111111111,
              "#46039f"
             ],
             [
              0.2222222222222222,
              "#7201a8"
             ],
             [
              0.3333333333333333,
              "#9c179e"
             ],
             [
              0.4444444444444444,
              "#bd3786"
             ],
             [
              0.5555555555555556,
              "#d8576b"
             ],
             [
              0.6666666666666666,
              "#ed7953"
             ],
             [
              0.7777777777777778,
              "#fb9f3a"
             ],
             [
              0.8888888888888888,
              "#fdca26"
             ],
             [
              1,
              "#f0f921"
             ]
            ],
            "type": "histogram2d"
           }
          ],
          "histogram2dcontour": [
           {
            "colorbar": {
             "outlinewidth": 0,
             "ticks": ""
            },
            "colorscale": [
             [
              0,
              "#0d0887"
             ],
             [
              0.1111111111111111,
              "#46039f"
             ],
             [
              0.2222222222222222,
              "#7201a8"
             ],
             [
              0.3333333333333333,
              "#9c179e"
             ],
             [
              0.4444444444444444,
              "#bd3786"
             ],
             [
              0.5555555555555556,
              "#d8576b"
             ],
             [
              0.6666666666666666,
              "#ed7953"
             ],
             [
              0.7777777777777778,
              "#fb9f3a"
             ],
             [
              0.8888888888888888,
              "#fdca26"
             ],
             [
              1,
              "#f0f921"
             ]
            ],
            "type": "histogram2dcontour"
           }
          ],
          "mesh3d": [
           {
            "colorbar": {
             "outlinewidth": 0,
             "ticks": ""
            },
            "type": "mesh3d"
           }
          ],
          "parcoords": [
           {
            "line": {
             "colorbar": {
              "outlinewidth": 0,
              "ticks": ""
             }
            },
            "type": "parcoords"
           }
          ],
          "pie": [
           {
            "automargin": true,
            "type": "pie"
           }
          ],
          "scatter": [
           {
            "fillpattern": {
             "fillmode": "overlay",
             "size": 10,
             "solidity": 0.2
            },
            "type": "scatter"
           }
          ],
          "scatter3d": [
           {
            "line": {
             "colorbar": {
              "outlinewidth": 0,
              "ticks": ""
             }
            },
            "marker": {
             "colorbar": {
              "outlinewidth": 0,
              "ticks": ""
             }
            },
            "type": "scatter3d"
           }
          ],
          "scattercarpet": [
           {
            "marker": {
             "colorbar": {
              "outlinewidth": 0,
              "ticks": ""
             }
            },
            "type": "scattercarpet"
           }
          ],
          "scattergeo": [
           {
            "marker": {
             "colorbar": {
              "outlinewidth": 0,
              "ticks": ""
             }
            },
            "type": "scattergeo"
           }
          ],
          "scattergl": [
           {
            "marker": {
             "colorbar": {
              "outlinewidth": 0,
              "ticks": ""
             }
            },
            "type": "scattergl"
           }
          ],
          "scattermap": [
           {
            "marker": {
             "colorbar": {
              "outlinewidth": 0,
              "ticks": ""
             }
            },
            "type": "scattermap"
           }
          ],
          "scattermapbox": [
           {
            "marker": {
             "colorbar": {
              "outlinewidth": 0,
              "ticks": ""
             }
            },
            "type": "scattermapbox"
           }
          ],
          "scatterpolar": [
           {
            "marker": {
             "colorbar": {
              "outlinewidth": 0,
              "ticks": ""
             }
            },
            "type": "scatterpolar"
           }
          ],
          "scatterpolargl": [
           {
            "marker": {
             "colorbar": {
              "outlinewidth": 0,
              "ticks": ""
             }
            },
            "type": "scatterpolargl"
           }
          ],
          "scatterternary": [
           {
            "marker": {
             "colorbar": {
              "outlinewidth": 0,
              "ticks": ""
             }
            },
            "type": "scatterternary"
           }
          ],
          "surface": [
           {
            "colorbar": {
             "outlinewidth": 0,
             "ticks": ""
            },
            "colorscale": [
             [
              0,
              "#0d0887"
             ],
             [
              0.1111111111111111,
              "#46039f"
             ],
             [
              0.2222222222222222,
              "#7201a8"
             ],
             [
              0.3333333333333333,
              "#9c179e"
             ],
             [
              0.4444444444444444,
              "#bd3786"
             ],
             [
              0.5555555555555556,
              "#d8576b"
             ],
             [
              0.6666666666666666,
              "#ed7953"
             ],
             [
              0.7777777777777778,
              "#fb9f3a"
             ],
             [
              0.8888888888888888,
              "#fdca26"
             ],
             [
              1,
              "#f0f921"
             ]
            ],
            "type": "surface"
           }
          ],
          "table": [
           {
            "cells": {
             "fill": {
              "color": "#EBF0F8"
             },
             "line": {
              "color": "white"
             }
            },
            "header": {
             "fill": {
              "color": "#C8D4E3"
             },
             "line": {
              "color": "white"
             }
            },
            "type": "table"
           }
          ]
         },
         "layout": {
          "annotationdefaults": {
           "arrowcolor": "#2a3f5f",
           "arrowhead": 0,
           "arrowwidth": 1
          },
          "autotypenumbers": "strict",
          "coloraxis": {
           "colorbar": {
            "outlinewidth": 0,
            "ticks": ""
           }
          },
          "colorscale": {
           "diverging": [
            [
             0,
             "#8e0152"
            ],
            [
             0.1,
             "#c51b7d"
            ],
            [
             0.2,
             "#de77ae"
            ],
            [
             0.3,
             "#f1b6da"
            ],
            [
             0.4,
             "#fde0ef"
            ],
            [
             0.5,
             "#f7f7f7"
            ],
            [
             0.6,
             "#e6f5d0"
            ],
            [
             0.7,
             "#b8e186"
            ],
            [
             0.8,
             "#7fbc41"
            ],
            [
             0.9,
             "#4d9221"
            ],
            [
             1,
             "#276419"
            ]
           ],
           "sequential": [
            [
             0,
             "#0d0887"
            ],
            [
             0.1111111111111111,
             "#46039f"
            ],
            [
             0.2222222222222222,
             "#7201a8"
            ],
            [
             0.3333333333333333,
             "#9c179e"
            ],
            [
             0.4444444444444444,
             "#bd3786"
            ],
            [
             0.5555555555555556,
             "#d8576b"
            ],
            [
             0.6666666666666666,
             "#ed7953"
            ],
            [
             0.7777777777777778,
             "#fb9f3a"
            ],
            [
             0.8888888888888888,
             "#fdca26"
            ],
            [
             1,
             "#f0f921"
            ]
           ],
           "sequentialminus": [
            [
             0,
             "#0d0887"
            ],
            [
             0.1111111111111111,
             "#46039f"
            ],
            [
             0.2222222222222222,
             "#7201a8"
            ],
            [
             0.3333333333333333,
             "#9c179e"
            ],
            [
             0.4444444444444444,
             "#bd3786"
            ],
            [
             0.5555555555555556,
             "#d8576b"
            ],
            [
             0.6666666666666666,
             "#ed7953"
            ],
            [
             0.7777777777777778,
             "#fb9f3a"
            ],
            [
             0.8888888888888888,
             "#fdca26"
            ],
            [
             1,
             "#f0f921"
            ]
           ]
          },
          "colorway": [
           "#636efa",
           "#EF553B",
           "#00cc96",
           "#ab63fa",
           "#FFA15A",
           "#19d3f3",
           "#FF6692",
           "#B6E880",
           "#FF97FF",
           "#FECB52"
          ],
          "font": {
           "color": "#2a3f5f"
          },
          "geo": {
           "bgcolor": "white",
           "lakecolor": "white",
           "landcolor": "#E5ECF6",
           "showlakes": true,
           "showland": true,
           "subunitcolor": "white"
          },
          "hoverlabel": {
           "align": "left"
          },
          "hovermode": "closest",
          "mapbox": {
           "style": "light"
          },
          "paper_bgcolor": "white",
          "plot_bgcolor": "#E5ECF6",
          "polar": {
           "angularaxis": {
            "gridcolor": "white",
            "linecolor": "white",
            "ticks": ""
           },
           "bgcolor": "#E5ECF6",
           "radialaxis": {
            "gridcolor": "white",
            "linecolor": "white",
            "ticks": ""
           }
          },
          "scene": {
           "xaxis": {
            "backgroundcolor": "#E5ECF6",
            "gridcolor": "white",
            "gridwidth": 2,
            "linecolor": "white",
            "showbackground": true,
            "ticks": "",
            "zerolinecolor": "white"
           },
           "yaxis": {
            "backgroundcolor": "#E5ECF6",
            "gridcolor": "white",
            "gridwidth": 2,
            "linecolor": "white",
            "showbackground": true,
            "ticks": "",
            "zerolinecolor": "white"
           },
           "zaxis": {
            "backgroundcolor": "#E5ECF6",
            "gridcolor": "white",
            "gridwidth": 2,
            "linecolor": "white",
            "showbackground": true,
            "ticks": "",
            "zerolinecolor": "white"
           }
          },
          "shapedefaults": {
           "line": {
            "color": "#2a3f5f"
           }
          },
          "ternary": {
           "aaxis": {
            "gridcolor": "white",
            "linecolor": "white",
            "ticks": ""
           },
           "baxis": {
            "gridcolor": "white",
            "linecolor": "white",
            "ticks": ""
           },
           "bgcolor": "#E5ECF6",
           "caxis": {
            "gridcolor": "white",
            "linecolor": "white",
            "ticks": ""
           }
          },
          "title": {
           "x": 0.05
          },
          "xaxis": {
           "automargin": true,
           "gridcolor": "white",
           "linecolor": "white",
           "ticks": "",
           "title": {
            "standoff": 15
           },
           "zerolinecolor": "white",
           "zerolinewidth": 2
          },
          "yaxis": {
           "automargin": true,
           "gridcolor": "white",
           "linecolor": "white",
           "ticks": "",
           "title": {
            "standoff": 15
           },
           "zerolinecolor": "white",
           "zerolinewidth": 2
          }
         }
        },
        "title": {
         "text": "Electricity mix"
        }
       }
      }
     },
     "metadata": {},
     "output_type": "display_data"
    }
   ],
   "source": [
    "import plotly.graph_objects as go\n",
    "\n",
    "labels = ['onshore wind', 'solar', 'gas (OCGT)', 'coal']\n",
    "sizes = [network.generators_t.p['onshorewind'].sum(),\n",
    "                 network.generators_t.p['solar'].sum(),\n",
    "                 network.generators_t.p['OCGT'].sum(),\n",
    "                 network.generators_t.p['Coal'].sum()]\n",
    "\n",
    "colors = ['blue', 'orange', 'brown, grey']\n",
    "\n",
    "fig = go.Figure(data=[go.Pie(labels=labels, values=sizes, marker=dict(colors=colors))])\n",
    "\n",
    "fig.update_layout(title='Electricity mix')\n",
    "\n",
    "fig.show()\n"
   ]
  },
  {
   "cell_type": "markdown",
   "metadata": {
    "id": "GWG3GAgWlh-V"
   },
   "source": [
    "We can add a global CO2 constraint and solve again."
   ]
  },
  {
   "cell_type": "code",
   "execution_count": 46,
   "metadata": {
    "id": "6UWANALtlh-W"
   },
   "outputs": [
    {
     "name": "stderr",
     "output_type": "stream",
     "text": [
      "WARNING:pypsa.consistency:The following buses have carriers which are not defined:\n",
      "Index(['electricity bus'], dtype='object', name='Bus')\n",
      "WARNING:pypsa.consistency:The following generators have carriers which are not defined:\n",
      "Index(['Coal'], dtype='object', name='Generator')\n",
      "INFO:linopy.model: Solve problem using Gurobi solver\n",
      "INFO:linopy.io:Writing objective.\n",
      "Writing constraints.: 100%|\u001b[38;2;128;191;255m██████████\u001b[0m| 6/6 [00:00<00:00, 46.05it/s]\n",
      "Writing continuous variables.: 100%|\u001b[38;2;128;191;255m██████████\u001b[0m| 2/2 [00:00<00:00, 93.95it/s]\n",
      "INFO:linopy.io: Writing time: 0.17s\n"
     ]
    },
    {
     "name": "stdout",
     "output_type": "stream",
     "text": [
      "Set parameter Username\n"
     ]
    },
    {
     "name": "stderr",
     "output_type": "stream",
     "text": [
      "INFO:gurobipy:Set parameter Username\n"
     ]
    },
    {
     "name": "stdout",
     "output_type": "stream",
     "text": [
      "Academic license - for non-commercial use only - expires 2025-10-16\n"
     ]
    },
    {
     "name": "stderr",
     "output_type": "stream",
     "text": [
      "INFO:gurobipy:Academic license - for non-commercial use only - expires 2025-10-16\n"
     ]
    },
    {
     "name": "stdout",
     "output_type": "stream",
     "text": [
      "Read LP format model from file /private/var/folders/j2/tx7xgp1d11n3lnbvkls0cjsw0000gn/T/linopy-problem-anqby5y6.lp\n"
     ]
    },
    {
     "name": "stderr",
     "output_type": "stream",
     "text": [
      "INFO:gurobipy:Read LP format model from file /private/var/folders/j2/tx7xgp1d11n3lnbvkls0cjsw0000gn/T/linopy-problem-anqby5y6.lp\n"
     ]
    },
    {
     "name": "stdout",
     "output_type": "stream",
     "text": [
      "Reading time = 0.07 seconds\n"
     ]
    },
    {
     "name": "stderr",
     "output_type": "stream",
     "text": [
      "INFO:gurobipy:Reading time = 0.07 seconds\n"
     ]
    },
    {
     "name": "stdout",
     "output_type": "stream",
     "text": [
      "obj: 78845 rows, 35044 columns, 144544 nonzeros\n"
     ]
    },
    {
     "name": "stderr",
     "output_type": "stream",
     "text": [
      "INFO:gurobipy:obj: 78845 rows, 35044 columns, 144544 nonzeros\n"
     ]
    },
    {
     "name": "stdout",
     "output_type": "stream",
     "text": [
      "Gurobi Optimizer version 11.0.0 build v11.0.0rc2 (mac64[arm] - Darwin 23.2.0 23C64)\n"
     ]
    },
    {
     "name": "stderr",
     "output_type": "stream",
     "text": [
      "INFO:gurobipy:Gurobi Optimizer version 11.0.0 build v11.0.0rc2 (mac64[arm] - Darwin 23.2.0 23C64)\n"
     ]
    },
    {
     "name": "stdout",
     "output_type": "stream",
     "text": [
      "\n"
     ]
    },
    {
     "name": "stderr",
     "output_type": "stream",
     "text": [
      "INFO:gurobipy:\n"
     ]
    },
    {
     "name": "stdout",
     "output_type": "stream",
     "text": [
      "CPU model: Apple M3 Pro\n"
     ]
    },
    {
     "name": "stderr",
     "output_type": "stream",
     "text": [
      "INFO:gurobipy:CPU model: Apple M3 Pro\n"
     ]
    },
    {
     "name": "stdout",
     "output_type": "stream",
     "text": [
      "Thread count: 11 physical cores, 11 logical processors, using up to 11 threads\n"
     ]
    },
    {
     "name": "stderr",
     "output_type": "stream",
     "text": [
      "INFO:gurobipy:Thread count: 11 physical cores, 11 logical processors, using up to 11 threads\n"
     ]
    },
    {
     "name": "stdout",
     "output_type": "stream",
     "text": [
      "\n"
     ]
    },
    {
     "name": "stderr",
     "output_type": "stream",
     "text": [
      "INFO:gurobipy:\n"
     ]
    },
    {
     "name": "stdout",
     "output_type": "stream",
     "text": [
      "Optimize a model with 78845 rows, 35044 columns and 144544 nonzeros\n"
     ]
    },
    {
     "name": "stderr",
     "output_type": "stream",
     "text": [
      "INFO:gurobipy:Optimize a model with 78845 rows, 35044 columns and 144544 nonzeros\n"
     ]
    },
    {
     "name": "stdout",
     "output_type": "stream",
     "text": [
      "Model fingerprint: 0x2a6bf280\n"
     ]
    },
    {
     "name": "stderr",
     "output_type": "stream",
     "text": [
      "INFO:gurobipy:Model fingerprint: 0x2a6bf280\n"
     ]
    },
    {
     "name": "stdout",
     "output_type": "stream",
     "text": [
      "Coefficient statistics:\n"
     ]
    },
    {
     "name": "stderr",
     "output_type": "stream",
     "text": [
      "INFO:gurobipy:Coefficient statistics:\n"
     ]
    },
    {
     "name": "stdout",
     "output_type": "stream",
     "text": [
      "  Matrix range     [1e-03, 1e+00]\n"
     ]
    },
    {
     "name": "stderr",
     "output_type": "stream",
     "text": [
      "INFO:gurobipy:  Matrix range     [1e-03, 1e+00]\n"
     ]
    },
    {
     "name": "stdout",
     "output_type": "stream",
     "text": [
      "  Objective range  [3e+01, 7e+08]\n"
     ]
    },
    {
     "name": "stderr",
     "output_type": "stream",
     "text": [
      "INFO:gurobipy:  Objective range  [3e+01, 7e+08]\n"
     ]
    },
    {
     "name": "stdout",
     "output_type": "stream",
     "text": [
      "  Bounds range     [0e+00, 0e+00]\n"
     ]
    },
    {
     "name": "stderr",
     "output_type": "stream",
     "text": [
      "INFO:gurobipy:  Bounds range     [0e+00, 0e+00]\n"
     ]
    },
    {
     "name": "stdout",
     "output_type": "stream",
     "text": [
      "  RHS range        [2e+03, 1e+06]\n"
     ]
    },
    {
     "name": "stderr",
     "output_type": "stream",
     "text": [
      "INFO:gurobipy:  RHS range        [2e+03, 1e+06]\n"
     ]
    },
    {
     "name": "stdout",
     "output_type": "stream",
     "text": [
      "Presolve removed 39424 rows and 4380 columns\n"
     ]
    },
    {
     "name": "stderr",
     "output_type": "stream",
     "text": [
      "INFO:gurobipy:Presolve removed 39424 rows and 4380 columns\n"
     ]
    },
    {
     "name": "stdout",
     "output_type": "stream",
     "text": [
      "Presolve time: 0.03s\n"
     ]
    },
    {
     "name": "stderr",
     "output_type": "stream",
     "text": [
      "INFO:gurobipy:Presolve time: 0.03s\n"
     ]
    },
    {
     "name": "stdout",
     "output_type": "stream",
     "text": [
      "Presolved: 39421 rows, 30664 columns, 100740 nonzeros\n"
     ]
    },
    {
     "name": "stderr",
     "output_type": "stream",
     "text": [
      "INFO:gurobipy:Presolved: 39421 rows, 30664 columns, 100740 nonzeros\n"
     ]
    },
    {
     "name": "stdout",
     "output_type": "stream",
     "text": [
      "\n"
     ]
    },
    {
     "name": "stderr",
     "output_type": "stream",
     "text": [
      "INFO:gurobipy:\n"
     ]
    },
    {
     "name": "stdout",
     "output_type": "stream",
     "text": [
      "Concurrent LP optimizer: primal simplex, dual simplex, and barrier\n"
     ]
    },
    {
     "name": "stderr",
     "output_type": "stream",
     "text": [
      "INFO:gurobipy:Concurrent LP optimizer: primal simplex, dual simplex, and barrier\n"
     ]
    },
    {
     "name": "stdout",
     "output_type": "stream",
     "text": [
      "Showing barrier log only...\n"
     ]
    },
    {
     "name": "stderr",
     "output_type": "stream",
     "text": [
      "INFO:gurobipy:Showing barrier log only...\n"
     ]
    },
    {
     "name": "stdout",
     "output_type": "stream",
     "text": [
      "\n"
     ]
    },
    {
     "name": "stderr",
     "output_type": "stream",
     "text": [
      "INFO:gurobipy:\n"
     ]
    },
    {
     "name": "stdout",
     "output_type": "stream",
     "text": [
      "Ordering time: 0.00s\n"
     ]
    },
    {
     "name": "stderr",
     "output_type": "stream",
     "text": [
      "INFO:gurobipy:Ordering time: 0.00s\n"
     ]
    },
    {
     "name": "stdout",
     "output_type": "stream",
     "text": [
      "\n"
     ]
    },
    {
     "name": "stderr",
     "output_type": "stream",
     "text": [
      "INFO:gurobipy:\n"
     ]
    },
    {
     "name": "stdout",
     "output_type": "stream",
     "text": [
      "Barrier statistics:\n"
     ]
    },
    {
     "name": "stderr",
     "output_type": "stream",
     "text": [
      "INFO:gurobipy:Barrier statistics:\n"
     ]
    },
    {
     "name": "stdout",
     "output_type": "stream",
     "text": [
      " Dense cols : 4\n"
     ]
    },
    {
     "name": "stderr",
     "output_type": "stream",
     "text": [
      "INFO:gurobipy: Dense cols : 4\n"
     ]
    },
    {
     "name": "stdout",
     "output_type": "stream",
     "text": [
      " AA' NZ     : 7.884e+04\n"
     ]
    },
    {
     "name": "stderr",
     "output_type": "stream",
     "text": [
      "INFO:gurobipy: AA' NZ     : 7.884e+04\n"
     ]
    },
    {
     "name": "stdout",
     "output_type": "stream",
     "text": [
      " Factor NZ  : 2.892e+05 (roughly 30 MB of memory)\n"
     ]
    },
    {
     "name": "stderr",
     "output_type": "stream",
     "text": [
      "INFO:gurobipy: Factor NZ  : 2.892e+05 (roughly 30 MB of memory)\n"
     ]
    },
    {
     "name": "stdout",
     "output_type": "stream",
     "text": [
      " Factor Ops : 2.209e+06 (less than 1 second per iteration)\n"
     ]
    },
    {
     "name": "stderr",
     "output_type": "stream",
     "text": [
      "INFO:gurobipy: Factor Ops : 2.209e+06 (less than 1 second per iteration)\n"
     ]
    },
    {
     "name": "stdout",
     "output_type": "stream",
     "text": [
      " Threads    : 9\n"
     ]
    },
    {
     "name": "stderr",
     "output_type": "stream",
     "text": [
      "INFO:gurobipy: Threads    : 9\n"
     ]
    },
    {
     "name": "stdout",
     "output_type": "stream",
     "text": [
      "\n"
     ]
    },
    {
     "name": "stderr",
     "output_type": "stream",
     "text": [
      "INFO:gurobipy:\n"
     ]
    },
    {
     "name": "stdout",
     "output_type": "stream",
     "text": [
      "                  Objective                Residual\n"
     ]
    },
    {
     "name": "stderr",
     "output_type": "stream",
     "text": [
      "INFO:gurobipy:                  Objective                Residual\n"
     ]
    },
    {
     "name": "stdout",
     "output_type": "stream",
     "text": [
      "Iter       Primal          Dual         Primal    Dual     Compl     Time\n"
     ]
    },
    {
     "name": "stderr",
     "output_type": "stream",
     "text": [
      "INFO:gurobipy:Iter       Primal          Dual         Primal    Dual     Compl     Time\n"
     ]
    },
    {
     "name": "stdout",
     "output_type": "stream",
     "text": [
      "   0   2.79502851e+14  0.00000000e+00  1.54e+09 0.00e+00  2.43e+11     0s\n"
     ]
    },
    {
     "name": "stderr",
     "output_type": "stream",
     "text": [
      "INFO:gurobipy:   0   2.79502851e+14  0.00000000e+00  1.54e+09 0.00e+00  2.43e+11     0s\n"
     ]
    },
    {
     "name": "stdout",
     "output_type": "stream",
     "text": [
      "   1   4.49437146e+14 -6.30533924e+13  2.26e+08 2.58e+05  4.31e+10     0s\n"
     ]
    },
    {
     "name": "stderr",
     "output_type": "stream",
     "text": [
      "INFO:gurobipy:   1   4.49437146e+14 -6.30533924e+13  2.26e+08 2.58e+05  4.31e+10     0s\n"
     ]
    },
    {
     "name": "stdout",
     "output_type": "stream",
     "text": [
      "   2   2.48956780e+14 -7.05374775e+13  2.73e-11 2.74e-06  3.47e+09     0s\n"
     ]
    },
    {
     "name": "stderr",
     "output_type": "stream",
     "text": [
      "INFO:gurobipy:   2   2.48956780e+14 -7.05374775e+13  2.73e-11 2.74e-06  3.47e+09     0s\n"
     ]
    },
    {
     "name": "stdout",
     "output_type": "stream",
     "text": [
      "   3   2.94458992e+13 -1.41314227e+13  3.64e-12 4.10e-08  4.74e+08     0s\n"
     ]
    },
    {
     "name": "stderr",
     "output_type": "stream",
     "text": [
      "INFO:gurobipy:   3   2.94458992e+13 -1.41314227e+13  3.64e-12 4.10e-08  4.74e+08     0s\n"
     ]
    },
    {
     "name": "stdout",
     "output_type": "stream",
     "text": [
      "   4   6.03015150e+12 -1.31958330e+12  3.64e-12 6.56e-07  7.99e+07     0s\n"
     ]
    },
    {
     "name": "stderr",
     "output_type": "stream",
     "text": [
      "INFO:gurobipy:   4   6.03015150e+12 -1.31958330e+12  3.64e-12 6.56e-07  7.99e+07     0s\n"
     ]
    },
    {
     "name": "stdout",
     "output_type": "stream",
     "text": [
      "   5   3.85872364e+12  1.89874093e+11  3.64e-12 6.56e-07  3.99e+07     0s\n"
     ]
    },
    {
     "name": "stderr",
     "output_type": "stream",
     "text": [
      "INFO:gurobipy:   5   3.85872364e+12  1.89874093e+11  3.64e-12 6.56e-07  3.99e+07     0s\n"
     ]
    },
    {
     "name": "stdout",
     "output_type": "stream",
     "text": [
      "   6   3.72721172e+12  7.14844897e+11  3.64e-12 4.77e-07  3.27e+07     0s\n"
     ]
    },
    {
     "name": "stderr",
     "output_type": "stream",
     "text": [
      "INFO:gurobipy:   6   3.72721172e+12  7.14844897e+11  3.64e-12 4.77e-07  3.27e+07     0s\n"
     ]
    },
    {
     "name": "stdout",
     "output_type": "stream",
     "text": [
      "   7   3.13937825e+12  9.99622236e+11  1.82e-12 1.01e-06  2.33e+07     0s\n"
     ]
    },
    {
     "name": "stderr",
     "output_type": "stream",
     "text": [
      "INFO:gurobipy:   7   3.13937825e+12  9.99622236e+11  1.82e-12 1.01e-06  2.33e+07     0s\n"
     ]
    },
    {
     "name": "stdout",
     "output_type": "stream",
     "text": [
      "   8   2.56360093e+12  1.25717469e+12  3.64e-12 9.54e-07  1.42e+07     0s\n"
     ]
    },
    {
     "name": "stderr",
     "output_type": "stream",
     "text": [
      "INFO:gurobipy:   8   2.56360093e+12  1.25717469e+12  3.64e-12 9.54e-07  1.42e+07     0s\n"
     ]
    },
    {
     "name": "stdout",
     "output_type": "stream",
     "text": [
      "   9   2.24328696e+12  1.38200355e+12  2.00e-11 1.13e-06  9.36e+06     0s\n"
     ]
    },
    {
     "name": "stderr",
     "output_type": "stream",
     "text": [
      "INFO:gurobipy:   9   2.24328696e+12  1.38200355e+12  2.00e-11 1.13e-06  9.36e+06     0s\n"
     ]
    },
    {
     "name": "stdout",
     "output_type": "stream",
     "text": [
      "  10   2.10647486e+12  1.50053098e+12  1.46e-11 7.15e-07  6.59e+06     0s\n"
     ]
    },
    {
     "name": "stderr",
     "output_type": "stream",
     "text": [
      "INFO:gurobipy:  10   2.10647486e+12  1.50053098e+12  1.46e-11 7.15e-07  6.59e+06     0s\n"
     ]
    },
    {
     "name": "stdout",
     "output_type": "stream",
     "text": [
      "  11   1.99617361e+12  1.55236571e+12  8.19e-12 2.38e-07  4.82e+06     0s\n"
     ]
    },
    {
     "name": "stderr",
     "output_type": "stream",
     "text": [
      "INFO:gurobipy:  11   1.99617361e+12  1.55236571e+12  8.19e-12 2.38e-07  4.82e+06     0s\n"
     ]
    },
    {
     "name": "stdout",
     "output_type": "stream",
     "text": [
      "  12   1.94703905e+12  1.59578118e+12  6.37e-12 6.56e-07  3.82e+06     0s\n"
     ]
    },
    {
     "name": "stderr",
     "output_type": "stream",
     "text": [
      "INFO:gurobipy:  12   1.94703905e+12  1.59578118e+12  6.37e-12 6.56e-07  3.82e+06     0s\n"
     ]
    },
    {
     "name": "stdout",
     "output_type": "stream",
     "text": [
      "  13   1.87705286e+12  1.65992898e+12  1.64e-11 1.01e-06  2.36e+06     0s\n"
     ]
    },
    {
     "name": "stderr",
     "output_type": "stream",
     "text": [
      "INFO:gurobipy:  13   1.87705286e+12  1.65992898e+12  1.64e-11 1.01e-06  2.36e+06     0s\n"
     ]
    },
    {
     "name": "stdout",
     "output_type": "stream",
     "text": [
      "  14   1.82619909e+12  1.68701738e+12  2.73e-10 3.58e-07  1.51e+06     0s\n"
     ]
    },
    {
     "name": "stderr",
     "output_type": "stream",
     "text": [
      "INFO:gurobipy:  14   1.82619909e+12  1.68701738e+12  2.73e-10 3.58e-07  1.51e+06     0s\n"
     ]
    },
    {
     "name": "stdout",
     "output_type": "stream",
     "text": [
      "  15   1.80015250e+12  1.69773116e+12  1.75e-10 4.77e-07  1.11e+06     0s\n"
     ]
    },
    {
     "name": "stderr",
     "output_type": "stream",
     "text": [
      "INFO:gurobipy:  15   1.80015250e+12  1.69773116e+12  1.75e-10 4.77e-07  1.11e+06     0s\n"
     ]
    },
    {
     "name": "stdout",
     "output_type": "stream",
     "text": [
      "  16   1.78526410e+12  1.71087271e+12  1.16e-10 2.42e-10  8.09e+05     0s\n"
     ]
    },
    {
     "name": "stderr",
     "output_type": "stream",
     "text": [
      "INFO:gurobipy:  16   1.78526410e+12  1.71087271e+12  1.16e-10 2.42e-10  8.09e+05     0s\n"
     ]
    },
    {
     "name": "stdout",
     "output_type": "stream",
     "text": [
      "  17   1.77574294e+12  1.72005283e+12  7.91e-11 1.25e-06  6.05e+05     0s\n"
     ]
    },
    {
     "name": "stderr",
     "output_type": "stream",
     "text": [
      "INFO:gurobipy:  17   1.77574294e+12  1.72005283e+12  7.91e-11 1.25e-06  6.05e+05     0s\n"
     ]
    },
    {
     "name": "stdout",
     "output_type": "stream",
     "text": [
      "  18   1.76840913e+12  1.73306364e+12  1.62e-10 7.75e-07  3.84e+05     0s\n"
     ]
    },
    {
     "name": "stderr",
     "output_type": "stream",
     "text": [
      "INFO:gurobipy:  18   1.76840913e+12  1.73306364e+12  1.62e-10 7.75e-07  3.84e+05     0s\n"
     ]
    },
    {
     "name": "stdout",
     "output_type": "stream",
     "text": [
      "  19   1.76248772e+12  1.73871525e+12  1.57e-10 1.13e-06  2.58e+05     0s\n"
     ]
    },
    {
     "name": "stderr",
     "output_type": "stream",
     "text": [
      "INFO:gurobipy:  19   1.76248772e+12  1.73871525e+12  1.57e-10 1.13e-06  2.58e+05     0s\n"
     ]
    },
    {
     "name": "stdout",
     "output_type": "stream",
     "text": [
      "  20   1.76004027e+12  1.74072048e+12  1.14e-10 7.75e-07  2.10e+05     0s\n"
     ]
    },
    {
     "name": "stderr",
     "output_type": "stream",
     "text": [
      "INFO:gurobipy:  20   1.76004027e+12  1.74072048e+12  1.14e-10 7.75e-07  2.10e+05     0s\n"
     ]
    },
    {
     "name": "stdout",
     "output_type": "stream",
     "text": [
      "  21   1.75789205e+12  1.74351578e+12  7.59e-11 7.15e-07  1.56e+05     0s\n"
     ]
    },
    {
     "name": "stderr",
     "output_type": "stream",
     "text": [
      "INFO:gurobipy:  21   1.75789205e+12  1.74351578e+12  7.59e-11 7.15e-07  1.56e+05     0s\n"
     ]
    },
    {
     "name": "stdout",
     "output_type": "stream",
     "text": [
      "  22   1.75619687e+12  1.74524191e+12  4.59e-11 2.38e-07  1.19e+05     0s\n"
     ]
    },
    {
     "name": "stderr",
     "output_type": "stream",
     "text": [
      "INFO:gurobipy:  22   1.75619687e+12  1.74524191e+12  4.59e-11 2.38e-07  1.19e+05     0s\n"
     ]
    },
    {
     "name": "stdout",
     "output_type": "stream",
     "text": [
      "  23   1.75535011e+12  1.74673468e+12  3.09e-11 5.36e-07  9.37e+04     0s\n"
     ]
    },
    {
     "name": "stderr",
     "output_type": "stream",
     "text": [
      "INFO:gurobipy:  23   1.75535011e+12  1.74673468e+12  3.09e-11 5.36e-07  9.37e+04     0s\n"
     ]
    },
    {
     "name": "stdout",
     "output_type": "stream",
     "text": [
      "  24   1.75499345e+12  1.74964715e+12  2.55e-11 9.54e-07  5.81e+04     0s\n"
     ]
    },
    {
     "name": "stderr",
     "output_type": "stream",
     "text": [
      "INFO:gurobipy:  24   1.75499345e+12  1.74964715e+12  2.55e-11 9.54e-07  5.81e+04     0s\n"
     ]
    },
    {
     "name": "stdout",
     "output_type": "stream",
     "text": [
      "  25   1.75433124e+12  1.75021312e+12  2.10e-09 6.56e-07  4.48e+04     0s\n"
     ]
    },
    {
     "name": "stderr",
     "output_type": "stream",
     "text": [
      "INFO:gurobipy:  25   1.75433124e+12  1.75021312e+12  2.10e-09 6.56e-07  4.48e+04     0s\n"
     ]
    },
    {
     "name": "stdout",
     "output_type": "stream",
     "text": [
      "  26   1.75384571e+12  1.75146730e+12  5.74e-09 2.98e-07  2.59e+04     0s\n"
     ]
    },
    {
     "name": "stderr",
     "output_type": "stream",
     "text": [
      "INFO:gurobipy:  26   1.75384571e+12  1.75146730e+12  5.74e-09 2.98e-07  2.59e+04     0s\n"
     ]
    },
    {
     "name": "stdout",
     "output_type": "stream",
     "text": [
      "  27   1.75355472e+12  1.75199698e+12  9.96e-09 1.37e-06  1.69e+04     0s\n"
     ]
    },
    {
     "name": "stderr",
     "output_type": "stream",
     "text": [
      "INFO:gurobipy:  27   1.75355472e+12  1.75199698e+12  9.96e-09 1.37e-06  1.69e+04     0s\n"
     ]
    },
    {
     "name": "stdout",
     "output_type": "stream",
     "text": [
      "  28   1.75347693e+12  1.75223634e+12  1.14e-08 8.94e-07  1.35e+04     0s\n"
     ]
    },
    {
     "name": "stderr",
     "output_type": "stream",
     "text": [
      "INFO:gurobipy:  28   1.75347693e+12  1.75223634e+12  1.14e-08 8.94e-07  1.35e+04     0s\n"
     ]
    },
    {
     "name": "stdout",
     "output_type": "stream",
     "text": [
      "  29   1.75339967e+12  1.75240002e+12  1.25e-08 1.01e-06  1.09e+04     0s\n"
     ]
    },
    {
     "name": "stderr",
     "output_type": "stream",
     "text": [
      "INFO:gurobipy:  29   1.75339967e+12  1.75240002e+12  1.25e-08 1.01e-06  1.09e+04     0s\n"
     ]
    },
    {
     "name": "stdout",
     "output_type": "stream",
     "text": [
      "  30   1.75337927e+12  1.75257334e+12  1.31e-08 9.54e-07  8.76e+03     0s\n"
     ]
    },
    {
     "name": "stderr",
     "output_type": "stream",
     "text": [
      "INFO:gurobipy:  30   1.75337927e+12  1.75257334e+12  1.31e-08 9.54e-07  8.76e+03     0s\n"
     ]
    },
    {
     "name": "stdout",
     "output_type": "stream",
     "text": [
      "  31   1.75336707e+12  1.75274953e+12  1.33e-08 1.01e-06  6.71e+03     0s\n"
     ]
    },
    {
     "name": "stderr",
     "output_type": "stream",
     "text": [
      "INFO:gurobipy:  31   1.75336707e+12  1.75274953e+12  1.33e-08 1.01e-06  6.71e+03     0s\n"
     ]
    },
    {
     "name": "stdout",
     "output_type": "stream",
     "text": [
      "  32   1.75334756e+12  1.75286361e+12  1.37e-08 1.19e-06  5.26e+03     0s\n"
     ]
    },
    {
     "name": "stderr",
     "output_type": "stream",
     "text": [
      "INFO:gurobipy:  32   1.75334756e+12  1.75286361e+12  1.37e-08 1.19e-06  5.26e+03     0s\n"
     ]
    },
    {
     "name": "stdout",
     "output_type": "stream",
     "text": [
      "  33   1.75334435e+12  1.75298073e+12  1.40e-08 1.79e-07  3.95e+03     0s\n"
     ]
    },
    {
     "name": "stderr",
     "output_type": "stream",
     "text": [
      "INFO:gurobipy:  33   1.75334435e+12  1.75298073e+12  1.40e-08 1.79e-07  3.95e+03     0s\n"
     ]
    },
    {
     "name": "stdout",
     "output_type": "stream",
     "text": [
      "  34   1.75333824e+12  1.75322137e+12  1.46e-08 1.07e-06  1.27e+03     0s\n"
     ]
    },
    {
     "name": "stderr",
     "output_type": "stream",
     "text": [
      "INFO:gurobipy:  34   1.75333824e+12  1.75322137e+12  1.46e-08 1.07e-06  1.27e+03     0s\n"
     ]
    },
    {
     "name": "stdout",
     "output_type": "stream",
     "text": [
      "  35   1.75333427e+12  1.75323310e+12  1.55e-08 2.38e-07  1.10e+03     1s\n"
     ]
    },
    {
     "name": "stderr",
     "output_type": "stream",
     "text": [
      "INFO:gurobipy:  35   1.75333427e+12  1.75323310e+12  1.55e-08 2.38e-07  1.10e+03     1s\n"
     ]
    },
    {
     "name": "stdout",
     "output_type": "stream",
     "text": [
      "  36   1.75333269e+12  1.75328134e+12  1.22e-08 3.58e-07  5.58e+02     1s\n"
     ]
    },
    {
     "name": "stderr",
     "output_type": "stream",
     "text": [
      "INFO:gurobipy:  36   1.75333269e+12  1.75328134e+12  1.22e-08 3.58e-07  5.58e+02     1s\n"
     ]
    },
    {
     "name": "stdout",
     "output_type": "stream",
     "text": [
      "  37   1.75333222e+12  1.75330398e+12  3.78e-08 1.31e-06  3.07e+02     1s\n"
     ]
    },
    {
     "name": "stderr",
     "output_type": "stream",
     "text": [
      "INFO:gurobipy:  37   1.75333222e+12  1.75330398e+12  3.78e-08 1.31e-06  3.07e+02     1s\n"
     ]
    },
    {
     "name": "stdout",
     "output_type": "stream",
     "text": [
      "  38   1.75333185e+12  1.75330940e+12  1.31e-08 5.96e-08  2.44e+02     1s\n"
     ]
    },
    {
     "name": "stderr",
     "output_type": "stream",
     "text": [
      "INFO:gurobipy:  38   1.75333185e+12  1.75330940e+12  1.31e-08 5.96e-08  2.44e+02     1s\n"
     ]
    },
    {
     "name": "stdout",
     "output_type": "stream",
     "text": [
      "  39   1.75333165e+12  1.75332493e+12  2.19e-07 1.07e-06  7.31e+01     1s\n"
     ]
    },
    {
     "name": "stderr",
     "output_type": "stream",
     "text": [
      "INFO:gurobipy:  39   1.75333165e+12  1.75332493e+12  2.19e-07 1.07e-06  7.31e+01     1s\n"
     ]
    },
    {
     "name": "stdout",
     "output_type": "stream",
     "text": [
      "  40   1.75333157e+12  1.75332788e+12  3.28e-08 5.36e-07  4.01e+01     1s\n"
     ]
    },
    {
     "name": "stderr",
     "output_type": "stream",
     "text": [
      "INFO:gurobipy:  40   1.75333157e+12  1.75332788e+12  3.28e-08 5.36e-07  4.01e+01     1s\n"
     ]
    },
    {
     "name": "stdout",
     "output_type": "stream",
     "text": [
      "  41   1.75333155e+12  1.75333143e+12  4.58e-10 1.19e-07  1.24e+00     1s\n"
     ]
    },
    {
     "name": "stderr",
     "output_type": "stream",
     "text": [
      "INFO:gurobipy:  41   1.75333155e+12  1.75333143e+12  4.58e-10 1.19e-07  1.24e+00     1s\n"
     ]
    },
    {
     "name": "stdout",
     "output_type": "stream",
     "text": [
      "  42   1.75333154e+12  1.75333153e+12  2.43e-10 7.15e-07  8.12e-02     1s\n"
     ]
    },
    {
     "name": "stderr",
     "output_type": "stream",
     "text": [
      "INFO:gurobipy:  42   1.75333154e+12  1.75333153e+12  2.43e-10 7.15e-07  8.12e-02     1s\n"
     ]
    },
    {
     "name": "stdout",
     "output_type": "stream",
     "text": [
      "  43   1.75333154e+12  1.75333154e+12  6.75e-09 8.94e-07  1.47e-02     1s\n"
     ]
    },
    {
     "name": "stderr",
     "output_type": "stream",
     "text": [
      "INFO:gurobipy:  43   1.75333154e+12  1.75333154e+12  6.75e-09 8.94e-07  1.47e-02     1s\n"
     ]
    },
    {
     "name": "stdout",
     "output_type": "stream",
     "text": [
      "  44   1.75333154e+12  1.75333154e+12  1.74e-07 1.74e-06  1.28e-04     1s\n"
     ]
    },
    {
     "name": "stderr",
     "output_type": "stream",
     "text": [
      "INFO:gurobipy:  44   1.75333154e+12  1.75333154e+12  1.74e-07 1.74e-06  1.28e-04     1s\n"
     ]
    },
    {
     "name": "stdout",
     "output_type": "stream",
     "text": [
      "  45   1.75333154e+12  1.75333154e+12  1.02e-07 6.08e-06  5.07e-10     1s\n"
     ]
    },
    {
     "name": "stderr",
     "output_type": "stream",
     "text": [
      "INFO:gurobipy:  45   1.75333154e+12  1.75333154e+12  1.02e-07 6.08e-06  5.07e-10     1s\n"
     ]
    },
    {
     "name": "stdout",
     "output_type": "stream",
     "text": [
      "\n"
     ]
    },
    {
     "name": "stderr",
     "output_type": "stream",
     "text": [
      "INFO:gurobipy:\n"
     ]
    },
    {
     "name": "stdout",
     "output_type": "stream",
     "text": [
      "Barrier solved model in 45 iterations and 0.68 seconds (0.76 work units)\n"
     ]
    },
    {
     "name": "stderr",
     "output_type": "stream",
     "text": [
      "INFO:gurobipy:Barrier solved model in 45 iterations and 0.68 seconds (0.76 work units)\n"
     ]
    },
    {
     "name": "stdout",
     "output_type": "stream",
     "text": [
      "Optimal objective 1.75333154e+12\n"
     ]
    },
    {
     "name": "stderr",
     "output_type": "stream",
     "text": [
      "INFO:gurobipy:Optimal objective 1.75333154e+12\n"
     ]
    },
    {
     "name": "stdout",
     "output_type": "stream",
     "text": [
      "\n"
     ]
    },
    {
     "name": "stderr",
     "output_type": "stream",
     "text": [
      "INFO:gurobipy:\n"
     ]
    },
    {
     "name": "stdout",
     "output_type": "stream",
     "text": [
      "Crossover log...\n"
     ]
    },
    {
     "name": "stderr",
     "output_type": "stream",
     "text": [
      "INFO:gurobipy:Crossover log...\n"
     ]
    },
    {
     "name": "stdout",
     "output_type": "stream",
     "text": [
      "\n"
     ]
    },
    {
     "name": "stderr",
     "output_type": "stream",
     "text": [
      "INFO:gurobipy:\n"
     ]
    },
    {
     "name": "stdout",
     "output_type": "stream",
     "text": [
      "    4388 DPushes remaining with DInf 0.0000000e+00                 1s\n"
     ]
    },
    {
     "name": "stderr",
     "output_type": "stream",
     "text": [
      "INFO:gurobipy:    4388 DPushes remaining with DInf 0.0000000e+00                 1s\n"
     ]
    },
    {
     "name": "stdout",
     "output_type": "stream",
     "text": [
      "       0 DPushes remaining with DInf 0.0000000e+00                 1s\n"
     ]
    },
    {
     "name": "stderr",
     "output_type": "stream",
     "text": [
      "INFO:gurobipy:       0 DPushes remaining with DInf 0.0000000e+00                 1s\n"
     ]
    },
    {
     "name": "stdout",
     "output_type": "stream",
     "text": [
      "Warning: Markowitz tolerance tightened to 0.5\n"
     ]
    },
    {
     "name": "stderr",
     "output_type": "stream",
     "text": [
      "INFO:gurobipy:Warning: Markowitz tolerance tightened to 0.5\n"
     ]
    },
    {
     "name": "stdout",
     "output_type": "stream",
     "text": [
      "\n"
     ]
    },
    {
     "name": "stderr",
     "output_type": "stream",
     "text": [
      "INFO:gurobipy:\n"
     ]
    },
    {
     "name": "stdout",
     "output_type": "stream",
     "text": [
      "       0 PPushes remaining with PInf 0.0000000e+00                 1s\n"
     ]
    },
    {
     "name": "stderr",
     "output_type": "stream",
     "text": [
      "INFO:gurobipy:       0 PPushes remaining with PInf 0.0000000e+00                 1s\n"
     ]
    },
    {
     "name": "stdout",
     "output_type": "stream",
     "text": [
      "\n"
     ]
    },
    {
     "name": "stderr",
     "output_type": "stream",
     "text": [
      "INFO:gurobipy:\n"
     ]
    },
    {
     "name": "stdout",
     "output_type": "stream",
     "text": [
      "  Push phase complete: Pinf 0.0000000e+00, Dinf 1.5533447e-04      1s\n"
     ]
    },
    {
     "name": "stderr",
     "output_type": "stream",
     "text": [
      "INFO:gurobipy:  Push phase complete: Pinf 0.0000000e+00, Dinf 1.5533447e-04      1s\n"
     ]
    },
    {
     "name": "stdout",
     "output_type": "stream",
     "text": [
      "\n"
     ]
    },
    {
     "name": "stderr",
     "output_type": "stream",
     "text": [
      "INFO:gurobipy:\n"
     ]
    },
    {
     "name": "stdout",
     "output_type": "stream",
     "text": [
      "Iteration    Objective       Primal Inf.    Dual Inf.      Time\n"
     ]
    },
    {
     "name": "stderr",
     "output_type": "stream",
     "text": [
      "INFO:gurobipy:Iteration    Objective       Primal Inf.    Dual Inf.      Time\n"
     ]
    },
    {
     "name": "stdout",
     "output_type": "stream",
     "text": [
      "    4391    1.7533315e+12   0.000000e+00   0.000000e+00      1s\n"
     ]
    },
    {
     "name": "stderr",
     "output_type": "stream",
     "text": [
      "INFO:gurobipy:    4391    1.7533315e+12   0.000000e+00   0.000000e+00      1s\n"
     ]
    },
    {
     "name": "stdout",
     "output_type": "stream",
     "text": [
      "\n"
     ]
    },
    {
     "name": "stderr",
     "output_type": "stream",
     "text": [
      "INFO:gurobipy:\n"
     ]
    },
    {
     "name": "stdout",
     "output_type": "stream",
     "text": [
      "Solved with barrier\n"
     ]
    },
    {
     "name": "stderr",
     "output_type": "stream",
     "text": [
      "INFO:gurobipy:Solved with barrier\n"
     ]
    },
    {
     "name": "stdout",
     "output_type": "stream",
     "text": [
      "    4391    1.7533315e+12   0.000000e+00   0.000000e+00      1s\n"
     ]
    },
    {
     "name": "stderr",
     "output_type": "stream",
     "text": [
      "INFO:gurobipy:    4391    1.7533315e+12   0.000000e+00   0.000000e+00      1s\n"
     ]
    },
    {
     "name": "stdout",
     "output_type": "stream",
     "text": [
      "\n"
     ]
    },
    {
     "name": "stderr",
     "output_type": "stream",
     "text": [
      "INFO:gurobipy:\n"
     ]
    },
    {
     "name": "stdout",
     "output_type": "stream",
     "text": [
      "Solved in 4391 iterations and 1.09 seconds (3.14 work units)\n"
     ]
    },
    {
     "name": "stderr",
     "output_type": "stream",
     "text": [
      "INFO:gurobipy:Solved in 4391 iterations and 1.09 seconds (3.14 work units)\n"
     ]
    },
    {
     "name": "stdout",
     "output_type": "stream",
     "text": [
      "Optimal objective  1.753331538e+12\n"
     ]
    },
    {
     "name": "stderr",
     "output_type": "stream",
     "text": [
      "INFO:gurobipy:Optimal objective  1.753331538e+12\n",
      "INFO:linopy.constants: Optimization successful: \n",
      "Status: ok\n",
      "Termination condition: optimal\n",
      "Solution: 35044 primals, 78845 duals\n",
      "Objective: 1.75e+12\n",
      "Solver model: available\n",
      "Solver message: 2\n",
      "\n",
      "INFO:pypsa.optimization.optimize:The shadow-prices of the constraints Generator-ext-p-lower, Generator-ext-p-upper were not assigned to the network.\n"
     ]
    },
    {
     "data": {
      "text/plain": [
       "('ok', 'optimal')"
      ]
     },
     "execution_count": 46,
     "metadata": {},
     "output_type": "execute_result"
    }
   ],
   "source": [
    "co2_limit=1000000 #tonCO2\n",
    "network.add(\"GlobalConstraint\",\n",
    "            \"co2_limit\",\n",
    "            type=\"primary_energy\",\n",
    "            carrier_attribute=\"co2_emissions\",\n",
    "            sense=\"<=\",\n",
    "            constant=co2_limit)\n",
    "network.optimize(solver_name='gurobi')"
   ]
  },
  {
   "cell_type": "code",
   "execution_count": 47,
   "metadata": {
    "id": "8_oJlpGdlh-W",
    "outputId": "3420bfa2-7528-4fa6-8b96-2df0343fab5d"
   },
   "outputs": [
    {
     "data": {
      "text/plain": [
       "Generator\n",
       "onshorewind    1904.155173\n",
       "solar             0.000000\n",
       "OCGT           2511.055431\n",
       "Coal           1965.190551\n",
       "Name: p_nom_opt, dtype: float64"
      ]
     },
     "execution_count": 47,
     "metadata": {},
     "output_type": "execute_result"
    }
   ],
   "source": [
    "network.generators.p_nom_opt #in MW"
   ]
  },
  {
   "cell_type": "code",
   "execution_count": 48,
   "metadata": {
    "id": "HkKD7FnAlh-X",
    "outputId": "a4001478-76b3-4de9-d59f-cc04fd82be68"
   },
   "outputs": [
    {
     "data": {
      "text/plain": [
       "<matplotlib.legend.Legend at 0x1680f61d0>"
      ]
     },
     "execution_count": 48,
     "metadata": {},
     "output_type": "execute_result"
    },
    {
     "data": {
      "image/png": "[encoded data removed]",
      "text/plain": [
       "<Figure size 640x480 with 1 Axes>"
      ]
     },
     "metadata": {},
     "output_type": "display_data"
    }
   ],
   "source": [
    "plt.plot(network.loads_t.p['load'][0:96], color='black', label='demand')\n",
    "plt.plot(network.generators_t.p['onshorewind'][0:96], color='blue', label='onshore wind')\n",
    "plt.plot(network.generators_t.p['solar'][0:96], color='orange', label='solar')\n",
    "plt.plot(network.generators_t.p['OCGT'][0:96], color='brown', label='gas (OCGT)')\n",
    "plt.legend(fancybox=True, shadow=True, loc='best')"
   ]
  },
  {
   "cell_type": "code",
   "execution_count": 49,
   "metadata": {
    "id": "5DNfcgS7lh-X",
    "outputId": "9e77e31b-3559-4739-a461-1868b5887401"
   },
   "outputs": [
    {
     "data": {
      "text/plain": [
       "Text(0.5, 1.07, 'Electricity mix')"
      ]
     },
     "execution_count": 49,
     "metadata": {},
     "output_type": "execute_result"
    },
    {
     "data": {
      "image/png": "[encoded data removed]",
      "text/plain": [
       "<Figure size 640x480 with 1 Axes>"
      ]
     },
     "metadata": {},
     "output_type": "display_data"
    }
   ],
   "source": [
    "labels = ['onshore wind', 'solar', 'gas (OCGT)' ]\n",
    "sizes = [network.generators_t.p['onshorewind'].sum(),\n",
    "         network.generators_t.p['solar'].sum(),\n",
    "         network.generators_t.p['OCGT'].sum()]\n",
    "\n",
    "colors = ['blue', 'orange', 'brown']\n",
    "\n",
    "plt.pie(sizes,\n",
    "        colors=colors,\n",
    "        labels=labels,\n",
    "        wedgeprops={'linewidth':0})\n",
    "plt.axis('equal')\n",
    "\n",
    "plt.title('Electricity mix', y=1.07)"
   ]
  },
  {
   "cell_type": "markdown",
   "metadata": {
    "id": "2WGDHflklh-Y"
   },
   "source": [
    "# PROJECT INSTRUCTIONS\n",
    "\n",
    "\n",
    "Based on the previous example, you are asked to carry out the following tasks:\n",
    "\n",
    "A. Choose a different country/region/city/system and calculate the optimal capacities for renewable and non-renewable generators. You can add as many technologies as you want. Remember to provide a reference for the cost assumptions. Plot the dispatch time series for a week in summer and winter. Plot the annual electricity mix. Use the duration curves or the capacity factor to investigate the contribution of different technologies.\n",
    "\n",
    "B. Investigate how sensitive the optimum capacity mix is to the global CO2 constraint. E.g., plot the generation mix as a function of the CO2 constraint that you impose. Search for the CO2 emissions in your country (today or in 1990) and refer to the emissions allowance to that historical data.\n",
    "\n",
    "C. Investigate how sensitive your results are to the interannual variability of solar and wind generation. Plot the average capacity and variability obtained for every generator using different weather years.\n",
    "\n",
    "D. Add some storage technology/ies and investigate how they behave and what their impact is on the optimal system configuration. Discuss what strategies is your system using to balance the renewable generation at different time scales (intraday, seasonal, etc.)\n",
    "\n",
    "E. Select one target for decarbonization (i.e., one CO2 allowance limit). What is the CO2 price required to achieve that decarbonization level? Search for information on the existing CO2 tax in your country (if any) and discuss your results.\n",
    "\n",
    "F. Connect your country with, at least, two neighbouring countries. You can connect them using HVAC lines, HVDC links or gas pipelines. Use a linear representation of power flow or gas flow. \n",
    "You can assume that the generation capacities in the neighbouring countries are fixed or optimize the whole system. You can also include fixed interconnection capacities or optimize them with the generators' capacities. Discuss your results.\n",
    "\n",
    "G. Connect the electricity sector with, at least, another sector( e.g. heating or transport), and co-optimize all the sectors. Discuss your results.\n",
    "\n",
    "H. Finally, select one topic that is under discussion in your region. Design and implement some experiment to obtain relevant information regarding that topic. E.g.\n",
    "\n",
    "- What are the consequences if Denmark decides not to install more onshore wind?\n",
    "\n",
    "- Would it be more expensive if France decides to close its nuclear power plants?\n",
    "\n",
    "- What will be the main impacts of the Viking link?\n",
    "\n",
    "- How does gas scarcity impact the optimal system configuration?\n",
    "\n",
    "**Write a short report (maximum length 10 pages) in groups of 4 students including your main findings.**"
   ]
  },
  {
   "cell_type": "markdown",
   "metadata": {
    "id": "aBCHuFcqlh-Z"
   },
   "source": [
    "# Hints"
   ]
  },
  {
   "cell_type": "markdown",
   "metadata": {
    "id": "o6CslGgLlh-Z"
   },
   "source": [
    "_HINT 1: You can add a link with the following code_\n",
    "\n",
    "The efficiency will be 1 if you are connecting two countries and different from one if, for example, you are connecting the electricity bus to the heating bus using a heat pump.\n",
    "Setting p_min_pu=-1 makes the link reversible.\n"
   ]
  },
  {
   "cell_type": "code",
   "execution_count": 50,
   "metadata": {
    "id": "dacbdHP5lh-a",
    "outputId": "9aebeeb8-31dc-4abb-aab7-a20f89b07525"
   },
   "outputs": [
    {
     "name": "stderr",
     "output_type": "stream",
     "text": [
      "WARNING:pypsa.io:The following Link have buses which are not defined:\n",
      "Index(['country a - country b'], dtype='object')\n",
      "WARNING:pypsa.io:The following Link have buses which are not defined:\n",
      "Index(['country a - country b'], dtype='object')\n"
     ]
    },
    {
     "data": {
      "text/plain": [
       "Index(['country a - country b'], dtype='object')"
      ]
     },
     "execution_count": 50,
     "metadata": {},
     "output_type": "execute_result"
    }
   ],
   "source": [
    "network.add(\"Link\",\n",
    "             'country a - country b',\n",
    "             bus0=\"electricity bus country a\",\n",
    "             bus1=\"electricity bus country b\",\n",
    "             p_nom_extendable=True, # capacity is optimised\n",
    "             p_min_pu=-1,\n",
    "             length=600, # length (in km) between country a and country b\n",
    "             capital_cost=400*600) # capital cost * length"
   ]
  },
  {
   "cell_type": "markdown",
   "metadata": {
    "id": "PO1tqlyAlh-b"
   },
   "source": [
    "_HINT 2: You can check the KKT multiplier associated with the constraint with the following code_"
   ]
  },
  {
   "cell_type": "code",
   "execution_count": 51,
   "metadata": {
    "id": "OZ_MbDP3lh-b",
    "outputId": "db8ce0d1-d76b-4d83-cd2d-613b0ef9f1b7"
   },
   "outputs": [
    {
     "name": "stdout",
     "output_type": "stream",
     "text": [
      "GlobalConstraint\n",
      "co2_limit    1000000.0\n",
      "Name: constant, dtype: float64\n",
      "GlobalConstraint\n",
      "co2_limit   -464950.274044\n",
      "Name: mu, dtype: float64\n"
     ]
    }
   ],
   "source": [
    "print(network.global_constraints.constant) # CO2 limit (constant in the constraint)\n",
    "print(network.global_constraints.mu) # CO2 price (Lagrance multiplier in the constraint)"
   ]
  },
  {
   "cell_type": "markdown",
   "metadata": {
    "id": "OcVr88xrlh-c"
   },
   "source": [
    "_HINT 3: You can add a H2 store connected to the electricity bus via an electrolyzer and a fuel cell with the following code_"
   ]
  },
  {
   "cell_type": "code",
   "execution_count": 52,
   "metadata": {
    "id": "klremPFWlh-c"
   },
   "outputs": [
    {
     "ename": "TypeError",
     "evalue": "'Series' object is not callable",
     "output_type": "error",
     "traceback": [
      "\u001b[0;31m---------------------------------------------------------------------------\u001b[0m",
      "\u001b[0;31mTypeError\u001b[0m                                 Traceback (most recent call last)",
      "Cell \u001b[0;32mIn[52], line 16\u001b[0m\n\u001b[1;32m      6\u001b[0m network\u001b[38;5;241m.\u001b[39madd(\u001b[38;5;124m\"\u001b[39m\u001b[38;5;124mBus\u001b[39m\u001b[38;5;124m\"\u001b[39m,\n\u001b[1;32m      7\u001b[0m           \u001b[38;5;124m\"\u001b[39m\u001b[38;5;124mH2\u001b[39m\u001b[38;5;124m\"\u001b[39m,\n\u001b[1;32m      8\u001b[0m           carrier \u001b[38;5;241m=\u001b[39m \u001b[38;5;124m\"\u001b[39m\u001b[38;5;124mH2\u001b[39m\u001b[38;5;124m\"\u001b[39m)\n\u001b[1;32m     10\u001b[0m \u001b[38;5;66;03m#Connect the store to the bus\u001b[39;00m\n\u001b[1;32m     11\u001b[0m network\u001b[38;5;241m.\u001b[39madd(\u001b[38;5;124m\"\u001b[39m\u001b[38;5;124mStore\u001b[39m\u001b[38;5;124m\"\u001b[39m,\n\u001b[1;32m     12\u001b[0m           \u001b[38;5;124m\"\u001b[39m\u001b[38;5;124mH2 Tank\u001b[39m\u001b[38;5;124m\"\u001b[39m,\n\u001b[1;32m     13\u001b[0m           bus \u001b[38;5;241m=\u001b[39m \u001b[38;5;124m\"\u001b[39m\u001b[38;5;124mH2\u001b[39m\u001b[38;5;124m\"\u001b[39m,\n\u001b[1;32m     14\u001b[0m           e_nom_extendable \u001b[38;5;241m=\u001b[39m \u001b[38;5;28;01mTrue\u001b[39;00m,\n\u001b[1;32m     15\u001b[0m           e_cyclic \u001b[38;5;241m=\u001b[39m \u001b[38;5;28;01mTrue\u001b[39;00m,\n\u001b[0;32m---> 16\u001b[0m           capital_cost \u001b[38;5;241m=\u001b[39m \u001b[43mannuity\u001b[49m\u001b[43m(\u001b[49m\u001b[38;5;241;43m25\u001b[39;49m\u001b[43m,\u001b[49m\u001b[43m \u001b[49m\u001b[38;5;241;43m0.07\u001b[39;49m\u001b[43m)\u001b[49m\u001b[38;5;241m*\u001b[39m\u001b[38;5;241m57000\u001b[39m\u001b[38;5;241m*\u001b[39m(\u001b[38;5;241m1\u001b[39m\u001b[38;5;241m+\u001b[39m\u001b[38;5;241m0.011\u001b[39m))\n\u001b[1;32m     18\u001b[0m \u001b[38;5;66;03m#Add the link \"H2 Electrolysis\" that transport energy from the electricity bus (bus0) to the H2 bus (bus1)\u001b[39;00m\n\u001b[1;32m     19\u001b[0m \u001b[38;5;66;03m#with 80% efficiency\u001b[39;00m\n\u001b[1;32m     20\u001b[0m network\u001b[38;5;241m.\u001b[39madd(\u001b[38;5;124m\"\u001b[39m\u001b[38;5;124mLink\u001b[39m\u001b[38;5;124m\"\u001b[39m,\n\u001b[1;32m     21\u001b[0m           \u001b[38;5;124m\"\u001b[39m\u001b[38;5;124mH2 Electrolysis\u001b[39m\u001b[38;5;124m\"\u001b[39m,\n\u001b[1;32m     22\u001b[0m           bus0 \u001b[38;5;241m=\u001b[39m \u001b[38;5;124m\"\u001b[39m\u001b[38;5;124melectricity bus\u001b[39m\u001b[38;5;124m\"\u001b[39m,\n\u001b[0;32m   (...)\u001b[0m\n\u001b[1;32m     25\u001b[0m           efficiency \u001b[38;5;241m=\u001b[39m \u001b[38;5;241m0.8\u001b[39m,\n\u001b[1;32m     26\u001b[0m           capital_cost \u001b[38;5;241m=\u001b[39m annuity(\u001b[38;5;241m25\u001b[39m, \u001b[38;5;241m0.07\u001b[39m)\u001b[38;5;241m*\u001b[39m\u001b[38;5;241m600000\u001b[39m\u001b[38;5;241m*\u001b[39m(\u001b[38;5;241m1\u001b[39m\u001b[38;5;241m+\u001b[39m\u001b[38;5;241m0.05\u001b[39m))\n",
      "\u001b[0;31mTypeError\u001b[0m: 'Series' object is not callable"
     ]
    }
   ],
   "source": [
    "#Create a new carrier\n",
    "network.add(\"Carrier\",\n",
    "              \"H2\")\n",
    "\n",
    "#Create a new bus\n",
    "network.add(\"Bus\",\n",
    "          \"H2\",\n",
    "          carrier = \"H2\")\n",
    "\n",
    "#Connect the store to the bus\n",
    "network.add(\"Store\",\n",
    "          \"H2 Tank\",\n",
    "          bus = \"H2\",\n",
    "          e_nom_extendable = True,\n",
    "          e_cyclic = True,\n",
    "          capital_cost = annuity(25, 0.07)*57000*(1+0.011))\n",
    "\n",
    "#Add the link \"H2 Electrolysis\" that transport energy from the electricity bus (bus0) to the H2 bus (bus1)\n",
    "#with 80% efficiency\n",
    "network.add(\"Link\",\n",
    "          \"H2 Electrolysis\",\n",
    "          bus0 = \"electricity bus\",\n",
    "          bus1 = \"H2\",\n",
    "          p_nom_extendable = True,\n",
    "          efficiency = 0.8,\n",
    "          capital_cost = annuity(25, 0.07)*600000*(1+0.05))\n",
    "\n",
    "#Add the link \"H2 Fuel Cell\" that transports energy from the H2 bus (bus0) to the electricity bus (bus1)\n",
    "#with 58% efficiency\n",
    "network.add(\"Link\",\n",
    "          \"H2 Fuel Cell\",\n",
    "          bus0 = \"H2\",\n",
    "          bus1 = \"electricity bus\",\n",
    "          p_nom_extendable = True,\n",
    "          efficiency = 0.58,\n",
    "          capital_cost = annuity(10, 0.07)*1300000*(1+0.05))\n"
   ]
  },
  {
   "cell_type": "markdown",
   "metadata": {},
   "source": [
    "_HINT 4: You can get inspiration for plotting the flows in the network in the following example_\n",
    "\n",
    "https://pypsa.readthedocs.io/en/latest/examples/flow-plot.html"
   ]
  },
  {
   "cell_type": "code",
   "execution_count": null,
   "metadata": {},
   "outputs": [],
   "source": []
  }
 ],
 "metadata": {
  "colab": {
   "provenance": []
  },
  "kernelspec": {
   "display_name": "Integrated",
   "language": "python",
   "name": "python3"
  },
  "language_info": {
   "codemirror_mode": {
    "name": "ipython",
    "version": 3
   },
   "file_extension": ".py",
   "mimetype": "text/x-python",
   "name": "python",
   "nbconvert_exporter": "python",
   "pygments_lexer": "ipython3",
   "version": "3.11.11"
  }
 },
 "nbformat": 4,
 "nbformat_minor": 4
}
